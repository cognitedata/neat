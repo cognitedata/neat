{
 "cells": [
  {
   "cell_type": "code",
   "execution_count": 10,
   "metadata": {},
   "outputs": [
    {
     "name": "stdout",
     "output_type": "stream",
     "text": [
      "Found .env file in repository root. Loaded variables from .env file.\n",
      "For Neat to improve, we need to collect usage information. You acknowledge and agree that neat may collect usage information.To remove this message run 'neat.opt.in_() or to stop collecting usage information run 'neat.opt.out()'.\n"
     ]
    }
   ],
   "source": [
    "from cognite.neat import NeatSession, get_cognite_client\n",
    "from typing import cast\n",
    "\n",
    "\n",
    "\n",
    "client = get_cognite_client(\".env\")\n",
    "\n",
    "# lst_models= client.data_modeling.spaces.list(limit=-1)\n",
    "# print(lst_models)\n",
    "\n",
    "neat = NeatSession(client)\n"
   ]
  },
  {
   "cell_type": "code",
   "execution_count": null,
   "metadata": {},
   "outputs": [],
   "source": []
  },
  {
   "cell_type": "code",
   "execution_count": 2,
   "metadata": {},
   "outputs": [
    {
     "name": "stdout",
     "output_type": "stream",
     "text": [
      "from_config_definitions\n",
      "filePath cfihos_src/config-xom.yaml\n",
      "config_fpath cfihos_src/config-xom.yaml\n",
      "Excuting the processor\n",
      "2025-03-05 22:00:33,018 cognite.neat._cfihos.processing.processor INFO     MainProcess 722 [Model Processor] Setting up STANDARD-CFIHOS\n",
      "2025-03-05 22:00:33,057 cognite.neat._cfihos.processing.base_model_interpreter INFO     MainProcess 61 [CfihosProcessor:CFIHOS] Collecting entity\n",
      "2025-03-05 22:00:33,070 cognite.neat._cfihos.processing.base_model_interpreter INFO     MainProcess 61 [CfihosProcessor:CFIHOS] Collecting equipment\n",
      "2025-03-05 22:00:33,080 cognite.neat._cfihos.processing.base_model_interpreter INFO     MainProcess 61 [CfihosProcessor:CFIHOS] parent name '' is None, for ECFIHOS-30000311\n",
      "2025-03-05 22:00:33,141 cognite.neat._cfihos.processing.base_model_interpreter INFO     MainProcess 61 [CfihosProcessor:CFIHOS] Collecting tag\n",
      "2025-03-05 22:00:33,150 cognite.neat._cfihos.processing.base_model_interpreter INFO     MainProcess 61 [CfihosProcessor:CFIHOS] parent name '' is None, for TCFIHOS-30000311\n",
      "2025-03-05 22:00:35,892 cognite.neat._cfihos.processing.base_starter INFO     MainProcess 98 STEP 2: Started upserting 1440 container properties ...\n",
      "2025-03-05 22:00:35,893 cognite.neat._cfihos.processing.base_starter INFO     MainProcess 108 STEP 3: Started upserting 54 population views on-top of containers ...\n",
      "2025-03-05 22:00:35,901 cognite.neat._cfihos.processing.base_starter INFO     MainProcess 116 STEP 4: exporting NEAT rules sheet ...\n",
      "2025-03-05 22:00:36,114 cognite.neat._cfihos.common.utils INFO     MainProcess 250 Rules sheet for NEAT CFIHOS Model has been generated successfully\n"
     ]
    }
   ],
   "source": [
    " \n",
    "neat.read.cfihos.from_config_definitions(\"cfihos_src/config-xom.yaml\")"
   ]
  },
  {
   "cell_type": "code",
   "execution_count": null,
   "metadata": {},
   "outputs": [],
   "source": [
    "neat.read.excel(\"/Users/ali.majed@cognitedata.com/projects/neat-xom/neat/cfihos_src/dmsTemplates/cfihos_neat_model.xlsx\")"
   ]
  },
  {
   "cell_type": "code",
   "execution_count": null,
   "metadata": {},
   "outputs": [
    {
     "data": {
      "text/html": [
       "<p>Succeeded with warnings: Read NEAT(verified,physical,power,power_to_consumer_data_model,0.1.0)</p><br /><div>\n",
       "<style scoped>\n",
       "    .dataframe tbody tr th:only-of-type {\n",
       "        vertical-align: middle;\n",
       "    }\n",
       "\n",
       "    .dataframe tbody tr th {\n",
       "        vertical-align: top;\n",
       "    }\n",
       "\n",
       "    .dataframe thead th {\n",
       "        text-align: right;\n",
       "    }\n",
       "</style>\n",
       "<table border=\"1\" class=\"dataframe\">\n",
       "  <thead>\n",
       "    <tr style=\"text-align: right;\">\n",
       "      <th></th>\n",
       "      <th>count</th>\n",
       "    </tr>\n",
       "    <tr>\n",
       "      <th>NeatIssue</th>\n",
       "      <th></th>\n",
       "    </tr>\n",
       "  </thead>\n",
       "  <tbody>\n",
       "    <tr>\n",
       "      <th>DirectRelationMissingSourceWarning</th>\n",
       "      <td>82</td>\n",
       "    </tr>\n",
       "  </tbody>\n",
       "</table>\n",
       "</div><br />Hint: Use the .inspect.issues() for more details."
      ],
      "text/plain": [
       "[DirectRelationMissingSourceWarning(view_id=ViewId(space='power', external_id='CFIHOS_1_10000101_10000201_ext', version='0.1.0'), prop_name='CFIHOS_10000154_rel'),\n",
       " DirectRelationMissingSourceWarning(view_id=ViewId(space='power', external_id='CFIHOS_1_10000101_10000201_ext', version='0.1.0'), prop_name='CFIHOS_10000162_rel'),\n",
       " DirectRelationMissingSourceWarning(view_id=ViewId(space='power', external_id='CFIHOS_1_10000101_10000201_ext', version='0.1.0'), prop_name='CFIHOS_10000146_rel'),\n",
       " DirectRelationMissingSourceWarning(view_id=ViewId(space='power', external_id='CFIHOS_1_10000101_10000201_ext', version='0.1.0'), prop_name='CFIHOS_10000101_rel'),\n",
       " DirectRelationMissingSourceWarning(view_id=ViewId(space='power', external_id='CFIHOS_1_10000101_10000201_ext', version='0.1.0'), prop_name='CFIHOS_10000153_rel'),\n",
       " DirectRelationMissingSourceWarning(view_id=ViewId(space='power', external_id='CFIHOS_1_10000101_10000201_ext', version='0.1.0'), prop_name='CFIHOS_10000112_rel'),\n",
       " DirectRelationMissingSourceWarning(view_id=ViewId(space='power', external_id='CFIHOS_1_10000101_10000201_ext', version='0.1.0'), prop_name='CFIHOS_10000161_rel'),\n",
       " DirectRelationMissingSourceWarning(view_id=ViewId(space='power', external_id='CFIHOS_1_10000101_10000201_ext', version='0.1.0'), prop_name='CFIHOS_10000158_rel'),\n",
       " DirectRelationMissingSourceWarning(view_id=ViewId(space='power', external_id='CFIHOS_1_10000101_10000201_ext', version='0.1.0'), prop_name='CFIHOS_10000159_rel'),\n",
       " DirectRelationMissingSourceWarning(view_id=ViewId(space='power', external_id='CFIHOS_1_10000101_10000201_ext', version='0.1.0'), prop_name='CFIHOS_10000157_rel'),\n",
       " DirectRelationMissingSourceWarning(view_id=ViewId(space='power', external_id='CFIHOS_1_10000101_10000201_ext', version='0.1.0'), prop_name='CFIHOS_10000180_rel'),\n",
       " DirectRelationMissingSourceWarning(view_id=ViewId(space='power', external_id='CFIHOS_1_10000101_10000201_ext', version='0.1.0'), prop_name='CFIHOS_10000128_rel'),\n",
       " DirectRelationMissingSourceWarning(view_id=ViewId(space='power', external_id='CFIHOS_1_10000101_10000201_ext', version='0.1.0'), prop_name='CFIHOS_10000166_rel'),\n",
       " DirectRelationMissingSourceWarning(view_id=ViewId(space='power', external_id='CFIHOS_1_10000101_10000201_ext', version='0.1.0'), prop_name='CFIHOS_10000173_rel'),\n",
       " DirectRelationMissingSourceWarning(view_id=ViewId(space='power', external_id='CFIHOS_1_10000101_10000201_ext', version='0.1.0'), prop_name='CFIHOS_10000174_rel'),\n",
       " DirectRelationMissingSourceWarning(view_id=ViewId(space='power', external_id='CFIHOS_1_10000101_10000201_ext', version='0.1.0'), prop_name='CFIHOS_10000171_rel'),\n",
       " DirectRelationMissingSourceWarning(view_id=ViewId(space='power', external_id='CFIHOS_1_10000101_10000201_ext', version='0.1.0'), prop_name='CFIHOS_10000189_rel'),\n",
       " DirectRelationMissingSourceWarning(view_id=ViewId(space='power', external_id='CFIHOS_1_10000101_10000201_ext', version='0.1.0'), prop_name='CFIHOS_10000181_rel'),\n",
       " DirectRelationMissingSourceWarning(view_id=ViewId(space='power', external_id='CFIHOS_1_10000101_10000201_ext', version='0.1.0'), prop_name='CFIHOS_10000182_rel'),\n",
       " DirectRelationMissingSourceWarning(view_id=ViewId(space='power', external_id='CFIHOS_1_10000101_10000201_ext', version='0.1.0'), prop_name='CFIHOS_10000183_rel'),\n",
       " DirectRelationMissingSourceWarning(view_id=ViewId(space='power', external_id='CFIHOS_1_10000101_10000201_ext', version='0.1.0'), prop_name='CFIHOS_10000184_rel'),\n",
       " DirectRelationMissingSourceWarning(view_id=ViewId(space='power', external_id='CFIHOS_1_10000101_10000201_ext', version='0.1.0'), prop_name='CFIHOS_10000142_rel'),\n",
       " DirectRelationMissingSourceWarning(view_id=ViewId(space='power', external_id='CFIHOS_1_10000201_10000301_ext', version='0.1.0'), prop_name='CFIHOS_10000286_rel'),\n",
       " DirectRelationMissingSourceWarning(view_id=ViewId(space='power', external_id='CFIHOS_1_10000201_10000301_ext', version='0.1.0'), prop_name='CFIHOS_10000256_rel'),\n",
       " DirectRelationMissingSourceWarning(view_id=ViewId(space='power', external_id='CFIHOS_1_10000201_10000301_ext', version='0.1.0'), prop_name='CFIHOS_10000237_rel'),\n",
       " DirectRelationMissingSourceWarning(view_id=ViewId(space='power', external_id='CFIHOS_1_10000201_10000301_ext', version='0.1.0'), prop_name='CFIHOS_10000232_rel'),\n",
       " DirectRelationMissingSourceWarning(view_id=ViewId(space='power', external_id='CFIHOS_1_10000201_10000301_ext', version='0.1.0'), prop_name='CFIHOS_10000284_rel'),\n",
       " DirectRelationMissingSourceWarning(view_id=ViewId(space='power', external_id='CFIHOS_1_10000201_10000301_ext', version='0.1.0'), prop_name='CFIHOS_10000204_rel'),\n",
       " DirectRelationMissingSourceWarning(view_id=ViewId(space='power', external_id='CFIHOS_1_10000201_10000301_ext', version='0.1.0'), prop_name='CFIHOS_10000207_rel'),\n",
       " DirectRelationMissingSourceWarning(view_id=ViewId(space='power', external_id='CFIHOS_1_10000201_10000301_ext', version='0.1.0'), prop_name='CFIHOS_10000253_rel'),\n",
       " DirectRelationMissingSourceWarning(view_id=ViewId(space='power', external_id='CFIHOS_1_10000201_10000301_ext', version='0.1.0'), prop_name='CFIHOS_10000254_rel'),\n",
       " DirectRelationMissingSourceWarning(view_id=ViewId(space='power', external_id='CFIHOS_1_10000201_10000301_ext', version='0.1.0'), prop_name='CFIHOS_10000299_rel'),\n",
       " DirectRelationMissingSourceWarning(view_id=ViewId(space='power', external_id='CFIHOS_1_10000201_10000301_ext', version='0.1.0'), prop_name='CFIHOS_10000234_rel'),\n",
       " DirectRelationMissingSourceWarning(view_id=ViewId(space='power', external_id='CFIHOS_1_10000201_10000301_ext', version='0.1.0'), prop_name='CFIHOS_10000294_rel'),\n",
       " DirectRelationMissingSourceWarning(view_id=ViewId(space='power', external_id='CFIHOS_1_10000201_10000301_ext', version='0.1.0'), prop_name='CFIHOS_10000267_rel'),\n",
       " DirectRelationMissingSourceWarning(view_id=ViewId(space='power', external_id='CFIHOS_1_10000201_10000301_ext', version='0.1.0'), prop_name='CFIHOS_10000280_rel'),\n",
       " DirectRelationMissingSourceWarning(view_id=ViewId(space='power', external_id='CFIHOS_1_10000201_10000301_ext', version='0.1.0'), prop_name='CFIHOS_10000278_rel'),\n",
       " DirectRelationMissingSourceWarning(view_id=ViewId(space='power', external_id='CFIHOS_1_10000201_10000301_ext', version='0.1.0'), prop_name='CFIHOS_10000276_rel'),\n",
       " DirectRelationMissingSourceWarning(view_id=ViewId(space='power', external_id='CFIHOS_1_10000201_10000301_ext', version='0.1.0'), prop_name='CFIHOS_10000281_rel'),\n",
       " DirectRelationMissingSourceWarning(view_id=ViewId(space='power', external_id='CFIHOS_1_10000201_10000301_ext', version='0.1.0'), prop_name='CFIHOS_10000291_rel'),\n",
       " DirectRelationMissingSourceWarning(view_id=ViewId(space='power', external_id='CFIHOS_1_10000201_10000301_ext', version='0.1.0'), prop_name='CFIHOS_10000289_rel'),\n",
       " DirectRelationMissingSourceWarning(view_id=ViewId(space='power', external_id='CFIHOS_1_10000201_10000301_ext', version='0.1.0'), prop_name='CFIHOS_10000214_rel'),\n",
       " DirectRelationMissingSourceWarning(view_id=ViewId(space='power', external_id='CFIHOS_1_10000201_10000301_ext', version='0.1.0'), prop_name='CFIHOS_10000257_rel'),\n",
       " DirectRelationMissingSourceWarning(view_id=ViewId(space='power', external_id='CFIHOS_1_10000201_10000301_ext', version='0.1.0'), prop_name='CFIHOS_10000219_rel'),\n",
       " DirectRelationMissingSourceWarning(view_id=ViewId(space='power', external_id='CFIHOS_1_10000201_10000301_ext', version='0.1.0'), prop_name='CFIHOS_10000252_rel'),\n",
       " DirectRelationMissingSourceWarning(view_id=ViewId(space='power', external_id='CFIHOS_1_10000001_10000101_ext', version='0.1.0'), prop_name='CFIHOS_10000056_rel'),\n",
       " DirectRelationMissingSourceWarning(view_id=ViewId(space='power', external_id='CFIHOS_1_10000001_10000101_ext', version='0.1.0'), prop_name='CFIHOS_10000005_rel'),\n",
       " DirectRelationMissingSourceWarning(view_id=ViewId(space='power', external_id='CFIHOS_1_10000001_10000101_ext', version='0.1.0'), prop_name='CFIHOS_10000064_rel'),\n",
       " DirectRelationMissingSourceWarning(view_id=ViewId(space='power', external_id='CFIHOS_1_10000001_10000101_ext', version='0.1.0'), prop_name='CFIHOS_10000100_rel'),\n",
       " DirectRelationMissingSourceWarning(view_id=ViewId(space='power', external_id='CFIHOS_1_10000001_10000101_ext', version='0.1.0'), prop_name='CFIHOS_10000083_rel'),\n",
       " DirectRelationMissingSourceWarning(view_id=ViewId(space='power', external_id='CFIHOS_1_10000001_10000101_ext', version='0.1.0'), prop_name='CFIHOS_10000031_rel'),\n",
       " DirectRelationMissingSourceWarning(view_id=ViewId(space='power', external_id='CFIHOS_1_10000001_10000101_ext', version='0.1.0'), prop_name='CFIHOS_10000001_rel'),\n",
       " DirectRelationMissingSourceWarning(view_id=ViewId(space='power', external_id='CFIHOS_1_10000001_10000101_ext', version='0.1.0'), prop_name='CFIHOS_10000003_rel'),\n",
       " DirectRelationMissingSourceWarning(view_id=ViewId(space='power', external_id='CFIHOS_1_10000001_10000101_ext', version='0.1.0'), prop_name='CFIHOS_10000047_rel'),\n",
       " DirectRelationMissingSourceWarning(view_id=ViewId(space='power', external_id='CFIHOS_1_10000001_10000101_ext', version='0.1.0'), prop_name='CFIHOS_10000040_rel'),\n",
       " DirectRelationMissingSourceWarning(view_id=ViewId(space='power', external_id='CFIHOS_1_10000001_10000101_ext', version='0.1.0'), prop_name='CFIHOS_10000059_rel'),\n",
       " DirectRelationMissingSourceWarning(view_id=ViewId(space='power', external_id='CFIHOS_1_10000001_10000101_ext', version='0.1.0'), prop_name='CFIHOS_10000053_rel'),\n",
       " DirectRelationMissingSourceWarning(view_id=ViewId(space='power', external_id='CFIHOS_1_10000301_10000401_ext', version='0.1.0'), prop_name='CFIHOS_10000358_rel'),\n",
       " DirectRelationMissingSourceWarning(view_id=ViewId(space='power', external_id='CFIHOS_1_10000301_10000401_ext', version='0.1.0'), prop_name='CFIHOS_10000357_rel'),\n",
       " DirectRelationMissingSourceWarning(view_id=ViewId(space='power', external_id='CFIHOS_1_10000301_10000401_ext', version='0.1.0'), prop_name='CFIHOS_10000355_rel'),\n",
       " DirectRelationMissingSourceWarning(view_id=ViewId(space='power', external_id='CFIHOS_1_10000301_10000401_ext', version='0.1.0'), prop_name='CFIHOS_10000352_rel'),\n",
       " DirectRelationMissingSourceWarning(view_id=ViewId(space='power', external_id='CFIHOS_1_10000301_10000401_ext', version='0.1.0'), prop_name='CFIHOS_10000323_rel'),\n",
       " DirectRelationMissingSourceWarning(view_id=ViewId(space='power', external_id='CFIHOS_1_10000301_10000401_ext', version='0.1.0'), prop_name='CFIHOS_10000320_rel'),\n",
       " DirectRelationMissingSourceWarning(view_id=ViewId(space='power', external_id='CFIHOS_1_10000301_10000401_ext', version='0.1.0'), prop_name='CFIHOS_10000322_rel'),\n",
       " DirectRelationMissingSourceWarning(view_id=ViewId(space='power', external_id='CFIHOS_1_10000301_10000401_ext', version='0.1.0'), prop_name='CFIHOS_10000348_rel'),\n",
       " DirectRelationMissingSourceWarning(view_id=ViewId(space='power', external_id='CFIHOS_1_10000301_10000401_ext', version='0.1.0'), prop_name='CFIHOS_10000331_rel'),\n",
       " DirectRelationMissingSourceWarning(view_id=ViewId(space='power', external_id='CFIHOS_1_10000301_10000401_ext', version='0.1.0'), prop_name='CFIHOS_10000330_rel'),\n",
       " DirectRelationMissingSourceWarning(view_id=ViewId(space='power', external_id='CFIHOS_1_10000301_10000401_ext', version='0.1.0'), prop_name='CFIHOS_10000326_rel'),\n",
       " DirectRelationMissingSourceWarning(view_id=ViewId(space='power', external_id='CFIHOS_1_10000301_10000401_ext', version='0.1.0'), prop_name='CFIHOS_10000328_rel'),\n",
       " DirectRelationMissingSourceWarning(view_id=ViewId(space='power', external_id='CFIHOS_1_10000301_10000401_ext', version='0.1.0'), prop_name='CFIHOS_10000334_rel'),\n",
       " DirectRelationMissingSourceWarning(view_id=ViewId(space='power', external_id='CFIHOS_00000023', version='0.1.0'), prop_name='CFIHOS_10000094_rel'),\n",
       " DirectRelationMissingSourceWarning(view_id=ViewId(space='power', external_id='CFIHOS_00000022', version='0.1.0'), prop_name='CFIHOS_10000207_rel'),\n",
       " DirectRelationMissingSourceWarning(view_id=ViewId(space='power', external_id='CFIHOS_00000022', version='0.1.0'), prop_name='CFIHOS_10000064_rel'),\n",
       " DirectRelationMissingSourceWarning(view_id=ViewId(space='power', external_id='CFIHOS_00000035', version='0.1.0'), prop_name='CFIHOS_10000083_rel'),\n",
       " DirectRelationMissingSourceWarning(view_id=ViewId(space='power', external_id='CFIHOS_00000035', version='0.1.0'), prop_name='CFIHOS_10000086_rel'),\n",
       " DirectRelationMissingSourceWarning(view_id=ViewId(space='power', external_id='CFIHOS_00000035', version='0.1.0'), prop_name='CFIHOS_10000096_rel'),\n",
       " DirectRelationMissingSourceWarning(view_id=ViewId(space='power', external_id='CFIHOS_00000035', version='0.1.0'), prop_name='CFIHOS_10000094_rel'),\n",
       " DirectRelationMissingSourceWarning(view_id=ViewId(space='power', external_id='CFIHOS_00000035', version='0.1.0'), prop_name='CFIHOS_10000087_rel'),\n",
       " DirectRelationMissingSourceWarning(view_id=ViewId(space='power', external_id='CFIHOS_00000032', version='0.1.0'), prop_name='CFIHOS_10000210_rel'),\n",
       " DirectRelationMissingSourceWarning(view_id=ViewId(space='power', external_id='CFIHOS_00000012', version='0.1.0'), prop_name='CFIHOS_10000047_rel'),\n",
       " DirectRelationMissingSourceWarning(view_id=ViewId(space='power', external_id='CFIHOS_00000008', version='0.1.0'), prop_name='CFIHOS_10000047_rel'),\n",
       " DirectRelationMissingSourceWarning(view_id=ViewId(space='power', external_id='CFIHOS_00000028', version='0.1.0'), prop_name='CFIHOS_10000040_rel')]"
      ]
     },
     "execution_count": 2,
     "metadata": {},
     "output_type": "execute_result"
    }
   ],
   "source": [
    "neat.read.excel(\"/Users/ali.majed@cognitedata.com/projects/neat-xom/neat/cfihos_src/dmsTemplates/testing-dr-source-2.xlsx\")"
   ]
  },
  {
   "cell_type": "code",
   "execution_count": 4,
   "metadata": {},
   "outputs": [
    {
     "name": "stdout",
     "output_type": "stream",
     "text": [
      "This action has no effect. Neat no longer supports unverified data models.\n"
     ]
    },
    {
     "data": {
      "text/html": [
       "<p>No issues found</p>"
      ],
      "text/plain": [
       "[]"
      ]
     },
     "execution_count": 4,
     "metadata": {},
     "output_type": "execute_result"
    }
   ],
   "source": [
    "neat.verify()"
   ]
  },
  {
   "cell_type": "code",
   "execution_count": 5,
   "metadata": {},
   "outputs": [
    {
     "data": {
      "text/markdown": [
       "### 82 issues found\n",
       "\n",
       "  * **DirectRelationMissingSourceWarning**: The view ViewId(space='NEAT_CFIHOS_Model_3_containers', external_id='CFIHOS_1_10000101_10000201_ext', version='1').CFIHOS_10000154_rel is a direct relation without a source.\n",
       "    Direct relations in views should point to a single other view, if not, you end up\n",
       "    with a more complex model than necessary.\n",
       "Fix: Create the source view\n",
       "  * **DirectRelationMissingSourceWarning**: The view ViewId(space='NEAT_CFIHOS_Model_3_containers', external_id='CFIHOS_1_10000101_10000201_ext', version='1').CFIHOS_10000162_rel is a direct relation without a source.\n",
       "    Direct relations in views should point to a single other view, if not, you end up\n",
       "    with a more complex model than necessary.\n",
       "Fix: Create the source view\n",
       "  * **DirectRelationMissingSourceWarning**: The view ViewId(space='NEAT_CFIHOS_Model_3_containers', external_id='CFIHOS_1_10000101_10000201_ext', version='1').CFIHOS_10000146_rel is a direct relation without a source.\n",
       "    Direct relations in views should point to a single other view, if not, you end up\n",
       "    with a more complex model than necessary.\n",
       "Fix: Create the source view\n",
       "  * **DirectRelationMissingSourceWarning**: The view ViewId(space='NEAT_CFIHOS_Model_3_containers', external_id='CFIHOS_1_10000101_10000201_ext', version='1').CFIHOS_10000101_rel is a direct relation without a source.\n",
       "    Direct relations in views should point to a single other view, if not, you end up\n",
       "    with a more complex model than necessary.\n",
       "Fix: Create the source view\n",
       "  * **DirectRelationMissingSourceWarning**: The view ViewId(space='NEAT_CFIHOS_Model_3_containers', external_id='CFIHOS_1_10000101_10000201_ext', version='1').CFIHOS_10000153_rel is a direct relation without a source.\n",
       "    Direct relations in views should point to a single other view, if not, you end up\n",
       "    with a more complex model than necessary.\n",
       "Fix: Create the source view\n",
       "  * **DirectRelationMissingSourceWarning**: The view ViewId(space='NEAT_CFIHOS_Model_3_containers', external_id='CFIHOS_1_10000101_10000201_ext', version='1').CFIHOS_10000112_rel is a direct relation without a source.\n",
       "    Direct relations in views should point to a single other view, if not, you end up\n",
       "    with a more complex model than necessary.\n",
       "Fix: Create the source view\n",
       "  * **DirectRelationMissingSourceWarning**: The view ViewId(space='NEAT_CFIHOS_Model_3_containers', external_id='CFIHOS_1_10000101_10000201_ext', version='1').CFIHOS_10000161_rel is a direct relation without a source.\n",
       "    Direct relations in views should point to a single other view, if not, you end up\n",
       "    with a more complex model than necessary.\n",
       "Fix: Create the source view\n",
       "  * **DirectRelationMissingSourceWarning**: The view ViewId(space='NEAT_CFIHOS_Model_3_containers', external_id='CFIHOS_1_10000101_10000201_ext', version='1').CFIHOS_10000158_rel is a direct relation without a source.\n",
       "    Direct relations in views should point to a single other view, if not, you end up\n",
       "    with a more complex model than necessary.\n",
       "Fix: Create the source view\n",
       "  * **DirectRelationMissingSourceWarning**: The view ViewId(space='NEAT_CFIHOS_Model_3_containers', external_id='CFIHOS_1_10000101_10000201_ext', version='1').CFIHOS_10000159_rel is a direct relation without a source.\n",
       "    Direct relations in views should point to a single other view, if not, you end up\n",
       "    with a more complex model than necessary.\n",
       "Fix: Create the source view\n",
       "  * **DirectRelationMissingSourceWarning**: The view ViewId(space='NEAT_CFIHOS_Model_3_containers', external_id='CFIHOS_1_10000101_10000201_ext', version='1').CFIHOS_10000157_rel is a direct relation without a source.\n",
       "    Direct relations in views should point to a single other view, if not, you end up\n",
       "    with a more complex model than necessary.\n",
       "Fix: Create the source view\n",
       "  * **DirectRelationMissingSourceWarning**: The view ViewId(space='NEAT_CFIHOS_Model_3_containers', external_id='CFIHOS_1_10000101_10000201_ext', version='1').CFIHOS_10000180_rel is a direct relation without a source.\n",
       "    Direct relations in views should point to a single other view, if not, you end up\n",
       "    with a more complex model than necessary.\n",
       "Fix: Create the source view\n",
       "  * **DirectRelationMissingSourceWarning**: The view ViewId(space='NEAT_CFIHOS_Model_3_containers', external_id='CFIHOS_1_10000101_10000201_ext', version='1').CFIHOS_10000128_rel is a direct relation without a source.\n",
       "    Direct relations in views should point to a single other view, if not, you end up\n",
       "    with a more complex model than necessary.\n",
       "Fix: Create the source view\n",
       "  * **DirectRelationMissingSourceWarning**: The view ViewId(space='NEAT_CFIHOS_Model_3_containers', external_id='CFIHOS_1_10000101_10000201_ext', version='1').CFIHOS_10000166_rel is a direct relation without a source.\n",
       "    Direct relations in views should point to a single other view, if not, you end up\n",
       "    with a more complex model than necessary.\n",
       "Fix: Create the source view\n",
       "  * **DirectRelationMissingSourceWarning**: The view ViewId(space='NEAT_CFIHOS_Model_3_containers', external_id='CFIHOS_1_10000101_10000201_ext', version='1').CFIHOS_10000173_rel is a direct relation without a source.\n",
       "    Direct relations in views should point to a single other view, if not, you end up\n",
       "    with a more complex model than necessary.\n",
       "Fix: Create the source view\n",
       "  * **DirectRelationMissingSourceWarning**: The view ViewId(space='NEAT_CFIHOS_Model_3_containers', external_id='CFIHOS_1_10000101_10000201_ext', version='1').CFIHOS_10000174_rel is a direct relation without a source.\n",
       "    Direct relations in views should point to a single other view, if not, you end up\n",
       "    with a more complex model than necessary.\n",
       "Fix: Create the source view\n",
       "  * **DirectRelationMissingSourceWarning**: The view ViewId(space='NEAT_CFIHOS_Model_3_containers', external_id='CFIHOS_1_10000101_10000201_ext', version='1').CFIHOS_10000171_rel is a direct relation without a source.\n",
       "    Direct relations in views should point to a single other view, if not, you end up\n",
       "    with a more complex model than necessary.\n",
       "Fix: Create the source view\n",
       "  * **DirectRelationMissingSourceWarning**: The view ViewId(space='NEAT_CFIHOS_Model_3_containers', external_id='CFIHOS_1_10000101_10000201_ext', version='1').CFIHOS_10000189_rel is a direct relation without a source.\n",
       "    Direct relations in views should point to a single other view, if not, you end up\n",
       "    with a more complex model than necessary.\n",
       "Fix: Create the source view\n",
       "  * **DirectRelationMissingSourceWarning**: The view ViewId(space='NEAT_CFIHOS_Model_3_containers', external_id='CFIHOS_1_10000101_10000201_ext', version='1').CFIHOS_10000181_rel is a direct relation without a source.\n",
       "    Direct relations in views should point to a single other view, if not, you end up\n",
       "    with a more complex model than necessary.\n",
       "Fix: Create the source view\n",
       "  * **DirectRelationMissingSourceWarning**: The view ViewId(space='NEAT_CFIHOS_Model_3_containers', external_id='CFIHOS_1_10000101_10000201_ext', version='1').CFIHOS_10000182_rel is a direct relation without a source.\n",
       "    Direct relations in views should point to a single other view, if not, you end up\n",
       "    with a more complex model than necessary.\n",
       "Fix: Create the source view\n",
       "  * **DirectRelationMissingSourceWarning**: The view ViewId(space='NEAT_CFIHOS_Model_3_containers', external_id='CFIHOS_1_10000101_10000201_ext', version='1').CFIHOS_10000183_rel is a direct relation without a source.\n",
       "    Direct relations in views should point to a single other view, if not, you end up\n",
       "    with a more complex model than necessary.\n",
       "Fix: Create the source view\n",
       "  * **DirectRelationMissingSourceWarning**: The view ViewId(space='NEAT_CFIHOS_Model_3_containers', external_id='CFIHOS_1_10000101_10000201_ext', version='1').CFIHOS_10000184_rel is a direct relation without a source.\n",
       "    Direct relations in views should point to a single other view, if not, you end up\n",
       "    with a more complex model than necessary.\n",
       "Fix: Create the source view\n",
       "  * **DirectRelationMissingSourceWarning**: The view ViewId(space='NEAT_CFIHOS_Model_3_containers', external_id='CFIHOS_1_10000101_10000201_ext', version='1').CFIHOS_10000142_rel is a direct relation without a source.\n",
       "    Direct relations in views should point to a single other view, if not, you end up\n",
       "    with a more complex model than necessary.\n",
       "Fix: Create the source view\n",
       "  * **DirectRelationMissingSourceWarning**: The view ViewId(space='NEAT_CFIHOS_Model_3_containers', external_id='CFIHOS_1_10000201_10000301_ext', version='1').CFIHOS_10000286_rel is a direct relation without a source.\n",
       "    Direct relations in views should point to a single other view, if not, you end up\n",
       "    with a more complex model than necessary.\n",
       "Fix: Create the source view\n",
       "  * **DirectRelationMissingSourceWarning**: The view ViewId(space='NEAT_CFIHOS_Model_3_containers', external_id='CFIHOS_1_10000201_10000301_ext', version='1').CFIHOS_10000256_rel is a direct relation without a source.\n",
       "    Direct relations in views should point to a single other view, if not, you end up\n",
       "    with a more complex model than necessary.\n",
       "Fix: Create the source view\n",
       "  * **DirectRelationMissingSourceWarning**: The view ViewId(space='NEAT_CFIHOS_Model_3_containers', external_id='CFIHOS_1_10000201_10000301_ext', version='1').CFIHOS_10000237_rel is a direct relation without a source.\n",
       "    Direct relations in views should point to a single other view, if not, you end up\n",
       "    with a more complex model than necessary.\n",
       "Fix: Create the source view\n",
       "  * **DirectRelationMissingSourceWarning**: The view ViewId(space='NEAT_CFIHOS_Model_3_containers', external_id='CFIHOS_1_10000201_10000301_ext', version='1').CFIHOS_10000232_rel is a direct relation without a source.\n",
       "    Direct relations in views should point to a single other view, if not, you end up\n",
       "    with a more complex model than necessary.\n",
       "Fix: Create the source view\n",
       "  * **DirectRelationMissingSourceWarning**: The view ViewId(space='NEAT_CFIHOS_Model_3_containers', external_id='CFIHOS_1_10000201_10000301_ext', version='1').CFIHOS_10000284_rel is a direct relation without a source.\n",
       "    Direct relations in views should point to a single other view, if not, you end up\n",
       "    with a more complex model than necessary.\n",
       "Fix: Create the source view\n",
       "  * **DirectRelationMissingSourceWarning**: The view ViewId(space='NEAT_CFIHOS_Model_3_containers', external_id='CFIHOS_1_10000201_10000301_ext', version='1').CFIHOS_10000204_rel is a direct relation without a source.\n",
       "    Direct relations in views should point to a single other view, if not, you end up\n",
       "    with a more complex model than necessary.\n",
       "Fix: Create the source view\n",
       "  * **DirectRelationMissingSourceWarning**: The view ViewId(space='NEAT_CFIHOS_Model_3_containers', external_id='CFIHOS_1_10000201_10000301_ext', version='1').CFIHOS_10000207_rel is a direct relation without a source.\n",
       "    Direct relations in views should point to a single other view, if not, you end up\n",
       "    with a more complex model than necessary.\n",
       "Fix: Create the source view\n",
       "  * **DirectRelationMissingSourceWarning**: The view ViewId(space='NEAT_CFIHOS_Model_3_containers', external_id='CFIHOS_1_10000201_10000301_ext', version='1').CFIHOS_10000253_rel is a direct relation without a source.\n",
       "    Direct relations in views should point to a single other view, if not, you end up\n",
       "    with a more complex model than necessary.\n",
       "Fix: Create the source view\n",
       "  * **DirectRelationMissingSourceWarning**: The view ViewId(space='NEAT_CFIHOS_Model_3_containers', external_id='CFIHOS_1_10000201_10000301_ext', version='1').CFIHOS_10000254_rel is a direct relation without a source.\n",
       "    Direct relations in views should point to a single other view, if not, you end up\n",
       "    with a more complex model than necessary.\n",
       "Fix: Create the source view\n",
       "  * **DirectRelationMissingSourceWarning**: The view ViewId(space='NEAT_CFIHOS_Model_3_containers', external_id='CFIHOS_1_10000201_10000301_ext', version='1').CFIHOS_10000299_rel is a direct relation without a source.\n",
       "    Direct relations in views should point to a single other view, if not, you end up\n",
       "    with a more complex model than necessary.\n",
       "Fix: Create the source view\n",
       "  * **DirectRelationMissingSourceWarning**: The view ViewId(space='NEAT_CFIHOS_Model_3_containers', external_id='CFIHOS_1_10000201_10000301_ext', version='1').CFIHOS_10000234_rel is a direct relation without a source.\n",
       "    Direct relations in views should point to a single other view, if not, you end up\n",
       "    with a more complex model than necessary.\n",
       "Fix: Create the source view\n",
       "  * **DirectRelationMissingSourceWarning**: The view ViewId(space='NEAT_CFIHOS_Model_3_containers', external_id='CFIHOS_1_10000201_10000301_ext', version='1').CFIHOS_10000294_rel is a direct relation without a source.\n",
       "    Direct relations in views should point to a single other view, if not, you end up\n",
       "    with a more complex model than necessary.\n",
       "Fix: Create the source view\n",
       "  * **DirectRelationMissingSourceWarning**: The view ViewId(space='NEAT_CFIHOS_Model_3_containers', external_id='CFIHOS_1_10000201_10000301_ext', version='1').CFIHOS_10000267_rel is a direct relation without a source.\n",
       "    Direct relations in views should point to a single other view, if not, you end up\n",
       "    with a more complex model than necessary.\n",
       "Fix: Create the source view\n",
       "  * **DirectRelationMissingSourceWarning**: The view ViewId(space='NEAT_CFIHOS_Model_3_containers', external_id='CFIHOS_1_10000201_10000301_ext', version='1').CFIHOS_10000280_rel is a direct relation without a source.\n",
       "    Direct relations in views should point to a single other view, if not, you end up\n",
       "    with a more complex model than necessary.\n",
       "Fix: Create the source view\n",
       "  * **DirectRelationMissingSourceWarning**: The view ViewId(space='NEAT_CFIHOS_Model_3_containers', external_id='CFIHOS_1_10000201_10000301_ext', version='1').CFIHOS_10000278_rel is a direct relation without a source.\n",
       "    Direct relations in views should point to a single other view, if not, you end up\n",
       "    with a more complex model than necessary.\n",
       "Fix: Create the source view\n",
       "  * **DirectRelationMissingSourceWarning**: The view ViewId(space='NEAT_CFIHOS_Model_3_containers', external_id='CFIHOS_1_10000201_10000301_ext', version='1').CFIHOS_10000276_rel is a direct relation without a source.\n",
       "    Direct relations in views should point to a single other view, if not, you end up\n",
       "    with a more complex model than necessary.\n",
       "Fix: Create the source view\n",
       "  * **DirectRelationMissingSourceWarning**: The view ViewId(space='NEAT_CFIHOS_Model_3_containers', external_id='CFIHOS_1_10000201_10000301_ext', version='1').CFIHOS_10000281_rel is a direct relation without a source.\n",
       "    Direct relations in views should point to a single other view, if not, you end up\n",
       "    with a more complex model than necessary.\n",
       "Fix: Create the source view\n",
       "  * **DirectRelationMissingSourceWarning**: The view ViewId(space='NEAT_CFIHOS_Model_3_containers', external_id='CFIHOS_1_10000201_10000301_ext', version='1').CFIHOS_10000291_rel is a direct relation without a source.\n",
       "    Direct relations in views should point to a single other view, if not, you end up\n",
       "    with a more complex model than necessary.\n",
       "Fix: Create the source view\n",
       "  * **DirectRelationMissingSourceWarning**: The view ViewId(space='NEAT_CFIHOS_Model_3_containers', external_id='CFIHOS_1_10000201_10000301_ext', version='1').CFIHOS_10000289_rel is a direct relation without a source.\n",
       "    Direct relations in views should point to a single other view, if not, you end up\n",
       "    with a more complex model than necessary.\n",
       "Fix: Create the source view\n",
       "  * **DirectRelationMissingSourceWarning**: The view ViewId(space='NEAT_CFIHOS_Model_3_containers', external_id='CFIHOS_1_10000201_10000301_ext', version='1').CFIHOS_10000214_rel is a direct relation without a source.\n",
       "    Direct relations in views should point to a single other view, if not, you end up\n",
       "    with a more complex model than necessary.\n",
       "Fix: Create the source view\n",
       "  * **DirectRelationMissingSourceWarning**: The view ViewId(space='NEAT_CFIHOS_Model_3_containers', external_id='CFIHOS_1_10000201_10000301_ext', version='1').CFIHOS_10000257_rel is a direct relation without a source.\n",
       "    Direct relations in views should point to a single other view, if not, you end up\n",
       "    with a more complex model than necessary.\n",
       "Fix: Create the source view\n",
       "  * **DirectRelationMissingSourceWarning**: The view ViewId(space='NEAT_CFIHOS_Model_3_containers', external_id='CFIHOS_1_10000201_10000301_ext', version='1').CFIHOS_10000219_rel is a direct relation without a source.\n",
       "    Direct relations in views should point to a single other view, if not, you end up\n",
       "    with a more complex model than necessary.\n",
       "Fix: Create the source view\n",
       "  * **DirectRelationMissingSourceWarning**: The view ViewId(space='NEAT_CFIHOS_Model_3_containers', external_id='CFIHOS_1_10000201_10000301_ext', version='1').CFIHOS_10000252_rel is a direct relation without a source.\n",
       "    Direct relations in views should point to a single other view, if not, you end up\n",
       "    with a more complex model than necessary.\n",
       "Fix: Create the source view\n",
       "  * **DirectRelationMissingSourceWarning**: The view ViewId(space='NEAT_CFIHOS_Model_3_containers', external_id='CFIHOS_1_10000001_10000101_ext', version='1').CFIHOS_10000056_rel is a direct relation without a source.\n",
       "    Direct relations in views should point to a single other view, if not, you end up\n",
       "    with a more complex model than necessary.\n",
       "Fix: Create the source view\n",
       "  * **DirectRelationMissingSourceWarning**: The view ViewId(space='NEAT_CFIHOS_Model_3_containers', external_id='CFIHOS_1_10000001_10000101_ext', version='1').CFIHOS_10000005_rel is a direct relation without a source.\n",
       "    Direct relations in views should point to a single other view, if not, you end up\n",
       "    with a more complex model than necessary.\n",
       "Fix: Create the source view\n",
       "  * **DirectRelationMissingSourceWarning**: The view ViewId(space='NEAT_CFIHOS_Model_3_containers', external_id='CFIHOS_1_10000001_10000101_ext', version='1').CFIHOS_10000064_rel is a direct relation without a source.\n",
       "    Direct relations in views should point to a single other view, if not, you end up\n",
       "    with a more complex model than necessary.\n",
       "Fix: Create the source view\n",
       "  * **DirectRelationMissingSourceWarning**: The view ViewId(space='NEAT_CFIHOS_Model_3_containers', external_id='CFIHOS_1_10000001_10000101_ext', version='1').CFIHOS_10000100_rel is a direct relation without a source.\n",
       "    Direct relations in views should point to a single other view, if not, you end up\n",
       "    with a more complex model than necessary.\n",
       "Fix: Create the source view\n",
       "  * **DirectRelationMissingSourceWarning**: The view ViewId(space='NEAT_CFIHOS_Model_3_containers', external_id='CFIHOS_1_10000001_10000101_ext', version='1').CFIHOS_10000083_rel is a direct relation without a source.\n",
       "    Direct relations in views should point to a single other view, if not, you end up\n",
       "    with a more complex model than necessary.\n",
       "Fix: Create the source view\n",
       "  * ... 32 more"
      ],
      "text/plain": [
       "<IPython.core.display.Markdown object>"
      ]
     },
     "metadata": {},
     "output_type": "display_data"
    },
    {
     "data": {
      "text/html": [
       "<H2>Data Model</H2><br /><div>\n",
       "<style scoped>\n",
       "    .dataframe tbody tr th:only-of-type {\n",
       "        vertical-align: middle;\n",
       "    }\n",
       "\n",
       "    .dataframe tbody tr th {\n",
       "        vertical-align: top;\n",
       "    }\n",
       "\n",
       "    .dataframe thead th {\n",
       "        text-align: right;\n",
       "    }\n",
       "</style>\n",
       "<table border=\"1\" class=\"dataframe\">\n",
       "  <thead>\n",
       "    <tr style=\"text-align: right;\">\n",
       "      <th></th>\n",
       "      <th></th>\n",
       "    </tr>\n",
       "  </thead>\n",
       "  <tbody>\n",
       "    <tr>\n",
       "      <th>aspect</th>\n",
       "      <td>physical</td>\n",
       "    </tr>\n",
       "    <tr>\n",
       "      <th>intended for</th>\n",
       "      <td>DMS Architect</td>\n",
       "    </tr>\n",
       "    <tr>\n",
       "      <th>name</th>\n",
       "      <td>NEAT CFIHOS Model</td>\n",
       "    </tr>\n",
       "    <tr>\n",
       "      <th>space</th>\n",
       "      <td>NEAT_CFIHOS_Model_3_containers</td>\n",
       "    </tr>\n",
       "    <tr>\n",
       "      <th>external_id</th>\n",
       "      <td>NEAT_CFIHOS_Model_3</td>\n",
       "    </tr>\n",
       "    <tr>\n",
       "      <th>version</th>\n",
       "      <td>1</td>\n",
       "    </tr>\n",
       "    <tr>\n",
       "      <th>views</th>\n",
       "      <td>54</td>\n",
       "    </tr>\n",
       "    <tr>\n",
       "      <th>containers</th>\n",
       "      <td>54</td>\n",
       "    </tr>\n",
       "    <tr>\n",
       "      <th>properties</th>\n",
       "      <td>1463</td>\n",
       "    </tr>\n",
       "  </tbody>\n",
       "</table>\n",
       "</div>"
      ],
      "text/plain": [
       "<cognite.neat._session._base.NeatSession at 0x121b2f230>"
      ]
     },
     "execution_count": 5,
     "metadata": {},
     "output_type": "execute_result"
    }
   ],
   "source": [
    "neat.inspect.issues()\n",
    "neat"
   ]
  },
  {
   "cell_type": "code",
   "execution_count": 6,
   "metadata": {},
   "outputs": [
    {
     "data": {
      "text/html": [
       "<H2>Data Model</H2><br /><div>\n",
       "<style scoped>\n",
       "    .dataframe tbody tr th:only-of-type {\n",
       "        vertical-align: middle;\n",
       "    }\n",
       "\n",
       "    .dataframe tbody tr th {\n",
       "        vertical-align: top;\n",
       "    }\n",
       "\n",
       "    .dataframe thead th {\n",
       "        text-align: right;\n",
       "    }\n",
       "</style>\n",
       "<table border=\"1\" class=\"dataframe\">\n",
       "  <thead>\n",
       "    <tr style=\"text-align: right;\">\n",
       "      <th></th>\n",
       "      <th></th>\n",
       "    </tr>\n",
       "  </thead>\n",
       "  <tbody>\n",
       "    <tr>\n",
       "      <th>aspect</th>\n",
       "      <td>physical</td>\n",
       "    </tr>\n",
       "    <tr>\n",
       "      <th>intended for</th>\n",
       "      <td>DMS Architect</td>\n",
       "    </tr>\n",
       "    <tr>\n",
       "      <th>name</th>\n",
       "      <td>NEAT CFIHOS Model</td>\n",
       "    </tr>\n",
       "    <tr>\n",
       "      <th>space</th>\n",
       "      <td>NEAT_CFIHOS_Model_3_containers</td>\n",
       "    </tr>\n",
       "    <tr>\n",
       "      <th>external_id</th>\n",
       "      <td>NEAT_CFIHOS_Model_3</td>\n",
       "    </tr>\n",
       "    <tr>\n",
       "      <th>version</th>\n",
       "      <td>1</td>\n",
       "    </tr>\n",
       "    <tr>\n",
       "      <th>views</th>\n",
       "      <td>54</td>\n",
       "    </tr>\n",
       "    <tr>\n",
       "      <th>containers</th>\n",
       "      <td>54</td>\n",
       "    </tr>\n",
       "    <tr>\n",
       "      <th>properties</th>\n",
       "      <td>1463</td>\n",
       "    </tr>\n",
       "  </tbody>\n",
       "</table>\n",
       "</div>"
      ],
      "text/plain": [
       "<cognite.neat._session._base.NeatSession at 0x121b2f230>"
      ]
     },
     "execution_count": 6,
     "metadata": {},
     "output_type": "execute_result"
    }
   ],
   "source": [
    "neat"
   ]
  },
  {
   "cell_type": "code",
   "execution_count": 7,
   "metadata": {},
   "outputs": [
    {
     "name": "stdout",
     "output_type": "stream",
     "text": [
      "You can inspect the details with the .inspect.outcome.data_model(...) method.\n"
     ]
    },
    {
     "data": {
      "text/html": [
       "<style type=\"text/css\">\n",
       "</style>\n",
       "<table id=\"T_f59e8\">\n",
       "  <thead>\n",
       "    <tr>\n",
       "      <th class=\"blank level0\" >&nbsp;</th>\n",
       "      <th id=\"T_f59e8_level0_col0\" class=\"col_heading level0 col0\" >name</th>\n",
       "      <th id=\"T_f59e8_level0_col1\" class=\"col_heading level0 col1\" >created</th>\n",
       "    </tr>\n",
       "  </thead>\n",
       "  <tbody>\n",
       "    <tr>\n",
       "      <th id=\"T_f59e8_level0_row0\" class=\"row_heading level0 row0\" >0</th>\n",
       "      <td id=\"T_f59e8_row0_col0\" class=\"data row0 col0\" >spaces</td>\n",
       "      <td id=\"T_f59e8_row0_col1\" class=\"data row0 col1\" >1</td>\n",
       "    </tr>\n",
       "    <tr>\n",
       "      <th id=\"T_f59e8_level0_row1\" class=\"row_heading level0 row1\" >1</th>\n",
       "      <td id=\"T_f59e8_row1_col0\" class=\"data row1 col0\" >containers</td>\n",
       "      <td id=\"T_f59e8_row1_col1\" class=\"data row1 col1\" >54</td>\n",
       "    </tr>\n",
       "    <tr>\n",
       "      <th id=\"T_f59e8_level0_row2\" class=\"row_heading level0 row2\" >2</th>\n",
       "      <td id=\"T_f59e8_row2_col0\" class=\"data row2 col0\" >views</td>\n",
       "      <td id=\"T_f59e8_row2_col1\" class=\"data row2 col1\" >54</td>\n",
       "    </tr>\n",
       "    <tr>\n",
       "      <th id=\"T_f59e8_level0_row3\" class=\"row_heading level0 row3\" >3</th>\n",
       "      <td id=\"T_f59e8_row3_col0\" class=\"data row3 col0\" >data_models</td>\n",
       "      <td id=\"T_f59e8_row3_col1\" class=\"data row3 col1\" >1</td>\n",
       "    </tr>\n",
       "    <tr>\n",
       "      <th id=\"T_f59e8_level0_row4\" class=\"row_heading level0 row4\" >4</th>\n",
       "      <td id=\"T_f59e8_row4_col0\" class=\"data row4 col0\" >nodes</td>\n",
       "      <td id=\"T_f59e8_row4_col1\" class=\"data row4 col1\" >0</td>\n",
       "    </tr>\n",
       "  </tbody>\n",
       "</table>\n"
      ],
      "text/plain": [
       "[UploadResult(name='spaces', error_messages=[], issues=[], created={'NEAT_CFIHOS_Model_3_containers'}, upserted=set(), deleted=set(), changed=set(), unchanged=set(), skipped=set(), failed_created=set(), failed_upserted=set(), failed_changed=set(), failed_deleted=set(), failed_items=[]),\n",
       " UploadResult(name='containers', error_messages=[], issues=[], created={ContainerId(space='NEAT_CFIHOS_Model_3_containers', external_id='CFIHOS_1_10000101_10000201_ext'), ContainerId(space='NEAT_CFIHOS_Model_3_containers', external_id='CFIHOS_00000022'), ContainerId(space='NEAT_CFIHOS_Model_3_containers', external_id='CFIHOS_00000031'), ContainerId(space='NEAT_CFIHOS_Model_3_containers', external_id='CFIHOS_00000008'), ContainerId(space='NEAT_CFIHOS_Model_3_containers', external_id='CFIHOS_00000030'), ContainerId(space='NEAT_CFIHOS_Model_3_containers', external_id='CFIHOS_00000010'), ContainerId(space='NEAT_CFIHOS_Model_3_containers', external_id='CFIHOS_4_40000101_40000201_ext'), ContainerId(space='NEAT_CFIHOS_Model_3_containers', external_id='CFIHOS_1_10000101_10000201'), ContainerId(space='NEAT_CFIHOS_Model_3_containers', external_id='CFIHOS_00000037'), ContainerId(space='NEAT_CFIHOS_Model_3_containers', external_id='CFIHOS_1_10000301_10000401_ext'), ContainerId(space='NEAT_CFIHOS_Model_3_containers', external_id='CFIHOS_00000011'), ContainerId(space='NEAT_CFIHOS_Model_3_containers', external_id='CFIHOS_00000003'), ContainerId(space='NEAT_CFIHOS_Model_3_containers', external_id='CFIHOS_00000012'), ContainerId(space='NEAT_CFIHOS_Model_3_containers', external_id='CFIHOS_00000036'), ContainerId(space='NEAT_CFIHOS_Model_3_containers', external_id='CFIHOS_4_40000001_40000101_ext'), ContainerId(space='NEAT_CFIHOS_Model_3_containers', external_id='CFIHOS_1_10000201_10000301_ext'), ContainerId(space='NEAT_CFIHOS_Model_3_containers', external_id='CFIHOS_00000032'), ContainerId(space='NEAT_CFIHOS_Model_3_containers', external_id='CFIHOS_4_40000401_40000501'), ContainerId(space='NEAT_CFIHOS_Model_3_containers', external_id='CFIHOS_00000035'), ContainerId(space='NEAT_CFIHOS_Model_3_containers', external_id='CFIHOS_00000023'), ContainerId(space='NEAT_CFIHOS_Model_3_containers', external_id='CFIHOS_4_40000601_40000701'), ContainerId(space='NEAT_CFIHOS_Model_3_containers', external_id='CFIHOS_00000075'), ContainerId(space='NEAT_CFIHOS_Model_3_containers', external_id='CFIHOS_00000002'), ContainerId(space='NEAT_CFIHOS_Model_3_containers', external_id='CFIHOS_4_40000401_40000501_ext'), ContainerId(space='NEAT_CFIHOS_Model_3_containers', external_id='CFIHOS_00000105'), ContainerId(space='NEAT_CFIHOS_Model_3_containers', external_id='CFIHOS_4_40000501_40000601'), ContainerId(space='NEAT_CFIHOS_Model_3_containers', external_id='CFIHOS_00000039'), ContainerId(space='NEAT_CFIHOS_Model_3_containers', external_id='CFIHOS_00000041'), ContainerId(space='NEAT_CFIHOS_Model_3_containers', external_id='CFIHOS_4_40000301_40000401'), ContainerId(space='NEAT_CFIHOS_Model_3_containers', external_id='CFIHOS_4_40000201_40000301'), ContainerId(space='NEAT_CFIHOS_Model_3_containers', external_id='CFIHOS_4_40000601_40000701_ext'), ContainerId(space='NEAT_CFIHOS_Model_3_containers', external_id='CFIHOS_00000004'), ContainerId(space='NEAT_CFIHOS_Model_3_containers', external_id='CFIHOS_1_10000001_10000101_ext'), ContainerId(space='NEAT_CFIHOS_Model_3_containers', external_id='CFIHOS_4_40000301_40000401_ext'), ContainerId(space='NEAT_CFIHOS_Model_3_containers', external_id='CFIHOS_4_40000101_40000201'), ContainerId(space='NEAT_CFIHOS_Model_3_containers', external_id='CFIHOS_00000001'), ContainerId(space='NEAT_CFIHOS_Model_3_containers', external_id='CFIHOS_00000006'), ContainerId(space='NEAT_CFIHOS_Model_3_containers', external_id='CFIHOS_00000026'), ContainerId(space='NEAT_CFIHOS_Model_3_containers', external_id='CFIHOS_00000042'), ContainerId(space='NEAT_CFIHOS_Model_3_containers', external_id='CFIHOS_00000007'), ContainerId(space='NEAT_CFIHOS_Model_3_containers', external_id='CFIHOS_00000044'), ContainerId(space='NEAT_CFIHOS_Model_3_containers', external_id='CFIHOS_00000021'), ContainerId(space='NEAT_CFIHOS_Model_3_containers', external_id='CFIHOS_00000073'), ContainerId(space='NEAT_CFIHOS_Model_3_containers', external_id='CFIHOS_4_40000001_40000101'), ContainerId(space='NEAT_CFIHOS_Model_3_containers', external_id='CFIHOS_4_40000201_40000301_ext'), ContainerId(space='NEAT_CFIHOS_Model_3_containers', external_id='CFIHOS_1_10000001_10000101'), ContainerId(space='NEAT_CFIHOS_Model_3_containers', external_id='CFIHOS_4_40000501_40000601_ext'), ContainerId(space='NEAT_CFIHOS_Model_3_containers', external_id='CFIHOS_00000040'), ContainerId(space='NEAT_CFIHOS_Model_3_containers', external_id='CFIHOS_1_10000301_10000401'), ContainerId(space='NEAT_CFIHOS_Model_3_containers', external_id='CFIHOS_1_10000201_10000301'), ContainerId(space='NEAT_CFIHOS_Model_3_containers', external_id='CFIHOS_00000028'), ContainerId(space='NEAT_CFIHOS_Model_3_containers', external_id='CFIHOS_00000072'), ContainerId(space='NEAT_CFIHOS_Model_3_containers', external_id='CFIHOS_00000009'), ContainerId(space='NEAT_CFIHOS_Model_3_containers', external_id='EntityTypeGroup')}, upserted=set(), deleted=set(), changed=set(), unchanged=set(), skipped=set(), failed_created=set(), failed_upserted=set(), failed_changed=set(), failed_deleted=set(), failed_items=[]),\n",
       " UploadResult(name='views', error_messages=[], issues=[], created={ViewId(space='NEAT_CFIHOS_Model_3_containers', external_id='CFIHOS_00000039', version='1'), ViewId(space='NEAT_CFIHOS_Model_3_containers', external_id='CFIHOS_00000031', version='1'), ViewId(space='NEAT_CFIHOS_Model_3_containers', external_id='CFIHOS_1_10000201_10000301', version='1'), ViewId(space='NEAT_CFIHOS_Model_3_containers', external_id='CFIHOS_00000040', version='1'), ViewId(space='NEAT_CFIHOS_Model_3_containers', external_id='CFIHOS_00000035', version='1'), ViewId(space='NEAT_CFIHOS_Model_3_containers', external_id='CFIHOS_1_10000001_10000101_ext', version='1'), ViewId(space='NEAT_CFIHOS_Model_3_containers', external_id='CFIHOS_00000041', version='1'), ViewId(space='NEAT_CFIHOS_Model_3_containers', external_id='CFIHOS_4_40000101_40000201', version='1'), ViewId(space='NEAT_CFIHOS_Model_3_containers', external_id='CFIHOS_00000022', version='1'), ViewId(space='NEAT_CFIHOS_Model_3_containers', external_id='CFIHOS_00000004', version='1'), ViewId(space='NEAT_CFIHOS_Model_3_containers', external_id='CFIHOS_1_10000001_10000101', version='1'), ViewId(space='NEAT_CFIHOS_Model_3_containers', external_id='CFIHOS_4_40000001_40000101_ext', version='1'), ViewId(space='NEAT_CFIHOS_Model_3_containers', external_id='CFIHOS_00000008', version='1'), ViewId(space='NEAT_CFIHOS_Model_3_containers', external_id='CFIHOS_4_40000201_40000301', version='1'), ViewId(space='NEAT_CFIHOS_Model_3_containers', external_id='CFIHOS_00000002', version='1'), ViewId(space='NEAT_CFIHOS_Model_3_containers', external_id='CFIHOS_00000030', version='1'), ViewId(space='NEAT_CFIHOS_Model_3_containers', external_id='CFIHOS_4_40000601_40000701', version='1'), ViewId(space='NEAT_CFIHOS_Model_3_containers', external_id='CFIHOS_4_40000301_40000401_ext', version='1'), ViewId(space='NEAT_CFIHOS_Model_3_containers', external_id='CFIHOS_00000026', version='1'), ViewId(space='NEAT_CFIHOS_Model_3_containers', external_id='CFIHOS_00000075', version='1'), ViewId(space='NEAT_CFIHOS_Model_3_containers', external_id='CFIHOS_4_40000001_40000101', version='1'), ViewId(space='NEAT_CFIHOS_Model_3_containers', external_id='CFIHOS_1_10000301_10000401', version='1'), ViewId(space='NEAT_CFIHOS_Model_3_containers', external_id='CFIHOS_00000007', version='1'), ViewId(space='NEAT_CFIHOS_Model_3_containers', external_id='CFIHOS_1_10000301_10000401_ext', version='1'), ViewId(space='NEAT_CFIHOS_Model_3_containers', external_id='CFIHOS_1_10000101_10000201_ext', version='1'), ViewId(space='NEAT_CFIHOS_Model_3_containers', external_id='CFIHOS_1_10000101_10000201', version='1'), ViewId(space='NEAT_CFIHOS_Model_3_containers', external_id='CFIHOS_4_40000101_40000201_ext', version='1'), ViewId(space='NEAT_CFIHOS_Model_3_containers', external_id='CFIHOS_00000021', version='1'), ViewId(space='NEAT_CFIHOS_Model_3_containers', external_id='CFIHOS_4_40000401_40000501', version='1'), ViewId(space='NEAT_CFIHOS_Model_3_containers', external_id='CFIHOS_4_40000401_40000501_ext', version='1'), ViewId(space='NEAT_CFIHOS_Model_3_containers', external_id='CFIHOS_4_40000601_40000701_ext', version='1'), ViewId(space='NEAT_CFIHOS_Model_3_containers', external_id='CFIHOS_00000023', version='1'), ViewId(space='NEAT_CFIHOS_Model_3_containers', external_id='CFIHOS_00000037', version='1'), ViewId(space='NEAT_CFIHOS_Model_3_containers', external_id='CFIHOS_4_40000501_40000601_ext', version='1'), ViewId(space='NEAT_CFIHOS_Model_3_containers', external_id='CFIHOS_4_40000301_40000401', version='1'), ViewId(space='NEAT_CFIHOS_Model_3_containers', external_id='CFIHOS_00000028', version='1'), ViewId(space='NEAT_CFIHOS_Model_3_containers', external_id='CFIHOS_00000072', version='1'), ViewId(space='NEAT_CFIHOS_Model_3_containers', external_id='CFIHOS_00000073', version='1'), ViewId(space='NEAT_CFIHOS_Model_3_containers', external_id='CFIHOS_00000001', version='1'), ViewId(space='NEAT_CFIHOS_Model_3_containers', external_id='CFIHOS_00000044', version='1'), ViewId(space='NEAT_CFIHOS_Model_3_containers', external_id='CFIHOS_00000009', version='1'), ViewId(space='NEAT_CFIHOS_Model_3_containers', external_id='CFIHOS_00000036', version='1'), ViewId(space='NEAT_CFIHOS_Model_3_containers', external_id='CFIHOS_00000032', version='1'), ViewId(space='NEAT_CFIHOS_Model_3_containers', external_id='CFIHOS_4_40000201_40000301_ext', version='1'), ViewId(space='NEAT_CFIHOS_Model_3_containers', external_id='CFIHOS_00000003', version='1'), ViewId(space='NEAT_CFIHOS_Model_3_containers', external_id='CFIHOS_00000006', version='1'), ViewId(space='NEAT_CFIHOS_Model_3_containers', external_id='CFIHOS_00000042', version='1'), ViewId(space='NEAT_CFIHOS_Model_3_containers', external_id='CFIHOS_00000105', version='1'), ViewId(space='NEAT_CFIHOS_Model_3_containers', external_id='CFIHOS_1_10000201_10000301_ext', version='1'), ViewId(space='NEAT_CFIHOS_Model_3_containers', external_id='CFIHOS_00000010', version='1'), ViewId(space='NEAT_CFIHOS_Model_3_containers', external_id='CFIHOS_4_40000501_40000601', version='1'), ViewId(space='NEAT_CFIHOS_Model_3_containers', external_id='CFIHOS_00000011', version='1'), ViewId(space='NEAT_CFIHOS_Model_3_containers', external_id='EntityTypeGroup', version='1'), ViewId(space='NEAT_CFIHOS_Model_3_containers', external_id='CFIHOS_00000012', version='1')}, upserted=set(), deleted=set(), changed=set(), unchanged=set(), skipped=set(), failed_created=set(), failed_upserted=set(), failed_changed=set(), failed_deleted=set(), failed_items=[]),\n",
       " UploadResult(name='data_models', error_messages=[], issues=[], created={DataModelId(space='NEAT_CFIHOS_Model_3_containers', external_id='NEAT_CFIHOS_Model_3', version='1')}, upserted=set(), deleted=set(), changed=set(), unchanged=set(), skipped=set(), failed_created=set(), failed_upserted=set(), failed_changed=set(), failed_deleted=set(), failed_items=[]),\n",
       " UploadResult(name='nodes', error_messages=[], issues=[], created=set(), upserted=set(), deleted=set(), changed=set(), unchanged=set(), skipped=set(), failed_created=set(), failed_upserted=set(), failed_changed=set(), failed_deleted=set(), failed_items=[])]"
      ]
     },
     "execution_count": 7,
     "metadata": {},
     "output_type": "execute_result"
    }
   ],
   "source": [
    "neat.to.cdf.data_model()"
   ]
  },
  {
   "cell_type": "code",
   "execution_count": 8,
   "metadata": {},
   "outputs": [
    {
     "data": {
      "text/markdown": [
       "### spaces\n",
       "#### created\n",
       "  * NEAT_CFIHOS_Model_3_containers\n",
       "### containers\n",
       "#### created\n",
       "  * ContainerId(space='NEAT_CFIHOS_Model_3_containers', external_id='CFIHOS_1_10000101_10000201_ext')\n",
       "  * ContainerId(space='NEAT_CFIHOS_Model_3_containers', external_id='CFIHOS_00000022')\n",
       "  * ContainerId(space='NEAT_CFIHOS_Model_3_containers', external_id='CFIHOS_00000031')\n",
       "  * ContainerId(space='NEAT_CFIHOS_Model_3_containers', external_id='CFIHOS_00000008')\n",
       "  * ContainerId(space='NEAT_CFIHOS_Model_3_containers', external_id='CFIHOS_00000030')\n",
       "  * ContainerId(space='NEAT_CFIHOS_Model_3_containers', external_id='CFIHOS_00000010')\n",
       "  * ContainerId(space='NEAT_CFIHOS_Model_3_containers', external_id='CFIHOS_4_40000101_40000201_ext')\n",
       "  * ContainerId(space='NEAT_CFIHOS_Model_3_containers', external_id='CFIHOS_1_10000101_10000201')\n",
       "  * ContainerId(space='NEAT_CFIHOS_Model_3_containers', external_id='CFIHOS_00000037')\n",
       "  * ContainerId(space='NEAT_CFIHOS_Model_3_containers', external_id='CFIHOS_1_10000301_10000401_ext')\n",
       "  * ContainerId(space='NEAT_CFIHOS_Model_3_containers', external_id='CFIHOS_00000011')\n",
       "  * ContainerId(space='NEAT_CFIHOS_Model_3_containers', external_id='CFIHOS_00000003')\n",
       "  * ContainerId(space='NEAT_CFIHOS_Model_3_containers', external_id='CFIHOS_00000012')\n",
       "  * ContainerId(space='NEAT_CFIHOS_Model_3_containers', external_id='CFIHOS_00000036')\n",
       "  * ContainerId(space='NEAT_CFIHOS_Model_3_containers', external_id='CFIHOS_4_40000001_40000101_ext')\n",
       "  * ContainerId(space='NEAT_CFIHOS_Model_3_containers', external_id='CFIHOS_1_10000201_10000301_ext')\n",
       "  * ContainerId(space='NEAT_CFIHOS_Model_3_containers', external_id='CFIHOS_00000032')\n",
       "  * ContainerId(space='NEAT_CFIHOS_Model_3_containers', external_id='CFIHOS_4_40000401_40000501')\n",
       "  * ContainerId(space='NEAT_CFIHOS_Model_3_containers', external_id='CFIHOS_00000035')\n",
       "  * ContainerId(space='NEAT_CFIHOS_Model_3_containers', external_id='CFIHOS_00000023')\n",
       "  * ContainerId(space='NEAT_CFIHOS_Model_3_containers', external_id='CFIHOS_4_40000601_40000701')\n",
       "  * ContainerId(space='NEAT_CFIHOS_Model_3_containers', external_id='CFIHOS_00000075')\n",
       "  * ContainerId(space='NEAT_CFIHOS_Model_3_containers', external_id='CFIHOS_00000002')\n",
       "  * ContainerId(space='NEAT_CFIHOS_Model_3_containers', external_id='CFIHOS_4_40000401_40000501_ext')\n",
       "  * ContainerId(space='NEAT_CFIHOS_Model_3_containers', external_id='CFIHOS_00000105')\n",
       "  * ContainerId(space='NEAT_CFIHOS_Model_3_containers', external_id='CFIHOS_4_40000501_40000601')\n",
       "  * ContainerId(space='NEAT_CFIHOS_Model_3_containers', external_id='CFIHOS_00000039')\n",
       "  * ContainerId(space='NEAT_CFIHOS_Model_3_containers', external_id='CFIHOS_00000041')\n",
       "  * ContainerId(space='NEAT_CFIHOS_Model_3_containers', external_id='CFIHOS_4_40000301_40000401')\n",
       "  * ContainerId(space='NEAT_CFIHOS_Model_3_containers', external_id='CFIHOS_4_40000201_40000301')\n",
       "  * ContainerId(space='NEAT_CFIHOS_Model_3_containers', external_id='CFIHOS_4_40000601_40000701_ext')\n",
       "  * ContainerId(space='NEAT_CFIHOS_Model_3_containers', external_id='CFIHOS_00000004')\n",
       "  * ContainerId(space='NEAT_CFIHOS_Model_3_containers', external_id='CFIHOS_1_10000001_10000101_ext')\n",
       "  * ContainerId(space='NEAT_CFIHOS_Model_3_containers', external_id='CFIHOS_4_40000301_40000401_ext')\n",
       "  * ContainerId(space='NEAT_CFIHOS_Model_3_containers', external_id='CFIHOS_4_40000101_40000201')\n",
       "  * ContainerId(space='NEAT_CFIHOS_Model_3_containers', external_id='CFIHOS_00000001')\n",
       "  * ContainerId(space='NEAT_CFIHOS_Model_3_containers', external_id='CFIHOS_00000006')\n",
       "  * ContainerId(space='NEAT_CFIHOS_Model_3_containers', external_id='CFIHOS_00000026')\n",
       "  * ContainerId(space='NEAT_CFIHOS_Model_3_containers', external_id='CFIHOS_00000042')\n",
       "  * ContainerId(space='NEAT_CFIHOS_Model_3_containers', external_id='CFIHOS_00000007')\n",
       "  * ContainerId(space='NEAT_CFIHOS_Model_3_containers', external_id='CFIHOS_00000044')\n",
       "  * ContainerId(space='NEAT_CFIHOS_Model_3_containers', external_id='CFIHOS_00000021')\n",
       "  * ContainerId(space='NEAT_CFIHOS_Model_3_containers', external_id='CFIHOS_00000073')\n",
       "  * ContainerId(space='NEAT_CFIHOS_Model_3_containers', external_id='CFIHOS_4_40000001_40000101')\n",
       "  * ContainerId(space='NEAT_CFIHOS_Model_3_containers', external_id='CFIHOS_4_40000201_40000301_ext')\n",
       "  * ContainerId(space='NEAT_CFIHOS_Model_3_containers', external_id='CFIHOS_1_10000001_10000101')\n",
       "  * ContainerId(space='NEAT_CFIHOS_Model_3_containers', external_id='CFIHOS_4_40000501_40000601_ext')\n",
       "  * ContainerId(space='NEAT_CFIHOS_Model_3_containers', external_id='CFIHOS_00000040')\n",
       "  * ContainerId(space='NEAT_CFIHOS_Model_3_containers', external_id='CFIHOS_1_10000301_10000401')\n",
       "  * ContainerId(space='NEAT_CFIHOS_Model_3_containers', external_id='CFIHOS_1_10000201_10000301')\n",
       "  * ... 4 more\n",
       "### views\n",
       "#### created\n",
       "  * ViewId(space='NEAT_CFIHOS_Model_3_containers', external_id='CFIHOS_00000039', version='1')\n",
       "  * ViewId(space='NEAT_CFIHOS_Model_3_containers', external_id='CFIHOS_00000031', version='1')\n",
       "  * ViewId(space='NEAT_CFIHOS_Model_3_containers', external_id='CFIHOS_1_10000201_10000301', version='1')\n",
       "  * ViewId(space='NEAT_CFIHOS_Model_3_containers', external_id='CFIHOS_00000040', version='1')\n",
       "  * ViewId(space='NEAT_CFIHOS_Model_3_containers', external_id='CFIHOS_00000035', version='1')\n",
       "  * ViewId(space='NEAT_CFIHOS_Model_3_containers', external_id='CFIHOS_1_10000001_10000101_ext', version='1')\n",
       "  * ViewId(space='NEAT_CFIHOS_Model_3_containers', external_id='CFIHOS_00000041', version='1')\n",
       "  * ViewId(space='NEAT_CFIHOS_Model_3_containers', external_id='CFIHOS_4_40000101_40000201', version='1')\n",
       "  * ViewId(space='NEAT_CFIHOS_Model_3_containers', external_id='CFIHOS_00000022', version='1')\n",
       "  * ViewId(space='NEAT_CFIHOS_Model_3_containers', external_id='CFIHOS_00000004', version='1')\n",
       "  * ViewId(space='NEAT_CFIHOS_Model_3_containers', external_id='CFIHOS_1_10000001_10000101', version='1')\n",
       "  * ViewId(space='NEAT_CFIHOS_Model_3_containers', external_id='CFIHOS_4_40000001_40000101_ext', version='1')\n",
       "  * ViewId(space='NEAT_CFIHOS_Model_3_containers', external_id='CFIHOS_00000008', version='1')\n",
       "  * ViewId(space='NEAT_CFIHOS_Model_3_containers', external_id='CFIHOS_4_40000201_40000301', version='1')\n",
       "  * ViewId(space='NEAT_CFIHOS_Model_3_containers', external_id='CFIHOS_00000002', version='1')\n",
       "  * ViewId(space='NEAT_CFIHOS_Model_3_containers', external_id='CFIHOS_00000030', version='1')\n",
       "  * ViewId(space='NEAT_CFIHOS_Model_3_containers', external_id='CFIHOS_4_40000601_40000701', version='1')\n",
       "  * ViewId(space='NEAT_CFIHOS_Model_3_containers', external_id='CFIHOS_4_40000301_40000401_ext', version='1')\n",
       "  * ViewId(space='NEAT_CFIHOS_Model_3_containers', external_id='CFIHOS_00000026', version='1')\n",
       "  * ViewId(space='NEAT_CFIHOS_Model_3_containers', external_id='CFIHOS_00000075', version='1')\n",
       "  * ViewId(space='NEAT_CFIHOS_Model_3_containers', external_id='CFIHOS_4_40000001_40000101', version='1')\n",
       "  * ViewId(space='NEAT_CFIHOS_Model_3_containers', external_id='CFIHOS_1_10000301_10000401', version='1')\n",
       "  * ViewId(space='NEAT_CFIHOS_Model_3_containers', external_id='CFIHOS_00000007', version='1')\n",
       "  * ViewId(space='NEAT_CFIHOS_Model_3_containers', external_id='CFIHOS_1_10000301_10000401_ext', version='1')\n",
       "  * ViewId(space='NEAT_CFIHOS_Model_3_containers', external_id='CFIHOS_1_10000101_10000201_ext', version='1')\n",
       "  * ViewId(space='NEAT_CFIHOS_Model_3_containers', external_id='CFIHOS_1_10000101_10000201', version='1')\n",
       "  * ViewId(space='NEAT_CFIHOS_Model_3_containers', external_id='CFIHOS_4_40000101_40000201_ext', version='1')\n",
       "  * ViewId(space='NEAT_CFIHOS_Model_3_containers', external_id='CFIHOS_00000021', version='1')\n",
       "  * ViewId(space='NEAT_CFIHOS_Model_3_containers', external_id='CFIHOS_4_40000401_40000501', version='1')\n",
       "  * ViewId(space='NEAT_CFIHOS_Model_3_containers', external_id='CFIHOS_4_40000401_40000501_ext', version='1')\n",
       "  * ViewId(space='NEAT_CFIHOS_Model_3_containers', external_id='CFIHOS_4_40000601_40000701_ext', version='1')\n",
       "  * ViewId(space='NEAT_CFIHOS_Model_3_containers', external_id='CFIHOS_00000023', version='1')\n",
       "  * ViewId(space='NEAT_CFIHOS_Model_3_containers', external_id='CFIHOS_00000037', version='1')\n",
       "  * ViewId(space='NEAT_CFIHOS_Model_3_containers', external_id='CFIHOS_4_40000501_40000601_ext', version='1')\n",
       "  * ViewId(space='NEAT_CFIHOS_Model_3_containers', external_id='CFIHOS_4_40000301_40000401', version='1')\n",
       "  * ViewId(space='NEAT_CFIHOS_Model_3_containers', external_id='CFIHOS_00000028', version='1')\n",
       "  * ViewId(space='NEAT_CFIHOS_Model_3_containers', external_id='CFIHOS_00000072', version='1')\n",
       "  * ViewId(space='NEAT_CFIHOS_Model_3_containers', external_id='CFIHOS_00000073', version='1')\n",
       "  * ViewId(space='NEAT_CFIHOS_Model_3_containers', external_id='CFIHOS_00000001', version='1')\n",
       "  * ViewId(space='NEAT_CFIHOS_Model_3_containers', external_id='CFIHOS_00000044', version='1')\n",
       "  * ViewId(space='NEAT_CFIHOS_Model_3_containers', external_id='CFIHOS_00000009', version='1')\n",
       "  * ViewId(space='NEAT_CFIHOS_Model_3_containers', external_id='CFIHOS_00000036', version='1')\n",
       "  * ViewId(space='NEAT_CFIHOS_Model_3_containers', external_id='CFIHOS_00000032', version='1')\n",
       "  * ViewId(space='NEAT_CFIHOS_Model_3_containers', external_id='CFIHOS_4_40000201_40000301_ext', version='1')\n",
       "  * ViewId(space='NEAT_CFIHOS_Model_3_containers', external_id='CFIHOS_00000003', version='1')\n",
       "  * ViewId(space='NEAT_CFIHOS_Model_3_containers', external_id='CFIHOS_00000006', version='1')\n",
       "  * ViewId(space='NEAT_CFIHOS_Model_3_containers', external_id='CFIHOS_00000042', version='1')\n",
       "  * ViewId(space='NEAT_CFIHOS_Model_3_containers', external_id='CFIHOS_00000105', version='1')\n",
       "  * ViewId(space='NEAT_CFIHOS_Model_3_containers', external_id='CFIHOS_1_10000201_10000301_ext', version='1')\n",
       "  * ViewId(space='NEAT_CFIHOS_Model_3_containers', external_id='CFIHOS_00000010', version='1')\n",
       "  * ... 4 more\n",
       "### data_models\n",
       "#### created\n",
       "  * DataModelId(space='NEAT_CFIHOS_Model_3_containers', external_id='NEAT_CFIHOS_Model_3', version='1')\n",
       "### nodes"
      ],
      "text/plain": [
       "<IPython.core.display.Markdown object>"
      ]
     },
     "metadata": {},
     "output_type": "display_data"
    }
   ],
   "source": [
    "neat.inspect.outcome.data_model()"
   ]
  },
  {
   "cell_type": "code",
   "execution_count": null,
   "metadata": {},
   "outputs": [],
   "source": []
  },
  {
   "cell_type": "code",
   "execution_count": null,
   "metadata": {},
   "outputs": [
    {
     "name": "stdout",
     "output_type": "stream",
     "text": [
      "http_purl.org_cognite_neat_data-model_verified_physical_NEAT_CFIHOS_Model_2_containers_NEAT_CFIHOS_Model_2_2.html\n"
     ]
    },
    {
     "data": {
      "text/html": [
       "\n",
       "        <iframe\n",
       "            width=\"100%\"\n",
       "            height=\"750px\"\n",
       "            src=\"http_purl.org_cognite_neat_data-model_verified_physical_NEAT_CFIHOS_Model_2_containers_NEAT_CFIHOS_Model_2_2.html\"\n",
       "            frameborder=\"0\"\n",
       "            allowfullscreen\n",
       "            \n",
       "        ></iframe>\n",
       "        "
      ],
      "text/plain": [
       "<IPython.lib.display.IFrame at 0x10e64a510>"
      ]
     },
     "execution_count": 10,
     "metadata": {},
     "output_type": "execute_result"
    }
   ],
   "source": [
    "neat.show.data_model()"
   ]
  },
  {
   "cell_type": "code",
   "execution_count": null,
   "metadata": {},
   "outputs": [
    {
     "data": {
      "text/html": [
       "<p>Success: VerifiedDMSModel &#8594; VerifiedDMSModel</p>"
      ],
      "text/plain": [
       "[]"
      ]
     },
     "execution_count": 9,
     "metadata": {},
     "output_type": "execute_result"
    }
   ],
   "source": [
    "neat.set.data_model_id((\"neat_cfihos_pg_1_containers\", \"neat_cfihos_pg_1_containers\", \"1\"))"
   ]
  },
  {
   "cell_type": "code",
   "execution_count": null,
   "metadata": {},
   "outputs": [
    {
     "data": {
      "text/html": [
       "<p>Succeeded with warnings: Read NEAT(verified,physical,power,power_to_consumer_data_model,0.1.0)</p><br /><div>\n",
       "<style scoped>\n",
       "    .dataframe tbody tr th:only-of-type {\n",
       "        vertical-align: middle;\n",
       "    }\n",
       "\n",
       "    .dataframe tbody tr th {\n",
       "        vertical-align: top;\n",
       "    }\n",
       "\n",
       "    .dataframe thead th {\n",
       "        text-align: right;\n",
       "    }\n",
       "</style>\n",
       "<table border=\"1\" class=\"dataframe\">\n",
       "  <thead>\n",
       "    <tr style=\"text-align: right;\">\n",
       "      <th></th>\n",
       "      <th>count</th>\n",
       "    </tr>\n",
       "    <tr>\n",
       "      <th>NeatIssue</th>\n",
       "      <th></th>\n",
       "    </tr>\n",
       "  </thead>\n",
       "  <tbody>\n",
       "    <tr>\n",
       "      <th>UndefinedViewWarning</th>\n",
       "      <td>1</td>\n",
       "    </tr>\n",
       "    <tr>\n",
       "      <th>DirectRelationMissingSourceWarning</th>\n",
       "      <td>1</td>\n",
       "    </tr>\n",
       "  </tbody>\n",
       "</table>\n",
       "</div><br />Hint: Use the .inspect.issues() for more details."
      ],
      "text/plain": [
       "[UndefinedViewWarning(view_id='power:CFIHOS_00000073(version=0.1.0)', value_type='power:CFIHOS_00000072(version=0.1.0)', view_property='CFIHOS_10000234_rel'),\n",
       " DirectRelationMissingSourceWarning(view_id=ViewId(space='power', external_id='CFIHOS_1_10000101_10000201_ext', version='0.1.0'), prop_name='CFIHOS_10000173_rel')]"
      ]
     },
     "execution_count": 2,
     "metadata": {},
     "output_type": "execute_result"
    }
   ],
   "source": [
    "neat.read.excel(\"/Users/ali.majed@cognitedata.com/projects/neat-xom/neat/cfihos_src/dmsTemplates/cdf-dms-architect-alice.xlsx\")"
   ]
  },
  {
   "cell_type": "code",
   "execution_count": null,
   "metadata": {},
   "outputs": [
    {
     "data": {
      "text/markdown": [
       "### 2 issues found\n",
       "\n",
       "  * **UndefinedViewWarning**: Undefined view power:CFIHOS_00000072(version=0.1.0) has been referred as value type for property <CFIHOS_10000234_rel> of view power:CFIHOS_00000073(version=0.1.0).\n",
       "Fix: Define views which are used as value types.\n",
       "  * **DirectRelationMissingSourceWarning**: The view ViewId(space='power', external_id='CFIHOS_1_10000101_10000201_ext', version='0.1.0').CFIHOS_10000173_rel is a direct relation without a source.\n",
       "    Direct relations in views should point to a single other view, if not, you end up\n",
       "    with a more complex model than necessary.\n",
       "Fix: Create the source view"
      ],
      "text/plain": [
       "<IPython.core.display.Markdown object>"
      ]
     },
     "metadata": {},
     "output_type": "display_data"
    },
    {
     "data": {
      "text/html": [
       "<H2>Data Model</H2><br /><div>\n",
       "<style scoped>\n",
       "    .dataframe tbody tr th:only-of-type {\n",
       "        vertical-align: middle;\n",
       "    }\n",
       "\n",
       "    .dataframe tbody tr th {\n",
       "        vertical-align: top;\n",
       "    }\n",
       "\n",
       "    .dataframe thead th {\n",
       "        text-align: right;\n",
       "    }\n",
       "</style>\n",
       "<table border=\"1\" class=\"dataframe\">\n",
       "  <thead>\n",
       "    <tr style=\"text-align: right;\">\n",
       "      <th></th>\n",
       "      <th></th>\n",
       "    </tr>\n",
       "  </thead>\n",
       "  <tbody>\n",
       "    <tr>\n",
       "      <th>aspect</th>\n",
       "      <td>physical</td>\n",
       "    </tr>\n",
       "    <tr>\n",
       "      <th>intended for</th>\n",
       "      <td>DMS Architect</td>\n",
       "    </tr>\n",
       "    <tr>\n",
       "      <th>name</th>\n",
       "      <td>Power to Consumer Data Model</td>\n",
       "    </tr>\n",
       "    <tr>\n",
       "      <th>space</th>\n",
       "      <td>power</td>\n",
       "    </tr>\n",
       "    <tr>\n",
       "      <th>external_id</th>\n",
       "      <td>power_to_consumer_data_model</td>\n",
       "    </tr>\n",
       "    <tr>\n",
       "      <th>version</th>\n",
       "      <td>0.1.0</td>\n",
       "    </tr>\n",
       "    <tr>\n",
       "      <th>views</th>\n",
       "      <td>30</td>\n",
       "    </tr>\n",
       "    <tr>\n",
       "      <th>containers</th>\n",
       "      <td>22</td>\n",
       "    </tr>\n",
       "    <tr>\n",
       "      <th>properties</th>\n",
       "      <td>58</td>\n",
       "    </tr>\n",
       "  </tbody>\n",
       "</table>\n",
       "</div>"
      ],
      "text/plain": [
       "<cognite.neat._session._base.NeatSession at 0x110d7ba40>"
      ]
     },
     "execution_count": 3,
     "metadata": {},
     "output_type": "execute_result"
    }
   ],
   "source": [
    "neat.inspect.issues()\n",
    "neat"
   ]
  },
  {
   "cell_type": "code",
   "execution_count": null,
   "metadata": {},
   "outputs": [
    {
     "data": {
      "text/html": [
       "<p>Success: NEAT(verified,physical,neat_pg_4,Ali_Test_Neat_4,1) &#8594; NEAT(verified,physical,neat_pg_4,Ali_Test_Neat_4,1)</p>"
      ],
      "text/plain": [
       "[]"
      ]
     },
     "execution_count": 5,
     "metadata": {},
     "output_type": "execute_result"
    }
   ],
   "source": [
    "neat.set.data_model_id((\"neat_pg_4\", \"Ali_Test_Neat_4\", \"1\"))"
   ]
  },
  {
   "cell_type": "code",
   "execution_count": null,
   "metadata": {},
   "outputs": [
    {
     "name": "stdout",
     "output_type": "stream",
     "text": [
      "You can inspect the details with the .inspect.outcome.data_model(...) method.\n"
     ]
    },
    {
     "data": {
      "text/html": [
       "<style type=\"text/css\">\n",
       "</style>\n",
       "<table id=\"T_05f37\">\n",
       "  <thead>\n",
       "    <tr>\n",
       "      <th class=\"blank level0\" >&nbsp;</th>\n",
       "      <th id=\"T_05f37_level0_col0\" class=\"col_heading level0 col0\" >name</th>\n",
       "      <th id=\"T_05f37_level0_col1\" class=\"col_heading level0 col1\" >created</th>\n",
       "    </tr>\n",
       "  </thead>\n",
       "  <tbody>\n",
       "    <tr>\n",
       "      <th id=\"T_05f37_level0_row0\" class=\"row_heading level0 row0\" >0</th>\n",
       "      <td id=\"T_05f37_row0_col0\" class=\"data row0 col0\" >spaces</td>\n",
       "      <td id=\"T_05f37_row0_col1\" class=\"data row0 col1\" >1</td>\n",
       "    </tr>\n",
       "    <tr>\n",
       "      <th id=\"T_05f37_level0_row1\" class=\"row_heading level0 row1\" >1</th>\n",
       "      <td id=\"T_05f37_row1_col0\" class=\"data row1 col0\" >containers</td>\n",
       "      <td id=\"T_05f37_row1_col1\" class=\"data row1 col1\" >22</td>\n",
       "    </tr>\n",
       "    <tr>\n",
       "      <th id=\"T_05f37_level0_row2\" class=\"row_heading level0 row2\" >2</th>\n",
       "      <td id=\"T_05f37_row2_col0\" class=\"data row2 col0\" >views</td>\n",
       "      <td id=\"T_05f37_row2_col1\" class=\"data row2 col1\" >30</td>\n",
       "    </tr>\n",
       "    <tr>\n",
       "      <th id=\"T_05f37_level0_row3\" class=\"row_heading level0 row3\" >3</th>\n",
       "      <td id=\"T_05f37_row3_col0\" class=\"data row3 col0\" >data_models</td>\n",
       "      <td id=\"T_05f37_row3_col1\" class=\"data row3 col1\" >1</td>\n",
       "    </tr>\n",
       "    <tr>\n",
       "      <th id=\"T_05f37_level0_row4\" class=\"row_heading level0 row4\" >4</th>\n",
       "      <td id=\"T_05f37_row4_col0\" class=\"data row4 col0\" >nodes</td>\n",
       "      <td id=\"T_05f37_row4_col1\" class=\"data row4 col1\" >0</td>\n",
       "    </tr>\n",
       "  </tbody>\n",
       "</table>\n"
      ],
      "text/plain": [
       "[UploadResult(name='spaces', error_messages=[], issues=[], created={'neat_pg_4'}, upserted=set(), deleted=set(), changed=set(), unchanged=set(), skipped=set(), failed_created=set(), failed_upserted=set(), failed_changed=set(), failed_deleted=set(), failed_items=[]),\n",
       " UploadResult(name='containers', error_messages=[], issues=[], created={ContainerId(space='neat_pg_4', external_id='CFIHOS_00000028'), ContainerId(space='neat_pg_4', external_id='CFIHOS_00000041'), ContainerId(space='neat_pg_4', external_id='Point'), ContainerId(space='neat_pg_4', external_id='DisconnectSwitch'), ContainerId(space='neat_pg_4', external_id='VoltageTransformer'), ContainerId(space='neat_pg_4', external_id='OffshoreSubstation'), ContainerId(space='neat_pg_4', external_id='CurrentTransformer'), ContainerId(space='neat_pg_4', external_id='VoltageLevel'), ContainerId(space='neat_pg_4', external_id='GeneratingUnit'), ContainerId(space='neat_pg_4', external_id='PowerLine'), ContainerId(space='neat_pg_4', external_id='CFIHOS_00000073'), ContainerId(space='neat_pg_4', external_id='EnergyArea'), ContainerId(space='neat_pg_4', external_id='WindTurbine'), ContainerId(space='neat_pg_4', external_id='Substation'), ContainerId(space='neat_pg_4', external_id='DistributionSubstation'), ContainerId(space='neat_pg_4', external_id='WindFarm'), ContainerId(space='neat_pg_4', external_id='CFIHOS_1_10000101_10000201_ext'), ContainerId(space='neat_pg_4', external_id='Meter'), ContainerId(space='neat_pg_4', external_id='OnshoreSubstation'), ContainerId(space='neat_pg_4', external_id='CircuitBreaker'), ContainerId(space='neat_pg_4', external_id='GeoLocation'), ContainerId(space='neat_pg_4', external_id='EnergyConsumer')}, upserted=set(), deleted=set(), changed=set(), unchanged=set(), skipped=set(), failed_created=set(), failed_upserted=set(), failed_changed=set(), failed_deleted=set(), failed_items=[]),\n",
       " UploadResult(name='views', error_messages=[], issues=[], created={ViewId(space='neat_pg_4', external_id='OnshoreSubstation', version='1'), ViewId(space='neat_pg_4', external_id='Polygon', version='1'), ViewId(space='neat_pg_4', external_id='EnergyConsumer', version='1'), ViewId(space='neat_pg_4', external_id='Substation', version='1'), ViewId(space='neat_pg_4', external_id='ArrayCable', version='1'), ViewId(space='neat_pg_4', external_id='CFIHOS_00000028', version='1'), ViewId(space='neat_pg_4', external_id='DisconnectSwitch', version='1'), ViewId(space='neat_pg_4', external_id='CFIHOS_1_10000101_10000201_ext', version='1'), ViewId(space='neat_pg_4', external_id='PowerLine', version='1'), ViewId(space='neat_pg_4', external_id='GeneratingUnit', version='1'), ViewId(space='neat_pg_4', external_id='Meter', version='1'), ViewId(space='neat_pg_4', external_id='WindTurbine', version='1'), ViewId(space='neat_pg_4', external_id='ExportCable', version='1'), ViewId(space='neat_pg_4', external_id='Point', version='1'), ViewId(space='neat_pg_4', external_id='CircuitBreaker', version='1'), ViewId(space='neat_pg_4', external_id='TransmissionSubstation', version='1'), ViewId(space='neat_pg_4', external_id='CurrentTransformer', version='1'), ViewId(space='neat_pg_4', external_id='EnergyArea', version='1'), ViewId(space='neat_pg_4', external_id='Transmission', version='1'), ViewId(space='neat_pg_4', external_id='CFIHOS_00000073', version='1'), ViewId(space='neat_pg_4', external_id='MultiLineString', version='1'), ViewId(space='neat_pg_4', external_id='DistributionSubstation', version='1'), ViewId(space='neat_pg_4', external_id='ElectricCarCharger', version='1'), ViewId(space='neat_pg_4', external_id='WindFarm', version='1'), ViewId(space='neat_pg_4', external_id='VoltageTransformer', version='1'), ViewId(space='neat_pg_4', external_id='GeoLocation', version='1'), ViewId(space='neat_pg_4', external_id='CFIHOS_00000041', version='1'), ViewId(space='neat_pg_4', external_id='OffshoreSubstation', version='1'), ViewId(space='neat_pg_4', external_id='VoltageLevel', version='1'), ViewId(space='neat_pg_4', external_id='DistributionLine', version='1')}, upserted=set(), deleted=set(), changed=set(), unchanged=set(), skipped=set(), failed_created=set(), failed_upserted=set(), failed_changed=set(), failed_deleted=set(), failed_items=[]),\n",
       " UploadResult(name='data_models', error_messages=[], issues=[], created={DataModelId(space='neat_pg_4', external_id='Ali_Test_Neat_4', version='1')}, upserted=set(), deleted=set(), changed=set(), unchanged=set(), skipped=set(), failed_created=set(), failed_upserted=set(), failed_changed=set(), failed_deleted=set(), failed_items=[]),\n",
       " UploadResult(name='nodes', error_messages=[], issues=[], created=set(), upserted=set(), deleted=set(), changed=set(), unchanged=set(), skipped=set(), failed_created=set(), failed_upserted=set(), failed_changed=set(), failed_deleted=set(), failed_items=[])]"
      ]
     },
     "execution_count": 6,
     "metadata": {},
     "output_type": "execute_result"
    }
   ],
   "source": [
    "neat.to.cdf.data_model()"
   ]
  }
 ],
 "metadata": {
  "kernelspec": {
   "display_name": "Python (neat-dev-kernel)",
   "language": "python",
   "name": "neat-dev-kernel"
  },
  "language_info": {
   "codemirror_mode": {
    "name": "ipython",
    "version": 3
   },
   "file_extension": ".py",
   "mimetype": "text/x-python",
   "name": "python",
   "nbconvert_exporter": "python",
   "pygments_lexer": "ipython3",
   "version": "3.12.4"
  }
 },
 "nbformat": 4,
 "nbformat_minor": 2
}
