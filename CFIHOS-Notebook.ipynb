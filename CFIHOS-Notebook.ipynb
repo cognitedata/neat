{
 "cells": [
  {
   "cell_type": "code",
   "execution_count": null,
   "metadata": {},
   "outputs": [],
   "source": [
    "from cognite.neat import NeatSession, get_cognite_client\n",
    "from typing import cast\n",
    "\n",
    "\n",
    "client = get_cognite_client(\".env\")\n",
    "\n",
    "\n",
    "neat = NeatSession(client)\n"
   ]
  },
  {
   "cell_type": "code",
   "execution_count": null,
   "metadata": {},
   "outputs": [],
   "source": [
    " \n",
    "neat.read.cfihos.from_config_definitions(\"cfihos_src/config-xom.yaml\")\n",
    "neat.read.excel(\"/Users/ali.majed@cognitedata.com/projects/neat-xom/neat/cfihos_src/dmsTemplates/cfihos_neat_model.xlsx\")\n",
    "neat.to.cdf.data_model()\n",
    "neat.inspect.outcome.data_model()"
   ]
  }
 ],
 "metadata": {
  "kernelspec": {
   "display_name": "Python (neat-dev-kernel)",
   "language": "python",
   "name": "neat-dev-kernel"
  },
  "language_info": {
   "codemirror_mode": {
    "name": "ipython",
    "version": 3
   },
   "file_extension": ".py",
   "mimetype": "text/x-python",
   "name": "python",
   "nbconvert_exporter": "python",
   "pygments_lexer": "ipython3",
   "version": "3.12.4"
  }
 },
 "nbformat": 4,
 "nbformat_minor": 2
}
