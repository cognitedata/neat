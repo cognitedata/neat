{
  "cells": [
    {
      "cell_type": "markdown",
      "id": "96e3cb42",
      "metadata": {},
      "source": [
        "# Rules Exporting Excel \n",
        "\n",
        " ![](../artifacts/figs/work-in-progress.png)"
      ]
    }
  ],
  "metadata": {},
  "nbformat": 4,
  "nbformat_minor": 5
}
