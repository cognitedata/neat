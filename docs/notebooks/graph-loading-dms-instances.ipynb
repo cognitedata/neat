{
  "cells": [
    {
      "cell_type": "markdown",
      "id": "eeadb879",
      "metadata": {},
      "source": [
        "# Graph Loading Dms Instances \n",
        "\n",
        " ![](../artifacts/figs/work-in-progress.png)"
      ]
    }
  ],
  "metadata": {},
  "nbformat": 4,
  "nbformat_minor": 5
}
