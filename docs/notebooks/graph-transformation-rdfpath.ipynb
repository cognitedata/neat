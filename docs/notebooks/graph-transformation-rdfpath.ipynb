{
  "cells": [
    {
      "cell_type": "markdown",
      "id": "f6442c4b",
      "metadata": {},
      "source": [
        "# Graph Transformation Rdfpath \n",
        "\n",
        " ![](../artifacts/figs/work-in-progress.png)"
      ]
    }
  ],
  "metadata": {},
  "nbformat": 4,
  "nbformat_minor": 5
}
