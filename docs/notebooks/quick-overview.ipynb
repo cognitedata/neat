{
 "cells": [
  {
   "cell_type": "markdown",
   "id": "b10cbf845c7b3bb7",
   "metadata": {
    "collapsed": false,
    "editable": true,
    "slideshow": {
     "slide_type": ""
    },
    "tags": []
   },
   "source": [
    "**Prerequisites**\n",
    "\n",
    "* Basic knowledge of Python\n",
    "* Installed `cognite-neat` as a Python package, see [Installation](../installation.html#python-package)"
   ]
  },
  {
   "cell_type": "markdown",
   "id": "538b5cdd9a616620",
   "metadata": {
    "collapsed": false
   },
   "source": [
    "## Introduction"
   ]
  },
  {
   "cell_type": "markdown",
   "id": "7fdefa9e38c35896",
   "metadata": {
    "collapsed": false
   },
   "source": [
    "Even though `neat` is made with a domain expert in mind, it can also be used as a Python package. This is a good way of becoming familiar with `neat` if you have some basic Python knowledge. \n",
    "\n",
    "In this quickstart, we will show how `neat` can be used to create a data model in Cognite Data Fusion (CDF) from some `JSON` data.\n",
    "\n",
    "We will start with importing the `importers` and `exporters` from the `rules` modules in `neat`."
   ]
  },
  {
   "cell_type": "code",
   "execution_count": 1,
   "id": "1223b6c7eee12d4e",
   "metadata": {
    "ExecuteTime": {
     "end_time": "2023-11-14T14:30:04.162742800Z",
     "start_time": "2023-11-14T14:30:04.136485100Z"
    },
    "collapsed": false
   },
   "source": [
    "from cognite.neat.rules import importer, exporter"
   ],
   "outputs": []
  },
  {
   "cell_type": "markdown",
   "id": "58a4436c74616bd4",
   "metadata": {
    "collapsed": false
   },
   "source": [
    "An *importer* is a class used to import a data model into `neat`'s internal format for data models, while an *exporter* is a class that is used to export a data model from `neat`'s internal format to a specific output format.\n",
    "\n",
    "All available importers and exporters can be found in these two modules. In this quickstart, we will use the `ArbitraryJSONImporter` to create a data model in DMS (Data Model Storage) format that can be sent to CDF. This is a type of exporters that infers the data model from a `JSON` string.\n",
    "\n",
    "First, we will start by getting familiar with the `JSON` data "
   ]
  },
  {
   "cell_type": "markdown",
   "id": "66371793e50e7de9",
   "metadata": {
    "collapsed": false
   },
   "source": [
    "## Import Data Model"
   ]
  },
  {
   "cell_type": "code",
   "execution_count": 2,
   "id": "bb3c2c62592de819",
   "metadata": {
    "ExecuteTime": {
     "end_time": "2023-11-14T14:30:05.634562300Z",
     "start_time": "2023-11-14T14:30:05.135410800Z"
    },
    "collapsed": false
   },
   "source": [
    "from tests.data import CAPACITY_BID_JSON"
   ],
   "outputs": []
  },
  {
   "cell_type": "code",
   "execution_count": 3,
   "id": "6c483f1a68063f60",
   "metadata": {
    "ExecuteTime": {
     "end_time": "2023-11-14T14:30:05.648237700Z",
     "start_time": "2023-11-14T14:30:05.635538800Z"
    },
    "collapsed": false
   },
   "source": [
    "json_string = CAPACITY_BID_JSON.read_text()\n",
    "\n",
    "print(json_string[:500])"
   ],
   "outputs": []
  },
  {
   "cell_type": "markdown",
   "id": "7867ce9206518859",
   "metadata": {
    "collapsed": false
   },
   "source": [
    "As we see in the print out above, we have some data given in a `JSON` format."
   ]
  },
  {
   "cell_type": "code",
   "execution_count": 4,
   "id": "a06d66083d79857b",
   "metadata": {
    "ExecuteTime": {
     "end_time": "2023-11-14T14:30:07.520538400Z",
     "start_time": "2023-11-14T14:30:06.976036600Z"
    },
    "collapsed": false
   },
   "source": [
    "json_importer = importer.ArbitraryJSONImporter(json_string)\n",
    "\n",
    "rules = json_importer.to_rules()"
   ],
   "outputs": []
  },
  {
   "cell_type": "markdown",
   "id": "aca231e11a1d2069",
   "metadata": {
    "collapsed": false
   },
   "source": [
    "In the code line above, we import the `JSON` data and covert it to `rules` which is the internal format for data models in `neat`. We can now inspect the rules."
   ]
  },
  {
   "cell_type": "code",
   "execution_count": 5,
   "id": "24e24926d1eeb3d6",
   "metadata": {
    "ExecuteTime": {
     "end_time": "2023-11-14T14:30:07.972746600Z",
     "start_time": "2023-11-14T14:30:07.952742600Z"
    },
    "collapsed": false
   },
   "source": [
    "rules.classes"
   ],
   "outputs": []
  },
  {
   "cell_type": "code",
   "execution_count": 6,
   "id": "c767653dcdd8caed",
   "metadata": {
    "ExecuteTime": {
     "end_time": "2023-11-14T14:30:08.435243400Z",
     "start_time": "2023-11-14T14:30:08.312731300Z"
    },
    "collapsed": false
   },
   "source": [
    "from IPython.display import display, Markdown\n",
    "\n",
    "for class_id, properties in rules.properties.groupby(\"class_id\").items():\n",
    "    display(Markdown(f\"### {class_id}\"))\n",
    "    display(properties)\n",
    "    break"
   ],
   "outputs": []
  },
  {
   "cell_type": "code",
   "execution_count": 7,
   "id": "3565563b3846a1bd",
   "metadata": {
    "ExecuteTime": {
     "end_time": "2023-11-14T14:30:09.196064200Z",
     "start_time": "2023-11-14T14:30:09.175823100Z"
    },
    "collapsed": false,
    "editable": true,
    "slideshow": {
     "slide_type": ""
    },
    "tags": [
     "hide"
    ]
   },
   "source": [
    "display(Markdown(f\"We can see that `neat` successfully identified {len(rules.classes)} classes and {len(rules.properties)} properties.\"))"
   ],
   "outputs": []
  },
  {
   "cell_type": "markdown",
   "id": "66722d5b60e51ace",
   "metadata": {
    "collapsed": false
   },
   "source": [
    "## Export Data Model\n",
    "\n",
    "Now we can export these rules to a data model in DMS format which we can write to CDF."
   ]
  },
  {
   "cell_type": "code",
   "execution_count": 8,
   "id": "30613ccc5e41bd76",
   "metadata": {
    "ExecuteTime": {
     "end_time": "2023-11-14T14:30:10.329823500Z",
     "start_time": "2023-11-14T14:30:10.317231300Z"
    },
    "collapsed": false
   },
   "source": [
    "from cognite.client.data_classes.data_modeling import DataModelId"
   ],
   "outputs": []
  },
  {
   "cell_type": "code",
   "execution_count": 9,
   "id": "635a3e519edeb08",
   "metadata": {
    "ExecuteTime": {
     "end_time": "2023-11-14T14:30:11.060196900Z",
     "start_time": "2023-11-14T14:30:11.023723300Z"
    },
    "collapsed": false
   },
   "source": [
    "dms_exporter = exporter.DMSExporter(rules, DataModelId(\"mySpace\", \"CapacityBid\", \"1\"))"
   ],
   "outputs": []
  },
  {
   "cell_type": "code",
   "execution_count": 10,
   "id": "8f48dbee5786b844",
   "metadata": {
    "ExecuteTime": {
     "end_time": "2023-11-14T14:30:11.738818100Z",
     "start_time": "2023-11-14T14:30:11.706912100Z"
    },
    "collapsed": false
   },
   "source": [
    "dms_schema = dms_exporter.export()"
   ],
   "outputs": []
  },
  {
   "cell_type": "code",
   "execution_count": 11,
   "id": "551fa490bf95d06a",
   "metadata": {
    "ExecuteTime": {
     "end_time": "2023-11-14T14:30:12.064358600Z",
     "start_time": "2023-11-14T14:30:12.023773800Z"
    },
    "collapsed": false
   },
   "source": [
    "dms_schema.data_model"
   ],
   "outputs": []
  },
  {
   "cell_type": "code",
   "execution_count": 12,
   "id": "7b67cc9054d88aad",
   "metadata": {
    "ExecuteTime": {
     "end_time": "2023-11-14T14:30:12.914323800Z",
     "start_time": "2023-11-14T14:30:12.866611700Z"
    },
    "collapsed": false
   },
   "source": [
    "dms_schema.containers"
   ],
   "outputs": []
  },
  {
   "cell_type": "markdown",
   "id": "c33316e84b976b83",
   "metadata": {
    "collapsed": false
   },
   "source": [
    "These containers can now be written to CDF using the Cognite Python SDK.\n",
    "\n",
    "```python\n",
    "from cognite.client import CogniteClient\n",
    "\n",
    "client = CogniteClient()\n",
    "\n",
    "client.data_modeling.containers.apply(dms_schema.containers)\n",
    "client.data_modeling.data_models.apply(dms_schema.data_model)\n",
    "``` \n"
   ]
  },
  {
   "cell_type": "markdown",
   "id": "a04e6d1d06fe962b",
   "metadata": {
    "collapsed": false
   },
   "source": [
    "We can inspect the data model in CDF's UI Fusion:\n",
    "\n",
    "![Capacity Bid Data Model](../artifacts/figs/bid_capacity_data_model.png)\n"
   ]
  },
  {
   "cell_type": "markdown",
   "id": "3d06d14c268c96e3",
   "metadata": {
    "collapsed": false
   },
   "source": [
    "## Learn More"
   ]
  },
  {
   "cell_type": "markdown",
   "id": "f3da6363be7f625a",
   "metadata": {
    "collapsed": false
   },
   "source": [
    "You can easily inspect the available importers and exporters in `neat` by importing them as above and using the `.` notation to see the available classes and methods.\n",
    "\n",
    "The documentation of them are available at [Importers](../api/rules/importers.html) and [Exporters](../api/rules/exporters.html)."
   ]
  },
  {
   "cell_type": "code",
   "execution_count": null,
   "id": "f7dc61e272a7fa9c",
   "metadata": {
    "collapsed": false
   },
   "source": [],
   "outputs": []
  }
 ],
 "metadata": {
  "kernelspec": {
   "display_name": "Python 3 (ipykernel)",
   "language": "python",
   "name": "python3"
  },
  "language_info": {
   "codemirror_mode": {
    "name": "ipython",
    "version": 3
   },
   "file_extension": ".py",
   "mimetype": "text/x-python",
   "name": "python",
   "nbconvert_exporter": "python",
   "pygments_lexer": "ipython3",
   "version": "3.11.3"
  }
 },
 "nbformat": 4,
 "nbformat_minor": 5
}
