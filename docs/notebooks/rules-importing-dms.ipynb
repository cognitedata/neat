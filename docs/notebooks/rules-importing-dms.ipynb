{
  "cells": [
    {
      "cell_type": "markdown",
      "id": "cb3dfeb8",
      "metadata": {},
      "source": [
        "# Rules Importing Dms \n",
        "\n",
        " ![](../artifacts/figs/work-in-progress.png)"
      ]
    }
  ],
  "metadata": {},
  "nbformat": 4,
  "nbformat_minor": 5
}
