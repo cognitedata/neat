{
  "cells": [
    {
      "cell_type": "markdown",
      "id": "1bd596d7",
      "metadata": {},
      "source": [
        "# Graph Extraction Rdf \n",
        "\n",
        " ![](../artifacts/figs/work-in-progress.png)"
      ]
    }
  ],
  "metadata": {},
  "nbformat": 4,
  "nbformat_minor": 5
}
