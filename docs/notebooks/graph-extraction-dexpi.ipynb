{
  "cells": [
    {
      "cell_type": "markdown",
      "id": "d8dd9ed4",
      "metadata": {},
      "source": [
        "# Graph Extraction Dexpi \n",
        "\n",
        " ![](../artifacts/figs/work-in-progress.png)"
      ]
    }
  ],
  "metadata": {},
  "nbformat": 4,
  "nbformat_minor": 5
}
