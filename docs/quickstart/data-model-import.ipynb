{
 "cells": [
  {
   "cell_type": "markdown",
   "source": [
    "**Prerequisites**\n",
    "\n",
    "* Basic knowledge of Python\n",
    "* Installed `cognite-neat` as a Python package, see [Installation](../installation.html#python-package)"
   ],
   "metadata": {
    "collapsed": false
   },
   "id": "b10cbf845c7b3bb7"
  },
  {
   "cell_type": "markdown",
   "source": [
    "## Introduction"
   ],
   "metadata": {
    "collapsed": false
   },
   "id": "538b5cdd9a616620"
  },
  {
   "cell_type": "markdown",
   "source": [
    "Even though `neat` is made with a domain expert in mind, it can also be used as a Python package. This is a good way of becoming familiar with `neat` if you have some basic Python knowledge. \n",
    "\n",
    "In this quickstart, we will show how `neat` can be used to create a data model in Cognite Data Fusion (CDF), from some `JSON` data.\n",
    "\n",
    "We will start with importing the `importers` and `exporters` from the `rules` modules in `neat`."
   ],
   "metadata": {
    "collapsed": false
   },
   "id": "7fdefa9e38c35896"
  },
  {
   "cell_type": "code",
   "execution_count": 5,
   "outputs": [],
   "source": [
    "from cognite.neat.rules import importer, exporter"
   ],
   "metadata": {
    "collapsed": false,
    "ExecuteTime": {
     "end_time": "2023-11-13T16:12:42.133050300Z",
     "start_time": "2023-11-13T16:12:42.133050300Z"
    }
   },
   "id": "1223b6c7eee12d4e"
  },
  {
   "cell_type": "markdown",
   "source": [
    "An *importer* is a class used to import a data model into `neat`'s internal format for data models, while an *exporter* is a class that is used to export a data model from `neat`'s internal format to a specific output format.\n",
    "\n",
    "All available importers and exporters can be found in these two modules. In this quickstart, we will use the `JSONImporter` to create a data model in DMS (Data Model Storage) format that can be sent to CDF. "
   ],
   "metadata": {
    "collapsed": false
   },
   "id": "58a4436c74616bd4"
  },
  {
   "cell_type": "code",
   "execution_count": null,
   "outputs": [],
   "source": [],
   "metadata": {
    "collapsed": false
   },
   "id": "bb3c2c62592de819"
  },
  {
   "cell_type": "code",
   "execution_count": 3,
   "outputs": [],
   "source": [
    "json_importer = importer.JSONImporter()\n",
    "\n"
   ],
   "metadata": {
    "collapsed": false,
    "ExecuteTime": {
     "end_time": "2023-11-13T16:00:44.261716600Z",
     "start_time": "2023-11-13T16:00:44.255484500Z"
    }
   },
   "id": "a06d66083d79857b"
  },
  {
   "cell_type": "code",
   "execution_count": null,
   "outputs": [],
   "source": [
    "exporter.DMSExporter()"
   ],
   "metadata": {
    "collapsed": false
   },
   "id": "394e7b987cbad500"
  }
 ],
 "metadata": {
  "kernelspec": {
   "display_name": "Python 3",
   "language": "python",
   "name": "python3"
  },
  "language_info": {
   "codemirror_mode": {
    "name": "ipython",
    "version": 2
   },
   "file_extension": ".py",
   "mimetype": "text/x-python",
   "name": "python",
   "nbconvert_exporter": "python",
   "pygments_lexer": "ipython2",
   "version": "2.7.6"
  }
 },
 "nbformat": 4,
 "nbformat_minor": 5
}
