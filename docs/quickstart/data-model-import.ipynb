{
 "cells": [
  {
   "cell_type": "markdown",
   "id": "b10cbf845c7b3bb7",
   "metadata": {
    "collapsed": false,
    "editable": true,
    "slideshow": {
     "slide_type": ""
    },
    "tags": []
   },
   "source": [
    "**Prerequisites**\n",
    "\n",
    "* Basic knowledge of Python\n",
    "* Installed `cognite-neat` as a Python package, see [Installation](../installation.html#python-package)"
   ]
  },
  {
   "cell_type": "markdown",
   "id": "538b5cdd9a616620",
   "metadata": {
    "collapsed": false
   },
   "source": [
    "## Introduction"
   ]
  },
  {
   "cell_type": "markdown",
   "id": "7fdefa9e38c35896",
   "metadata": {
    "collapsed": false
   },
   "source": [
    "Even though `neat` is made with a domain expert in mind, it can also be used as a Python package. This is a good way of becoming familiar with `neat` if you have some basic Python knowledge. \n",
    "\n",
    "In this quickstart, we will show how `neat` can be used to create a data model in Cognite Data Fusion (CDF) from some `JSON` data.\n",
    "\n",
    "We will start with importing the `importers` and `exporters` from the `rules` modules in `neat`."
   ]
  },
  {
   "cell_type": "code",
   "execution_count": 6,
   "id": "1223b6c7eee12d4e",
   "metadata": {
    "collapsed": false,
    "ExecuteTime": {
     "end_time": "2023-11-14T14:30:04.162742800Z",
     "start_time": "2023-11-14T14:30:04.136485100Z"
    }
   },
   "outputs": [],
   "source": [
    "from cognite.neat.rules import importer, exporter"
   ]
  },
  {
   "cell_type": "markdown",
   "id": "58a4436c74616bd4",
   "metadata": {
    "collapsed": false
   },
   "source": [
    "An *importer* is a class used to import a data model into `neat`'s internal format for data models, while an *exporter* is a class that is used to export a data model from `neat`'s internal format to a specific output format.\n",
    "\n",
    "All available importers and exporters can be found in these two modules. In this quickstart, we will use the `ArbitraryJSONImporter` to create a data model in DMS (Data Model Storage) format that can be sent to CDF. This is a type of exporters that infers the data model from a `JSON` string.\n",
    "\n",
    "First, we will start by getting familiar with the `JSON` data "
   ]
  },
  {
   "cell_type": "markdown",
   "id": "66371793e50e7de9",
   "metadata": {
    "collapsed": false
   },
   "source": [
    "## Import Data Model"
   ]
  },
  {
   "cell_type": "code",
   "execution_count": 7,
   "id": "bb3c2c62592de819",
   "metadata": {
    "collapsed": false,
    "ExecuteTime": {
     "end_time": "2023-11-14T14:30:05.634562300Z",
     "start_time": "2023-11-14T14:30:05.135410800Z"
    }
   },
   "outputs": [],
   "source": [
    "from tests.data import CAPACITY_BID_JSON"
   ]
  },
  {
   "cell_type": "code",
   "execution_count": 8,
   "id": "6c483f1a68063f60",
   "metadata": {
    "collapsed": false,
    "ExecuteTime": {
     "end_time": "2023-11-14T14:30:05.648237700Z",
     "start_time": "2023-11-14T14:30:05.635538800Z"
    }
   },
   "outputs": [
    {
     "name": "stdout",
     "output_type": "stream",
     "text": [
      "{\n",
      "    \"BidDocumentHeader\": {\n",
      "        \"DocumentTypeName\": \"Capacity\",\n",
      "        \"ProcessTypeName\": \"aFRR\",\n",
      "        \"TSO\": \"Cognite\",\n",
      "        \"Owner\": \"Fornebu\",\n",
      "        \"CreatedDateTime\": \"2023-06-17T13:12:38.738432Z\",\n",
      "        \"BidInterval\": {\n",
      "            \"Start\": \"2023-06-18T22:00:00Z\",\n",
      "            \"End\": \"2023-06-19T22:00:00Z\"\n",
      "        },\n",
      "        \"Country\": \"Norway\",\n",
      "        \"Origin\": \"Cognite\"\n",
      "    },\n",
      "    \"ReserveBidTimeSeries\": [\n",
      "        {\n",
      "            \"BidType\": \"aFRR\",\n",
      "            \"MeasureUnit\":\n"
     ]
    }
   ],
   "source": [
    "json_string = CAPACITY_BID_JSON.read_text()\n",
    "\n",
    "print(json_string[:500])"
   ]
  },
  {
   "cell_type": "markdown",
   "id": "7867ce9206518859",
   "metadata": {
    "collapsed": false
   },
   "source": [
    "As we see in the print out above, we have some data given in a `JSON` format."
   ]
  },
  {
   "cell_type": "code",
   "execution_count": 9,
   "id": "a06d66083d79857b",
   "metadata": {
    "collapsed": false,
    "ExecuteTime": {
     "end_time": "2023-11-14T14:30:07.520538400Z",
     "start_time": "2023-11-14T14:30:06.976036600Z"
    }
   },
   "outputs": [],
   "source": [
    "json_importer = importer.ArbitraryJSONImporter(json_string)\n",
    "\n",
    "rules = json_importer.to_rules()"
   ]
  },
  {
   "cell_type": "markdown",
   "id": "aca231e11a1d2069",
   "metadata": {
    "collapsed": false
   },
   "source": [
    "In the code line above, we import the `JSON` data and covert it to `rules` which is the internal format for data models in `neat`. We can now inspect the rules."
   ]
  },
  {
   "cell_type": "code",
   "execution_count": 10,
   "id": "24e24926d1eeb3d6",
   "metadata": {
    "collapsed": false,
    "ExecuteTime": {
     "end_time": "2023-11-14T14:30:07.972746600Z",
     "start_time": "2023-11-14T14:30:07.952742600Z"
    }
   },
   "outputs": [
    {
     "data": {
      "text/plain": "Classes(data={'BidDocumentHeader': Class(description='missing', cdf_resource_type=None, deprecated=False, deprecation_date=None, replaced_by=None, source=None, source_entity_name=None, match_type=None, comment=None, class_id='BidDocumentHeader', class_name='BidDocumentHeader', parent_class=None, parent_asset=None), 'BidInterval': Class(description='missing', cdf_resource_type=None, deprecated=False, deprecation_date=None, replaced_by=None, source=None, source_entity_name=None, match_type=None, comment=None, class_id='BidInterval', class_name='BidInterval', parent_class=None, parent_asset=None), 'ReserveBidTimeSeries': Class(description='missing', cdf_resource_type=None, deprecated=False, deprecation_date=None, replaced_by=None, source=None, source_entity_name=None, match_type=None, comment=None, class_id='ReserveBidTimeSeries', class_name='ReserveBidTimeSeries', parent_class=None, parent_asset=None), 'Periods': Class(description='missing', cdf_resource_type=None, deprecated=False, deprecation_date=None, replaced_by=None, source=None, source_entity_name=None, match_type=None, comment=None, class_id='Periods', class_name='Periods', parent_class=None, parent_asset=None), 'TimeInterval': Class(description='missing', cdf_resource_type=None, deprecated=False, deprecation_date=None, replaced_by=None, source=None, source_entity_name=None, match_type=None, comment=None, class_id='TimeInterval', class_name='TimeInterval', parent_class=None, parent_asset=None), 'BidCurves': Class(description='missing', cdf_resource_type=None, deprecated=False, deprecation_date=None, replaced_by=None, source=None, source_entity_name=None, match_type=None, comment=None, class_id='BidCurves', class_name='BidCurves', parent_class=None, parent_asset=None)})",
      "text/html": "<div>\n<style scoped>\n    .dataframe tbody tr th:only-of-type {\n        vertical-align: middle;\n    }\n\n    .dataframe tbody tr th {\n        vertical-align: top;\n    }\n\n    .dataframe thead th {\n        text-align: right;\n    }\n</style>\n<table border=\"1\" class=\"dataframe\">\n  <thead>\n    <tr style=\"text-align: right;\">\n      <th></th>\n      <th>description</th>\n      <th>deprecated</th>\n      <th>class_id</th>\n      <th>class_name</th>\n    </tr>\n  </thead>\n  <tbody>\n    <tr>\n      <th>0</th>\n      <td>missing</td>\n      <td>False</td>\n      <td>BidDocumentHeader</td>\n      <td>BidDocumentHeader</td>\n    </tr>\n    <tr>\n      <th>1</th>\n      <td>missing</td>\n      <td>False</td>\n      <td>BidInterval</td>\n      <td>BidInterval</td>\n    </tr>\n    <tr>\n      <th>2</th>\n      <td>missing</td>\n      <td>False</td>\n      <td>ReserveBidTimeSeries</td>\n      <td>ReserveBidTimeSeries</td>\n    </tr>\n    <tr>\n      <th>3</th>\n      <td>missing</td>\n      <td>False</td>\n      <td>Periods</td>\n      <td>Periods</td>\n    </tr>\n    <tr>\n      <th>4</th>\n      <td>missing</td>\n      <td>False</td>\n      <td>TimeInterval</td>\n      <td>TimeInterval</td>\n    </tr>\n    <tr>\n      <th>5</th>\n      <td>missing</td>\n      <td>False</td>\n      <td>BidCurves</td>\n      <td>BidCurves</td>\n    </tr>\n  </tbody>\n</table>\n</div>"
     },
     "execution_count": 10,
     "metadata": {},
     "output_type": "execute_result"
    }
   ],
   "source": [
    "rules.classes"
   ]
  },
  {
   "cell_type": "code",
   "execution_count": 11,
   "id": "c767653dcdd8caed",
   "metadata": {
    "collapsed": false,
    "ExecuteTime": {
     "end_time": "2023-11-14T14:30:08.435243400Z",
     "start_time": "2023-11-14T14:30:08.312731300Z"
    }
   },
   "outputs": [
    {
     "data": {
      "text/plain": "<IPython.core.display.Markdown object>",
      "text/markdown": "### BidDocumentHeader"
     },
     "metadata": {},
     "output_type": "display_data"
    },
    {
     "data": {
      "text/plain": "ResourceDict(data={'row 3': Property(description='missing', cdf_resource_type=['Asset'], deprecated=False, deprecation_date=None, replaced_by=None, source=None, source_entity_name=None, match_type=None, comment=None, class_id='BidDocumentHeader', property_id='DocumentTypeName', property_name='DocumentTypeName', expected_value_type='string', min_count=0, max_count=1, default=None, property_type='DatatypeProperty', resource_type_property=['Asset'], source_type='Asset', target_type='Asset', label='linked to', relationship_external_id_rule=None, rule_type=<TransformationRuleType.rdfpath: 'rdfpath'>, rule='neat:BidDocumentHeader(neat:DocumentTypeName)', skip_rule=False), 'row 4': Property(description='missing', cdf_resource_type=['Asset'], deprecated=False, deprecation_date=None, replaced_by=None, source=None, source_entity_name=None, match_type=None, comment=None, class_id='BidDocumentHeader', property_id='ProcessTypeName', property_name='ProcessTypeName', expected_value_type='string', min_count=0, max_count=1, default=None, property_type='DatatypeProperty', resource_type_property=['Asset'], source_type='Asset', target_type='Asset', label='linked to', relationship_external_id_rule=None, rule_type=<TransformationRuleType.rdfpath: 'rdfpath'>, rule='neat:BidDocumentHeader(neat:ProcessTypeName)', skip_rule=False), 'row 5': Property(description='missing', cdf_resource_type=['Asset'], deprecated=False, deprecation_date=None, replaced_by=None, source=None, source_entity_name=None, match_type=None, comment=None, class_id='BidDocumentHeader', property_id='TSO', property_name='TSO', expected_value_type='string', min_count=0, max_count=1, default=None, property_type='DatatypeProperty', resource_type_property=['Asset'], source_type='Asset', target_type='Asset', label='linked to', relationship_external_id_rule=None, rule_type=<TransformationRuleType.rdfpath: 'rdfpath'>, rule='neat:BidDocumentHeader(neat:TSO)', skip_rule=False), 'row 6': Property(description='missing', cdf_resource_type=['Asset'], deprecated=False, deprecation_date=None, replaced_by=None, source=None, source_entity_name=None, match_type=None, comment=None, class_id='BidDocumentHeader', property_id='Owner', property_name='Owner', expected_value_type='string', min_count=0, max_count=1, default=None, property_type='DatatypeProperty', resource_type_property=['Asset'], source_type='Asset', target_type='Asset', label='linked to', relationship_external_id_rule=None, rule_type=<TransformationRuleType.rdfpath: 'rdfpath'>, rule='neat:BidDocumentHeader(neat:Owner)', skip_rule=False), 'row 7': Property(description='missing', cdf_resource_type=['Asset'], deprecated=False, deprecation_date=None, replaced_by=None, source=None, source_entity_name=None, match_type=None, comment=None, class_id='BidDocumentHeader', property_id='CreatedDateTime', property_name='CreatedDateTime', expected_value_type='dateTime', min_count=0, max_count=1, default=None, property_type='DatatypeProperty', resource_type_property=['Asset'], source_type='Asset', target_type='Asset', label='linked to', relationship_external_id_rule=None, rule_type=<TransformationRuleType.rdfpath: 'rdfpath'>, rule='neat:BidDocumentHeader(neat:CreatedDateTime)', skip_rule=False), 'row 8': Property(description='missing', cdf_resource_type=['Asset'], deprecated=False, deprecation_date=None, replaced_by=None, source=None, source_entity_name=None, match_type=None, comment=None, class_id='BidDocumentHeader', property_id='BidInterval', property_name='BidInterval', expected_value_type='BidInterval', min_count=0, max_count=1, default=None, property_type='ObjectProperty', resource_type_property=['Asset'], source_type='Asset', target_type='Asset', label='linked to', relationship_external_id_rule=None, rule_type=<TransformationRuleType.rdfpath: 'rdfpath'>, rule='neat:BidDocumentHeader(neat:BidInterval)', skip_rule=False), 'row 11': Property(description='missing', cdf_resource_type=['Asset'], deprecated=False, deprecation_date=None, replaced_by=None, source=None, source_entity_name=None, match_type=None, comment=None, class_id='BidDocumentHeader', property_id='Country', property_name='Country', expected_value_type='string', min_count=0, max_count=1, default=None, property_type='DatatypeProperty', resource_type_property=['Asset'], source_type='Asset', target_type='Asset', label='linked to', relationship_external_id_rule=None, rule_type=<TransformationRuleType.rdfpath: 'rdfpath'>, rule='neat:BidDocumentHeader(neat:Country)', skip_rule=False), 'row 12': Property(description='missing', cdf_resource_type=['Asset'], deprecated=False, deprecation_date=None, replaced_by=None, source=None, source_entity_name=None, match_type=None, comment=None, class_id='BidDocumentHeader', property_id='Origin', property_name='Origin', expected_value_type='string', min_count=0, max_count=1, default=None, property_type='DatatypeProperty', resource_type_property=['Asset'], source_type='Asset', target_type='Asset', label='linked to', relationship_external_id_rule=None, rule_type=<TransformationRuleType.rdfpath: 'rdfpath'>, rule='neat:BidDocumentHeader(neat:Origin)', skip_rule=False)})",
      "text/html": "<div>\n<style scoped>\n    .dataframe tbody tr th:only-of-type {\n        vertical-align: middle;\n    }\n\n    .dataframe tbody tr th {\n        vertical-align: top;\n    }\n\n    .dataframe thead th {\n        text-align: right;\n    }\n</style>\n<table border=\"1\" class=\"dataframe\">\n  <thead>\n    <tr style=\"text-align: right;\">\n      <th></th>\n      <th>description</th>\n      <th>cdf_resource_type</th>\n      <th>deprecated</th>\n      <th>class_id</th>\n      <th>property_id</th>\n      <th>property_name</th>\n      <th>expected_value_type</th>\n      <th>min_count</th>\n      <th>max_count</th>\n      <th>property_type</th>\n      <th>resource_type_property</th>\n      <th>source_type</th>\n      <th>target_type</th>\n      <th>label</th>\n      <th>rule_type</th>\n      <th>rule</th>\n      <th>skip_rule</th>\n    </tr>\n  </thead>\n  <tbody>\n    <tr>\n      <th>0</th>\n      <td>missing</td>\n      <td>[Asset]</td>\n      <td>False</td>\n      <td>BidDocumentHeader</td>\n      <td>DocumentTypeName</td>\n      <td>DocumentTypeName</td>\n      <td>string</td>\n      <td>0</td>\n      <td>1</td>\n      <td>DatatypeProperty</td>\n      <td>[Asset]</td>\n      <td>Asset</td>\n      <td>Asset</td>\n      <td>linked to</td>\n      <td>rdfpath</td>\n      <td>neat:BidDocumentHeader(neat:DocumentTypeName)</td>\n      <td>False</td>\n    </tr>\n    <tr>\n      <th>1</th>\n      <td>missing</td>\n      <td>[Asset]</td>\n      <td>False</td>\n      <td>BidDocumentHeader</td>\n      <td>ProcessTypeName</td>\n      <td>ProcessTypeName</td>\n      <td>string</td>\n      <td>0</td>\n      <td>1</td>\n      <td>DatatypeProperty</td>\n      <td>[Asset]</td>\n      <td>Asset</td>\n      <td>Asset</td>\n      <td>linked to</td>\n      <td>rdfpath</td>\n      <td>neat:BidDocumentHeader(neat:ProcessTypeName)</td>\n      <td>False</td>\n    </tr>\n    <tr>\n      <th>2</th>\n      <td>missing</td>\n      <td>[Asset]</td>\n      <td>False</td>\n      <td>BidDocumentHeader</td>\n      <td>TSO</td>\n      <td>TSO</td>\n      <td>string</td>\n      <td>0</td>\n      <td>1</td>\n      <td>DatatypeProperty</td>\n      <td>[Asset]</td>\n      <td>Asset</td>\n      <td>Asset</td>\n      <td>linked to</td>\n      <td>rdfpath</td>\n      <td>neat:BidDocumentHeader(neat:TSO)</td>\n      <td>False</td>\n    </tr>\n    <tr>\n      <th>3</th>\n      <td>missing</td>\n      <td>[Asset]</td>\n      <td>False</td>\n      <td>BidDocumentHeader</td>\n      <td>Owner</td>\n      <td>Owner</td>\n      <td>string</td>\n      <td>0</td>\n      <td>1</td>\n      <td>DatatypeProperty</td>\n      <td>[Asset]</td>\n      <td>Asset</td>\n      <td>Asset</td>\n      <td>linked to</td>\n      <td>rdfpath</td>\n      <td>neat:BidDocumentHeader(neat:Owner)</td>\n      <td>False</td>\n    </tr>\n    <tr>\n      <th>4</th>\n      <td>missing</td>\n      <td>[Asset]</td>\n      <td>False</td>\n      <td>BidDocumentHeader</td>\n      <td>CreatedDateTime</td>\n      <td>CreatedDateTime</td>\n      <td>dateTime</td>\n      <td>0</td>\n      <td>1</td>\n      <td>DatatypeProperty</td>\n      <td>[Asset]</td>\n      <td>Asset</td>\n      <td>Asset</td>\n      <td>linked to</td>\n      <td>rdfpath</td>\n      <td>neat:BidDocumentHeader(neat:CreatedDateTime)</td>\n      <td>False</td>\n    </tr>\n    <tr>\n      <th>5</th>\n      <td>missing</td>\n      <td>[Asset]</td>\n      <td>False</td>\n      <td>BidDocumentHeader</td>\n      <td>BidInterval</td>\n      <td>BidInterval</td>\n      <td>BidInterval</td>\n      <td>0</td>\n      <td>1</td>\n      <td>ObjectProperty</td>\n      <td>[Asset]</td>\n      <td>Asset</td>\n      <td>Asset</td>\n      <td>linked to</td>\n      <td>rdfpath</td>\n      <td>neat:BidDocumentHeader(neat:BidInterval)</td>\n      <td>False</td>\n    </tr>\n    <tr>\n      <th>6</th>\n      <td>missing</td>\n      <td>[Asset]</td>\n      <td>False</td>\n      <td>BidDocumentHeader</td>\n      <td>Country</td>\n      <td>Country</td>\n      <td>string</td>\n      <td>0</td>\n      <td>1</td>\n      <td>DatatypeProperty</td>\n      <td>[Asset]</td>\n      <td>Asset</td>\n      <td>Asset</td>\n      <td>linked to</td>\n      <td>rdfpath</td>\n      <td>neat:BidDocumentHeader(neat:Country)</td>\n      <td>False</td>\n    </tr>\n    <tr>\n      <th>7</th>\n      <td>missing</td>\n      <td>[Asset]</td>\n      <td>False</td>\n      <td>BidDocumentHeader</td>\n      <td>Origin</td>\n      <td>Origin</td>\n      <td>string</td>\n      <td>0</td>\n      <td>1</td>\n      <td>DatatypeProperty</td>\n      <td>[Asset]</td>\n      <td>Asset</td>\n      <td>Asset</td>\n      <td>linked to</td>\n      <td>rdfpath</td>\n      <td>neat:BidDocumentHeader(neat:Origin)</td>\n      <td>False</td>\n    </tr>\n  </tbody>\n</table>\n</div>"
     },
     "metadata": {},
     "output_type": "display_data"
    }
   ],
   "source": [
    "from IPython.display import display, Markdown\n",
    "\n",
    "for class_id, properties in rules.properties.groupby(\"class_id\").items():\n",
    "    display(Markdown(f\"### {class_id}\"))\n",
    "    display(properties)\n",
    "    break"
   ]
  },
  {
   "cell_type": "code",
   "execution_count": 12,
   "id": "3565563b3846a1bd",
   "metadata": {
    "collapsed": false,
    "editable": true,
    "slideshow": {
     "slide_type": ""
    },
    "tags": [
     "hide"
    ],
    "ExecuteTime": {
     "end_time": "2023-11-14T14:30:09.196064200Z",
     "start_time": "2023-11-14T14:30:09.175823100Z"
    }
   },
   "outputs": [
    {
     "data": {
      "text/plain": "<IPython.core.display.Markdown object>",
      "text/markdown": "We can see that `neat` successfully identified 6 classes and 24 properties."
     },
     "metadata": {},
     "output_type": "display_data"
    }
   ],
   "source": [
    "display(Markdown(f\"We can see that `neat` successfully identified {len(rules.classes)} classes and {len(rules.properties)} properties.\")) "
   ]
  },
  {
   "cell_type": "markdown",
   "id": "66722d5b60e51ace",
   "metadata": {
    "collapsed": false
   },
   "source": [
    "## Export Data Model\n",
    "\n",
    "Now we can export these rules to a data model in DMS format which we can write to CDF."
   ]
  },
  {
   "cell_type": "code",
   "execution_count": 13,
   "outputs": [],
   "source": [
    "from cognite.client.data_classes.data_modeling import DataModelId"
   ],
   "metadata": {
    "collapsed": false,
    "ExecuteTime": {
     "end_time": "2023-11-14T14:30:10.329823500Z",
     "start_time": "2023-11-14T14:30:10.317231300Z"
    }
   },
   "id": "30613ccc5e41bd76"
  },
  {
   "cell_type": "code",
   "execution_count": 14,
   "id": "635a3e519edeb08",
   "metadata": {
    "collapsed": false,
    "ExecuteTime": {
     "end_time": "2023-11-14T14:30:11.060196900Z",
     "start_time": "2023-11-14T14:30:11.023723300Z"
    }
   },
   "outputs": [],
   "source": [
    "dms_exporter = exporter.DMSExporter(rules, DataModelId(\"mySpace\", \"CapacityBid\", \"1\"))"
   ]
  },
  {
   "cell_type": "code",
   "execution_count": 15,
   "id": "8f48dbee5786b844",
   "metadata": {
    "collapsed": false,
    "ExecuteTime": {
     "end_time": "2023-11-14T14:30:11.738818100Z",
     "start_time": "2023-11-14T14:30:11.706912100Z"
    }
   },
   "outputs": [],
   "source": [
    "dms_schema = dms_exporter.export()"
   ]
  },
  {
   "cell_type": "code",
   "execution_count": 16,
   "id": "551fa490bf95d06a",
   "metadata": {
    "collapsed": false,
    "ExecuteTime": {
     "end_time": "2023-11-14T14:30:12.064358600Z",
     "start_time": "2023-11-14T14:30:12.023773800Z"
    }
   },
   "outputs": [
    {
     "data": {
      "text/plain": "<DataModelApply(space='mySpace', external_id='CapacityBid', version='1') at 0x2bc612d3e50>",
      "text/html": "<div>\n<style scoped>\n    .dataframe tbody tr th:only-of-type {\n        vertical-align: middle;\n    }\n\n    .dataframe tbody tr th {\n        vertical-align: top;\n    }\n\n    .dataframe thead th {\n        text-align: right;\n    }\n</style>\n<table border=\"1\" class=\"dataframe\">\n  <thead>\n    <tr style=\"text-align: right;\">\n      <th></th>\n      <th>value</th>\n    </tr>\n  </thead>\n  <tbody>\n    <tr>\n      <th>space</th>\n      <td>mySpace</td>\n    </tr>\n    <tr>\n      <th>external_id</th>\n      <td>CapacityBid</td>\n    </tr>\n    <tr>\n      <th>description</th>\n      <td>OpenAPI to DM transformation rules</td>\n    </tr>\n    <tr>\n      <th>name</th>\n      <td>OpenAPI to DM transformation rules</td>\n    </tr>\n    <tr>\n      <th>version</th>\n      <td>1</td>\n    </tr>\n    <tr>\n      <th>views</th>\n      <td>[{'space': 'mySpace', 'external_id': 'BidDocum...</td>\n    </tr>\n  </tbody>\n</table>\n</div>"
     },
     "execution_count": 16,
     "metadata": {},
     "output_type": "execute_result"
    }
   ],
   "source": [
    "dms_schema.data_model"
   ]
  },
  {
   "cell_type": "code",
   "execution_count": 17,
   "id": "7b67cc9054d88aad",
   "metadata": {
    "collapsed": false,
    "ExecuteTime": {
     "end_time": "2023-11-14T14:30:12.914323800Z",
     "start_time": "2023-11-14T14:30:12.866611700Z"
    }
   },
   "outputs": [
    {
     "data": {
      "text/plain": "ContainerApplyList([<ContainerApply(space='mySpace', external_id='BidDocumentHeader') at 0x2bc612d2210>,\n                    <ContainerApply(space='mySpace', external_id='BidInterval') at 0x2bc612d1010>,\n                    <ContainerApply(space='mySpace', external_id='ReserveBidTimeSeries') at 0x2bc612d0390>,\n                    <ContainerApply(space='mySpace', external_id='Periods') at 0x2bc612d0590>,\n                    <ContainerApply(space='mySpace', external_id='TimeInterval') at 0x2bc612d1810>,\n                    <ContainerApply(space='mySpace', external_id='BidCurves') at 0x2bc612d1590>])",
      "text/html": "<div>\n<style scoped>\n    .dataframe tbody tr th:only-of-type {\n        vertical-align: middle;\n    }\n\n    .dataframe tbody tr th {\n        vertical-align: top;\n    }\n\n    .dataframe thead th {\n        text-align: right;\n    }\n</style>\n<table border=\"1\" class=\"dataframe\">\n  <thead>\n    <tr style=\"text-align: right;\">\n      <th></th>\n      <th>space</th>\n      <th>external_id</th>\n      <th>description</th>\n      <th>name</th>\n      <th>properties</th>\n    </tr>\n  </thead>\n  <tbody>\n    <tr>\n      <th>0</th>\n      <td>mySpace</td>\n      <td>BidDocumentHeader</td>\n      <td>missing</td>\n      <td>BidDocumentHeader</td>\n      <td>{'DocumentTypeName': {'type': {'list': False, ...</td>\n    </tr>\n    <tr>\n      <th>1</th>\n      <td>mySpace</td>\n      <td>BidInterval</td>\n      <td>missing</td>\n      <td>BidInterval</td>\n      <td>{'Start': {'type': {'list': False, 'type': 'ti...</td>\n    </tr>\n    <tr>\n      <th>2</th>\n      <td>mySpace</td>\n      <td>ReserveBidTimeSeries</td>\n      <td>missing</td>\n      <td>ReserveBidTimeSeries</td>\n      <td>{'BidType': {'type': {'list': False, 'collatio...</td>\n    </tr>\n    <tr>\n      <th>3</th>\n      <td>mySpace</td>\n      <td>Periods</td>\n      <td>missing</td>\n      <td>Periods</td>\n      <td>{'Resolution': {'type': {'list': False, 'colla...</td>\n    </tr>\n    <tr>\n      <th>4</th>\n      <td>mySpace</td>\n      <td>TimeInterval</td>\n      <td>missing</td>\n      <td>TimeInterval</td>\n      <td>{'Start': {'type': {'list': False, 'type': 'ti...</td>\n    </tr>\n    <tr>\n      <th>5</th>\n      <td>mySpace</td>\n      <td>BidCurves</td>\n      <td>missing</td>\n      <td>BidCurves</td>\n      <td>{'ReserveObject': {'type': {'list': False, 'co...</td>\n    </tr>\n  </tbody>\n</table>\n</div>"
     },
     "execution_count": 17,
     "metadata": {},
     "output_type": "execute_result"
    }
   ],
   "source": [
    "dms_schema.containers"
   ]
  },
  {
   "cell_type": "markdown",
   "id": "c33316e84b976b83",
   "metadata": {
    "collapsed": false
   },
   "source": [
    "These containers can now be written to CDF using the Cognite Python SDK.\n",
    "\n",
    "```python\n",
    "from cognite.client import CogniteClient\n",
    "\n",
    "client = CogniteClient()\n",
    "\n",
    "client.data_modeling.containers.apply(dms_schema.containers)\n",
    "client.data_modeling.data_models.apply(dms_schema.data_model)\n",
    "``` \n"
   ]
  },
  {
   "cell_type": "markdown",
   "id": "a04e6d1d06fe962b",
   "metadata": {
    "collapsed": false
   },
   "source": [
    "We can inspect the data model in CDF's UI Fusion:\n",
    "\n",
    "![Capacity Bid Data Model](../figs/bid_capacity_data_model.png)\n"
   ]
  },
  {
   "cell_type": "markdown",
   "id": "3d06d14c268c96e3",
   "metadata": {
    "collapsed": false
   },
   "source": [
    "## Learn More"
   ]
  },
  {
   "cell_type": "markdown",
   "id": "f3da6363be7f625a",
   "metadata": {
    "collapsed": false
   },
   "source": [
    "You can easily inspect the available importers and exporters in `neat` by importing them as above and using the `.` notation to see the available classes and methods.\n",
    "\n",
    "The documentation of them are available at [Importers](../api/rules/importers.html) and [Exporters](../api/rules/exporters.html)."
   ]
  },
  {
   "cell_type": "code",
   "execution_count": null,
   "id": "f7dc61e272a7fa9c",
   "metadata": {
    "collapsed": false
   },
   "outputs": [],
   "source": [
    "ArbitraryJSONImporter"
   ]
  }
 ],
 "metadata": {
  "kernelspec": {
   "display_name": "Python 3 (ipykernel)",
   "language": "python",
   "name": "python3"
  },
  "language_info": {
   "codemirror_mode": {
    "name": "ipython",
    "version": 3
   },
   "file_extension": ".py",
   "mimetype": "text/x-python",
   "name": "python",
   "nbconvert_exporter": "python",
   "pygments_lexer": "ipython3",
   "version": "3.11.4"
  }
 },
 "nbformat": 4,
 "nbformat_minor": 5
}
