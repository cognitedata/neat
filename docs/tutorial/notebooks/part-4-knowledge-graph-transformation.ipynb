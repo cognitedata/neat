{
 "cells": [
  {
   "attachments": {},
   "cell_type": "markdown",
   "metadata": {},
   "source": [
    "# Part 4: Source to Solution Graph\n",
    "\n",
    "[![Notebook](https://shields.io/badge/notebook-access-green?logo=jupyter&style=for-the-badge)](https://github.com/cognitedata/neat/blob/docs/tutorial/notebooks/part-4-knowledge-graph-transformation.ipynb)\n",
    "\n",
    "* author: Nikola Vasiljevic\n",
    "* date: 2023-02-12\n",
    "\n",
    "\n",
    "In this Part 4 of tutorial series we will most comprehensive feature of NEAT and that is transformation of source knowledge graph to solution graph and the latter conversion to CDF asset hierarchy. We will work with Nordic44 knowledge graph sourced from the RDF/XML file. We will use Nordic44 Equipment Profile knowledge graph, which contains number instances which conform to CIM (Common Information Model) data model. Nordic44 is open source and it is primarily tailored for research purpose.\n",
    "\n",
    "First download necessary files:\n",
    "- [Transformation rules](https://github.com/cognitedata/neat/blob/main/cognite/neat/examples/rules/source-to-solution-mapping-rules.xlsx)\n",
    "- [Nordic44 knowledge graph](https://github.com/cognitedata/neat/blob/main/cognite/neat/examples/source-graphs/Knowledge-Graph-Nordic44.xml)\n",
    "\n",
    "and placed them at convenient location for loading in this notebook.\n",
    "\n",
    "\n",
    "Alternatively, if you have cloned `neat` repository, you will find the aforementioned files in:\n",
    "\n",
    " - `./cognite/neat/exaples/rules/source-to-solution-mapping-rules.xlsx`\n",
    " - `./cognite/neat/exaples/source_graphs/Knowledge-Graph-Nordic44.xml`\n",
    "\n",
    "\n",
    "Also, for convenience store configuration of a Cognite client in `.env` file, with following structure:\n",
    "\n",
    "```\n",
    "\n",
    "TENANT_ID = ...\n",
    "CLIENT_ID = ...\n",
    "CLIENT_SECRET = ...\n",
    "CDF_CLUSTER = ...\n",
    "COGNITE_PROJECT = ...\n",
    "\n",
    "```\n",
    "\n",
    "This file will be loaded as config dictionary and used to configure the Cognite client.\n",
    "\n",
    "\n",
    "Once you located necessary files, created `.env` file, load necessary libraries:"
   ]
  },
  {
   "cell_type": "code",
   "execution_count": 1,
   "metadata": {},
   "outputs": [],
   "source": [
    "from pathlib import Path\n",
    "\n",
    "from cognite.client import CogniteClient, ClientConfig\n",
    "from cognite.client.credentials import OAuthClientCredentials\n",
    "\n",
    "from cognite.neat.core import loader, parser, extractors\n",
    "from cognite.neat.core.mocks.graph import generate_triples\n",
    "from cognite.neat.core.utils import add_triples, remove_namespace\n",
    "from cognite.neat.core import transformer\n",
    "\n",
    "from dotenv import dotenv_values\n",
    "\n",
    "\n",
    "%reload_ext autoreload\n",
    "%autoreload 2"
   ]
  },
  {
   "attachments": {},
   "cell_type": "markdown",
   "metadata": {},
   "source": [
    "Let's instantiate CDF client in same why we did in Part 4:"
   ]
  },
  {
   "cell_type": "code",
   "execution_count": 2,
   "metadata": {},
   "outputs": [],
   "source": [
    "\n",
    "config = dotenv_values(\"insert_path_to_.env_file_here\")\n",
    "\n",
    "SCOPES = [f\"https://{config['CDF_CLUSTER']}.cognitedata.com/.default\"]\n",
    "TOKEN_URL = f\"https://login.microsoftonline.com/{config['TENANT_ID']}/oauth2/v2.0/token\"\n",
    "\n",
    "credentials = OAuthClientCredentials(token_url=TOKEN_URL, \n",
    "                                     client_id=config['CLIENT_ID'], \n",
    "                                     client_secret=config['CLIENT_SECRET'], \n",
    "                                     scopes=SCOPES)\n",
    "\n",
    "client_config = ClientConfig(client_name=\"cognite\",\n",
    "                             base_url=f\"https://{config['CDF_CLUSTER']}.cognitedata.com\",\n",
    "                             project=config['COGNITE_PROJECT'],\n",
    "                             credentials=credentials,\n",
    "                             max_workers=1,\n",
    "                             timeout=5 * 60,)\n",
    "\n",
    "client = CogniteClient(client_config)"
   ]
  },
  {
   "attachments": {},
   "cell_type": "markdown",
   "metadata": {},
   "source": [
    "Let's load transformation rules:"
   ]
  },
  {
   "cell_type": "code",
   "execution_count": 3,
   "metadata": {},
   "outputs": [
    {
     "data": {
      "text/plain": [
       "{'GeographicalRegion',\n",
       " 'Orphanage',\n",
       " 'RootCIMNode',\n",
       " 'SubGeographicalRegion',\n",
       " 'Substation',\n",
       " 'Terminal'}"
      ]
     },
     "execution_count": 3,
     "metadata": {},
     "output_type": "execute_result"
    }
   ],
   "source": [
    "TRANSFORMATION_RULES = Path(\"insert_path_to_transformation_rules.xlsx_here\")\n",
    "raw_sheets = loader.rules.excel_file_to_table_by_name(TRANSFORMATION_RULES)\n",
    "transformation_rules = parser.parse_transformation_rules(raw_sheets)\n",
    "\n",
    "transformation_rules.get_defined_classes()"
   ]
  },
  {
   "attachments": {},
   "cell_type": "markdown",
   "metadata": {},
   "source": [
    "Unlike Part 3, in this tutorial we need to create two instances of graph stores, one to hold triples of source graph, and second to hold triples of solution graph.\n",
    "As we are loading existing graph to source we will need to specify its namespace, which we have conveniently stored in `Prefixes` sheet under `nordic44`:"
   ]
  },
  {
   "cell_type": "code",
   "execution_count": 4,
   "metadata": {},
   "outputs": [],
   "source": [
    "source_store = loader.NeatGraphStore(prefixes=transformation_rules.prefixes, \n",
    "                                     namespace=transformation_rules.prefixes[\"nordic44\"])\n",
    "source_store.init_graph(base_prefix=transformation_rules.metadata.prefix)\n",
    "\n",
    "\n",
    "solution_store = loader.NeatGraphStore(prefixes=transformation_rules.prefixes, \n",
    "                                    namespace=transformation_rules.metadata.namespace)\n",
    "solution_store.init_graph(base_prefix=transformation_rules.metadata.prefix)"
   ]
  },
  {
   "attachments": {},
   "cell_type": "markdown",
   "metadata": {},
   "source": [
    "Now let's import Nordic44 triples to `source_store`:"
   ]
  },
  {
   "cell_type": "code",
   "execution_count": 5,
   "metadata": {},
   "outputs": [],
   "source": [
    "source_store.import_from_file(Path(\"insert_path_to_Knowledge-Graph-Nordic44.xml_here\"))"
   ]
  },
  {
   "attachments": {},
   "cell_type": "markdown",
   "metadata": {},
   "source": [
    "\n",
    "This query should return list of tuples containing URIs (i.e., references, globally unique ids) of RDFS classes in Nordic44 knowledge graph. The result will be a mix of base RDFS classes such as `Class`, `Property`, but also classes specific to `CIM` namespace:\n",
    "\n",
    "Let's list top 20 classes and number of their instances like we did in previous tutorials. As will see the number of substations is 44, reason why Nordic44 has 44 in its name."
   ]
  },
  {
   "cell_type": "code",
   "execution_count": 6,
   "metadata": {},
   "outputs": [
    {
     "name": "stdout",
     "output_type": "stream",
     "text": [
      "namespace            | class name          \n",
      "----------------------------------------\n",
      "CurrentLimit         | 530                 \n",
      "Terminal             | 452                 \n",
      "OperationalLimitSet  | 238                 \n",
      "OperatingShare       | 207                 \n",
      "VoltageLimit         | 184                 \n",
      "AnalogValue          | 133                 \n",
      "ConnectivityNode     | 89                  \n",
      "GeneratingUnit       | 80                  \n",
      "SynchronousMachine   | 80                  \n",
      "ACLineSegment        | 68                  \n",
      "Line                 | 68                  \n",
      "BusbarSection        | 46                  \n",
      "VoltageLevel         | 45                  \n",
      "Substation           | 44                  \n",
      "ConformLoad          | 35                  \n",
      "ConformLoadGroup     | 35                  \n",
      "Analog               | 30                  \n",
      "Breaker              | 29                  \n",
      "Disconnector         | 26                  \n",
      "PowerTransformerEnd  | 24                  \n",
      "RegulatingControl    | 18                  \n",
      "Bay                  | 16                  \n"
     ]
    }
   ],
   "source": [
    "print(f\"{'namespace':20} | {'class name':20}\")\n",
    "print(40*\"-\")\n",
    "\n",
    "for i, res in enumerate(list(source_store.graph.query(\"SELECT ?class (count(?s) as ?instances ) WHERE { ?s a ?class . } group by ?class order by DESC(?instances)\"))):\n",
    "    print(f\"{remove_namespace(res[0]):20} | {res[1]:20}\" )\n",
    "    if i > 20:\n",
    "        break"
   ]
  },
  {
   "attachments": {},
   "cell_type": "markdown",
   "metadata": {},
   "source": [
    "If we try to do the same for `solution_store` we will that it is empty:"
   ]
  },
  {
   "cell_type": "code",
   "execution_count": 7,
   "metadata": {},
   "outputs": [
    {
     "name": "stdout",
     "output_type": "stream",
     "text": [
      "namespace            | class name          \n",
      "----------------------------------------\n"
     ]
    }
   ],
   "source": [
    "print(f\"{'namespace':20} | {'class name':20}\")\n",
    "print(40*\"-\")\n",
    "\n",
    "for i, res in enumerate(list(solution_store.graph.query(\"SELECT ?class (count(?s) as ?instances ) WHERE { ?s a ?class . } group by ?class order by DESC(?instances)\"))):\n",
    "    print(f\"{remove_namespace(res[0]):20} | {res[1]:20}\" )\n",
    "    if i > 20:\n",
    "        break"
   ]
  },
  {
   "attachments": {},
   "cell_type": "markdown",
   "metadata": {},
   "source": [
    "If you closely inspect transformation rules, we are not interested in all classes that are represented by Nordic44 knowledge graph, but only selected few.\n",
    "Furthermore, as described in [rule types](../../rule-types.md), often source graph are deep and one is required to perform multiple hops to acquire a specific information.\n",
    "Therefore, it is convenient to \"short path\", thus transform graph to be more performant, basically flattening graph structure to help us achieve simpler queries.\n",
    "\n",
    "You can see that this is exactly what we are doing in case of links between substations and terminals. We are greatly reducing the traversal path.\n",
    "\n",
    "To perform transformations described in the transformation rules, The actual knowledge graph transformation is achieved using method `domain2app_knowledge_graph` which will execute transformation rules one by one.\n",
    "To automatically commit new triples we wrap this method in `NeatGraphStore.set_graph()`. \n",
    "As you can see we are passing couple of arguments to this method, which are:\n",
    "- source knowledge graph\n",
    "- transformation rules\n",
    "- target knowledge graph (this to make sure triples are committed to the graph database as they are being created)\n",
    "- extra triples to be injected to the target knowledge graph (see INSTANCES sheet in the transformation rules Excel file)\n",
    "- instance of Cognite Client (to be able to fetch data from CDF RAW in case of `rawlookup` rules)\n",
    "- CDF RAW database name (to be able to fetch data from CDF RAW in case of `rawlookup` rules)"
   ]
  },
  {
   "cell_type": "code",
   "execution_count": 8,
   "metadata": {},
   "outputs": [],
   "source": [
    "solution_store.set_graph(\n",
    "            transformer.source2solution_graph(\n",
    "                source_store.get_graph(),\n",
    "                transformation_rules,\n",
    "                solution_store.get_graph(),\n",
    "                extra_triples = transformation_rules.instances)\n",
    "        \n",
    "        )"
   ]
  },
  {
   "attachments": {},
   "cell_type": "markdown",
   "metadata": {},
   "source": [
    "Let's now inspect graph `solution_store` and see breakdown of number of instances per class:"
   ]
  },
  {
   "cell_type": "code",
   "execution_count": 9,
   "metadata": {},
   "outputs": [
    {
     "name": "stdout",
     "output_type": "stream",
     "text": [
      "namespace                      | class name          \n",
      "----------------------------------------\n",
      "Terminal                       | 452                 \n",
      "Substation                     | 44                  \n",
      "SubGeographicalRegion          | 10                  \n",
      "GeographicalRegion             | 2                   \n",
      "RootCIMNode                    | 1                   \n"
     ]
    }
   ],
   "source": [
    "print(f\"{'namespace':30} | {'class name':20}\")\n",
    "print(40*\"-\")\n",
    "\n",
    "for res in list(solution_store.graph.query(\"SELECT ?class (count(?s) as ?instances ) WHERE { ?s a ?class . } group by ?class order by DESC(?instances)\")):\n",
    "    print(f\"{remove_namespace(res[0]):30} | {res[1]:20}\" )"
   ]
  },
  {
   "attachments": {},
   "cell_type": "markdown",
   "metadata": {},
   "source": [
    "As one can notice, with the transformation rules we have cherry picked classes existing or created new properties to suite out need.\n",
    "\n",
    "Let's continue and see how corresponding assets will look like in CDF. We will use same methods as one in Part 3 notebook.\n",
    "\n",
    "<!-- Let's create them using method `rdf2asset`. To this method we are passing following arguments:\n",
    "- target knowledge graph\n",
    "- transformation rules, which contain mapping of RDF classes and properties to CDF Assets and their properties\n",
    "- prefix to external id (useful if multiple people are working with the same CDF project to avoid conflicts in external ids)\n",
    "- external id of Orphanage root asset (this is used in case of RDF instances which are expected to have parent asset, but do not have it defined in the source knowledge graph, so we will assign them to this root asset)\n",
    "\n",
    "\n",
    " and later on categorize them to those that will be:\n",
    "- freshly created\n",
    "- updated\n",
    "- decommissioned (setting their end date, and labeling them as historic)\n",
    "- resurrected (stating date when they are reactivated and removing historic label) -->"
   ]
  },
  {
   "cell_type": "code",
   "execution_count": 10,
   "metadata": {},
   "outputs": [
    {
     "name": "stderr",
     "output_type": "stream",
     "text": [
      "ERROR:root:Error while loading instances of class <http://purl.org/cognite/tnt#Orphanage> into cache. Reason: 'instance'\n"
     ]
    },
    {
     "name": "stdout",
     "output_type": "stream",
     "text": [
      "Orphanage with external id orphanage-2626756768281823 not found in asset hierarchy!"
     ]
    },
    {
     "name": "stderr",
     "output_type": "stream",
     "text": [
      "WARNING:root:Orphanage with external id orphanage-2626756768281823 not found in asset hierarchy!\n",
      "WARNING:root:Adding default orphanage with external id orphanage-2626756768281823\n"
     ]
    },
    {
     "name": "stdout",
     "output_type": "stream",
     "text": [
      "\n"
     ]
    }
   ],
   "source": [
    "candidate_assets = extractors.rdf2assets(solution_store, transformation_rules)\n"
   ]
  },
  {
   "attachments": {},
   "cell_type": "markdown",
   "metadata": {},
   "source": [
    "We have corrupted Nordic44 knowledge graph to show you how `NEAT` handles missing properties or isolated nodes.\n",
    "\n",
    "In the source knowledge graph there are three \"problematic\" instances, which ended in the target knowledge graph:\n",
    "- An instance of GeographicalRegion which is missing relationship to its parent asset, specifically `RootCIMNode`\n",
    "- An instance of SubGeographicalRegion which is missing relationship to a `GeographicalRegion`, i.e. its parent asset\n",
    "- An instance of Terminal that is missing property that maps to CDF Asset name\n",
    "- An instance of Terminal that has alias property that maps to CDF Asset name\n",
    "\n",
    "NEAT manages these instances such that:\n",
    "- An instance of GeographicalRegion and SubGeographicalRegion which is missing relationship to its parent asset will be assigned to Orphanage root asset\n",
    "- An instance of Terminal that is missing property that maps to CDF Asset name will use its identifier with removed namespace as CDF Asset name\n",
    "- An instance of Terminal that has alias property that maps to CDF Asset name will use its alias property as CDF Asset name\n",
    "\n",
    "Let's confirm this by checking the corresponding assets:"
   ]
  },
  {
   "cell_type": "code",
   "execution_count": 11,
   "metadata": {},
   "outputs": [
    {
     "name": "stdout",
     "output_type": "stream",
     "text": [
      "External ID                          | Name                           | Parent External ID                   | Asset Type          \n",
      "------------------------------------------------------------------------------------------------------------------------------------\n",
      "lazarevac                            | LA                             | orphanage-2626756768281823           | GeographicalRegion  \n",
      "f17696b3-9aeb-11e5-91da-b8763fd99c5f | FI1 SGR                        | orphanage-2626756768281823           | SubGeographicalRegion\n",
      "2dd901a4-bdfb-11e5-94fa-c8f73332c8f4 | Alias Name                     | f1769682-9aeb-11e5-91da-b8763fd99c5f | Terminal            \n",
      "terminal-without-name-property       | terminal-without-name-property | f1769688-9aeb-11e5-91da-b8763fd99c5f | Terminal            \n"
     ]
    }
   ],
   "source": [
    "print(f\"{'External ID':36} | {'Name':30} | {'Parent External ID':36} | {'Asset Type':20}\")\n",
    "print(132*\"-\")\n",
    "\n",
    "for id, asset in candidate_assets.items():\n",
    "    if asset[\"parent_external_id\"] == \"orphanage-2626756768281823\" or asset[\"name\"] == \"terminal-without-name-property\" or asset[\"name\"] == \"Alias Name\":\n",
    "        \n",
    "        print(f\"{asset['external_id']:36} | {asset['name']:30} | {asset['parent_external_id']:36} | {asset['metadata']['type']:20}\")"
   ]
  },
  {
   "attachments": {},
   "cell_type": "markdown",
   "metadata": {},
   "source": [
    "Let's now categorize assets and see how many of them will be:\n",
    "- created\n",
    "- updated\n",
    "- decommissioned (setting their end date, and labeling them as historic)\n",
    "- resurrected (stating date when they are reactivated and removing historic label)\n",
    "\n",
    "We are passing cognite clinet, asset dictionary and dataset id to the method `categorize_assets` which will return a dictionary with categorized assets.\n",
    "If this is the case the returned dictionary should only have assets under category \"create\", since there are no assets in CDF:"
   ]
  },
  {
   "cell_type": "code",
   "execution_count": 12,
   "metadata": {},
   "outputs": [
    {
     "name": "stdout",
     "output_type": "stream",
     "text": [
      "Category create          has 510 assets\n",
      "Category update          has  0 assets\n",
      "Category resurrect       has  0 assets\n",
      "Category decommission    has  0 assets\n"
     ]
    }
   ],
   "source": [
    "categorized_assets = extractors.categorize_assets(client, \n",
    "                                                  candidate_assets, \n",
    "                                                  transformation_rules.metadata.data_set_id)\n",
    "\n",
    "\n",
    "for cat in categorized_assets:\n",
    "    print(f\"Category {cat:15} has {len(categorized_assets[cat]):2} assets\")\n"
   ]
  },
  {
   "attachments": {},
   "cell_type": "markdown",
   "metadata": {},
   "source": [
    "Before we upload assets, we need to create labels which we use to label asset and relationship types as well their status:"
   ]
  },
  {
   "cell_type": "code",
   "execution_count": 13,
   "metadata": {},
   "outputs": [],
   "source": [
    "extractors.labels.upload_labels(client, transformation_rules)"
   ]
  },
  {
   "attachments": {},
   "cell_type": "markdown",
   "metadata": {},
   "source": [
    "Finally we can upload categorized assets to CDF:"
   ]
  },
  {
   "cell_type": "code",
   "execution_count": 14,
   "metadata": {},
   "outputs": [],
   "source": [
    "extractors.upload_assets(client, categorized_assets, batch_size=1000)"
   ]
  },
  {
   "attachments": {},
   "cell_type": "markdown",
   "metadata": {},
   "source": [
    "Let's now for sake of completeness check if two orphaned assets are added under Orphanage and that two terminals with missing and alias names have their names properly fixed:"
   ]
  },
  {
   "attachments": {},
   "cell_type": "markdown",
   "metadata": {},
   "source": [
    "Let's repeat process for relationships:\n",
    "\n",
    "\n",
    "<video src=\"../../videos/tutorial-4-asset-hierarchy.mp4\" controls>\n",
    "</video>\n"
   ]
  },
  {
   "cell_type": "code",
   "execution_count": 15,
   "metadata": {},
   "outputs": [
    {
     "name": "stderr",
     "output_type": "stream",
     "text": [
      "WARNING:root:Relationships are referring to these assets {'854b40ee-7109-d04c-b4ef-f0665722e451', '2dd901b4-bdfb-11e5-94fa-c8f73332c8f4', '2dd9016f-bdfb-11e5-94fa-c8f73332c8f4', '2dd90238-bdfb-11e5-94fa-c8f73332c8f4', 'f176967c-9aeb-11e5-91da-b8763fd99c5f', '2dd90373-bdfb-11e5-94fa-c8f73332c8f4', '2dd90423-bdfb-11e5-94fa-c8f73332c8f4', '30ab0123-1669-1242-99ca-610e4bcdc6c5', '2dd9019c-bdfb-11e5-94fa-c8f73332c8f4', '2dd90409-bdfb-11e5-94fa-c8f73332c8f4', '2dd903db-bdfb-11e5-94fa-c8f73332c8f4', '0b50ae74-92eb-f244-872b-07e629f53494', '2e98d68c-e0c5-6d47-b392-a1746743ef63', '2dd903e8-bdfb-11e5-94fa-c8f73332c8f4', '84775b5d-95c1-bd46-bb0d-0f74e4c06757', '2dd9019e-bdfb-11e5-94fa-c8f73332c8f4', '2dd90285-bdfb-11e5-94fa-c8f73332c8f4', '2dd90417-bdfb-11e5-94fa-c8f73332c8f4', '692809cf-1bb4-8642-9b70-ee677f063304', '2dd90171-bdfb-11e5-94fa-c8f73332c8f4', '2dd903eb-bdfb-11e5-94fa-c8f73332c8f4', 'da4b0f71-a251-f947-be12-2de53a2d272a', '8e8e6b0c-ee96-7a4f-9790-c9ae62edafbe', '2dd90321-bdfb-11e5-94fa-c8f73332c8f4', '5906b2a0-4ec9-1949-98b8-709380af0060', '2dd902ea-bdfb-11e5-94fa-c8f73332c8f4', 'a533d3fd-822f-3b40-9030-e18b571cd1ea', 'eb8b2a90-9bc8-154f-92dd-3887e3676498', '2dd9027c-bdfb-11e5-94fa-c8f73332c8f4', '2dd901ed-bdfb-11e5-94fa-c8f73332c8f4', 'ab88a3a2-a572-3440-be06-757e0225ea42', '2dd90235-bdfb-11e5-94fa-c8f73332c8f4', '16659ede-d69f-1d48-bcf2-ebb2ee6c259e', '2dd90411-bdfb-11e5-94fa-c8f73332c8f4', '2dd90253-bdfb-11e5-94fa-c8f73332c8f4', '2dd90406-bdfb-11e5-94fa-c8f73332c8f4', '2dd90194-bdfb-11e5-94fa-c8f73332c8f4', '2dd90467-bdfb-11e5-94fa-c8f73332c8f4', '2dd901b8-bdfb-11e5-94fa-c8f73332c8f4', 'd7a472cc-6b91-564d-93b4-0f3c24f2342c', 'f1769636-9aeb-11e5-91da-b8763fd99c5f', '2dd9039a-bdfb-11e5-94fa-c8f73332c8f4', '2dd90250-bdfb-11e5-94fa-c8f73332c8f4', '2dd9036d-bdfb-11e5-94fa-c8f73332c8f4', '2dd90486-bdfb-11e5-94fa-c8f73332c8f4', '2dd90375-bdfb-11e5-94fa-c8f73332c8f4', '71d09d39-a080-5d4f-86f3-7b3185e51b8e', '2dd9038e-bdfb-11e5-94fa-c8f73332c8f4', '2dd90460-bdfb-11e5-94fa-c8f73332c8f4', '2dd90439-bdfb-11e5-94fa-c8f73332c8f4', '2dd903b2-bdfb-11e5-94fa-c8f73332c8f4', '2dd90427-bdfb-11e5-94fa-c8f73332c8f4', 'eba035f1-7c96-0142-8561-37b28625abf7', '2dd90356-bdfb-11e5-94fa-c8f73332c8f4', 'ecfaf384-4581-4249-8646-b5d31943ad61', '2dd902c2-bdfb-11e5-94fa-c8f73332c8f4', 'terminal-without-name-property', '2dd903cd-bdfb-11e5-94fa-c8f73332c8f4', '7d101d2b-ce05-9843-ab59-2c3e5e244cbb', '2dd9021d-bdfb-11e5-94fa-c8f73332c8f4', '2dd90339-bdfb-11e5-94fa-c8f73332c8f4', '2dd90276-bdfb-11e5-94fa-c8f73332c8f4', 'eaf768b1-3d82-c64d-a1c6-5bd7f9a72751', '2dd9018c-bdfb-11e5-94fa-c8f73332c8f4', '2dd903be-bdfb-11e5-94fa-c8f73332c8f4', '2dd9045c-bdfb-11e5-94fa-c8f73332c8f4', '2dd90244-bdfb-11e5-94fa-c8f73332c8f4', '5831696b-e9e1-8e4a-a169-0e4e09f15f1f', '2dd90393-bdfb-11e5-94fa-c8f73332c8f4', '2dd90402-bdfb-11e5-94fa-c8f73332c8f4', 'f17695c8-9aeb-11e5-91da-b8763fd99c5f', '2dd9016b-bdfb-11e5-94fa-c8f73332c8f4', '2dd902c5-bdfb-11e5-94fa-c8f73332c8f4', 'd288bd96-ae6e-cf46-9775-f38e2699f1ce', '2dd903c4-bdfb-11e5-94fa-c8f73332c8f4', '3718af45-a6ee-fb40-a4c6-f1118c114393', '8a0babd6-6d6f-854b-b65f-4245e65c9e9c', 'bc0f852a-3cc8-e143-8174-f0854a2d38aa', 'd92cb2eb-fd81-194c-9e43-618df025d6b4', '2dd90333-bdfb-11e5-94fa-c8f73332c8f4', '2dd9028b-bdfb-11e5-94fa-c8f73332c8f4', '2dd90412-bdfb-11e5-94fa-c8f73332c8f4', '356c6f11-da4d-3f4d-b3fd-49234106345c', '2dd901e7-bdfb-11e5-94fa-c8f73332c8f4', 'f17696b8-9aeb-11e5-91da-b8763fd99c5f', '2dd903ac-bdfb-11e5-94fa-c8f73332c8f4', 'a949cafd-39f3-8e4c-bca5-9928b004b4da', '2dd90399-bdfb-11e5-94fa-c8f73332c8f4', '40c8340e-7ccf-d446-8a6b-bffa19ec88e6', '2dd901ea-bdfb-11e5-94fa-c8f73332c8f4', '292835be-c432-734c-8c28-3b8c61c0c077', '2dd9046a-bdfb-11e5-94fa-c8f73332c8f4', 'a0ad0036-fbee-6646-b195-3a86614529f2', '2dd9036a-bdfb-11e5-94fa-c8f73332c8f4', '2dd90379-bdfb-11e5-94fa-c8f73332c8f4', '2dd902ed-bdfb-11e5-94fa-c8f73332c8f4', 'f17695e5-9aeb-11e5-91da-b8763fd99c5f', '40725e5a-33bf-6046-8d11-da19f9c726b4', 'c8ac9d5f-d60e-a345-8790-12b86184c31b', 'ee4223ab-0538-dc4a-9b79-d463c048bb08', '2dd90168-bdfb-11e5-94fa-c8f73332c8f4', '2dd903b5-bdfb-11e5-94fa-c8f73332c8f4', 'efe663e2-7518-3044-88d4-209bf597536a', '2dd9039c-bdfb-11e5-94fa-c8f73332c8f4', '2dd9048c-bdfb-11e5-94fa-c8f73332c8f4', '2dd901ff-bdfb-11e5-94fa-c8f73332c8f4', '2dd902d2-bdfb-11e5-94fa-c8f73332c8f4', '2dd902a2-bdfb-11e5-94fa-c8f73332c8f4', 'f1769619-9aeb-11e5-91da-b8763fd99c5f', '2dd903f7-bdfb-11e5-94fa-c8f73332c8f4', '2dd903ff-bdfb-11e5-94fa-c8f73332c8f4', '2dd90435-bdfb-11e5-94fa-c8f73332c8f4', '2dd90384-bdfb-11e5-94fa-c8f73332c8f4', '2dd90208-bdfb-11e5-94fa-c8f73332c8f4', '2dd90385-bdfb-11e5-94fa-c8f73332c8f4', 'f1769604-9aeb-11e5-91da-b8763fd99c5f', '0619c12e-abb9-b141-b3a7-e2788d3d375c', '2dd901d2-bdfb-11e5-94fa-c8f73332c8f4', '2dd9044b-bdfb-11e5-94fa-c8f73332c8f4', '2dd9024a-bdfb-11e5-94fa-c8f73332c8f4', '2dd9032a-bdfb-11e5-94fa-c8f73332c8f4', '2dd9041d-bdfb-11e5-94fa-c8f73332c8f4', '2dd903ee-bdfb-11e5-94fa-c8f73332c8f4', 'lazarevac', '2dd903ba-bdfb-11e5-94fa-c8f73332c8f4', 'f17695d2-9aeb-11e5-91da-b8763fd99c5f', '2dd90459-bdfb-11e5-94fa-c8f73332c8f4', '2dd903d0-bdfb-11e5-94fa-c8f73332c8f4', '2dd9043d-bdfb-11e5-94fa-c8f73332c8f4', 'f176963c-9aeb-11e5-91da-b8763fd99c5f', '2dd90357-bdfb-11e5-94fa-c8f73332c8f4', '2dd902f0-bdfb-11e5-94fa-c8f73332c8f4', '2dd9042d-bdfb-11e5-94fa-c8f73332c8f4', '2dd90173-bdfb-11e5-94fa-c8f73332c8f4', '2dd90226-bdfb-11e5-94fa-c8f73332c8f4', '2dd90418-bdfb-11e5-94fa-c8f73332c8f4', '2dd90414-bdfb-11e5-94fa-c8f73332c8f4', '2dd90162-bdfb-11e5-94fa-c8f73332c8f4', '2dd90455-bdfb-11e5-94fa-c8f73332c8f4', '2dd90360-bdfb-11e5-94fa-c8f73332c8f4', 'f17695cd-9aeb-11e5-91da-b8763fd99c5f', '2dd901f6-bdfb-11e5-94fa-c8f73332c8f4', 'f176962a-9aeb-11e5-91da-b8763fd99c5f', '2dd90390-bdfb-11e5-94fa-c8f73332c8f4', '2dd9029b-bdfb-11e5-94fa-c8f73332c8f4', '2dd9042a-bdfb-11e5-94fa-c8f73332c8f4', '2dd9040e-bdfb-11e5-94fa-c8f73332c8f4', '925f3ab7-54ce-b748-887a-fc6ae23bbdc2', '2dd901be-bdfb-11e5-94fa-c8f73332c8f4', '2dd90347-bdfb-11e5-94fa-c8f73332c8f4', '2dd90188-bdfb-11e5-94fa-c8f73332c8f4', 'c95039b2-aea2-ad4d-b444-c6efc77461e5', 'ea014fdb-b96f-2a4b-b1df-d38e846d4941', '2dd901cc-bdfb-11e5-94fa-c8f73332c8f4', '8d35b51b-06bd-7541-b3e6-2ddbbb1204fe', '2dd902ae-bdfb-11e5-94fa-c8f73332c8f4', 'ad37e24a-9993-4f45-80ed-49a80b6a85d9', '2dd9017c-bdfb-11e5-94fa-c8f73332c8f4', '2dd903e1-bdfb-11e5-94fa-c8f73332c8f4', '2dd90372-bdfb-11e5-94fa-c8f73332c8f4', '6ac2f3cd-c906-0a4b-ba1b-5942e9c65307', '2dd902fd-bdfb-11e5-94fa-c8f73332c8f4', '2dd901de-bdfb-11e5-94fa-c8f73332c8f4', '5ddb272d-00bd-d74e-8c96-e2049351c3e4', '2dd90429-bdfb-11e5-94fa-c8f73332c8f4', '02b41435-bd3e-bb4b-9b89-24e3a8983c0f', '2dd903f1-bdfb-11e5-94fa-c8f73332c8f4', 'ae68b597-69fb-e14b-a070-67c7dcc1d698', '2dd9019a-bdfb-11e5-94fa-c8f73332c8f4', '2dd9037e-bdfb-11e5-94fa-c8f73332c8f4', '2dd901aa-bdfb-11e5-94fa-c8f73332c8f4', '2dd9025e-bdfb-11e5-94fa-c8f73332c8f4', '2dd902a5-bdfb-11e5-94fa-c8f73332c8f4', '2dd9032d-bdfb-11e5-94fa-c8f73332c8f4', '2dd902f3-bdfb-11e5-94fa-c8f73332c8f4', 'c1ca1160-be67-9448-a16b-e92a6112e380', '2dd902fa-bdfb-11e5-94fa-c8f73332c8f4', '2dd90358-bdfb-11e5-94fa-c8f73332c8f4', '2dd902c8-bdfb-11e5-94fa-c8f73332c8f4', '2dd9035d-bdfb-11e5-94fa-c8f73332c8f4', '2dd90376-bdfb-11e5-94fa-c8f73332c8f4', '2dd901f0-bdfb-11e5-94fa-c8f73332c8f4', '8574aebb-23c4-3e4a-bd04-b5651c97d27a', '2dd90336-bdfb-11e5-94fa-c8f73332c8f4', '79887cf1-6c94-3f4f-a1f8-7ddef866d55f', '2dd90475-bdfb-11e5-94fa-c8f73332c8f4', 'f17696cf-9aeb-11e5-91da-b8763fd99c5f', '2dd9015e-bdfb-11e5-94fa-c8f73332c8f4', '714c775a-246f-e34f-9a6b-667f4b66138c', '2dd90478-bdfb-11e5-94fa-c8f73332c8f4', '2dd902dd-bdfb-11e5-94fa-c8f73332c8f4', '2dd90387-bdfb-11e5-94fa-c8f73332c8f4', '2dd90298-bdfb-11e5-94fa-c8f73332c8f4', 'caa10f15-4591-e241-ac0b-81675acf5687', '2f8c9437-e564-e948-8764-be3494565b1f', '2dd903c3-bdfb-11e5-94fa-c8f73332c8f4', '9b49634c-4910-9841-b595-0d0cb0d0d1de', 'f723530d-ae1e-df4f-9c7f-21e42da147d6', '2dd903c7-bdfb-11e5-94fa-c8f73332c8f4', '2dd90217-bdfb-11e5-94fa-c8f73332c8f4', '2dd90166-bdfb-11e5-94fa-c8f73332c8f4', 'dae3bb4b-0a86-9243-99c1-a1d5b163774d', '2dd90262-bdfb-11e5-94fa-c8f73332c8f4'}, which are missing in CDF.Relationships will not be created for assets that are missing in CDF.Please make sure that all assets are present in CDF before creating relationships.\n"
     ]
    },
    {
     "name": "stdout",
     "output_type": "stream",
     "text": [
      "Category create          has 454 relationships\n",
      "Category resurrect       has  0 relationships\n",
      "Category decommission    has  0 relationships\n"
     ]
    }
   ],
   "source": [
    "candidate_relationships = extractors.rdf2relationships(solution_store, transformation_rules)\n",
    "\n",
    "\n",
    "categorized_relationships = extractors.categorize_relationships(client, \n",
    "                                                  candidate_relationships, \n",
    "                                                  transformation_rules.metadata.data_set_id)\n",
    "\n",
    "\n",
    "for cat in categorized_relationships:\n",
    "    print(f\"Category {cat:15} has {len(categorized_relationships[cat]):2} relationships\")"
   ]
  },
  {
   "cell_type": "code",
   "execution_count": 16,
   "metadata": {},
   "outputs": [],
   "source": [
    "extractors.upload_relationships(client, categorized_relationships, batch_size=1000)"
   ]
  }
 ],
 "metadata": {
  "kernelspec": {
   "display_name": "neat-NAW4D3iV-py3.11",
   "language": "python",
   "name": "python3"
  },
  "language_info": {
   "codemirror_mode": {
    "name": "ipython",
    "version": 3
   },
   "file_extension": ".py",
   "mimetype": "text/x-python",
   "name": "python",
   "nbconvert_exporter": "python",
   "pygments_lexer": "ipython3",
   "version": "3.11.3"
  },
  "orig_nbformat": 4,
  "vscode": {
   "interpreter": {
    "hash": "b041fa3ad426ccaee6879971bb0838085ce5b789fde017702a23f1fdae821f14"
   }
  }
 },
 "nbformat": 4,
 "nbformat_minor": 2
}
