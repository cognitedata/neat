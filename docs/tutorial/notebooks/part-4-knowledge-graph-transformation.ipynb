{
 "cells": [
  {
   "attachments": {},
   "cell_type": "markdown",
   "metadata": {},
   "source": [
    "# Part 4: Source to Solution Graph\n",
    "\n",
    "[![Notebook](https://shields.io/badge/notebook-access-green?logo=jupyter&style=for-the-badge)](https://github.com/cognitedata/neat/blob/main/docs/tutorial/notebooks/part-4-knowledge-graph-transformation.ipynb)\n",
    "\n",
    "* author: Nikola Vasiljevic\n",
    "* date: 2023-02-12\n",
    "\n",
    "\n",
    "In this Part 4 of tutorial series we will most comprehensive feature of NEAT and that is transformation of source knowledge graph to solution graph and the latter conversion to CDF asset hierarchy. We will work with Nordic44 knowledge graph sourced from the RDF/XML file. We will use Nordic44 Equipment Profile knowledge graph, which contains number instances which conform to CIM (Common Information Model) data model. Nordic44 is open source and it is primarily tailored for research purpose.\n",
    "\n",
    "First download necessary files:\n",
    "- [Transformation rules](https://github.com/cognitedata/neat/blob/main/cognite/neat/examples/rules/source-to-solution-mapping-rules.xlsx)\n",
    "- [Nordic44 knowledge graph](https://github.com/cognitedata/neat/blob/main/cognite/neat/examples/source-graphs/Knowledge-Graph-Nordic44.xml)\n",
    "\n",
    "and placed them at convenient location for loading in this notebook.\n",
    "\n",
    "\n",
    "Alternatively, you can import them from `neat` examples module as, which is the approach we will use in this tutorial\n",
    "\n",
    "\n",
    "Also, for convenience store configuration of a Cognite client in `.env` file, with following structure:\n",
    "\n",
    "```\n",
    "\n",
    "TENANT_ID = ...\n",
    "CLIENT_ID = ...\n",
    "CLIENT_SECRET = ...\n",
    "CDF_CLUSTER = ...\n",
    "COGNITE_PROJECT = ...\n",
    "\n",
    "```\n",
    "\n",
    "This file will be loaded as config dictionary and used to configure the Cognite client.\n",
    "\n",
    "\n",
    "Once you located necessary files, created `.env` file, load necessary libraries:"
   ]
  },
  {
   "cell_type": "code",
   "execution_count": 1,
   "metadata": {},
   "outputs": [],
   "source": [
    "from cognite.client import CogniteClient, ClientConfig\n",
    "from cognite.client.credentials import OAuthClientCredentials\n",
    "from cognite.client.config import ClientConfig\n",
    "\n",
    "\n",
    "from cognite.neat.rules.examples import source_to_solution_mapping\n",
    "from cognite.neat.graph.examples import nordic44_knowledge_graph\n",
    "\n",
    "from cognite.neat.rules.parser import parse_rules_from_excel_file\n",
    "from cognite.neat.rules.exporter.rules2triples import get_instances_as_triples\n",
    "from cognite.neat.rules.analysis import get_defined_classes\n",
    "\n",
    "\n",
    "from cognite.neat.graph.stores import NeatGraphStore\n",
    "\n",
    "from cognite.neat.graph.loaders import rdf2assets, categorize_assets\n",
    "from cognite.neat.graph.loaders import rdf2relationships, categorize_relationships\n",
    "from cognite.neat.graph.loaders import upload_labels, upload_assets, upload_relationships\n",
    "\n",
    "from cognite.neat.graph.transformations.transformer import source2solution_graph\n",
    "\n",
    "from cognite.neat.utils.utils import remove_namespace\n",
    "\n",
    "from dotenv import dotenv_values\n",
    "\n",
    "%reload_ext autoreload\n",
    "%autoreload 2"
   ]
  },
  {
   "attachments": {},
   "cell_type": "markdown",
   "metadata": {},
   "source": [
    "Let's instantiate CDF client in same why we did in Part 4:"
   ]
  },
  {
   "cell_type": "code",
   "execution_count": 77,
   "metadata": {},
   "outputs": [],
   "source": [
    "# Insert path to your .env file in \n",
    "config = dotenv_values(\"_path_to_your_env_file\")\n",
    "\n",
    "SCOPES = [f\"https://{config['CDF_CLUSTER']}.cognitedata.com/.default\"]\n",
    "TOKEN_URL = f\"https://login.microsoftonline.com/{config['TENANT_ID']}/oauth2/v2.0/token\"\n",
    "\n",
    "credentials = OAuthClientCredentials(token_url=TOKEN_URL, \n",
    "                                     client_id=config['CLIENT_ID'], \n",
    "                                     client_secret=config['CLIENT_SECRET'], \n",
    "                                     scopes=SCOPES)\n",
    "\n",
    "client_config = ClientConfig(client_name=\"cognite\",\n",
    "                             base_url=f\"https://{config['CDF_CLUSTER']}.cognitedata.com\",\n",
    "                             project=config['COGNITE_PROJECT'],\n",
    "                             credentials=credentials,\n",
    "                             max_workers=1,\n",
    "                             timeout=5 * 60,)\n",
    "\n",
    "client = CogniteClient(client_config)"
   ]
  },
  {
   "attachments": {},
   "cell_type": "markdown",
   "metadata": {},
   "source": [
    "Let's load transformation rules:"
   ]
  },
  {
   "cell_type": "code",
   "execution_count": 2,
   "metadata": {},
   "outputs": [
    {
     "data": {
      "text/plain": [
       "{'GeographicalRegion',\n",
       " 'Orphanage',\n",
       " 'RootCIMNode',\n",
       " 'SubGeographicalRegion',\n",
       " 'Substation',\n",
       " 'Terminal'}"
      ]
     },
     "execution_count": 2,
     "metadata": {},
     "output_type": "execute_result"
    }
   ],
   "source": [
    "# Replace `source_to_solution_mapping` with Path to your own transformation rules\n",
    "transformation_rules = parse_rules_from_excel_file(source_to_solution_mapping)\n",
    "\n",
    "get_defined_classes(transformation_rules)"
   ]
  },
  {
   "attachments": {},
   "cell_type": "markdown",
   "metadata": {},
   "source": [
    "Unlike Part 3, in this tutorial we need to create two instances of graph stores, one to hold triples of source graph, and second to hold triples of solution graph.\n",
    "As we are loading existing graph to source we will need to specify its namespace, which we have conveniently stored in `Prefixes` sheet under `nordic44`:"
   ]
  },
  {
   "cell_type": "code",
   "execution_count": 3,
   "metadata": {},
   "outputs": [],
   "source": [
    "source_store = NeatGraphStore(prefixes=transformation_rules.prefixes, \n",
    "                              namespace=transformation_rules.prefixes[\"nordic44\"])\n",
    "source_store.init_graph(base_prefix=transformation_rules.metadata.prefix)\n",
    "\n",
    "\n",
    "solution_store = NeatGraphStore(prefixes=transformation_rules.prefixes, \n",
    "                                namespace=transformation_rules.metadata.namespace)\n",
    "solution_store.init_graph(base_prefix=transformation_rules.metadata.prefix)"
   ]
  },
  {
   "attachments": {},
   "cell_type": "markdown",
   "metadata": {},
   "source": [
    "Now let's import Nordic44 triples to `source_store`:"
   ]
  },
  {
   "cell_type": "code",
   "execution_count": 4,
   "metadata": {},
   "outputs": [],
   "source": [
    "source_store.import_from_file(nordic44_knowledge_graph)"
   ]
  },
  {
   "attachments": {},
   "cell_type": "markdown",
   "metadata": {},
   "source": [
    "\n",
    "This query should return list of tuples containing URIs (i.e., references, globally unique ids) of RDFS classes in Nordic44 knowledge graph. The result will be a mix of base RDFS classes such as `Class`, `Property`, but also classes specific to `CIM` namespace:\n",
    "\n",
    "Let's list top 20 classes and number of their instances like we did in previous tutorials. As will see the number of substations is 44, reason why Nordic44 has 44 in its name."
   ]
  },
  {
   "cell_type": "code",
   "execution_count": 5,
   "metadata": {},
   "outputs": [
    {
     "name": "stdout",
     "output_type": "stream",
     "text": [
      "namespace            | class name          \n",
      "----------------------------------------\n",
      "CurrentLimit         | 530                 \n",
      "Terminal             | 452                 \n",
      "OperationalLimitSet  | 238                 \n",
      "OperatingShare       | 207                 \n",
      "VoltageLimit         | 184                 \n",
      "AnalogValue          | 133                 \n",
      "ConnectivityNode     | 89                  \n",
      "GeneratingUnit       | 80                  \n",
      "SynchronousMachine   | 80                  \n",
      "ACLineSegment        | 68                  \n",
      "Line                 | 68                  \n",
      "BusbarSection        | 46                  \n",
      "VoltageLevel         | 45                  \n",
      "Substation           | 44                  \n",
      "ConformLoad          | 35                  \n",
      "ConformLoadGroup     | 35                  \n",
      "Analog               | 30                  \n",
      "Breaker              | 29                  \n",
      "Disconnector         | 26                  \n",
      "PowerTransformerEnd  | 24                  \n",
      "RegulatingControl    | 18                  \n",
      "Bay                  | 16                  \n"
     ]
    }
   ],
   "source": [
    "print(f\"{'namespace':20} | {'class name':20}\")\n",
    "print(40*\"-\")\n",
    "\n",
    "for i, res in enumerate(list(source_store.graph.query(\"SELECT ?class (count(?s) as ?instances ) WHERE { ?s a ?class . } group by ?class order by DESC(?instances)\"))):\n",
    "    print(f\"{remove_namespace(res[0]):20} | {res[1]:20}\" )\n",
    "    if i > 20:\n",
    "        break"
   ]
  },
  {
   "cell_type": "code",
   "execution_count": 7,
   "metadata": {},
   "outputs": [
    {
     "name": "stdout",
     "output_type": "stream",
     "text": [
      "namespace            | class name          \n",
      "----------------------------------------\n",
      "CurrentLimit         | 530                 \n",
      "Terminal             | 452                 \n",
      "OperationalLimitSet  | 238                 \n",
      "OperatingShare       | 207                 \n",
      "VoltageLimit         | 184                 \n",
      "AnalogValue          | 133                 \n",
      "ConnectivityNode     | 89                  \n",
      "GeneratingUnit       | 80                  \n",
      "SynchronousMachine   | 80                  \n",
      "ACLineSegment        | 68                  \n",
      "Line                 | 68                  \n",
      "BusbarSection        | 46                  \n",
      "VoltageLevel         | 45                  \n",
      "Substation           | 44                  \n",
      "ConformLoad          | 35                  \n",
      "ConformLoadGroup     | 35                  \n",
      "Analog               | 30                  \n",
      "Breaker              | 29                  \n",
      "Disconnector         | 26                  \n",
      "PowerTransformerEnd  | 24                  \n",
      "RegulatingControl    | 18                  \n",
      "Bay                  | 16                  \n"
     ]
    }
   ],
   "source": [
    "print(f\"{'namespace':20} | {'class name':20}\")\n",
    "print(40*\"-\")\n",
    "\n",
    "for i, res in enumerate(list(source_store.graph.query(\"SELECT ?class (count(?s) as ?instances ) WHERE { ?s a ?class . } group by ?class order by DESC(?instances)\"))):\n",
    "    print(f\"{remove_namespace(res[0]):20} | {res[1]:20}\" )\n",
    "    if i > 20:\n",
    "        break\n"
   ]
  },
  {
   "attachments": {},
   "cell_type": "markdown",
   "metadata": {},
   "source": [
    "If we try to do the same for `solution_store` we will that it is empty:"
   ]
  },
  {
   "cell_type": "code",
   "execution_count": 43,
   "metadata": {},
   "outputs": [],
   "source": [
    "q1 = \"SELECT DISTINCT ?p (count(?o) as ?count ) ?dt WHERE { ?s ?p ?o . BIND (datatype(?o) AS ?dt) FILTER(isLiteral(?o))} group by ?p order by DESC(?count)\"\n",
    "q2 = \"SELECT DISTINCT ?p ?dt WHERE { ?s ?p ?o . BIND (datatype(?o) AS ?dt)}\""
   ]
  },
  {
   "cell_type": "code",
   "execution_count": 44,
   "metadata": {},
   "outputs": [
    {
     "data": {
      "text/plain": [
       "[(rdflib.term.URIRef('http://iec.ch/TC57/2013/CIM-schema-cim16#IdentifiedObject.name'),\n",
       "  rdflib.term.Literal('2502', datatype=rdflib.term.URIRef('http://www.w3.org/2001/XMLSchema#integer')),\n",
       "  rdflib.term.URIRef('http://www.w3.org/2001/XMLSchema#string')),\n",
       " (rdflib.term.URIRef('http://iec.ch/TC57/2013/CIM-schema-cim16#IdentifiedObject.description'),\n",
       "  rdflib.term.Literal('1261', datatype=rdflib.term.URIRef('http://www.w3.org/2001/XMLSchema#integer')),\n",
       "  rdflib.term.URIRef('http://www.w3.org/2001/XMLSchema#string')),\n",
       " (rdflib.term.URIRef('http://iec.ch/TC57/2013/CIM-schema-cim16#CurrentLimit.value'),\n",
       "  rdflib.term.Literal('530', datatype=rdflib.term.URIRef('http://www.w3.org/2001/XMLSchema#integer')),\n",
       "  rdflib.term.URIRef('http://www.w3.org/2001/XMLSchema#string')),\n",
       " (rdflib.term.URIRef('http://entsoe.eu/CIM/SchemaExtension/3/2#CurrentLimit.normalValue'),\n",
       "  rdflib.term.Literal('530', datatype=rdflib.term.URIRef('http://www.w3.org/2001/XMLSchema#integer')),\n",
       "  rdflib.term.URIRef('http://www.w3.org/2001/XMLSchema#string')),\n",
       " (rdflib.term.URIRef('http://iec.ch/TC57/2013/CIM-schema-cim16#Equipment.aggregate'),\n",
       "  rdflib.term.Literal('303', datatype=rdflib.term.URIRef('http://www.w3.org/2001/XMLSchema#integer')),\n",
       "  rdflib.term.URIRef('http://www.w3.org/2001/XMLSchema#string')),\n",
       " (rdflib.term.URIRef('http://iec.ch/TC57/2013/CIM-schema-cim16#ACDCTerminal.sequenceNumber'),\n",
       "  rdflib.term.Literal('281', datatype=rdflib.term.URIRef('http://www.w3.org/2001/XMLSchema#integer')),\n",
       "  rdflib.term.URIRef('http://www.w3.org/2001/XMLSchema#string')),\n",
       " (rdflib.term.URIRef('http://iec.ch/TC57/2013/CIM-schema-cim16#Equipment.normallyInService'),\n",
       "  rdflib.term.Literal('215', datatype=rdflib.term.URIRef('http://www.w3.org/2001/XMLSchema#integer')),\n",
       "  rdflib.term.URIRef('http://www.w3.org/2001/XMLSchema#string')),\n",
       " (rdflib.term.URIRef('http://iec.ch/TC57/2013/CIM-schema-cim16#OperatingShare.percentage'),\n",
       "  rdflib.term.Literal('207', datatype=rdflib.term.URIRef('http://www.w3.org/2001/XMLSchema#integer')),\n",
       "  rdflib.term.URIRef('http://www.w3.org/2001/XMLSchema#string')),\n",
       " (rdflib.term.URIRef('http://iec.ch/TC57/2013/CIM-schema-cim16#VoltageLimit.value'),\n",
       "  rdflib.term.Literal('184', datatype=rdflib.term.URIRef('http://www.w3.org/2001/XMLSchema#integer')),\n",
       "  rdflib.term.URIRef('http://www.w3.org/2001/XMLSchema#string')),\n",
       " (rdflib.term.URIRef('http://entsoe.eu/CIM/SchemaExtension/3/2#VoltageLimit.normalValue'),\n",
       "  rdflib.term.Literal('184', datatype=rdflib.term.URIRef('http://www.w3.org/2001/XMLSchema#integer')),\n",
       "  rdflib.term.URIRef('http://www.w3.org/2001/XMLSchema#string')),\n",
       " (rdflib.term.URIRef('http://iec.ch/TC57/2013/CIM-schema-cim16#AnalogValue.value'),\n",
       "  rdflib.term.Literal('133', datatype=rdflib.term.URIRef('http://www.w3.org/2001/XMLSchema#integer')),\n",
       "  rdflib.term.URIRef('http://www.w3.org/2001/XMLSchema#string')),\n",
       " (rdflib.term.URIRef('http://iec.ch/TC57/2013/CIM-schema-cim16#GeneratingUnit.initialP'),\n",
       "  rdflib.term.Literal('80', datatype=rdflib.term.URIRef('http://www.w3.org/2001/XMLSchema#integer')),\n",
       "  rdflib.term.URIRef('http://www.w3.org/2001/XMLSchema#string')),\n",
       " (rdflib.term.URIRef('http://iec.ch/TC57/2013/CIM-schema-cim16#SynchronousMachine.minU'),\n",
       "  rdflib.term.Literal('80', datatype=rdflib.term.URIRef('http://www.w3.org/2001/XMLSchema#integer')),\n",
       "  rdflib.term.URIRef('http://www.w3.org/2001/XMLSchema#string')),\n",
       " (rdflib.term.URIRef('http://www.pti-us.com/PTI_CIM-schema-cim16#GeneratingUnit.xt'),\n",
       "  rdflib.term.Literal('80', datatype=rdflib.term.URIRef('http://www.w3.org/2001/XMLSchema#integer')),\n",
       "  rdflib.term.URIRef('http://www.w3.org/2001/XMLSchema#string')),\n",
       " (rdflib.term.URIRef('http://www.pti-us.com/PTI_CIM-schema-cim16#SynchronousMachine.x'),\n",
       "  rdflib.term.Literal('80', datatype=rdflib.term.URIRef('http://www.w3.org/2001/XMLSchema#integer')),\n",
       "  rdflib.term.URIRef('http://www.w3.org/2001/XMLSchema#string')),\n",
       " (rdflib.term.URIRef('http://iec.ch/TC57/2013/CIM-schema-cim16#GeneratingUnit.maxEconomicP'),\n",
       "  rdflib.term.Literal('80', datatype=rdflib.term.URIRef('http://www.w3.org/2001/XMLSchema#integer')),\n",
       "  rdflib.term.URIRef('http://www.w3.org/2001/XMLSchema#string')),\n",
       " (rdflib.term.URIRef('http://iec.ch/TC57/2013/CIM-schema-cim16#SynchronousMachine.qPercent'),\n",
       "  rdflib.term.Literal('80', datatype=rdflib.term.URIRef('http://www.w3.org/2001/XMLSchema#integer')),\n",
       "  rdflib.term.URIRef('http://www.w3.org/2001/XMLSchema#string')),\n",
       " (rdflib.term.URIRef('http://iec.ch/TC57/2013/CIM-schema-cim16#SynchronousMachine.maxU'),\n",
       "  rdflib.term.Literal('80', datatype=rdflib.term.URIRef('http://www.w3.org/2001/XMLSchema#integer')),\n",
       "  rdflib.term.URIRef('http://www.w3.org/2001/XMLSchema#string')),\n",
       " (rdflib.term.URIRef('http://iec.ch/TC57/2013/CIM-schema-cim16#SynchronousMachine.minQ'),\n",
       "  rdflib.term.Literal('80', datatype=rdflib.term.URIRef('http://www.w3.org/2001/XMLSchema#integer')),\n",
       "  rdflib.term.URIRef('http://www.w3.org/2001/XMLSchema#string')),\n",
       " (rdflib.term.URIRef('http://iec.ch/TC57/2013/CIM-schema-cim16#GeneratingUnit.lowControlLimit'),\n",
       "  rdflib.term.Literal('80', datatype=rdflib.term.URIRef('http://www.w3.org/2001/XMLSchema#integer')),\n",
       "  rdflib.term.URIRef('http://www.w3.org/2001/XMLSchema#string')),\n",
       " (rdflib.term.URIRef('http://www.pti-us.com/PTI_CIM-schema-cim16#GeneratingUnit.meritOrder'),\n",
       "  rdflib.term.Literal('80', datatype=rdflib.term.URIRef('http://www.w3.org/2001/XMLSchema#integer')),\n",
       "  rdflib.term.URIRef('http://www.w3.org/2001/XMLSchema#string')),\n",
       " (rdflib.term.URIRef('http://iec.ch/TC57/2013/CIM-schema-cim16#GeneratingUnit.maxOperatingP'),\n",
       "  rdflib.term.Literal('80', datatype=rdflib.term.URIRef('http://www.w3.org/2001/XMLSchema#integer')),\n",
       "  rdflib.term.URIRef('http://www.w3.org/2001/XMLSchema#string')),\n",
       " (rdflib.term.URIRef('http://iec.ch/TC57/2013/CIM-schema-cim16#RotatingMachine.ratedS'),\n",
       "  rdflib.term.Literal('80', datatype=rdflib.term.URIRef('http://www.w3.org/2001/XMLSchema#integer')),\n",
       "  rdflib.term.URIRef('http://www.w3.org/2001/XMLSchema#string')),\n",
       " (rdflib.term.URIRef('http://www.pti-us.com/PTI_CIM-schema-cim16#GeneratingUnit.dispatchable'),\n",
       "  rdflib.term.Literal('80', datatype=rdflib.term.URIRef('http://www.w3.org/2001/XMLSchema#integer')),\n",
       "  rdflib.term.URIRef('http://www.w3.org/2001/XMLSchema#string')),\n",
       " (rdflib.term.URIRef('http://www.pti-us.com/PTI_CIM-schema-cim16#GeneratingUnit.rmpct'),\n",
       "  rdflib.term.Literal('80', datatype=rdflib.term.URIRef('http://www.w3.org/2001/XMLSchema#integer')),\n",
       "  rdflib.term.URIRef('http://www.w3.org/2001/XMLSchema#string')),\n",
       " (rdflib.term.URIRef('http://www.pti-us.com/PTI_CIM-schema-cim16#GeneratingUnit.gtap'),\n",
       "  rdflib.term.Literal('80', datatype=rdflib.term.URIRef('http://www.w3.org/2001/XMLSchema#integer')),\n",
       "  rdflib.term.URIRef('http://www.w3.org/2001/XMLSchema#string')),\n",
       " (rdflib.term.URIRef('http://iec.ch/TC57/2013/CIM-schema-cim16#GeneratingUnit.minEconomicP'),\n",
       "  rdflib.term.Literal('80', datatype=rdflib.term.URIRef('http://www.w3.org/2001/XMLSchema#integer')),\n",
       "  rdflib.term.URIRef('http://www.w3.org/2001/XMLSchema#string')),\n",
       " (rdflib.term.URIRef('http://iec.ch/TC57/2013/CIM-schema-cim16#GeneratingUnit.minOperatingP'),\n",
       "  rdflib.term.Literal('80', datatype=rdflib.term.URIRef('http://www.w3.org/2001/XMLSchema#integer')),\n",
       "  rdflib.term.URIRef('http://www.w3.org/2001/XMLSchema#string')),\n",
       " (rdflib.term.URIRef('http://iec.ch/TC57/2013/CIM-schema-cim16#GeneratingUnit.ratedGrossMaxP'),\n",
       "  rdflib.term.Literal('80', datatype=rdflib.term.URIRef('http://www.w3.org/2001/XMLSchema#integer')),\n",
       "  rdflib.term.URIRef('http://www.w3.org/2001/XMLSchema#string')),\n",
       " (rdflib.term.URIRef('http://iec.ch/TC57/2013/CIM-schema-cim16#SynchronousMachine.r'),\n",
       "  rdflib.term.Literal('80', datatype=rdflib.term.URIRef('http://www.w3.org/2001/XMLSchema#integer')),\n",
       "  rdflib.term.URIRef('http://www.w3.org/2001/XMLSchema#string')),\n",
       " (rdflib.term.URIRef('http://iec.ch/TC57/2013/CIM-schema-cim16#GeneratingUnit.highControlLimit'),\n",
       "  rdflib.term.Literal('80', datatype=rdflib.term.URIRef('http://www.w3.org/2001/XMLSchema#integer')),\n",
       "  rdflib.term.URIRef('http://www.w3.org/2001/XMLSchema#string')),\n",
       " (rdflib.term.URIRef('http://iec.ch/TC57/2013/CIM-schema-cim16#GeneratingUnit.nominalP'),\n",
       "  rdflib.term.Literal('80', datatype=rdflib.term.URIRef('http://www.w3.org/2001/XMLSchema#integer')),\n",
       "  rdflib.term.URIRef('http://www.w3.org/2001/XMLSchema#string')),\n",
       " (rdflib.term.URIRef('http://www.pti-us.com/PTI_CIM-schema-cim16#GeneratingUnit.rt'),\n",
       "  rdflib.term.Literal('80', datatype=rdflib.term.URIRef('http://www.w3.org/2001/XMLSchema#integer')),\n",
       "  rdflib.term.URIRef('http://www.w3.org/2001/XMLSchema#string')),\n",
       " (rdflib.term.URIRef('http://iec.ch/TC57/2013/CIM-schema-cim16#GeneratingUnit.ratedNetMaxP'),\n",
       "  rdflib.term.Literal('80', datatype=rdflib.term.URIRef('http://www.w3.org/2001/XMLSchema#integer')),\n",
       "  rdflib.term.URIRef('http://www.w3.org/2001/XMLSchema#string')),\n",
       " (rdflib.term.URIRef('http://iec.ch/TC57/2013/CIM-schema-cim16#SynchronousMachine.maxQ'),\n",
       "  rdflib.term.Literal('80', datatype=rdflib.term.URIRef('http://www.w3.org/2001/XMLSchema#integer')),\n",
       "  rdflib.term.URIRef('http://www.w3.org/2001/XMLSchema#string')),\n",
       " (rdflib.term.URIRef('http://iec.ch/TC57/2013/CIM-schema-cim16#ACLineSegment.r'),\n",
       "  rdflib.term.Literal('68', datatype=rdflib.term.URIRef('http://www.w3.org/2001/XMLSchema#integer')),\n",
       "  rdflib.term.URIRef('http://www.w3.org/2001/XMLSchema#string')),\n",
       " (rdflib.term.URIRef('http://iec.ch/TC57/2013/CIM-schema-cim16#ACLineSegment.bch'),\n",
       "  rdflib.term.Literal('68', datatype=rdflib.term.URIRef('http://www.w3.org/2001/XMLSchema#integer')),\n",
       "  rdflib.term.URIRef('http://www.w3.org/2001/XMLSchema#string')),\n",
       " (rdflib.term.URIRef('http://iec.ch/TC57/2013/CIM-schema-cim16#ACLineSegment.x'),\n",
       "  rdflib.term.Literal('68', datatype=rdflib.term.URIRef('http://www.w3.org/2001/XMLSchema#integer')),\n",
       "  rdflib.term.URIRef('http://www.w3.org/2001/XMLSchema#string')),\n",
       " (rdflib.term.URIRef('http://iec.ch/TC57/2013/CIM-schema-cim16#Conductor.length'),\n",
       "  rdflib.term.Literal('67', datatype=rdflib.term.URIRef('http://www.w3.org/2001/XMLSchema#integer')),\n",
       "  rdflib.term.URIRef('http://www.w3.org/2001/XMLSchema#string')),\n",
       " (rdflib.term.URIRef('http://iec.ch/TC57/2013/CIM-schema-cim16#Switch.normalOpen'),\n",
       "  rdflib.term.Literal('55', datatype=rdflib.term.URIRef('http://www.w3.org/2001/XMLSchema#integer')),\n",
       "  rdflib.term.URIRef('http://www.w3.org/2001/XMLSchema#string')),\n",
       " (rdflib.term.URIRef('http://iec.ch/TC57/2013/CIM-schema-cim16#Switch.retained'),\n",
       "  rdflib.term.Literal('55', datatype=rdflib.term.URIRef('http://www.w3.org/2001/XMLSchema#integer')),\n",
       "  rdflib.term.URIRef('http://www.w3.org/2001/XMLSchema#string')),\n",
       " (rdflib.term.URIRef('http://iec.ch/TC57/2013/CIM-schema-cim16#EnergyConsumer.pfixed'),\n",
       "  rdflib.term.Literal('48', datatype=rdflib.term.URIRef('http://www.w3.org/2001/XMLSchema#integer')),\n",
       "  rdflib.term.URIRef('http://www.w3.org/2001/XMLSchema#string')),\n",
       " (rdflib.term.URIRef('http://iec.ch/TC57/2013/CIM-schema-cim16#EnergyConsumer.qfixed'),\n",
       "  rdflib.term.Literal('48', datatype=rdflib.term.URIRef('http://www.w3.org/2001/XMLSchema#integer')),\n",
       "  rdflib.term.URIRef('http://www.w3.org/2001/XMLSchema#string')),\n",
       " (rdflib.term.URIRef('http://iec.ch/TC57/2013/CIM-schema-cim16#IdentifiedObject.aliasName'),\n",
       "  rdflib.term.Literal('37', datatype=rdflib.term.URIRef('http://www.w3.org/2001/XMLSchema#integer')),\n",
       "  rdflib.term.URIRef('http://www.w3.org/2001/XMLSchema#string')),\n",
       " (rdflib.term.URIRef('http://www.pti-us.com/PTI_CIM-schema-cim16#Measurement.uncefactUnitCode'),\n",
       "  rdflib.term.Literal('30', datatype=rdflib.term.URIRef('http://www.w3.org/2001/XMLSchema#integer')),\n",
       "  rdflib.term.URIRef('http://www.w3.org/2001/XMLSchema#string')),\n",
       " (rdflib.term.URIRef('http://iec.ch/TC57/2013/CIM-schema-cim16#Measurement.measurementType'),\n",
       "  rdflib.term.Literal('30', datatype=rdflib.term.URIRef('http://www.w3.org/2001/XMLSchema#integer')),\n",
       "  rdflib.term.URIRef('http://www.w3.org/2001/XMLSchema#string')),\n",
       " (rdflib.term.URIRef('http://iec.ch/TC57/2013/CIM-schema-cim16#PowerTransformerEnd.r'),\n",
       "  rdflib.term.Literal('24', datatype=rdflib.term.URIRef('http://www.w3.org/2001/XMLSchema#integer')),\n",
       "  rdflib.term.URIRef('http://www.w3.org/2001/XMLSchema#string')),\n",
       " (rdflib.term.URIRef('http://iec.ch/TC57/2013/CIM-schema-cim16#PowerTransformerEnd.ratedS'),\n",
       "  rdflib.term.Literal('24', datatype=rdflib.term.URIRef('http://www.w3.org/2001/XMLSchema#integer')),\n",
       "  rdflib.term.URIRef('http://www.w3.org/2001/XMLSchema#string')),\n",
       " (rdflib.term.URIRef('http://iec.ch/TC57/2013/CIM-schema-cim16#TransformerEnd.grounded'),\n",
       "  rdflib.term.Literal('24', datatype=rdflib.term.URIRef('http://www.w3.org/2001/XMLSchema#integer')),\n",
       "  rdflib.term.URIRef('http://www.w3.org/2001/XMLSchema#string')),\n",
       " (rdflib.term.URIRef('http://iec.ch/TC57/2013/CIM-schema-cim16#PowerTransformerEnd.g'),\n",
       "  rdflib.term.Literal('24', datatype=rdflib.term.URIRef('http://www.w3.org/2001/XMLSchema#integer')),\n",
       "  rdflib.term.URIRef('http://www.w3.org/2001/XMLSchema#string')),\n",
       " (rdflib.term.URIRef('http://iec.ch/TC57/2013/CIM-schema-cim16#PowerTransformerEnd.phaseAngleClock'),\n",
       "  rdflib.term.Literal('24', datatype=rdflib.term.URIRef('http://www.w3.org/2001/XMLSchema#integer')),\n",
       "  rdflib.term.URIRef('http://www.w3.org/2001/XMLSchema#string')),\n",
       " (rdflib.term.URIRef('http://iec.ch/TC57/2013/CIM-schema-cim16#PowerTransformerEnd.ratedU'),\n",
       "  rdflib.term.Literal('24', datatype=rdflib.term.URIRef('http://www.w3.org/2001/XMLSchema#integer')),\n",
       "  rdflib.term.URIRef('http://www.w3.org/2001/XMLSchema#string')),\n",
       " (rdflib.term.URIRef('http://iec.ch/TC57/2013/CIM-schema-cim16#PowerTransformerEnd.b'),\n",
       "  rdflib.term.Literal('24', datatype=rdflib.term.URIRef('http://www.w3.org/2001/XMLSchema#integer')),\n",
       "  rdflib.term.URIRef('http://www.w3.org/2001/XMLSchema#string')),\n",
       " (rdflib.term.URIRef('http://iec.ch/TC57/2013/CIM-schema-cim16#PowerTransformerEnd.x'),\n",
       "  rdflib.term.Literal('24', datatype=rdflib.term.URIRef('http://www.w3.org/2001/XMLSchema#integer')),\n",
       "  rdflib.term.URIRef('http://www.w3.org/2001/XMLSchema#string')),\n",
       " (rdflib.term.URIRef('http://www.pti-us.com/PTI_CIM-schema-cim16#PowerTransformerEnd.nomV'),\n",
       "  rdflib.term.Literal('24', datatype=rdflib.term.URIRef('http://www.w3.org/2001/XMLSchema#integer')),\n",
       "  rdflib.term.URIRef('http://www.w3.org/2001/XMLSchema#string')),\n",
       " (rdflib.term.URIRef('http://iec.ch/TC57/2013/CIM-schema-cim16#TransformerEnd.endNumber'),\n",
       "  rdflib.term.Literal('24', datatype=rdflib.term.URIRef('http://www.w3.org/2001/XMLSchema#integer')),\n",
       "  rdflib.term.URIRef('http://www.w3.org/2001/XMLSchema#string')),\n",
       " (rdflib.term.URIRef('http://www.pti-us.com/PTI_CIM-schema-cim16#ScheduleResource.marketCode'),\n",
       "  rdflib.term.Literal('16', datatype=rdflib.term.URIRef('http://www.w3.org/2001/XMLSchema#integer')),\n",
       "  rdflib.term.URIRef('http://www.w3.org/2001/XMLSchema#string')),\n",
       " (rdflib.term.URIRef('http://iec.ch/TC57/2013/CIM-schema-cim16#OperationalLimitType.acceptableDuration'),\n",
       "  rdflib.term.Literal('13', datatype=rdflib.term.URIRef('http://www.w3.org/2001/XMLSchema#integer')),\n",
       "  rdflib.term.URIRef('http://www.w3.org/2001/XMLSchema#string')),\n",
       " (rdflib.term.URIRef('http://entsoe.eu/CIM/SchemaExtension/3/2#RateTemperature.value'),\n",
       "  rdflib.term.Literal('13', datatype=rdflib.term.URIRef('http://www.w3.org/2001/XMLSchema#integer')),\n",
       "  rdflib.term.URIRef('http://www.w3.org/2001/XMLSchema#string')),\n",
       " (rdflib.term.URIRef('http://iec.ch/TC57/2013/CIM-schema-cim16#TapChanger.ltcFlag'),\n",
       "  rdflib.term.Literal('12', datatype=rdflib.term.URIRef('http://www.w3.org/2001/XMLSchema#integer')),\n",
       "  rdflib.term.URIRef('http://www.w3.org/2001/XMLSchema#string')),\n",
       " (rdflib.term.URIRef('http://www.pti-us.com/PTI_CIM-schema-cim16#PowerTransformer.cz'),\n",
       "  rdflib.term.Literal('12', datatype=rdflib.term.URIRef('http://www.w3.org/2001/XMLSchema#integer')),\n",
       "  rdflib.term.URIRef('http://www.w3.org/2001/XMLSchema#string')),\n",
       " (rdflib.term.URIRef('http://www.pti-us.com/PTI_CIM-schema-cim16#PowerTransformerEnd.ang'),\n",
       "  rdflib.term.Literal('12', datatype=rdflib.term.URIRef('http://www.w3.org/2001/XMLSchema#integer')),\n",
       "  rdflib.term.URIRef('http://www.w3.org/2001/XMLSchema#string')),\n",
       " (rdflib.term.URIRef('http://iec.ch/TC57/2013/CIM-schema-cim16#TapChanger.neutralStep'),\n",
       "  rdflib.term.Literal('12', datatype=rdflib.term.URIRef('http://www.w3.org/2001/XMLSchema#integer')),\n",
       "  rdflib.term.URIRef('http://www.w3.org/2001/XMLSchema#string')),\n",
       " (rdflib.term.URIRef('http://iec.ch/TC57/2013/CIM-schema-cim16#TapChanger.neutralU'),\n",
       "  rdflib.term.Literal('12', datatype=rdflib.term.URIRef('http://www.w3.org/2001/XMLSchema#integer')),\n",
       "  rdflib.term.URIRef('http://www.w3.org/2001/XMLSchema#string')),\n",
       " (rdflib.term.URIRef('http://iec.ch/TC57/2013/CIM-schema-cim16#TapChanger.lowStep'),\n",
       "  rdflib.term.Literal('12', datatype=rdflib.term.URIRef('http://www.w3.org/2001/XMLSchema#integer')),\n",
       "  rdflib.term.URIRef('http://www.w3.org/2001/XMLSchema#string')),\n",
       " (rdflib.term.URIRef('http://www.pti-us.com/PTI_CIM-schema-cim16#PowerTransformerEnd.sBase'),\n",
       "  rdflib.term.Literal('12', datatype=rdflib.term.URIRef('http://www.w3.org/2001/XMLSchema#integer')),\n",
       "  rdflib.term.URIRef('http://www.w3.org/2001/XMLSchema#string')),\n",
       " (rdflib.term.URIRef('http://www.pti-us.com/PTI_CIM-schema-cim16#PowerTransformer.nmetr'),\n",
       "  rdflib.term.Literal('12', datatype=rdflib.term.URIRef('http://www.w3.org/2001/XMLSchema#integer')),\n",
       "  rdflib.term.URIRef('http://www.w3.org/2001/XMLSchema#string')),\n",
       " (rdflib.term.URIRef('http://iec.ch/TC57/2013/CIM-schema-cim16#RatioTapChanger.stepVoltageIncrement'),\n",
       "  rdflib.term.Literal('12', datatype=rdflib.term.URIRef('http://www.w3.org/2001/XMLSchema#integer')),\n",
       "  rdflib.term.URIRef('http://www.w3.org/2001/XMLSchema#string')),\n",
       " (rdflib.term.URIRef('http://www.pti-us.com/PTI_CIM-schema-cim16#PowerTransformer.cr'),\n",
       "  rdflib.term.Literal('12', datatype=rdflib.term.URIRef('http://www.w3.org/2001/XMLSchema#integer')),\n",
       "  rdflib.term.URIRef('http://www.w3.org/2001/XMLSchema#string')),\n",
       " (rdflib.term.URIRef('http://iec.ch/TC57/2013/CIM-schema-cim16#TapChanger.highStep'),\n",
       "  rdflib.term.Literal('12', datatype=rdflib.term.URIRef('http://www.w3.org/2001/XMLSchema#integer')),\n",
       "  rdflib.term.URIRef('http://www.w3.org/2001/XMLSchema#string')),\n",
       " (rdflib.term.URIRef('http://www.pti-us.com/PTI_CIM-schema-cim16#PowerTransformer.cx'),\n",
       "  rdflib.term.Literal('12', datatype=rdflib.term.URIRef('http://www.w3.org/2001/XMLSchema#integer')),\n",
       "  rdflib.term.URIRef('http://www.w3.org/2001/XMLSchema#string')),\n",
       " (rdflib.term.URIRef('http://www.pti-us.com/PTI_CIM-schema-cim16#PowerTransformer.rma'),\n",
       "  rdflib.term.Literal('12', datatype=rdflib.term.URIRef('http://www.w3.org/2001/XMLSchema#integer')),\n",
       "  rdflib.term.URIRef('http://www.w3.org/2001/XMLSchema#string')),\n",
       " (rdflib.term.URIRef('http://www.pti-us.com/PTI_CIM-schema-cim16#PowerTransformer.cw'),\n",
       "  rdflib.term.Literal('12', datatype=rdflib.term.URIRef('http://www.w3.org/2001/XMLSchema#integer')),\n",
       "  rdflib.term.URIRef('http://www.w3.org/2001/XMLSchema#string')),\n",
       " (rdflib.term.URIRef('http://www.pti-us.com/PTI_CIM-schema-cim16#PowerTransformer.rmi'),\n",
       "  rdflib.term.Literal('12', datatype=rdflib.term.URIRef('http://www.w3.org/2001/XMLSchema#integer')),\n",
       "  rdflib.term.URIRef('http://www.w3.org/2001/XMLSchema#string')),\n",
       " (rdflib.term.URIRef('http://iec.ch/TC57/2013/CIM-schema-cim16#TapChanger.normalStep'),\n",
       "  rdflib.term.Literal('12', datatype=rdflib.term.URIRef('http://www.w3.org/2001/XMLSchema#integer')),\n",
       "  rdflib.term.URIRef('http://www.w3.org/2001/XMLSchema#string')),\n",
       " (rdflib.term.URIRef('http://www.pti-us.com/PTI_CIM-schema-cim16#PowerTransformer.cm'),\n",
       "  rdflib.term.Literal('12', datatype=rdflib.term.URIRef('http://www.w3.org/2001/XMLSchema#integer')),\n",
       "  rdflib.term.URIRef('http://www.w3.org/2001/XMLSchema#string')),\n",
       " (rdflib.term.URIRef('http://www.pti-us.com/PTI_CIM-schema-cim16#EnergyCongestionZone.marketCode'),\n",
       "  rdflib.term.Literal('10', datatype=rdflib.term.URIRef('http://www.w3.org/2001/XMLSchema#integer')),\n",
       "  rdflib.term.URIRef('http://www.w3.org/2001/XMLSchema#string')),\n",
       " (rdflib.term.URIRef('http://www.pti-us.com/PTI_CIM-schema-cim16#Resources.PSSEStatus'),\n",
       "  rdflib.term.Literal('10', datatype=rdflib.term.URIRef('http://www.w3.org/2001/XMLSchema#integer')),\n",
       "  rdflib.term.URIRef('http://www.w3.org/2001/XMLSchema#string')),\n",
       " (rdflib.term.URIRef('http://iec.ch/TC57/2013/CIM-schema-cim16#LinearShuntCompensator.bPerSection'),\n",
       "  rdflib.term.Literal('8', datatype=rdflib.term.URIRef('http://www.w3.org/2001/XMLSchema#integer')),\n",
       "  rdflib.term.URIRef('http://www.w3.org/2001/XMLSchema#string')),\n",
       " (rdflib.term.URIRef('http://iec.ch/TC57/2013/CIM-schema-cim16#ShuntCompensator.aVRDelay'),\n",
       "  rdflib.term.Literal('8', datatype=rdflib.term.URIRef('http://www.w3.org/2001/XMLSchema#integer')),\n",
       "  rdflib.term.URIRef('http://www.w3.org/2001/XMLSchema#string')),\n",
       " (rdflib.term.URIRef('http://iec.ch/TC57/2013/CIM-schema-cim16#ShuntCompensator.nomU'),\n",
       "  rdflib.term.Literal('8', datatype=rdflib.term.URIRef('http://www.w3.org/2001/XMLSchema#integer')),\n",
       "  rdflib.term.URIRef('http://www.w3.org/2001/XMLSchema#string')),\n",
       " (rdflib.term.URIRef('http://iec.ch/TC57/2013/CIM-schema-cim16#ShuntCompensator.normalSections'),\n",
       "  rdflib.term.Literal('8', datatype=rdflib.term.URIRef('http://www.w3.org/2001/XMLSchema#integer')),\n",
       "  rdflib.term.URIRef('http://www.w3.org/2001/XMLSchema#string')),\n",
       " (rdflib.term.URIRef('http://iec.ch/TC57/2013/CIM-schema-cim16#ShuntCompensator.maximumSections'),\n",
       "  rdflib.term.Literal('8', datatype=rdflib.term.URIRef('http://www.w3.org/2001/XMLSchema#integer')),\n",
       "  rdflib.term.URIRef('http://www.w3.org/2001/XMLSchema#string')),\n",
       " (rdflib.term.URIRef('http://iec.ch/TC57/2013/CIM-schema-cim16-info#ProtectiveAction.normalEnabled'),\n",
       "  rdflib.term.Literal('8', datatype=rdflib.term.URIRef('http://www.w3.org/2001/XMLSchema#integer')),\n",
       "  rdflib.term.URIRef('http://www.w3.org/2001/XMLSchema#string')),\n",
       " (rdflib.term.URIRef('http://iec.ch/TC57/2013/CIM-schema-cim16#LinearShuntCompensator.gPerSection'),\n",
       "  rdflib.term.Literal('8', datatype=rdflib.term.URIRef('http://www.w3.org/2001/XMLSchema#integer')),\n",
       "  rdflib.term.URIRef('http://www.w3.org/2001/XMLSchema#string')),\n",
       " (rdflib.term.URIRef('http://iec.ch/TC57/2013/CIM-schema-cim16#ActivePowerLimit.value'),\n",
       "  rdflib.term.Literal('6', datatype=rdflib.term.URIRef('http://www.w3.org/2001/XMLSchema#integer')),\n",
       "  rdflib.term.URIRef('http://www.w3.org/2001/XMLSchema#string')),\n",
       " (rdflib.term.URIRef('http://entsoe.eu/CIM/SchemaExtension/3/2#ActivePowerLimit.normalValue'),\n",
       "  rdflib.term.Literal('6', datatype=rdflib.term.URIRef('http://www.w3.org/2001/XMLSchema#integer')),\n",
       "  rdflib.term.URIRef('http://www.w3.org/2001/XMLSchema#string')),\n",
       " (rdflib.term.URIRef('http://iec.ch/TC57/2013/CIM-schema-cim16-info#ProtectiveActionEquipment.inService'),\n",
       "  rdflib.term.Literal('5', datatype=rdflib.term.URIRef('http://www.w3.org/2001/XMLSchema#integer')),\n",
       "  rdflib.term.URIRef('http://www.w3.org/2001/XMLSchema#string')),\n",
       " (rdflib.term.URIRef('http://iec.ch/TC57/61970-552/ModelDescription/1#Model.profile'),\n",
       "  rdflib.term.Literal('4', datatype=rdflib.term.URIRef('http://www.w3.org/2001/XMLSchema#integer')),\n",
       "  rdflib.term.URIRef('http://www.w3.org/2001/XMLSchema#string')),\n",
       " (rdflib.term.URIRef('http://iec.ch/TC57/2013/CIM-schema-cim16-info#GateInputPin.thresholdValue'),\n",
       "  rdflib.term.Literal('4', datatype=rdflib.term.URIRef('http://www.w3.org/2001/XMLSchema#integer')),\n",
       "  rdflib.term.URIRef('http://www.w3.org/2001/XMLSchema#string')),\n",
       " (rdflib.term.URIRef('http://iec.ch/TC57/2013/CIM-schema-cim16-info#ProtectiveActionAdjustment.reduceToNegative'),\n",
       "  rdflib.term.Literal('3', datatype=rdflib.term.URIRef('http://www.w3.org/2001/XMLSchema#integer')),\n",
       "  rdflib.term.URIRef('http://www.w3.org/2001/XMLSchema#string')),\n",
       " (rdflib.term.URIRef('http://iec.ch/TC57/2013/CIM-schema-cim16-info#ProtectiveActionAdjustment.reduce'),\n",
       "  rdflib.term.Literal('3', datatype=rdflib.term.URIRef('http://www.w3.org/2001/XMLSchema#integer')),\n",
       "  rdflib.term.URIRef('http://www.w3.org/2001/XMLSchema#string')),\n",
       " (rdflib.term.URIRef('http://iec.ch/TC57/2013/CIM-schema-cim16#BaseVoltage.nominalVoltage'),\n",
       "  rdflib.term.Literal('3', datatype=rdflib.term.URIRef('http://www.w3.org/2001/XMLSchema#integer')),\n",
       "  rdflib.term.URIRef('http://www.w3.org/2001/XMLSchema#string')),\n",
       " (rdflib.term.URIRef('http://entsoe.eu/CIM/SchemaExtension/3/2#ProtectiveActionAdjustment.value'),\n",
       "  rdflib.term.Literal('3', datatype=rdflib.term.URIRef('http://www.w3.org/2001/XMLSchema#integer')),\n",
       "  rdflib.term.URIRef('http://www.w3.org/2001/XMLSchema#string')),\n",
       " (rdflib.term.URIRef('http://iec.ch/TC57/2013/CIM-schema-cim16-info#Stage.priority'),\n",
       "  rdflib.term.Literal('3', datatype=rdflib.term.URIRef('http://www.w3.org/2001/XMLSchema#integer')),\n",
       "  rdflib.term.URIRef('http://www.w3.org/2001/XMLSchema#string')),\n",
       " (rdflib.term.URIRef('http://iec.ch/TC57/2013/CIM-schema-cim16-info#RemedialActionScheme.normalActive'),\n",
       "  rdflib.term.Literal('2', datatype=rdflib.term.URIRef('http://www.w3.org/2001/XMLSchema#integer')),\n",
       "  rdflib.term.URIRef('http://www.w3.org/2001/XMLSchema#string')),\n",
       " (rdflib.term.URIRef('http://iec.ch/TC57/2013/CIM-schema-cim16-info#StageTrigger.normalEnabled'),\n",
       "  rdflib.term.Literal('2', datatype=rdflib.term.URIRef('http://www.w3.org/2001/XMLSchema#integer')),\n",
       "  rdflib.term.URIRef('http://www.w3.org/2001/XMLSchema#string')),\n",
       " (rdflib.term.URIRef('http://entsoe.eu/CIM/SchemaExtension/3/2#CircuitShare.contributionFactor'),\n",
       "  rdflib.term.Literal('2', datatype=rdflib.term.URIRef('http://www.w3.org/2001/XMLSchema#integer')),\n",
       "  rdflib.term.URIRef('http://www.w3.org/2001/XMLSchema#string')),\n",
       " (rdflib.term.URIRef('http://iec.ch/TC57/2013/CIM-schema-cim16-info#GateInputPin.thresholdPercentage'),\n",
       "  rdflib.term.Literal('2', datatype=rdflib.term.URIRef('http://www.w3.org/2001/XMLSchema#integer')),\n",
       "  rdflib.term.URIRef('http://www.w3.org/2001/XMLSchema#string')),\n",
       " (rdflib.term.URIRef('http://iec.ch/TC57/2013/CIM-schema-cim16-info#StageTrigger.normalArmed'),\n",
       "  rdflib.term.Literal('1', datatype=rdflib.term.URIRef('http://www.w3.org/2001/XMLSchema#integer')),\n",
       "  rdflib.term.URIRef('http://www.w3.org/2001/XMLSchema#string')),\n",
       " (rdflib.term.URIRef('http://iec.ch/TC57/2013/CIM-schema-cim16#LoadResponseCharacteristic.pConstantPower'),\n",
       "  rdflib.term.Literal('1', datatype=rdflib.term.URIRef('http://www.w3.org/2001/XMLSchema#integer')),\n",
       "  rdflib.term.URIRef('http://www.w3.org/2001/XMLSchema#string')),\n",
       " (rdflib.term.URIRef('http://iec.ch/TC57/2013/CIM-schema-cim16#LoadResponseCharacteristic.qConstantCurrent'),\n",
       "  rdflib.term.Literal('1', datatype=rdflib.term.URIRef('http://www.w3.org/2001/XMLSchema#integer')),\n",
       "  rdflib.term.URIRef('http://www.w3.org/2001/XMLSchema#string')),\n",
       " (rdflib.term.URIRef('http://iec.ch/TC57/2013/CIM-schema-cim16#LoadResponseCharacteristic.pConstantCurrent'),\n",
       "  rdflib.term.Literal('1', datatype=rdflib.term.URIRef('http://www.w3.org/2001/XMLSchema#integer')),\n",
       "  rdflib.term.URIRef('http://www.w3.org/2001/XMLSchema#string')),\n",
       " (rdflib.term.URIRef('http://iec.ch/TC57/2013/CIM-schema-cim16-info#RemedialActionScheme.normalArmed'),\n",
       "  rdflib.term.Literal('1', datatype=rdflib.term.URIRef('http://www.w3.org/2001/XMLSchema#integer')),\n",
       "  rdflib.term.URIRef('http://www.w3.org/2001/XMLSchema#string')),\n",
       " (rdflib.term.URIRef('http://iec.ch/TC57/2013/CIM-schema-cim16#LoadResponseCharacteristic.pConstantImpedance'),\n",
       "  rdflib.term.Literal('1', datatype=rdflib.term.URIRef('http://www.w3.org/2001/XMLSchema#integer')),\n",
       "  rdflib.term.URIRef('http://www.w3.org/2001/XMLSchema#string')),\n",
       " (rdflib.term.URIRef('http://iec.ch/TC57/2013/CIM-schema-cim16#BasePower.basePower'),\n",
       "  rdflib.term.Literal('1', datatype=rdflib.term.URIRef('http://www.w3.org/2001/XMLSchema#integer')),\n",
       "  rdflib.term.URIRef('http://www.w3.org/2001/XMLSchema#string')),\n",
       " (rdflib.term.URIRef('http://iec.ch/TC57/61970-552/ModelDescription/1#Model.modelingAuthoritySet'),\n",
       "  rdflib.term.Literal('1', datatype=rdflib.term.URIRef('http://www.w3.org/2001/XMLSchema#integer')),\n",
       "  rdflib.term.URIRef('http://www.w3.org/2001/XMLSchema#string')),\n",
       " (rdflib.term.URIRef('http://iec.ch/TC57/2013/CIM-schema-cim16#LoadResponseCharacteristic.qConstantImpedance'),\n",
       "  rdflib.term.Literal('1', datatype=rdflib.term.URIRef('http://www.w3.org/2001/XMLSchema#integer')),\n",
       "  rdflib.term.URIRef('http://www.w3.org/2001/XMLSchema#string')),\n",
       " (rdflib.term.URIRef('http://www.pti-us.com/PTI_CIM-schema-cim16#Model.createdBy'),\n",
       "  rdflib.term.Literal('1', datatype=rdflib.term.URIRef('http://www.w3.org/2001/XMLSchema#integer')),\n",
       "  rdflib.term.URIRef('http://www.w3.org/2001/XMLSchema#string')),\n",
       " (rdflib.term.URIRef('http://iec.ch/TC57/61970-552/ModelDescription/1#Model.version'),\n",
       "  rdflib.term.Literal('1', datatype=rdflib.term.URIRef('http://www.w3.org/2001/XMLSchema#integer')),\n",
       "  rdflib.term.URIRef('http://www.w3.org/2001/XMLSchema#string')),\n",
       " (rdflib.term.URIRef('http://iec.ch/TC57/2013/CIM-schema-cim16-info#GateInputPin.negate'),\n",
       "  rdflib.term.Literal('1', datatype=rdflib.term.URIRef('http://www.w3.org/2001/XMLSchema#integer')),\n",
       "  rdflib.term.URIRef('http://www.w3.org/2001/XMLSchema#string')),\n",
       " (rdflib.term.URIRef('http://iec.ch/TC57/61970-552/ModelDescription/1#Model.created'),\n",
       "  rdflib.term.Literal('1', datatype=rdflib.term.URIRef('http://www.w3.org/2001/XMLSchema#integer')),\n",
       "  rdflib.term.URIRef('http://www.w3.org/2001/XMLSchema#string')),\n",
       " (rdflib.term.URIRef('http://iec.ch/TC57/2013/CIM-schema-cim16#LoadResponseCharacteristic.exponentModel'),\n",
       "  rdflib.term.Literal('1', datatype=rdflib.term.URIRef('http://www.w3.org/2001/XMLSchema#integer')),\n",
       "  rdflib.term.URIRef('http://www.w3.org/2001/XMLSchema#string')),\n",
       " (rdflib.term.URIRef('http://iec.ch/TC57/2013/CIM-schema-cim16#LoadResponseCharacteristic.qConstantPower'),\n",
       "  rdflib.term.Literal('1', datatype=rdflib.term.URIRef('http://www.w3.org/2001/XMLSchema#integer')),\n",
       "  rdflib.term.URIRef('http://www.w3.org/2001/XMLSchema#string')),\n",
       " (rdflib.term.URIRef('http://iec.ch/TC57/61970-552/ModelDescription/1#Model.description'),\n",
       "  rdflib.term.Literal('1', datatype=rdflib.term.URIRef('http://www.w3.org/2001/XMLSchema#integer')),\n",
       "  rdflib.term.URIRef('http://www.w3.org/2001/XMLSchema#string')),\n",
       " (rdflib.term.URIRef('http://iec.ch/TC57/61970-552/ModelDescription/1#Model.scenarioTime'),\n",
       "  rdflib.term.Literal('1', datatype=rdflib.term.URIRef('http://www.w3.org/2001/XMLSchema#integer')),\n",
       "  rdflib.term.URIRef('http://www.w3.org/2001/XMLSchema#string'))]"
      ]
     },
     "execution_count": 44,
     "metadata": {},
     "output_type": "execute_result"
    }
   ],
   "source": [
    "list(source_store.graph.query(q1))"
   ]
  },
  {
   "cell_type": "code",
   "execution_count": 60,
   "metadata": {},
   "outputs": [],
   "source": [
    "import rdflib"
   ]
  },
  {
   "cell_type": "code",
   "execution_count": 61,
   "metadata": {},
   "outputs": [],
   "source": [
    "results = {'fields': [rdflib.term.Variable('p'), rdflib.term.Variable('count')], 'rows': [{rdflib.term.Variable('p'): rdflib.term.URIRef('http://purl.org/cognite/tnt#IdentifiedObject.mRID'), rdflib.term.Variable('count'): rdflib.term.Literal('508', datatype=rdflib.term.URIRef('http://www.w3.org/2001/XMLSchema#integer'))}, {rdflib.term.Variable('p'): rdflib.term.URIRef('http://purl.org/cognite/tnt#IdentifiedObject.name'), rdflib.term.Variable('count'): rdflib.term.Literal('508', datatype=rdflib.term.URIRef('http://www.w3.org/2001/XMLSchema#integer'))}, {rdflib.term.Variable('p'): rdflib.term.URIRef('http://purl.org/cognite/tnt#IdentifiedObject.description'), rdflib.term.Variable('count'): rdflib.term.Literal('2', datatype=rdflib.term.URIRef('http://www.w3.org/2001/XMLSchema#integer'))}, {rdflib.term.Variable('p'): rdflib.term.URIRef('http://purl.org/cognite/tnt#IdentifiedObject.aliasName'), rdflib.term.Variable('count'): rdflib.term.Literal('2', datatype=rdflib.term.URIRef('http://www.w3.org/2001/XMLSchema#integer'))}, {rdflib.term.Variable('p'): rdflib.term.URIRef('http://purl.org/cognite/tnt#type'), rdflib.term.Variable('count'): rdflib.term.Literal('2', datatype=rdflib.term.URIRef('http://www.w3.org/2001/XMLSchema#integer'))}, {rdflib.term.Variable('p'): rdflib.term.URIRef('http://purl.org/cognite/tnt#cdfResourceType'), rdflib.term.Variable('count'): rdflib.term.Literal('2', datatype=rdflib.term.URIRef('http://www.w3.org/2001/XMLSchema#integer'))}], 'query': 'SELECT DISTINCT ?p (count(?o) as ?count ) WHERE\\n                            { ?s ?p ?o . FILTER(isLiteral(?o))} \\n                            group by ?p order by DESC(?count) LIMIT 1000', 'elapsed_time_sec': 0.003157863990054466}"
   ]
  },
  {
   "cell_type": "code",
   "execution_count": 62,
   "metadata": {},
   "outputs": [
    {
     "data": {
      "text/plain": [
       "[{rdflib.term.Variable('p'): rdflib.term.URIRef('http://purl.org/cognite/tnt#IdentifiedObject.mRID'),\n",
       "  rdflib.term.Variable('count'): rdflib.term.Literal('508', datatype=rdflib.term.URIRef('http://www.w3.org/2001/XMLSchema#integer'))},\n",
       " {rdflib.term.Variable('p'): rdflib.term.URIRef('http://purl.org/cognite/tnt#IdentifiedObject.name'),\n",
       "  rdflib.term.Variable('count'): rdflib.term.Literal('508', datatype=rdflib.term.URIRef('http://www.w3.org/2001/XMLSchema#integer'))},\n",
       " {rdflib.term.Variable('p'): rdflib.term.URIRef('http://purl.org/cognite/tnt#IdentifiedObject.description'),\n",
       "  rdflib.term.Variable('count'): rdflib.term.Literal('2', datatype=rdflib.term.URIRef('http://www.w3.org/2001/XMLSchema#integer'))},\n",
       " {rdflib.term.Variable('p'): rdflib.term.URIRef('http://purl.org/cognite/tnt#IdentifiedObject.aliasName'),\n",
       "  rdflib.term.Variable('count'): rdflib.term.Literal('2', datatype=rdflib.term.URIRef('http://www.w3.org/2001/XMLSchema#integer'))},\n",
       " {rdflib.term.Variable('p'): rdflib.term.URIRef('http://purl.org/cognite/tnt#type'),\n",
       "  rdflib.term.Variable('count'): rdflib.term.Literal('2', datatype=rdflib.term.URIRef('http://www.w3.org/2001/XMLSchema#integer'))},\n",
       " {rdflib.term.Variable('p'): rdflib.term.URIRef('http://purl.org/cognite/tnt#cdfResourceType'),\n",
       "  rdflib.term.Variable('count'): rdflib.term.Literal('2', datatype=rdflib.term.URIRef('http://www.w3.org/2001/XMLSchema#integer'))}]"
      ]
     },
     "execution_count": 62,
     "metadata": {},
     "output_type": "execute_result"
    }
   ],
   "source": [
    "results[\"rows\"]"
   ]
  },
  {
   "cell_type": "code",
   "execution_count": 58,
   "metadata": {},
   "outputs": [
    {
     "name": "stdout",
     "output_type": "stream",
     "text": [
      "property                                           | occurence            | value type          \n",
      "------------------------------------------------------------------------------------------\n",
      "IdentifiedObject.name                              | 2502                 | 2502                \n",
      "IdentifiedObject.description                       | 1261                 | 1261                \n",
      "CurrentLimit.value                                 | 530                  | 530                 \n",
      "CurrentLimit.normalValue                           | 530                  | 530                 \n",
      "Equipment.aggregate                                | 303                  | 303                 \n",
      "ACDCTerminal.sequenceNumber                        | 281                  | 281                 \n",
      "Equipment.normallyInService                        | 215                  | 215                 \n",
      "OperatingShare.percentage                          | 207                  | 207                 \n",
      "VoltageLimit.value                                 | 184                  | 184                 \n",
      "VoltageLimit.normalValue                           | 184                  | 184                 \n",
      "AnalogValue.value                                  | 133                  | 133                 \n",
      "GeneratingUnit.initialP                            | 80                   | 80                  \n",
      "SynchronousMachine.minU                            | 80                   | 80                  \n",
      "GeneratingUnit.xt                                  | 80                   | 80                  \n",
      "SynchronousMachine.x                               | 80                   | 80                  \n",
      "GeneratingUnit.maxEconomicP                        | 80                   | 80                  \n",
      "SynchronousMachine.qPercent                        | 80                   | 80                  \n",
      "SynchronousMachine.maxU                            | 80                   | 80                  \n",
      "SynchronousMachine.minQ                            | 80                   | 80                  \n",
      "GeneratingUnit.lowControlLimit                     | 80                   | 80                  \n",
      "GeneratingUnit.meritOrder                          | 80                   | 80                  \n",
      "GeneratingUnit.maxOperatingP                       | 80                   | 80                  \n",
      "RotatingMachine.ratedS                             | 80                   | 80                  \n",
      "GeneratingUnit.dispatchable                        | 80                   | 80                  \n",
      "GeneratingUnit.rmpct                               | 80                   | 80                  \n",
      "GeneratingUnit.gtap                                | 80                   | 80                  \n",
      "GeneratingUnit.minEconomicP                        | 80                   | 80                  \n",
      "GeneratingUnit.minOperatingP                       | 80                   | 80                  \n",
      "GeneratingUnit.ratedGrossMaxP                      | 80                   | 80                  \n",
      "SynchronousMachine.r                               | 80                   | 80                  \n",
      "GeneratingUnit.highControlLimit                    | 80                   | 80                  \n",
      "GeneratingUnit.nominalP                            | 80                   | 80                  \n",
      "GeneratingUnit.rt                                  | 80                   | 80                  \n",
      "GeneratingUnit.ratedNetMaxP                        | 80                   | 80                  \n",
      "SynchronousMachine.maxQ                            | 80                   | 80                  \n",
      "ACLineSegment.r                                    | 68                   | 68                  \n",
      "ACLineSegment.bch                                  | 68                   | 68                  \n",
      "ACLineSegment.x                                    | 68                   | 68                  \n",
      "Conductor.length                                   | 67                   | 67                  \n",
      "Switch.normalOpen                                  | 55                   | 55                  \n",
      "Switch.retained                                    | 55                   | 55                  \n",
      "EnergyConsumer.pfixed                              | 48                   | 48                  \n",
      "EnergyConsumer.qfixed                              | 48                   | 48                  \n",
      "IdentifiedObject.aliasName                         | 37                   | 37                  \n",
      "Measurement.uncefactUnitCode                       | 30                   | 30                  \n",
      "Measurement.measurementType                        | 30                   | 30                  \n",
      "PowerTransformerEnd.r                              | 24                   | 24                  \n",
      "PowerTransformerEnd.ratedS                         | 24                   | 24                  \n",
      "TransformerEnd.grounded                            | 24                   | 24                  \n",
      "PowerTransformerEnd.g                              | 24                   | 24                  \n",
      "PowerTransformerEnd.phaseAngleClock                | 24                   | 24                  \n",
      "PowerTransformerEnd.ratedU                         | 24                   | 24                  \n",
      "PowerTransformerEnd.b                              | 24                   | 24                  \n",
      "PowerTransformerEnd.x                              | 24                   | 24                  \n",
      "PowerTransformerEnd.nomV                           | 24                   | 24                  \n",
      "TransformerEnd.endNumber                           | 24                   | 24                  \n",
      "ScheduleResource.marketCode                        | 16                   | 16                  \n",
      "OperationalLimitType.acceptableDuration            | 13                   | 13                  \n",
      "RateTemperature.value                              | 13                   | 13                  \n",
      "TapChanger.ltcFlag                                 | 12                   | 12                  \n",
      "PowerTransformer.cz                                | 12                   | 12                  \n",
      "PowerTransformerEnd.ang                            | 12                   | 12                  \n",
      "TapChanger.neutralStep                             | 12                   | 12                  \n",
      "TapChanger.neutralU                                | 12                   | 12                  \n",
      "TapChanger.lowStep                                 | 12                   | 12                  \n",
      "PowerTransformerEnd.sBase                          | 12                   | 12                  \n",
      "PowerTransformer.nmetr                             | 12                   | 12                  \n",
      "RatioTapChanger.stepVoltageIncrement               | 12                   | 12                  \n",
      "PowerTransformer.cr                                | 12                   | 12                  \n",
      "TapChanger.highStep                                | 12                   | 12                  \n",
      "PowerTransformer.cx                                | 12                   | 12                  \n",
      "PowerTransformer.rma                               | 12                   | 12                  \n",
      "PowerTransformer.cw                                | 12                   | 12                  \n",
      "PowerTransformer.rmi                               | 12                   | 12                  \n",
      "TapChanger.normalStep                              | 12                   | 12                  \n",
      "PowerTransformer.cm                                | 12                   | 12                  \n",
      "EnergyCongestionZone.marketCode                    | 10                   | 10                  \n",
      "Resources.PSSEStatus                               | 10                   | 10                  \n",
      "LinearShuntCompensator.bPerSection                 | 8                    | 8                   \n",
      "ShuntCompensator.aVRDelay                          | 8                    | 8                   \n",
      "ShuntCompensator.nomU                              | 8                    | 8                   \n",
      "ShuntCompensator.normalSections                    | 8                    | 8                   \n",
      "ShuntCompensator.maximumSections                   | 8                    | 8                   \n",
      "ProtectiveAction.normalEnabled                     | 8                    | 8                   \n",
      "LinearShuntCompensator.gPerSection                 | 8                    | 8                   \n",
      "ActivePowerLimit.value                             | 6                    | 6                   \n",
      "ActivePowerLimit.normalValue                       | 6                    | 6                   \n",
      "ProtectiveActionEquipment.inService                | 5                    | 5                   \n",
      "Model.profile                                      | 4                    | 4                   \n",
      "GateInputPin.thresholdValue                        | 4                    | 4                   \n",
      "ProtectiveActionAdjustment.reduceToNegative        | 3                    | 3                   \n",
      "ProtectiveActionAdjustment.reduce                  | 3                    | 3                   \n",
      "BaseVoltage.nominalVoltage                         | 3                    | 3                   \n",
      "ProtectiveActionAdjustment.value                   | 3                    | 3                   \n",
      "Stage.priority                                     | 3                    | 3                   \n",
      "RemedialActionScheme.normalActive                  | 2                    | 2                   \n",
      "StageTrigger.normalEnabled                         | 2                    | 2                   \n",
      "CircuitShare.contributionFactor                    | 2                    | 2                   \n",
      "GateInputPin.thresholdPercentage                   | 2                    | 2                   \n",
      "StageTrigger.normalArmed                           | 1                    | 1                   \n",
      "LoadResponseCharacteristic.pConstantPower          | 1                    | 1                   \n",
      "LoadResponseCharacteristic.qConstantCurrent        | 1                    | 1                   \n",
      "LoadResponseCharacteristic.pConstantCurrent        | 1                    | 1                   \n",
      "RemedialActionScheme.normalArmed                   | 1                    | 1                   \n",
      "LoadResponseCharacteristic.pConstantImpedance      | 1                    | 1                   \n",
      "BasePower.basePower                                | 1                    | 1                   \n",
      "Model.modelingAuthoritySet                         | 1                    | 1                   \n",
      "LoadResponseCharacteristic.qConstantImpedance      | 1                    | 1                   \n",
      "Model.createdBy                                    | 1                    | 1                   \n",
      "Model.version                                      | 1                    | 1                   \n",
      "GateInputPin.negate                                | 1                    | 1                   \n",
      "Model.created                                      | 1                    | 1                   \n",
      "LoadResponseCharacteristic.exponentModel           | 1                    | 1                   \n",
      "LoadResponseCharacteristic.qConstantPower          | 1                    | 1                   \n",
      "Model.description                                  | 1                    | 1                   \n",
      "Model.scenarioTime                                 | 1                    | 1                   \n"
     ]
    }
   ],
   "source": [
    "print(f\"{'property':50} | {'occurence':20} | {'value type':20}\")\n",
    "print(90*\"-\")\n",
    "\n",
    "\n",
    "q1 = \"SELECT DISTINCT ?p (count(?o) as ?count ) ?dt WHERE { ?s ?p ?o . BIND (datatype(?o) AS ?dt) FILTER(isLiteral(?o))} group by ?p order by DESC(?count)\"\n",
    "q1 = \"SELECT DISTINCT ?p (count(?o) as ?count ) ?WHERE { ?s ?p ?o . FILTER(isLiteral(?o))} group by ?p order by DESC(?count)\"\n",
    "\n",
    "for s, p, o in list(source_store.graph.query(q1)):\n",
    "    print(f\"{remove_namespace(s):50} | {p:20} | {p:20}\" )\n",
    "    # print(f\"{remove_namespace(res[0]):50} | {res[1]:20} | {remove_namespace(res[1]):20}\" )\n",
    "    # if i > 20:\n",
    "    #     break"
   ]
  },
  {
   "attachments": {},
   "cell_type": "markdown",
   "metadata": {},
   "source": [
    "If you closely inspect transformation rules, we are not interested in all classes that are represented by Nordic44 knowledge graph, but only selected few.\n",
    "Furthermore, as described in [rule types](../../rule-types.md), often source graph are deep and one is required to perform multiple hops to acquire a specific information.\n",
    "Therefore, it is convenient to \"short path\", thus transform graph to be more performant, basically flattening graph structure to help us achieve simpler queries.\n",
    "\n",
    "You can see that this is exactly what we are doing in case of links between substations and terminals. We are greatly reducing the traversal path.\n",
    "\n",
    "To perform transformations described in the transformation rules, The actual knowledge graph transformation is achieved using method `domain2app_knowledge_graph` which will execute transformation rules one by one.\n",
    "To automatically commit new triples we wrap this method in `NeatGraphStore.set_graph()`. \n",
    "As you can see we are passing couple of arguments to this method, which are:\n",
    "- source knowledge graph\n",
    "- transformation rules\n",
    "- target knowledge graph (this to make sure triples are committed to the graph database as they are being created)\n",
    "- extra triples to be injected to the target knowledge graph (see INSTANCES sheet in the transformation rules Excel file)\n",
    "- instance of Cognite Client (to be able to fetch data from CDF RAW in case of `rawlookup` rules)\n",
    "- CDF RAW database name (to be able to fetch data from CDF RAW in case of `rawlookup` rules)"
   ]
  },
  {
   "cell_type": "code",
   "execution_count": 84,
   "metadata": {},
   "outputs": [],
   "source": [
    "solution_store.set_graph(source2solution_graph(source_store.get_graph(),\n",
    "                                               transformation_rules,\n",
    "                                               solution_store.get_graph(),\n",
    "                                               extra_triples = get_instances_as_triples(transformation_rules))\n",
    "        )"
   ]
  },
  {
   "attachments": {},
   "cell_type": "markdown",
   "metadata": {},
   "source": [
    "Let's now inspect graph `solution_store` and see breakdown of number of instances per class:"
   ]
  },
  {
   "cell_type": "code",
   "execution_count": 85,
   "metadata": {},
   "outputs": [
    {
     "name": "stdout",
     "output_type": "stream",
     "text": [
      "namespace                      | class name          \n",
      "----------------------------------------\n",
      "Terminal                       | 452                 \n",
      "Substation                     | 44                  \n",
      "SubGeographicalRegion          | 10                  \n",
      "GeographicalRegion             | 2                   \n",
      "RootCIMNode                    | 1                   \n"
     ]
    }
   ],
   "source": [
    "print(f\"{'namespace':30} | {'class name':20}\")\n",
    "print(40*\"-\")\n",
    "\n",
    "for res in list(solution_store.graph.query(\"SELECT ?class (count(?s) as ?instances ) WHERE { ?s a ?class . } group by ?class order by DESC(?instances)\")):\n",
    "    print(f\"{remove_namespace(res[0]):30} | {res[1]:20}\" )"
   ]
  },
  {
   "attachments": {},
   "cell_type": "markdown",
   "metadata": {},
   "source": [
    "As one can notice, with the transformation rules we have cherry picked classes existing or created new properties to suite out need.\n",
    "\n",
    "Let's continue and see how corresponding assets will look like in CDF. We will use same methods as one in Part 3 notebook.\n",
    "\n",
    "<!-- Let's create them using method `rdf2asset`. To this method we are passing following arguments:\n",
    "- target knowledge graph\n",
    "- transformation rules, which contain mapping of RDF classes and properties to CDF Assets and their properties\n",
    "- prefix to external id (useful if multiple people are working with the same CDF project to avoid conflicts in external ids)\n",
    "- external id of Orphanage root asset (this is used in case of RDF instances which are expected to have parent asset, but do not have it defined in the source knowledge graph, so we will assign them to this root asset)\n",
    "\n",
    "\n",
    " and later on categorize them to those that will be:\n",
    "- freshly created\n",
    "- updated\n",
    "- decommissioned (setting their end date, and labeling them as historic)\n",
    "- resurrected (stating date when they are reactivated and removing historic label) -->"
   ]
  },
  {
   "cell_type": "code",
   "execution_count": 86,
   "metadata": {},
   "outputs": [
    {
     "name": "stderr",
     "output_type": "stream",
     "text": [
      "ERROR:root:Error while loading instances of class <http://purl.org/cognite/tnt#Orphanage> into cache. Reason: 'instance'\n",
      "WARNING:root:Orphanage with external id orphanage-6673116778101699 not found in asset hierarchy!\n",
      "WARNING:root:Adding default orphanage with external id orphanage-6673116778101699\n"
     ]
    }
   ],
   "source": [
    "candidate_assets = rdf2assets(solution_store, transformation_rules)\n"
   ]
  },
  {
   "attachments": {},
   "cell_type": "markdown",
   "metadata": {},
   "source": [
    "We have corrupted Nordic44 knowledge graph to show you how `NEAT` handles missing properties or isolated nodes.\n",
    "\n",
    "In the source knowledge graph there are three \"problematic\" instances, which ended in the target knowledge graph:\n",
    "- An instance of GeographicalRegion which is missing relationship to its parent asset, specifically `RootCIMNode`\n",
    "- An instance of SubGeographicalRegion which is missing relationship to a `GeographicalRegion`, i.e. its parent asset\n",
    "- An instance of Terminal that is missing property that maps to CDF Asset name\n",
    "- An instance of Terminal that has alias property that maps to CDF Asset name\n",
    "\n",
    "NEAT manages these instances such that:\n",
    "- An instance of GeographicalRegion and SubGeographicalRegion which is missing relationship to its parent asset will be assigned to Orphanage root asset\n",
    "- An instance of Terminal that is missing property that maps to CDF Asset name will use its identifier with removed namespace as CDF Asset name\n",
    "- An instance of Terminal that has alias property that maps to CDF Asset name will use its alias property as CDF Asset name\n",
    "\n",
    "Let's confirm this by checking the corresponding assets:"
   ]
  },
  {
   "cell_type": "code",
   "execution_count": 87,
   "metadata": {},
   "outputs": [
    {
     "name": "stdout",
     "output_type": "stream",
     "text": [
      "External ID                          | Name                           | Parent External ID                   | Asset Type          \n",
      "------------------------------------------------------------------------------------------------------------------------------------\n",
      "lazarevac                            | LA                             | orphanage-6673116778101699           | GeographicalRegion  \n",
      "f17696b3-9aeb-11e5-91da-b8763fd99c5f | FI1 SGR                        | orphanage-6673116778101699           | SubGeographicalRegion\n",
      "2dd901a4-bdfb-11e5-94fa-c8f73332c8f4 | Alias Name                     | f1769682-9aeb-11e5-91da-b8763fd99c5f | Terminal            \n",
      "terminal-without-name-property       | terminal-without-name-property | f1769688-9aeb-11e5-91da-b8763fd99c5f | Terminal            \n"
     ]
    }
   ],
   "source": [
    "print(f\"{'External ID':36} | {'Name':30} | {'Parent External ID':36} | {'Asset Type':20}\")\n",
    "print(132*\"-\")\n",
    "\n",
    "for id, asset in candidate_assets.items():\n",
    "    if asset[\"parent_external_id\"] == \"orphanage-6673116778101699\" or asset[\"name\"] == \"terminal-without-name-property\" or asset[\"name\"] == \"Alias Name\":\n",
    "        \n",
    "        print(f\"{asset['external_id']:36} | {asset['name']:30} | {asset['parent_external_id']:36} | {asset['metadata']['type']:20}\")"
   ]
  },
  {
   "attachments": {},
   "cell_type": "markdown",
   "metadata": {},
   "source": [
    "Let's now categorize assets and see how many of them will be:\n",
    "- created\n",
    "- updated\n",
    "- decommissioned (setting their end date, and labeling them as historic)\n",
    "- resurrected (stating date when they are reactivated and removing historic label)\n",
    "\n",
    "We are passing cognite clinet, asset dictionary and dataset id to the method `categorize_assets` which will return a dictionary with categorized assets.\n",
    "If this is the case the returned dictionary should only have assets under category \"create\", since there are no assets in CDF:"
   ]
  },
  {
   "cell_type": "code",
   "execution_count": 88,
   "metadata": {},
   "outputs": [
    {
     "name": "stdout",
     "output_type": "stream",
     "text": [
      "Category create          has 510 assets\n",
      "Category update          has  0 assets\n",
      "Category resurrect       has  0 assets\n",
      "Category decommission    has  0 assets\n"
     ]
    }
   ],
   "source": [
    "categorized_assets = categorize_assets(client, \n",
    "                                       candidate_assets, \n",
    "                                       transformation_rules.metadata.data_set_id)\n",
    "\n",
    "\n",
    "for cat in categorized_assets:\n",
    "    print(f\"Category {cat:15} has {len(categorized_assets[cat]):2} assets\")\n"
   ]
  },
  {
   "attachments": {},
   "cell_type": "markdown",
   "metadata": {},
   "source": [
    "Before we upload assets, we need to create labels which we use to label asset and relationship types as well their status:"
   ]
  },
  {
   "cell_type": "code",
   "execution_count": 89,
   "metadata": {},
   "outputs": [],
   "source": [
    "upload_labels(client, transformation_rules)"
   ]
  },
  {
   "attachments": {},
   "cell_type": "markdown",
   "metadata": {},
   "source": [
    "Finally we can upload categorized assets to CDF:"
   ]
  },
  {
   "cell_type": "code",
   "execution_count": 90,
   "metadata": {},
   "outputs": [],
   "source": [
    "upload_assets(client, categorized_assets, batch_size=1000)"
   ]
  },
  {
   "attachments": {},
   "cell_type": "markdown",
   "metadata": {},
   "source": [
    "Let's now for sake of completeness check if two orphaned assets are added under Orphanage and that two terminals with missing and alias names have their names properly fixed:"
   ]
  },
  {
   "attachments": {},
   "cell_type": "markdown",
   "metadata": {},
   "source": [
    "Let's repeat process for relationships:\n",
    "\n",
    "\n",
    "<video src=\"../../videos/tutorial-4-asset-hierarchy.mp4\" controls>\n",
    "</video>\n"
   ]
  },
  {
   "cell_type": "code",
   "execution_count": 91,
   "metadata": {},
   "outputs": [
    {
     "name": "stdout",
     "output_type": "stream",
     "text": [
      "Category create          has 915 relationships\n",
      "Category resurrect       has  0 relationships\n",
      "Category decommission    has  0 relationships\n"
     ]
    }
   ],
   "source": [
    "candidate_relationships = rdf2relationships(solution_store, transformation_rules)\n",
    "\n",
    "\n",
    "categorized_relationships = categorize_relationships(client, \n",
    "                                                     candidate_relationships, \n",
    "                                                     transformation_rules.metadata.data_set_id)\n",
    "\n",
    "\n",
    "for cat in categorized_relationships:\n",
    "    print(f\"Category {cat:15} has {len(categorized_relationships[cat]):2} relationships\")"
   ]
  },
  {
   "cell_type": "code",
   "execution_count": 92,
   "metadata": {},
   "outputs": [],
   "source": [
    "upload_relationships(client, categorized_relationships, batch_size=1000)"
   ]
  }
 ],
 "metadata": {
  "kernelspec": {
   "display_name": "Python 3 (ipykernel)",
   "language": "python",
   "name": "python3"
  },
  "language_info": {
   "codemirror_mode": {
    "name": "ipython",
    "version": 3
   },
   "file_extension": ".py",
   "mimetype": "text/x-python",
   "name": "python",
   "nbconvert_exporter": "python",
   "pygments_lexer": "ipython3",
   "version": "3.11.3"
  },
  "nbreg": {
   "skip": true,
   "skip_reason": "Requires connection to CDF."
  },
  "vscode": {
   "interpreter": {
    "hash": "b041fa3ad426ccaee6879971bb0838085ce5b789fde017702a23f1fdae821f14"
   }
  }
 },
 "nbformat": 4,
 "nbformat_minor": 4
}
