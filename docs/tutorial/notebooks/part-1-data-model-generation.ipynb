{
 "cells": [
  {
   "attachments": {},
   "cell_type": "markdown",
   "metadata": {},
   "source": [
    "# Part 1: Neat Data Model - Transformation Rules\n",
    "\n",
    "[![Notebook](https://shields.io/badge/notebook-access-green?logo=jupyter&style=for-the-badge)](https://github.com/cognitedata/neat/blob/main/docs/tutorial/notebooks/part-1-data-model-generation.ipynb)\n",
    "\n",
    "* author: Nikola Vasiljevic, Anders Albert\n",
    "* date: 2023-10-23\n",
    "\n",
    "\n",
    "**Prerequisite**: Installed Python with `excel` dependency `pip install cognite-neat[excel]`\n",
    "\n",
    "**Content** This notebook represent Part 1 of NEAT Onboarding tutorial. In this notebook we will demonstrate how to export data model using NEAT.\n",
    "\n",
    "This part 1 of a series of tutorials focused on learning the core concepts of `neat` through using it as a package."
   ]
  },
  {
   "cell_type": "markdown",
   "metadata": {
    "jp-MarkdownHeadingCollapsed": true
   },
   "source": [
    "## Rules\n",
    "\n",
    "The *Rules* is a core concept of `neat`. It is how `neat` internally represent a data model with optional knowledge graph transformations from a source to a target (e.g., domain or solution) model. We will go into more detail for the *Rules* in a later tutorial, but for now it is sufficient to note that the *Rules* are exposed to the user of `neat` through a four tables in a spreadsheet. For more information about *Rules* check [this detail overview](../../transformation-rules.html). \n",
    "\n",
    "Data modeling flow in `neat` are visually presented in the figure below:\n",
    "\n",
    "![NEAT Data Modeling Flow](../../figs/data-modeling-flow.png)"
   ]
  },
  {
   "cell_type": "markdown",
   "metadata": {},
   "source": [
    "## Parsing Transformation Rules\n",
    "\n",
    "To get started, we use the built in example ` power_grid_model`, which we will import using `ExcelImporter`."
   ]
  },
  {
   "cell_type": "code",
   "execution_count": 1,
   "metadata": {},
   "outputs": [],
   "source": [
    "from cognite.neat.rules import importer\n",
    "from cognite.neat.rules.examples import power_grid_model\n",
    "\n",
    "%reload_ext autoreload\n",
    "%autoreload 2"
   ]
  },
  {
   "cell_type": "code",
   "execution_count": 2,
   "metadata": {},
   "outputs": [],
   "source": [
    "power_rules = importer.ExcelImporter(power_grid_model).to_rules()"
   ]
  },
  {
   "cell_type": "code",
   "execution_count": 3,
   "metadata": {},
   "outputs": [
    {
     "data": {
      "text/html": [
       "<div>\n",
       "<style scoped>\n",
       "    .dataframe tbody tr th:only-of-type {\n",
       "        vertical-align: middle;\n",
       "    }\n",
       "\n",
       "    .dataframe tbody tr th {\n",
       "        vertical-align: top;\n",
       "    }\n",
       "\n",
       "    .dataframe thead th {\n",
       "        text-align: right;\n",
       "    }\n",
       "</style>\n",
       "<table border=\"1\" class=\"dataframe\">\n",
       "  <thead>\n",
       "    <tr style=\"text-align: right;\">\n",
       "      <th></th>\n",
       "      <th>value</th>\n",
       "    </tr>\n",
       "  </thead>\n",
       "  <tbody>\n",
       "    <tr>\n",
       "      <th>prefix</th>\n",
       "      <td>power-grid</td>\n",
       "    </tr>\n",
       "    <tr>\n",
       "      <th>suffix</th>\n",
       "      <td>power_grid</td>\n",
       "    </tr>\n",
       "    <tr>\n",
       "      <th>namespace</th>\n",
       "      <td>http://purl.org/cognite/power-grid#</td>\n",
       "    </tr>\n",
       "    <tr>\n",
       "      <th>version</th>\n",
       "      <td>0.1.0</td>\n",
       "    </tr>\n",
       "    <tr>\n",
       "      <th>name</th>\n",
       "      <td>Power Grid Example Data Model</td>\n",
       "    </tr>\n",
       "    <tr>\n",
       "      <th>description</th>\n",
       "      <td>This is simplified power grid data model used ...</td>\n",
       "    </tr>\n",
       "    <tr>\n",
       "      <th>created</th>\n",
       "      <td>2022-09-29 00:00:00</td>\n",
       "    </tr>\n",
       "    <tr>\n",
       "      <th>updated</th>\n",
       "      <td>2023-12-06 14:22:14.649091</td>\n",
       "    </tr>\n",
       "    <tr>\n",
       "      <th>creator</th>\n",
       "      <td>[Nikola Vasiljevic, Anders Albert]</td>\n",
       "    </tr>\n",
       "    <tr>\n",
       "      <th>contributor</th>\n",
       "      <td>[Cognite]</td>\n",
       "    </tr>\n",
       "    <tr>\n",
       "      <th>rights</th>\n",
       "      <td>Free for non-commerical use</td>\n",
       "    </tr>\n",
       "    <tr>\n",
       "      <th>license</th>\n",
       "      <td>Proprietary License</td>\n",
       "    </tr>\n",
       "    <tr>\n",
       "      <th>source</th>\n",
       "      <td>None</td>\n",
       "    </tr>\n",
       "  </tbody>\n",
       "</table>\n",
       "</div>"
      ],
      "text/plain": [
       "Metadata(validators_to_skip=set(), prefix='power-grid', suffix='power_grid', namespace=Namespace('http://purl.org/cognite/power-grid#'), version='0.1.0', name='Power Grid Example Data Model', description='This is simplified power grid data model used in NEAT tutorial.', created=datetime.datetime(2022, 9, 29, 0, 0), updated=datetime.datetime(2023, 12, 6, 14, 22, 14, 649091), creator=['Nikola Vasiljevic', 'Anders Albert'], contributor=['Cognite'], rights='Free for non-commerical use', license='Proprietary License', source=None)"
      ]
     },
     "execution_count": 3,
     "metadata": {},
     "output_type": "execute_result"
    }
   ],
   "source": [
    "power_rules.metadata"
   ]
  },
  {
   "cell_type": "markdown",
   "metadata": {},
   "source": [
    "As we see above, the example is simply a excel file that we can parse to obtain the *Rules*.\n",
    "We can inspect the different sheets of the rules using the properties below"
   ]
  },
  {
   "cell_type": "code",
   "execution_count": 4,
   "metadata": {},
   "outputs": [
    {
     "data": {
      "text/html": [
       "<div>\n",
       "<style scoped>\n",
       "    .dataframe tbody tr th:only-of-type {\n",
       "        vertical-align: middle;\n",
       "    }\n",
       "\n",
       "    .dataframe tbody tr th {\n",
       "        vertical-align: top;\n",
       "    }\n",
       "\n",
       "    .dataframe thead th {\n",
       "        text-align: right;\n",
       "    }\n",
       "</style>\n",
       "<table border=\"1\" class=\"dataframe\">\n",
       "  <thead>\n",
       "    <tr style=\"text-align: right;\">\n",
       "      <th></th>\n",
       "      <th>value</th>\n",
       "    </tr>\n",
       "  </thead>\n",
       "  <tbody>\n",
       "    <tr>\n",
       "      <th>prefix</th>\n",
       "      <td>power-grid</td>\n",
       "    </tr>\n",
       "    <tr>\n",
       "      <th>suffix</th>\n",
       "      <td>power_grid</td>\n",
       "    </tr>\n",
       "    <tr>\n",
       "      <th>namespace</th>\n",
       "      <td>http://purl.org/cognite/power-grid#</td>\n",
       "    </tr>\n",
       "    <tr>\n",
       "      <th>version</th>\n",
       "      <td>0.1.0</td>\n",
       "    </tr>\n",
       "    <tr>\n",
       "      <th>name</th>\n",
       "      <td>Power Grid Example Data Model</td>\n",
       "    </tr>\n",
       "    <tr>\n",
       "      <th>description</th>\n",
       "      <td>This is simplified power grid data model used ...</td>\n",
       "    </tr>\n",
       "    <tr>\n",
       "      <th>created</th>\n",
       "      <td>2022-09-29 00:00:00</td>\n",
       "    </tr>\n",
       "    <tr>\n",
       "      <th>updated</th>\n",
       "      <td>2023-12-06 14:22:14.649091</td>\n",
       "    </tr>\n",
       "    <tr>\n",
       "      <th>creator</th>\n",
       "      <td>[Nikola Vasiljevic, Anders Albert]</td>\n",
       "    </tr>\n",
       "    <tr>\n",
       "      <th>contributor</th>\n",
       "      <td>[Cognite]</td>\n",
       "    </tr>\n",
       "    <tr>\n",
       "      <th>rights</th>\n",
       "      <td>Free for non-commerical use</td>\n",
       "    </tr>\n",
       "    <tr>\n",
       "      <th>license</th>\n",
       "      <td>Proprietary License</td>\n",
       "    </tr>\n",
       "    <tr>\n",
       "      <th>source</th>\n",
       "      <td>None</td>\n",
       "    </tr>\n",
       "  </tbody>\n",
       "</table>\n",
       "</div>"
      ],
      "text/plain": [
       "Metadata(validators_to_skip=set(), prefix='power-grid', suffix='power_grid', namespace=Namespace('http://purl.org/cognite/power-grid#'), version='0.1.0', name='Power Grid Example Data Model', description='This is simplified power grid data model used in NEAT tutorial.', created=datetime.datetime(2022, 9, 29, 0, 0), updated=datetime.datetime(2023, 12, 6, 14, 22, 14, 649091), creator=['Nikola Vasiljevic', 'Anders Albert'], contributor=['Cognite'], rights='Free for non-commerical use', license='Proprietary License', source=None)"
      ]
     },
     "execution_count": 4,
     "metadata": {},
     "output_type": "execute_result"
    }
   ],
   "source": [
    "power_rules.metadata"
   ]
  },
  {
   "cell_type": "code",
   "execution_count": 5,
   "metadata": {},
   "outputs": [
    {
     "data": {
      "text/html": [
       "<div>\n",
       "<style scoped>\n",
       "    .dataframe tbody tr th:only-of-type {\n",
       "        vertical-align: middle;\n",
       "    }\n",
       "\n",
       "    .dataframe tbody tr th {\n",
       "        vertical-align: top;\n",
       "    }\n",
       "\n",
       "    .dataframe thead th {\n",
       "        text-align: right;\n",
       "    }\n",
       "</style>\n",
       "<table border=\"1\" class=\"dataframe\">\n",
       "  <thead>\n",
       "    <tr style=\"text-align: right;\">\n",
       "      <th></th>\n",
       "      <th>description</th>\n",
       "      <th>cdf_resource_type</th>\n",
       "      <th>deprecated</th>\n",
       "      <th>class_id</th>\n",
       "      <th>class_name</th>\n",
       "      <th>parent_asset</th>\n",
       "    </tr>\n",
       "  </thead>\n",
       "  <tbody>\n",
       "    <tr>\n",
       "      <th>0</th>\n",
       "      <td>None</td>\n",
       "      <td>Asset</td>\n",
       "      <td>False</td>\n",
       "      <td>GeographicalRegion</td>\n",
       "      <td>GeographicalRegion</td>\n",
       "      <td>None</td>\n",
       "    </tr>\n",
       "    <tr>\n",
       "      <th>1</th>\n",
       "      <td>A subset of a geographical region of a power s...</td>\n",
       "      <td>Asset</td>\n",
       "      <td>False</td>\n",
       "      <td>SubGeographicalRegion</td>\n",
       "      <td>SubGeographicalRegion</td>\n",
       "      <td>GeographicalRegion</td>\n",
       "    </tr>\n",
       "    <tr>\n",
       "      <th>2</th>\n",
       "      <td>A substation is a part of an electrical genera...</td>\n",
       "      <td>Asset</td>\n",
       "      <td>False</td>\n",
       "      <td>Substation</td>\n",
       "      <td>Substation</td>\n",
       "      <td>SubGeographicalRegion</td>\n",
       "    </tr>\n",
       "    <tr>\n",
       "      <th>3</th>\n",
       "      <td>None</td>\n",
       "      <td>Asset</td>\n",
       "      <td>False</td>\n",
       "      <td>Terminal</td>\n",
       "      <td>Terminal</td>\n",
       "      <td>Substation</td>\n",
       "    </tr>\n",
       "  </tbody>\n",
       "</table>\n",
       "</div>"
      ],
      "text/plain": [
       "Classes(data={'GeographicalRegion': Class(validators_to_skip=set(), description=None, cdf_resource_type='Asset', deprecated=False, deprecation_date=None, replaced_by=None, source=None, source_entity_name=None, match_type=None, comment=None, class_id='GeographicalRegion', class_name='GeographicalRegion', parent_class=None, parent_asset=None, Dataset Id=nan, similarTo=nan, similarityScore=nan, equalTo=nan), 'SubGeographicalRegion': Class(validators_to_skip=set(), description='A subset of a geographical region of a power system network model.', cdf_resource_type='Asset', deprecated=False, deprecation_date=None, replaced_by=None, source=None, source_entity_name=None, match_type=None, comment=None, class_id='SubGeographicalRegion', class_name='SubGeographicalRegion', parent_class=None, parent_asset='GeographicalRegion', Dataset Id=nan, similarTo=nan, similarityScore=nan, equalTo=nan), 'Substation': Class(validators_to_skip=set(), description='A substation is a part of an electrical generation, transmission, and distribution system.', cdf_resource_type='Asset', deprecated=False, deprecation_date=None, replaced_by=None, source=None, source_entity_name=None, match_type=None, comment=None, class_id='Substation', class_name='Substation', parent_class=None, parent_asset='SubGeographicalRegion', Dataset Id=nan, similarTo=nan, similarityScore=nan, equalTo=nan), 'Terminal': Class(validators_to_skip=set(), description=None, cdf_resource_type='Asset', deprecated=False, deprecation_date=None, replaced_by=None, source=None, source_entity_name=None, match_type=None, comment=None, class_id='Terminal', class_name='Terminal', parent_class=None, parent_asset='Substation', Dataset Id=nan, similarTo=nan, similarityScore=nan, equalTo=nan)})"
      ]
     },
     "execution_count": 5,
     "metadata": {},
     "output_type": "execute_result"
    }
   ],
   "source": [
    "power_rules.classes"
   ]
  },
  {
   "cell_type": "code",
   "execution_count": 6,
   "metadata": {},
   "outputs": [
    {
     "data": {
      "text/html": [
       "<div>\n",
       "<style scoped>\n",
       "    .dataframe tbody tr th:only-of-type {\n",
       "        vertical-align: middle;\n",
       "    }\n",
       "\n",
       "    .dataframe tbody tr th {\n",
       "        vertical-align: top;\n",
       "    }\n",
       "\n",
       "    .dataframe thead th {\n",
       "        text-align: right;\n",
       "    }\n",
       "</style>\n",
       "<table border=\"1\" class=\"dataframe\">\n",
       "  <thead>\n",
       "    <tr style=\"text-align: right;\">\n",
       "      <th></th>\n",
       "      <th>description</th>\n",
       "      <th>cdf_resource_type</th>\n",
       "      <th>deprecated</th>\n",
       "      <th>class_id</th>\n",
       "      <th>property_id</th>\n",
       "      <th>property_name</th>\n",
       "      <th>expected_value_type</th>\n",
       "      <th>min_count</th>\n",
       "      <th>max_count</th>\n",
       "      <th>property_type</th>\n",
       "      <th>resource_type_property</th>\n",
       "      <th>source_type</th>\n",
       "      <th>target_type</th>\n",
       "      <th>label</th>\n",
       "      <th>rule_type</th>\n",
       "      <th>rule</th>\n",
       "      <th>skip_rule</th>\n",
       "    </tr>\n",
       "  </thead>\n",
       "  <tbody>\n",
       "    <tr>\n",
       "      <th>0</th>\n",
       "      <td>The name that identifies Greographical</td>\n",
       "      <td>[Asset]</td>\n",
       "      <td>False</td>\n",
       "      <td>GeographicalRegion</td>\n",
       "      <td>name</td>\n",
       "      <td>name</td>\n",
       "      <td>{'prefix': 'xsd', 'suffix': 'string', 'name': ...</td>\n",
       "      <td>1</td>\n",
       "      <td>1</td>\n",
       "      <td>DatatypeProperty</td>\n",
       "      <td>[name]</td>\n",
       "      <td>Asset</td>\n",
       "      <td>Asset</td>\n",
       "      <td>name</td>\n",
       "      <td>rdfpath</td>\n",
       "      <td>cim:GeographicalRegion(cim:IdentifiedObject.name)</td>\n",
       "      <td>False</td>\n",
       "    </tr>\n",
       "    <tr>\n",
       "      <th>1</th>\n",
       "      <td>The name that identifies SubGreographical</td>\n",
       "      <td>[Asset]</td>\n",
       "      <td>False</td>\n",
       "      <td>SubGeographicalRegion</td>\n",
       "      <td>name</td>\n",
       "      <td>name</td>\n",
       "      <td>{'prefix': 'xsd', 'suffix': 'string', 'name': ...</td>\n",
       "      <td>1</td>\n",
       "      <td>1</td>\n",
       "      <td>DatatypeProperty</td>\n",
       "      <td>[name]</td>\n",
       "      <td>Asset</td>\n",
       "      <td>Asset</td>\n",
       "      <td>name</td>\n",
       "      <td>rdfpath</td>\n",
       "      <td>cim:SubGeographicalRegion(cim:IdentifiedObject...</td>\n",
       "      <td>False</td>\n",
       "    </tr>\n",
       "    <tr>\n",
       "      <th>2</th>\n",
       "      <td>Region to which subgeographical region belongs to</td>\n",
       "      <td>[Asset, Relationship]</td>\n",
       "      <td>False</td>\n",
       "      <td>SubGeographicalRegion</td>\n",
       "      <td>region</td>\n",
       "      <td>region</td>\n",
       "      <td>{'prefix': 'power-grid', 'suffix': 'Geographic...</td>\n",
       "      <td>1</td>\n",
       "      <td>1</td>\n",
       "      <td>ObjectProperty</td>\n",
       "      <td>[metadata, parent_external_id]</td>\n",
       "      <td>Asset</td>\n",
       "      <td>Asset</td>\n",
       "      <td>belongsTo</td>\n",
       "      <td>rdfpath</td>\n",
       "      <td>cim:SubGeographicalRegion(cim:SubGeographicalR...</td>\n",
       "      <td>False</td>\n",
       "    </tr>\n",
       "    <tr>\n",
       "      <th>3</th>\n",
       "      <td>The name that identifies Substation</td>\n",
       "      <td>[Asset]</td>\n",
       "      <td>False</td>\n",
       "      <td>Substation</td>\n",
       "      <td>name</td>\n",
       "      <td>name</td>\n",
       "      <td>{'prefix': 'xsd', 'suffix': 'string', 'name': ...</td>\n",
       "      <td>1</td>\n",
       "      <td>1</td>\n",
       "      <td>DatatypeProperty</td>\n",
       "      <td>[name]</td>\n",
       "      <td>Asset</td>\n",
       "      <td>Asset</td>\n",
       "      <td>name</td>\n",
       "      <td>rdfpath</td>\n",
       "      <td>cim:Substation(cim:IdentifiedObject.name)</td>\n",
       "      <td>False</td>\n",
       "    </tr>\n",
       "    <tr>\n",
       "      <th>4</th>\n",
       "      <td>The subgeographical region containing the subs...</td>\n",
       "      <td>[Asset]</td>\n",
       "      <td>False</td>\n",
       "      <td>Substation</td>\n",
       "      <td>subGeographicalRegion</td>\n",
       "      <td>subGeographicalRegion</td>\n",
       "      <td>{'prefix': 'power-grid', 'suffix': 'SubGeograp...</td>\n",
       "      <td>1</td>\n",
       "      <td>1</td>\n",
       "      <td>ObjectProperty</td>\n",
       "      <td>[metadata, parent_external_id]</td>\n",
       "      <td>Asset</td>\n",
       "      <td>Asset</td>\n",
       "      <td>subGeographicalRegion</td>\n",
       "      <td>rdfpath</td>\n",
       "      <td>cim:Substation(cim:Substation.Region)</td>\n",
       "      <td>False</td>\n",
       "    </tr>\n",
       "    <tr>\n",
       "      <th>5</th>\n",
       "      <td>The name that identifies Terminal</td>\n",
       "      <td>[Asset]</td>\n",
       "      <td>False</td>\n",
       "      <td>Terminal</td>\n",
       "      <td>name</td>\n",
       "      <td>name</td>\n",
       "      <td>{'prefix': 'xsd', 'suffix': 'string', 'name': ...</td>\n",
       "      <td>1</td>\n",
       "      <td>1</td>\n",
       "      <td>DatatypeProperty</td>\n",
       "      <td>[name]</td>\n",
       "      <td>Asset</td>\n",
       "      <td>Asset</td>\n",
       "      <td>name</td>\n",
       "      <td>rdfpath</td>\n",
       "      <td>cim:Terminal(cim:IdentifiedObject.name)</td>\n",
       "      <td>False</td>\n",
       "    </tr>\n",
       "    <tr>\n",
       "      <th>6</th>\n",
       "      <td>The alternative name that identifies Substation</td>\n",
       "      <td>[Asset]</td>\n",
       "      <td>False</td>\n",
       "      <td>Terminal</td>\n",
       "      <td>aliasName</td>\n",
       "      <td>aliasName</td>\n",
       "      <td>{'prefix': 'xsd', 'suffix': 'string', 'name': ...</td>\n",
       "      <td>1</td>\n",
       "      <td>1</td>\n",
       "      <td>DatatypeProperty</td>\n",
       "      <td>[name]</td>\n",
       "      <td>Asset</td>\n",
       "      <td>Asset</td>\n",
       "      <td>aliasName</td>\n",
       "      <td>rdfpath</td>\n",
       "      <td>cim:Terminal(cim:IdentifiedObject.aliasName)</td>\n",
       "      <td>False</td>\n",
       "    </tr>\n",
       "    <tr>\n",
       "      <th>7</th>\n",
       "      <td>Substation to which terminal belongs to</td>\n",
       "      <td>[Asset, Relationship]</td>\n",
       "      <td>False</td>\n",
       "      <td>Terminal</td>\n",
       "      <td>substation</td>\n",
       "      <td>substation</td>\n",
       "      <td>{'prefix': 'power-grid', 'suffix': 'Substation...</td>\n",
       "      <td>1</td>\n",
       "      <td>1</td>\n",
       "      <td>ObjectProperty</td>\n",
       "      <td>[metadata, parent_external_id]</td>\n",
       "      <td>Asset</td>\n",
       "      <td>Asset</td>\n",
       "      <td>belongsTo</td>\n",
       "      <td>rdfpath</td>\n",
       "      <td>cim:Terminal-&gt;cim:ConnectivityNode-&gt;cim:Voltag...</td>\n",
       "      <td>False</td>\n",
       "    </tr>\n",
       "  </tbody>\n",
       "</table>\n",
       "</div>"
      ],
      "text/plain": [
       "Properties(data={'row 3': Property(validators_to_skip=set(), description='The name that identifies Greographical', cdf_resource_type=['Asset'], deprecated=False, deprecation_date=None, replaced_by=None, source=None, source_entity_name=None, match_type=None, comment=None, class_id='GeographicalRegion', property_id='name', property_name='name', expected_value_type=xsd:string, min_count=1, max_count=1, default=None, property_type=<EntityTypes.data_property: 'DatatypeProperty'>, resource_type_property=['name'], source_type='Asset', target_type='Asset', label='name', relationship_external_id_rule=None, rule_type=<TransformationRuleType.rdfpath: 'rdfpath'>, rule='cim:GeographicalRegion(cim:IdentifiedObject.name)', skip_rule=False, similarTo=nan, similarityScore=nan, equalTo=nan), 'row 4': Property(validators_to_skip=set(), description='The name that identifies SubGreographical', cdf_resource_type=['Asset'], deprecated=False, deprecation_date=None, replaced_by=None, source=None, source_entity_name=None, match_type=None, comment=None, class_id='SubGeographicalRegion', property_id='name', property_name='name', expected_value_type=xsd:string, min_count=1, max_count=1, default=None, property_type=<EntityTypes.data_property: 'DatatypeProperty'>, resource_type_property=['name'], source_type='Asset', target_type='Asset', label='name', relationship_external_id_rule=None, rule_type=<TransformationRuleType.rdfpath: 'rdfpath'>, rule='cim:SubGeographicalRegion(cim:IdentifiedObject.name)', skip_rule=False, similarTo=nan, similarityScore=nan, equalTo=nan), 'row 5': Property(validators_to_skip=set(), description='Region to which subgeographical region belongs to', cdf_resource_type=['Asset', 'Relationship'], deprecated=False, deprecation_date=None, replaced_by=None, source=None, source_entity_name=None, match_type=None, comment=None, class_id='SubGeographicalRegion', property_id='region', property_name='region', expected_value_type=power-grid:GeographicalRegion, min_count=1, max_count=1, default=None, property_type=<EntityTypes.object_property: 'ObjectProperty'>, resource_type_property=['metadata', 'parent_external_id'], source_type='Asset', target_type='Asset', label='belongsTo', relationship_external_id_rule=None, rule_type=<TransformationRuleType.rdfpath: 'rdfpath'>, rule='cim:SubGeographicalRegion(cim:SubGeographicalRegion.Region)', skip_rule=False, similarTo=nan, similarityScore=nan, equalTo=nan), 'row 6': Property(validators_to_skip=set(), description='The name that identifies Substation', cdf_resource_type=['Asset'], deprecated=False, deprecation_date=None, replaced_by=None, source=None, source_entity_name=None, match_type=None, comment=None, class_id='Substation', property_id='name', property_name='name', expected_value_type=xsd:string, min_count=1, max_count=1, default=None, property_type=<EntityTypes.data_property: 'DatatypeProperty'>, resource_type_property=['name'], source_type='Asset', target_type='Asset', label='name', relationship_external_id_rule=None, rule_type=<TransformationRuleType.rdfpath: 'rdfpath'>, rule='cim:Substation(cim:IdentifiedObject.name)', skip_rule=False, similarTo=nan, similarityScore=nan, equalTo=nan), 'row 7': Property(validators_to_skip=set(), description='The subgeographical region containing the substation', cdf_resource_type=['Asset'], deprecated=False, deprecation_date=None, replaced_by=None, source=None, source_entity_name=None, match_type=None, comment=None, class_id='Substation', property_id='subGeographicalRegion', property_name='subGeographicalRegion', expected_value_type=power-grid:SubGeographicalRegion, min_count=1, max_count=1, default=None, property_type=<EntityTypes.object_property: 'ObjectProperty'>, resource_type_property=['metadata', 'parent_external_id'], source_type='Asset', target_type='Asset', label='subGeographicalRegion', relationship_external_id_rule=None, rule_type=<TransformationRuleType.rdfpath: 'rdfpath'>, rule='cim:Substation(cim:Substation.Region)', skip_rule=False, similarTo=nan, similarityScore=nan, equalTo=nan), 'row 8': Property(validators_to_skip=set(), description='The name that identifies Terminal', cdf_resource_type=['Asset'], deprecated=False, deprecation_date=None, replaced_by=None, source=None, source_entity_name=None, match_type=None, comment=None, class_id='Terminal', property_id='name', property_name='name', expected_value_type=xsd:string, min_count=1, max_count=1, default=None, property_type=<EntityTypes.data_property: 'DatatypeProperty'>, resource_type_property=['name'], source_type='Asset', target_type='Asset', label='name', relationship_external_id_rule=None, rule_type=<TransformationRuleType.rdfpath: 'rdfpath'>, rule='cim:Terminal(cim:IdentifiedObject.name)', skip_rule=False, similarTo=nan, similarityScore=nan, equalTo=nan), 'row 9': Property(validators_to_skip=set(), description='The alternative name that identifies Substation', cdf_resource_type=['Asset'], deprecated=False, deprecation_date=None, replaced_by=None, source=None, source_entity_name=None, match_type=None, comment=None, class_id='Terminal', property_id='aliasName', property_name='aliasName', expected_value_type=xsd:string, min_count=1, max_count=1, default=None, property_type=<EntityTypes.data_property: 'DatatypeProperty'>, resource_type_property=['name'], source_type='Asset', target_type='Asset', label='aliasName', relationship_external_id_rule=None, rule_type=<TransformationRuleType.rdfpath: 'rdfpath'>, rule='cim:Terminal(cim:IdentifiedObject.aliasName)', skip_rule=False, similarTo=nan, similarityScore=nan, equalTo=nan), 'row 10': Property(validators_to_skip=set(), description='Substation to which terminal belongs to', cdf_resource_type=['Asset', 'Relationship'], deprecated=False, deprecation_date=None, replaced_by=None, source=None, source_entity_name=None, match_type=None, comment=None, class_id='Terminal', property_id='substation', property_name='substation', expected_value_type=power-grid:Substation, min_count=1, max_count=1, default=None, property_type=<EntityTypes.object_property: 'ObjectProperty'>, resource_type_property=['metadata', 'parent_external_id'], source_type='Asset', target_type='Asset', label='belongsTo', relationship_external_id_rule=None, rule_type=<TransformationRuleType.rdfpath: 'rdfpath'>, rule='cim:Terminal->cim:ConnectivityNode->cim:VoltageLevel->cim:Substation', skip_rule=False, similarTo=nan, similarityScore=nan, equalTo=nan)})"
      ]
     },
     "execution_count": 6,
     "metadata": {},
     "output_type": "execute_result"
    }
   ],
   "source": [
    "power_rules.properties"
   ]
  },
  {
   "cell_type": "markdown",
   "metadata": {
    "jp-MarkdownHeadingCollapsed": true
   },
   "source": [
    "### (Optional) Advanced: Create Your Own Transformation Rules\n",
    "\n",
    "Before proceeding download `Rule` template using [this link](https://drive.google.com/uc?export=download&id=1yJxK35IaKVpZJas60ojReCjh-Ppj9fKX). Unzip file and open template:\n",
    "\n",
    "\n",
    "<video src=\"../../videos/tutorial-1-download-rules-template.mp4\" controls>\n",
    "</video>\n",
    "\n",
    "Let's now fill in the template sheet, going sheet by sheet in the following order\n",
    "- `Metadata` : where we will provide metadata about data model itself\n",
    "- `Classes` : where we will defined classes\n",
    "- `Properties`: where we will define properties for each of defined classes\n",
    "\n",
    "\n",
    "<video src=\"../../videos/tutorial-1-defining-data-model.mp4\" controls>\n",
    "</video>\n"
   ]
  },
  {
   "cell_type": "markdown",
   "metadata": {},
   "source": [
    "Once we are done with filling in the template sheet, lets parse it as we we did with the `power_grid_model` shown above.\n"
   ]
  },
  {
   "cell_type": "markdown",
   "metadata": {},
   "source": [
    "## Export Data Model\n",
    "\n",
    "After the *Rules* have been imported, `neat` supports multiple export formats. In this tutorial, we will show `GraphQL` and `OWL`\n",
    "\n",
    "The *Rules* exporters are available in the `exporter` module of the `neat.rules` package"
   ]
  },
  {
   "cell_type": "code",
   "execution_count": 7,
   "metadata": {},
   "outputs": [],
   "source": [
    "from cognite.neat.rules import exporter\n",
    "from pathlib import Path\n",
    "import tempfile"
   ]
  },
  {
   "cell_type": "markdown",
   "metadata": {},
   "source": [
    "### GraphQL Schema Exporter"
   ]
  },
  {
   "cell_type": "code",
   "execution_count": 8,
   "metadata": {},
   "outputs": [],
   "source": [
    "file = tempfile.NamedTemporaryFile(suffix=\".graphql\")\n",
    "\n",
    "exporter.GraphQLSchemaExporter(power_rules)._export_to_file(Path(file.name))"
   ]
  },
  {
   "attachments": {},
   "cell_type": "markdown",
   "metadata": {},
   "source": [
    "GraphQL Schema is accessible under `.data` attribute. If we now print its content we can see how each of the objects (i.e. classes) are defined and represented in GraphQL:"
   ]
  },
  {
   "cell_type": "code",
   "execution_count": 9,
   "metadata": {},
   "outputs": [
    {
     "name": "stdout",
     "output_type": "stream",
     "text": [
      "type GeographicalRegion {\n",
      "  name: String!\n",
      "}\n",
      "\n",
      "type SubGeographicalRegion {\n",
      "  name: String!\n",
      "  region: GeographicalRegion\n",
      "}\n",
      "\n",
      "type Substation {\n",
      "  name: String!\n",
      "  subGeographicalRegion: SubGeographicalRegion\n",
      "}\n",
      "\n",
      "type Terminal {\n",
      "  name: String!\n",
      "  aliasName: String!\n",
      "  substation: Substation\n",
      "}\n"
     ]
    }
   ],
   "source": [
    "print(open(file.name).read())"
   ]
  },
  {
   "attachments": {},
   "cell_type": "markdown",
   "metadata": {},
   "source": [
    "The derived GraphQL schema now can be uploaded to CDF and resolved as a data model by the Cognite Data Modeling service:\n",
    "\n",
    "<video src=\"../../videos/tutorial-1-upload-gql-schema-to-cdf.mp4\" controls>\n",
    "</video>\n"
   ]
  },
  {
   "cell_type": "markdown",
   "metadata": {},
   "source": [
    "If you want to store schema as a file you need to pass file path to method `export`:\n",
    "\n",
    "```\n",
    "power_graphql.export(filepath=Path(\"schema_name.graphql\"))\n",
    "```"
   ]
  },
  {
   "cell_type": "markdown",
   "metadata": {},
   "source": [
    "### OWL and SCHACL Object Constraint"
   ]
  },
  {
   "cell_type": "markdown",
   "metadata": {},
   "source": [
    "Let's now convert Transformation Rules to OWL based semantic ontology and SHACL object constraints:"
   ]
  },
  {
   "cell_type": "code",
   "execution_count": 10,
   "metadata": {},
   "outputs": [],
   "source": [
    "file_owl = tempfile.NamedTemporaryFile(suffix=\".ttl\")\n",
    "file_shacl = tempfile.NamedTemporaryFile(suffix=\".ttl\")\n",
    "\n",
    "exporter.OWLExporter(power_rules)._export_to_file(Path(file_owl.name))\n",
    "exporter.SHACLExporter(power_rules)._export_to_file(Path(file_shacl.name))"
   ]
  },
  {
   "cell_type": "markdown",
   "metadata": {},
   "source": [
    "Ontology is stored in RDF Graph accessible, to actually see its content we serialize it and print it out:"
   ]
  },
  {
   "cell_type": "code",
   "execution_count": 11,
   "metadata": {
    "tags": [
     "raise-exception",
     "skip-execution"
    ]
   },
   "outputs": [
    {
     "name": "stdout",
     "output_type": "stream",
     "text": [
      "@prefix dct: <http://purl.org/dc/terms/> .\n",
      "@prefix owl: <http://www.w3.org/2002/07/owl#> .\n",
      "@prefix power-grid: <http://purl.org/cognite/power-grid#> .\n",
      "@prefix rdf: <http://www.w3.org/1999/02/22-rdf-syntax-ns#> .\n",
      "@prefix rdfs: <http://www.w3.org/2000/01/rdf-schema#> .\n",
      "@prefix xsd: <http://www.w3.org/2001/XMLSchema#> .\n",
      "\n",
      "power-grid: a owl:Ontology ;\n",
      "    rdfs:label \"Power Grid Example Data Model\" ;\n",
      "    dct:contributor \"Cognite\" ;\n",
      "    dct:created \"2022-09-29T00:00:00\"^^xsd:dateTime ;\n",
      "    dct:creator \"Anders Albert\",\n",
      "        \"Nikola Vasiljevic\" ;\n",
      "    dct:description \"This is simplified power grid data model used in NEAT tutorial.\" ;\n",
      "    dct:hasVersion \"0.1.0\" ;\n",
      "    dct:modified \"2023-12-06T14:22:14.649091\"^^xsd:dateTime ;\n",
      "    dct:rights \"Free for non-commerical use\" ;\n",
      "    dct:title \"Power Grid Example Data Model\" ;\n",
      "    owl:versionInfo \"0.1.0\" .\n",
      "\n",
      "power-grid:aliasName a owl:DatatypeProperty ;\n",
      "    rdfs:label \"aliasName\" ;\n",
      "    rdfs:comment \"The alternative name that identifies Substation\" ;\n",
      "    rdfs:domain power-grid:Terminal ;\n",
      "    rdfs:range xsd:string .\n",
      "\n",
      "power-grid:name a owl:DatatypeProperty ;\n",
      "    rdfs:label \"name\" ;\n",
      "    rdfs:comment \"\"\"The name that identifies SubGreographical\n",
      "The name that identifies Substation\n",
      "The name that identifies Terminal\n",
      "The name that identifies Greographical\"\"\" ;\n",
      "    rdfs:domain [ a owl:Class ;\n",
      "            owl:unionOf ( power-grid:Terminal power-grid:Substation power-grid:GeographicalRegion power-grid:SubGeographicalRegion ) ] ;\n",
      "    rdfs:range xsd:string .\n",
      "\n",
      "power-grid:region a owl:ObjectProperty ;\n",
      "    rdfs:label \"region\" ;\n",
      "    rdfs:comment \"Region to which subgeographical region belongs to\" ;\n",
      "    rdfs:domain power-grid:SubGeographicalRegion ;\n",
      "    rdfs:range power-grid:GeographicalRegion .\n",
      "\n",
      "power-grid:subGeographicalRegion a owl:ObjectProperty ;\n",
      "    rdfs:label \"subGeographicalRegion\" ;\n",
      "    rdfs:comment \"The subgeographical region containing the substation\" ;\n",
      "    rdfs:domain power-grid:Substation ;\n",
      "    rdfs:range power-grid:SubGeographicalRegion .\n",
      "\n",
      "power-grid:substation a owl:ObjectProperty ;\n",
      "    rdfs:label \"substation\" ;\n",
      "    rdfs:comment \"Substation to which terminal belongs to\" ;\n",
      "    rdfs:domain power-grid:Terminal ;\n",
      "    rdfs:range power-grid:Substation .\n",
      "\n",
      "power-grid:GeographicalRegion a owl:Class ;\n",
      "    rdfs:label \"GeographicalRegion\" ;\n",
      "    rdfs:comment \"None\" .\n",
      "\n",
      "power-grid:SubGeographicalRegion a owl:Class ;\n",
      "    rdfs:label \"SubGeographicalRegion\" ;\n",
      "    rdfs:comment \"A subset of a geographical region of a power system network model.\" .\n",
      "\n",
      "power-grid:Substation a owl:Class ;\n",
      "    rdfs:label \"Substation\" ;\n",
      "    rdfs:comment \"A substation is a part of an electrical generation, transmission, and distribution system.\" .\n",
      "\n",
      "power-grid:Terminal a owl:Class ;\n",
      "    rdfs:label \"Terminal\" ;\n",
      "    rdfs:comment \"None\" .\n",
      "\n",
      "\n"
     ]
    }
   ],
   "source": [
    "print(Path(file_owl.name).read_text())"
   ]
  },
  {
   "cell_type": "markdown",
   "metadata": {},
   "source": [
    "In the same why we access shape constraints:"
   ]
  },
  {
   "cell_type": "code",
   "execution_count": 12,
   "metadata": {
    "tags": [
     "raise-exception",
     "skip-execution"
    ]
   },
   "outputs": [
    {
     "name": "stdout",
     "output_type": "stream",
     "text": [
      "@prefix power-grid: <http://purl.org/cognite/power-grid#> .\n",
      "@prefix sh: <http://www.w3.org/ns/shacl#> .\n",
      "@prefix xsd: <http://www.w3.org/2001/XMLSchema#> .\n",
      "\n",
      "power-grid:TerminalShape a sh:NodeShape ;\n",
      "    sh:property [ sh:datatype xsd:string ;\n",
      "            sh:maxCount 1 ;\n",
      "            sh:minCount 1 ;\n",
      "            sh:nodeKind sh:Literal ;\n",
      "            sh:path power-grid:name ],\n",
      "        [ sh:maxCount 1 ;\n",
      "            sh:minCount 1 ;\n",
      "            sh:node power-grid:SubstationShape ;\n",
      "            sh:nodeKind sh:IRI ;\n",
      "            sh:path power-grid:substation ],\n",
      "        [ sh:datatype xsd:string ;\n",
      "            sh:maxCount 1 ;\n",
      "            sh:minCount 1 ;\n",
      "            sh:nodeKind sh:Literal ;\n",
      "            sh:path power-grid:aliasName ] ;\n",
      "    sh:targetClass power-grid:Terminal .\n",
      "\n",
      "power-grid:GeographicalRegionShape a sh:NodeShape ;\n",
      "    sh:property [ sh:datatype xsd:string ;\n",
      "            sh:maxCount 1 ;\n",
      "            sh:minCount 1 ;\n",
      "            sh:nodeKind sh:Literal ;\n",
      "            sh:path power-grid:name ] ;\n",
      "    sh:targetClass power-grid:GeographicalRegion .\n",
      "\n",
      "power-grid:SubGeographicalRegionShape a sh:NodeShape ;\n",
      "    sh:property [ sh:maxCount 1 ;\n",
      "            sh:minCount 1 ;\n",
      "            sh:node power-grid:GeographicalRegionShape ;\n",
      "            sh:nodeKind sh:IRI ;\n",
      "            sh:path power-grid:region ],\n",
      "        [ sh:datatype xsd:string ;\n",
      "            sh:maxCount 1 ;\n",
      "            sh:minCount 1 ;\n",
      "            sh:nodeKind sh:Literal ;\n",
      "            sh:path power-grid:name ] ;\n",
      "    sh:targetClass power-grid:SubGeographicalRegion .\n",
      "\n",
      "power-grid:SubstationShape a sh:NodeShape ;\n",
      "    sh:property [ sh:maxCount 1 ;\n",
      "            sh:minCount 1 ;\n",
      "            sh:node power-grid:SubGeographicalRegionShape ;\n",
      "            sh:nodeKind sh:IRI ;\n",
      "            sh:path power-grid:subGeographicalRegion ],\n",
      "        [ sh:datatype xsd:string ;\n",
      "            sh:maxCount 1 ;\n",
      "            sh:minCount 1 ;\n",
      "            sh:nodeKind sh:Literal ;\n",
      "            sh:path power-grid:name ] ;\n",
      "    sh:targetClass power-grid:Substation .\n",
      "\n",
      "\n"
     ]
    }
   ],
   "source": [
    "print(Path(file_shacl.name).read_text())"
   ]
  },
  {
   "cell_type": "code",
   "execution_count": null,
   "metadata": {},
   "outputs": [],
   "source": []
  }
 ],
 "metadata": {
  "celltoolbar": "Edit Metadata",
  "kernelspec": {
   "display_name": "Python 3 (ipykernel)",
   "language": "python",
   "name": "python3"
  },
  "language_info": {
   "codemirror_mode": {
    "name": "ipython",
    "version": 3
   },
   "file_extension": ".py",
   "mimetype": "text/x-python",
   "name": "python",
   "nbconvert_exporter": "python",
   "pygments_lexer": "ipython3",
   "version": "3.11.3"
  },
  "nbreg": {
   "skip": true,
   "skip_reason": "Too much insignificant variability in output"
  }
 },
 "nbformat": 4,
 "nbformat_minor": 4
}
