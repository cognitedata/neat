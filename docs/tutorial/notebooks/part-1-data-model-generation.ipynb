{
  "cells": [
    {
      "attachments": {},
      "cell_type": "markdown",
      "metadata": {},
      "source": [
        "# Part 1: Data Model Generation\n",
        "\n",
        "[![Notebook](https://shields.io/badge/notebook-access-green?logo=jupyter&style=for-the-badge)](https://github.com/cognitedata/neat/blob/main/docs/tutorial/notebooks/part-1-data-model-generation.ipynb)\n",
        "\n",
        "* author: Nikola Vasiljevic\n",
        "* date: 2023-05-31\n",
        "\n",
        "This notebook represent Part 1 of NEAT Onboarding tutorial. In this notebook we will demonstrate how to generate data model using NEAT.\n",
        "All you need is basic knowledge of Excel and Python, and very good knowledge of domain you are trying to model.\n",
        "\n",
        "For simplicity we will define a simple power grid data model.\n",
        "\n",
        "Before proceeding download `Transformation Rule` template using [this link](https://drive.google.com/uc?export=download&id=1yJxK35IaKVpZJas60ojReCjh-Ppj9fKX). Unzip file and open template:\n",
        "\n",
        "\n",
        "<video src=\"../../videos/tutorial-1-download-rules-template.mp4\" controls>\n",
        "</video>\n",
        "\n",
        "\n",
        "Let's import all necessary libraries. For simplicity we also provide already prefilled rules sheet from examples named `power_grid_model`:"
      ]
    },
    {
      "cell_type": "code",
      "execution_count": 1,
      "metadata": {},
      "outputs": [],
      "source": [
        "from pathlib import Path\n",
        "\n",
        "from cognite.neat.core.rules import load_rules_from_excel_file\n",
        "from cognite.neat.core.rules.exporter.rules2graphql import rules2graphql_schema\n",
        "\n",
        "from cognite.neat.examples import power_grid_model"
      ]
    },
    {
      "attachments": {},
      "cell_type": "markdown",
      "metadata": {},
      "source": [
        "Let's now fill in the template sheet, going sheet by sheet in the following order\n",
        "- `Metadata` : where we will provide metadata about data model itself\n",
        "- `Classes` : where we will defined classes\n",
        "- `Properties`: where we will define properties for each of defined classes\n",
        "\n",
        "\n",
        "<video src=\"../../videos/tutorial-1-defining-data-model.mp4\" controls>\n",
        "</video>\n",
        "\n",
        "\n",
        "For more information about `Transformation Rules` check [this detail overview](../../transformation-rules.md). \n",
        "\n",
        "\n",
        "Once we are done with filling in the template sheet, let's load it and transform it to GraphQL schema which represents our data model.\n",
        "If you have filled in your own transformation rules excel file replace `power_grid_model` with path to your file:"
      ]
    },
    {
      "cell_type": "code",
      "execution_count": 2,
      "metadata": {},
      "outputs": [],
      "source": [
        "your_path_to_excel_file = Path(\"insert_path_here\")\n",
        "transformation_rules = load_rules_from_excel_file(power_grid_model)\n",
        "data_model_gql = rules2graphql_schema(transformation_rules)"
      ]
    },
    {
      "attachments": {},
      "cell_type": "markdown",
      "metadata": {},
      "source": [
        "If we now print derive GraphQL schema we can see how each of the objects (i.e. classes) are defined and represented in GraphQL:"
      ]
    },
    {
      "cell_type": "code",
      "execution_count": 3,
      "metadata": {},
      "outputs": [
        {
          "name": "stdout",
          "output_type": "stream",
          "text": [
            "type GeographicalRegion {\n",
            "  name: String!\n",
            "}\n",
            "\n",
            "type SubGeographicalRegion {\n",
            "  name: String!\n",
            "  region: GeographicalRegion\n",
            "}\n",
            "\n",
            "type Substation {\n",
            "  name: String!\n",
            "  subGeographicalRegion: SubGeographicalRegion\n",
            "}\n",
            "\n",
            "type Terminal {\n",
            "  name: String!\n",
            "  aliasName: String!\n",
            "  substation: Substation\n",
            "}\n"
          ]
        }
      ],
      "source": [
        "print(data_model_gql)"
      ]
    },
    {
      "attachments": {},
      "cell_type": "markdown",
      "metadata": {},
      "source": [
        "Derive GraphQL schema now can be uploaded to CDF and resolved as Flexible Data Model:\n",
        "\n",
        "<video src=\"../../videos/tutorial-1-upload-gql-schema-to-cdf.mp4\" controls>\n",
        "</video>\n"
      ]
    }
  ],
  "metadata": {
    "celltoolbar": "Edit Metadata",
    "kernelspec": {
      "display_name": "Python 3 (ipykernel)",
      "language": "python",
      "name": "python3"
    },
    "language_info": {
      "codemirror_mode": {
        "name": "ipython",
        "version": 3
      },
      "file_extension": ".py",
      "mimetype": "text/x-python",
      "name": "python",
      "nbconvert_exporter": "python",
      "pygments_lexer": "ipython3",
      "version": "3.11.3"
    }
  },
  "nbformat": 4,
  "nbformat_minor": 2
}
