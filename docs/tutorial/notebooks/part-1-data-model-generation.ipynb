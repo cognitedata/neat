{
 "cells": [
  {
   "attachments": {},
   "cell_type": "markdown",
   "metadata": {},
   "source": [
    "# Part 1: Export Data Model to CDF\n",
    "\n",
    "[![Notebook](https://shields.io/badge/notebook-access-green?logo=jupyter&style=for-the-badge)](https://github.com/cognitedata/neat/blob/main/docs/tutorial/notebooks/part-1-data-model-generation.ipynb)\n",
    "\n",
    "* author: Nikola Vasiljevic\n",
    "* date: 2023-05-31\n",
    "\n",
    "\n",
    "**Prerequisite**: Installed Python with `excel` dependency `pip install cognite-neat[excel]`\n",
    "\n",
    "**Content** This notebook represent Part 1 of NEAT Onboarding tutorial. In this notebook we will demonstrate how to export data model using NEAT.\n",
    "\n",
    "This part 1 of a series of tutorials focused on learning the core concepts of `neat` through using it as a package."
   ]
  },
  {
   "cell_type": "markdown",
   "metadata": {},
   "source": [
    "## Transformation Rules\n",
    "\n",
    "The *Transformation Rules* is a core concept of `neat`. It is how `neat` internally represent a data model with the transformations from a source model. We will go into more detail for the *Transformation Rules* in a later tutorial, but for now it is sufficient to note that the *Transformation Rules* are exposed to the user of `neat` through a four tables in a spreadsheet. For more information about *Transformation Rules* check [this detail overview](../../transformation-rules.html). "
   ]
  },
  {
   "cell_type": "markdown",
   "metadata": {},
   "source": [
    "## Parsing Transformation Rules\n",
    "\n",
    "To get started, we use the built in example ` power_grid_model`."
   ]
  },
  {
   "cell_type": "code",
   "execution_count": 1,
   "metadata": {},
   "outputs": [],
   "source": [
    "from cognite.neat import rules\n",
    "from cognite.neat.rules.examples import power_grid_model"
   ]
  },
  {
   "cell_type": "code",
   "execution_count": 2,
   "metadata": {},
   "outputs": [
    {
     "data": {
      "text/plain": [
       "(pathlib.WindowsPath, '.xlsx')"
      ]
     },
     "execution_count": 2,
     "metadata": {},
     "output_type": "execute_result"
    }
   ],
   "source": [
    "type(power_grid_model), power_grid_model.suffix"
   ]
  },
  {
   "cell_type": "code",
   "execution_count": 3,
   "metadata": {},
   "outputs": [
    {
     "data": {
      "text/html": [
       "<div>\n",
       "<style scoped>\n",
       "    .dataframe tbody tr th:only-of-type {\n",
       "        vertical-align: middle;\n",
       "    }\n",
       "\n",
       "    .dataframe tbody tr th {\n",
       "        vertical-align: top;\n",
       "    }\n",
       "\n",
       "    .dataframe thead th {\n",
       "        text-align: right;\n",
       "    }\n",
       "</style>\n",
       "<table border=\"1\" class=\"dataframe\">\n",
       "  <thead>\n",
       "    <tr style=\"text-align: right;\">\n",
       "      <th></th>\n",
       "      <th>value</th>\n",
       "    </tr>\n",
       "  </thead>\n",
       "  <tbody>\n",
       "    <tr>\n",
       "      <th>prefix</th>\n",
       "      <td>power-grid</td>\n",
       "    </tr>\n",
       "    <tr>\n",
       "      <th>cdf_space_name</th>\n",
       "      <td>playground</td>\n",
       "    </tr>\n",
       "    <tr>\n",
       "      <th>namespace</th>\n",
       "      <td>http://purl.org/cognite/power-grid#</td>\n",
       "    </tr>\n",
       "    <tr>\n",
       "      <th>data_model_name</th>\n",
       "      <td>power_grid</td>\n",
       "    </tr>\n",
       "    <tr>\n",
       "      <th>version</th>\n",
       "      <td>0_1_0</td>\n",
       "    </tr>\n",
       "    <tr>\n",
       "      <th>is_current_version</th>\n",
       "      <td>True</td>\n",
       "    </tr>\n",
       "    <tr>\n",
       "      <th>created</th>\n",
       "      <td>2022-09-29 00:00:00</td>\n",
       "    </tr>\n",
       "    <tr>\n",
       "      <th>updated</th>\n",
       "      <td>2023-10-07 05:24:44.364695</td>\n",
       "    </tr>\n",
       "    <tr>\n",
       "      <th>title</th>\n",
       "      <td>Power Grid Example Data Model</td>\n",
       "    </tr>\n",
       "    <tr>\n",
       "      <th>description</th>\n",
       "      <td>This is simplified power grid data model used ...</td>\n",
       "    </tr>\n",
       "    <tr>\n",
       "      <th>creator</th>\n",
       "      <td>Nikola Vasiljevic, Anders Albert</td>\n",
       "    </tr>\n",
       "    <tr>\n",
       "      <th>contributor</th>\n",
       "      <td>None</td>\n",
       "    </tr>\n",
       "    <tr>\n",
       "      <th>rights</th>\n",
       "      <td>Free for non-commerical use</td>\n",
       "    </tr>\n",
       "    <tr>\n",
       "      <th>externalIdPrefix</th>\n",
       "      <td></td>\n",
       "    </tr>\n",
       "    <tr>\n",
       "      <th>data_set_id</th>\n",
       "      <td>2626756768281823</td>\n",
       "    </tr>\n",
       "    <tr>\n",
       "      <th>source</th>\n",
       "      <td>C:\\Users\\AndersAlbert\\Projects\\internal\\neat\\c...</td>\n",
       "    </tr>\n",
       "    <tr>\n",
       "      <th>dms_compliant</th>\n",
       "      <td>True</td>\n",
       "    </tr>\n",
       "    <tr>\n",
       "      <th>class_count</th>\n",
       "      <td>4</td>\n",
       "    </tr>\n",
       "    <tr>\n",
       "      <th>property_count</th>\n",
       "      <td>8</td>\n",
       "    </tr>\n",
       "    <tr>\n",
       "      <th>instance_count</th>\n",
       "      <td>0</td>\n",
       "    </tr>\n",
       "  </tbody>\n",
       "</table>\n",
       "</div>"
      ],
      "text/plain": [
       "TransformationRules(metadata=Metadata(prefix='power-grid', cdf_space_name='playground', namespace=Namespace('http://purl.org/cognite/power-grid#'), data_model_name='power_grid', version='0_1_0', is_current_version=True, created=datetime.datetime(2022, 9, 29, 0, 0), updated=datetime.datetime(2023, 10, 7, 5, 24, 44, 364695), title='Power Grid Example Data Model', description='This is simplified power grid data model used in NEAT tutorial.', creator=['Nikola Vasiljevic', 'Anders Albert'], contributor=None, rights='Free for non-commerical use', externalIdPrefix='', data_set_id=2626756768281823, source=WindowsPath('C:/Users/AndersAlbert/Projects/internal/neat/cognite/neat/rules/examples/power-grid-example.xlsx'), dms_compliant=True), classes={'GeographicalRegion': Class(description=None, cdf_resource_type='Asset', deprecated=False, deprecation_date=None, replaced_by=None, source=None, source_entity_name=None, match_type=None, comment=None, class_id='GeographicalRegion', class_name='GeographicalRegion', parent_class=None, parent_asset=None, Dataset Id=nan, similarTo=nan, similarityScore=nan, equalTo=nan), 'SubGeographicalRegion': Class(description='A subset of a geographical region of a power system network model.', cdf_resource_type='Asset', deprecated=False, deprecation_date=None, replaced_by=None, source=None, source_entity_name=None, match_type=None, comment=None, class_id='SubGeographicalRegion', class_name='SubGeographicalRegion', parent_class=None, parent_asset='GeographicalRegion', Dataset Id=nan, similarTo=nan, similarityScore=nan, equalTo=nan), 'Substation': Class(description='A substation is a part of an electrical generation, transmission, and distribution system.', cdf_resource_type='Asset', deprecated=False, deprecation_date=None, replaced_by=None, source=None, source_entity_name=None, match_type=None, comment=None, class_id='Substation', class_name='Substation', parent_class=None, parent_asset='SubGeographicalRegion', Dataset Id=nan, similarTo=nan, similarityScore=nan, equalTo=nan), 'Terminal': Class(description=None, cdf_resource_type='Asset', deprecated=False, deprecation_date=None, replaced_by=None, source=None, source_entity_name=None, match_type=None, comment=None, class_id='Terminal', class_name='Terminal', parent_class=None, parent_asset='Substation', Dataset Id=nan, similarTo=nan, similarityScore=nan, equalTo=nan)}, properties={'row 3': Property(description='The name that identifies Greographical', cdf_resource_type=['Asset'], deprecated=False, deprecation_date=None, replaced_by=None, source=None, source_entity_name=None, match_type=None, comment=None, class_id='GeographicalRegion', property_id='name', property_name='name', expected_value_type='string', min_count=1, max_count=1, default=None, property_type='DatatypeProperty', resource_type_property=['name'], source_type='Asset', target_type='Asset', label='name', relationship_external_id_rule=None, rule_type=<RuleType.rdfpath: 'rdfpath'>, rule='cim:GeographicalRegion(cim:IdentifiedObject.name)', skip_rule=False, similarTo=nan, similarityScore=nan, equalTo=nan), 'row 4': Property(description='The name that identifies SubGreographical', cdf_resource_type=['Asset'], deprecated=False, deprecation_date=None, replaced_by=None, source=None, source_entity_name=None, match_type=None, comment=None, class_id='SubGeographicalRegion', property_id='name', property_name='name', expected_value_type='string', min_count=1, max_count=1, default=None, property_type='DatatypeProperty', resource_type_property=['name'], source_type='Asset', target_type='Asset', label='name', relationship_external_id_rule=None, rule_type=<RuleType.rdfpath: 'rdfpath'>, rule='cim:SubGeographicalRegion(cim:IdentifiedObject.name)', skip_rule=False, similarTo=nan, similarityScore=nan, equalTo=nan), 'row 5': Property(description='Region to which subgeographical region belongs to', cdf_resource_type=['Asset', 'Relationship'], deprecated=False, deprecation_date=None, replaced_by=None, source=None, source_entity_name=None, match_type=None, comment=None, class_id='SubGeographicalRegion', property_id='region', property_name='region', expected_value_type='GeographicalRegion', min_count=1, max_count=1, default=None, property_type='ObjectProperty', resource_type_property=['metadata', 'parent_external_id'], source_type='Asset', target_type='Asset', label='belongsTo', relationship_external_id_rule=None, rule_type=<RuleType.rdfpath: 'rdfpath'>, rule='cim:SubGeographicalRegion(cim:SubGeographicalRegion.Region)', skip_rule=False, similarTo=nan, similarityScore=nan, equalTo=nan), 'row 6': Property(description='The name that identifies Substation', cdf_resource_type=['Asset'], deprecated=False, deprecation_date=None, replaced_by=None, source=None, source_entity_name=None, match_type=None, comment=None, class_id='Substation', property_id='name', property_name='name', expected_value_type='string', min_count=1, max_count=1, default=None, property_type='DatatypeProperty', resource_type_property=['name'], source_type='Asset', target_type='Asset', label='name', relationship_external_id_rule=None, rule_type=<RuleType.rdfpath: 'rdfpath'>, rule='cim:Substation(cim:IdentifiedObject.name)', skip_rule=False, similarTo=nan, similarityScore=nan, equalTo=nan), 'row 7': Property(description='The subgeographical region containing the substation', cdf_resource_type=['Asset'], deprecated=False, deprecation_date=None, replaced_by=None, source=None, source_entity_name=None, match_type=None, comment=None, class_id='Substation', property_id='subGeographicalRegion', property_name='subGeographicalRegion', expected_value_type='SubGeographicalRegion', min_count=1, max_count=1, default=None, property_type='ObjectProperty', resource_type_property=['metadata', 'parent_external_id'], source_type='Asset', target_type='Asset', label='subGeographicalRegion', relationship_external_id_rule=None, rule_type=<RuleType.rdfpath: 'rdfpath'>, rule='cim:Substation(cim:Substation.Region)', skip_rule=False, similarTo=nan, similarityScore=nan, equalTo=nan), 'row 8': Property(description='The name that identifies Terminal', cdf_resource_type=['Asset'], deprecated=False, deprecation_date=None, replaced_by=None, source=None, source_entity_name=None, match_type=None, comment=None, class_id='Terminal', property_id='name', property_name='name', expected_value_type='string', min_count=1, max_count=1, default=None, property_type='DatatypeProperty', resource_type_property=['name'], source_type='Asset', target_type='Asset', label='name', relationship_external_id_rule=None, rule_type=<RuleType.rdfpath: 'rdfpath'>, rule='cim:Terminal(cim:IdentifiedObject.name)', skip_rule=False, similarTo=nan, similarityScore=nan, equalTo=nan), 'row 9': Property(description='The alternative name that identifies Substation', cdf_resource_type=['Asset'], deprecated=False, deprecation_date=None, replaced_by=None, source=None, source_entity_name=None, match_type=None, comment=None, class_id='Terminal', property_id='aliasName', property_name='aliasName', expected_value_type='string', min_count=1, max_count=1, default=None, property_type='DatatypeProperty', resource_type_property=['name'], source_type='Asset', target_type='Asset', label='aliasName', relationship_external_id_rule=None, rule_type=<RuleType.rdfpath: 'rdfpath'>, rule='cim:Terminal(cim:IdentifiedObject.aliasName)', skip_rule=False, similarTo=nan, similarityScore=nan, equalTo=nan), 'row 10': Property(description='Substation to which terminal belongs to', cdf_resource_type=['Asset', 'Relationship'], deprecated=False, deprecation_date=None, replaced_by=None, source=None, source_entity_name=None, match_type=None, comment=None, class_id='Terminal', property_id='substation', property_name='substation', expected_value_type='Substation', min_count=1, max_count=1, default=None, property_type='ObjectProperty', resource_type_property=['metadata', 'parent_external_id'], source_type='Asset', target_type='Asset', label='belongsTo', relationship_external_id_rule=None, rule_type=<RuleType.rdfpath: 'rdfpath'>, rule='cim:Terminal->cim:ConnectivityNode->cim:VoltageLevel->cim:Substation', skip_rule=False, similarTo=nan, similarityScore=nan, equalTo=nan)}, prefixes={'rdf': Namespace('http://www.w3.org/1999/02/22-rdf-syntax-ns#'), 'rdfs': Namespace('http://www.w3.org/2000/01/rdf-schema#'), 'dct': Namespace('http://purl.org/dc/terms/'), 'cim': Namespace('http://iec.ch/TC57/2013/CIM-schema-cim16#'), 'icim': Namespace('http://iec.ch/TC57/2013/CIM-schema-cim16-info#'), 'entsoe': Namespace('http://entsoe.eu/CIM/SchemaExtension/3/1#'), 'entsoe2': Namespace('http://entsoe.eu/CIM/SchemaExtension/3/2#'), 'md': Namespace('http://iec.ch/TC57/61970-552/ModelDescription/1#'), 'pti': Namespace('http://www.pti-us.com/PTI_CIM-schema-cim16#'), 'nordic44': Namespace('http://purl.org/nordic44#'), 'power-grid': Namespace('http://purl.org/cognite/power-grid#')}, instances=[])"
      ]
     },
     "execution_count": 3,
     "metadata": {},
     "output_type": "execute_result"
    }
   ],
   "source": [
    "power = rules.parser.parse_rules_from_excel_file(power_grid_model)\n",
    "power"
   ]
  },
  {
   "cell_type": "markdown",
   "metadata": {},
   "source": [
    "As we see above, the example is simply a excel file that we can parse to obtain the *Transformation Rules*.\n",
    "We can inspect the different sheets of the rules using the properties below"
   ]
  },
  {
   "cell_type": "code",
   "execution_count": 4,
   "metadata": {},
   "outputs": [
    {
     "data": {
      "text/plain": [
       "Metadata(prefix='power-grid', cdf_space_name='playground', namespace=Namespace('http://purl.org/cognite/power-grid#'), data_model_name='power_grid', version='0_1_0', is_current_version=True, created=datetime.datetime(2022, 9, 29, 0, 0), updated=datetime.datetime(2023, 10, 7, 5, 24, 44, 364695), title='Power Grid Example Data Model', description='This is simplified power grid data model used in NEAT tutorial.', creator=['Nikola Vasiljevic', 'Anders Albert'], contributor=None, rights='Free for non-commerical use', externalIdPrefix='', data_set_id=2626756768281823, source=WindowsPath('C:/Users/AndersAlbert/Projects/internal/neat/cognite/neat/rules/examples/power-grid-example.xlsx'), dms_compliant=True)"
      ]
     },
     "execution_count": 4,
     "metadata": {},
     "output_type": "execute_result"
    }
   ],
   "source": [
    "power.metadata"
   ]
  },
  {
   "cell_type": "code",
   "execution_count": 8,
   "metadata": {},
   "outputs": [
    {
     "data": {
      "text/plain": [
       "{'GeographicalRegion': Class(description=None, cdf_resource_type='Asset', deprecated=False, deprecation_date=None, replaced_by=None, source=None, source_entity_name=None, match_type=None, comment=None, class_id='GeographicalRegion', class_name='GeographicalRegion', parent_class=None, parent_asset=None, Dataset Id=nan, similarTo=nan, similarityScore=nan, equalTo=nan),\n",
       " 'SubGeographicalRegion': Class(description='A subset of a geographical region of a power system network model.', cdf_resource_type='Asset', deprecated=False, deprecation_date=None, replaced_by=None, source=None, source_entity_name=None, match_type=None, comment=None, class_id='SubGeographicalRegion', class_name='SubGeographicalRegion', parent_class=None, parent_asset='GeographicalRegion', Dataset Id=nan, similarTo=nan, similarityScore=nan, equalTo=nan),\n",
       " 'Substation': Class(description='A substation is a part of an electrical generation, transmission, and distribution system.', cdf_resource_type='Asset', deprecated=False, deprecation_date=None, replaced_by=None, source=None, source_entity_name=None, match_type=None, comment=None, class_id='Substation', class_name='Substation', parent_class=None, parent_asset='SubGeographicalRegion', Dataset Id=nan, similarTo=nan, similarityScore=nan, equalTo=nan),\n",
       " 'Terminal': Class(description=None, cdf_resource_type='Asset', deprecated=False, deprecation_date=None, replaced_by=None, source=None, source_entity_name=None, match_type=None, comment=None, class_id='Terminal', class_name='Terminal', parent_class=None, parent_asset='Substation', Dataset Id=nan, similarTo=nan, similarityScore=nan, equalTo=nan)}"
      ]
     },
     "execution_count": 8,
     "metadata": {},
     "output_type": "execute_result"
    }
   ],
   "source": [
    "power.classes"
   ]
  },
  {
   "cell_type": "code",
   "execution_count": 6,
   "metadata": {},
   "outputs": [
    {
     "data": {
      "text/plain": [
       "{'row 3': Property(description='The name that identifies Greographical', cdf_resource_type=['Asset'], deprecated=False, deprecation_date=None, replaced_by=None, source=None, source_entity_name=None, match_type=None, comment=None, class_id='GeographicalRegion', property_id='name', property_name='name', expected_value_type='string', min_count=1, max_count=1, default=None, property_type='DatatypeProperty', resource_type_property=['name'], source_type='Asset', target_type='Asset', label='name', relationship_external_id_rule=None, rule_type=<RuleType.rdfpath: 'rdfpath'>, rule='cim:GeographicalRegion(cim:IdentifiedObject.name)', skip_rule=False, similarTo=nan, similarityScore=nan, equalTo=nan),\n",
       " 'row 4': Property(description='The name that identifies SubGreographical', cdf_resource_type=['Asset'], deprecated=False, deprecation_date=None, replaced_by=None, source=None, source_entity_name=None, match_type=None, comment=None, class_id='SubGeographicalRegion', property_id='name', property_name='name', expected_value_type='string', min_count=1, max_count=1, default=None, property_type='DatatypeProperty', resource_type_property=['name'], source_type='Asset', target_type='Asset', label='name', relationship_external_id_rule=None, rule_type=<RuleType.rdfpath: 'rdfpath'>, rule='cim:SubGeographicalRegion(cim:IdentifiedObject.name)', skip_rule=False, similarTo=nan, similarityScore=nan, equalTo=nan),\n",
       " 'row 5': Property(description='Region to which subgeographical region belongs to', cdf_resource_type=['Asset', 'Relationship'], deprecated=False, deprecation_date=None, replaced_by=None, source=None, source_entity_name=None, match_type=None, comment=None, class_id='SubGeographicalRegion', property_id='region', property_name='region', expected_value_type='GeographicalRegion', min_count=1, max_count=1, default=None, property_type='ObjectProperty', resource_type_property=['metadata', 'parent_external_id'], source_type='Asset', target_type='Asset', label='belongsTo', relationship_external_id_rule=None, rule_type=<RuleType.rdfpath: 'rdfpath'>, rule='cim:SubGeographicalRegion(cim:SubGeographicalRegion.Region)', skip_rule=False, similarTo=nan, similarityScore=nan, equalTo=nan),\n",
       " 'row 6': Property(description='The name that identifies Substation', cdf_resource_type=['Asset'], deprecated=False, deprecation_date=None, replaced_by=None, source=None, source_entity_name=None, match_type=None, comment=None, class_id='Substation', property_id='name', property_name='name', expected_value_type='string', min_count=1, max_count=1, default=None, property_type='DatatypeProperty', resource_type_property=['name'], source_type='Asset', target_type='Asset', label='name', relationship_external_id_rule=None, rule_type=<RuleType.rdfpath: 'rdfpath'>, rule='cim:Substation(cim:IdentifiedObject.name)', skip_rule=False, similarTo=nan, similarityScore=nan, equalTo=nan),\n",
       " 'row 7': Property(description='The subgeographical region containing the substation', cdf_resource_type=['Asset'], deprecated=False, deprecation_date=None, replaced_by=None, source=None, source_entity_name=None, match_type=None, comment=None, class_id='Substation', property_id='subGeographicalRegion', property_name='subGeographicalRegion', expected_value_type='SubGeographicalRegion', min_count=1, max_count=1, default=None, property_type='ObjectProperty', resource_type_property=['metadata', 'parent_external_id'], source_type='Asset', target_type='Asset', label='subGeographicalRegion', relationship_external_id_rule=None, rule_type=<RuleType.rdfpath: 'rdfpath'>, rule='cim:Substation(cim:Substation.Region)', skip_rule=False, similarTo=nan, similarityScore=nan, equalTo=nan),\n",
       " 'row 8': Property(description='The name that identifies Terminal', cdf_resource_type=['Asset'], deprecated=False, deprecation_date=None, replaced_by=None, source=None, source_entity_name=None, match_type=None, comment=None, class_id='Terminal', property_id='name', property_name='name', expected_value_type='string', min_count=1, max_count=1, default=None, property_type='DatatypeProperty', resource_type_property=['name'], source_type='Asset', target_type='Asset', label='name', relationship_external_id_rule=None, rule_type=<RuleType.rdfpath: 'rdfpath'>, rule='cim:Terminal(cim:IdentifiedObject.name)', skip_rule=False, similarTo=nan, similarityScore=nan, equalTo=nan),\n",
       " 'row 9': Property(description='The alternative name that identifies Substation', cdf_resource_type=['Asset'], deprecated=False, deprecation_date=None, replaced_by=None, source=None, source_entity_name=None, match_type=None, comment=None, class_id='Terminal', property_id='aliasName', property_name='aliasName', expected_value_type='string', min_count=1, max_count=1, default=None, property_type='DatatypeProperty', resource_type_property=['name'], source_type='Asset', target_type='Asset', label='aliasName', relationship_external_id_rule=None, rule_type=<RuleType.rdfpath: 'rdfpath'>, rule='cim:Terminal(cim:IdentifiedObject.aliasName)', skip_rule=False, similarTo=nan, similarityScore=nan, equalTo=nan),\n",
       " 'row 10': Property(description='Substation to which terminal belongs to', cdf_resource_type=['Asset', 'Relationship'], deprecated=False, deprecation_date=None, replaced_by=None, source=None, source_entity_name=None, match_type=None, comment=None, class_id='Terminal', property_id='substation', property_name='substation', expected_value_type='Substation', min_count=1, max_count=1, default=None, property_type='ObjectProperty', resource_type_property=['metadata', 'parent_external_id'], source_type='Asset', target_type='Asset', label='belongsTo', relationship_external_id_rule=None, rule_type=<RuleType.rdfpath: 'rdfpath'>, rule='cim:Terminal->cim:ConnectivityNode->cim:VoltageLevel->cim:Substation', skip_rule=False, similarTo=nan, similarityScore=nan, equalTo=nan)}"
      ]
     },
     "execution_count": 6,
     "metadata": {},
     "output_type": "execute_result"
    }
   ],
   "source": [
    "power.properties"
   ]
  },
  {
   "cell_type": "markdown",
   "metadata": {},
   "source": [
    "### (Optional - Advanced) Create Your Own Transformation Rules\n",
    "\n",
    "Before proceeding download `Transformation Rule` template using [this link](https://drive.google.com/uc?export=download&id=1yJxK35IaKVpZJas60ojReCjh-Ppj9fKX). Unzip file and open template:\n",
    "\n",
    "\n",
    "<video src=\"../../videos/tutorial-1-download-rules-template.mp4\" controls>\n",
    "</video>\n",
    "\n",
    "Let's now fill in the template sheet, going sheet by sheet in the following order\n",
    "- `Metadata` : where we will provide metadata about data model itself\n",
    "- `Classes` : where we will defined classes\n",
    "- `Properties`: where we will define properties for each of defined classes\n",
    "\n",
    "\n",
    "<video src=\"../../videos/tutorial-1-defining-data-model.mp4\" controls>\n",
    "</video>\n"
   ]
  },
  {
   "cell_type": "markdown",
   "metadata": {},
   "source": [
    "Once we are done with filling in the template sheet, lets parse it as we we did with the `power_grid_model` shown above.\n"
   ]
  },
  {
   "cell_type": "markdown",
   "metadata": {},
   "source": [
    "## Export "
   ]
  },
  {
   "cell_type": "code",
   "execution_count": 2,
   "metadata": {},
   "outputs": [],
   "source": [
    "from cognite.neat import rules"
   ]
  },
  {
   "cell_type": "code",
   "execution_count": null,
   "metadata": {},
   "outputs": [],
   "source": []
  },
  {
   "cell_type": "code",
   "execution_count": null,
   "metadata": {},
   "outputs": [],
   "source": [
    "\n",
    "\n",
    "Let's import all necessary libraries. For simplicity we also provide already prefilled rules sheet from examples named `power_grid_model`:"
   ]
  },
  {
   "cell_type": "code",
   "execution_count": null,
   "metadata": {},
   "outputs": [],
   "source": []
  },
  {
   "cell_type": "code",
   "execution_count": null,
   "metadata": {},
   "outputs": [],
   "source": []
  },
  {
   "attachments": {},
   "cell_type": "markdown",
   "metadata": {},
   "source": [
    ".\n",
    "If you have filled in your own transformation rules excel file replace `power_grid_model` with path to your file:"
   ]
  },
  {
   "cell_type": "markdown",
   "metadata": {},
   "source": [
    "\n"
   ]
  },
  {
   "cell_type": "code",
   "execution_count": 2,
   "metadata": {},
   "outputs": [],
   "source": [
    "# transformation_rules = parse_rules_from_excel_file(Path(\"your_path_to_excel_file\"))\n",
    "transformation_rules = parse_rules_from_excel_file(power_grid_model)\n",
    "\n",
    "\n",
    "data_model_gql = GraphQLSchema.from_rules(transformation_rules=transformation_rules, verbose=True)"
   ]
  },
  {
   "attachments": {},
   "cell_type": "markdown",
   "metadata": {},
   "source": [
    "If we now print derive GraphQL schema we can see how each of the objects (i.e. classes) are defined and represented in GraphQL:"
   ]
  },
  {
   "cell_type": "code",
   "execution_count": 3,
   "metadata": {},
   "outputs": [
    {
     "name": "stdout",
     "output_type": "stream",
     "text": [
      "type GeographicalRegion {\n",
      "  \"\"\"\n",
      "  The name that identifies Greographical\n",
      "  @name name\n",
      "  \"\"\"\n",
      "  name: String!\n",
      "}\n",
      "\n",
      "\"\"\"\n",
      "A subset of a geographical region of a power system network model.\n",
      "@name SubGeographicalRegion\n",
      "\"\"\"\n",
      "type SubGeographicalRegion {\n",
      "  \"\"\"\n",
      "  The name that identifies SubGreographical\n",
      "  @name name\n",
      "  \"\"\"\n",
      "  name: String!\n",
      "  \"\"\"\n",
      "  Region to which subgeographical region belongs to\n",
      "  @name region\n",
      "  \"\"\"\n",
      "  region: GeographicalRegion\n",
      "}\n",
      "\n",
      "\"\"\"\n",
      "A substation is a part of an electrical generation, transmission, and distribution system.\n",
      "@name Substation\n",
      "\"\"\"\n",
      "type Substation {\n",
      "  \"\"\"\n",
      "  The name that identifies Substation\n",
      "  @name name\n",
      "  \"\"\"\n",
      "  name: String!\n",
      "  \"\"\"\n",
      "  The subgeographical region containing the substation\n",
      "  @name subGeographicalRegion\n",
      "  \"\"\"\n",
      "  subGeographicalRegion: SubGeographicalRegion\n",
      "}\n",
      "\n",
      "type Terminal {\n",
      "  \"\"\"\n",
      "  The name that identifies Terminal\n",
      "  @name name\n",
      "  \"\"\"\n",
      "  name: String!\n",
      "  \"\"\"\n",
      "  The alternative name that identifies Substation\n",
      "  @name aliasName\n",
      "  \"\"\"\n",
      "  aliasName: String!\n",
      "  \"\"\"\n",
      "  Substation to which terminal belongs to\n",
      "  @name substation\n",
      "  \"\"\"\n",
      "  substation: Substation\n",
      "}\n"
     ]
    }
   ],
   "source": [
    "print(data_model_gql.schema)"
   ]
  },
  {
   "attachments": {},
   "cell_type": "markdown",
   "metadata": {},
   "source": [
    "Derive GraphQL schema now can be uploaded to CDF and resolved as Flexible Data Model:\n",
    "\n",
    "<video src=\"../../videos/tutorial-1-upload-gql-schema-to-cdf.mp4\" controls>\n",
    "</video>\n"
   ]
  },
  {
   "cell_type": "markdown",
   "metadata": {},
   "source": [
    "Let's now convert Transformation Rules to OWL based semantic ontology and SHACL object constraints:"
   ]
  },
  {
   "cell_type": "code",
   "execution_count": 4,
   "metadata": {},
   "outputs": [],
   "source": [
    "with warnings.catch_warnings(record=True) as validation_warnings:\n",
    "    ontology = Ontology.from_rules(transformation_rules=transformation_rules)"
   ]
  },
  {
   "cell_type": "markdown",
   "metadata": {},
   "source": [
    "Ontology is stored in RDF Graph accessible through `.ontology` , where to actually see its content we serialize it and print it out:"
   ]
  },
  {
   "cell_type": "code",
   "execution_count": 5,
   "metadata": {
    "tags": [
     "raise-exception",
     "skip-execution"
    ]
   },
   "outputs": [
    {
     "name": "stdout",
     "output_type": "stream",
     "text": [
      "@prefix dct: <http://purl.org/dc/terms/> .\n",
      "@prefix owl: <http://www.w3.org/2002/07/owl#> .\n",
      "@prefix power-grid: <http://purl.org/cognite/power-grid#> .\n",
      "@prefix rdf: <http://www.w3.org/1999/02/22-rdf-syntax-ns#> .\n",
      "@prefix rdfs: <http://www.w3.org/2000/01/rdf-schema#> .\n",
      "@prefix sh: <http://www.w3.org/ns/shacl#> .\n",
      "@prefix xsd: <http://www.w3.org/2001/XMLSchema#> .\n",
      "\n",
      "power-grid: a owl:Ontology ;\n",
      "    rdfs:label \"Power Grid Example Data Model\" ;\n",
      "    dct:created \"2022-09-29T00:00:00\"^^xsd:dateTime ;\n",
      "    dct:creator \"Anders Albert\",\n",
      "        \"Nikola Vasiljevic\" ;\n",
      "    dct:description \"This is simplified power grid data model used in NEAT tutorial.\" ;\n",
      "    dct:hasVersion \"0_1_0\" ;\n",
      "    dct:modified \"2023-08-15T08:25:08.712363\"^^xsd:dateTime ;\n",
      "    dct:rights \"Free for non-commerical use\" ;\n",
      "    dct:title \"Power Grid Example Data Model\" ;\n",
      "    owl:versionInfo \"0_1_0\" .\n",
      "\n",
      "power-grid:TerminalShape a sh:NodeShape ;\n",
      "    sh:property [ sh:datatype xsd:string ;\n",
      "            sh:maxCount 1 ;\n",
      "            sh:minCount 1 ;\n",
      "            sh:nodeKind sh:Literal ;\n",
      "            sh:path power-grid:aliasName ],\n",
      "        [ sh:maxCount 1 ;\n",
      "            sh:minCount 1 ;\n",
      "            sh:node power-grid:SubstationShape ;\n",
      "            sh:nodeKind sh:IRI ;\n",
      "            sh:path power-grid:substation ],\n",
      "        [ sh:datatype xsd:string ;\n",
      "            sh:maxCount 1 ;\n",
      "            sh:minCount 1 ;\n",
      "            sh:nodeKind sh:Literal ;\n",
      "            sh:path power-grid:name ] ;\n",
      "    sh:targetClass power-grid:Terminal .\n",
      "\n",
      "power-grid:GeographicalRegionShape a sh:NodeShape ;\n",
      "    sh:property [ sh:datatype xsd:string ;\n",
      "            sh:maxCount 1 ;\n",
      "            sh:minCount 1 ;\n",
      "            sh:nodeKind sh:Literal ;\n",
      "            sh:path power-grid:name ] ;\n",
      "    sh:targetClass power-grid:GeographicalRegion .\n",
      "\n",
      "power-grid:SubGeographicalRegionShape a sh:NodeShape ;\n",
      "    sh:property [ sh:datatype xsd:string ;\n",
      "            sh:maxCount 1 ;\n",
      "            sh:minCount 1 ;\n",
      "            sh:nodeKind sh:Literal ;\n",
      "            sh:path power-grid:name ],\n",
      "        [ sh:maxCount 1 ;\n",
      "            sh:minCount 1 ;\n",
      "            sh:node power-grid:GeographicalRegionShape ;\n",
      "            sh:nodeKind sh:IRI ;\n",
      "            sh:path power-grid:region ] ;\n",
      "    sh:targetClass power-grid:SubGeographicalRegion .\n",
      "\n",
      "power-grid:SubstationShape a sh:NodeShape ;\n",
      "    sh:property [ sh:datatype xsd:string ;\n",
      "            sh:maxCount 1 ;\n",
      "            sh:minCount 1 ;\n",
      "            sh:nodeKind sh:Literal ;\n",
      "            sh:path power-grid:name ],\n",
      "        [ sh:maxCount 1 ;\n",
      "            sh:minCount 1 ;\n",
      "            sh:node power-grid:SubGeographicalRegionShape ;\n",
      "            sh:nodeKind sh:IRI ;\n",
      "            sh:path power-grid:subGeographicalRegion ] ;\n",
      "    sh:targetClass power-grid:Substation .\n",
      "\n",
      "power-grid:aliasName a owl:DatatypeProperty ;\n",
      "    rdfs:label \"aliasName\" ;\n",
      "    rdfs:comment \"The alternative name that identifies Substation\" ;\n",
      "    rdfs:domain power-grid:Terminal ;\n",
      "    rdfs:range xsd:string .\n",
      "\n",
      "power-grid:region a owl:ObjectProperty ;\n",
      "    rdfs:label \"region\" ;\n",
      "    rdfs:comment \"Region to which subgeographical region belongs to\" ;\n",
      "    rdfs:domain power-grid:SubGeographicalRegion ;\n",
      "    rdfs:range power-grid:GeographicalRegion .\n",
      "\n",
      "power-grid:subGeographicalRegion a owl:ObjectProperty ;\n",
      "    rdfs:label \"subGeographicalRegion\" ;\n",
      "    rdfs:comment \"The subgeographical region containing the substation\" ;\n",
      "    rdfs:domain power-grid:Substation ;\n",
      "    rdfs:range power-grid:SubGeographicalRegion .\n",
      "\n",
      "power-grid:substation a owl:ObjectProperty ;\n",
      "    rdfs:label \"substation\" ;\n",
      "    rdfs:comment \"Substation to which terminal belongs to\" ;\n",
      "    rdfs:domain power-grid:Terminal ;\n",
      "    rdfs:range power-grid:Substation .\n",
      "\n",
      "power-grid:GeographicalRegion a owl:Class ;\n",
      "    rdfs:label \"GeographicalRegion\" ;\n",
      "    rdfs:comment \"None\" .\n",
      "\n",
      "power-grid:SubGeographicalRegion a owl:Class ;\n",
      "    rdfs:label \"SubGeographicalRegion\" ;\n",
      "    rdfs:comment \"A subset of a geographical region of a power system network model.\" .\n",
      "\n",
      "power-grid:Substation a owl:Class ;\n",
      "    rdfs:label \"Substation\" ;\n",
      "    rdfs:comment \"A substation is a part of an electrical generation, transmission, and distribution system.\" .\n",
      "\n",
      "power-grid:Terminal a owl:Class ;\n",
      "    rdfs:label \"Terminal\" ;\n",
      "    rdfs:comment \"None\" .\n",
      "\n",
      "power-grid:name a owl:DatatypeProperty ;\n",
      "    rdfs:label \"name\" ;\n",
      "    rdfs:comment \"\"\"The name that identifies Greographical\n",
      "The name that identifies SubGreographical\n",
      "The name that identifies Terminal\n",
      "The name that identifies Substation\"\"\" ;\n",
      "    rdfs:domain [ a owl:Class ;\n",
      "            owl:unionOf ( power-grid:Substation power-grid:GeographicalRegion power-grid:SubGeographicalRegion power-grid:Terminal ) ] ;\n",
      "    rdfs:range xsd:string .\n",
      "\n",
      "\n"
     ]
    }
   ],
   "source": [
    "print(ontology.semantic_data_model)"
   ]
  },
  {
   "cell_type": "markdown",
   "metadata": {},
   "source": [
    "In the same why we access shape constraints:"
   ]
  },
  {
   "cell_type": "code",
   "execution_count": 6,
   "metadata": {
    "tags": [
     "raise-exception",
     "skip-execution"
    ]
   },
   "outputs": [
    {
     "name": "stdout",
     "output_type": "stream",
     "text": [
      "@prefix power-grid: <http://purl.org/cognite/power-grid#> .\n",
      "@prefix sh: <http://www.w3.org/ns/shacl#> .\n",
      "@prefix xsd: <http://www.w3.org/2001/XMLSchema#> .\n",
      "\n",
      "power-grid:TerminalShape a sh:NodeShape ;\n",
      "    sh:property [ sh:datatype xsd:string ;\n",
      "            sh:maxCount 1 ;\n",
      "            sh:minCount 1 ;\n",
      "            sh:nodeKind sh:Literal ;\n",
      "            sh:path power-grid:aliasName ],\n",
      "        [ sh:maxCount 1 ;\n",
      "            sh:minCount 1 ;\n",
      "            sh:node power-grid:SubstationShape ;\n",
      "            sh:nodeKind sh:IRI ;\n",
      "            sh:path power-grid:substation ],\n",
      "        [ sh:datatype xsd:string ;\n",
      "            sh:maxCount 1 ;\n",
      "            sh:minCount 1 ;\n",
      "            sh:nodeKind sh:Literal ;\n",
      "            sh:path power-grid:name ] ;\n",
      "    sh:targetClass power-grid:Terminal .\n",
      "\n",
      "power-grid:GeographicalRegionShape a sh:NodeShape ;\n",
      "    sh:property [ sh:datatype xsd:string ;\n",
      "            sh:maxCount 1 ;\n",
      "            sh:minCount 1 ;\n",
      "            sh:nodeKind sh:Literal ;\n",
      "            sh:path power-grid:name ] ;\n",
      "    sh:targetClass power-grid:GeographicalRegion .\n",
      "\n",
      "power-grid:SubGeographicalRegionShape a sh:NodeShape ;\n",
      "    sh:property [ sh:datatype xsd:string ;\n",
      "            sh:maxCount 1 ;\n",
      "            sh:minCount 1 ;\n",
      "            sh:nodeKind sh:Literal ;\n",
      "            sh:path power-grid:name ],\n",
      "        [ sh:maxCount 1 ;\n",
      "            sh:minCount 1 ;\n",
      "            sh:node power-grid:GeographicalRegionShape ;\n",
      "            sh:nodeKind sh:IRI ;\n",
      "            sh:path power-grid:region ] ;\n",
      "    sh:targetClass power-grid:SubGeographicalRegion .\n",
      "\n",
      "power-grid:SubstationShape a sh:NodeShape ;\n",
      "    sh:property [ sh:datatype xsd:string ;\n",
      "            sh:maxCount 1 ;\n",
      "            sh:minCount 1 ;\n",
      "            sh:nodeKind sh:Literal ;\n",
      "            sh:path power-grid:name ],\n",
      "        [ sh:maxCount 1 ;\n",
      "            sh:minCount 1 ;\n",
      "            sh:node power-grid:SubGeographicalRegionShape ;\n",
      "            sh:nodeKind sh:IRI ;\n",
      "            sh:path power-grid:subGeographicalRegion ] ;\n",
      "    sh:targetClass power-grid:Substation .\n",
      "\n",
      "\n"
     ]
    }
   ],
   "source": [
    "print(ontology.constraints)"
   ]
  },
  {
   "cell_type": "markdown",
   "metadata": {},
   "source": [
    "Entire Semantic Data Model (ontology + constraints) can be access through property `semantic_data_model`:"
   ]
  },
  {
   "cell_type": "code",
   "execution_count": null,
   "metadata": {},
   "outputs": [],
   "source": []
  }
 ],
 "metadata": {
  "celltoolbar": "Edit Metadata",
  "kernelspec": {
   "display_name": "Python 3 (ipykernel)",
   "language": "python",
   "name": "python3"
  },
  "language_info": {
   "codemirror_mode": {
    "name": "ipython",
    "version": 3
   },
   "file_extension": ".py",
   "mimetype": "text/x-python",
   "name": "python",
   "nbconvert_exporter": "python",
   "pygments_lexer": "ipython3",
   "version": "3.11.4"
  }
 },
 "nbformat": 4,
 "nbformat_minor": 4
}
