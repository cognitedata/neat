{
  "cells": [
    {
      "attachments": {},
      "cell_type": "markdown",
      "metadata": {},
      "source": [
        "# Part 1: Data Model Generation\n",
        "\n",
        "[![Notebook](https://shields.io/badge/notebook-access-green?logo=jupyter&style=for-the-badge)](https://github.com/cognitedata/neat/blob/main/docs/tutorial/notebooks/part-1-data-model-generation.ipynb)\n",
        "\n",
        "* author: Nikola Vasiljevic\n",
        "* date: 2023-05-31\n",
        "\n",
        "This notebook represent Part 1 of NEAT Onboarding tutorial. In this notebook we will demonstrate how to generate data model using NEAT.\n",
        "All you need is basic knowledge of Excel and Python, and very good knowledge of domain you are trying to model.\n",
        "\n",
        "For simplicity we will define a simple power grid data model.\n",
        "\n",
        "Before proceeding download `Transformation Rule` template using [this link](https://drive.google.com/uc?export=download&id=1yJxK35IaKVpZJas60ojReCjh-Ppj9fKX). Unzip file and open template:\n",
        "\n",
        "\n",
        "<video src=\"../../videos/tutorial-1-download-rules-template.mp4\" controls>\n",
        "</video>\n",
        "\n",
        "\n",
        "Let's import all necessary libraries. For simplicity we also provide already prefilled rules sheet from examples named `power_grid_model`:"
      ]
    },
    {
      "cell_type": "code",
      "execution_count": 1,
      "metadata": {},
      "outputs": [],
      "source": [
        "from pathlib import Path\n",
        "import warnings\n",
        "\n",
        "from cognite.neat.core.rules import load_rules_from_excel_file\n",
        "from cognite.neat.core.rules.exporter.rules2graphql import GraphQLSchema\n",
        "from cognite.neat.core.rules.exporter.rules2ontology import Ontology\n",
        "\n",
        "from cognite.neat.examples import power_grid_model"
      ]
    },
    {
      "attachments": {},
      "cell_type": "markdown",
      "metadata": {},
      "source": [
        "Let's now fill in the template sheet, going sheet by sheet in the following order\n",
        "- `Metadata` : where we will provide metadata about data model itself\n",
        "- `Classes` : where we will defined classes\n",
        "- `Properties`: where we will define properties for each of defined classes\n",
        "\n",
        "\n",
        "<video src=\"../../videos/tutorial-1-defining-data-model.mp4\" controls>\n",
        "</video>\n",
        "\n",
        "\n",
        "For more information about `Transformation Rules` check [this detail overview](../../transformation-rules.md). \n",
        "\n",
        "\n",
        "Once we are done with filling in the template sheet, let's load it and transform it to GraphQL schema which represents our data model.\n",
        "If you have filled in your own transformation rules excel file replace `power_grid_model` with path to your file:"
      ]
    },
    {
      "cell_type": "code",
      "execution_count": 2,
      "metadata": {},
      "outputs": [],
      "source": [
        "your_path_to_excel_file = Path(\"insert_path_here\")\n",
        "transformation_rules = load_rules_from_excel_file(power_grid_model)\n",
        "data_model_gql = GraphQLSchema.from_rules(transformation_rules=transformation_rules)"
      ]
    },
    {
      "attachments": {},
      "cell_type": "markdown",
      "metadata": {},
      "source": [
        "If we now print derive GraphQL schema we can see how each of the objects (i.e. classes) are defined and represented in GraphQL:"
      ]
    },
    {
      "cell_type": "code",
      "execution_count": 3,
      "metadata": {},
      "outputs": [
        {
          "name": "stdout",
          "output_type": "stream",
          "text": [
            "type GeographicalRegion {\n",
            "  name: String!\n",
            "}\n",
            "\n",
            "type SubGeographicalRegion {\n",
            "  name: String!\n",
            "  region: GeographicalRegion\n",
            "}\n",
            "\n",
            "type Substation {\n",
            "  name: String!\n",
            "  subGeographicalRegion: SubGeographicalRegion\n",
            "}\n",
            "\n",
            "type Terminal {\n",
            "  name: String!\n",
            "  aliasName: String!\n",
            "  substation: Substation\n",
            "}\n"
          ]
        }
      ],
      "source": [
        "print(data_model_gql.schema)"
      ]
    },
    {
      "attachments": {},
      "cell_type": "markdown",
      "metadata": {},
      "source": [
        "Derive GraphQL schema now can be uploaded to CDF and resolved as Flexible Data Model:\n",
        "\n",
        "<video src=\"../../videos/tutorial-1-upload-gql-schema-to-cdf.mp4\" controls>\n",
        "</video>\n"
      ]
    },
    {
      "cell_type": "markdown",
      "metadata": {},
      "source": [
        "Let's now convert Transformation Rules to OWL based semantic ontology and SHACL object constraints:"
      ]
    },
    {
      "cell_type": "code",
      "execution_count": 4,
      "metadata": {},
      "outputs": [],
      "source": [
        "with warnings.catch_warnings(record=True) as validation_warnings:\n",
        "    ontology = Ontology.from_rules(transformation_rules=transformation_rules)"
      ]
    },
    {
      "cell_type": "markdown",
      "metadata": {},
      "source": [
        "Ontology is stored in RDF Graph accessible through `.ontology` , where to actually see its content we serialize it and print it out:"
      ]
    },
    {
      "cell_type": "code",
      "execution_count": 5,
      "metadata": {
        "tags": [
          "raise-exception",
          "skip-execution"
        ]
      },
      "outputs": [
        {
          "name": "stdout",
          "output_type": "stream",
          "text": [
            "@prefix dct: <http://purl.org/dc/terms/> .\n",
            "@prefix owl: <http://www.w3.org/2002/07/owl#> .\n",
            "@prefix power-grid: <http://purl.org/cognite/power-grid#> .\n",
            "@prefix rdf: <http://www.w3.org/1999/02/22-rdf-syntax-ns#> .\n",
            "@prefix rdfs: <http://www.w3.org/2000/01/rdf-schema#> .\n",
            "@prefix xsd: <http://www.w3.org/2001/XMLSchema#> .\n",
            "\n",
            "power-grid: a owl:Ontology ;\n",
            "    rdfs:label \"Power Grid Example Data Model\" ;\n",
            "    dct:created \"2022-09-29T00:00:00\"^^xsd:dateTime ;\n",
            "    dct:creator \"Anders Albert\",\n",
            "        \"Nikola Vasiljevic\" ;\n",
            "    dct:description \"This is simplified power grid data model used in NEAT tutorial.\" ;\n",
            "    dct:hasVersion \"0_1_0\" ;\n",
            "    dct:modified \"2023-07-25T09:03:02.759234\"^^xsd:dateTime ;\n",
            "    dct:rights \"Free for non-commerical use\" ;\n",
            "    dct:title \"Power Grid Example Data Model\" ;\n",
            "    owl:versionInfo \"0_1_0\" .\n",
            "\n",
            "power-grid:aliasName a owl:DatatypeProperty ;\n",
            "    rdfs:label \"aliasName\" ;\n",
            "    rdfs:comment \"The alternative name that identifies Substation\" ;\n",
            "    rdfs:domain power-grid:Terminal ;\n",
            "    rdfs:range xsd:string .\n",
            "\n",
            "power-grid:name a owl:DatatypeProperty ;\n",
            "    rdfs:label \"name\" ;\n",
            "    rdfs:comment \"\"\"The name that identifies Substation\n",
            "The name that identifies Terminal\n",
            "The name that identifies Greographical\n",
            "The name that identifies SubGreographical\"\"\" ;\n",
            "    rdfs:domain [ a owl:Class ;\n",
            "            owl:unionOf ( power-grid:Substation power-grid:SubGeographicalRegion power-grid:GeographicalRegion power-grid:Terminal ) ] ;\n",
            "    rdfs:range xsd:string .\n",
            "\n",
            "power-grid:region a owl:ObjectProperty ;\n",
            "    rdfs:label \"region\" ;\n",
            "    rdfs:comment \"Region to which subgeographical region belongs to\" ;\n",
            "    rdfs:domain power-grid:SubGeographicalRegion ;\n",
            "    rdfs:range power-grid:GeographicalRegion .\n",
            "\n",
            "power-grid:subGeographicalRegion a owl:ObjectProperty ;\n",
            "    rdfs:label \"subGeographicalRegion\" ;\n",
            "    rdfs:comment \"The subgeographical region containing the substation\" ;\n",
            "    rdfs:domain power-grid:Substation ;\n",
            "    rdfs:range power-grid:SubGeographicalRegion .\n",
            "\n",
            "power-grid:substation a owl:ObjectProperty ;\n",
            "    rdfs:label \"substation\" ;\n",
            "    rdfs:comment \"Substation to which terminal belongs to\" ;\n",
            "    rdfs:domain power-grid:Terminal ;\n",
            "    rdfs:range power-grid:Substation .\n",
            "\n",
            "power-grid:GeographicalRegion a owl:Class ;\n",
            "    rdfs:label \"GeographicalRegion\" ;\n",
            "    rdfs:comment \"None\" .\n",
            "\n",
            "power-grid:SubGeographicalRegion a owl:Class ;\n",
            "    rdfs:label \"SubGeographicalRegion\" ;\n",
            "    rdfs:comment \"A subset of a geographical region of a power system network model.\" .\n",
            "\n",
            "power-grid:Substation a owl:Class ;\n",
            "    rdfs:label \"Substation\" ;\n",
            "    rdfs:comment \"A substation is a part of an electrical generation, transmission, and distribution system.\" .\n",
            "\n",
            "power-grid:Terminal a owl:Class ;\n",
            "    rdfs:label \"Terminal\" ;\n",
            "    rdfs:comment \"None\" .\n",
            "\n",
            "\n"
          ]
        }
      ],
      "source": [
        "print(ontology.ontology)"
      ]
    },
    {
      "cell_type": "markdown",
      "metadata": {},
      "source": [
        "In the same why we access shape constraints:"
      ]
    },
    {
      "cell_type": "code",
      "execution_count": 6,
      "metadata": {
        "tags": [
          "raise-exception",
          "skip-execution"
        ]
      },
      "outputs": [
        {
          "name": "stdout",
          "output_type": "stream",
          "text": [
            "@prefix power-grid: <http://purl.org/cognite/power-grid#> .\n",
            "@prefix sh: <http://www.w3.org/ns/shacl#> .\n",
            "@prefix xsd: <http://www.w3.org/2001/XMLSchema#> .\n",
            "\n",
            "power-grid:TerminalShape a sh:NodeShape ;\n",
            "    sh:property [ sh:datatype xsd:string ;\n",
            "            sh:maxCount 1 ;\n",
            "            sh:minCount 1 ;\n",
            "            sh:nodeKind sh:Literal ;\n",
            "            sh:path power-grid:name ],\n",
            "        [ sh:maxCount 1 ;\n",
            "            sh:minCount 1 ;\n",
            "            sh:node power-grid:SubstationShape ;\n",
            "            sh:nodeKind sh:IRI ;\n",
            "            sh:path power-grid:substation ],\n",
            "        [ sh:datatype xsd:string ;\n",
            "            sh:maxCount 1 ;\n",
            "            sh:minCount 1 ;\n",
            "            sh:nodeKind sh:Literal ;\n",
            "            sh:path power-grid:aliasName ] ;\n",
            "    sh:targetClass power-grid:Terminal .\n",
            "\n",
            "power-grid:GeographicalRegionShape a sh:NodeShape ;\n",
            "    sh:property [ sh:datatype xsd:string ;\n",
            "            sh:maxCount 1 ;\n",
            "            sh:minCount 1 ;\n",
            "            sh:nodeKind sh:Literal ;\n",
            "            sh:path power-grid:name ] ;\n",
            "    sh:targetClass power-grid:GeographicalRegion .\n",
            "\n",
            "power-grid:SubGeographicalRegionShape a sh:NodeShape ;\n",
            "    sh:property [ sh:datatype xsd:string ;\n",
            "            sh:maxCount 1 ;\n",
            "            sh:minCount 1 ;\n",
            "            sh:nodeKind sh:Literal ;\n",
            "            sh:path power-grid:name ],\n",
            "        [ sh:maxCount 1 ;\n",
            "            sh:minCount 1 ;\n",
            "            sh:node power-grid:GeographicalRegionShape ;\n",
            "            sh:nodeKind sh:IRI ;\n",
            "            sh:path power-grid:region ] ;\n",
            "    sh:targetClass power-grid:SubGeographicalRegion .\n",
            "\n",
            "power-grid:SubstationShape a sh:NodeShape ;\n",
            "    sh:property [ sh:datatype xsd:string ;\n",
            "            sh:maxCount 1 ;\n",
            "            sh:minCount 1 ;\n",
            "            sh:nodeKind sh:Literal ;\n",
            "            sh:path power-grid:name ],\n",
            "        [ sh:maxCount 1 ;\n",
            "            sh:minCount 1 ;\n",
            "            sh:node power-grid:SubGeographicalRegionShape ;\n",
            "            sh:nodeKind sh:IRI ;\n",
            "            sh:path power-grid:subGeographicalRegion ] ;\n",
            "    sh:targetClass power-grid:Substation .\n",
            "\n",
            "\n"
          ]
        }
      ],
      "source": [
        "print(ontology.constraints)"
      ]
    },
    {
      "cell_type": "markdown",
      "metadata": {},
      "source": [
        "Entire Semantic Data Model (ontology + constraints) can be access through property `semantic_data_model`:"
      ]
    },
    {
      "cell_type": "code",
      "execution_count": 7,
      "metadata": {
        "tags": [
          "raise-exception",
          "skip-execution"
        ]
      },
      "outputs": [
        {
          "name": "stdout",
          "output_type": "stream",
          "text": [
            "@prefix dct: <http://purl.org/dc/terms/> .\n",
            "@prefix owl: <http://www.w3.org/2002/07/owl#> .\n",
            "@prefix power-grid: <http://purl.org/cognite/power-grid#> .\n",
            "@prefix rdf: <http://www.w3.org/1999/02/22-rdf-syntax-ns#> .\n",
            "@prefix rdfs: <http://www.w3.org/2000/01/rdf-schema#> .\n",
            "@prefix sh: <http://www.w3.org/ns/shacl#> .\n",
            "@prefix xsd: <http://www.w3.org/2001/XMLSchema#> .\n",
            "\n",
            "power-grid: a owl:Ontology ;\n",
            "    rdfs:label \"Power Grid Example Data Model\" ;\n",
            "    dct:created \"2022-09-29T00:00:00\"^^xsd:dateTime ;\n",
            "    dct:creator \"Anders Albert\",\n",
            "        \"Nikola Vasiljevic\" ;\n",
            "    dct:description \"This is simplified power grid data model used in NEAT tutorial.\" ;\n",
            "    dct:hasVersion \"0_1_0\" ;\n",
            "    dct:modified \"2023-07-25T09:03:02.759234\"^^xsd:dateTime ;\n",
            "    dct:rights \"Free for non-commerical use\" ;\n",
            "    dct:title \"Power Grid Example Data Model\" ;\n",
            "    owl:versionInfo \"0_1_0\" .\n",
            "\n",
            "power-grid:TerminalShape a sh:NodeShape ;\n",
            "    sh:property [ sh:datatype xsd:string ;\n",
            "            sh:maxCount 1 ;\n",
            "            sh:minCount 1 ;\n",
            "            sh:nodeKind sh:Literal ;\n",
            "            sh:path power-grid:name ],\n",
            "        [ sh:maxCount 1 ;\n",
            "            sh:minCount 1 ;\n",
            "            sh:node power-grid:SubstationShape ;\n",
            "            sh:nodeKind sh:IRI ;\n",
            "            sh:path power-grid:substation ],\n",
            "        [ sh:datatype xsd:string ;\n",
            "            sh:maxCount 1 ;\n",
            "            sh:minCount 1 ;\n",
            "            sh:nodeKind sh:Literal ;\n",
            "            sh:path power-grid:aliasName ] ;\n",
            "    sh:targetClass power-grid:Terminal .\n",
            "\n",
            "power-grid:GeographicalRegionShape a sh:NodeShape ;\n",
            "    sh:property [ sh:datatype xsd:string ;\n",
            "            sh:maxCount 1 ;\n",
            "            sh:minCount 1 ;\n",
            "            sh:nodeKind sh:Literal ;\n",
            "            sh:path power-grid:name ] ;\n",
            "    sh:targetClass power-grid:GeographicalRegion .\n",
            "\n",
            "power-grid:SubGeographicalRegionShape a sh:NodeShape ;\n",
            "    sh:property [ sh:datatype xsd:string ;\n",
            "            sh:maxCount 1 ;\n",
            "            sh:minCount 1 ;\n",
            "            sh:nodeKind sh:Literal ;\n",
            "            sh:path power-grid:name ],\n",
            "        [ sh:maxCount 1 ;\n",
            "            sh:minCount 1 ;\n",
            "            sh:node power-grid:GeographicalRegionShape ;\n",
            "            sh:nodeKind sh:IRI ;\n",
            "            sh:path power-grid:region ] ;\n",
            "    sh:targetClass power-grid:SubGeographicalRegion .\n",
            "\n",
            "power-grid:SubstationShape a sh:NodeShape ;\n",
            "    sh:property [ sh:datatype xsd:string ;\n",
            "            sh:maxCount 1 ;\n",
            "            sh:minCount 1 ;\n",
            "            sh:nodeKind sh:Literal ;\n",
            "            sh:path power-grid:name ],\n",
            "        [ sh:maxCount 1 ;\n",
            "            sh:minCount 1 ;\n",
            "            sh:node power-grid:SubGeographicalRegionShape ;\n",
            "            sh:nodeKind sh:IRI ;\n",
            "            sh:path power-grid:subGeographicalRegion ] ;\n",
            "    sh:targetClass power-grid:Substation .\n",
            "\n",
            "power-grid:aliasName a owl:DatatypeProperty ;\n",
            "    rdfs:label \"aliasName\" ;\n",
            "    rdfs:comment \"The alternative name that identifies Substation\" ;\n",
            "    rdfs:domain power-grid:Terminal ;\n",
            "    rdfs:range xsd:string .\n",
            "\n",
            "power-grid:region a owl:ObjectProperty ;\n",
            "    rdfs:label \"region\" ;\n",
            "    rdfs:comment \"Region to which subgeographical region belongs to\" ;\n",
            "    rdfs:domain power-grid:SubGeographicalRegion ;\n",
            "    rdfs:range power-grid:GeographicalRegion .\n",
            "\n",
            "power-grid:subGeographicalRegion a owl:ObjectProperty ;\n",
            "    rdfs:label \"subGeographicalRegion\" ;\n",
            "    rdfs:comment \"The subgeographical region containing the substation\" ;\n",
            "    rdfs:domain power-grid:Substation ;\n",
            "    rdfs:range power-grid:SubGeographicalRegion .\n",
            "\n",
            "power-grid:substation a owl:ObjectProperty ;\n",
            "    rdfs:label \"substation\" ;\n",
            "    rdfs:comment \"Substation to which terminal belongs to\" ;\n",
            "    rdfs:domain power-grid:Terminal ;\n",
            "    rdfs:range power-grid:Substation .\n",
            "\n",
            "power-grid:GeographicalRegion a owl:Class ;\n",
            "    rdfs:label \"GeographicalRegion\" ;\n",
            "    rdfs:comment \"None\" .\n",
            "\n",
            "power-grid:SubGeographicalRegion a owl:Class ;\n",
            "    rdfs:label \"SubGeographicalRegion\" ;\n",
            "    rdfs:comment \"A subset of a geographical region of a power system network model.\" .\n",
            "\n",
            "power-grid:Substation a owl:Class ;\n",
            "    rdfs:label \"Substation\" ;\n",
            "    rdfs:comment \"A substation is a part of an electrical generation, transmission, and distribution system.\" .\n",
            "\n",
            "power-grid:Terminal a owl:Class ;\n",
            "    rdfs:label \"Terminal\" ;\n",
            "    rdfs:comment \"None\" .\n",
            "\n",
            "power-grid:name a owl:DatatypeProperty ;\n",
            "    rdfs:label \"name\" ;\n",
            "    rdfs:comment \"\"\"The name that identifies Substation\n",
            "The name that identifies Terminal\n",
            "The name that identifies Greographical\n",
            "The name that identifies SubGreographical\"\"\" ;\n",
            "    rdfs:domain [ a owl:Class ;\n",
            "            owl:unionOf ( power-grid:Substation power-grid:SubGeographicalRegion power-grid:GeographicalRegion power-grid:Terminal ) ] ;\n",
            "    rdfs:range xsd:string .\n",
            "\n",
            "\n"
          ]
        }
      ],
      "source": [
        "print(ontology.semantic_data_model)"
      ]
    },
    {
      "cell_type": "code",
      "execution_count": null,
      "metadata": {},
      "outputs": [],
      "source": []
    }
  ],
  "metadata": {
    "celltoolbar": "Edit Metadata",
    "kernelspec": {
      "display_name": "Python 3 (ipykernel)",
      "language": "python",
      "name": "python3"
    },
    "language_info": {
      "codemirror_mode": {
        "name": "ipython",
        "version": 3
      },
      "file_extension": ".py",
      "mimetype": "text/x-python",
      "name": "python",
      "nbconvert_exporter": "python",
      "pygments_lexer": "ipython3",
      "version": "3.11.3"
    }
  },
  "nbformat": 4,
  "nbformat_minor": 2
}
