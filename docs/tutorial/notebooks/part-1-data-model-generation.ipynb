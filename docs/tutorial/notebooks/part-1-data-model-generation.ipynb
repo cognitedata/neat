{
 "cells": [
  {
   "attachments": {},
   "cell_type": "markdown",
   "metadata": {},
   "source": [
    "# Part 1: Data Model Generation\n",
    "\n",
    "[![Notebook](https://shields.io/badge/notebook-access-green?logo=jupyter&style=for-the-badge)](https://github.com/cognitedata/neat/blob/main/docs/tutorial/notebooks/part-1-data-model-generation.ipynb)\n",
    "\n",
    "* author: Nikola Vasiljevic\n",
    "* date: 2023-05-31\n",
    "\n",
    "This notebook represent Part 1 of NEAT Onboarding tutorial. In this notebook we will demonstrate how to generate data model using NEAT.\n",
    "All you need is basic knowledge of Excel and Python, and very good knowledge of domain you are trying to model.\n",
    "\n",
    "For simplicity we will define a simple power grid data model.\n",
    "\n",
    "Before proceeding download `Transformation Rule` template using [this link](https://drive.google.com/uc?export=download&id=1yJxK35IaKVpZJas60ojReCjh-Ppj9fKX). Unzip file and open template:\n",
    "\n",
    "\n",
    "<video src=\"../../videos/tutorial-1-download-rules-template.mp4\" controls>\n",
    "</video>\n",
    "\n",
    "\n",
    "Let's import all necessary libraries:"
   ]
  },
  {
   "cell_type": "code",
   "execution_count": null,
   "metadata": {},
   "outputs": [],
   "source": [
    "from pathlib import Path\n",
    "from cognite.neat.core import loader, parser, extractors\n",
    "from cognite.neat.core.utils import remove_namespace, add_triples\n",
    "from cognite.neat.core.mocks.graph import generate_triples\n",
    "\n",
    "%reload_ext autoreload\n",
    "%autoreload 2"
   ]
  },
  {
   "attachments": {},
   "cell_type": "markdown",
   "metadata": {},
   "source": [
    "Let's now fill in the template sheet, going sheet by sheet in the following order\n",
    "- `Metadata` : where we will provide metadata about data model itself\n",
    "- `Classes` : where we will defined classes\n",
    "- `Properties`: where we will define properties for each of defined classes\n",
    "\n",
    "\n",
    "<video src=\"../../videos/tutorial-1-defining-data-model.mp4\" controls>\n",
    "</video>\n",
    "\n",
    "\n",
    "For more information about `Transformation Rules` check [this detail overview](../../transformation-rules.md). \n",
    "\n",
    "\n",
    "Once we are done with filling in the template sheet, let's load it and transform it to GraphQL schema which represents our data model:"
   ]
  },
  {
   "cell_type": "code",
   "execution_count": 85,
   "metadata": {},
   "outputs": [],
   "source": [
    "TRANSFORMATION_RULES = Path(\"insert_path_to_rules_sheet\")\n",
    "raw_sheets = loader.rules.excel_file_to_table_by_name(TRANSFORMATION_RULES)\n",
    "transformation_rules = parser.parse_transformation_rules(raw_sheets)\n",
    "data_model_gql = extractors.rules2graphql_schema(transformation_rules)"
   ]
  },
  {
   "attachments": {},
   "cell_type": "markdown",
   "metadata": {},
   "source": [
    "If we now print derive GraphQL schema we can see how each of the objects (i.e. classes) are defined and represented in GraphQL:"
   ]
  },
  {
   "cell_type": "code",
   "execution_count": 87,
   "metadata": {},
   "outputs": [
    {
     "name": "stdout",
     "output_type": "stream",
     "text": [
      "type GeographicalRegion {\n",
      "  name: String!\n",
      "}\n",
      "\n",
      "type SubGeographicalRegion {\n",
      "  name: String!\n",
      "  geographicalRegion: GeographicalRegion\n",
      "}\n",
      "\n",
      "type Substation {\n",
      "  name: String!\n",
      "  subGeographicalRegion: SubGeographicalRegion\n",
      "}\n",
      "\n",
      "type Terminal {\n",
      "  name: String!\n",
      "  aliasName: [String]\n",
      "  substation: Substation\n",
      "}\n"
     ]
    }
   ],
   "source": [
    "print(data_model_gql)"
   ]
  },
  {
   "attachments": {},
   "cell_type": "markdown",
   "metadata": {},
   "source": [
    "Derive GraphQL schema now can be uploaded to CDF and resolved as Flexible Data Model:\n",
    "\n",
    "<video src=\"../../videos/tutorial-1-upload-gql-schema-to-cdf.mp4\" controls>\n",
    "</video>\n"
   ]
  }
 ],
 "metadata": {
  "kernelspec": {
   "display_name": ".venv",
   "language": "python",
   "name": "python3"
  },
  "language_info": {
   "codemirror_mode": {
    "name": "ipython",
    "version": 3
   },
   "file_extension": ".py",
   "mimetype": "text/x-python",
   "name": "python",
   "nbconvert_exporter": "python",
   "pygments_lexer": "ipython3",
   "version": "3.11.3"
  },
  "orig_nbformat": 4
 },
 "nbformat": 4,
 "nbformat_minor": 2
}
