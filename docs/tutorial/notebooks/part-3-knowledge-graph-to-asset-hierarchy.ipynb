{
 "cells": [
  {
   "attachments": {},
   "cell_type": "markdown",
   "metadata": {},
   "source": [
    "# Part 3: Knowledge Graph to Asset Hierarchy\n",
    "\n",
    "\n",
    "[![Notebook](https://shields.io/badge/notebook-access-green?logo=jupyter&style=for-the-badge)](https://github.com/cognitedata/neat/blob/main/docs/tutorial/notebooks/part-3-knowledge-graph-to-asset-hierarchy.ipynb)\n",
    "\n",
    "\n",
    "* author: Nikola Vasiljevic\n",
    "* date: 2023-05-11\n",
    "\n",
    "Up until this notebook you did not need to have [Cognite Data Fusion](https://www.cognite.com/en/product/cognite_data_fusion_industrial_dataops_platform) instance running. However, for this notebook, CDF is prerequisite, as well client configured to interact for CDF. How to configure CDF as well client is beyond this notebook and tutorial. We suggest you to find appropriate information at [Cognite Developer Center](https://developer.cognite.com/dev/#authenticate).\n",
    "\n",
    "In this Part 3 of tutorial we will describe how NEAT generates asset hierarchy (i.e., CDF classic graph) from RDF graph (i.e. knowledge graph) as depicted at the following image:\n",
    "\n",
    "<img src=\"../../figs/rdf2cdf-graph.jpg\"  width=\"75%\" alt=\"RDF2CDF\">\n",
    "\n",
    "\n",
    "The aforementioned image shows high level flow from RDF graph to CDF graph. As we can see an RDF graph can be decoupled to:\n",
    "- nodes (i.e. instances of specific classes)\n",
    "- edges (i.e., relationships that connect nodes)\n",
    "\n",
    "On the other hand CDF graph based on asset-centric data model (aka, classic CDF), consists of:\n",
    "- assets\n",
    "- asset hierarchy \n",
    "- relationships among assets\n",
    "\n",
    "Accordingly, based on the transformation rules, NEAT converts:\n",
    "- RDF nodes to CDF assets\n",
    "- certain type(s) of RDF edges to CDF asset hierarchy\n",
    "- certain type(s) of RDF edges to CDF relationships between assets \n",
    "\n",
    "\n",
    "First download transformation rules from this [link](https://github.com/cognitedata/neat/blob/main/cognite/neat/examples/rules/source-to-solution-mapping-rules.xlsx) and place it at an appropriate location. Alternatively, if you have cloned `neat` repository, find file in:\n",
    "\n",
    " `./cognite/neat/exaples/rules/source-to-solution-mapping-rules.xlsx`.\n",
    "\n",
    "\n",
    "These transformation rules are a bit more extensive than in previous parts, containing more detailed data model. Their details we will be covered in Part 4. \n",
    "\n",
    "\n",
    "Also, for convenience store configuration of a Cognite client in `.env` file, with following structure:\n",
    "\n",
    "```\n",
    "\n",
    "TENANT_ID = ...\n",
    "CLIENT_ID = ...\n",
    "CLIENT_SECRET = ...\n",
    "CDF_CLUSTER = ...\n",
    "COGNITE_PROJECT = ...\n",
    "\n",
    "```\n",
    "\n",
    "This file will be loaded as config dictionary and used to configure the Cognite client.\n",
    "\n",
    "\n",
    "\n",
    "Let's import all the necessary libraries, create CDF client and mock RDF graph that we will process:"
   ]
  },
  {
   "cell_type": "code",
   "execution_count": 1,
   "metadata": {},
   "outputs": [],
   "source": [
    "from dotenv import dotenv_values\n",
    "\n",
    "from cognite.client import CogniteClient, ClientConfig\n",
    "from cognite.client.credentials import OAuthClientCredentials\n",
    "from cognite.client.config import ClientConfig\n",
    "\n",
    "\n",
    "from cognite.neat.rules.examples import source_to_solution_mapping\n",
    "\n",
    "from cognite.neat.rules.parser import parse_rules_from_excel_file\n",
    "from cognite.neat.rules.analysis import get_defined_classes\n",
    "\n",
    "\n",
    "from cognite.neat.graph.stores import NeatGraphStore\n",
    "\n",
    "from cognite.neat.graph.loaders import rdf2assets, categorize_assets\n",
    "from cognite.neat.graph.loaders import rdf2relationships, categorize_relationships\n",
    "from cognite.neat.graph.loaders import upload_labels, upload_assets, upload_relationships\n",
    "\n",
    "from cognite.neat.utils.utils import add_triples\n",
    "from cognite.neat.graph.extractors.mocks.graph import generate_triples\n",
    "\n"
   ]
  },
  {
   "cell_type": "code",
   "execution_count": 2,
   "metadata": {
    "tags": [
     "raises-exception"
    ]
   },
   "outputs": [],
   "source": [
    "# Insert path to your .env file in \n",
    "\n",
    "config = dotenv_values(\"path_to_env_file\")\n",
    "\n",
    "SCOPES = [f\"https://{config['CDF_CLUSTER']}.cognitedata.com/.default\"]\n",
    "TOKEN_URL = f\"https://login.microsoftonline.com/{config['TENANT_ID']}/oauth2/v2.0/token\"\n",
    "\n",
    "credentials = OAuthClientCredentials(token_url=TOKEN_URL, \n",
    "                                     client_id=config['CLIENT_ID'], \n",
    "                                     client_secret=config['CLIENT_SECRET'], \n",
    "                                     scopes=SCOPES)\n",
    "\n",
    "client_config = ClientConfig(client_name=\"cognite\",\n",
    "                             base_url=f\"https://{config['CDF_CLUSTER']}.cognitedata.com\",\n",
    "                             project=config['COGNITE_PROJECT'],\n",
    "                             credentials=credentials,\n",
    "                             max_workers=1,\n",
    "                             timeout=5 * 60,)\n",
    "\n",
    "client = CogniteClient(client_config)"
   ]
  },
  {
   "attachments": {},
   "cell_type": "markdown",
   "metadata": {},
   "source": [
    "Let's now load transformation rules and check which classes are defined:"
   ]
  },
  {
   "cell_type": "code",
   "execution_count": 3,
   "metadata": {},
   "outputs": [
    {
     "data": {
      "text/plain": [
       "{'GeographicalRegion',\n",
       " 'Orphanage',\n",
       " 'RootCIMNode',\n",
       " 'SubGeographicalRegion',\n",
       " 'Substation',\n",
       " 'Terminal'}"
      ]
     },
     "execution_count": 3,
     "metadata": {},
     "output_type": "execute_result"
    }
   ],
   "source": [
    "# Replace `source_to_solution_mapping` with Path to your own transformation rules\n",
    "transformation_rules = parse_rules_from_excel_file(source_to_solution_mapping)\n",
    "\n",
    "get_defined_classes(transformation_rules)"
   ]
  },
  {
   "attachments": {},
   "cell_type": "markdown",
   "metadata": {},
   "source": [
    "Let's now configure desired number of instances per each of the above classes. We will store desired number of instances in a dictionary which we will call `class_count`:"
   ]
  },
  {
   "cell_type": "code",
   "execution_count": 4,
   "metadata": {},
   "outputs": [],
   "source": [
    "class_count = {\"RootCIMNode\":1, \n",
    "               \"GeographicalRegion\":5, \n",
    "               \"SubGeographicalRegion\":10, \n",
    "               \"Substation\": 20, \n",
    "               \"Terminal\": 60}"
   ]
  },
  {
   "attachments": {},
   "cell_type": "markdown",
   "metadata": {},
   "source": [
    "To generate mock graph we will first create an empty graph to which we will store triples that will represent our mock graph:"
   ]
  },
  {
   "cell_type": "code",
   "execution_count": 5,
   "metadata": {},
   "outputs": [],
   "source": [
    "graph_store = NeatGraphStore(prefixes=transformation_rules.prefixes, \n",
    "                             namespace=transformation_rules.metadata.namespace)\n",
    "graph_store.init_graph(base_prefix=transformation_rules.metadata.prefix)"
   ]
  },
  {
   "attachments": {},
   "cell_type": "markdown",
   "metadata": {},
   "source": [
    "We will create triples and then will added them to the graph.\n",
    "\n",
    "The triples are created by providing our data model and desired number of instances per class in a form of dictionary to method `generate_triples`. Afterwards, we will add those triples to our graph using method `add_tripes`:"
   ]
  },
  {
   "cell_type": "code",
   "execution_count": 6,
   "metadata": {},
   "outputs": [],
   "source": [
    "mock_triples = generate_triples(transformation_rules, class_count)\n",
    "add_triples(graph_store, mock_triples)"
   ]
  },
  {
   "attachments": {},
   "cell_type": "markdown",
   "metadata": {},
   "source": [
    "At this point we have RDF graph which is stored in memory, we can check if NEAT really created desired RDF graph by checking number of instances (i.e. nodes) per each class. We do this by executing `SPARQL` query against the RDF graph:\n",
    "\n",
    "```\n",
    "SELECT ?class (count(?s) as ?instances ) WHERE { ?s a ?class . } group by ?class order by DESC(?instances)\n",
    "```\n",
    "\n",
    "which will count number of instances per class"
   ]
  },
  {
   "cell_type": "code",
   "execution_count": 7,
   "metadata": {},
   "outputs": [
    {
     "name": "stdout",
     "output_type": "stream",
     "text": [
      "http://purl.org/cognite/tnt#Terminal               60\n",
      "http://purl.org/cognite/tnt#Substation             20\n",
      "http://purl.org/cognite/tnt#SubGeographicalRegion  10\n",
      "http://purl.org/cognite/tnt#GeographicalRegion     5\n",
      "http://purl.org/cognite/tnt#RootCIMNode            1\n"
     ]
    }
   ],
   "source": [
    "query = \"SELECT ?class (count(?s) as ?instances ) WHERE { ?s a ?class . } group by ?class order by DESC(?instances)\"\n",
    "results = list(graph_store.graph.query(query))\n",
    "\n",
    "for r in results:\n",
    "    print(f\"{r[0]:50} {r[1]}\" )"
   ]
  },
  {
   "attachments": {},
   "cell_type": "markdown",
   "metadata": {},
   "source": [
    "Now let assume that our CDF dataset does not contain any asset, asset hierarchy and relationship. Accordingly NEAT will go through all the steps shown in the below image to produce CDF graph.\n",
    "In the first step, we will call: \n",
    "- `rdf2assets` which will produce candidate assets to be uploaded to CDF as well asset hierarchy\n",
    "- `categorize_assets` which will categorize this candidate assets against CDF, splitting them to those that are to be `created`, `updated`, `decommissioned` and `resurrected`\n",
    "- `upload_assets` which will upload categorized assets to CDF\n",
    "\n",
    "\n",
    "In the consecutive step, we will call: \n",
    "- `rdf2relationships` which will produce candidate relationships to be uploaded to CDF\n",
    "- `categorize_relationships` which will categorize this candidate relationships against CDF, splitting them to those that are to be `created`, `decommissioned` and `resurrected`. This method will check both existence and state of existing relationships and assets\n",
    "- `upload_relationships` which will upload categorized relationships to CDF"
   ]
  },
  {
   "attachments": {},
   "cell_type": "markdown",
   "metadata": {},
   "source": [
    "<img src=\"../../figs/rdf2cdf-init-run.jpg\"  width=\"50%\" alt=\"RDF2CDF\">"
   ]
  },
  {
   "attachments": {},
   "cell_type": "markdown",
   "metadata": {},
   "source": [
    "Now let's run each step and inspect results. When running `rdf2assets` there will be ERROR logged regarding `Orphanage`, a special asset expected by NEAT to be in RDF graph. Since we did not created, but defined it in transformation rules, NEAT is logging this as an error, but also fixing issue by creating this asset:"
   ]
  },
  {
   "cell_type": "code",
   "execution_count": 8,
   "metadata": {},
   "outputs": [
    {
     "name": "stderr",
     "output_type": "stream",
     "text": [
      "ERROR:root:Error while loading instances of class <http://purl.org/cognite/tnt#Orphanage> into cache. Reason: 'instance'\n",
      "WARNING:root:Orphanage with external id orphanage-6673116778101699 not found in asset hierarchy!\n",
      "WARNING:root:Adding default orphanage with external id orphanage-6673116778101699\n"
     ]
    }
   ],
   "source": [
    "candidate_assets = rdf2assets(graph_store, transformation_rules)\n"
   ]
  },
  {
   "attachments": {},
   "cell_type": "markdown",
   "metadata": {},
   "source": [
    "As expected total number of assets is 96 (which we have in RDF graph) plus additional special asset for Orphanage."
   ]
  },
  {
   "cell_type": "code",
   "execution_count": 9,
   "metadata": {},
   "outputs": [
    {
     "name": "stdout",
     "output_type": "stream",
     "text": [
      "Total number of assets extracted: 97\n"
     ]
    }
   ],
   "source": [
    "print(f\"Total number of assets extracted: {len(candidate_assets)}\")"
   ]
  },
  {
   "attachments": {},
   "cell_type": "markdown",
   "metadata": {},
   "source": [
    "Let's now categorize and upload assets. This completes our first step, i.e. creation of assets and asset hierarchy, as shown below:\n",
    "\n",
    "<img src=\"../../figs/rdf2cdf-init-run-step1.jpg\"  width=\"50%\" alt=\"RDF2CDF\">\n",
    "\n",
    "We are expecting to see that there are only assets under category `create`. "
   ]
  },
  {
   "cell_type": "code",
   "execution_count": 10,
   "metadata": {},
   "outputs": [
    {
     "data": {
      "text/plain": [
       "6673116778101699"
      ]
     },
     "execution_count": 10,
     "metadata": {},
     "output_type": "execute_result"
    }
   ],
   "source": [
    "transformation_rules.metadata.data_set_id"
   ]
  },
  {
   "cell_type": "code",
   "execution_count": 11,
   "metadata": {
    "tags": [
     "raises-exception"
    ]
   },
   "outputs": [
    {
     "name": "stdout",
     "output_type": "stream",
     "text": [
      "Category create          has 97 assets\n",
      "Category update          has  0 assets\n",
      "Category resurrect       has  0 assets\n",
      "Category decommission    has  0 assets\n"
     ]
    }
   ],
   "source": [
    "categorized_assets = categorize_assets(client, \n",
    "                                       candidate_assets, \n",
    "                                       transformation_rules.metadata.data_set_id)\n",
    "\n",
    "\n",
    "for cat in categorized_assets:\n",
    "    print(f\"Category {cat:15} has {len(categorized_assets[cat]):2} assets\")\n"
   ]
  },
  {
   "attachments": {},
   "cell_type": "markdown",
   "metadata": {},
   "source": [
    "Before we upload assets, we need to create labels which we use to label asset and relationship types as well their status:"
   ]
  },
  {
   "cell_type": "code",
   "execution_count": 12,
   "metadata": {
    "tags": [
     "raises-exception"
    ]
   },
   "outputs": [],
   "source": [
    "upload_labels(client, transformation_rules)"
   ]
  },
  {
   "attachments": {},
   "cell_type": "markdown",
   "metadata": {},
   "source": [
    "Lets now upload assets:"
   ]
  },
  {
   "cell_type": "code",
   "execution_count": 13,
   "metadata": {
    "tags": [
     "raises-exception"
    ]
   },
   "outputs": [],
   "source": [
    "upload_assets(client, categorized_assets, batch_size=1000)"
   ]
  },
  {
   "attachments": {},
   "cell_type": "markdown",
   "metadata": {},
   "source": [
    "Lets quickly inspect created CDF asset hierarchy:\n",
    "\n",
    "<video src=\"../../videos/tutorial-3-asset-hierarchy.mp4\" controls>\n",
    "</video>"
   ]
  },
  {
   "attachments": {},
   "cell_type": "markdown",
   "metadata": {},
   "source": [
    "If we now re-run `categorize_assets` no asset will be present under any of categories. This means that we have successfully uploaded assets and created asset hierarchy!"
   ]
  },
  {
   "cell_type": "code",
   "execution_count": 14,
   "metadata": {
    "tags": [
     "raises-exception"
    ]
   },
   "outputs": [
    {
     "name": "stdout",
     "output_type": "stream",
     "text": [
      "Category create          has 97 assets\n",
      "Category update          has  0 assets\n",
      "Category resurrect       has  0 assets\n",
      "Category decommission    has  0 assets\n"
     ]
    }
   ],
   "source": [
    "categorized_assets = categorize_assets(client, \n",
    "                                       candidate_assets, \n",
    "                                       transformation_rules.metadata.data_set_id)\n",
    "\n",
    "\n",
    "for cat in categorized_assets:\n",
    "    print(f\"Category {cat:15} has {len(categorized_assets[cat]):2} assets\")\n"
   ]
  },
  {
   "attachments": {},
   "cell_type": "markdown",
   "metadata": {},
   "source": [
    "Let's now create, categorize and upload relationships. This completes our last step as shown below:\n",
    "\n",
    "<img src=\"../../figs/rdf2cdf-init-run-step2.png\"  width=\"50%\" alt=\"RDF2CDF\">\n",
    "\n",
    "We are expecting to see that there are only relationships under category `create`. "
   ]
  },
  {
   "cell_type": "code",
   "execution_count": 15,
   "metadata": {
    "tags": [
     "raises-exception"
    ]
   },
   "outputs": [
    {
     "name": "stderr",
     "output_type": "stream",
     "text": [
      "WARNING:root:Relationships are referring to these assets {'Terminal-13', 'SubGeographicalRegion-1', 'Terminal-17', 'Substation-18', 'GeographicalRegion-0', 'Terminal-7', 'Terminal-28', 'Terminal-15', 'Substation-4', 'Terminal-57', 'Terminal-38', 'Terminal-51', 'Terminal-45', 'Terminal-31', 'Terminal-1', 'SubGeographicalRegion-3', 'GeographicalRegion-3', 'Substation-0', 'GeographicalRegion-4', 'Terminal-0', 'Terminal-34', 'Terminal-42', 'Terminal-39', 'Terminal-44', 'Terminal-2', 'Terminal-37', 'Terminal-8', 'Terminal-4', 'Terminal-27', 'SubGeographicalRegion-6', 'Terminal-24', 'SubGeographicalRegion-4', 'SubGeographicalRegion-2', 'Terminal-58', 'Terminal-40', 'SubGeographicalRegion-9', 'Terminal-29', 'GeographicalRegion-1', 'Terminal-9', 'Terminal-19', 'SubGeographicalRegion-8', 'Terminal-22', 'Substation-16', 'Terminal-33', 'Terminal-30', 'Substation-2', 'Substation-1', 'Terminal-5'}, which are missing in CDF.Relationships will not be created for assets that are missing in CDF.Please make sure that all assets are present in CDF before creating relationships.\n"
     ]
    },
    {
     "name": "stdout",
     "output_type": "stream",
     "text": [
      "Category create          has 46 relationships\n",
      "Category resurrect       has  0 relationships\n",
      "Category decommission    has  0 relationships\n"
     ]
    }
   ],
   "source": [
    "candidate_relationships = rdf2relationships(graph_store, transformation_rules)\n",
    "\n",
    "\n",
    "categorized_relationships = categorize_relationships(client, \n",
    "                                                     candidate_relationships, \n",
    "                                                     transformation_rules.metadata.data_set_id)\n",
    "\n",
    "\n",
    "for cat in categorized_relationships:\n",
    "    print(f\"Category {cat:15} has {len(categorized_relationships[cat]):2} relationships\")"
   ]
  },
  {
   "cell_type": "code",
   "execution_count": 16,
   "metadata": {
    "tags": [
     "raises-exception"
    ]
   },
   "outputs": [],
   "source": [
    "upload_relationships(client, categorized_relationships, batch_size=1000)"
   ]
  },
  {
   "attachments": {},
   "cell_type": "markdown",
   "metadata": {},
   "source": [
    "Let's inspect relationships that are created for one of the objects:\n",
    "\n",
    "<video src=\"../../videos/tutorial-3-relationships.mp4\" controls>\n",
    "</video>\n",
    "\n",
    "\n",
    "Similarly to rerunning categorization of assets, we can rerun categorization of relationships and see that no new relationships are created, decommissioned or updated:"
   ]
  },
  {
   "cell_type": "code",
   "execution_count": 17,
   "metadata": {
    "tags": [
     "raises-exception"
    ]
   },
   "outputs": [
    {
     "name": "stdout",
     "output_type": "stream",
     "text": [
      "Category create          has 89 relationships\n",
      "Category resurrect       has  0 relationships\n",
      "Category decommission    has  0 relationships\n"
     ]
    }
   ],
   "source": [
    "categorized_relationships = categorize_relationships(client, \n",
    "                                                     candidate_relationships, \n",
    "                                                     transformation_rules.metadata.data_set_id)\n",
    "\n",
    "\n",
    "for cat in categorized_relationships:\n",
    "    print(f\"Category {cat:15} has {len(categorized_relationships[cat]):2} relationships\")"
   ]
  },
  {
   "attachments": {},
   "cell_type": "markdown",
   "metadata": {},
   "source": [
    "Let's now introduce a change in the RDF graph and see how NEAT will react to given change.\n",
    "Specifically we will:\n",
    "- remove node `Substation-13`\n",
    "- remove relation ship between nodes `Substation-3` and `Terminal-3`\n",
    "\n",
    "This should produce graph with reduced number of nodes and edges, as conceptually depicted below:\n",
    "\n",
    "\n",
    "<img src=\"../../figs/rdf2cdf-graph-change.jpg\"  width=\"50%\" alt=\"RDF2CDF\">\n",
    "\n",
    "RDF graph original state and state after removing certain parts."
   ]
  },
  {
   "cell_type": "code",
   "execution_count": 18,
   "metadata": {},
   "outputs": [
    {
     "data": {
      "text/plain": [
       "<Graph identifier=N33350638c97b47a3a60a7275953ab048 (<class 'rdflib.graph.Graph'>)>"
      ]
     },
     "execution_count": 18,
     "metadata": {},
     "output_type": "execute_result"
    }
   ],
   "source": [
    "\n",
    "# Removes all triples from the graph tied to the Substation-13\n",
    "graph_store.graph.remove((transformation_rules.metadata.namespace[\"Substation-13\"], None, None))\n",
    "\n",
    "\n",
    "# Removes only relationship between SubGeographicalRegion-1 and GeographicalRegion-1\n",
    "graph_store.graph.remove((transformation_rules.metadata.namespace[\"Substation-3\"],\n",
    "                          None, \n",
    "                          transformation_rules.metadata.namespace[\"Terminal-3\"]))"
   ]
  },
  {
   "attachments": {},
   "cell_type": "markdown",
   "metadata": {},
   "source": [
    "Let's repeat the previous process to see if how assets and relationships will change.\n",
    "We are suppose to see following results when comes to assets:\n",
    "\n",
    "- asset `Substation-13` will be decommissioned, unlike RDF graph we never delete assets from CDF graph\n",
    "- asset `Substation-3` will be updated since its metadata field will no longer have field `Substation.Terminal` since we removed this relationship from RDF graph"
   ]
  },
  {
   "cell_type": "code",
   "execution_count": 19,
   "metadata": {
    "tags": [
     "raises-exception"
    ]
   },
   "outputs": [
    {
     "name": "stderr",
     "output_type": "stream",
     "text": [
      "ERROR:root:Error while loading instances of class <http://purl.org/cognite/tnt#Orphanage> into cache. Reason: 'instance'\n"
     ]
    },
    {
     "name": "stderr",
     "output_type": "stream",
     "text": [
      "WARNING:root:Orphanage with external id orphanage-6673116778101699 not found in asset hierarchy!\n",
      "WARNING:root:Adding default orphanage with external id orphanage-6673116778101699\n"
     ]
    },
    {
     "name": "stdout",
     "output_type": "stream",
     "text": [
      "--------------------------------------------\n",
      "Category create          has  0 assets\n",
      "Category update          has  1 assets\n",
      "Category resurrect       has  0 assets\n",
      "Category decommission    has  1 assets\n",
      "--------------------------------------------\n",
      "Asset to decommission Substation-13\n",
      "Asset to update Substation-3\n"
     ]
    }
   ],
   "source": [
    "candidate_assets = rdf2assets(graph_store, transformation_rules)\n",
    "\n",
    "categorized_assets = categorize_assets(client, candidate_assets, transformation_rules.metadata.data_set_id)\n",
    "\n",
    "print(44*\"-\")\n",
    "for cat in categorized_assets:\n",
    "    print(f\"Category {cat:15} has {len(categorized_assets[cat]):2} assets\")\n",
    "print(44*\"-\")\n",
    "\n",
    "\n",
    "print(f\"Asset to decommission {categorized_assets['decommission'][0].external_id}\")\n",
    "print(f\"Asset to update {categorized_assets['update'][0].external_id}\")\n",
    "\n",
    "upload_assets(client, categorized_assets, batch_size=1000)"
   ]
  },
  {
   "attachments": {},
   "cell_type": "markdown",
   "metadata": {},
   "source": [
    "When comes to relationships we are suppose to see 7 relationships being decommissioned of which. \n",
    "One being relationship we have explicitly removed from RDF graph, that being `Substation-3` -> `Terminal-3`, while remaining 6 are result of removing `Substation-13`, which are: \n",
    "- `Substation-13` -> `Terminal-53`\n",
    "- `Substation-13` -> `Terminal-33`\n",
    "- `Substation-13` -> `Terminal-13`\n",
    "- `Terminal-53` -> `Substation-13`\n",
    "- `Terminal-33` -> `Substation-13`\n",
    "- `Terminal-13` -> `Substation-13`"
   ]
  },
  {
   "cell_type": "code",
   "execution_count": 20,
   "metadata": {},
   "outputs": [],
   "source": [
    "relationship_data_frame = client.relationships.list(\n",
    "    data_set_ids=transformation_rules.metadata.data_set_id, limit=-1).to_pandas()"
   ]
  },
  {
   "cell_type": "code",
   "execution_count": 21,
   "metadata": {},
   "outputs": [
    {
     "data": {
      "text/html": [
       "<div>\n",
       "<style scoped>\n",
       "    .dataframe tbody tr th:only-of-type {\n",
       "        vertical-align: middle;\n",
       "    }\n",
       "\n",
       "    .dataframe tbody tr th {\n",
       "        vertical-align: top;\n",
       "    }\n",
       "\n",
       "    .dataframe thead th {\n",
       "        text-align: right;\n",
       "    }\n",
       "</style>\n",
       "<table border=\"1\" class=\"dataframe\">\n",
       "  <thead>\n",
       "    <tr style=\"text-align: right;\">\n",
       "      <th></th>\n",
       "      <th>external_id</th>\n",
       "      <th>source_external_id</th>\n",
       "      <th>source_type</th>\n",
       "      <th>target_external_id</th>\n",
       "      <th>target_type</th>\n",
       "      <th>start_time</th>\n",
       "      <th>data_set_id</th>\n",
       "      <th>created_time</th>\n",
       "      <th>last_updated_time</th>\n",
       "      <th>labels</th>\n",
       "    </tr>\n",
       "  </thead>\n",
       "  <tbody>\n",
       "    <tr>\n",
       "      <th>0</th>\n",
       "      <td>GeographicalRegion-2:RootCIMNode-0</td>\n",
       "      <td>GeographicalRegion-2</td>\n",
       "      <td>asset</td>\n",
       "      <td>RootCIMNode-0</td>\n",
       "      <td>asset</td>\n",
       "      <td>1693990945906</td>\n",
       "      <td>6673116778101699</td>\n",
       "      <td>1693990947438</td>\n",
       "      <td>1693990947438</td>\n",
       "      <td>[{'externalId': 'belongsTo'}, {'externalId': '...</td>\n",
       "    </tr>\n",
       "    <tr>\n",
       "      <th>1</th>\n",
       "      <td>SubGeographicalRegion-7:GeographicalRegion-2</td>\n",
       "      <td>SubGeographicalRegion-7</td>\n",
       "      <td>asset</td>\n",
       "      <td>GeographicalRegion-2</td>\n",
       "      <td>asset</td>\n",
       "      <td>1693990945906</td>\n",
       "      <td>6673116778101699</td>\n",
       "      <td>1693990947438</td>\n",
       "      <td>1693990947438</td>\n",
       "      <td>[{'externalId': 'belongsTo'}, {'externalId': '...</td>\n",
       "    </tr>\n",
       "    <tr>\n",
       "      <th>2</th>\n",
       "      <td>Substation-3:Terminal-3</td>\n",
       "      <td>Substation-3</td>\n",
       "      <td>asset</td>\n",
       "      <td>Terminal-3</td>\n",
       "      <td>asset</td>\n",
       "      <td>1693990945906</td>\n",
       "      <td>6673116778101699</td>\n",
       "      <td>1693990947438</td>\n",
       "      <td>1693990947438</td>\n",
       "      <td>[{'externalId': 'connectsTo'}, {'externalId': ...</td>\n",
       "    </tr>\n",
       "    <tr>\n",
       "      <th>3</th>\n",
       "      <td>Substation-3:Terminal-23</td>\n",
       "      <td>Substation-3</td>\n",
       "      <td>asset</td>\n",
       "      <td>Terminal-23</td>\n",
       "      <td>asset</td>\n",
       "      <td>1693990945906</td>\n",
       "      <td>6673116778101699</td>\n",
       "      <td>1693990947438</td>\n",
       "      <td>1693990947438</td>\n",
       "      <td>[{'externalId': 'connectsTo'}, {'externalId': ...</td>\n",
       "    </tr>\n",
       "    <tr>\n",
       "      <th>4</th>\n",
       "      <td>Substation-3:Terminal-43</td>\n",
       "      <td>Substation-3</td>\n",
       "      <td>asset</td>\n",
       "      <td>Terminal-43</td>\n",
       "      <td>asset</td>\n",
       "      <td>1693990945906</td>\n",
       "      <td>6673116778101699</td>\n",
       "      <td>1693990947438</td>\n",
       "      <td>1693990947438</td>\n",
       "      <td>[{'externalId': 'connectsTo'}, {'externalId': ...</td>\n",
       "    </tr>\n",
       "    <tr>\n",
       "      <th>5</th>\n",
       "      <td>Substation-5:Terminal-25</td>\n",
       "      <td>Substation-5</td>\n",
       "      <td>asset</td>\n",
       "      <td>Terminal-25</td>\n",
       "      <td>asset</td>\n",
       "      <td>1693990945906</td>\n",
       "      <td>6673116778101699</td>\n",
       "      <td>1693990947438</td>\n",
       "      <td>1693990947438</td>\n",
       "      <td>[{'externalId': 'connectsTo'}, {'externalId': ...</td>\n",
       "    </tr>\n",
       "    <tr>\n",
       "      <th>6</th>\n",
       "      <td>Substation-6:Terminal-6</td>\n",
       "      <td>Substation-6</td>\n",
       "      <td>asset</td>\n",
       "      <td>Terminal-6</td>\n",
       "      <td>asset</td>\n",
       "      <td>1693990945906</td>\n",
       "      <td>6673116778101699</td>\n",
       "      <td>1693990947438</td>\n",
       "      <td>1693990947438</td>\n",
       "      <td>[{'externalId': 'connectsTo'}, {'externalId': ...</td>\n",
       "    </tr>\n",
       "    <tr>\n",
       "      <th>7</th>\n",
       "      <td>Substation-6:Terminal-26</td>\n",
       "      <td>Substation-6</td>\n",
       "      <td>asset</td>\n",
       "      <td>Terminal-26</td>\n",
       "      <td>asset</td>\n",
       "      <td>1693990945906</td>\n",
       "      <td>6673116778101699</td>\n",
       "      <td>1693990947438</td>\n",
       "      <td>1693990947438</td>\n",
       "      <td>[{'externalId': 'connectsTo'}, {'externalId': ...</td>\n",
       "    </tr>\n",
       "    <tr>\n",
       "      <th>8</th>\n",
       "      <td>Substation-6:Terminal-46</td>\n",
       "      <td>Substation-6</td>\n",
       "      <td>asset</td>\n",
       "      <td>Terminal-46</td>\n",
       "      <td>asset</td>\n",
       "      <td>1693990945906</td>\n",
       "      <td>6673116778101699</td>\n",
       "      <td>1693990947438</td>\n",
       "      <td>1693990947438</td>\n",
       "      <td>[{'externalId': 'connectsTo'}, {'externalId': ...</td>\n",
       "    </tr>\n",
       "    <tr>\n",
       "      <th>9</th>\n",
       "      <td>Substation-7:Terminal-47</td>\n",
       "      <td>Substation-7</td>\n",
       "      <td>asset</td>\n",
       "      <td>Terminal-47</td>\n",
       "      <td>asset</td>\n",
       "      <td>1693990945906</td>\n",
       "      <td>6673116778101699</td>\n",
       "      <td>1693990947438</td>\n",
       "      <td>1693990947438</td>\n",
       "      <td>[{'externalId': 'connectsTo'}, {'externalId': ...</td>\n",
       "    </tr>\n",
       "    <tr>\n",
       "      <th>10</th>\n",
       "      <td>Substation-8:Terminal-48</td>\n",
       "      <td>Substation-8</td>\n",
       "      <td>asset</td>\n",
       "      <td>Terminal-48</td>\n",
       "      <td>asset</td>\n",
       "      <td>1693990945906</td>\n",
       "      <td>6673116778101699</td>\n",
       "      <td>1693990947438</td>\n",
       "      <td>1693990947438</td>\n",
       "      <td>[{'externalId': 'connectsTo'}, {'externalId': ...</td>\n",
       "    </tr>\n",
       "    <tr>\n",
       "      <th>11</th>\n",
       "      <td>Substation-9:Terminal-49</td>\n",
       "      <td>Substation-9</td>\n",
       "      <td>asset</td>\n",
       "      <td>Terminal-49</td>\n",
       "      <td>asset</td>\n",
       "      <td>1693990945906</td>\n",
       "      <td>6673116778101699</td>\n",
       "      <td>1693990947438</td>\n",
       "      <td>1693990947438</td>\n",
       "      <td>[{'externalId': 'connectsTo'}, {'externalId': ...</td>\n",
       "    </tr>\n",
       "    <tr>\n",
       "      <th>12</th>\n",
       "      <td>Substation-10:Terminal-10</td>\n",
       "      <td>Substation-10</td>\n",
       "      <td>asset</td>\n",
       "      <td>Terminal-10</td>\n",
       "      <td>asset</td>\n",
       "      <td>1693990945906</td>\n",
       "      <td>6673116778101699</td>\n",
       "      <td>1693990947438</td>\n",
       "      <td>1693990947438</td>\n",
       "      <td>[{'externalId': 'connectsTo'}, {'externalId': ...</td>\n",
       "    </tr>\n",
       "    <tr>\n",
       "      <th>13</th>\n",
       "      <td>Substation-10:Terminal-50</td>\n",
       "      <td>Substation-10</td>\n",
       "      <td>asset</td>\n",
       "      <td>Terminal-50</td>\n",
       "      <td>asset</td>\n",
       "      <td>1693990945906</td>\n",
       "      <td>6673116778101699</td>\n",
       "      <td>1693990947438</td>\n",
       "      <td>1693990947438</td>\n",
       "      <td>[{'externalId': 'connectsTo'}, {'externalId': ...</td>\n",
       "    </tr>\n",
       "    <tr>\n",
       "      <th>14</th>\n",
       "      <td>Substation-11:Terminal-11</td>\n",
       "      <td>Substation-11</td>\n",
       "      <td>asset</td>\n",
       "      <td>Terminal-11</td>\n",
       "      <td>asset</td>\n",
       "      <td>1693990945906</td>\n",
       "      <td>6673116778101699</td>\n",
       "      <td>1693990947438</td>\n",
       "      <td>1693990947438</td>\n",
       "      <td>[{'externalId': 'connectsTo'}, {'externalId': ...</td>\n",
       "    </tr>\n",
       "    <tr>\n",
       "      <th>15</th>\n",
       "      <td>Substation-12:Terminal-12</td>\n",
       "      <td>Substation-12</td>\n",
       "      <td>asset</td>\n",
       "      <td>Terminal-12</td>\n",
       "      <td>asset</td>\n",
       "      <td>1693990945906</td>\n",
       "      <td>6673116778101699</td>\n",
       "      <td>1693990947438</td>\n",
       "      <td>1693990947438</td>\n",
       "      <td>[{'externalId': 'connectsTo'}, {'externalId': ...</td>\n",
       "    </tr>\n",
       "    <tr>\n",
       "      <th>16</th>\n",
       "      <td>Substation-12:Terminal-32</td>\n",
       "      <td>Substation-12</td>\n",
       "      <td>asset</td>\n",
       "      <td>Terminal-32</td>\n",
       "      <td>asset</td>\n",
       "      <td>1693990945906</td>\n",
       "      <td>6673116778101699</td>\n",
       "      <td>1693990947438</td>\n",
       "      <td>1693990947438</td>\n",
       "      <td>[{'externalId': 'connectsTo'}, {'externalId': ...</td>\n",
       "    </tr>\n",
       "    <tr>\n",
       "      <th>17</th>\n",
       "      <td>Substation-12:Terminal-52</td>\n",
       "      <td>Substation-12</td>\n",
       "      <td>asset</td>\n",
       "      <td>Terminal-52</td>\n",
       "      <td>asset</td>\n",
       "      <td>1693990945906</td>\n",
       "      <td>6673116778101699</td>\n",
       "      <td>1693990947438</td>\n",
       "      <td>1693990947438</td>\n",
       "      <td>[{'externalId': 'connectsTo'}, {'externalId': ...</td>\n",
       "    </tr>\n",
       "    <tr>\n",
       "      <th>18</th>\n",
       "      <td>Substation-13:Terminal-53</td>\n",
       "      <td>Substation-13</td>\n",
       "      <td>asset</td>\n",
       "      <td>Terminal-53</td>\n",
       "      <td>asset</td>\n",
       "      <td>1693990945906</td>\n",
       "      <td>6673116778101699</td>\n",
       "      <td>1693990947438</td>\n",
       "      <td>1693990947438</td>\n",
       "      <td>[{'externalId': 'connectsTo'}, {'externalId': ...</td>\n",
       "    </tr>\n",
       "    <tr>\n",
       "      <th>19</th>\n",
       "      <td>Substation-14:Terminal-14</td>\n",
       "      <td>Substation-14</td>\n",
       "      <td>asset</td>\n",
       "      <td>Terminal-14</td>\n",
       "      <td>asset</td>\n",
       "      <td>1693990945906</td>\n",
       "      <td>6673116778101699</td>\n",
       "      <td>1693990947438</td>\n",
       "      <td>1693990947438</td>\n",
       "      <td>[{'externalId': 'connectsTo'}, {'externalId': ...</td>\n",
       "    </tr>\n",
       "    <tr>\n",
       "      <th>20</th>\n",
       "      <td>Substation-14:Terminal-54</td>\n",
       "      <td>Substation-14</td>\n",
       "      <td>asset</td>\n",
       "      <td>Terminal-54</td>\n",
       "      <td>asset</td>\n",
       "      <td>1693990945906</td>\n",
       "      <td>6673116778101699</td>\n",
       "      <td>1693990947438</td>\n",
       "      <td>1693990947438</td>\n",
       "      <td>[{'externalId': 'connectsTo'}, {'externalId': ...</td>\n",
       "    </tr>\n",
       "    <tr>\n",
       "      <th>21</th>\n",
       "      <td>Substation-15:Terminal-35</td>\n",
       "      <td>Substation-15</td>\n",
       "      <td>asset</td>\n",
       "      <td>Terminal-35</td>\n",
       "      <td>asset</td>\n",
       "      <td>1693990945906</td>\n",
       "      <td>6673116778101699</td>\n",
       "      <td>1693990947438</td>\n",
       "      <td>1693990947438</td>\n",
       "      <td>[{'externalId': 'connectsTo'}, {'externalId': ...</td>\n",
       "    </tr>\n",
       "    <tr>\n",
       "      <th>22</th>\n",
       "      <td>Substation-15:Terminal-55</td>\n",
       "      <td>Substation-15</td>\n",
       "      <td>asset</td>\n",
       "      <td>Terminal-55</td>\n",
       "      <td>asset</td>\n",
       "      <td>1693990945906</td>\n",
       "      <td>6673116778101699</td>\n",
       "      <td>1693990947438</td>\n",
       "      <td>1693990947438</td>\n",
       "      <td>[{'externalId': 'connectsTo'}, {'externalId': ...</td>\n",
       "    </tr>\n",
       "    <tr>\n",
       "      <th>23</th>\n",
       "      <td>Substation-19:Terminal-59</td>\n",
       "      <td>Substation-19</td>\n",
       "      <td>asset</td>\n",
       "      <td>Terminal-59</td>\n",
       "      <td>asset</td>\n",
       "      <td>1693990945906</td>\n",
       "      <td>6673116778101699</td>\n",
       "      <td>1693990947438</td>\n",
       "      <td>1693990947438</td>\n",
       "      <td>[{'externalId': 'connectsTo'}, {'externalId': ...</td>\n",
       "    </tr>\n",
       "    <tr>\n",
       "      <th>24</th>\n",
       "      <td>Terminal-3:Substation-3</td>\n",
       "      <td>Terminal-3</td>\n",
       "      <td>asset</td>\n",
       "      <td>Substation-3</td>\n",
       "      <td>asset</td>\n",
       "      <td>1693990945906</td>\n",
       "      <td>6673116778101699</td>\n",
       "      <td>1693990947438</td>\n",
       "      <td>1693990947438</td>\n",
       "      <td>[{'externalId': 'belongsTo'}, {'externalId': '...</td>\n",
       "    </tr>\n",
       "    <tr>\n",
       "      <th>25</th>\n",
       "      <td>Terminal-6:Substation-6</td>\n",
       "      <td>Terminal-6</td>\n",
       "      <td>asset</td>\n",
       "      <td>Substation-6</td>\n",
       "      <td>asset</td>\n",
       "      <td>1693990945906</td>\n",
       "      <td>6673116778101699</td>\n",
       "      <td>1693990947438</td>\n",
       "      <td>1693990947438</td>\n",
       "      <td>[{'externalId': 'belongsTo'}, {'externalId': '...</td>\n",
       "    </tr>\n",
       "    <tr>\n",
       "      <th>26</th>\n",
       "      <td>Terminal-10:Substation-10</td>\n",
       "      <td>Terminal-10</td>\n",
       "      <td>asset</td>\n",
       "      <td>Substation-10</td>\n",
       "      <td>asset</td>\n",
       "      <td>1693990945906</td>\n",
       "      <td>6673116778101699</td>\n",
       "      <td>1693990947438</td>\n",
       "      <td>1693990947438</td>\n",
       "      <td>[{'externalId': 'belongsTo'}, {'externalId': '...</td>\n",
       "    </tr>\n",
       "    <tr>\n",
       "      <th>27</th>\n",
       "      <td>Terminal-11:Substation-11</td>\n",
       "      <td>Terminal-11</td>\n",
       "      <td>asset</td>\n",
       "      <td>Substation-11</td>\n",
       "      <td>asset</td>\n",
       "      <td>1693990945906</td>\n",
       "      <td>6673116778101699</td>\n",
       "      <td>1693990947438</td>\n",
       "      <td>1693990947438</td>\n",
       "      <td>[{'externalId': 'belongsTo'}, {'externalId': '...</td>\n",
       "    </tr>\n",
       "    <tr>\n",
       "      <th>28</th>\n",
       "      <td>Terminal-12:Substation-12</td>\n",
       "      <td>Terminal-12</td>\n",
       "      <td>asset</td>\n",
       "      <td>Substation-12</td>\n",
       "      <td>asset</td>\n",
       "      <td>1693990945906</td>\n",
       "      <td>6673116778101699</td>\n",
       "      <td>1693990947438</td>\n",
       "      <td>1693990947438</td>\n",
       "      <td>[{'externalId': 'belongsTo'}, {'externalId': '...</td>\n",
       "    </tr>\n",
       "    <tr>\n",
       "      <th>29</th>\n",
       "      <td>Terminal-14:Substation-14</td>\n",
       "      <td>Terminal-14</td>\n",
       "      <td>asset</td>\n",
       "      <td>Substation-14</td>\n",
       "      <td>asset</td>\n",
       "      <td>1693990945906</td>\n",
       "      <td>6673116778101699</td>\n",
       "      <td>1693990947438</td>\n",
       "      <td>1693990947438</td>\n",
       "      <td>[{'externalId': 'belongsTo'}, {'externalId': '...</td>\n",
       "    </tr>\n",
       "    <tr>\n",
       "      <th>30</th>\n",
       "      <td>Terminal-23:Substation-3</td>\n",
       "      <td>Terminal-23</td>\n",
       "      <td>asset</td>\n",
       "      <td>Substation-3</td>\n",
       "      <td>asset</td>\n",
       "      <td>1693990945906</td>\n",
       "      <td>6673116778101699</td>\n",
       "      <td>1693990947438</td>\n",
       "      <td>1693990947438</td>\n",
       "      <td>[{'externalId': 'belongsTo'}, {'externalId': '...</td>\n",
       "    </tr>\n",
       "    <tr>\n",
       "      <th>31</th>\n",
       "      <td>Terminal-25:Substation-5</td>\n",
       "      <td>Terminal-25</td>\n",
       "      <td>asset</td>\n",
       "      <td>Substation-5</td>\n",
       "      <td>asset</td>\n",
       "      <td>1693990945906</td>\n",
       "      <td>6673116778101699</td>\n",
       "      <td>1693990947438</td>\n",
       "      <td>1693990947438</td>\n",
       "      <td>[{'externalId': 'belongsTo'}, {'externalId': '...</td>\n",
       "    </tr>\n",
       "    <tr>\n",
       "      <th>32</th>\n",
       "      <td>Terminal-26:Substation-6</td>\n",
       "      <td>Terminal-26</td>\n",
       "      <td>asset</td>\n",
       "      <td>Substation-6</td>\n",
       "      <td>asset</td>\n",
       "      <td>1693990945906</td>\n",
       "      <td>6673116778101699</td>\n",
       "      <td>1693990947438</td>\n",
       "      <td>1693990947438</td>\n",
       "      <td>[{'externalId': 'belongsTo'}, {'externalId': '...</td>\n",
       "    </tr>\n",
       "    <tr>\n",
       "      <th>33</th>\n",
       "      <td>Terminal-32:Substation-12</td>\n",
       "      <td>Terminal-32</td>\n",
       "      <td>asset</td>\n",
       "      <td>Substation-12</td>\n",
       "      <td>asset</td>\n",
       "      <td>1693990945906</td>\n",
       "      <td>6673116778101699</td>\n",
       "      <td>1693990947438</td>\n",
       "      <td>1693990947438</td>\n",
       "      <td>[{'externalId': 'belongsTo'}, {'externalId': '...</td>\n",
       "    </tr>\n",
       "    <tr>\n",
       "      <th>34</th>\n",
       "      <td>Terminal-35:Substation-15</td>\n",
       "      <td>Terminal-35</td>\n",
       "      <td>asset</td>\n",
       "      <td>Substation-15</td>\n",
       "      <td>asset</td>\n",
       "      <td>1693990945906</td>\n",
       "      <td>6673116778101699</td>\n",
       "      <td>1693990947438</td>\n",
       "      <td>1693990947438</td>\n",
       "      <td>[{'externalId': 'belongsTo'}, {'externalId': '...</td>\n",
       "    </tr>\n",
       "    <tr>\n",
       "      <th>35</th>\n",
       "      <td>Terminal-43:Substation-3</td>\n",
       "      <td>Terminal-43</td>\n",
       "      <td>asset</td>\n",
       "      <td>Substation-3</td>\n",
       "      <td>asset</td>\n",
       "      <td>1693990945906</td>\n",
       "      <td>6673116778101699</td>\n",
       "      <td>1693990947438</td>\n",
       "      <td>1693990947438</td>\n",
       "      <td>[{'externalId': 'belongsTo'}, {'externalId': '...</td>\n",
       "    </tr>\n",
       "    <tr>\n",
       "      <th>36</th>\n",
       "      <td>Terminal-46:Substation-6</td>\n",
       "      <td>Terminal-46</td>\n",
       "      <td>asset</td>\n",
       "      <td>Substation-6</td>\n",
       "      <td>asset</td>\n",
       "      <td>1693990945906</td>\n",
       "      <td>6673116778101699</td>\n",
       "      <td>1693990947438</td>\n",
       "      <td>1693990947438</td>\n",
       "      <td>[{'externalId': 'belongsTo'}, {'externalId': '...</td>\n",
       "    </tr>\n",
       "    <tr>\n",
       "      <th>37</th>\n",
       "      <td>Terminal-47:Substation-7</td>\n",
       "      <td>Terminal-47</td>\n",
       "      <td>asset</td>\n",
       "      <td>Substation-7</td>\n",
       "      <td>asset</td>\n",
       "      <td>1693990945906</td>\n",
       "      <td>6673116778101699</td>\n",
       "      <td>1693990947438</td>\n",
       "      <td>1693990947438</td>\n",
       "      <td>[{'externalId': 'belongsTo'}, {'externalId': '...</td>\n",
       "    </tr>\n",
       "    <tr>\n",
       "      <th>38</th>\n",
       "      <td>Terminal-48:Substation-8</td>\n",
       "      <td>Terminal-48</td>\n",
       "      <td>asset</td>\n",
       "      <td>Substation-8</td>\n",
       "      <td>asset</td>\n",
       "      <td>1693990945906</td>\n",
       "      <td>6673116778101699</td>\n",
       "      <td>1693990947438</td>\n",
       "      <td>1693990947438</td>\n",
       "      <td>[{'externalId': 'belongsTo'}, {'externalId': '...</td>\n",
       "    </tr>\n",
       "    <tr>\n",
       "      <th>39</th>\n",
       "      <td>Terminal-49:Substation-9</td>\n",
       "      <td>Terminal-49</td>\n",
       "      <td>asset</td>\n",
       "      <td>Substation-9</td>\n",
       "      <td>asset</td>\n",
       "      <td>1693990945906</td>\n",
       "      <td>6673116778101699</td>\n",
       "      <td>1693990947438</td>\n",
       "      <td>1693990947438</td>\n",
       "      <td>[{'externalId': 'belongsTo'}, {'externalId': '...</td>\n",
       "    </tr>\n",
       "    <tr>\n",
       "      <th>40</th>\n",
       "      <td>Terminal-50:Substation-10</td>\n",
       "      <td>Terminal-50</td>\n",
       "      <td>asset</td>\n",
       "      <td>Substation-10</td>\n",
       "      <td>asset</td>\n",
       "      <td>1693990945906</td>\n",
       "      <td>6673116778101699</td>\n",
       "      <td>1693990947438</td>\n",
       "      <td>1693990947438</td>\n",
       "      <td>[{'externalId': 'belongsTo'}, {'externalId': '...</td>\n",
       "    </tr>\n",
       "    <tr>\n",
       "      <th>41</th>\n",
       "      <td>Terminal-52:Substation-12</td>\n",
       "      <td>Terminal-52</td>\n",
       "      <td>asset</td>\n",
       "      <td>Substation-12</td>\n",
       "      <td>asset</td>\n",
       "      <td>1693990945906</td>\n",
       "      <td>6673116778101699</td>\n",
       "      <td>1693990947438</td>\n",
       "      <td>1693990947438</td>\n",
       "      <td>[{'externalId': 'belongsTo'}, {'externalId': '...</td>\n",
       "    </tr>\n",
       "    <tr>\n",
       "      <th>42</th>\n",
       "      <td>Terminal-53:Substation-13</td>\n",
       "      <td>Terminal-53</td>\n",
       "      <td>asset</td>\n",
       "      <td>Substation-13</td>\n",
       "      <td>asset</td>\n",
       "      <td>1693990945906</td>\n",
       "      <td>6673116778101699</td>\n",
       "      <td>1693990947438</td>\n",
       "      <td>1693990947438</td>\n",
       "      <td>[{'externalId': 'belongsTo'}, {'externalId': '...</td>\n",
       "    </tr>\n",
       "    <tr>\n",
       "      <th>43</th>\n",
       "      <td>Terminal-54:Substation-14</td>\n",
       "      <td>Terminal-54</td>\n",
       "      <td>asset</td>\n",
       "      <td>Substation-14</td>\n",
       "      <td>asset</td>\n",
       "      <td>1693990945906</td>\n",
       "      <td>6673116778101699</td>\n",
       "      <td>1693990947438</td>\n",
       "      <td>1693990947438</td>\n",
       "      <td>[{'externalId': 'belongsTo'}, {'externalId': '...</td>\n",
       "    </tr>\n",
       "    <tr>\n",
       "      <th>44</th>\n",
       "      <td>Terminal-55:Substation-15</td>\n",
       "      <td>Terminal-55</td>\n",
       "      <td>asset</td>\n",
       "      <td>Substation-15</td>\n",
       "      <td>asset</td>\n",
       "      <td>1693990945906</td>\n",
       "      <td>6673116778101699</td>\n",
       "      <td>1693990947438</td>\n",
       "      <td>1693990947438</td>\n",
       "      <td>[{'externalId': 'belongsTo'}, {'externalId': '...</td>\n",
       "    </tr>\n",
       "    <tr>\n",
       "      <th>45</th>\n",
       "      <td>Terminal-59:Substation-19</td>\n",
       "      <td>Terminal-59</td>\n",
       "      <td>asset</td>\n",
       "      <td>Substation-19</td>\n",
       "      <td>asset</td>\n",
       "      <td>1693990945906</td>\n",
       "      <td>6673116778101699</td>\n",
       "      <td>1693990947438</td>\n",
       "      <td>1693990947438</td>\n",
       "      <td>[{'externalId': 'belongsTo'}, {'externalId': '...</td>\n",
       "    </tr>\n",
       "  </tbody>\n",
       "</table>\n",
       "</div>"
      ],
      "text/plain": [
       "                                     external_id       source_external_id  \\\n",
       "0             GeographicalRegion-2:RootCIMNode-0     GeographicalRegion-2   \n",
       "1   SubGeographicalRegion-7:GeographicalRegion-2  SubGeographicalRegion-7   \n",
       "2                        Substation-3:Terminal-3             Substation-3   \n",
       "3                       Substation-3:Terminal-23             Substation-3   \n",
       "4                       Substation-3:Terminal-43             Substation-3   \n",
       "5                       Substation-5:Terminal-25             Substation-5   \n",
       "6                        Substation-6:Terminal-6             Substation-6   \n",
       "7                       Substation-6:Terminal-26             Substation-6   \n",
       "8                       Substation-6:Terminal-46             Substation-6   \n",
       "9                       Substation-7:Terminal-47             Substation-7   \n",
       "10                      Substation-8:Terminal-48             Substation-8   \n",
       "11                      Substation-9:Terminal-49             Substation-9   \n",
       "12                     Substation-10:Terminal-10            Substation-10   \n",
       "13                     Substation-10:Terminal-50            Substation-10   \n",
       "14                     Substation-11:Terminal-11            Substation-11   \n",
       "15                     Substation-12:Terminal-12            Substation-12   \n",
       "16                     Substation-12:Terminal-32            Substation-12   \n",
       "17                     Substation-12:Terminal-52            Substation-12   \n",
       "18                     Substation-13:Terminal-53            Substation-13   \n",
       "19                     Substation-14:Terminal-14            Substation-14   \n",
       "20                     Substation-14:Terminal-54            Substation-14   \n",
       "21                     Substation-15:Terminal-35            Substation-15   \n",
       "22                     Substation-15:Terminal-55            Substation-15   \n",
       "23                     Substation-19:Terminal-59            Substation-19   \n",
       "24                       Terminal-3:Substation-3               Terminal-3   \n",
       "25                       Terminal-6:Substation-6               Terminal-6   \n",
       "26                     Terminal-10:Substation-10              Terminal-10   \n",
       "27                     Terminal-11:Substation-11              Terminal-11   \n",
       "28                     Terminal-12:Substation-12              Terminal-12   \n",
       "29                     Terminal-14:Substation-14              Terminal-14   \n",
       "30                      Terminal-23:Substation-3              Terminal-23   \n",
       "31                      Terminal-25:Substation-5              Terminal-25   \n",
       "32                      Terminal-26:Substation-6              Terminal-26   \n",
       "33                     Terminal-32:Substation-12              Terminal-32   \n",
       "34                     Terminal-35:Substation-15              Terminal-35   \n",
       "35                      Terminal-43:Substation-3              Terminal-43   \n",
       "36                      Terminal-46:Substation-6              Terminal-46   \n",
       "37                      Terminal-47:Substation-7              Terminal-47   \n",
       "38                      Terminal-48:Substation-8              Terminal-48   \n",
       "39                      Terminal-49:Substation-9              Terminal-49   \n",
       "40                     Terminal-50:Substation-10              Terminal-50   \n",
       "41                     Terminal-52:Substation-12              Terminal-52   \n",
       "42                     Terminal-53:Substation-13              Terminal-53   \n",
       "43                     Terminal-54:Substation-14              Terminal-54   \n",
       "44                     Terminal-55:Substation-15              Terminal-55   \n",
       "45                     Terminal-59:Substation-19              Terminal-59   \n",
       "\n",
       "   source_type    target_external_id target_type     start_time  \\\n",
       "0        asset         RootCIMNode-0       asset  1693990945906   \n",
       "1        asset  GeographicalRegion-2       asset  1693990945906   \n",
       "2        asset            Terminal-3       asset  1693990945906   \n",
       "3        asset           Terminal-23       asset  1693990945906   \n",
       "4        asset           Terminal-43       asset  1693990945906   \n",
       "5        asset           Terminal-25       asset  1693990945906   \n",
       "6        asset            Terminal-6       asset  1693990945906   \n",
       "7        asset           Terminal-26       asset  1693990945906   \n",
       "8        asset           Terminal-46       asset  1693990945906   \n",
       "9        asset           Terminal-47       asset  1693990945906   \n",
       "10       asset           Terminal-48       asset  1693990945906   \n",
       "11       asset           Terminal-49       asset  1693990945906   \n",
       "12       asset           Terminal-10       asset  1693990945906   \n",
       "13       asset           Terminal-50       asset  1693990945906   \n",
       "14       asset           Terminal-11       asset  1693990945906   \n",
       "15       asset           Terminal-12       asset  1693990945906   \n",
       "16       asset           Terminal-32       asset  1693990945906   \n",
       "17       asset           Terminal-52       asset  1693990945906   \n",
       "18       asset           Terminal-53       asset  1693990945906   \n",
       "19       asset           Terminal-14       asset  1693990945906   \n",
       "20       asset           Terminal-54       asset  1693990945906   \n",
       "21       asset           Terminal-35       asset  1693990945906   \n",
       "22       asset           Terminal-55       asset  1693990945906   \n",
       "23       asset           Terminal-59       asset  1693990945906   \n",
       "24       asset          Substation-3       asset  1693990945906   \n",
       "25       asset          Substation-6       asset  1693990945906   \n",
       "26       asset         Substation-10       asset  1693990945906   \n",
       "27       asset         Substation-11       asset  1693990945906   \n",
       "28       asset         Substation-12       asset  1693990945906   \n",
       "29       asset         Substation-14       asset  1693990945906   \n",
       "30       asset          Substation-3       asset  1693990945906   \n",
       "31       asset          Substation-5       asset  1693990945906   \n",
       "32       asset          Substation-6       asset  1693990945906   \n",
       "33       asset         Substation-12       asset  1693990945906   \n",
       "34       asset         Substation-15       asset  1693990945906   \n",
       "35       asset          Substation-3       asset  1693990945906   \n",
       "36       asset          Substation-6       asset  1693990945906   \n",
       "37       asset          Substation-7       asset  1693990945906   \n",
       "38       asset          Substation-8       asset  1693990945906   \n",
       "39       asset          Substation-9       asset  1693990945906   \n",
       "40       asset         Substation-10       asset  1693990945906   \n",
       "41       asset         Substation-12       asset  1693990945906   \n",
       "42       asset         Substation-13       asset  1693990945906   \n",
       "43       asset         Substation-14       asset  1693990945906   \n",
       "44       asset         Substation-15       asset  1693990945906   \n",
       "45       asset         Substation-19       asset  1693990945906   \n",
       "\n",
       "         data_set_id   created_time  last_updated_time  \\\n",
       "0   6673116778101699  1693990947438      1693990947438   \n",
       "1   6673116778101699  1693990947438      1693990947438   \n",
       "2   6673116778101699  1693990947438      1693990947438   \n",
       "3   6673116778101699  1693990947438      1693990947438   \n",
       "4   6673116778101699  1693990947438      1693990947438   \n",
       "5   6673116778101699  1693990947438      1693990947438   \n",
       "6   6673116778101699  1693990947438      1693990947438   \n",
       "7   6673116778101699  1693990947438      1693990947438   \n",
       "8   6673116778101699  1693990947438      1693990947438   \n",
       "9   6673116778101699  1693990947438      1693990947438   \n",
       "10  6673116778101699  1693990947438      1693990947438   \n",
       "11  6673116778101699  1693990947438      1693990947438   \n",
       "12  6673116778101699  1693990947438      1693990947438   \n",
       "13  6673116778101699  1693990947438      1693990947438   \n",
       "14  6673116778101699  1693990947438      1693990947438   \n",
       "15  6673116778101699  1693990947438      1693990947438   \n",
       "16  6673116778101699  1693990947438      1693990947438   \n",
       "17  6673116778101699  1693990947438      1693990947438   \n",
       "18  6673116778101699  1693990947438      1693990947438   \n",
       "19  6673116778101699  1693990947438      1693990947438   \n",
       "20  6673116778101699  1693990947438      1693990947438   \n",
       "21  6673116778101699  1693990947438      1693990947438   \n",
       "22  6673116778101699  1693990947438      1693990947438   \n",
       "23  6673116778101699  1693990947438      1693990947438   \n",
       "24  6673116778101699  1693990947438      1693990947438   \n",
       "25  6673116778101699  1693990947438      1693990947438   \n",
       "26  6673116778101699  1693990947438      1693990947438   \n",
       "27  6673116778101699  1693990947438      1693990947438   \n",
       "28  6673116778101699  1693990947438      1693990947438   \n",
       "29  6673116778101699  1693990947438      1693990947438   \n",
       "30  6673116778101699  1693990947438      1693990947438   \n",
       "31  6673116778101699  1693990947438      1693990947438   \n",
       "32  6673116778101699  1693990947438      1693990947438   \n",
       "33  6673116778101699  1693990947438      1693990947438   \n",
       "34  6673116778101699  1693990947438      1693990947438   \n",
       "35  6673116778101699  1693990947438      1693990947438   \n",
       "36  6673116778101699  1693990947438      1693990947438   \n",
       "37  6673116778101699  1693990947438      1693990947438   \n",
       "38  6673116778101699  1693990947438      1693990947438   \n",
       "39  6673116778101699  1693990947438      1693990947438   \n",
       "40  6673116778101699  1693990947438      1693990947438   \n",
       "41  6673116778101699  1693990947438      1693990947438   \n",
       "42  6673116778101699  1693990947438      1693990947438   \n",
       "43  6673116778101699  1693990947438      1693990947438   \n",
       "44  6673116778101699  1693990947438      1693990947438   \n",
       "45  6673116778101699  1693990947438      1693990947438   \n",
       "\n",
       "                                               labels  \n",
       "0   [{'externalId': 'belongsTo'}, {'externalId': '...  \n",
       "1   [{'externalId': 'belongsTo'}, {'externalId': '...  \n",
       "2   [{'externalId': 'connectsTo'}, {'externalId': ...  \n",
       "3   [{'externalId': 'connectsTo'}, {'externalId': ...  \n",
       "4   [{'externalId': 'connectsTo'}, {'externalId': ...  \n",
       "5   [{'externalId': 'connectsTo'}, {'externalId': ...  \n",
       "6   [{'externalId': 'connectsTo'}, {'externalId': ...  \n",
       "7   [{'externalId': 'connectsTo'}, {'externalId': ...  \n",
       "8   [{'externalId': 'connectsTo'}, {'externalId': ...  \n",
       "9   [{'externalId': 'connectsTo'}, {'externalId': ...  \n",
       "10  [{'externalId': 'connectsTo'}, {'externalId': ...  \n",
       "11  [{'externalId': 'connectsTo'}, {'externalId': ...  \n",
       "12  [{'externalId': 'connectsTo'}, {'externalId': ...  \n",
       "13  [{'externalId': 'connectsTo'}, {'externalId': ...  \n",
       "14  [{'externalId': 'connectsTo'}, {'externalId': ...  \n",
       "15  [{'externalId': 'connectsTo'}, {'externalId': ...  \n",
       "16  [{'externalId': 'connectsTo'}, {'externalId': ...  \n",
       "17  [{'externalId': 'connectsTo'}, {'externalId': ...  \n",
       "18  [{'externalId': 'connectsTo'}, {'externalId': ...  \n",
       "19  [{'externalId': 'connectsTo'}, {'externalId': ...  \n",
       "20  [{'externalId': 'connectsTo'}, {'externalId': ...  \n",
       "21  [{'externalId': 'connectsTo'}, {'externalId': ...  \n",
       "22  [{'externalId': 'connectsTo'}, {'externalId': ...  \n",
       "23  [{'externalId': 'connectsTo'}, {'externalId': ...  \n",
       "24  [{'externalId': 'belongsTo'}, {'externalId': '...  \n",
       "25  [{'externalId': 'belongsTo'}, {'externalId': '...  \n",
       "26  [{'externalId': 'belongsTo'}, {'externalId': '...  \n",
       "27  [{'externalId': 'belongsTo'}, {'externalId': '...  \n",
       "28  [{'externalId': 'belongsTo'}, {'externalId': '...  \n",
       "29  [{'externalId': 'belongsTo'}, {'externalId': '...  \n",
       "30  [{'externalId': 'belongsTo'}, {'externalId': '...  \n",
       "31  [{'externalId': 'belongsTo'}, {'externalId': '...  \n",
       "32  [{'externalId': 'belongsTo'}, {'externalId': '...  \n",
       "33  [{'externalId': 'belongsTo'}, {'externalId': '...  \n",
       "34  [{'externalId': 'belongsTo'}, {'externalId': '...  \n",
       "35  [{'externalId': 'belongsTo'}, {'externalId': '...  \n",
       "36  [{'externalId': 'belongsTo'}, {'externalId': '...  \n",
       "37  [{'externalId': 'belongsTo'}, {'externalId': '...  \n",
       "38  [{'externalId': 'belongsTo'}, {'externalId': '...  \n",
       "39  [{'externalId': 'belongsTo'}, {'externalId': '...  \n",
       "40  [{'externalId': 'belongsTo'}, {'externalId': '...  \n",
       "41  [{'externalId': 'belongsTo'}, {'externalId': '...  \n",
       "42  [{'externalId': 'belongsTo'}, {'externalId': '...  \n",
       "43  [{'externalId': 'belongsTo'}, {'externalId': '...  \n",
       "44  [{'externalId': 'belongsTo'}, {'externalId': '...  \n",
       "45  [{'externalId': 'belongsTo'}, {'externalId': '...  "
      ]
     },
     "execution_count": 21,
     "metadata": {},
     "output_type": "execute_result"
    }
   ],
   "source": [
    "relationship_data_frame"
   ]
  },
  {
   "cell_type": "code",
   "execution_count": 22,
   "metadata": {
    "tags": [
     "raises-exception"
    ]
   },
   "outputs": [
    {
     "name": "stdout",
     "output_type": "stream",
     "text": [
      "--------------------------------------------\n",
      "Category create          has 85 relationships\n",
      "Category resurrect       has  0 relationships\n",
      "Category decommission    has  3 relationships\n",
      "--------------------------------------------\n",
      "Relationship to decommission: Terminal-53:Substation-13\n",
      "Relationship to decommission: Substation-13:Terminal-53\n",
      "Relationship to decommission: Substation-3:Terminal-3\n"
     ]
    }
   ],
   "source": [
    "candidate_relationships = rdf2relationships(graph_store, transformation_rules)\n",
    "\n",
    "\n",
    "categorized_relationships = categorize_relationships(client, \n",
    "                                                     candidate_relationships, \n",
    "                                                     transformation_rules.metadata.data_set_id)\n",
    "\n",
    "print(44*\"-\")\n",
    "for cat in categorized_relationships:\n",
    "    print(f\"Category {cat:15} has {len(categorized_relationships[cat]):2} relationships\")\n",
    "print(44*\"-\")\n",
    "    \n",
    "for relationship in categorized_relationships[\"decommission\"]:\n",
    "    print(f\"Relationship to decommission: {relationship._external_id}\")\n",
    "    \n",
    "    \n",
    "upload_relationships(client, categorized_relationships, batch_size=1000)"
   ]
  },
  {
   "attachments": {},
   "cell_type": "markdown",
   "metadata": {},
   "source": [
    "Accordingly we will see that assets and associated relationships have been decommissioned in CDF as shown in video below:\n",
    "\n",
    "<video src=\"../../videos/tutorial-3-decommissioning.mp4\" controls>\n",
    "</video>\n",
    "\n"
   ]
  },
  {
   "attachments": {},
   "cell_type": "markdown",
   "metadata": {},
   "source": [
    "The entire process of updating CDF graph is shown below. As demonstrated through code as well in video above, what happens is that at core level NEAT performs set operation between RDF and CDF graphs. Specifically, first it find difference in number of nodes (i.e. assets) between CDF and RDF graphs, which identifies which nodes are to be decommissioned (yellow dots). Afterwards it find difference in relationships (i.e., edges) between these two graphs, thus identifying and decommissioning relationships (curved yellow lines). It is important to remember that NEAT never deletes asset or relationship but decommissioned them."
   ]
  },
  {
   "attachments": {},
   "cell_type": "markdown",
   "metadata": {},
   "source": [
    "<img src=\"../../figs/rdf2cdf-post-init.jpg\"  width=\"100%\" alt=\"RDF2CDF\">"
   ]
  },
  {
   "attachments": {},
   "cell_type": "markdown",
   "metadata": {},
   "source": [
    "We can repeat the same process but now bringing back removed node and relationships, thus \"resurrecting\" decommissioned asset and relationships.\n",
    "This is depicted in the figure below.\n",
    "\n",
    "<img src=\"../../figs/rdf2cdf-graph-resurrect.jpg\"  width=\"100%\" alt=\"RDF2CDF\">\n",
    "\n",
    "To do this we will add removed triples back:"
   ]
  },
  {
   "cell_type": "code",
   "execution_count": 23,
   "metadata": {},
   "outputs": [],
   "source": [
    "add_triples(graph_store, mock_triples)"
   ]
  },
  {
   "cell_type": "code",
   "execution_count": 24,
   "metadata": {
    "tags": [
     "raises-exception"
    ]
   },
   "outputs": [
    {
     "name": "stderr",
     "output_type": "stream",
     "text": [
      "ERROR:root:Error while loading instances of class <http://purl.org/cognite/tnt#Orphanage> into cache. Reason: 'instance'\n"
     ]
    },
    {
     "name": "stderr",
     "output_type": "stream",
     "text": [
      "WARNING:root:Orphanage with external id orphanage-6673116778101699 not found in asset hierarchy!\n",
      "WARNING:root:Adding default orphanage with external id orphanage-6673116778101699\n"
     ]
    },
    {
     "name": "stdout",
     "output_type": "stream",
     "text": [
      "--------------------------------------------\n",
      "Category create          has  0 assets\n",
      "Category update          has  1 assets\n",
      "Category resurrect       has  1 assets\n",
      "Category decommission    has  0 assets\n",
      "--------------------------------------------\n",
      "Asset to resurrect Substation-13\n",
      "Asset to update Substation-3\n"
     ]
    }
   ],
   "source": [
    "candidate_assets = rdf2assets(graph_store, transformation_rules)\n",
    "\n",
    "categorized_assets = categorize_assets(client, candidate_assets, transformation_rules.metadata.data_set_id)\n",
    "\n",
    "print(44*\"-\")\n",
    "for cat in categorized_assets:\n",
    "    print(f\"Category {cat:15} has {len(categorized_assets[cat]):2} assets\")\n",
    "print(44*\"-\")\n",
    "\n",
    "\n",
    "print(f\"Asset to resurrect {categorized_assets['resurrect'][0].external_id}\")\n",
    "print(f\"Asset to update {categorized_assets['update'][0].external_id}\")\n",
    "\n",
    "upload_assets(client, categorized_assets, batch_size=1000)"
   ]
  },
  {
   "cell_type": "code",
   "execution_count": 25,
   "metadata": {
    "tags": [
     "raises-exception"
    ]
   },
   "outputs": [
    {
     "name": "stdout",
     "output_type": "stream",
     "text": [
      "--------------------------------------------\n",
      "Category create          has  0 relationships\n",
      "Category resurrect       has  1 relationships\n",
      "Category decommission    has  0 relationships\n",
      "--------------------------------------------\n"
     ]
    }
   ],
   "source": [
    "candidate_relationships = rdf2relationships(graph_store, transformation_rules)\n",
    "\n",
    "\n",
    "categorized_relationships = categorize_relationships(client, candidate_relationships, transformation_rules.metadata.data_set_id)\n",
    "\n",
    "print(44*\"-\")\n",
    "for cat in categorized_relationships:\n",
    "    print(f\"Category {cat:15} has {len(categorized_relationships[cat]):2} relationships\")\n",
    "print(44*\"-\")\n",
    "    \n",
    "for relationship in categorized_relationships[\"decommission\"]:\n",
    "    print(f\"Relationship to decommission: {relationship._external_id}\")\n",
    "    \n",
    "\n",
    "upload_relationships(client, categorized_relationships, batch_size=1000)"
   ]
  },
  {
   "attachments": {},
   "cell_type": "markdown",
   "metadata": {},
   "source": [
    "Now in CDF we will see that the decommissioned asset and relationships have been resurrected as indicated in the video below:\n",
    "\n",
    "<video src=\"../../videos/tutorial-3-resurrection.mp4\" controls>\n",
    "</video>\n"
   ]
  }
 ],
 "metadata": {
  "kernelspec": {
   "display_name": "Python 3 (ipykernel)",
   "language": "python",
   "name": "python3"
  },
  "language_info": {
   "codemirror_mode": {
    "name": "ipython",
    "version": 3
   },
   "file_extension": ".py",
   "mimetype": "text/x-python",
   "name": "python",
   "nbconvert_exporter": "python",
   "pygments_lexer": "ipython3",
   "version": "3.11.3"
  },
  "nbreg": {
   "skip": true,
   "skip_reason": "Requires connection to CDF."
  }
 },
 "nbformat": 4,
 "nbformat_minor": 4
}
