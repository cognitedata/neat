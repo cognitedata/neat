{
 "cells": [
  {
   "attachments": {},
   "cell_type": "markdown",
   "metadata": {},
   "source": [
    "# Generate Mock Graph\n",
    "\n",
    "\n",
    "* author: Nikola Vasiljevic\n",
    "* date: 2023-04-03\n",
    "\n",
    "\n",
    "In this notebook we will demonstrate how you can use NEAT to generate mock graph based on your data model.\n",
    "\n",
    "First we need to import all the necessary libraries:"
   ]
  },
  {
   "cell_type": "code",
   "execution_count": 2,
   "metadata": {},
   "outputs": [],
   "source": [
    "from pathlib import Path\n",
    "from cognite.neat.core import loader, parser, extractors\n",
    "from cognite.neat.core.utils import remove_namespace\n",
    "from cognite.neat.core.mocks.graph import generate_triples, add_triples\n",
    "\n",
    "%reload_ext autoreload\n",
    "%autoreload 2\n"
   ]
  },
  {
   "attachments": {},
   "cell_type": "markdown",
   "metadata": {},
   "source": [
    "Since we already have an example data model, we will use it to generate mock graph.\n",
    "\n",
    "Here we setting path to the transformation rules which contain data model definition and parsing data model in corresponding form:"
   ]
  },
  {
   "cell_type": "code",
   "execution_count": 4,
   "metadata": {},
   "outputs": [],
   "source": [
    "ROOT = Path().resolve().parent.parent.parent\n",
    "TRANSFORMATION_RULES = ROOT / \"cognite\" / \"neat\" / \"examples\" / \"rules\" / \"Rules-Nordic44-to-TNT.xlsx\""
   ]
  },
  {
   "cell_type": "code",
   "execution_count": 5,
   "metadata": {},
   "outputs": [],
   "source": [
    "raw_sheets = loader.rules.excel_file_to_table_by_name(TRANSFORMATION_RULES)\n",
    "data_model = parser.parse_transformation_rules(raw_sheets)"
   ]
  },
  {
   "attachments": {},
   "cell_type": "markdown",
   "metadata": {},
   "source": [
    "Let's now take a look and see how many defined classes we have:"
   ]
  },
  {
   "cell_type": "code",
   "execution_count": 6,
   "metadata": {},
   "outputs": [
    {
     "data": {
      "text/plain": [
       "{'GeographicalRegion',\n",
       " 'Orphanage',\n",
       " 'RootCIMNode',\n",
       " 'SubGeographicalRegion',\n",
       " 'Substation',\n",
       " 'Terminal'}"
      ]
     },
     "execution_count": 6,
     "metadata": {},
     "output_type": "execute_result"
    }
   ],
   "source": [
    "data_model.get_defined_classes()"
   ]
  },
  {
   "attachments": {},
   "cell_type": "markdown",
   "metadata": {},
   "source": [
    "Let's now inspect properties related to one of the classes. Here we can see that class `Substation` contains four properties. Two properties contain values of type string, these properties in OWL ontology modeling are known as data type properties, or in general graph theory these properties are node attributes, where node is equivalent to class instance. The remaining properties basically contain links to instance of classes `SubGeographicalRegion` and `Terminal`. These properties in OWL ontology modeling are known as object properties, while in general graph theory these properties are edged that connect nodes."
   ]
  },
  {
   "cell_type": "code",
   "execution_count": 8,
   "metadata": {},
   "outputs": [
    {
     "data": {
      "text/html": [
       "<div>\n",
       "<style scoped>\n",
       "    .dataframe tbody tr th:only-of-type {\n",
       "        vertical-align: middle;\n",
       "    }\n",
       "\n",
       "    .dataframe tbody tr th {\n",
       "        vertical-align: top;\n",
       "    }\n",
       "\n",
       "    .dataframe thead th {\n",
       "        text-align: right;\n",
       "    }\n",
       "</style>\n",
       "<table border=\"1\" class=\"dataframe\">\n",
       "  <thead>\n",
       "    <tr style=\"text-align: right;\">\n",
       "      <th></th>\n",
       "      <th>property_type</th>\n",
       "      <th>value_type</th>\n",
       "      <th>min_count</th>\n",
       "      <th>max_count</th>\n",
       "    </tr>\n",
       "  </thead>\n",
       "  <tbody>\n",
       "    <tr>\n",
       "      <th>IdentifiedObject.mRID</th>\n",
       "      <td>DatatypeProperty</td>\n",
       "      <td>string</td>\n",
       "      <td>1</td>\n",
       "      <td>1</td>\n",
       "    </tr>\n",
       "    <tr>\n",
       "      <th>IdentifiedObject.name</th>\n",
       "      <td>DatatypeProperty</td>\n",
       "      <td>string</td>\n",
       "      <td>1</td>\n",
       "      <td>1</td>\n",
       "    </tr>\n",
       "    <tr>\n",
       "      <th>Substation.Region</th>\n",
       "      <td>ObjectProperty</td>\n",
       "      <td>SubGeographicalRegion</td>\n",
       "      <td>1</td>\n",
       "      <td>1</td>\n",
       "    </tr>\n",
       "    <tr>\n",
       "      <th>Substation.Terminal</th>\n",
       "      <td>ObjectProperty</td>\n",
       "      <td>Terminal</td>\n",
       "      <td>1</td>\n",
       "      <td>None</td>\n",
       "    </tr>\n",
       "  </tbody>\n",
       "</table>\n",
       "</div>"
      ],
      "text/plain": [
       "                          property_type             value_type min_count   \n",
       "IdentifiedObject.mRID  DatatypeProperty                 string         1  \\\n",
       "IdentifiedObject.name  DatatypeProperty                 string         1   \n",
       "Substation.Region        ObjectProperty  SubGeographicalRegion         1   \n",
       "Substation.Terminal      ObjectProperty               Terminal         1   \n",
       "\n",
       "                      max_count  \n",
       "IdentifiedObject.mRID         1  \n",
       "IdentifiedObject.name         1  \n",
       "Substation.Region             1  \n",
       "Substation.Terminal        None  "
      ]
     },
     "execution_count": 8,
     "metadata": {},
     "output_type": "execute_result"
    }
   ],
   "source": [
    "data_model.to_dataframe()['Substation']"
   ]
  },
  {
   "attachments": {},
   "cell_type": "markdown",
   "metadata": {},
   "source": [
    "Let's now configure desired number of instances per each of the above classes. We will store desired number of instances in a dictionary which we will call `class_count`:"
   ]
  },
  {
   "cell_type": "code",
   "execution_count": 9,
   "metadata": {},
   "outputs": [],
   "source": [
    "class_count = {\"RootCIMNode\":1, \n",
    "               \"GeographicalRegion\":5, \n",
    "               \"SubGeographicalRegion\":10, \n",
    "               \"Substation\": 20, \n",
    "               \"Terminal\": 60}"
   ]
  },
  {
   "attachments": {},
   "cell_type": "markdown",
   "metadata": {},
   "source": [
    "To generate mock graph we will first create an empty graph to which we will store triples that will represent our mock graph:"
   ]
  },
  {
   "cell_type": "code",
   "execution_count": 10,
   "metadata": {},
   "outputs": [],
   "source": [
    "graph_store = loader.NeatGraphStore(prefixes=data_model.prefixes, \n",
    "                                    namespace=data_model.metadata.namespace)\n",
    "graph_store.init_graph(base_prefix=data_model.metadata.prefix)"
   ]
  },
  {
   "attachments": {},
   "cell_type": "markdown",
   "metadata": {},
   "source": [
    "We will create triples and then will added them to the graph.\n",
    "\n",
    "The triples are created by providing our data model and desired number of instances per class in a form of dictionary to method `generate_triples`. Afterwards, we will add those triples to our graph using method `add_tripes`:"
   ]
  },
  {
   "cell_type": "code",
   "execution_count": 11,
   "metadata": {},
   "outputs": [],
   "source": [
    "mock_triples = generate_triples(data_model, class_count)\n",
    "add_triples(graph_store, mock_triples)"
   ]
  },
  {
   "attachments": {},
   "cell_type": "markdown",
   "metadata": {},
   "source": [
    "After successfully creating and adding mock triples let's now take a look at the graph and see if we have expected number of class instances.\n",
    "\n",
    "Here we are executing SPARQL query to count all the class instances:\n",
    "```\n",
    "SELECT ?class (count(?s) as ?instances ) WHERE { ?s a ?class . } group by ?class order by DESC(?instances)\n",
    "```\n",
    "\n",
    "and later on when processing results we are purposely removing namespaces from the class names:"
   ]
  },
  {
   "cell_type": "code",
   "execution_count": 12,
   "metadata": {},
   "outputs": [
    {
     "name": "stdout",
     "output_type": "stream",
     "text": [
      "Terminal                  60\n",
      "Substation                20\n",
      "SubGeographicalRegion     10\n",
      "GeographicalRegion        5\n",
      "RootCIMNode               1\n"
     ]
    }
   ],
   "source": [
    "for res in list(graph_store.graph.query(\"SELECT ?class (count(?s) as ?instances ) WHERE { ?s a ?class . } group by ?class order by DESC(?instances)\")):\n",
    "    print(f\"{remove_namespace(res[0]):25} {res[1]}\" )"
   ]
  },
  {
   "attachments": {},
   "cell_type": "markdown",
   "metadata": {},
   "source": [
    "Let's now parse this graph into assets and relationships and see if we have expected number of instances per each class.\n",
    "Do not be alarmed with warnings and errors that NEAT is throwing due to missing Orphanage, it will automatically create it for us:"
   ]
  },
  {
   "cell_type": "code",
   "execution_count": 13,
   "metadata": {},
   "outputs": [
    {
     "name": "stderr",
     "output_type": "stream",
     "text": [
      "ERROR:root:Error while loading instances of class <http://purl.org/cognite/tnt#Orphanage> into cache. Reason: 'instance'\n",
      "WARNING:root:Orphanage with external id orphanage not found in asset hierarchy!\n",
      "WARNING:root:Adding default orphanage with external id orphanage\n"
     ]
    },
    {
     "name": "stdout",
     "output_type": "stream",
     "text": [
      "Orphanage with external id orphanage not found in asset hierarchy!\n"
     ]
    }
   ],
   "source": [
    "assets = extractors.rdf_to_assets.rdf2assets(graph_store, data_model)"
   ]
  },
  {
   "cell_type": "code",
   "execution_count": 14,
   "metadata": {},
   "outputs": [
    {
     "data": {
      "text/plain": [
       "{'RootCIMNode': 1,\n",
       " 'GeographicalRegion': 5,\n",
       " 'SubGeographicalRegion': 10,\n",
       " 'Substation': 20,\n",
       " 'Terminal': 60,\n",
       " 'Orphanage': 1}"
      ]
     },
     "execution_count": 14,
     "metadata": {},
     "output_type": "execute_result"
    }
   ],
   "source": [
    "count_assets = {}\n",
    "for asset in assets.values():\n",
    "    if asset[\"metadata\"][\"type\"] not in count_assets:\n",
    "        count_assets[asset[\"metadata\"][\"type\"]] = 1\n",
    "    else:\n",
    "        count_assets[asset[\"metadata\"][\"type\"]] += 1\n",
    "        \n",
    "count_assets"
   ]
  },
  {
   "attachments": {},
   "cell_type": "markdown",
   "metadata": {},
   "source": [
    "Let's now create relationships and check if we have expected number of relationships, which is:\n",
    "- 60 relationships where source is Terminal and target is Substation\n",
    "- 60 relationships where source is Substation and target is Terminal"
   ]
  },
  {
   "cell_type": "code",
   "execution_count": 15,
   "metadata": {},
   "outputs": [],
   "source": [
    "relationships = extractors.rdf_to_relationships.rdf2relationships(graph_store, data_model)"
   ]
  },
  {
   "cell_type": "code",
   "execution_count": 20,
   "metadata": {},
   "outputs": [],
   "source": [
    "relationships.to_excel(\"relationships.xlsx\")"
   ]
  },
  {
   "cell_type": "code",
   "execution_count": 16,
   "metadata": {},
   "outputs": [
    {
     "name": "stdout",
     "output_type": "stream",
     "text": [
      "Substation-Terminal relations: 60\n",
      "Terminal-Substation relations: 60\n"
     ]
    }
   ],
   "source": [
    "no_S_T_relations = len(relationships[(relationships.source_external_id.str.match('Substation.*')) & \n",
    "                                    (relationships.target_external_id.str.match('Terminal.*'))])\n",
    "no_T_S_relations = len(relationships[(relationships.source_external_id.str.match('Terminal.*')) & \n",
    "                                    (relationships.target_external_id.str.match('Substation.*'))])\n",
    "\n",
    "print(f\"Substation-Terminal relations: {no_S_T_relations}\")\n",
    "print(f\"Terminal-Substation relations: {no_T_S_relations}\")"
   ]
  }
 ],
 "metadata": {
  "kernelspec": {
   "display_name": "neat-V5HCRAva-py3.11",
   "language": "python",
   "name": "python3"
  },
  "language_info": {
   "codemirror_mode": {
    "name": "ipython",
    "version": 3
   },
   "file_extension": ".py",
   "mimetype": "text/x-python",
   "name": "python",
   "nbconvert_exporter": "python",
   "pygments_lexer": "ipython3",
   "version": "3.11.3"
  },
  "orig_nbformat": 4,
  "vscode": {
   "interpreter": {
    "hash": "eb4cf576dcffa0a787a8982645e03a998957c06d661d178298ccc8dde5bf89f7"
   }
  }
 },
 "nbformat": 4,
 "nbformat_minor": 2
}
