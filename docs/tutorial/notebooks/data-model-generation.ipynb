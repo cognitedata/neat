{
 "cells": [
  {
   "attachments": {},
   "cell_type": "markdown",
   "metadata": {},
   "source": [
    "# Part 1: Data Model Generation\n",
    "\n",
    "[![Notebook](https://shields.io/badge/notebook-access-green?logo=jupyter&style=for-the-badge)](https://github.com/cognitedata/neat/blob/main/docs/tutorial/notebooks/data-mode-generation.ipynb)\n",
    "\n",
    "\n",
    "* author: Nikola Vasiljevic\n",
    "* date: 2023-05-31\n",
    "\n",
    "This notebook represent Part 1 of NEAT Onboarding tutorial. In this notebook we will demonstrate how to generate data model using NEAT.\n",
    "All you need is basic knowledge of Excel and Python, and very good knowledge of domain you are trying to model.\n",
    "\n",
    "For simplicity we will define a simple power grid data model.\n",
    "\n",
    "Before proceeding download `Transformation Rule` template using [this link](https://minhaskamal.github.io/DownGit/#/home?url=https://github.com/cognitedata/neat/blob/main/cognite/neat/examples/rules/Rules-Nordic44-to-TNT.xlsx). Unzip file and open Template\n",
    "\n",
    "\n",
    "Let's import all necessary libraries:"
   ]
  },
  {
   "cell_type": "code",
   "execution_count": null,
   "metadata": {},
   "outputs": [],
   "source": []
  }
 ],
 "metadata": {
  "kernelspec": {
   "display_name": ".venv",
   "language": "python",
   "name": "python3"
  },
  "language_info": {
   "codemirror_mode": {
    "name": "ipython",
    "version": 3
   },
   "file_extension": ".py",
   "mimetype": "text/x-python",
   "name": "python",
   "nbconvert_exporter": "python",
   "pygments_lexer": "ipython3",
   "version": "3.11.3"
  },
  "orig_nbformat": 4
 },
 "nbformat": 4,
 "nbformat_minor": 2
}
