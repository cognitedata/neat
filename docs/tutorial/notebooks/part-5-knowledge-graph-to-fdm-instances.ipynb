{
 "cells": [
  {
   "cell_type": "markdown",
   "metadata": {},
   "source": [
    "# Part 5: Graph to fDM\n",
    "\n",
    "[![Notebook](https://shields.io/badge/notebook-access-green?logo=jupyter&style=for-the-badge)](https://github.com/cognitedata/neat/blob/main/docs/tutorial/notebooks/part-5-knowledge-graph-to-fdm-instances.ipynb)\n",
    "\n",
    "* author: Nikola Vasiljevic\n",
    "* date: 2023-10-22\n",
    "\n",
    "\n",
    "In this Part 5 of tutorial series we will work with flexible Data Model(`fDM`) capabilities of Cognite Data Fusion. Unlike asset hierarchy, `fDM` provides full flexibility when come to modeling of domain. Instead of having generic assets, which one needs to enrich with metadata to make them more specific, with `fDM` one can model objects to ones will. In other words we are able to digitally model physical reality and store information, in the similar fashion like in case of our base `NeatGraph`.\n",
    "\n",
    "`fDM` and modeled objects instances are stored in what is known as DMS (Data Model Storage), so often through out this tutorial you will see relations to `DMS`.\n",
    "\n",
    "We strongly encourage reading Cognite material on data modeling:\n",
    "- [About data modeling](https://docs.cognite.com/cdf/data_modeling/)\n",
    "- [Developers docs on data modeling](https://developer.cognite.com/dm/)\n",
    "\n",
    "We will start very light with `fDM`. For this purpose we will use [this rules](https://github.com/cognitedata/neat/blob/main/cognite/neat/examples/rules/sheet2cdf-transformation-rules.xlsx). For simplicity, we provide direct access through while doing import of necessary methods.\n",
    "\n",
    "\n",
    "Also, for convenience store configuration of a Cognite client in `.env` file, with following structure:\n",
    "\n",
    "```\n",
    "\n",
    "TENANT_ID = ...\n",
    "CLIENT_ID = ...\n",
    "CLIENT_SECRET = ...\n",
    "CDF_CLUSTER = ...\n",
    "COGNITE_PROJECT = ...\n",
    "\n",
    "```\n",
    "\n",
    "This file will be loaded as config dictionary and used to configure the Cognite client.\n",
    "\n",
    "\n",
    "Once you located necessary files, created `.env` file, load necessary libraries:"
   ]
  },
  {
   "cell_type": "code",
   "execution_count": 1,
   "metadata": {
    "ExecuteTime": {
     "end_time": "2023-11-14T14:33:08.335590300Z",
     "start_time": "2023-11-14T14:33:06.355733700Z"
    }
   },
   "outputs": [],
   "source": [
    "from dotenv import dotenv_values\n",
    "\n",
    "\n",
    "from cognite.neat.rules.analysis import get_defined_classes\n",
    "from cognite.neat.rules.examples import simple_example\n",
    "\n",
    "from cognite.neat.rules import exporter, importer\n",
    "\n",
    "\n",
    "from cognite.neat.graph.stores import NeatGraphStore\n",
    "\n",
    "from cognite.neat.graph.loaders.rdf_to_dms import rdf2nodes_and_edges, upload_nodes, upload_edges\n",
    "\n",
    "\n",
    "from cognite.client import CogniteClient, ClientConfig\n",
    "from cognite.client.credentials import OAuthClientCredentials\n",
    "\n",
    "\n",
    "%reload_ext autoreload\n",
    "%autoreload 2"
   ]
  },
  {
   "cell_type": "code",
   "execution_count": 3,
   "metadata": {},
   "outputs": [],
   "source": [
    "config = dotenv_values(\"/Volumes/Secondary/repos/neat/playground/get.env\")\n",
    "\n",
    "SCOPES = [f\"https://{config['CDF_CLUSTER']}.cognitedata.com/.default\"]\n",
    "TOKEN_URL = f\"https://login.microsoftonline.com/{config['TENANT_ID']}/oauth2/v2.0/token\"\n",
    "\n",
    "credentials = OAuthClientCredentials(token_url=TOKEN_URL,\n",
    "                                     client_id=config['CLIENT_ID'],\n",
    "                                     client_secret=config['CLIENT_SECRET'],\n",
    "                                     scopes=SCOPES)\n",
    "\n",
    "client_config = ClientConfig(client_name=\"cognite\",\n",
    "                             base_url=f\"https://{config['CDF_CLUSTER']}.cognitedata.com\",\n",
    "                             project=config['COGNITE_PROJECT'],\n",
    "                             credentials=credentials,\n",
    "                             max_workers=1,\n",
    "                             timeout=5 * 60,)\n",
    "\n",
    "client = CogniteClient(client_config)"
   ]
  },
  {
   "cell_type": "markdown",
   "metadata": {},
   "source": [
    "Order of creating data model and its components is as following in `neat`:\n",
    "1. Create `space` in CDF, where you will store `containers`, `views` and `data model`\n",
    "2. Create `containers` in CDF, which will store data, where each container represents an object you defined in your data model\n",
    "3. Create `views` on top of `containers`, which provide `view` into `container`\n",
    "4. Create `data_model` as collection of `views`\n",
    "\n",
    "`neat` will do this for you, all you need to do is to define data model through `Rules` and provide knowledge graph.\n",
    "\n",
    "So let's start first with loading `Rules` and turning this one into `DataModel` class which contains methods for creating and uploading `data model` and its components:"
   ]
  },
  {
   "cell_type": "code",
   "execution_count": 28,
   "metadata": {},
   "outputs": [],
   "source": [
    "rules = importer.ExcelImporter(simple_example).to_rules()\n",
    "\n",
    "data_model = exporter.DMSExporter.from_rules(rules)"
   ]
  },
  {
   "cell_type": "markdown",
   "metadata": {},
   "source": [
    "Let's inspect how many containers and views our data model contains:"
   ]
  },
  {
   "cell_type": "code",
   "execution_count": 29,
   "metadata": {},
   "outputs": [
    {
     "data": {
      "text/html": [
       "<div>\n",
       "<style scoped>\n",
       "    .dataframe tbody tr th:only-of-type {\n",
       "        vertical-align: middle;\n",
       "    }\n",
       "\n",
       "    .dataframe tbody tr th {\n",
       "        vertical-align: top;\n",
       "    }\n",
       "\n",
       "    .dataframe thead th {\n",
       "        text-align: right;\n",
       "    }\n",
       "</style>\n",
       "<table border=\"1\" class=\"dataframe\">\n",
       "  <thead>\n",
       "    <tr style=\"text-align: right;\">\n",
       "      <th></th>\n",
       "      <th>space</th>\n",
       "      <th>external_id</th>\n",
       "      <th>description</th>\n",
       "      <th>name</th>\n",
       "      <th>properties</th>\n",
       "    </tr>\n",
       "  </thead>\n",
       "  <tbody>\n",
       "    <tr>\n",
       "      <th>0</th>\n",
       "      <td>playground</td>\n",
       "      <td>CountryGroup</td>\n",
       "      <td>A group of countries with the same dayahead sy...</td>\n",
       "      <td>CountryGroup</td>\n",
       "      <td>{'name': {'type': {'list': False, 'collation':...</td>\n",
       "    </tr>\n",
       "    <tr>\n",
       "      <th>1</th>\n",
       "      <td>playground</td>\n",
       "      <td>Country</td>\n",
       "      <td>A country with electric power markets.</td>\n",
       "      <td>Country</td>\n",
       "      <td>{'name': {'type': {'list': False, 'collation':...</td>\n",
       "    </tr>\n",
       "    <tr>\n",
       "      <th>2</th>\n",
       "      <td>playground</td>\n",
       "      <td>PriceArea</td>\n",
       "      <td>An area defined by the TSO to cotain the same ...</td>\n",
       "      <td>PriceArea</td>\n",
       "      <td>{'name': {'type': {'list': False, 'collation':...</td>\n",
       "    </tr>\n",
       "    <tr>\n",
       "      <th>3</th>\n",
       "      <td>playground</td>\n",
       "      <td>PriceAreaConnection</td>\n",
       "      <td>A virtual connection of two price areas</td>\n",
       "      <td>PriceAreaConnection</td>\n",
       "      <td>{'name': {'type': {'list': False, 'collation':...</td>\n",
       "    </tr>\n",
       "  </tbody>\n",
       "</table>\n",
       "</div>"
      ],
      "text/plain": [
       "ContainerApplyList([<ContainerApply(space='playground', external_id='CountryGroup') at 0x13300efd0>,\n",
       "                    <ContainerApply(space='playground', external_id='Country') at 0x132951750>,\n",
       "                    <ContainerApply(space='playground', external_id='PriceArea') at 0x13304ce90>,\n",
       "                    <ContainerApply(space='playground', external_id='PriceAreaConnection') at 0x1330a7310>])"
      ]
     },
     "execution_count": 29,
     "metadata": {},
     "output_type": "execute_result"
    }
   ],
   "source": [
    "dms_data_model.containers"
   ]
  },
  {
   "cell_type": "code",
   "execution_count": 30,
   "metadata": {},
   "outputs": [
    {
     "data": {
      "text/plain": [
       "[<ViewApply(space='playground', external_id='CountryGroup', version='0_1') at 0x1328504d0>,\n",
       " <ViewApply(space='playground', external_id='Country', version='0_1') at 0x132eec210>,\n",
       " <ViewApply(space='playground', external_id='PriceArea', version='0_1') at 0x132d1de10>,\n",
       " <ViewApply(space='playground', external_id='PriceAreaConnection', version='0_1') at 0x132f1e510>]"
      ]
     },
     "execution_count": 30,
     "metadata": {},
     "output_type": "execute_result"
    }
   ],
   "source": [
    "dms_data_model.data_model.views"
   ]
  },
  {
   "cell_type": "markdown",
   "metadata": {},
   "source": [
    "As expected these containers/views correspond to `classes` we defined in `TransformationRules`:"
   ]
  },
  {
   "cell_type": "code",
   "execution_count": 31,
   "metadata": {},
   "outputs": [
    {
     "data": {
      "text/plain": [
       "{'Country', 'CountryGroup', 'PriceArea', 'PriceAreaConnection'}"
      ]
     },
     "execution_count": 31,
     "metadata": {},
     "output_type": "execute_result"
    }
   ],
   "source": [
    "get_defined_classes(rules)"
   ]
  },
  {
   "cell_type": "markdown",
   "metadata": {},
   "source": [
    "Prior uploading data model and its components to Cognite Data Fusion, let's check under which `space` they will be stored:"
   ]
  },
  {
   "cell_type": "code",
   "execution_count": 32,
   "metadata": {},
   "outputs": [
    {
     "data": {
      "text/plain": [
       "'playground'"
      ]
     },
     "execution_count": 32,
     "metadata": {},
     "output_type": "execute_result"
    }
   ],
   "source": [
    "dms_data_model.data_model.space"
   ]
  },
  {
   "cell_type": "markdown",
   "metadata": {},
   "source": [
    "To alter space under which data model and its components should be stored add or update field `cdfSpaceName` in the `TransformationRules` Excel file or change it directly here. For time being will stick to `playground` space, and upload model there:"
   ]
  },
  {
   "cell_type": "code",
   "execution_count": 33,
   "metadata": {},
   "outputs": [
    {
     "data": {
      "text/html": [
       "<div>\n",
       "<style scoped>\n",
       "    .dataframe tbody tr th:only-of-type {\n",
       "        vertical-align: middle;\n",
       "    }\n",
       "\n",
       "    .dataframe tbody tr th {\n",
       "        vertical-align: top;\n",
       "    }\n",
       "\n",
       "    .dataframe thead th {\n",
       "        text-align: right;\n",
       "    }\n",
       "</style>\n",
       "<table border=\"1\" class=\"dataframe\">\n",
       "  <thead>\n",
       "    <tr style=\"text-align: right;\">\n",
       "      <th></th>\n",
       "      <th>space</th>\n",
       "      <th>external_id</th>\n",
       "      <th>description</th>\n",
       "      <th>name</th>\n",
       "      <th>used_for</th>\n",
       "      <th>properties</th>\n",
       "      <th>is_global</th>\n",
       "      <th>last_updated_time</th>\n",
       "      <th>created_time</th>\n",
       "    </tr>\n",
       "  </thead>\n",
       "  <tbody>\n",
       "    <tr>\n",
       "      <th>0</th>\n",
       "      <td>playground</td>\n",
       "      <td>CountryGroup</td>\n",
       "      <td>A group of countries with the same dayahead sy...</td>\n",
       "      <td>CountryGroup</td>\n",
       "      <td>node</td>\n",
       "      <td>{'name': {'type': {'list': False, 'collation':...</td>\n",
       "      <td>False</td>\n",
       "      <td>1699970060267</td>\n",
       "      <td>1699970060267</td>\n",
       "    </tr>\n",
       "    <tr>\n",
       "      <th>1</th>\n",
       "      <td>playground</td>\n",
       "      <td>Country</td>\n",
       "      <td>A country with electric power markets.</td>\n",
       "      <td>Country</td>\n",
       "      <td>node</td>\n",
       "      <td>{'name': {'type': {'list': False, 'collation':...</td>\n",
       "      <td>False</td>\n",
       "      <td>1699970060267</td>\n",
       "      <td>1699970060267</td>\n",
       "    </tr>\n",
       "    <tr>\n",
       "      <th>2</th>\n",
       "      <td>playground</td>\n",
       "      <td>PriceArea</td>\n",
       "      <td>An area defined by the TSO to cotain the same ...</td>\n",
       "      <td>PriceArea</td>\n",
       "      <td>node</td>\n",
       "      <td>{'name': {'type': {'list': False, 'collation':...</td>\n",
       "      <td>False</td>\n",
       "      <td>1699970060267</td>\n",
       "      <td>1699970060267</td>\n",
       "    </tr>\n",
       "    <tr>\n",
       "      <th>3</th>\n",
       "      <td>playground</td>\n",
       "      <td>PriceAreaConnection</td>\n",
       "      <td>A virtual connection of two price areas</td>\n",
       "      <td>PriceAreaConnection</td>\n",
       "      <td>node</td>\n",
       "      <td>{'name': {'type': {'list': False, 'collation':...</td>\n",
       "      <td>False</td>\n",
       "      <td>1699970060267</td>\n",
       "      <td>1699970060267</td>\n",
       "    </tr>\n",
       "  </tbody>\n",
       "</table>\n",
       "</div>"
      ],
      "text/plain": [
       "ContainerList([<Container(space='playground', external_id='CountryGroup') at 0x132da6490>,\n",
       "               <Container(space='playground', external_id='Country') at 0x133030510>,\n",
       "               <Container(space='playground', external_id='PriceArea') at 0x133078590>,\n",
       "               <Container(space='playground', external_id='PriceAreaConnection') at 0x13302b390>])"
      ]
     },
     "execution_count": 33,
     "metadata": {},
     "output_type": "execute_result"
    }
   ],
   "source": [
    "client.data_modeling.containers.apply(dms_data_model.containers)"
   ]
  },
  {
   "cell_type": "code",
   "execution_count": 34,
   "metadata": {},
   "outputs": [
    {
     "data": {
      "text/html": [
       "<div>\n",
       "<style scoped>\n",
       "    .dataframe tbody tr th:only-of-type {\n",
       "        vertical-align: middle;\n",
       "    }\n",
       "\n",
       "    .dataframe tbody tr th {\n",
       "        vertical-align: top;\n",
       "    }\n",
       "\n",
       "    .dataframe thead th {\n",
       "        text-align: right;\n",
       "    }\n",
       "</style>\n",
       "<table border=\"1\" class=\"dataframe\">\n",
       "  <thead>\n",
       "    <tr style=\"text-align: right;\">\n",
       "      <th></th>\n",
       "      <th>value</th>\n",
       "    </tr>\n",
       "  </thead>\n",
       "  <tbody>\n",
       "    <tr>\n",
       "      <th>space</th>\n",
       "      <td>playground</td>\n",
       "    </tr>\n",
       "    <tr>\n",
       "      <th>external_id</th>\n",
       "      <td>neat</td>\n",
       "    </tr>\n",
       "    <tr>\n",
       "      <th>description</th>\n",
       "      <td>This data model is solely used to demonstrate ...</td>\n",
       "    </tr>\n",
       "    <tr>\n",
       "      <th>name</th>\n",
       "      <td>NEAT Playground Data Model</td>\n",
       "    </tr>\n",
       "    <tr>\n",
       "      <th>version</th>\n",
       "      <td>0_1</td>\n",
       "    </tr>\n",
       "    <tr>\n",
       "      <th>views</th>\n",
       "      <td>[{'space': 'playground', 'external_id': 'Count...</td>\n",
       "    </tr>\n",
       "    <tr>\n",
       "      <th>is_global</th>\n",
       "      <td>False</td>\n",
       "    </tr>\n",
       "    <tr>\n",
       "      <th>last_updated_time</th>\n",
       "      <td>1699970064193</td>\n",
       "    </tr>\n",
       "    <tr>\n",
       "      <th>created_time</th>\n",
       "      <td>1699970064193</td>\n",
       "    </tr>\n",
       "  </tbody>\n",
       "</table>\n",
       "</div>"
      ],
      "text/plain": [
       "<DataModel(space='playground', external_id='neat', version='0_1') at 0x133076410>"
      ]
     },
     "execution_count": 34,
     "metadata": {},
     "output_type": "execute_result"
    }
   ],
   "source": [
    "client.data_modeling.data_models.apply(dms_data_model.data_model)"
   ]
  },
  {
   "cell_type": "markdown",
   "metadata": {},
   "source": [
    "Loggin to CDF and go through Explore->Model your data->NEAT Playground Data Model, you should see something like this:\n",
    "![](../../figs/DataModelCDF.PNG)"
   ]
  },
  {
   "cell_type": "markdown",
   "metadata": {},
   "source": [
    "Let's now create instances of objects that we have defined, i.e. let's store data in `containes` we have created.\n",
    "First we will create `NeatGraphStore` and then inject triples that define instances which are sotred in `Instances` sheet of `TransformationRules`:"
   ]
  },
  {
   "cell_type": "code",
   "execution_count": 35,
   "metadata": {},
   "outputs": [],
   "source": [
    "graph_store = NeatGraphStore(prefixes=rules.prefixes,\n",
    "                              namespace=rules.prefixes[rules.metadata.prefix])\n",
    "graph_store.init_graph(base_prefix=rules.metadata.prefix)\n",
    "\n",
    "\n",
    "\n",
    "for triple in exporter.TripleExporter.from_rules(rules).export():\n",
    "    graph_store.graph.add(triple)"
   ]
  },
  {
   "cell_type": "markdown",
   "metadata": {},
   "source": [
    "Now we will create `nodes` and `edges` that will be stored in containers:"
   ]
  },
  {
   "cell_type": "code",
   "execution_count": 25,
   "metadata": {},
   "outputs": [],
   "source": [
    "from cognite.neat.rules.exporter._rules2dms import DataModel\n",
    "data_model_neat = DataModel.from_rules(rules)"
   ]
  },
  {
   "cell_type": "code",
   "execution_count": 26,
   "metadata": {},
   "outputs": [],
   "source": [
    "data_model_neat.remove_data_model(client)"
   ]
  },
  {
   "cell_type": "code",
   "execution_count": 36,
   "metadata": {},
   "outputs": [],
   "source": [
    "nodes, edges, exceptions =  rdf2nodes_and_edges(graph_store, rules, \"http://purl.org/cognite/neat#Nordics.Norway.NO1\",add_class_prefix=True)"
   ]
  },
  {
   "cell_type": "markdown",
   "metadata": {},
   "source": [
    "Let's look at two `nodes`, one being `Nordics.Norway.NO1` and another being `NO1.NO5`"
   ]
  },
  {
   "cell_type": "code",
   "execution_count": 37,
   "metadata": {},
   "outputs": [
    {
     "data": {
      "text/html": [
       "<div>\n",
       "<style scoped>\n",
       "    .dataframe tbody tr th:only-of-type {\n",
       "        vertical-align: middle;\n",
       "    }\n",
       "\n",
       "    .dataframe tbody tr th {\n",
       "        vertical-align: top;\n",
       "    }\n",
       "\n",
       "    .dataframe thead th {\n",
       "        text-align: right;\n",
       "    }\n",
       "</style>\n",
       "<table border=\"1\" class=\"dataframe\">\n",
       "  <thead>\n",
       "    <tr style=\"text-align: right;\">\n",
       "      <th></th>\n",
       "      <th>value</th>\n",
       "    </tr>\n",
       "  </thead>\n",
       "  <tbody>\n",
       "    <tr>\n",
       "      <th>instance_type</th>\n",
       "      <td>node</td>\n",
       "    </tr>\n",
       "    <tr>\n",
       "      <th>space</th>\n",
       "      <td>playground</td>\n",
       "    </tr>\n",
       "    <tr>\n",
       "      <th>external_id</th>\n",
       "      <td>PriceArea_Nordics.Norway.NO1</td>\n",
       "    </tr>\n",
       "    <tr>\n",
       "      <th>sources</th>\n",
       "      <td>[{'properties': {'name': 'NO1', 'country': {'s...</td>\n",
       "    </tr>\n",
       "  </tbody>\n",
       "</table>\n",
       "</div>"
      ],
      "text/plain": [
       "<NodeApply(space='playground', external_id='PriceArea_Nordics.Norway.NO1') at 0x132ef8250>"
      ]
     },
     "execution_count": 37,
     "metadata": {},
     "output_type": "execute_result"
    }
   ],
   "source": [
    "nodes[2]"
   ]
  },
  {
   "cell_type": "code",
   "execution_count": 38,
   "metadata": {},
   "outputs": [
    {
     "data": {
      "text/html": [
       "<div>\n",
       "<style scoped>\n",
       "    .dataframe tbody tr th:only-of-type {\n",
       "        vertical-align: middle;\n",
       "    }\n",
       "\n",
       "    .dataframe tbody tr th {\n",
       "        vertical-align: top;\n",
       "    }\n",
       "\n",
       "    .dataframe thead th {\n",
       "        text-align: right;\n",
       "    }\n",
       "</style>\n",
       "<table border=\"1\" class=\"dataframe\">\n",
       "  <thead>\n",
       "    <tr style=\"text-align: right;\">\n",
       "      <th></th>\n",
       "      <th>value</th>\n",
       "    </tr>\n",
       "  </thead>\n",
       "  <tbody>\n",
       "    <tr>\n",
       "      <th>instance_type</th>\n",
       "      <td>node</td>\n",
       "    </tr>\n",
       "    <tr>\n",
       "      <th>space</th>\n",
       "      <td>playground</td>\n",
       "    </tr>\n",
       "    <tr>\n",
       "      <th>external_id</th>\n",
       "      <td>PriceAreaConnection_NO1.NO5</td>\n",
       "    </tr>\n",
       "    <tr>\n",
       "      <th>sources</th>\n",
       "      <td>[{'properties': {'name': 'NO1 to NO5'}, 'sourc...</td>\n",
       "    </tr>\n",
       "  </tbody>\n",
       "</table>\n",
       "</div>"
      ],
      "text/plain": [
       "<NodeApply(space='playground', external_id='PriceAreaConnection_NO1.NO5') at 0x13302f150>"
      ]
     },
     "execution_count": 38,
     "metadata": {},
     "output_type": "execute_result"
    }
   ],
   "source": [
    "nodes[9]"
   ]
  },
  {
   "cell_type": "markdown",
   "metadata": {},
   "source": [
    "These two nodes are connected via `edge`"
   ]
  },
  {
   "cell_type": "code",
   "execution_count": 39,
   "metadata": {},
   "outputs": [
    {
     "data": {
      "text/html": [
       "<div>\n",
       "<style scoped>\n",
       "    .dataframe tbody tr th:only-of-type {\n",
       "        vertical-align: middle;\n",
       "    }\n",
       "\n",
       "    .dataframe tbody tr th {\n",
       "        vertical-align: top;\n",
       "    }\n",
       "\n",
       "    .dataframe thead th {\n",
       "        text-align: right;\n",
       "    }\n",
       "</style>\n",
       "<table border=\"1\" class=\"dataframe\">\n",
       "  <thead>\n",
       "    <tr style=\"text-align: right;\">\n",
       "      <th></th>\n",
       "      <th>value</th>\n",
       "    </tr>\n",
       "  </thead>\n",
       "  <tbody>\n",
       "    <tr>\n",
       "      <th>instance_type</th>\n",
       "      <td>edge</td>\n",
       "    </tr>\n",
       "    <tr>\n",
       "      <th>space</th>\n",
       "      <td>playground</td>\n",
       "    </tr>\n",
       "    <tr>\n",
       "      <th>external_id</th>\n",
       "      <td>PriceArea_Nordics.Norway.NO1-PriceAreaConnecti...</td>\n",
       "    </tr>\n",
       "    <tr>\n",
       "      <th>type</th>\n",
       "      <td>{'space': 'playground', 'external_id': 'PriceA...</td>\n",
       "    </tr>\n",
       "    <tr>\n",
       "      <th>start_node</th>\n",
       "      <td>{'space': 'playground', 'external_id': 'PriceA...</td>\n",
       "    </tr>\n",
       "    <tr>\n",
       "      <th>end_node</th>\n",
       "      <td>{'space': 'playground', 'external_id': 'PriceA...</td>\n",
       "    </tr>\n",
       "  </tbody>\n",
       "</table>\n",
       "</div>"
      ],
      "text/plain": [
       "<EdgeApply(space='playground', external_id='PriceArea_Nordics.Norway.NO1-PriceAreaConnection_NO1.NO5') at 0x132d1b390>"
      ]
     },
     "execution_count": 39,
     "metadata": {},
     "output_type": "execute_result"
    }
   ],
   "source": [
    "edges[0]"
   ]
  },
  {
   "cell_type": "markdown",
   "metadata": {},
   "source": [
    "As we now have `nodes` and `edges` we can upload them to `CDF`.\n",
    "We start with uploading `nodes` followed by `edges`."
   ]
  },
  {
   "cell_type": "code",
   "execution_count": 40,
   "metadata": {},
   "outputs": [],
   "source": [
    "upload_nodes(client, nodes)\n",
    "upload_edges(client, edges)"
   ]
  },
  {
   "cell_type": "markdown",
   "metadata": {},
   "source": [
    "Let's now see results in Cognite Data Fusion:\n",
    "\n",
    "![](../../figs/DataModelInstancesCDF.PNG)\n",
    "\n",
    "\n",
    "If experiment features in Cognite Data Fusion are enable, one can see also visually graph: \n",
    "\n",
    "![](../../figs/DataModelInstancesVizCDF.PNG)"
   ]
  }
 ],
 "metadata": {
  "kernelspec": {
   "display_name": ".venv",
   "language": "python",
   "name": "python3"
  },
  "language_info": {
   "codemirror_mode": {
    "name": "ipython",
    "version": 3
   },
   "file_extension": ".py",
   "mimetype": "text/x-python",
   "name": "python",
   "nbconvert_exporter": "python",
   "pygments_lexer": "ipython3",
   "version": "3.11.3"
  },
  "nbreg": {
   "skip": true,
   "skip_reason": "Requires connection to CDF."
  }
 },
 "nbformat": 4,
 "nbformat_minor": 2
}
