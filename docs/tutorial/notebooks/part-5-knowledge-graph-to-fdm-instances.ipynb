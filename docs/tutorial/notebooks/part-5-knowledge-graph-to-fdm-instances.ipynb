{
 "cells": [
  {
   "cell_type": "markdown",
   "metadata": {},
   "source": [
    "# Part 5: Graph to fDM\n",
    "\n",
    "[![Notebook](https://shields.io/badge/notebook-access-green?logo=jupyter&style=for-the-badge)](https://github.com/cognitedata/neat/blob/docs/tutorial/notebooks/part-5-knowledge-graph-to-fdm-instances.ipynb)\n",
    "\n",
    "* author: Nikola Vasiljevic\n",
    "* date: 2023-09-06\n",
    "\n",
    "\n",
    "In this Part 5 of tutorial series we will work with flexible Data Model(`fDM`) capabilties of Cognite Data Fusion. Unlike asset hiearchy, `fDM` provides full flexibiliy when come to modeling of domain. Instead of having generic assets, which one needs to enrich with metadata to make them more specific, with `fDM` one can model objects to ones will. In other words we are able to digitally model physical reality and store information, in the similar fashion like in case of our base `NeatGraph`.\n",
    "\n",
    "`fDM` and modeled objects instances are stored in what is known as DMS (Data Model Storage), so often through out this tutorial you will see relations to `DMS`.\n",
    "\n",
    "We strongly encourage reading Cognite material on data modeling:\n",
    "- [About data modeling](https://docs.cognite.com/cdf/data_modeling/)\n",
    "- [Developers docs on data modeling](https://developer.cognite.com/dm/)\n",
    "\n",
    "We will start very light with `fDM`. For this puspose we will use [this transformation rules](https://github.com/cognitedata/neat/blob/main/cognite/neat/examples/rules/sheet2cdf-transformation-rules.xlsx). For simplicty, we provide direct access through while doing import of necessary methods.\n",
    "\n",
    "\n",
    "Also, for convenience store configuration of a Cognite client in `.env` file, with following structure:\n",
    "\n",
    "```\n",
    "\n",
    "TENANT_ID = ...\n",
    "CLIENT_ID = ...\n",
    "CLIENT_SECRET = ...\n",
    "CDF_CLUSTER = ...\n",
    "COGNITE_PROJECT = ...\n",
    "\n",
    "```\n",
    "\n",
    "This file will be loaded as config dictionary and used to configure the Cognite client.\n",
    "\n",
    "\n",
    "Once you located necessary files, created `.env` file, load necessary libraries:"
   ]
  },
  {
   "cell_type": "code",
   "execution_count": 20,
   "metadata": {},
   "outputs": [],
   "source": [
    "from dotenv import dotenv_values\n",
    "\n",
    "from cognite.neat.rules.parser import parse_rules_from_excel_file\n",
    "from cognite.neat.rules.analysis import get_defined_classes\n",
    "from cognite.neat.rules.examples import simple_example\n",
    "\n",
    "from cognite.neat.rules.exporter.rules2dms import DataModel\n",
    "from cognite.neat.rules.exporter.rules2triples import get_instances_as_triples\n",
    "\n",
    "\n",
    "from cognite.neat.graph.stores import NeatGraphStore\n",
    "\n",
    "from cognite.neat.graph.loaders.rdf_to_dms import rdf2nodes_and_edges, upload_nodes, upload_edges\n",
    "\n",
    "\n",
    "from cognite.client import CogniteClient, ClientConfig\n",
    "from cognite.client.credentials import OAuthClientCredentials\n",
    "\n",
    "\n",
    "%reload_ext autoreload\n",
    "%autoreload 2"
   ]
  },
  {
   "cell_type": "code",
   "execution_count": 3,
   "metadata": {},
   "outputs": [],
   "source": [
    "config = dotenv_values(\"_path_to_your_env_file\")\n",
    "\n",
    "SCOPES = [f\"https://{config['CDF_CLUSTER']}.cognitedata.com/.default\"]\n",
    "TOKEN_URL = f\"https://login.microsoftonline.com/{config['TENANT_ID']}/oauth2/v2.0/token\"\n",
    "\n",
    "credentials = OAuthClientCredentials(token_url=TOKEN_URL, \n",
    "                                     client_id=config['CLIENT_ID'], \n",
    "                                     client_secret=config['CLIENT_SECRET'], \n",
    "                                     scopes=SCOPES)\n",
    "\n",
    "client_config = ClientConfig(client_name=\"cognite\",\n",
    "                             base_url=f\"https://{config['CDF_CLUSTER']}.cognitedata.com\",\n",
    "                             project=config['COGNITE_PROJECT'],\n",
    "                             credentials=credentials,\n",
    "                             max_workers=1,\n",
    "                             timeout=5 * 60,)\n",
    "\n",
    "client = CogniteClient(client_config)"
   ]
  },
  {
   "cell_type": "markdown",
   "metadata": {},
   "source": [
    "Order of creating data model and its components is as following in `neat`:\n",
    "1. Create `space` in CDF, where you will store `containers`, `views` and `data model`\n",
    "2. Create `containers` in CDF, which will store data, where each container represents an object you defined in your data model\n",
    "3. Create `views` on top of `containers`, which provide `view` into `container`\n",
    "4. Create `data_model` as collection of `views`\n",
    "\n",
    "`neat` will do this for you, all you need to do is to define data model through `TransformationRules` and provide knowledge graph.\n",
    "\n",
    "So let's start first with loading `TransfromationRules` and turning this one into `DataModel` class which contains methods for creating and uploading `data model` and its components:"
   ]
  },
  {
   "cell_type": "code",
   "execution_count": 15,
   "metadata": {},
   "outputs": [],
   "source": [
    "transformation_rules = parse_rules_from_excel_file(simple_example)\n",
    "\n",
    "data_model = DataModel.from_rules(transformation_rules)"
   ]
  },
  {
   "cell_type": "markdown",
   "metadata": {},
   "source": [
    "Let's inspect how many containers and views our data model contains:"
   ]
  },
  {
   "cell_type": "code",
   "execution_count": 7,
   "metadata": {},
   "outputs": [
    {
     "data": {
      "text/plain": [
       "dict_keys(['CountryGroup', 'Country', 'PriceArea', 'PriceAreaConnection'])"
      ]
     },
     "execution_count": 7,
     "metadata": {},
     "output_type": "execute_result"
    }
   ],
   "source": [
    "data_model.containers.keys()"
   ]
  },
  {
   "cell_type": "code",
   "execution_count": 8,
   "metadata": {},
   "outputs": [
    {
     "data": {
      "text/plain": [
       "dict_keys(['CountryGroup', 'Country', 'PriceArea', 'PriceAreaConnection'])"
      ]
     },
     "execution_count": 8,
     "metadata": {},
     "output_type": "execute_result"
    }
   ],
   "source": [
    "data_model.views.keys()"
   ]
  },
  {
   "cell_type": "markdown",
   "metadata": {},
   "source": [
    "As expected these containers/views correspond to `classes` we defined in `TransformationRules`:"
   ]
  },
  {
   "cell_type": "code",
   "execution_count": 10,
   "metadata": {},
   "outputs": [
    {
     "data": {
      "text/plain": [
       "{'Country', 'CountryGroup', 'PriceArea', 'PriceAreaConnection'}"
      ]
     },
     "execution_count": 10,
     "metadata": {},
     "output_type": "execute_result"
    }
   ],
   "source": [
    "get_defined_classes(rules)"
   ]
  },
  {
   "cell_type": "markdown",
   "metadata": {},
   "source": [
    "Prior uploading data model and its components to Cognite Data Fusion, let's check under which `space` they will be stored:"
   ]
  },
  {
   "cell_type": "code",
   "execution_count": 12,
   "metadata": {},
   "outputs": [
    {
     "data": {
      "text/plain": [
       "'playground'"
      ]
     },
     "execution_count": 12,
     "metadata": {},
     "output_type": "execute_result"
    }
   ],
   "source": [
    "data_model.space"
   ]
  },
  {
   "cell_type": "markdown",
   "metadata": {},
   "source": [
    "To alter space under which data model and its components should be stored add or update field `cdfSpaceName` in the `TransformationRules` Excel file or change it directly here. For time being will stick to `playground` space, and upload model there:"
   ]
  },
  {
   "cell_type": "code",
   "execution_count": 13,
   "metadata": {},
   "outputs": [],
   "source": [
    "data_model.to_cdf(client)"
   ]
  },
  {
   "cell_type": "markdown",
   "metadata": {},
   "source": [
    "Loggin to CDF and go through Explore->Model your data->NEAT Playground Data Model, you should see something like this:\n",
    "![](../../figs/DataModelCDF.PNG)"
   ]
  },
  {
   "cell_type": "markdown",
   "metadata": {},
   "source": [
    "Let's now create instances of objects that we have defined, i.e. let's store data in `containes` we have created.\n",
    "First we will create `NeatGraphStore` and then inject triples that define instances which are sotred in `Instances` sheet of `TransformationRules`:"
   ]
  },
  {
   "cell_type": "code",
   "execution_count": 29,
   "metadata": {},
   "outputs": [],
   "source": [
    "graph_store = NeatGraphStore(prefixes=transformation_rules.prefixes, \n",
    "                              namespace=transformation_rules.prefixes[transformation_rules.metadata.prefix])\n",
    "graph_store.init_graph(base_prefix=transformation_rules.metadata.prefix)\n",
    "\n",
    "\n",
    "for triple in get_instances_as_triples(transformation_rules):\n",
    "    graph_store.graph.add(triple)"
   ]
  },
  {
   "cell_type": "markdown",
   "metadata": {},
   "source": [
    "Now we will create `nodes` and `edges` that will be stored in containers:"
   ]
  },
  {
   "cell_type": "code",
   "execution_count": 31,
   "metadata": {},
   "outputs": [],
   "source": [
    "nodes, edges, exceptions =  rdf2nodes_and_edges(graph_store, transformation_rules)"
   ]
  },
  {
   "cell_type": "markdown",
   "metadata": {},
   "source": [
    "Let's look at two `nodes`, one being `Nordics.Norway.NO1` and another being `NO1.NO5`"
   ]
  },
  {
   "cell_type": "code",
   "execution_count": 42,
   "metadata": {},
   "outputs": [
    {
     "data": {
      "text/html": [
       "<div>\n",
       "<style scoped>\n",
       "    .dataframe tbody tr th:only-of-type {\n",
       "        vertical-align: middle;\n",
       "    }\n",
       "\n",
       "    .dataframe tbody tr th {\n",
       "        vertical-align: top;\n",
       "    }\n",
       "\n",
       "    .dataframe thead th {\n",
       "        text-align: right;\n",
       "    }\n",
       "</style>\n",
       "<table border=\"1\" class=\"dataframe\">\n",
       "  <thead>\n",
       "    <tr style=\"text-align: right;\">\n",
       "      <th></th>\n",
       "      <th>value</th>\n",
       "    </tr>\n",
       "  </thead>\n",
       "  <tbody>\n",
       "    <tr>\n",
       "      <th>instance_type</th>\n",
       "      <td>node</td>\n",
       "    </tr>\n",
       "    <tr>\n",
       "      <th>space</th>\n",
       "      <td>playground</td>\n",
       "    </tr>\n",
       "    <tr>\n",
       "      <th>external_id</th>\n",
       "      <td>Nordics.Norway.NO1</td>\n",
       "    </tr>\n",
       "    <tr>\n",
       "      <th>sources</th>\n",
       "      <td>[{'properties': {'name': 'NO1', 'country': {'s...</td>\n",
       "    </tr>\n",
       "  </tbody>\n",
       "</table>\n",
       "</div>"
      ],
      "text/plain": [
       "<NodeApply(space='playground', external_id='Nordics.Norway.NO1') at 0x7fc01527f2d0>"
      ]
     },
     "execution_count": 42,
     "metadata": {},
     "output_type": "execute_result"
    }
   ],
   "source": [
    "nodes[2]"
   ]
  },
  {
   "cell_type": "code",
   "execution_count": 49,
   "metadata": {},
   "outputs": [
    {
     "data": {
      "text/html": [
       "<div>\n",
       "<style scoped>\n",
       "    .dataframe tbody tr th:only-of-type {\n",
       "        vertical-align: middle;\n",
       "    }\n",
       "\n",
       "    .dataframe tbody tr th {\n",
       "        vertical-align: top;\n",
       "    }\n",
       "\n",
       "    .dataframe thead th {\n",
       "        text-align: right;\n",
       "    }\n",
       "</style>\n",
       "<table border=\"1\" class=\"dataframe\">\n",
       "  <thead>\n",
       "    <tr style=\"text-align: right;\">\n",
       "      <th></th>\n",
       "      <th>value</th>\n",
       "    </tr>\n",
       "  </thead>\n",
       "  <tbody>\n",
       "    <tr>\n",
       "      <th>instance_type</th>\n",
       "      <td>node</td>\n",
       "    </tr>\n",
       "    <tr>\n",
       "      <th>space</th>\n",
       "      <td>playground</td>\n",
       "    </tr>\n",
       "    <tr>\n",
       "      <th>external_id</th>\n",
       "      <td>NO1.NO5</td>\n",
       "    </tr>\n",
       "    <tr>\n",
       "      <th>sources</th>\n",
       "      <td>[{'properties': {'name': 'NO1 to NO5'}, 'sourc...</td>\n",
       "    </tr>\n",
       "  </tbody>\n",
       "</table>\n",
       "</div>"
      ],
      "text/plain": [
       "<NodeApply(space='playground', external_id='NO1.NO5') at 0x7fc013ceb410>"
      ]
     },
     "execution_count": 49,
     "metadata": {},
     "output_type": "execute_result"
    }
   ],
   "source": [
    "nodes[9]"
   ]
  },
  {
   "cell_type": "markdown",
   "metadata": {},
   "source": [
    "These two nodes are connected via `edge`"
   ]
  },
  {
   "cell_type": "code",
   "execution_count": 39,
   "metadata": {},
   "outputs": [
    {
     "data": {
      "text/html": [
       "<div>\n",
       "<style scoped>\n",
       "    .dataframe tbody tr th:only-of-type {\n",
       "        vertical-align: middle;\n",
       "    }\n",
       "\n",
       "    .dataframe tbody tr th {\n",
       "        vertical-align: top;\n",
       "    }\n",
       "\n",
       "    .dataframe thead th {\n",
       "        text-align: right;\n",
       "    }\n",
       "</style>\n",
       "<table border=\"1\" class=\"dataframe\">\n",
       "  <thead>\n",
       "    <tr style=\"text-align: right;\">\n",
       "      <th></th>\n",
       "      <th>value</th>\n",
       "    </tr>\n",
       "  </thead>\n",
       "  <tbody>\n",
       "    <tr>\n",
       "      <th>instance_type</th>\n",
       "      <td>edge</td>\n",
       "    </tr>\n",
       "    <tr>\n",
       "      <th>space</th>\n",
       "      <td>playground</td>\n",
       "    </tr>\n",
       "    <tr>\n",
       "      <th>external_id</th>\n",
       "      <td>Nordics.Norway.NO1-NO1.NO5</td>\n",
       "    </tr>\n",
       "    <tr>\n",
       "      <th>type</th>\n",
       "      <td>{'space': 'playground', 'external_id': 'PriceA...</td>\n",
       "    </tr>\n",
       "    <tr>\n",
       "      <th>start_node</th>\n",
       "      <td>{'space': 'playground', 'external_id': 'Nordic...</td>\n",
       "    </tr>\n",
       "    <tr>\n",
       "      <th>end_node</th>\n",
       "      <td>{'space': 'playground', 'external_id': 'NO1.NO5'}</td>\n",
       "    </tr>\n",
       "  </tbody>\n",
       "</table>\n",
       "</div>"
      ],
      "text/plain": [
       "<EdgeApply(space='playground', external_id='Nordics.Norway.NO1-NO1.NO5') at 0x7fc0147e4490>"
      ]
     },
     "execution_count": 39,
     "metadata": {},
     "output_type": "execute_result"
    }
   ],
   "source": [
    "edges[0]"
   ]
  },
  {
   "cell_type": "markdown",
   "metadata": {},
   "source": [
    "As we now have `nodes` and `edges` we can upload them to `CDF`.\n",
    "We start with uploading `nodes` followed by `edges`."
   ]
  },
  {
   "cell_type": "code",
   "execution_count": 52,
   "metadata": {},
   "outputs": [],
   "source": [
    "upload_nodes(client, nodes)\n",
    "upload_edges(client, edges)"
   ]
  },
  {
   "cell_type": "markdown",
   "metadata": {},
   "source": [
    "Let's now see results in Cognite Data Fusion:\n",
    "\n",
    "![](../../figs/DataModelInstancesCDF.PNG)\n",
    "\n",
    "\n",
    "If experiment features in Cognite Data Fusion are enable, one can see also visually graph: \n",
    "\n",
    "![](../../figs/DataModelInstancesVizCDF.PNG)"
   ]
  }
 ],
 "metadata": {
  "kernelspec": {
   "display_name": ".venv",
   "language": "python",
   "name": "python3"
  },
  "language_info": {
   "codemirror_mode": {
    "name": "ipython",
    "version": 3
   },
   "file_extension": ".py",
   "mimetype": "text/x-python",
   "name": "python",
   "nbconvert_exporter": "python",
   "pygments_lexer": "ipython3",
   "version": "3.11.3"
  },
  "nbreg": {
   "skip": true,
   "skip_reason": "Requires connection to CDF."
  }
 },
 "nbformat": 4,
 "nbformat_minor": 2
}
