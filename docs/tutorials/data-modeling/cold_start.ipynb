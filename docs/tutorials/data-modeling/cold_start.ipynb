{
 "cells": [
  {
   "cell_type": "markdown",
   "id": "7a8dc944-7693-437b-9e72-672f23cadad6",
   "metadata": {},
   "source": [
    "# Data Modeling Introduction\n",
    "\n",
    "**Prerequisite**:\n",
    "\n",
    "- Installed Neat, see [Installation](../../gettingstarted/installation.html)\n",
    "- Launched a notebook environment.\n",
    "- Familiar with the `NeatSession` object, see [introduction](../introduction/introduction.html)\n",
    "\n",
    "\n",
    "\n",
    "In this tutorial, we will publish an example data model to CDF."
   ]
  },
  {
   "cell_type": "markdown",
   "id": "9d4056db-aa9e-4ba9-824e-1b6b2d0f2fd2",
   "metadata": {
    "editable": true,
    "slideshow": {
     "slide_type": ""
    },
    "tags": []
   },
   "source": [
    "## Reading Data Model"
   ]
  },
  {
   "cell_type": "markdown",
   "id": "a77d8669-2469-47eb-bb43-cbfefe3c6355",
   "metadata": {
    "editable": true,
    "slideshow": {
     "slide_type": ""
    },
    "tags": []
   },
   "source": [
    "We will start by instansiating a `NeatSession`. The below steps assumes you are in a CDF Notebook"
   ]
  },
  {
   "cell_type": "code",
   "execution_count": null,
   "id": "fc860514-3ddb-4ac7-8b5f-766f135db13a",
   "metadata": {
    "editable": true,
    "slideshow": {
     "slide_type": ""
    },
    "tags": []
   },
   "outputs": [],
   "source": [
    "%pip install cognite-neat\n",
    "\n",
    "from cognite.client import CogniteClient\n",
    "from cognite.neat import NeatSession\n",
    "\n",
    "client = CogniteClient()\n",
    "\n",
    "neat = NeatSession(client)"
   ]
  },
  {
   "cell_type": "code",
   "execution_count": 1,
   "id": "a0a86250-8f85-49e0-97c7-679daed4de4a",
   "metadata": {
    "editable": true,
    "slideshow": {
     "slide_type": ""
    },
    "tags": [
     "hide"
    ]
   },
   "outputs": [],
   "source": [
    "# This cell is hidden, it is here for creating the tutorial locally.\n",
    "import io\n",
    "from cognite.neat import NeatSession, get_cognite_client\n",
    "from contextlib import redirect_stdout\n",
    "\n",
    "# To avoid printing any output\n",
    "with redirect_stdout(io.StringIO()):\n",
    "    neat = NeatSession(get_cognite_client(\"albert.env\"), load_engine=\"skip\");"
   ]
  },
  {
   "cell_type": "code",
   "execution_count": 2,
   "id": "2830d73c-984c-4460-a05f-1dfaaba56d87",
   "metadata": {},
   "outputs": [
    {
     "name": "stdout",
     "output_type": "stream",
     "text": [
      "Data model read passed\n"
     ]
    },
    {
     "data": {
      "text/html": [
       "<p>'No issues found'</p>"
      ],
      "text/plain": [
       "[]"
      ]
     },
     "execution_count": 2,
     "metadata": {},
     "output_type": "execute_result"
    }
   ],
   "source": [
    "neat.read.excel.examples.pump_example"
   ]
  },
  {
   "cell_type": "code",
   "execution_count": 3,
   "id": "ca1bf57a-640b-41c1-921a-9494a9b98026",
   "metadata": {},
   "outputs": [
    {
     "name": "stdout",
     "output_type": "stream",
     "text": [
      "You can inspect the issues with the .inspect.issues(...) method.\n"
     ]
    },
    {
     "data": {
      "text/html": [
       "<div>\n",
       "<style scoped>\n",
       "    .dataframe tbody tr th:only-of-type {\n",
       "        vertical-align: middle;\n",
       "    }\n",
       "\n",
       "    .dataframe tbody tr th {\n",
       "        vertical-align: top;\n",
       "    }\n",
       "\n",
       "    .dataframe thead th {\n",
       "        text-align: right;\n",
       "    }\n",
       "</style>\n",
       "<table border=\"1\" class=\"dataframe\">\n",
       "  <thead>\n",
       "    <tr style=\"text-align: right;\">\n",
       "      <th></th>\n",
       "      <th>count</th>\n",
       "    </tr>\n",
       "    <tr>\n",
       "      <th>NeatIssue</th>\n",
       "      <th></th>\n",
       "    </tr>\n",
       "  </thead>\n",
       "  <tbody>\n",
       "    <tr>\n",
       "      <th>ReversedConnectionNotFeasibleError</th>\n",
       "      <td>11</td>\n",
       "    </tr>\n",
       "  </tbody>\n",
       "</table>\n",
       "</div>"
      ],
      "text/plain": [
       "[ReversedConnectionNotFeasibleError(identifier=ViewId(space='neat_playground', external_id='Documentation', version='v1'), resource_type='reversed connection', property_name='equipment', reason=\"The ViewId(space='cdf_cdm', external_id='CogniteEquipment', version='v1') files does not exist\"),\n",
       " ReversedConnectionNotFeasibleError(identifier=ViewId(space='neat_playground', external_id='Facility', version='v1'), resource_type='reversed connection', property_name='files', reason=\"The ViewId(space='cdf_cdm', external_id='CogniteFile', version='v1') assets does not exist\"),\n",
       " ReversedConnectionNotFeasibleError(identifier=ViewId(space='neat_playground', external_id='Facility', version='v1'), resource_type='reversed connection', property_name='children', reason=\"The ViewId(space='cdf_cdm', external_id='CogniteAsset', version='v1') parent does not exist\"),\n",
       " ReversedConnectionNotFeasibleError(identifier=ViewId(space='neat_playground', external_id='Facility', version='v1'), resource_type='reversed connection', property_name='equipment', reason=\"The ViewId(space='cdf_cdm', external_id='CogniteEquipment', version='v1') asset does not exist\"),\n",
       " ReversedConnectionNotFeasibleError(identifier=ViewId(space='neat_playground', external_id='Facility', version='v1'), resource_type='reversed connection', property_name='activities', reason=\"The ViewId(space='cdf_cdm', external_id='CogniteActivity', version='v1') assets does not exist\"),\n",
       " ReversedConnectionNotFeasibleError(identifier=ViewId(space='neat_playground', external_id='Facility', version='v1'), resource_type='reversed connection', property_name='timeSeries', reason=\"The ViewId(space='cdf_cdm', external_id='CogniteTimeSeries', version='v1') assets does not exist\"),\n",
       " ReversedConnectionNotFeasibleError(identifier=ViewId(space='neat_playground', external_id='Pump', version='v1'), resource_type='reversed connection', property_name='files', reason=\"The ViewId(space='cdf_cdm', external_id='CogniteFile', version='v1') assets does not exist\"),\n",
       " ReversedConnectionNotFeasibleError(identifier=ViewId(space='neat_playground', external_id='Pump', version='v1'), resource_type='reversed connection', property_name='children', reason=\"The ViewId(space='cdf_cdm', external_id='CogniteAsset', version='v1') parent does not exist\"),\n",
       " ReversedConnectionNotFeasibleError(identifier=ViewId(space='neat_playground', external_id='Pump', version='v1'), resource_type='reversed connection', property_name='equipment', reason=\"The ViewId(space='cdf_cdm', external_id='CogniteEquipment', version='v1') asset does not exist\"),\n",
       " ReversedConnectionNotFeasibleError(identifier=ViewId(space='neat_playground', external_id='Pump', version='v1'), resource_type='reversed connection', property_name='activities', reason=\"The ViewId(space='cdf_cdm', external_id='CogniteActivity', version='v1') assets does not exist\"),\n",
       " ReversedConnectionNotFeasibleError(identifier=ViewId(space='neat_playground', external_id='Pump', version='v1'), resource_type='reversed connection', property_name='timeSeries', reason=\"The ViewId(space='cdf_cdm', external_id='CogniteTimeSeries', version='v1') assets does not exist\")]"
      ]
     },
     "execution_count": 3,
     "metadata": {},
     "output_type": "execute_result"
    }
   ],
   "source": [
    "neat.verify()"
   ]
  },
  {
   "cell_type": "code",
   "execution_count": 4,
   "id": "714a95f1-4c8d-4243-9622-bf1c1047b5fc",
   "metadata": {},
   "outputs": [
    {
     "data": {
      "text/markdown": [
       "### 11 issues found\n",
       "\n",
       "  * **ReversedConnectionNotFeasibleError**: The reversed connection ViewId(space='neat_playground', external_id='Documentation', version='v1').equipment cannot be created: The ViewId(space='cdf_cdm', external_id='CogniteEquipment', version='v1') files does not exist\n",
       "  * **ReversedConnectionNotFeasibleError**: The reversed connection ViewId(space='neat_playground', external_id='Facility', version='v1').files cannot be created: The ViewId(space='cdf_cdm', external_id='CogniteFile', version='v1') assets does not exist\n",
       "  * **ReversedConnectionNotFeasibleError**: The reversed connection ViewId(space='neat_playground', external_id='Facility', version='v1').children cannot be created: The ViewId(space='cdf_cdm', external_id='CogniteAsset', version='v1') parent does not exist\n",
       "  * **ReversedConnectionNotFeasibleError**: The reversed connection ViewId(space='neat_playground', external_id='Facility', version='v1').equipment cannot be created: The ViewId(space='cdf_cdm', external_id='CogniteEquipment', version='v1') asset does not exist\n",
       "  * **ReversedConnectionNotFeasibleError**: The reversed connection ViewId(space='neat_playground', external_id='Facility', version='v1').activities cannot be created: The ViewId(space='cdf_cdm', external_id='CogniteActivity', version='v1') assets does not exist\n",
       "  * **ReversedConnectionNotFeasibleError**: The reversed connection ViewId(space='neat_playground', external_id='Facility', version='v1').timeSeries cannot be created: The ViewId(space='cdf_cdm', external_id='CogniteTimeSeries', version='v1') assets does not exist\n",
       "  * **ReversedConnectionNotFeasibleError**: The reversed connection ViewId(space='neat_playground', external_id='Pump', version='v1').files cannot be created: The ViewId(space='cdf_cdm', external_id='CogniteFile', version='v1') assets does not exist\n",
       "  * **ReversedConnectionNotFeasibleError**: The reversed connection ViewId(space='neat_playground', external_id='Pump', version='v1').children cannot be created: The ViewId(space='cdf_cdm', external_id='CogniteAsset', version='v1') parent does not exist\n",
       "  * **ReversedConnectionNotFeasibleError**: The reversed connection ViewId(space='neat_playground', external_id='Pump', version='v1').equipment cannot be created: The ViewId(space='cdf_cdm', external_id='CogniteEquipment', version='v1') asset does not exist\n",
       "  * **ReversedConnectionNotFeasibleError**: The reversed connection ViewId(space='neat_playground', external_id='Pump', version='v1').activities cannot be created: The ViewId(space='cdf_cdm', external_id='CogniteActivity', version='v1') assets does not exist\n",
       "  * **ReversedConnectionNotFeasibleError**: The reversed connection ViewId(space='neat_playground', external_id='Pump', version='v1').timeSeries cannot be created: The ViewId(space='cdf_cdm', external_id='CogniteTimeSeries', version='v1') assets does not exist"
      ],
      "text/plain": [
       "<IPython.core.display.Markdown object>"
      ]
     },
     "metadata": {},
     "output_type": "display_data"
    }
   ],
   "source": [
    "neat.inspect.issues()"
   ]
  },
  {
   "cell_type": "code",
   "execution_count": null,
   "id": "8da4d8a3-7820-4667-b0d1-77729882d8b2",
   "metadata": {},
   "outputs": [],
   "source": []
  },
  {
   "cell_type": "code",
   "execution_count": 4,
   "id": "3ac848a1-84ca-494d-9956-f1f38acfadab",
   "metadata": {},
   "outputs": [
    {
     "data": {
      "text/html": [
       "<pre style=\"white-space:pre;overflow-x:auto;line-height:normal;font-family:Menlo,'DejaVu Sans Mono',consolas,'Courier New',monospace\"><span style=\"color: #800000; text-decoration-color: #800000; font-weight: bold\">[ERROR]</span> Cannot include_referenced: No verified DMS data model. Try using  <span style=\"color: #800080; text-decoration-color: #800080; font-weight: bold\">.convert</span><span style=\"font-weight: bold\">(</span><span style=\"color: #008000; text-decoration-color: #008000; font-weight: bold\">\"DMS\"</span><span style=\"font-weight: bold\">)</span> to convert verified \n",
       "information model to verified DMS model.\n",
       "</pre>\n"
      ],
      "text/plain": [
       "\u001b[1;31m[\u001b[0m\u001b[1;31mERROR\u001b[0m\u001b[1;31m]\u001b[0m Cannot include_referenced: No verified DMS data model. Try using  \u001b[1;35m.convert\u001b[0m\u001b[1m(\u001b[0m\u001b[1;32m\"DMS\"\u001b[0m\u001b[1m)\u001b[0m to convert verified \n",
       "information model to verified DMS model.\n"
      ]
     },
     "metadata": {},
     "output_type": "display_data"
    }
   ],
   "source": [
    "neat.prepare.data_model.include_referenced()"
   ]
  },
  {
   "cell_type": "code",
   "execution_count": null,
   "id": "b63d7843-95f1-497d-b9c5-dd1247bd1e18",
   "metadata": {},
   "outputs": [],
   "source": []
  },
  {
   "cell_type": "code",
   "execution_count": null,
   "id": "23941d19-848e-4fd8-a2d6-2c401d18b61c",
   "metadata": {},
   "outputs": [],
   "source": []
  },
  {
   "cell_type": "code",
   "execution_count": 6,
   "id": "cac87f54-d544-4727-b196-cf8153910f00",
   "metadata": {},
   "outputs": [
    {
     "name": "stdout",
     "output_type": "stream",
     "text": [
      "Data model read passed\n"
     ]
    },
    {
     "data": {
      "text/html": [
       "<p>'No issues found'</p>"
      ],
      "text/plain": [
       "[]"
      ]
     },
     "execution_count": 6,
     "metadata": {},
     "output_type": "execute_result"
    }
   ],
   "source": [
    "neat.read.cdf.data_model(('cdf_cdm', \"CogniteCore\", \"v1\"))"
   ]
  },
  {
   "cell_type": "code",
   "execution_count": 7,
   "id": "71cf258e-1b01-4e75-a321-d4ce1501b627",
   "metadata": {},
   "outputs": [
    {
     "data": {
      "text/html": [
       "<p>'No issues found'</p>"
      ],
      "text/plain": [
       "[]"
      ]
     },
     "execution_count": 7,
     "metadata": {},
     "output_type": "execute_result"
    }
   ],
   "source": [
    "neat.verify()"
   ]
  },
  {
   "cell_type": "code",
   "execution_count": 8,
   "id": "b80ccf75-55fd-4ca3-8fff-86c0b9e7d55a",
   "metadata": {},
   "outputs": [],
   "source": [
    "neat.to.excel(\"core.xlsx\", model=\"dms\")"
   ]
  },
  {
   "cell_type": "code",
   "execution_count": null,
   "id": "038ca832-d3be-46cc-a2af-b6c7b0aa734d",
   "metadata": {},
   "outputs": [],
   "source": []
  },
  {
   "cell_type": "code",
   "execution_count": 2,
   "id": "b4cb8bf0-6162-47c4-9663-7225944e6597",
   "metadata": {
    "editable": true,
    "slideshow": {
     "slide_type": ""
    },
    "tags": []
   },
   "outputs": [
    {
     "name": "stdout",
     "output_type": "stream",
     "text": [
      "Data model read passed\n"
     ]
    },
    {
     "data": {
      "text/html": [
       "<p>'No issues found'</p>"
      ],
      "text/plain": [
       "[]"
      ]
     },
     "execution_count": 2,
     "metadata": {},
     "output_type": "execute_result"
    }
   ],
   "source": [
    "neat.read.cdf.data_model((\"sp_doctrino\", \"coldstart\", \"v1\"))"
   ]
  },
  {
   "cell_type": "code",
   "execution_count": 3,
   "id": "0375c3d5-e4ab-4a87-9033-eb17ee1240d3",
   "metadata": {
    "editable": true,
    "slideshow": {
     "slide_type": ""
    },
    "tags": []
   },
   "outputs": [
    {
     "name": "stdout",
     "output_type": "stream",
     "text": [
      "You can inspect the issues with the .inspect.issues(...) method.\n"
     ]
    },
    {
     "data": {
      "text/html": [
       "<div>\n",
       "<style scoped>\n",
       "    .dataframe tbody tr th:only-of-type {\n",
       "        vertical-align: middle;\n",
       "    }\n",
       "\n",
       "    .dataframe tbody tr th {\n",
       "        vertical-align: top;\n",
       "    }\n",
       "\n",
       "    .dataframe thead th {\n",
       "        text-align: right;\n",
       "    }\n",
       "</style>\n",
       "<table border=\"1\" class=\"dataframe\">\n",
       "  <thead>\n",
       "    <tr style=\"text-align: right;\">\n",
       "      <th></th>\n",
       "      <th>count</th>\n",
       "    </tr>\n",
       "    <tr>\n",
       "      <th>NeatIssue</th>\n",
       "      <th></th>\n",
       "    </tr>\n",
       "  </thead>\n",
       "  <tbody>\n",
       "    <tr>\n",
       "      <th>PrincipleMatchingSpaceAndVersionWarning</th>\n",
       "      <td>3</td>\n",
       "    </tr>\n",
       "  </tbody>\n",
       "</table>\n",
       "</div>"
      ],
      "text/plain": [
       "[PrincipleMatchingSpaceAndVersionWarning(specific=\"The view ViewId(space='sp_doctrino', external_id='Pump', version='b2c5d859af56a4') has a different version than the data model version, v1\"),\n",
       " PrincipleMatchingSpaceAndVersionWarning(specific=\"The view ViewId(space='sp_doctrino', external_id='Facility', version='59765c3c6b66cb') has a different version than the data model version, v1\"),\n",
       " PrincipleMatchingSpaceAndVersionWarning(specific=\"The view ViewId(space='sp_doctrino', external_id='Documentation', version='d192a515d7dc1c') has a different version than the data model version, v1\")]"
      ]
     },
     "execution_count": 3,
     "metadata": {},
     "output_type": "execute_result"
    }
   ],
   "source": [
    "neat.verify()"
   ]
  },
  {
   "cell_type": "code",
   "execution_count": 15,
   "id": "c3ccae6a-e816-4e8b-9567-258e0271b685",
   "metadata": {
    "editable": true,
    "slideshow": {
     "slide_type": ""
    },
    "tags": []
   },
   "outputs": [],
   "source": [
    "neat.to.excel(\"coldstart.xlsx\", model=\"dms\")"
   ]
  },
  {
   "cell_type": "code",
   "execution_count": null,
   "id": "3a7ed4e2-b540-48ab-8602-780b1d738b3e",
   "metadata": {
    "editable": true,
    "slideshow": {
     "slide_type": ""
    },
    "tags": []
   },
   "outputs": [],
   "source": []
  }
 ],
 "metadata": {
  "kernelspec": {
   "display_name": "Python 3 (ipykernel)",
   "language": "python",
   "name": "python3"
  },
  "language_info": {
   "codemirror_mode": {
    "name": "ipython",
    "version": 3
   },
   "file_extension": ".py",
   "mimetype": "text/x-python",
   "name": "python",
   "nbconvert_exporter": "python",
   "pygments_lexer": "ipython3",
   "version": "3.12.1"
  }
 },
 "nbformat": 4,
 "nbformat_minor": 5
}
