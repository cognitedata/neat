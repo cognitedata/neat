{
 "cells": [
  {
   "cell_type": "markdown",
   "id": "7a8dc944-7693-437b-9e72-672f23cadad6",
   "metadata": {},
   "source": [
    "# Data Modeling Introduction\n",
    "\n",
    "**Prerequisite**:\n",
    "\n",
    "- Installed Neat, see [Installation](../../gettingstarted/installation.html)\n",
    "- Launched a notebook environment.\n",
    "- Familiar with the `NeatSession` object, see [introduction](../introduction/introduction.html)\n",
    "\n",
    "\n",
    "\n",
    "In this tutorial, we will publish an example data model to CDF."
   ]
  },
  {
   "cell_type": "markdown",
   "id": "9d4056db-aa9e-4ba9-824e-1b6b2d0f2fd2",
   "metadata": {
    "editable": true,
    "slideshow": {
     "slide_type": ""
    },
    "tags": []
   },
   "source": [
    "## Creating NeatSession"
   ]
  },
  {
   "cell_type": "markdown",
   "id": "a77d8669-2469-47eb-bb43-cbfefe3c6355",
   "metadata": {
    "editable": true,
    "slideshow": {
     "slide_type": ""
    },
    "tags": []
   },
   "source": [
    "We will start by instansiating a `NeatSession`. The below steps assumes you are in a CDF Notebook"
   ]
  },
  {
   "cell_type": "code",
   "execution_count": null,
   "id": "fc860514-3ddb-4ac7-8b5f-766f135db13a",
   "metadata": {
    "editable": true,
    "slideshow": {
     "slide_type": ""
    },
    "tags": []
   },
   "outputs": [],
   "source": [
    "%pip install cognite-neat\n",
    "\n",
    "from cognite.client import CogniteClient\n",
    "\n",
    "from cognite.neat import NeatSession\n",
    "\n",
    "client = CogniteClient()\n",
    "\n",
    "neat = NeatSession(client)"
   ]
  },
  {
   "cell_type": "code",
   "execution_count": 1,
   "id": "a0a86250-8f85-49e0-97c7-679daed4de4a",
   "metadata": {
    "editable": true,
    "slideshow": {
     "slide_type": ""
    },
    "tags": [
     "hide"
    ]
   },
   "outputs": [],
   "source": [
    "# This cell is hidden, it is here for creating the tutorial locally.\n",
    "import io\n",
    "from contextlib import redirect_stdout\n",
    "\n",
    "from cognite.neat import NeatSession, get_cognite_client\n",
    "\n",
    "# To avoid printing any output\n",
    "with redirect_stdout(io.StringIO()):\n",
    "    neat = NeatSession(get_cognite_client(\"albert.env\"), load_engine=\"skip\")"
   ]
  },
  {
   "cell_type": "markdown",
   "id": "bbbc05ad-ca39-469e-8ca0-fa5bef7edcb8",
   "metadata": {},
   "source": [
    "## Reading Data Model\n",
    "\n",
    "We will read an example model that comes with neat."
   ]
  },
  {
   "cell_type": "code",
   "execution_count": 2,
   "id": "aef783f3-f5cd-49c8-9401-b3611c76caeb",
   "metadata": {},
   "outputs": [
    {
     "data": {
      "text/html": [
       "<strong>Empty session</strong>. Get started by reading something with the <em>.read</em> attribute."
      ],
      "text/plain": [
       "<cognite.neat._session._base.NeatSession at 0x14231ccd220>"
      ]
     },
     "execution_count": 2,
     "metadata": {},
     "output_type": "execute_result"
    }
   ],
   "source": [
    "neat"
   ]
  },
  {
   "cell_type": "code",
   "execution_count": 3,
   "id": "2830d73c-984c-4460-a05f-1dfaaba56d87",
   "metadata": {},
   "outputs": [
    {
     "name": "stdout",
     "output_type": "stream",
     "text": [
      "Data model read passed\n"
     ]
    },
    {
     "data": {
      "text/html": [
       "<p>'No issues found'</p>"
      ],
      "text/plain": [
       "[]"
      ]
     },
     "execution_count": 3,
     "metadata": {},
     "output_type": "execute_result"
    }
   ],
   "source": [
    "neat.read.excel.examples.pump_example"
   ]
  },
  {
   "cell_type": "code",
   "execution_count": 4,
   "id": "5d4609a2-55d6-41a5-af8e-e6c2438ec385",
   "metadata": {},
   "outputs": [
    {
     "data": {
      "text/html": [
       "<H2>Unverified Data Model</H2><br /><div>\n",
       "<style scoped>\n",
       "    .dataframe tbody tr th:only-of-type {\n",
       "        vertical-align: middle;\n",
       "    }\n",
       "\n",
       "    .dataframe tbody tr th {\n",
       "        vertical-align: top;\n",
       "    }\n",
       "\n",
       "    .dataframe thead th {\n",
       "        text-align: right;\n",
       "    }\n",
       "</style>\n",
       "<table border=\"1\" class=\"dataframe\">\n",
       "  <thead>\n",
       "    <tr style=\"text-align: right;\">\n",
       "      <th></th>\n",
       "      <th></th>\n",
       "    </tr>\n",
       "  </thead>\n",
       "  <tbody>\n",
       "    <tr>\n",
       "      <th>type</th>\n",
       "      <td>Physical Data Model</td>\n",
       "    </tr>\n",
       "    <tr>\n",
       "      <th>intended for</th>\n",
       "      <td>DMS Architect</td>\n",
       "    </tr>\n",
       "    <tr>\n",
       "      <th>name</th>\n",
       "      <td>Neat Hello World</td>\n",
       "    </tr>\n",
       "    <tr>\n",
       "      <th>space</th>\n",
       "      <td>neat_playground</td>\n",
       "    </tr>\n",
       "    <tr>\n",
       "      <th>external_id</th>\n",
       "      <td>NeatHelloWorld</td>\n",
       "    </tr>\n",
       "    <tr>\n",
       "      <th>version</th>\n",
       "      <td>v1</td>\n",
       "    </tr>\n",
       "    <tr>\n",
       "      <th>views</th>\n",
       "      <td>33</td>\n",
       "    </tr>\n",
       "    <tr>\n",
       "      <th>containers</th>\n",
       "      <td>3</td>\n",
       "    </tr>\n",
       "    <tr>\n",
       "      <th>properties</th>\n",
       "      <td>14</td>\n",
       "    </tr>\n",
       "  </tbody>\n",
       "</table>\n",
       "</div>"
      ],
      "text/plain": [
       "<cognite.neat._session._base.NeatSession at 0x14231ccd220>"
      ]
     },
     "execution_count": 4,
     "metadata": {},
     "output_type": "execute_result"
    }
   ],
   "source": [
    "neat"
   ]
  },
  {
   "cell_type": "markdown",
   "id": "4e0ad7ab-b5fd-4573-badb-f80fc4c8817c",
   "metadata": {},
   "source": [
    "When we read a model in neat, it will always be unverified. This is to enable use to do modifications to the model before we verify it. \n",
    "\n",
    "In this case, we know that the example is ready to be verified"
   ]
  },
  {
   "cell_type": "code",
   "execution_count": 5,
   "id": "ca1bf57a-640b-41c1-921a-9494a9b98026",
   "metadata": {},
   "outputs": [
    {
     "data": {
      "text/html": [
       "<p>'No issues found'</p>"
      ],
      "text/plain": [
       "[]"
      ]
     },
     "execution_count": 5,
     "metadata": {},
     "output_type": "execute_result"
    }
   ],
   "source": [
    "neat.verify()"
   ]
  },
  {
   "cell_type": "code",
   "execution_count": 6,
   "id": "a78832d1-cddc-47bc-b093-68cb34208990",
   "metadata": {},
   "outputs": [
    {
     "data": {
      "text/html": [
       "<H2>Verified Data Model</H2><br /><div>\n",
       "<style scoped>\n",
       "    .dataframe tbody tr th:only-of-type {\n",
       "        vertical-align: middle;\n",
       "    }\n",
       "\n",
       "    .dataframe tbody tr th {\n",
       "        vertical-align: top;\n",
       "    }\n",
       "\n",
       "    .dataframe thead th {\n",
       "        text-align: right;\n",
       "    }\n",
       "</style>\n",
       "<table border=\"1\" class=\"dataframe\">\n",
       "  <thead>\n",
       "    <tr style=\"text-align: right;\">\n",
       "      <th></th>\n",
       "      <th></th>\n",
       "    </tr>\n",
       "  </thead>\n",
       "  <tbody>\n",
       "    <tr>\n",
       "      <th>aspect</th>\n",
       "      <td>physical</td>\n",
       "    </tr>\n",
       "    <tr>\n",
       "      <th>intended for</th>\n",
       "      <td>DMS Architect</td>\n",
       "    </tr>\n",
       "    <tr>\n",
       "      <th>name</th>\n",
       "      <td>Neat Hello World</td>\n",
       "    </tr>\n",
       "    <tr>\n",
       "      <th>space</th>\n",
       "      <td>neat_playground</td>\n",
       "    </tr>\n",
       "    <tr>\n",
       "      <th>external_id</th>\n",
       "      <td>NeatHelloWorld</td>\n",
       "    </tr>\n",
       "    <tr>\n",
       "      <th>version</th>\n",
       "      <td>v1</td>\n",
       "    </tr>\n",
       "    <tr>\n",
       "      <th>views</th>\n",
       "      <td>33</td>\n",
       "    </tr>\n",
       "    <tr>\n",
       "      <th>containers</th>\n",
       "      <td>3</td>\n",
       "    </tr>\n",
       "    <tr>\n",
       "      <th>properties</th>\n",
       "      <td>14</td>\n",
       "    </tr>\n",
       "  </tbody>\n",
       "</table>\n",
       "</div>"
      ],
      "text/plain": [
       "<cognite.neat._session._base.NeatSession at 0x14231ccd220>"
      ]
     },
     "execution_count": 6,
     "metadata": {},
     "output_type": "execute_result"
    }
   ],
   "source": [
    "neat"
   ]
  },
  {
   "cell_type": "markdown",
   "id": "be4dd855-cf90-4eb7-9f11-e0be9923ad5c",
   "metadata": {},
   "source": [
    "## Inspect Model\n",
    "\n",
    "We can visualize the data model with the show command"
   ]
  },
  {
   "cell_type": "code",
   "execution_count": 7,
   "id": "089ccfbe-147a-4207-974d-474c5db2b305",
   "metadata": {},
   "outputs": [
    {
     "name": "stdout",
     "output_type": "stream",
     "text": [
      "http_purl.org_cognite_neat_data-model_verified_physical_neat_playground_NeatHelloWorld_v1.html\n"
     ]
    },
    {
     "data": {
      "text/html": [
       "\n",
       "        <iframe\n",
       "            width=\"100%\"\n",
       "            height=\"750px\"\n",
       "            src=\"http_purl.org_cognite_neat_data-model_verified_physical_neat_playground_NeatHelloWorld_v1.html\"\n",
       "            frameborder=\"0\"\n",
       "            allowfullscreen\n",
       "            \n",
       "        ></iframe>\n",
       "        "
      ],
      "text/plain": [
       "<IPython.lib.display.IFrame at 0x14237244560>"
      ]
     },
     "execution_count": 7,
     "metadata": {},
     "output_type": "execute_result"
    }
   ],
   "source": [
    "neat.show.data_model()"
   ]
  },
  {
   "cell_type": "markdown",
   "id": "dc22f9e1-fa5b-4d64-960f-03ac0b573673",
   "metadata": {},
   "source": [
    "## Deploy to CDF\n",
    "\n",
    "We want to deploy this model to CDF.\n",
    "\n",
    "First, instead of using the default data model ID, we set our own."
   ]
  },
  {
   "cell_type": "code",
   "execution_count": 8,
   "id": "8da4d8a3-7820-4667-b0d1-77729882d8b2",
   "metadata": {},
   "outputs": [
    {
     "name": "stdout",
     "output_type": "stream",
     "text": [
      "Data model ID set to ('my_space', 'HelloWorldModel', 'v1')\n"
     ]
    }
   ],
   "source": [
    "neat.set.data_model_id((\"my_space\", \"HelloWorldModel\", \"v1\"))"
   ]
  },
  {
   "cell_type": "markdown",
   "id": "79af0ca1-7c7b-4a8b-b726-e893f1d93fa8",
   "metadata": {},
   "source": [
    "Then we deploy the data model to CDF."
   ]
  },
  {
   "cell_type": "code",
   "execution_count": 4,
   "id": "b63d7843-95f1-497d-b9c5-dd1247bd1e18",
   "metadata": {},
   "outputs": [
    {
     "name": "stdout",
     "output_type": "stream",
     "text": [
      "You can inspect the details with the .inspect.outcome.data_model(...) method.\n"
     ]
    },
    {
     "data": {
      "text/html": [
       "<style type=\"text/css\">\n",
       "</style>\n",
       "<table id=\"T_3355d\">\n",
       "  <thead>\n",
       "    <tr>\n",
       "      <th class=\"blank level0\" >&nbsp;</th>\n",
       "      <th id=\"T_3355d_level0_col0\" class=\"col_heading level0 col0\" >name</th>\n",
       "      <th id=\"T_3355d_level0_col1\" class=\"col_heading level0 col1\" >created</th>\n",
       "    </tr>\n",
       "  </thead>\n",
       "  <tbody>\n",
       "    <tr>\n",
       "      <th id=\"T_3355d_level0_row0\" class=\"row_heading level0 row0\" >0</th>\n",
       "      <td id=\"T_3355d_row0_col0\" class=\"data row0 col0\" >schema</td>\n",
       "      <td id=\"T_3355d_row0_col1\" class=\"data row0 col1\" >0</td>\n",
       "    </tr>\n",
       "    <tr>\n",
       "      <th id=\"T_3355d_level0_row1\" class=\"row_heading level0 row1\" >1</th>\n",
       "      <td id=\"T_3355d_row1_col0\" class=\"data row1 col0\" >spaces</td>\n",
       "      <td id=\"T_3355d_row1_col1\" class=\"data row1 col1\" >1</td>\n",
       "    </tr>\n",
       "    <tr>\n",
       "      <th id=\"T_3355d_level0_row2\" class=\"row_heading level0 row2\" >2</th>\n",
       "      <td id=\"T_3355d_row2_col0\" class=\"data row2 col0\" >containers</td>\n",
       "      <td id=\"T_3355d_row2_col1\" class=\"data row2 col1\" >3</td>\n",
       "    </tr>\n",
       "    <tr>\n",
       "      <th id=\"T_3355d_level0_row3\" class=\"row_heading level0 row3\" >3</th>\n",
       "      <td id=\"T_3355d_row3_col0\" class=\"data row3 col0\" >views</td>\n",
       "      <td id=\"T_3355d_row3_col1\" class=\"data row3 col1\" >3</td>\n",
       "    </tr>\n",
       "    <tr>\n",
       "      <th id=\"T_3355d_level0_row4\" class=\"row_heading level0 row4\" >4</th>\n",
       "      <td id=\"T_3355d_row4_col0\" class=\"data row4 col0\" >data_models</td>\n",
       "      <td id=\"T_3355d_row4_col1\" class=\"data row4 col1\" >1</td>\n",
       "    </tr>\n",
       "    <tr>\n",
       "      <th id=\"T_3355d_level0_row5\" class=\"row_heading level0 row5\" >5</th>\n",
       "      <td id=\"T_3355d_row5_col0\" class=\"data row5 col0\" >nodes</td>\n",
       "      <td id=\"T_3355d_row5_col1\" class=\"data row5 col1\" >0</td>\n",
       "    </tr>\n",
       "  </tbody>\n",
       "</table>\n"
      ],
      "text/plain": [
       "[UploadResultCore(name='schema', error_messages=[], issues=[]),\n",
       " UploadResult(name='spaces', error_messages=[], issues=[], created={'neat_playground'}, upserted=set(), deleted=set(), changed=set(), unchanged=set(), skipped=set(), failed_created=set(), failed_upserted=set(), failed_changed=set(), failed_deleted=set()),\n",
       " UploadResult(name='containers', error_messages=[], issues=[], created={ContainerId(space='neat_playground', external_id='Documentation'), ContainerId(space='neat_playground', external_id='Facility'), ContainerId(space='neat_playground', external_id='Pump')}, upserted=set(), deleted=set(), changed=set(), unchanged=set(), skipped=set(), failed_created=set(), failed_upserted=set(), failed_changed=set(), failed_deleted=set()),\n",
       " UploadResult(name='views', error_messages=[], issues=[], created={ViewId(space='neat_playground', external_id='Facility', version='v1'), ViewId(space='neat_playground', external_id='Documentation', version='v1'), ViewId(space='neat_playground', external_id='Pump', version='v1')}, upserted=set(), deleted=set(), changed=set(), unchanged=set(), skipped=set(), failed_created=set(), failed_upserted=set(), failed_changed=set(), failed_deleted=set()),\n",
       " UploadResult(name='data_models', error_messages=[], issues=[], created={DataModelId(space='neat_playground', external_id='NeatHelloWorld', version='v1')}, upserted=set(), deleted=set(), changed=set(), unchanged=set(), skipped=set(), failed_created=set(), failed_upserted=set(), failed_changed=set(), failed_deleted=set()),\n",
       " UploadResult(name='nodes', error_messages=[], issues=[], created=set(), upserted=set(), deleted=set(), changed=set(), unchanged=set(), skipped=set(), failed_created=set(), failed_upserted=set(), failed_changed=set(), failed_deleted=set())]"
      ]
     },
     "execution_count": 4,
     "metadata": {},
     "output_type": "execute_result"
    }
   ],
   "source": [
    "neat.to.cdf.data_model()"
   ]
  },
  {
   "cell_type": "markdown",
   "id": "3f5db112-7f2d-4bac-ad7a-76da07e3844e",
   "metadata": {},
   "source": [
    "We can now login to CDF to see the model\n",
    "\n",
    "<img src=\"../../artifacts/figs/pump_hello_world_published.png\" width=\"800\">"
   ]
  },
  {
   "cell_type": "markdown",
   "id": "28b9ff7e-05f3-42c9-a0ae-3c506d6652ea",
   "metadata": {},
   "source": [
    "Note that model is an extension of `CogniteCore` and thus includes `CogniteCore` types as well as the `Pump`, `Facility` and `Documentation`"
   ]
  },
  {
   "cell_type": "markdown",
   "id": "e91bf543-d232-488f-97c0-eb5d1bb4ac25",
   "metadata": {},
   "source": [
    "## Model to Excel\n",
    "\n",
    "Finally, we can inspect the data model in Excel by using the `to.excel` command."
   ]
  },
  {
   "cell_type": "code",
   "execution_count": null,
   "id": "13e8ba90-543c-4907-9ff8-52e227bd08a1",
   "metadata": {},
   "outputs": [],
   "source": [
    "neat.to.excel(\"my_first_model.xlsx\", model=\"dms\")"
   ]
  },
  {
   "cell_type": "code",
   "execution_count": null,
   "id": "254127ca-6465-4668-8b90-e37edc4c250e",
   "metadata": {},
   "outputs": [],
   "source": []
  }
 ],
 "metadata": {
  "kernelspec": {
   "display_name": "Python 3 (ipykernel)",
   "language": "python",
   "name": "python3"
  },
  "language_info": {
   "codemirror_mode": {
    "name": "ipython",
    "version": 3
   },
   "file_extension": ".py",
   "mimetype": "text/x-python",
   "name": "python",
   "nbconvert_exporter": "python",
   "pygments_lexer": "ipython3",
   "version": "3.12.1"
  }
 },
 "nbformat": 4,
 "nbformat_minor": 5
}
