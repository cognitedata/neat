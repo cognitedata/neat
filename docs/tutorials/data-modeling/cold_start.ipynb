{
 "cells": [
  {
   "cell_type": "markdown",
   "id": "7a8dc944-7693-437b-9e72-672f23cadad6",
   "metadata": {},
   "source": [
    "# Data Modeling Introduction\n",
    "\n",
    "**Prerequisite**:\n",
    "\n",
    "- Installed Neat, see [Installation](../../gettingstarted/installation.html)\n",
    "- Launched a notebook environment.\n",
    "- Familiar with the `NeatSession` object, see [introduction](../introduction/introduction.html)\n",
    "\n",
    "\n",
    "\n",
    "In this tutorial, we will publish an example data model to CDF."
   ]
  },
  {
   "cell_type": "markdown",
   "id": "9d4056db-aa9e-4ba9-824e-1b6b2d0f2fd2",
   "metadata": {
    "editable": true,
    "slideshow": {
     "slide_type": ""
    },
    "tags": []
   },
   "source": [
    "## Reading Data Model"
   ]
  },
  {
   "cell_type": "markdown",
   "id": "a77d8669-2469-47eb-bb43-cbfefe3c6355",
   "metadata": {
    "editable": true,
    "slideshow": {
     "slide_type": ""
    },
    "tags": []
   },
   "source": [
    "We will start by instansiating a `NeatSession`. The below steps assumes you are in a CDF Notebook"
   ]
  },
  {
   "cell_type": "code",
   "execution_count": null,
   "id": "fc860514-3ddb-4ac7-8b5f-766f135db13a",
   "metadata": {
    "editable": true,
    "slideshow": {
     "slide_type": ""
    },
    "tags": []
   },
   "outputs": [],
   "source": [
    "%pip install cognite-neat\n",
    "\n",
    "from cognite.client import CogniteClient\n",
    "from cognite.neat import NeatSession\n",
    "\n",
    "client = CogniteClient()\n",
    "\n",
    "neat = NeatSession(client)"
   ]
  },
  {
   "cell_type": "code",
   "execution_count": 5,
   "id": "a0a86250-8f85-49e0-97c7-679daed4de4a",
   "metadata": {
    "editable": true,
    "slideshow": {
     "slide_type": ""
    },
    "tags": [
     "hide"
    ]
   },
   "outputs": [],
   "source": [
    "# This cell is hidden, it is here for creating the tutorial locally.\n",
    "import io\n",
    "from cognite.neat import NeatSession, get_cognite_client\n",
    "from contextlib import redirect_stdout\n",
    "\n",
    "# To avoid printing any output\n",
    "with redirect_stdout(io.StringIO()):\n",
    "    neat = NeatSession(get_cognite_client(\"albert.env\"), load_engine=\"skip\");"
   ]
  },
  {
   "cell_type": "code",
   "execution_count": 6,
   "id": "cac87f54-d544-4727-b196-cf8153910f00",
   "metadata": {},
   "outputs": [
    {
     "name": "stdout",
     "output_type": "stream",
     "text": [
      "Data model read passed\n"
     ]
    },
    {
     "data": {
      "text/html": [
       "<p>'No issues found'</p>"
      ],
      "text/plain": [
       "[]"
      ]
     },
     "execution_count": 6,
     "metadata": {},
     "output_type": "execute_result"
    }
   ],
   "source": [
    "neat.read.cdf.data_model(('cdf_cdm', \"CogniteCore\", \"v1\"))"
   ]
  },
  {
   "cell_type": "code",
   "execution_count": 7,
   "id": "71cf258e-1b01-4e75-a321-d4ce1501b627",
   "metadata": {},
   "outputs": [
    {
     "data": {
      "text/html": [
       "<p>'No issues found'</p>"
      ],
      "text/plain": [
       "[]"
      ]
     },
     "execution_count": 7,
     "metadata": {},
     "output_type": "execute_result"
    }
   ],
   "source": [
    "neat.verify()"
   ]
  },
  {
   "cell_type": "code",
   "execution_count": 8,
   "id": "b80ccf75-55fd-4ca3-8fff-86c0b9e7d55a",
   "metadata": {},
   "outputs": [],
   "source": [
    "neat.to.excel(\"core.xlsx\", model=\"dms\")"
   ]
  },
  {
   "cell_type": "code",
   "execution_count": null,
   "id": "038ca832-d3be-46cc-a2af-b6c7b0aa734d",
   "metadata": {},
   "outputs": [],
   "source": []
  },
  {
   "cell_type": "code",
   "execution_count": 2,
   "id": "b4cb8bf0-6162-47c4-9663-7225944e6597",
   "metadata": {
    "editable": true,
    "slideshow": {
     "slide_type": ""
    },
    "tags": []
   },
   "outputs": [
    {
     "name": "stdout",
     "output_type": "stream",
     "text": [
      "Data model read passed\n"
     ]
    },
    {
     "data": {
      "text/html": [
       "<p>'No issues found'</p>"
      ],
      "text/plain": [
       "[]"
      ]
     },
     "execution_count": 2,
     "metadata": {},
     "output_type": "execute_result"
    }
   ],
   "source": [
    "neat.read.cdf.data_model((\"sp_doctrino\", \"coldstart\", \"v1\"))"
   ]
  },
  {
   "cell_type": "code",
   "execution_count": 3,
   "id": "0375c3d5-e4ab-4a87-9033-eb17ee1240d3",
   "metadata": {
    "editable": true,
    "slideshow": {
     "slide_type": ""
    },
    "tags": []
   },
   "outputs": [
    {
     "name": "stdout",
     "output_type": "stream",
     "text": [
      "You can inspect the issues with the .inspect.issues(...) method.\n"
     ]
    },
    {
     "data": {
      "text/html": [
       "<div>\n",
       "<style scoped>\n",
       "    .dataframe tbody tr th:only-of-type {\n",
       "        vertical-align: middle;\n",
       "    }\n",
       "\n",
       "    .dataframe tbody tr th {\n",
       "        vertical-align: top;\n",
       "    }\n",
       "\n",
       "    .dataframe thead th {\n",
       "        text-align: right;\n",
       "    }\n",
       "</style>\n",
       "<table border=\"1\" class=\"dataframe\">\n",
       "  <thead>\n",
       "    <tr style=\"text-align: right;\">\n",
       "      <th></th>\n",
       "      <th>count</th>\n",
       "    </tr>\n",
       "    <tr>\n",
       "      <th>NeatIssue</th>\n",
       "      <th></th>\n",
       "    </tr>\n",
       "  </thead>\n",
       "  <tbody>\n",
       "    <tr>\n",
       "      <th>PrincipleMatchingSpaceAndVersionWarning</th>\n",
       "      <td>3</td>\n",
       "    </tr>\n",
       "  </tbody>\n",
       "</table>\n",
       "</div>"
      ],
      "text/plain": [
       "[PrincipleMatchingSpaceAndVersionWarning(specific=\"The view ViewId(space='sp_doctrino', external_id='Pump', version='b2c5d859af56a4') has a different version than the data model version, v1\"),\n",
       " PrincipleMatchingSpaceAndVersionWarning(specific=\"The view ViewId(space='sp_doctrino', external_id='Facility', version='59765c3c6b66cb') has a different version than the data model version, v1\"),\n",
       " PrincipleMatchingSpaceAndVersionWarning(specific=\"The view ViewId(space='sp_doctrino', external_id='Documentation', version='d192a515d7dc1c') has a different version than the data model version, v1\")]"
      ]
     },
     "execution_count": 3,
     "metadata": {},
     "output_type": "execute_result"
    }
   ],
   "source": [
    "neat.verify()"
   ]
  },
  {
   "cell_type": "code",
   "execution_count": 15,
   "id": "c3ccae6a-e816-4e8b-9567-258e0271b685",
   "metadata": {
    "editable": true,
    "slideshow": {
     "slide_type": ""
    },
    "tags": []
   },
   "outputs": [],
   "source": [
    "neat.to.excel(\"coldstart.xlsx\", model=\"dms\")"
   ]
  },
  {
   "cell_type": "code",
   "execution_count": null,
   "id": "3a7ed4e2-b540-48ab-8602-780b1d738b3e",
   "metadata": {
    "editable": true,
    "slideshow": {
     "slide_type": ""
    },
    "tags": []
   },
   "outputs": [],
   "source": []
  }
 ],
 "metadata": {
  "kernelspec": {
   "display_name": "Python 3 (ipykernel)",
   "language": "python",
   "name": "python3"
  },
  "language_info": {
   "codemirror_mode": {
    "name": "ipython",
    "version": 3
   },
   "file_extension": ".py",
   "mimetype": "text/x-python",
   "name": "python",
   "nbconvert_exporter": "python",
   "pygments_lexer": "ipython3",
   "version": "3.12.1"
  }
 },
 "nbformat": 4,
 "nbformat_minor": 5
}
