{
 "cells": [
  {
   "cell_type": "markdown",
   "id": "7a8dc944-7693-437b-9e72-672f23cadad6",
   "metadata": {},
   "source": [
    "# Data Modeling Introduction\n",
    "\n",
    "**Prerequisite**:\n",
    "\n",
    "- Installed Neat, see [Installation](../../gettingstarted/installation.html)\n",
    "- Launched a notebook environment.\n",
    "- Familiar with the `NeatSession` object, see [introduction](../introduction/introduction.html)\n",
    "\n",
    "\n",
    "\n",
    "In this tutorial, we will publish an example data model to CDF."
   ]
  },
  {
   "cell_type": "markdown",
   "id": "9d4056db-aa9e-4ba9-824e-1b6b2d0f2fd2",
   "metadata": {
    "editable": true,
    "slideshow": {
     "slide_type": ""
    },
    "tags": []
   },
   "source": [
    "## Reading Data Model"
   ]
  },
  {
   "cell_type": "markdown",
   "id": "a77d8669-2469-47eb-bb43-cbfefe3c6355",
   "metadata": {
    "editable": true,
    "slideshow": {
     "slide_type": ""
    },
    "tags": []
   },
   "source": [
    "We will start by instansiating a `NeatSession`. The below steps assumes you are in a CDF Notebook"
   ]
  },
  {
   "cell_type": "code",
   "execution_count": null,
   "id": "fc860514-3ddb-4ac7-8b5f-766f135db13a",
   "metadata": {
    "editable": true,
    "slideshow": {
     "slide_type": ""
    },
    "tags": []
   },
   "outputs": [],
   "source": [
    "%pip install cognite-neat\n",
    "\n",
    "from cognite.client import CogniteClient\n",
    "from cognite.neat import NeatSession\n",
    "\n",
    "client = CogniteClient()\n",
    "\n",
    "neat = NeatSession(client)"
   ]
  },
  {
   "cell_type": "code",
   "execution_count": 1,
   "id": "a0a86250-8f85-49e0-97c7-679daed4de4a",
   "metadata": {
    "editable": true,
    "slideshow": {
     "slide_type": ""
    },
    "tags": [
     "hide"
    ]
   },
   "outputs": [],
   "source": [
    "# This cell is hidden, it is here for creating the tutorial locally.\n",
    "import io\n",
    "from cognite.neat import NeatSession, get_cognite_client\n",
    "from contextlib import redirect_stdout\n",
    "\n",
    "# To avoid printing any output\n",
    "with redirect_stdout(io.StringIO()):\n",
    "    neat = NeatSession(get_cognite_client(\"albert.env\"), load_engine=\"skip\");"
   ]
  },
  {
   "cell_type": "code",
   "execution_count": 2,
   "id": "2830d73c-984c-4460-a05f-1dfaaba56d87",
   "metadata": {},
   "outputs": [
    {
     "name": "stdout",
     "output_type": "stream",
     "text": [
      "Data model read passed\n"
     ]
    },
    {
     "data": {
      "text/html": [
       "<p>'No issues found'</p>"
      ],
      "text/plain": [
       "[]"
      ]
     },
     "execution_count": 2,
     "metadata": {},
     "output_type": "execute_result"
    }
   ],
   "source": [
    "neat.read.excel.examples.pump_example"
   ]
  },
  {
   "cell_type": "code",
   "execution_count": 3,
   "id": "ca1bf57a-640b-41c1-921a-9494a9b98026",
   "metadata": {},
   "outputs": [
    {
     "data": {
      "text/html": [
       "<p>'No issues found'</p>"
      ],
      "text/plain": [
       "[]"
      ]
     },
     "execution_count": 3,
     "metadata": {},
     "output_type": "execute_result"
    }
   ],
   "source": [
    "neat.verify()"
   ]
  },
  {
   "cell_type": "code",
   "execution_count": 7,
   "id": "d6f84711-697f-4303-8b99-225a4b357521",
   "metadata": {},
   "outputs": [
    {
     "ename": "KeyboardInterrupt",
     "evalue": "",
     "output_type": "error",
     "traceback": [
      "\u001b[1;31m---------------------------------------------------------------------------\u001b[0m",
      "\u001b[1;31mKeyboardInterrupt\u001b[0m                         Traceback (most recent call last)",
      "Cell \u001b[1;32mIn[7], line 1\u001b[0m\n\u001b[1;32m----> 1\u001b[0m \u001b[43mneat\u001b[49m\u001b[38;5;241;43m.\u001b[39;49m\u001b[43mprepare\u001b[49m\u001b[38;5;241;43m.\u001b[39;49m\u001b[43mdata_model\u001b[49m\u001b[38;5;241;43m.\u001b[39;49m\u001b[43minclude_referenced\u001b[49m\u001b[43m(\u001b[49m\u001b[43m)\u001b[49m\n",
      "File \u001b[1;32m~\\Projects\\internal\\neat\\cognite\\neat\\_session\\exceptions.py:28\u001b[0m, in \u001b[0;36m_session_method_wrapper.<locals>.wrapper\u001b[1;34m(*args, **kwargs)\u001b[0m\n\u001b[0;32m     26\u001b[0m _COLLECTOR\u001b[38;5;241m.\u001b[39mtrack_session_command(\u001b[38;5;124mf\u001b[39m\u001b[38;5;124m\"\u001b[39m\u001b[38;5;132;01m{\u001b[39;00mcls_name\u001b[38;5;132;01m}\u001b[39;00m\u001b[38;5;124m.\u001b[39m\u001b[38;5;132;01m{\u001b[39;00mfunc\u001b[38;5;241m.\u001b[39m\u001b[38;5;18m__name__\u001b[39m\u001b[38;5;132;01m}\u001b[39;00m\u001b[38;5;124m\"\u001b[39m, \u001b[38;5;241m*\u001b[39margs, \u001b[38;5;241m*\u001b[39m\u001b[38;5;241m*\u001b[39mkwargs)\n\u001b[0;32m     27\u001b[0m \u001b[38;5;28;01mtry\u001b[39;00m:\n\u001b[1;32m---> 28\u001b[0m     \u001b[38;5;28;01mreturn\u001b[39;00m \u001b[43mfunc\u001b[49m\u001b[43m(\u001b[49m\u001b[38;5;241;43m*\u001b[39;49m\u001b[43margs\u001b[49m\u001b[43m,\u001b[49m\u001b[43m \u001b[49m\u001b[38;5;241;43m*\u001b[39;49m\u001b[38;5;241;43m*\u001b[39;49m\u001b[43mkwargs\u001b[49m\u001b[43m)\u001b[49m\n\u001b[0;32m     29\u001b[0m \u001b[38;5;28;01mexcept\u001b[39;00m NeatSessionError \u001b[38;5;28;01mas\u001b[39;00m e:\n\u001b[0;32m     30\u001b[0m     action \u001b[38;5;241m=\u001b[39m _get_action()\n",
      "File \u001b[1;32m~\\Projects\\internal\\neat\\cognite\\neat\\_session\\_prepare.py:551\u001b[0m, in \u001b[0;36mDataModelPrepareAPI.include_referenced\u001b[1;34m(self)\u001b[0m\n\u001b[0;32m    545\u001b[0m \u001b[38;5;28;01mif\u001b[39;00m \u001b[38;5;28mself\u001b[39m\u001b[38;5;241m.\u001b[39m_client \u001b[38;5;129;01mis\u001b[39;00m \u001b[38;5;28;01mNone\u001b[39;00m:\n\u001b[0;32m    546\u001b[0m     \u001b[38;5;28;01mraise\u001b[39;00m NeatSessionError(\n\u001b[0;32m    547\u001b[0m         \u001b[38;5;124m\"\u001b[39m\u001b[38;5;124mNo client provided. You are referencing unknown views and containers in your data model, \u001b[39m\u001b[38;5;124m\"\u001b[39m\n\u001b[0;32m    548\u001b[0m         \u001b[38;5;124m\"\u001b[39m\u001b[38;5;124mNEAT needs a client to lookup the definitions. \u001b[39m\u001b[38;5;124m\"\u001b[39m\n\u001b[0;32m    549\u001b[0m         \u001b[38;5;124m\"\u001b[39m\u001b[38;5;124mPlease set the client in the session, NeatSession(client=client).\u001b[39m\u001b[38;5;124m\"\u001b[39m\n\u001b[0;32m    550\u001b[0m     )\n\u001b[1;32m--> 551\u001b[0m schema \u001b[38;5;241m=\u001b[39m \u001b[38;5;28;43mself\u001b[39;49m\u001b[38;5;241;43m.\u001b[39;49m\u001b[43m_client\u001b[49m\u001b[38;5;241;43m.\u001b[39;49m\u001b[43mschema\u001b[49m\u001b[38;5;241;43m.\u001b[39;49m\u001b[43mretrieve\u001b[49m\u001b[43m(\u001b[49m\u001b[43m[\u001b[49m\u001b[43mv\u001b[49m\u001b[38;5;241;43m.\u001b[39;49m\u001b[43mas_id\u001b[49m\u001b[43m(\u001b[49m\u001b[43m)\u001b[49m\u001b[43m \u001b[49m\u001b[38;5;28;43;01mfor\u001b[39;49;00m\u001b[43m \u001b[49m\u001b[43mv\u001b[49m\u001b[43m \u001b[49m\u001b[38;5;129;43;01min\u001b[39;49;00m\u001b[43m \u001b[49m\u001b[43mview_ids\u001b[49m\u001b[43m]\u001b[49m\u001b[43m,\u001b[49m\u001b[43m \u001b[49m\u001b[43m[\u001b[49m\u001b[43mc\u001b[49m\u001b[38;5;241;43m.\u001b[39;49m\u001b[43mas_id\u001b[49m\u001b[43m(\u001b[49m\u001b[43m)\u001b[49m\u001b[43m \u001b[49m\u001b[38;5;28;43;01mfor\u001b[39;49;00m\u001b[43m \u001b[49m\u001b[43mc\u001b[49m\u001b[43m \u001b[49m\u001b[38;5;129;43;01min\u001b[39;49;00m\u001b[43m \u001b[49m\u001b[43mcontainer_ids\u001b[49m\u001b[43m]\u001b[49m\u001b[43m)\u001b[49m\n\u001b[0;32m    552\u001b[0m copy_ \u001b[38;5;241m=\u001b[39m rules\u001b[38;5;241m.\u001b[39mmodel_copy(deep\u001b[38;5;241m=\u001b[39m\u001b[38;5;28;01mTrue\u001b[39;00m)\n\u001b[0;32m    553\u001b[0m copy_\u001b[38;5;241m.\u001b[39mmetadata\u001b[38;5;241m.\u001b[39mversion \u001b[38;5;241m=\u001b[39m \u001b[38;5;124mf\u001b[39m\u001b[38;5;124m\"\u001b[39m\u001b[38;5;132;01m{\u001b[39;00mrules\u001b[38;5;241m.\u001b[39mmetadata\u001b[38;5;241m.\u001b[39mversion\u001b[38;5;132;01m}\u001b[39;00m\u001b[38;5;124m_completed\u001b[39m\u001b[38;5;124m\"\u001b[39m\n",
      "File \u001b[1;32m~\\Projects\\internal\\neat\\cognite\\neat\\_client\\_api\\schema.py:29\u001b[0m, in \u001b[0;36mSchemaAPI.retrieve\u001b[1;34m(self, view_ids, container_ids, include_ancestors, include_connections, data_model_id)\u001b[0m\n\u001b[0;32m     27\u001b[0m \u001b[38;5;28;01mif\u001b[39;00m data_model_id\u001b[38;5;241m.\u001b[39mversion \u001b[38;5;129;01mis\u001b[39;00m \u001b[38;5;28;01mNone\u001b[39;00m:\n\u001b[0;32m     28\u001b[0m     \u001b[38;5;28;01mraise\u001b[39;00m NeatValueError(\u001b[38;5;124m\"\u001b[39m\u001b[38;5;124mData model version must be specified\u001b[39m\u001b[38;5;124m\"\u001b[39m)\n\u001b[1;32m---> 29\u001b[0m read_views \u001b[38;5;241m=\u001b[39m \u001b[38;5;28;43mself\u001b[39;49m\u001b[38;5;241;43m.\u001b[39;49m\u001b[43m_client\u001b[49m\u001b[38;5;241;43m.\u001b[39;49m\u001b[43mloaders\u001b[49m\u001b[38;5;241;43m.\u001b[39;49m\u001b[43mviews\u001b[49m\u001b[38;5;241;43m.\u001b[39;49m\u001b[43mretrieve\u001b[49m\u001b[43m(\u001b[49m\n\u001b[0;32m     30\u001b[0m \u001b[43m    \u001b[49m\u001b[43mview_ids\u001b[49m\u001b[43m,\u001b[49m\u001b[43m  \u001b[49m\u001b[38;5;66;43;03m# type: ignore[arg-type]\u001b[39;49;00m\n\u001b[0;32m     31\u001b[0m \u001b[43m    \u001b[49m\u001b[43minclude_connected\u001b[49m\u001b[38;5;241;43m=\u001b[39;49m\u001b[43minclude_connections\u001b[49m\u001b[43m,\u001b[49m\n\u001b[0;32m     32\u001b[0m \u001b[43m    \u001b[49m\u001b[43minclude_ancestor\u001b[49m\u001b[38;5;241;43m=\u001b[39;49m\u001b[43minclude_ancestors\u001b[49m\u001b[43m,\u001b[49m\n\u001b[0;32m     33\u001b[0m \u001b[43m\u001b[49m\u001b[43m)\u001b[49m\n\u001b[0;32m     34\u001b[0m views \u001b[38;5;241m=\u001b[39m ViewApplyDict([\u001b[38;5;28mself\u001b[39m\u001b[38;5;241m.\u001b[39m_client\u001b[38;5;241m.\u001b[39mloaders\u001b[38;5;241m.\u001b[39mviews\u001b[38;5;241m.\u001b[39mas_write(view) \u001b[38;5;28;01mfor\u001b[39;00m view \u001b[38;5;129;01min\u001b[39;00m read_views])\n\u001b[0;32m     36\u001b[0m container_set \u001b[38;5;241m=\u001b[39m \u001b[38;5;28mset\u001b[39m(container_ids) \u001b[38;5;241m|\u001b[39m {\n\u001b[0;32m     37\u001b[0m     container \u001b[38;5;28;01mfor\u001b[39;00m view \u001b[38;5;129;01min\u001b[39;00m read_views \u001b[38;5;28;01mfor\u001b[39;00m container \u001b[38;5;129;01min\u001b[39;00m view\u001b[38;5;241m.\u001b[39mreferenced_containers()\n\u001b[0;32m     38\u001b[0m }\n",
      "File \u001b[1;32m~\\Projects\\internal\\neat\\cognite\\neat\\_client\\_api\\data_modeling_loaders.py:540\u001b[0m, in \u001b[0;36mViewLoader.retrieve\u001b[1;34m(self, ids, include_connected, include_ancestor)\u001b[0m\n\u001b[0;32m    538\u001b[0m     \u001b[38;5;28;01mreturn\u001b[39;00m \u001b[38;5;28msuper\u001b[39m()\u001b[38;5;241m.\u001b[39mretrieve(ids)\n\u001b[0;32m    539\u001b[0m \u001b[38;5;66;03m# Retrieve recursively updates the cache.\u001b[39;00m\n\u001b[1;32m--> 540\u001b[0m \u001b[38;5;28;01mreturn\u001b[39;00m \u001b[38;5;28;43mself\u001b[39;49m\u001b[38;5;241;43m.\u001b[39;49m\u001b[43m_retrieve_recursive\u001b[49m\u001b[43m(\u001b[49m\u001b[43mids\u001b[49m\u001b[43m,\u001b[49m\u001b[43m \u001b[49m\u001b[43minclude_connected\u001b[49m\u001b[43m,\u001b[49m\u001b[43m \u001b[49m\u001b[43minclude_ancestor\u001b[49m\u001b[43m)\u001b[49m\n",
      "File \u001b[1;32m~\\Projects\\internal\\neat\\cognite\\neat\\_client\\_api\\data_modeling_loaders.py:612\u001b[0m, in \u001b[0;36mViewLoader._retrieve_recursive\u001b[1;34m(self, view_ids, include_connections, include_ancestors)\u001b[0m\n\u001b[0;32m    610\u001b[0m     view \u001b[38;5;241m=\u001b[39m \u001b[38;5;28mself\u001b[39m\u001b[38;5;241m.\u001b[39m_items_by_id[view_id]\n\u001b[0;32m    611\u001b[0m     found\u001b[38;5;241m.\u001b[39mappend(view)\n\u001b[1;32m--> 612\u001b[0m     batch_ids\u001b[38;5;241m.\u001b[39mupdate(\u001b[38;5;28;43mself\u001b[39;49m\u001b[38;5;241;43m.\u001b[39;49m\u001b[43mget_connected_views\u001b[49m\u001b[43m(\u001b[49m\u001b[43mview\u001b[49m\u001b[43m,\u001b[49m\u001b[43m \u001b[49m\u001b[43minclude_ancestors\u001b[49m\u001b[43m,\u001b[49m\u001b[43m \u001b[49m\u001b[43minclude_connections\u001b[49m\u001b[43m,\u001b[49m\u001b[43m \u001b[49m\u001b[43mfound_ids\u001b[49m\u001b[43m)\u001b[49m)\n\u001b[0;32m    613\u001b[0m \u001b[38;5;28;01melse\u001b[39;00m:\n\u001b[0;32m    614\u001b[0m     to_retrieve_from_cdf\u001b[38;5;241m.\u001b[39madd(view_id)\n",
      "File \u001b[1;32m~\\Projects\\internal\\neat\\cognite\\neat\\_client\\_api\\data_modeling_loaders.py:644\u001b[0m, in \u001b[0;36mViewLoader.get_connected_views\u001b[1;34m(view, include_parents, include_connections, skip_ids)\u001b[0m\n\u001b[0;32m    642\u001b[0m \u001b[38;5;28;01mif\u001b[39;00m \u001b[38;5;28misinstance\u001b[39m(prop, MappedProperty \u001b[38;5;241m|\u001b[39m MappedPropertyApply) \u001b[38;5;129;01mand\u001b[39;00m prop\u001b[38;5;241m.\u001b[39msource:\n\u001b[0;32m    643\u001b[0m     connected_ids\u001b[38;5;241m.\u001b[39madd(prop\u001b[38;5;241m.\u001b[39msource)\n\u001b[1;32m--> 644\u001b[0m \u001b[38;5;28;01melif\u001b[39;00m \u001b[38;5;28;43misinstance\u001b[39;49m\u001b[43m(\u001b[49m\n\u001b[0;32m    645\u001b[0m \u001b[43m    \u001b[49m\u001b[43mprop\u001b[49m\u001b[43m,\u001b[49m\u001b[43m \u001b[49m\u001b[43mEdgeConnection\u001b[49m\u001b[43m \u001b[49m\u001b[38;5;241;43m|\u001b[39;49m\u001b[43m \u001b[49m\u001b[43mEdgeConnectionApply\u001b[49m\u001b[43m \u001b[49m\u001b[38;5;241;43m|\u001b[39;49m\u001b[43m \u001b[49m\u001b[43mReverseDirectRelation\u001b[49m\u001b[43m \u001b[49m\u001b[38;5;241;43m|\u001b[39;49m\u001b[43m \u001b[49m\u001b[43mReverseDirectRelationApply\u001b[49m\n\u001b[0;32m    646\u001b[0m \u001b[43m\u001b[49m\u001b[43m)\u001b[49m:\n\u001b[0;32m    647\u001b[0m     connected_ids\u001b[38;5;241m.\u001b[39madd(prop\u001b[38;5;241m.\u001b[39msource)\n\u001b[0;32m    649\u001b[0m \u001b[38;5;28;01mif\u001b[39;00m \u001b[38;5;28misinstance\u001b[39m(prop, EdgeConnection \u001b[38;5;241m|\u001b[39m EdgeConnectionApply) \u001b[38;5;129;01mand\u001b[39;00m prop\u001b[38;5;241m.\u001b[39medge_source:\n",
      "File \u001b[1;32m<frozen abc>:117\u001b[0m, in \u001b[0;36m__instancecheck__\u001b[1;34m(cls, instance)\u001b[0m\n",
      "\u001b[1;31mKeyboardInterrupt\u001b[0m: "
     ]
    }
   ],
   "source": [
    "neat.prepare.data_model.include_referenced()"
   ]
  },
  {
   "cell_type": "code",
   "execution_count": null,
   "id": "e9177223-5df8-42ce-8f52-aa9de5364963",
   "metadata": {},
   "outputs": [],
   "source": [
    "neat.to.excel(\"cold_start.xlsx\", model=\"dms\")"
   ]
  },
  {
   "cell_type": "code",
   "execution_count": 4,
   "id": "8da4d8a3-7820-4667-b0d1-77729882d8b2",
   "metadata": {},
   "outputs": [
    {
     "name": "stdout",
     "output_type": "stream",
     "text": [
      "Data model ID set to ('sp_coldstart', 'HelloWorld', 'v1')\n"
     ]
    }
   ],
   "source": [
    "neat.set.data_model_id((\"sp_coldstart\", \"HelloWorld\", \"v1\"))"
   ]
  },
  {
   "cell_type": "code",
   "execution_count": 5,
   "id": "b63d7843-95f1-497d-b9c5-dd1247bd1e18",
   "metadata": {},
   "outputs": [
    {
     "name": "stdout",
     "output_type": "stream",
     "text": [
      "You can inspect the details with the .inspect.outcome.data_model(...) method.\n"
     ]
    },
    {
     "data": {
      "text/html": [
       "<style type=\"text/css\">\n",
       "</style>\n",
       "<table id=\"T_5ef53\">\n",
       "  <thead>\n",
       "    <tr>\n",
       "      <th class=\"blank level0\" >&nbsp;</th>\n",
       "      <th id=\"T_5ef53_level0_col0\" class=\"col_heading level0 col0\" >name</th>\n",
       "      <th id=\"T_5ef53_level0_col1\" class=\"col_heading level0 col1\" >created</th>\n",
       "    </tr>\n",
       "  </thead>\n",
       "  <tbody>\n",
       "    <tr>\n",
       "      <th id=\"T_5ef53_level0_row0\" class=\"row_heading level0 row0\" >0</th>\n",
       "      <td id=\"T_5ef53_row0_col0\" class=\"data row0 col0\" >schema</td>\n",
       "      <td id=\"T_5ef53_row0_col1\" class=\"data row0 col1\" >0</td>\n",
       "    </tr>\n",
       "    <tr>\n",
       "      <th id=\"T_5ef53_level0_row1\" class=\"row_heading level0 row1\" >1</th>\n",
       "      <td id=\"T_5ef53_row1_col0\" class=\"data row1 col0\" >spaces</td>\n",
       "      <td id=\"T_5ef53_row1_col1\" class=\"data row1 col1\" >1</td>\n",
       "    </tr>\n",
       "    <tr>\n",
       "      <th id=\"T_5ef53_level0_row2\" class=\"row_heading level0 row2\" >2</th>\n",
       "      <td id=\"T_5ef53_row2_col0\" class=\"data row2 col0\" >containers</td>\n",
       "      <td id=\"T_5ef53_row2_col1\" class=\"data row2 col1\" >3</td>\n",
       "    </tr>\n",
       "    <tr>\n",
       "      <th id=\"T_5ef53_level0_row3\" class=\"row_heading level0 row3\" >3</th>\n",
       "      <td id=\"T_5ef53_row3_col0\" class=\"data row3 col0\" >views</td>\n",
       "      <td id=\"T_5ef53_row3_col1\" class=\"data row3 col1\" >3</td>\n",
       "    </tr>\n",
       "    <tr>\n",
       "      <th id=\"T_5ef53_level0_row4\" class=\"row_heading level0 row4\" >4</th>\n",
       "      <td id=\"T_5ef53_row4_col0\" class=\"data row4 col0\" >data_models</td>\n",
       "      <td id=\"T_5ef53_row4_col1\" class=\"data row4 col1\" >1</td>\n",
       "    </tr>\n",
       "    <tr>\n",
       "      <th id=\"T_5ef53_level0_row5\" class=\"row_heading level0 row5\" >5</th>\n",
       "      <td id=\"T_5ef53_row5_col0\" class=\"data row5 col0\" >nodes</td>\n",
       "      <td id=\"T_5ef53_row5_col1\" class=\"data row5 col1\" >0</td>\n",
       "    </tr>\n",
       "  </tbody>\n",
       "</table>\n"
      ],
      "text/plain": [
       "[UploadResultCore(name='schema', error_messages=[], issues=[]),\n",
       " UploadResult(name='spaces', error_messages=[], issues=[], created={'sp_coldstart'}, upserted=set(), deleted=set(), changed=set(), unchanged=set(), skipped=set(), failed_created=set(), failed_upserted=set(), failed_changed=set(), failed_deleted=set()),\n",
       " UploadResult(name='containers', error_messages=[], issues=[], created={ContainerId(space='sp_coldstart', external_id='Pump'), ContainerId(space='sp_coldstart', external_id='Facility'), ContainerId(space='sp_coldstart', external_id='Documentation')}, upserted=set(), deleted=set(), changed=set(), unchanged=set(), skipped=set(), failed_created=set(), failed_upserted=set(), failed_changed=set(), failed_deleted=set()),\n",
       " UploadResult(name='views', error_messages=[], issues=[], created={ViewId(space='sp_coldstart', external_id='Documentation', version='v1'), ViewId(space='sp_coldstart', external_id='Pump', version='v1'), ViewId(space='sp_coldstart', external_id='Facility', version='v1')}, upserted=set(), deleted=set(), changed=set(), unchanged=set(), skipped=set(), failed_created=set(), failed_upserted=set(), failed_changed=set(), failed_deleted=set()),\n",
       " UploadResult(name='data_models', error_messages=[], issues=[], created={DataModelId(space='sp_coldstart', external_id='HelloWorld', version='v1')}, upserted=set(), deleted=set(), changed=set(), unchanged=set(), skipped=set(), failed_created=set(), failed_upserted=set(), failed_changed=set(), failed_deleted=set()),\n",
       " UploadResult(name='nodes', error_messages=[], issues=[], created=set(), upserted=set(), deleted=set(), changed=set(), unchanged=set(), skipped=set(), failed_created=set(), failed_upserted=set(), failed_changed=set(), failed_deleted=set())]"
      ]
     },
     "execution_count": 5,
     "metadata": {},
     "output_type": "execute_result"
    }
   ],
   "source": [
    "neat.to.cdf.data_model()"
   ]
  },
  {
   "cell_type": "code",
   "execution_count": null,
   "id": "15085001-672b-405d-9b15-af2e3483869c",
   "metadata": {},
   "outputs": [],
   "source": []
  }
 ],
 "metadata": {
  "kernelspec": {
   "display_name": "Python 3 (ipykernel)",
   "language": "python",
   "name": "python3"
  },
  "language_info": {
   "codemirror_mode": {
    "name": "ipython",
    "version": 3
   },
   "file_extension": ".py",
   "mimetype": "text/x-python",
   "name": "python",
   "nbconvert_exporter": "python",
   "pygments_lexer": "ipython3",
   "version": "3.12.1"
  }
 },
 "nbformat": 4,
 "nbformat_minor": 5
}
