{
 "cells": [
  {
   "cell_type": "markdown",
   "id": "89a63c3a-73c2-428c-bf4a-c92387c6f41b",
   "metadata": {},
   "source": [
    "# Creating Domain Specific Data Model by Selecting and Extending Concepts from Core Data Model\n",
    "\n",
    "**Prerequisite**:\n",
    "\n",
    "- Basic understanding of Data Modeling in CDF\n",
    "- Basic understanding of Core Data Model\n",
    "- Access to a CDF Project.\n",
    "- Know how to install and setup Python.\n",
    "- Launch a Python notebook.\n",
    "\n",
    "In this tutorial, we will show you how to extend a [core data model](https://docs.cognite.com/cdf/dm/dm_reference/dm_core_data_model/) making domain specific data model. We will demonstrate this process by building a wind farm data model"
   ]
  },
  {
   "cell_type": "markdown",
   "id": "1ec7d2c8-0d27-4d40-a255-f57564fc1ab1",
   "metadata": {},
   "source": [
    "## Creating the Base Model"
   ]
  },
  {
   "cell_type": "markdown",
   "id": "213691bd-b730-4a7f-bbaf-03ebe19ff86a",
   "metadata": {},
   "source": [
    "Cognite's Core Data Model (or short `CDM`) is an immutable model maintained by `Cognite`. To extend this model we first create a copy of it\n",
    "in our own space, such that we can start to do modifications to it."
   ]
  },
  {
   "cell_type": "code",
   "execution_count": 1,
   "id": "76063bc4-86cc-4d82-b62d-2e0e00df4368",
   "metadata": {},
   "outputs": [],
   "source": [
    "from cognite.neat import NeatSession, get_cognite_client"
   ]
  },
  {
   "cell_type": "code",
   "execution_count": 2,
   "id": "e2141dc2-0e5e-4997-9426-c22e282e5575",
   "metadata": {},
   "outputs": [
    {
     "name": "stdout",
     "output_type": "stream",
     "text": [
      "Found .env file in repository root. Loaded variables from .env file.\n"
     ]
    }
   ],
   "source": [
    "client = get_cognite_client(\".env\")"
   ]
  },
  {
   "cell_type": "code",
   "execution_count": 3,
   "id": "09061de3-82e1-40a5-8363-11ecc1d590ee",
   "metadata": {},
   "outputs": [
    {
     "name": "stdout",
     "output_type": "stream",
     "text": [
      "Neat Engine 2.0.4 loaded.\n"
     ]
    }
   ],
   "source": [
    "neat = NeatSession(client)"
   ]
  },
  {
   "cell_type": "code",
   "execution_count": 4,
   "id": "c775c5c3-79c2-40bb-b2e6-dc1bd82dbaa3",
   "metadata": {},
   "outputs": [
    {
     "data": {
      "text/html": [
       "<strong>Empty session</strong>. Get started by reading something with the <em>.read</em> attribute."
      ],
      "text/plain": [
       "<cognite.neat._session._base.NeatSession at 0x11c9cff90>"
      ]
     },
     "execution_count": 4,
     "metadata": {},
     "output_type": "execute_result"
    }
   ],
   "source": [
    "neat"
   ]
  },
  {
   "cell_type": "markdown",
   "id": "f699e21a",
   "metadata": {},
   "source": [
    "Let's:\n",
    "\n",
    "1. Load CDM in NeatSession , fastest way is through examples short cut `neat.read.examples.core_data_mode()`\n",
    "2. Inspect content of NeatSession afterwards by calling `neat`\n",
    "3. and visualize data model by calling `neat.show.data_model()` and `neat.show.data_model.implements()`\n",
    "\n",
    "\n",
    "\n",
    "> Do not get confused with potential warnings you get when reading the core data model into `NeatSession`, the warnings just point to users that filters are set on the core data model. We prefer warning users about usage of filters, as filters if used by inexperienced users can lead to unexpected results.\n"
   ]
  },
  {
   "cell_type": "code",
   "execution_count": 5,
   "id": "939b2777-ceb3-4e4d-b037-71eacb6b3709",
   "metadata": {},
   "outputs": [
    {
     "data": {
      "text/html": [
       "<p>Succeeded with warnings: Read NEAT(verified,physical,cdf_cdm,CogniteCore,v1)</p><br /><div>\n",
       "<style scoped>\n",
       "    .dataframe tbody tr th:only-of-type {\n",
       "        vertical-align: middle;\n",
       "    }\n",
       "\n",
       "    .dataframe tbody tr th {\n",
       "        vertical-align: top;\n",
       "    }\n",
       "\n",
       "    .dataframe thead th {\n",
       "        text-align: right;\n",
       "    }\n",
       "</style>\n",
       "<table border=\"1\" class=\"dataframe\">\n",
       "  <thead>\n",
       "    <tr style=\"text-align: right;\">\n",
       "      <th></th>\n",
       "      <th>count</th>\n",
       "    </tr>\n",
       "    <tr>\n",
       "      <th>NeatIssue</th>\n",
       "      <th></th>\n",
       "    </tr>\n",
       "  </thead>\n",
       "  <tbody>\n",
       "    <tr>\n",
       "      <th>NotNeatSupportedFilterWarning</th>\n",
       "      <td>7</td>\n",
       "    </tr>\n",
       "  </tbody>\n",
       "</table>\n",
       "</div><br />Hint: Use the .inspect.issues() for more details."
      ],
      "text/plain": [
       "[NotNeatSupportedFilterWarning(view_id=ViewId(space='cdf_cdm', external_id='CogniteCADModel', version='v1')),\n",
       " NotNeatSupportedFilterWarning(view_id=ViewId(space='cdf_cdm', external_id='Cognite360ImageModel', version='v1')),\n",
       " NotNeatSupportedFilterWarning(view_id=ViewId(space='cdf_cdm', external_id='CognitePointCloudRevision', version='v1')),\n",
       " NotNeatSupportedFilterWarning(view_id=ViewId(space='cdf_cdm', external_id='CognitePointCloudModel', version='v1')),\n",
       " NotNeatSupportedFilterWarning(view_id=ViewId(space='cdf_cdm', external_id='Cognite360ImageCollection', version='v1')),\n",
       " NotNeatSupportedFilterWarning(view_id=ViewId(space='cdf_cdm', external_id='CogniteCADRevision', version='v1')),\n",
       " NotNeatSupportedFilterWarning(view_id=ViewId(space='cdf_cdm', external_id='Cognite360ImageStation', version='v1'))]"
      ]
     },
     "execution_count": 5,
     "metadata": {},
     "output_type": "execute_result"
    }
   ],
   "source": [
    "neat.read.examples.core_data_model()"
   ]
  },
  {
   "cell_type": "code",
   "execution_count": 6,
   "id": "4d7ce314-57d7-4d69-b93f-0b01aa5e57cf",
   "metadata": {},
   "outputs": [
    {
     "data": {
      "text/html": [
       "<H2>Data Model</H2><br /><div>\n",
       "<style scoped>\n",
       "    .dataframe tbody tr th:only-of-type {\n",
       "        vertical-align: middle;\n",
       "    }\n",
       "\n",
       "    .dataframe tbody tr th {\n",
       "        vertical-align: top;\n",
       "    }\n",
       "\n",
       "    .dataframe thead th {\n",
       "        text-align: right;\n",
       "    }\n",
       "</style>\n",
       "<table border=\"1\" class=\"dataframe\">\n",
       "  <thead>\n",
       "    <tr style=\"text-align: right;\">\n",
       "      <th></th>\n",
       "      <th></th>\n",
       "    </tr>\n",
       "  </thead>\n",
       "  <tbody>\n",
       "    <tr>\n",
       "      <th>aspect</th>\n",
       "      <td>physical</td>\n",
       "    </tr>\n",
       "    <tr>\n",
       "      <th>intended for</th>\n",
       "      <td>DMS Architect</td>\n",
       "    </tr>\n",
       "    <tr>\n",
       "      <th>name</th>\n",
       "      <td>Cognite core data model</td>\n",
       "    </tr>\n",
       "    <tr>\n",
       "      <th>space</th>\n",
       "      <td>cdf_cdm</td>\n",
       "    </tr>\n",
       "    <tr>\n",
       "      <th>external_id</th>\n",
       "      <td>CogniteCore</td>\n",
       "    </tr>\n",
       "    <tr>\n",
       "      <th>version</th>\n",
       "      <td>v1</td>\n",
       "    </tr>\n",
       "    <tr>\n",
       "      <th>views</th>\n",
       "      <td>33</td>\n",
       "    </tr>\n",
       "    <tr>\n",
       "      <th>containers</th>\n",
       "      <td>29</td>\n",
       "    </tr>\n",
       "    <tr>\n",
       "      <th>properties</th>\n",
       "      <td>141</td>\n",
       "    </tr>\n",
       "  </tbody>\n",
       "</table>\n",
       "</div>"
      ],
      "text/plain": [
       "<cognite.neat._session._base.NeatSession at 0x11c9cff90>"
      ]
     },
     "execution_count": 6,
     "metadata": {},
     "output_type": "execute_result"
    }
   ],
   "source": [
    "neat"
   ]
  },
  {
   "cell_type": "code",
   "execution_count": 7,
   "id": "0bca11b8-1d2e-48c8-9408-60aa44d09fb0",
   "metadata": {},
   "outputs": [
    {
     "name": "stdout",
     "output_type": "stream",
     "text": [
      "http_purl.org_cognite_neat_data-model_verified_physical_cdf_cdm_CogniteCore_v1.html\n"
     ]
    },
    {
     "data": {
      "text/html": [
       "\n",
       "        <iframe\n",
       "            width=\"100%\"\n",
       "            height=\"750px\"\n",
       "            src=\"http_purl.org_cognite_neat_data-model_verified_physical_cdf_cdm_CogniteCore_v1.html\"\n",
       "            frameborder=\"0\"\n",
       "            allowfullscreen\n",
       "            \n",
       "        ></iframe>\n",
       "        "
      ],
      "text/plain": [
       "<IPython.lib.display.IFrame at 0x11cfe3a50>"
      ]
     },
     "execution_count": 7,
     "metadata": {},
     "output_type": "execute_result"
    }
   ],
   "source": [
    "neat.show.data_model()"
   ]
  },
  {
   "cell_type": "code",
   "execution_count": 8,
   "id": "55d2dbb4-3ee1-424a-a68f-6e94229f6272",
   "metadata": {},
   "outputs": [
    {
     "name": "stdout",
     "output_type": "stream",
     "text": [
      "http_purl.org_cognite_neat_data-model_verified_physical_cdf_cdm_CogniteCore_v1_implements.html\n"
     ]
    },
    {
     "data": {
      "text/html": [
       "\n",
       "        <iframe\n",
       "            width=\"100%\"\n",
       "            height=\"750px\"\n",
       "            src=\"http_purl.org_cognite_neat_data-model_verified_physical_cdf_cdm_CogniteCore_v1_implements.html\"\n",
       "            frameborder=\"0\"\n",
       "            allowfullscreen\n",
       "            \n",
       "        ></iframe>\n",
       "        "
      ],
      "text/plain": [
       "<IPython.lib.display.IFrame at 0x11d06ab50>"
      ]
     },
     "execution_count": 8,
     "metadata": {},
     "output_type": "execute_result"
    }
   ],
   "source": [
    "neat.show.data_model.implements()"
   ]
  },
  {
   "cell_type": "markdown",
   "id": "734dfbbb-a7e5-486b-90c9-b2d1c27d3cf5",
   "metadata": {},
   "source": [
    "CDM consists of 33 concepts (divided to 28 so called Core Concepts and 5 so called Core Features), majority of which are related to 3D (15+ views/concepts).\n",
    "\n",
    "Since we do not need all these concepts, we will select only a subset of them to create a wind farm data model. To do this, we will select the following core concepts:\n",
    "\n",
    "- `CogniteAsset`\n",
    "- `CogniteEquipment`\n",
    "- `CogniteTimeSeries`\n",
    "- `CogniteActivity`\n",
    "\n",
    "Using the above subset of core concepts, by extending them and adjusting them we will create a wind farm data model which will contain the following wind energy specific concepts:\n",
    "- `WindFarm`\n",
    "- `WindTurbine`\n",
    "- `Substation`\n",
    "- `MetMast`\n",
    "\n",
    "\n",
    "Let's start first by selecting the core concepts:"
   ]
  },
  {
   "cell_type": "code",
   "execution_count": 9,
   "id": "ce0134e9",
   "metadata": {},
   "outputs": [
    {
     "data": {
      "text/html": [
       "<pre style=\"white-space:pre;overflow-x:auto;line-height:normal;font-family:Menlo,'DejaVu Sans Mono',consolas,'Courier New',monospace\">Subset to <span style=\"color: #008080; text-decoration-color: #008080; font-weight: bold\">8</span> concepts.\n",
       "</pre>\n"
      ],
      "text/plain": [
       "Subset to \u001b[1;36m8\u001b[0m concepts.\n"
      ]
     },
     "metadata": {},
     "output_type": "display_data"
    },
    {
     "data": {
      "text/html": [
       "<pre style=\"white-space:pre;overflow-x:auto;line-height:normal;font-family:Menlo,'DejaVu Sans Mono',consolas,'Courier New',monospace\"><span style=\"color: #ff00ff; text-decoration-color: #ff00ff; font-weight: bold\">[WARNING]</span> Alpha feature <span style=\"color: #008000; text-decoration-color: #008000\">'data_model_subsetting'</span> is subject to change without notice\n",
       "</pre>\n"
      ],
      "text/plain": [
       "\u001b[1;95m[\u001b[0m\u001b[1;95mWARNING\u001b[0m\u001b[1;95m]\u001b[0m Alpha feature \u001b[32m'data_model_subsetting'\u001b[0m is subject to change without notice\n"
      ]
     },
     "metadata": {},
     "output_type": "display_data"
    },
    {
     "data": {
      "text/html": [
       "<p>Success: NEAT(verified,physical,cdf_cdm,CogniteCore,v1) &#8594; NEAT(verified,physical,cdf_cdm,CogniteCore,v1)</p>"
      ],
      "text/plain": [
       "[]"
      ]
     },
     "execution_count": 9,
     "metadata": {},
     "output_type": "execute_result"
    }
   ],
   "source": [
    "neat.subset.data_model([\"CogniteAsset\", \"CogniteEquipment\", \"CogniteTimeSeries\", \"CogniteActivity\"])"
   ]
  },
  {
   "cell_type": "markdown",
   "id": "2d0f6e0b",
   "metadata": {},
   "source": [
    "> Do not mind warning, if something is new feature in neat, it will be marked as `Alpha feature`.\n",
    "\n",
    "\n",
    "\n",
    "Let's now inspect content of the subsetted core data model by calling `neat` , and then visualizing it via `neat.show.data_model()` ..."
   ]
  },
  {
   "cell_type": "code",
   "execution_count": 10,
   "id": "0c1ebce9-77fd-43a1-b289-94d700bce5a6",
   "metadata": {},
   "outputs": [
    {
     "name": "stdout",
     "output_type": "stream",
     "text": [
      "http_purl.org_cognite_neat_data-model_verified_physical_cdf_cdm_CogniteCore_v1.html\n"
     ]
    },
    {
     "data": {
      "text/html": [
       "\n",
       "        <iframe\n",
       "            width=\"100%\"\n",
       "            height=\"750px\"\n",
       "            src=\"http_purl.org_cognite_neat_data-model_verified_physical_cdf_cdm_CogniteCore_v1.html\"\n",
       "            frameborder=\"0\"\n",
       "            allowfullscreen\n",
       "            \n",
       "        ></iframe>\n",
       "        "
      ],
      "text/plain": [
       "<IPython.lib.display.IFrame at 0x11c8aa9d0>"
      ]
     },
     "execution_count": 10,
     "metadata": {},
     "output_type": "execute_result"
    }
   ],
   "source": [
    "neat.show.data_model()"
   ]
  },
  {
   "cell_type": "markdown",
   "id": "f053545f",
   "metadata": {},
   "source": [
    "You should notice that in addition to the core concepts we selected (CogniteAsset, CogniteEquipment, CogniteTimeSeries, CogniteActivity) there are additional concepts (aka core features):\n",
    "\n",
    "- CogniteVisualizable\n",
    "- CogntieSourceable\n",
    "- CogniteDescribable\n",
    "- CogniteSchedulabel\n",
    "\n",
    "\n",
    "They are added by NEAT because our the ceoncepts we selected from CDM implement them, and without them the data model would not be complete.\n",
    "\n",
    "You can inspect this by calling `neat.show.data_model.implements()`"
   ]
  },
  {
   "cell_type": "code",
   "execution_count": 11,
   "id": "bdfd827e",
   "metadata": {},
   "outputs": [
    {
     "name": "stdout",
     "output_type": "stream",
     "text": [
      "http_purl.org_cognite_neat_data-model_verified_physical_cdf_cdm_CogniteCore_v1_implements.html\n"
     ]
    },
    {
     "data": {
      "text/html": [
       "\n",
       "        <iframe\n",
       "            width=\"100%\"\n",
       "            height=\"750px\"\n",
       "            src=\"http_purl.org_cognite_neat_data-model_verified_physical_cdf_cdm_CogniteCore_v1_implements.html\"\n",
       "            frameborder=\"0\"\n",
       "            allowfullscreen\n",
       "            \n",
       "        ></iframe>\n",
       "        "
      ],
      "text/plain": [
       "<IPython.lib.display.IFrame at 0x11d016710>"
      ]
     },
     "execution_count": 11,
     "metadata": {},
     "output_type": "execute_result"
    }
   ],
   "source": [
    "neat.show.data_model.implements()"
   ]
  },
  {
   "attachments": {},
   "cell_type": "markdown",
   "id": "621a81f2-105a-4a1a-9ee5-5c432a44ecd4",
   "metadata": {},
   "source": [
    "Next we will turn this reduce CDM into enterprise data model that we will further edit in Excel to build up our wind farm data model.\n",
    "We achieve this by calling method `...enterprise_model` where we pass data model if for new model we are creating as well org name (`org_name`)."
   ]
  },
  {
   "cell_type": "code",
   "execution_count": 12,
   "id": "192624d4-ca8b-4ac6-9862-7e8e1d4c0f02",
   "metadata": {},
   "outputs": [
    {
     "data": {
      "text/html": [
       "<p>Success: NEAT(verified,physical,cdf_cdm,CogniteCore,v1) &#8594; NEAT(verified,physical,wind_space,WindFarm,v1)</p>"
      ],
      "text/plain": [
       "[]"
      ]
     },
     "execution_count": 12,
     "metadata": {},
     "output_type": "execute_result"
    }
   ],
   "source": [
    "neat.create.enterprise_model(data_model_id=(\"wind_space\", \"WindFarm\", \"v1\"), org_name=\"NeatOrg\")"
   ]
  },
  {
   "cell_type": "markdown",
   "id": "1f568cdb-657f-4e48-9735-4ad5b4811d71",
   "metadata": {},
   "source": [
    "Let's export data model to Excel:"
   ]
  },
  {
   "cell_type": "code",
   "execution_count": 13,
   "id": "98e93c2f-9612-4166-8090-437d195c76c0",
   "metadata": {},
   "outputs": [],
   "source": [
    "neat.to.excel(\"wind-farm-data-model.xlsx\")"
   ]
  },
  {
   "cell_type": "markdown",
   "id": "742de6e4-d054-49c3-840e-50f974a0bb1a",
   "metadata": {},
   "source": [
    "If we export created enetriprise data model to Excel via `neat.to.excel(\"wind-farm-dm-template.xlsx\")` we will see in more depth results of `...create.enterprise_model` method, which did the following:\n",
    "\n",
    "1. Create an editable vesions of concepts we selected from CDM, names of which will be prefixed by the `org_name\n",
    "    > If we set org_name to be `NeatOrg`, neat will create `NeatOrgAsset`, `NeatOrgEquipment`, etc., and it will make sure that `NeatOrgAsset` implements `CogniteAsset`, `NeatOrgEqupiment` implements `CogniteEquipment`, etc.\n",
    "\n",
    "![](./figs/editable-views.png)\n",
    "\n",
    "2. It will adjust connection between the editable versions of concepts\n",
    "   > In `CogniteEqupiment`, property `asset` points to `CogniteAsset`, neat updates this connection in case of `NeatOrgEqupimnt`, such that it points to `NeatOrgAsset` instead.\n",
    "\n",
    "![](./figs/moved-connections.png)\n",
    "   \n",
    "3. It will add dummy property, which if not specified will be in form of `<nameOfConcept>GUID`\n",
    "   > There are a few purposes of this property. First, to show users how they can add new properties to the editable version of concepts, second by adding specific property to editable version of concepts once can skip adding filters to ensure consumption of data\n",
    "\n",
    "![](./figs/dummy-properites.png)\n",
    "\n",
    "4. It will add new containers to store additional properties that are not part of the original concepts that editable concepts are implementing\n",
    "\n",
    "![](./figs/specific-containers.png)"
   ]
  },
  {
   "attachments": {},
   "cell_type": "markdown",
   "id": "66e158e6-b12e-4ec6-be12-d27f248e022f",
   "metadata": {},
   "source": [
    "Now we can further edit and tune exported data model to produce desired wind farm data model.\n",
    "\n",
    "We will do the following:\n",
    "\n",
    "1. Since we do not intend to futher extend `Schedulable`, `Visualizable`, and `Sourcable` we will simply remove:\n",
    "\n",
    "- NeatOrgSchedulable\n",
    "- NeatOrgSourceable\n",
    "- NeatOrgVisualizable\n",
    "\n",
    "from `Views`, `Containers` and `Properties` sheets in Excel\n",
    "\n",
    "2. Since we would like to have location information, which containers name, description, latitude, longitude and height properties, we will rename `NeatOrgDescribable` to `Location` and add properties which do not exist in `CogniteDescribable`, these being latitude, longitude and height.\n",
    "\n",
    "3. We will set also units to latitude, longitude and height to degree and meter. This is done by specifying `Value Type` with unit, e.g. `float(unit=angle:deg)` (list of units and their external ids can be found [here](https://cognite-neat.readthedocs-hosted.com/en/latest/excel_data_modeling/units.html))\n",
    "\n",
    "4. We will rename property `neatOrgAssetGUID` to `location` and set it to be the connection of type `direct` where `value type` will be set to the above created `Location`\n",
    "\n",
    "5. We will create `WindFarm`, `WindTurbine`, `Substation`, `MetMast` concepts by implementing `NeatOrgAsset` and adding following specific properties repespectively `capacityFactor`, `activePower`, `voltageLevel`, `iecCompliant`\n",
    " \n",
    "6. Since we would like to have explicit connection between `WindFarm` and its underlaying asset `WindTurbine`, `Substation` and `MetMast`, we will create direct connection from `WindTurbine` to `WindFarm` via property `windFarm`, and similarly for `Substation` to `WindFarm` and `MetMast` to `WindFarm` via properties of the same name. In addition we will create the reverse connection based of these properties from `WindFarm` to  `WindTurbine`, `Substation` and `MetMast` via corresponding properties `windTurbine`, `substation` and `metMast`\n",
    "\n"
   ]
  },
  {
   "cell_type": "markdown",
   "id": "41cb33a5-a7c8-4671-bf72-fe936ac6f0ea",
   "metadata": {},
   "source": [
    "We will read in manual edited Excel file into `NeatSession` using `...read.excel(filename, enable_manual_edit=True)`. Beware that we are setting argument `enable_manual_edit` to True which signals to neat to try to read in manually edited data model and join it into the provenance trail.\n",
    "\n",
    "\n",
    "> You can download [wind-farm-data-model-manual-edited.xlsx](./wind-farm-data-model-manual-edited.xlsx)\n"
   ]
  },
  {
   "cell_type": "code",
   "execution_count": 14,
   "id": "b61e33fe-a45a-44af-9f17-7d164daf9ea1",
   "metadata": {},
   "outputs": [
    {
     "data": {
      "text/html": [
       "<pre style=\"white-space:pre;overflow-x:auto;line-height:normal;font-family:Menlo,'DejaVu Sans Mono',consolas,'Courier New',monospace\"><span style=\"color: #ff00ff; text-decoration-color: #ff00ff; font-weight: bold\">[WARNING]</span> Alpha feature <span style=\"color: #008000; text-decoration-color: #008000\">'enable_manual_edit'</span> is subject to change without notice\n",
       "</pre>\n"
      ],
      "text/plain": [
       "\u001b[1;95m[\u001b[0m\u001b[1;95mWARNING\u001b[0m\u001b[1;95m]\u001b[0m Alpha feature \u001b[32m'enable_manual_edit'\u001b[0m is subject to change without notice\n"
      ]
     },
     "metadata": {},
     "output_type": "display_data"
    },
    {
     "data": {
      "text/html": [
       "<p>Success: Read NEAT(verified,physical,wind_space,WindFarm,v1)</p>"
      ],
      "text/plain": [
       "[]"
      ]
     },
     "execution_count": 14,
     "metadata": {},
     "output_type": "execute_result"
    }
   ],
   "source": [
    "neat.read.excel(\"wind-farm-data-model-manual-edited.xlsx\", enable_manual_edit=True)"
   ]
  },
  {
   "cell_type": "markdown",
   "id": "c3218b36-f7ee-4953-9ceb-559621f5ad88",
   "metadata": {},
   "source": [
    "Let visualize a full provenance from the begining til now:"
   ]
  },
  {
   "cell_type": "code",
   "execution_count": 15,
   "id": "5e118cbe-f74a-4482-b9a1-d45270e417ec",
   "metadata": {},
   "outputs": [
    {
     "name": "stdout",
     "output_type": "stream",
     "text": [
      "data_model_provenance_995928ea.html\n"
     ]
    },
    {
     "data": {
      "text/html": [
       "\n",
       "        <iframe\n",
       "            width=\"100%\"\n",
       "            height=\"750px\"\n",
       "            src=\"data_model_provenance_995928ea.html\"\n",
       "            frameborder=\"0\"\n",
       "            allowfullscreen\n",
       "            \n",
       "        ></iframe>\n",
       "        "
      ],
      "text/plain": [
       "<IPython.lib.display.IFrame at 0x11d5b32d0>"
      ]
     },
     "execution_count": 15,
     "metadata": {},
     "output_type": "execute_result"
    }
   ],
   "source": [
    "neat.show.data_model.provenance()"
   ]
  },
  {
   "cell_type": "markdown",
   "id": "8ff62cf0-499c-4940-82c6-14736692d27b",
   "metadata": {},
   "source": [
    "Finally let's push data model to CDF:"
   ]
  },
  {
   "cell_type": "code",
   "execution_count": 16,
   "id": "8fbbde3e-caf6-436d-be44-9abe147d9197",
   "metadata": {},
   "outputs": [
    {
     "name": "stdout",
     "output_type": "stream",
     "text": [
      "You can inspect the details with the .inspect.outcome.data_model(...) method.\n"
     ]
    },
    {
     "data": {
      "text/html": [
       "<style type=\"text/css\">\n",
       "</style>\n",
       "<table id=\"T_145e3\">\n",
       "  <thead>\n",
       "    <tr>\n",
       "      <th class=\"blank level0\" >&nbsp;</th>\n",
       "      <th id=\"T_145e3_level0_col0\" class=\"col_heading level0 col0\" >name</th>\n",
       "      <th id=\"T_145e3_level0_col1\" class=\"col_heading level0 col1\" >created</th>\n",
       "    </tr>\n",
       "  </thead>\n",
       "  <tbody>\n",
       "    <tr>\n",
       "      <th id=\"T_145e3_level0_row0\" class=\"row_heading level0 row0\" >0</th>\n",
       "      <td id=\"T_145e3_row0_col0\" class=\"data row0 col0\" >spaces</td>\n",
       "      <td id=\"T_145e3_row0_col1\" class=\"data row0 col1\" >1</td>\n",
       "    </tr>\n",
       "    <tr>\n",
       "      <th id=\"T_145e3_level0_row1\" class=\"row_heading level0 row1\" >1</th>\n",
       "      <td id=\"T_145e3_row1_col0\" class=\"data row1 col0\" >containers</td>\n",
       "      <td id=\"T_145e3_row1_col1\" class=\"data row1 col1\" >9</td>\n",
       "    </tr>\n",
       "    <tr>\n",
       "      <th id=\"T_145e3_level0_row2\" class=\"row_heading level0 row2\" >2</th>\n",
       "      <td id=\"T_145e3_row2_col0\" class=\"data row2 col0\" >views</td>\n",
       "      <td id=\"T_145e3_row2_col1\" class=\"data row2 col1\" >9</td>\n",
       "    </tr>\n",
       "    <tr>\n",
       "      <th id=\"T_145e3_level0_row3\" class=\"row_heading level0 row3\" >3</th>\n",
       "      <td id=\"T_145e3_row3_col0\" class=\"data row3 col0\" >data_models</td>\n",
       "      <td id=\"T_145e3_row3_col1\" class=\"data row3 col1\" >1</td>\n",
       "    </tr>\n",
       "    <tr>\n",
       "      <th id=\"T_145e3_level0_row4\" class=\"row_heading level0 row4\" >4</th>\n",
       "      <td id=\"T_145e3_row4_col0\" class=\"data row4 col0\" >nodes</td>\n",
       "      <td id=\"T_145e3_row4_col1\" class=\"data row4 col1\" >0</td>\n",
       "    </tr>\n",
       "  </tbody>\n",
       "</table>\n"
      ],
      "text/plain": [
       "[UploadResult(name='spaces', error_messages=[], issues=[], created={'wind_space'}, upserted=set(), deleted=set(), changed=set(), unchanged=set(), skipped=set(), failed_created=set(), failed_upserted=set(), failed_changed=set(), failed_deleted=set(), failed_items=[]),\n",
       " UploadResult(name='containers', error_messages=[], issues=[], created={ContainerId(space='wind_space', external_id='WindFarm'), ContainerId(space='wind_space', external_id='Location'), ContainerId(space='wind_space', external_id='MetMast'), ContainerId(space='wind_space', external_id='NeatOrgEquipment'), ContainerId(space='wind_space', external_id='NeatOrgTimeSeries'), ContainerId(space='wind_space', external_id='WindTurbine'), ContainerId(space='wind_space', external_id='NeatOrgAsset'), ContainerId(space='wind_space', external_id='Substation'), ContainerId(space='wind_space', external_id='NeatOrgActivity')}, upserted=set(), deleted=set(), changed=set(), unchanged=set(), skipped=set(), failed_created=set(), failed_upserted=set(), failed_changed=set(), failed_deleted=set(), failed_items=[]),\n",
       " UploadResult(name='views', error_messages=[], issues=[], created={ViewId(space='wind_space', external_id='WindTurbine', version='v1'), ViewId(space='wind_space', external_id='MetMast', version='v1'), ViewId(space='wind_space', external_id='NeatOrgActivity', version='v1'), ViewId(space='wind_space', external_id='WindFarm', version='v1'), ViewId(space='wind_space', external_id='Substation', version='v1'), ViewId(space='wind_space', external_id='NeatOrgTimeSeries', version='v1'), ViewId(space='wind_space', external_id='NeatOrgAsset', version='v1'), ViewId(space='wind_space', external_id='Location', version='v1'), ViewId(space='wind_space', external_id='NeatOrgEquipment', version='v1')}, upserted=set(), deleted=set(), changed=set(), unchanged=set(), skipped=set(), failed_created=set(), failed_upserted=set(), failed_changed=set(), failed_deleted=set(), failed_items=[]),\n",
       " UploadResult(name='data_models', error_messages=[], issues=[], created={DataModelId(space='wind_space', external_id='WindFarm', version='v1')}, upserted=set(), deleted=set(), changed=set(), unchanged=set(), skipped=set(), failed_created=set(), failed_upserted=set(), failed_changed=set(), failed_deleted=set(), failed_items=[]),\n",
       " UploadResult(name='nodes', error_messages=[], issues=[], created=set(), upserted=set(), deleted=set(), changed=set(), unchanged=set(), skipped=set(), failed_created=set(), failed_upserted=set(), failed_changed=set(), failed_deleted=set(), failed_items=[])]"
      ]
     },
     "execution_count": 16,
     "metadata": {},
     "output_type": "execute_result"
    }
   ],
   "source": [
    "neat.to.cdf.data_model()"
   ]
  }
 ],
 "metadata": {
  "kernelspec": {
   "display_name": "Python 3 (ipykernel)",
   "language": "python",
   "name": "python3"
  },
  "language_info": {
   "codemirror_mode": {
    "name": "ipython",
    "version": 3
   },
   "file_extension": ".py",
   "mimetype": "text/x-python",
   "name": "python",
   "nbconvert_exporter": "python",
   "pygments_lexer": "ipython3",
   "version": "3.11.9"
  }
 },
 "nbformat": 4,
 "nbformat_minor": 5
}
