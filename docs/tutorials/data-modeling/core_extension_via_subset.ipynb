{
 "cells": [
  {
   "cell_type": "markdown",
   "id": "89a63c3a-73c2-428c-bf4a-c92387c6f41b",
   "metadata": {},
   "source": [
    "# Creating Enterprise Data Model by Selecting and Extending Concepts from Cognite's Core Data Model\n",
    "\n",
    "**Prerequisite**:\n",
    "\n",
    "- Basic understanding of Data Modeling in CDF\n",
    "- Basic understanding of Core Data Model\n",
    "- Access to a CDF Project.\n",
    "- Know how to install and setup Python.\n",
    "- Launch a Python notebook.\n",
    "\n",
    "In this tutorial, we will show you how you can extend a [core data model](https://docs.cognite.com/cdf/dm/dm_reference/dm_core_data_model/) making your own extension specific to your domain. We will demonstrate this process by building a tiny wind farm data model."
   ]
  },
  {
   "cell_type": "markdown",
   "id": "1ec7d2c8-0d27-4d40-a255-f57564fc1ab1",
   "metadata": {},
   "source": [
    "## Load NEAT methods and starting NeatSession"
   ]
  },
  {
   "cell_type": "markdown",
   "id": "213691bd-b730-4a7f-bbaf-03ebe19ff86a",
   "metadata": {},
   "source": [
    "Interaction with NEAT is done through so-called [NeatSession](https://cognite-neat.readthedocs-hosted.com/en/latest/reference/NeatSession/base.html). `NeatSession` is typically instantiated with Cognite client which allows us to connect to CDF and read and write data models and instances. Therefore, we will import `NeatSession` and a convience method `get_cognite_client`:"
   ]
  },
  {
   "cell_type": "code",
   "execution_count": 1,
   "id": "76063bc4-86cc-4d82-b62d-2e0e00df4368",
   "metadata": {},
   "outputs": [],
   "source": [
    "from cognite.neat import NeatSession, get_cognite_client"
   ]
  },
  {
   "cell_type": "markdown",
   "id": "cae9dd9a-948c-40c5-96a6-a49b65f38b9f",
   "metadata": {},
   "source": [
    "> if you do not have `.env` file stored locally call `get_cognite_client()` first to create one:"
   ]
  },
  {
   "cell_type": "code",
   "execution_count": 2,
   "id": "e2141dc2-0e5e-4997-9426-c22e282e5575",
   "metadata": {},
   "outputs": [
    {
     "name": "stdout",
     "output_type": "stream",
     "text": [
      "Found .env file in repository root. Loaded variables from .env file.\n"
     ]
    }
   ],
   "source": [
    "client = get_cognite_client(\".env\")"
   ]
  },
  {
   "cell_type": "code",
   "execution_count": 3,
   "id": "09061de3-82e1-40a5-8363-11ecc1d590ee",
   "metadata": {},
   "outputs": [
    {
     "name": "stdout",
     "output_type": "stream",
     "text": [
      "Neat Engine 2.0.4 loaded.\n"
     ]
    }
   ],
   "source": [
    "neat = NeatSession(client)"
   ]
  },
  {
   "cell_type": "markdown",
   "id": "0ea80ac0-63ce-48a9-bb70-c85377d3a6f6",
   "metadata": {},
   "source": [
    "# Subset Core Data Model with desired set of concepts"
   ]
  },
  {
   "cell_type": "markdown",
   "id": "277b8d43-07a5-42c0-a3e0-b1fdfaadda94",
   "metadata": {},
   "source": [
    "[Cognite's Core Data Model](https://docs.cognite.com/cdf/dm/dm_reference/dm_core_data_model/) (short `CDM`) is a CDF system data model maintained by `Cognite`. To extend CDM, thus make our own extension specific to a domain, we will create references between CDM and concepts we define in our own data model.\n",
    "\n",
    "CDM consists of 33 concepts (divided to 28 so called Core Concepts and 5 Core Features), majority of which are related to 3D (15+ concepts).\n",
    "\n",
    "Since we are building a tiny wind farm data model, we will only select a small subset of concepts which will be turned into editable concepts that we can extend to tune for our needs. Specifically we will select following concepts:\n",
    "\n",
    "- `CogniteAsset`\n",
    "- `CogniteEquipment`\n",
    "- `CogniteTimeSeries`\n",
    "- `CogniteActivity`\n",
    "- `CogniteDescribable`\n",
    "\n",
    "By extending the above subsset of core concepts we will create a wind farm data model which will contain the following concepts:\n",
    "- `Location`\n",
    "- `WindFarm`\n",
    "- `WindTurbine`\n",
    "- `Substation`\n",
    "- `MetMast`\n",
    "\n",
    "\n",
    "To simplify this process we have create a convenience method `neat.read.cdf.core_data_model()` to create editable set of CDM concepts that we can extend.\n",
    "\n",
    "\n",
    "\n",
    "Let's call this method and pass the list of desired CDM concepts:\n"
   ]
  },
  {
   "cell_type": "code",
   "execution_count": 4,
   "id": "ce76ea9d-4968-45dd-86ca-2087f741bd58",
   "metadata": {},
   "outputs": [
    {
     "data": {
      "text/html": [
       "<pre style=\"white-space:pre;overflow-x:auto;line-height:normal;font-family:Menlo,'DejaVu Sans Mono',consolas,'Courier New',monospace\"><span style=\"color: #ff00ff; text-decoration-color: #ff00ff; font-weight: bold\">[WARNING]</span> Experimental feature <span style=\"color: #008000; text-decoration-color: #008000\">'core_data_model_subsetting'</span> is subject to change without notice\n",
       "</pre>\n"
      ],
      "text/plain": [
       "\u001b[1;95m[\u001b[0m\u001b[1;95mWARNING\u001b[0m\u001b[1;95m]\u001b[0m Experimental feature \u001b[32m'core_data_model_subsetting'\u001b[0m is subject to change without notice\n"
      ]
     },
     "metadata": {},
     "output_type": "display_data"
    },
    {
     "data": {
      "text/html": [
       "<p>Succeeded with warnings: Read NEAT(verified,physical,cdf_cdm,CogniteCore,v1)</p><br /><div>\n",
       "<style scoped>\n",
       "    .dataframe tbody tr th:only-of-type {\n",
       "        vertical-align: middle;\n",
       "    }\n",
       "\n",
       "    .dataframe tbody tr th {\n",
       "        vertical-align: top;\n",
       "    }\n",
       "\n",
       "    .dataframe thead th {\n",
       "        text-align: right;\n",
       "    }\n",
       "</style>\n",
       "<table border=\"1\" class=\"dataframe\">\n",
       "  <thead>\n",
       "    <tr style=\"text-align: right;\">\n",
       "      <th></th>\n",
       "      <th>count</th>\n",
       "    </tr>\n",
       "    <tr>\n",
       "      <th>NeatIssue</th>\n",
       "      <th></th>\n",
       "    </tr>\n",
       "  </thead>\n",
       "  <tbody>\n",
       "    <tr>\n",
       "      <th>NotNeatSupportedFilterWarning</th>\n",
       "      <td>7</td>\n",
       "    </tr>\n",
       "  </tbody>\n",
       "</table>\n",
       "</div><br />Hint: Use the .inspect.issues() for more details."
      ],
      "text/plain": [
       "[NotNeatSupportedFilterWarning(view_id=ViewId(space='cdf_cdm', external_id='Cognite360ImageStation', version='v1')),\n",
       " NotNeatSupportedFilterWarning(view_id=ViewId(space='cdf_cdm', external_id='CognitePointCloudModel', version='v1')),\n",
       " NotNeatSupportedFilterWarning(view_id=ViewId(space='cdf_cdm', external_id='CogniteCADModel', version='v1')),\n",
       " NotNeatSupportedFilterWarning(view_id=ViewId(space='cdf_cdm', external_id='CogniteCADRevision', version='v1')),\n",
       " NotNeatSupportedFilterWarning(view_id=ViewId(space='cdf_cdm', external_id='Cognite360ImageCollection', version='v1')),\n",
       " NotNeatSupportedFilterWarning(view_id=ViewId(space='cdf_cdm', external_id='Cognite360ImageModel', version='v1')),\n",
       " NotNeatSupportedFilterWarning(view_id=ViewId(space='cdf_cdm', external_id='CognitePointCloudRevision', version='v1'))]"
      ]
     },
     "execution_count": 4,
     "metadata": {},
     "output_type": "execute_result"
    }
   ],
   "source": [
    "neat.read.cdf.core_data_model(\n",
    "    [\"CogniteAsset\", \"CogniteEquipment\", \"CogniteTimeSeries\", \"CogniteActivity\", \"CogniteDescribable\"]\n",
    ")"
   ]
  },
  {
   "cell_type": "markdown",
   "id": "f699e21a",
   "metadata": {},
   "source": [
    "> Do not get confused with potential warnings you get when reading CDM into `NeatSession`. The warnings just point to users that filters are used in CDM. We typically strongly advise against usage of filters as it is easy to make mistakes when setting them.\n",
    "\n",
    "\n",
    "Let's now inspect content of NeatSession by calling `neat` which will give us a summary of the created data model in `NeatSession`:\n"
   ]
  },
  {
   "cell_type": "code",
   "execution_count": 5,
   "id": "939b2777-ceb3-4e4d-b037-71eacb6b3709",
   "metadata": {},
   "outputs": [
    {
     "data": {
      "text/html": [
       "<H2>Data Model</H2><br /><div>\n",
       "<style scoped>\n",
       "    .dataframe tbody tr th:only-of-type {\n",
       "        vertical-align: middle;\n",
       "    }\n",
       "\n",
       "    .dataframe tbody tr th {\n",
       "        vertical-align: top;\n",
       "    }\n",
       "\n",
       "    .dataframe thead th {\n",
       "        text-align: right;\n",
       "    }\n",
       "</style>\n",
       "<table border=\"1\" class=\"dataframe\">\n",
       "  <thead>\n",
       "    <tr style=\"text-align: right;\">\n",
       "      <th></th>\n",
       "      <th></th>\n",
       "    </tr>\n",
       "  </thead>\n",
       "  <tbody>\n",
       "    <tr>\n",
       "      <th>aspect</th>\n",
       "      <td>physical</td>\n",
       "    </tr>\n",
       "    <tr>\n",
       "      <th>intended for</th>\n",
       "      <td>DMS Architect</td>\n",
       "    </tr>\n",
       "    <tr>\n",
       "      <th>name</th>\n",
       "      <td>CopyOf enterprise data model</td>\n",
       "    </tr>\n",
       "    <tr>\n",
       "      <th>space</th>\n",
       "      <td>my_space</td>\n",
       "    </tr>\n",
       "    <tr>\n",
       "      <th>external_id</th>\n",
       "      <td>MyCDMSubset</td>\n",
       "    </tr>\n",
       "    <tr>\n",
       "      <th>version</th>\n",
       "      <td>v1</td>\n",
       "    </tr>\n",
       "    <tr>\n",
       "      <th>views</th>\n",
       "      <td>38</td>\n",
       "    </tr>\n",
       "    <tr>\n",
       "      <th>containers</th>\n",
       "      <td>5</td>\n",
       "    </tr>\n",
       "    <tr>\n",
       "      <th>properties</th>\n",
       "      <td>21</td>\n",
       "    </tr>\n",
       "  </tbody>\n",
       "</table>\n",
       "</div>"
      ],
      "text/plain": [
       "<cognite.neat._session._base.NeatSession at 0x12c3dbe90>"
      ]
     },
     "execution_count": 5,
     "metadata": {},
     "output_type": "execute_result"
    }
   ],
   "source": [
    "neat"
   ]
  },
  {
   "cell_type": "markdown",
   "id": "6cb6eed4-9b0f-4fa5-b1dc-4e85d3ab358e",
   "metadata": {},
   "source": [
    "By calling `neat` we are presented with an overview of data model that can be edited further in Excel to yield a tiny wind farm data model.\n",
    "\n",
    "One can observe from the overview that we have 38 views, of which 33 views are corresponding to 33 CDM concepts, while additional 5 are editable version of desired concepts we selected. Due to the current UI limitations we are forced to incorporate 33 CDM concepts into our data model. This is temporal solution until updated version of UI is created. \n",
    "\n",
    "As expected, there are only 5 containers in our data model, as they are there to match editable version of desired concepts (i.e. views) so we can add additional properties. \n",
    "\n",
    "Before we proceed with editing data model in Excel let's update its data model id as well as name: "
   ]
  },
  {
   "cell_type": "code",
   "execution_count": 6,
   "id": "66073c02-91f7-4534-892a-5b2fd2917e7b",
   "metadata": {},
   "outputs": [
    {
     "data": {
      "text/html": [
       "<p>Success: NEAT(verified,physical,my_space,MyCDMSubset,v1) &#8594; NEAT(verified,physical,wind_energy_space,TinyWindFarmModel,v1)</p>"
      ],
      "text/plain": [
       "[]"
      ]
     },
     "execution_count": 6,
     "metadata": {},
     "output_type": "execute_result"
    }
   ],
   "source": [
    "neat.set.data_model_id((\"wind_energy_space\", \"TinyWindFarmModel\", \"v1\"), name=\"Tiny Wind Farm Model\")"
   ]
  },
  {
   "cell_type": "code",
   "execution_count": 7,
   "id": "4d7ce314-57d7-4d69-b93f-0b01aa5e57cf",
   "metadata": {},
   "outputs": [
    {
     "data": {
      "text/html": [
       "<H2>Data Model</H2><br /><div>\n",
       "<style scoped>\n",
       "    .dataframe tbody tr th:only-of-type {\n",
       "        vertical-align: middle;\n",
       "    }\n",
       "\n",
       "    .dataframe tbody tr th {\n",
       "        vertical-align: top;\n",
       "    }\n",
       "\n",
       "    .dataframe thead th {\n",
       "        text-align: right;\n",
       "    }\n",
       "</style>\n",
       "<table border=\"1\" class=\"dataframe\">\n",
       "  <thead>\n",
       "    <tr style=\"text-align: right;\">\n",
       "      <th></th>\n",
       "      <th></th>\n",
       "    </tr>\n",
       "  </thead>\n",
       "  <tbody>\n",
       "    <tr>\n",
       "      <th>aspect</th>\n",
       "      <td>physical</td>\n",
       "    </tr>\n",
       "    <tr>\n",
       "      <th>intended for</th>\n",
       "      <td>DMS Architect</td>\n",
       "    </tr>\n",
       "    <tr>\n",
       "      <th>name</th>\n",
       "      <td>Tiny Wind Farm Model</td>\n",
       "    </tr>\n",
       "    <tr>\n",
       "      <th>space</th>\n",
       "      <td>wind_energy_space</td>\n",
       "    </tr>\n",
       "    <tr>\n",
       "      <th>external_id</th>\n",
       "      <td>TinyWindFarmModel</td>\n",
       "    </tr>\n",
       "    <tr>\n",
       "      <th>version</th>\n",
       "      <td>v1</td>\n",
       "    </tr>\n",
       "    <tr>\n",
       "      <th>views</th>\n",
       "      <td>38</td>\n",
       "    </tr>\n",
       "    <tr>\n",
       "      <th>containers</th>\n",
       "      <td>5</td>\n",
       "    </tr>\n",
       "    <tr>\n",
       "      <th>properties</th>\n",
       "      <td>21</td>\n",
       "    </tr>\n",
       "  </tbody>\n",
       "</table>\n",
       "</div>"
      ],
      "text/plain": [
       "<cognite.neat._session._base.NeatSession at 0x12c3dbe90>"
      ]
     },
     "execution_count": 7,
     "metadata": {},
     "output_type": "execute_result"
    }
   ],
   "source": [
    "neat"
   ]
  },
  {
   "cell_type": "markdown",
   "id": "73c3503c-e0a6-4200-91d0-05e8d6438581",
   "metadata": {},
   "source": [
    "NeatSession is restrictive when comes to possibility to manual edit data model, on other hand Excel enviroment provides much greater freedom.\n",
    "Therefore, let's now export data model in Excel format and continue editing it outside of `NeatSession` and notebook enviroment.\n",
    "\n"
   ]
  },
  {
   "cell_type": "code",
   "execution_count": 8,
   "id": "55d2dbb4-3ee1-424a-a68f-6e94229f6272",
   "metadata": {},
   "outputs": [],
   "source": [
    "neat.to.excel(\"wind-farm-data-model.xlsx\")"
   ]
  },
  {
   "cell_type": "markdown",
   "id": "7f455c99-3c27-4fea-84d9-26b6b11b9875",
   "metadata": {},
   "source": [
    "# Extending subset of CDM concepts"
   ]
  },
  {
   "cell_type": "markdown",
   "id": "742de6e4-d054-49c3-840e-50f974a0bb1a",
   "metadata": {},
   "source": [
    "Inspecting exported Excel representation of data model one can see in details results of `neat.subset.data_model.core_data_model` method, which did the following:\n",
    "\n",
    "1. Read Core Data Model into `NeatSession`\n",
    "\n",
    "2. Creat an editable vesions of concepts we selected from CDM, names of which are prefixed by the `CopyOf`\n",
    "    > neat will create `CopyOfAsset`, `CopyOfEquipment`, etc., and it will make sure that `CopyOfAsset` implements `CogniteAsset`, `CopyOfEqupiment` implements `CogniteEquipment`, etc.\n",
    "\n",
    "![](./figs/editable-views.png)\n",
    "\n",
    "2. Adjust connection between the editable versions of concepts\n",
    "   > In `CogniteEqupiment`, property `asset` points to `CogniteAsset`, neat updates this connection in case of `NeatOrgEqupimnt`, such that it points to `NeatOrgAsset` instead. This is necessary update in order to consume data through your own concepts and not concepts of CDM, e.g. this will enable Search, pygen generated SDKs, GraphQL quering, to work as expected.\n",
    "\n",
    "![](./figs/moved-connections-and-dummy-properties.png)\n",
    "   \n",
    "3. Add a dummy property to every editable concepts, which name if not specified will be in form of `<nameOfConcept>GUID`\n",
    "   > There are a few purposes of this property. First, to show users how they can add new properties to the editable version of concepts, second by adding specific property to editable version of concepts one can skip adding filters to ensure consumption of data through user-defined concepts. These additional properties will be stored in new set of containers.\n",
    "\n",
    "\n",
    "4. Add new containers to store additional properties of editable concepts which are not part of CDM concepts editable concepts are implementing\n",
    "\n",
    "![](./figs/specific-containers.png)"
   ]
  },
  {
   "attachments": {},
   "cell_type": "markdown",
   "id": "66e158e6-b12e-4ec6-be12-d27f248e022f",
   "metadata": {},
   "source": [
    "In Excel we will edit exported data model and produce desired wind farm data model. Specifically we will do the following steps:\n",
    "\n",
    "1. Rename and futher extend editable concept\n",
    "\n",
    "We would like to have location information for our assets, which would contain following properties:\n",
    "- name\n",
    "- description\n",
    "- latitude\n",
    "- longitude\n",
    "- and height.\n",
    "\n",
    "Since `name` and `description` are part of `CopyOfDesribable` concept, through implementation of `CognieDescribable`, we will: \n",
    "- Rename `CopyOfDescribable` to `Location`\n",
    "- Add properties latitude, longitude and height to `Location` concept\n",
    "\n",
    "3. Add units to properties\n",
    "\n",
    "We will set also units to `latitude`, `longitude` and `height`. Specifically, we will set degree to `latitude` and `longitude`, while meter to `height`. This is done by specifying `Value Type` with unit, e.g. `float(unit=angle:deg)` (list of units and their external ids can be found [here](https://cognite-neat.readthedocs-hosted.com/en/latest/excel_data_modeling/units.html))\n",
    "\n",
    "4. Update dummy property\n",
    "\n",
    "We will rename property `neatOrgAssetGUID`, which is added to `CopyOfAsset` concept, to property `location`, set the connection type to be `direct` and update `value type` to `Location`.\n",
    "\n",
    "5. Create new concepts out of editable concept\n",
    "\n",
    "We will create: \n",
    "- `WindFarm`\n",
    "- `WindTurbine`\n",
    "- `Substation`\n",
    "- `MetMast`\n",
    "\n",
    "concepts by implementing `CopyOfAsset` and adding following specific properties repespectively: \n",
    "- `capacityFactor`, which value type will be `float32`\n",
    "- `activePower`, which value type will be `float32`\n",
    "- `voltageLevel`, which value type will be `float32`\n",
    "- `iecCompliant`, which value will be `boolean`\n",
    " \n",
    "6. Add explicit connection between new concepts\n",
    "\n",
    "We would like to have explicit connection between `WindFarm` and its underlaying asset `WindTurbine`, `Substation` and `MetMast`. To achieve this we will create direct connection:\n",
    "- from `WindTurbine` to `WindFarm` via property `windFarm`\n",
    "- from `Substation` to `WindFarm` via property `windFarm`\n",
    "- and `MetMast` to `WindFarm` via property `windFarm`\n",
    "\n",
    "In addition we will create the reverse connection based of these properties: \n",
    "- from `WindFarm` to  `WindTurbine` via property `windTurbine`\n",
    "- from `WindFarm` to `Substation` via property `substation`\n",
    "- from `WindFarm` to `MetMast` via property `metMast`\n",
    "\n",
    "You will notice that direct connection require storage, therefore we are mapping View properties to Container properites. On the other hand reverse connection do not require storage, so we are not mapping View properties to Container properties.\n",
    "\n",
    "6. Update metadata\n",
    "\n",
    "We will finally update description of data model in `Metadata` sheet"
   ]
  },
  {
   "cell_type": "markdown",
   "id": "3a4000cd-6338-443b-97e3-b04c9c512312",
   "metadata": {},
   "source": [
    "# Read edited data model and upload it to CDF"
   ]
  },
  {
   "cell_type": "markdown",
   "id": "41cb33a5-a7c8-4671-bf72-fe936ac6f0ea",
   "metadata": {},
   "source": [
    "We will read in manually edited Excel file into `NeatSession` using `...read.excel(filename, enable_manual_edit=True)`. Beware that we are setting argument `enable_manual_edit` to True which signals to neat to try to read in manually edited data model and join it into the provenance trail.\n",
    "\n",
    "\n",
    "> You can download [wind-farm-data-model-manual-edited.xlsx](./wind-farm-data-model-manual-edited.xlsx)\n"
   ]
  },
  {
   "cell_type": "code",
   "execution_count": 9,
   "id": "b61e33fe-a45a-44af-9f17-7d164daf9ea1",
   "metadata": {},
   "outputs": [
    {
     "data": {
      "text/html": [
       "<pre style=\"white-space:pre;overflow-x:auto;line-height:normal;font-family:Menlo,'DejaVu Sans Mono',consolas,'Courier New',monospace\"><span style=\"color: #ff00ff; text-decoration-color: #ff00ff; font-weight: bold\">[WARNING]</span> Experimental feature <span style=\"color: #008000; text-decoration-color: #008000\">'enable_manual_edit'</span> is subject to change without notice\n",
       "</pre>\n"
      ],
      "text/plain": [
       "\u001b[1;95m[\u001b[0m\u001b[1;95mWARNING\u001b[0m\u001b[1;95m]\u001b[0m Experimental feature \u001b[32m'enable_manual_edit'\u001b[0m is subject to change without notice\n"
      ]
     },
     "metadata": {},
     "output_type": "display_data"
    },
    {
     "data": {
      "text/html": [
       "<p>Succeeded with warnings: Read NEAT(verified,physical,wind_energy_space,TinyWindFarmModel,v1)</p><br /><div>\n",
       "<style scoped>\n",
       "    .dataframe tbody tr th:only-of-type {\n",
       "        vertical-align: middle;\n",
       "    }\n",
       "\n",
       "    .dataframe tbody tr th {\n",
       "        vertical-align: top;\n",
       "    }\n",
       "\n",
       "    .dataframe thead th {\n",
       "        text-align: right;\n",
       "    }\n",
       "</style>\n",
       "<table border=\"1\" class=\"dataframe\">\n",
       "  <thead>\n",
       "    <tr style=\"text-align: right;\">\n",
       "      <th></th>\n",
       "      <th>count</th>\n",
       "    </tr>\n",
       "    <tr>\n",
       "      <th>NeatIssue</th>\n",
       "      <th></th>\n",
       "    </tr>\n",
       "  </thead>\n",
       "  <tbody>\n",
       "    <tr>\n",
       "      <th>NeatValueWarning</th>\n",
       "      <td>18</td>\n",
       "    </tr>\n",
       "    <tr>\n",
       "      <th>NotNeatSupportedFilterWarning</th>\n",
       "      <td>7</td>\n",
       "    </tr>\n",
       "  </tbody>\n",
       "</table>\n",
       "</div><br />Hint: Use the .inspect.issues() for more details."
      ],
      "text/plain": [
       "[NeatValueWarning(value='UserWarning: Data Validation extension is not supported and will be removed'),\n",
       " NeatValueWarning(value='UserWarning: Data Validation extension is not supported and will be removed'),\n",
       " NeatValueWarning(value='UserWarning: Data Validation extension is not supported and will be removed'),\n",
       " NeatValueWarning(value='UserWarning: Data Validation extension is not supported and will be removed'),\n",
       " NeatValueWarning(value='UserWarning: Data Validation extension is not supported and will be removed'),\n",
       " NeatValueWarning(value='UserWarning: Data Validation extension is not supported and will be removed'),\n",
       " NeatValueWarning(value='UserWarning: Data Validation extension is not supported and will be removed'),\n",
       " NeatValueWarning(value='UserWarning: Data Validation extension is not supported and will be removed'),\n",
       " NeatValueWarning(value='UserWarning: Data Validation extension is not supported and will be removed'),\n",
       " NeatValueWarning(value='UserWarning: Data Validation extension is not supported and will be removed'),\n",
       " NeatValueWarning(value='UserWarning: Data Validation extension is not supported and will be removed'),\n",
       " NeatValueWarning(value='UserWarning: Data Validation extension is not supported and will be removed'),\n",
       " NeatValueWarning(value='UserWarning: Data Validation extension is not supported and will be removed'),\n",
       " NeatValueWarning(value='UserWarning: Data Validation extension is not supported and will be removed'),\n",
       " NeatValueWarning(value='UserWarning: Data Validation extension is not supported and will be removed'),\n",
       " NeatValueWarning(value='UserWarning: Data Validation extension is not supported and will be removed'),\n",
       " NeatValueWarning(value='UserWarning: Data Validation extension is not supported and will be removed'),\n",
       " NeatValueWarning(value='UserWarning: Data Validation extension is not supported and will be removed'),\n",
       " NotNeatSupportedFilterWarning(view_id=ViewId(space='cdf_cdm', external_id='Cognite360ImageCollection', version='v1')),\n",
       " NotNeatSupportedFilterWarning(view_id=ViewId(space='cdf_cdm', external_id='Cognite360ImageModel', version='v1')),\n",
       " NotNeatSupportedFilterWarning(view_id=ViewId(space='cdf_cdm', external_id='Cognite360ImageStation', version='v1')),\n",
       " NotNeatSupportedFilterWarning(view_id=ViewId(space='cdf_cdm', external_id='CogniteCADModel', version='v1')),\n",
       " NotNeatSupportedFilterWarning(view_id=ViewId(space='cdf_cdm', external_id='CogniteCADRevision', version='v1')),\n",
       " NotNeatSupportedFilterWarning(view_id=ViewId(space='cdf_cdm', external_id='CognitePointCloudModel', version='v1')),\n",
       " NotNeatSupportedFilterWarning(view_id=ViewId(space='cdf_cdm', external_id='CognitePointCloudRevision', version='v1'))]"
      ]
     },
     "execution_count": 9,
     "metadata": {},
     "output_type": "execute_result"
    }
   ],
   "source": [
    "neat.read.excel(\"wind-farm-data-model-manual-edited.xlsx\", enable_manual_edit=True)"
   ]
  },
  {
   "cell_type": "markdown",
   "id": "8ff62cf0-499c-4940-82c6-14736692d27b",
   "metadata": {},
   "source": [
    "Finally let's push data model to CDF:"
   ]
  },
  {
   "cell_type": "markdown",
   "id": "63fd6fba-b2cf-4c52-b988-891949a7ebbd",
   "metadata": {},
   "source": [
    "Let's inspect the outcome of data model deployement:"
   ]
  },
  {
   "cell_type": "code",
   "execution_count": 11,
   "id": "130fcfac-8f32-4f63-a590-38a3ef029c3a",
   "metadata": {},
   "outputs": [
    {
     "data": {
      "text/markdown": [
       "### spaces\n",
       "#### unchanged\n",
       "  * wind_energy_space\n",
       "### containers\n",
       "#### unchanged\n",
       "  * ContainerId(space='wind_energy_space', external_id='Location')\n",
       "  * ContainerId(space='wind_energy_space', external_id='WindTurbine')\n",
       "  * ContainerId(space='wind_energy_space', external_id='CopyOfEquipment')\n",
       "  * ContainerId(space='wind_energy_space', external_id='MetMast')\n",
       "  * ContainerId(space='wind_energy_space', external_id='CopyOfTimeSeries')\n",
       "  * ContainerId(space='wind_energy_space', external_id='CopyOfAsset')\n",
       "  * ContainerId(space='wind_energy_space', external_id='WindFarm')\n",
       "  * ContainerId(space='wind_energy_space', external_id='CopyOfActivity')\n",
       "  * ContainerId(space='wind_energy_space', external_id='Substation')\n",
       "### views\n",
       "#### unchanged\n",
       "  * ViewId(space='wind_energy_space', external_id='Location', version='v1')\n",
       "  * ViewId(space='wind_energy_space', external_id='WindTurbine', version='v1')\n",
       "  * ViewId(space='wind_energy_space', external_id='WindFarm', version='v1')\n",
       "  * ViewId(space='wind_energy_space', external_id='CopyOfEquipment', version='v1')\n",
       "  * ViewId(space='wind_energy_space', external_id='CopyOfAsset', version='v1')\n",
       "  * ViewId(space='wind_energy_space', external_id='Substation', version='v1')\n",
       "  * ViewId(space='wind_energy_space', external_id='CopyOfActivity', version='v1')\n",
       "  * ViewId(space='wind_energy_space', external_id='MetMast', version='v1')\n",
       "  * ViewId(space='wind_energy_space', external_id='CopyOfTimeSeries', version='v1')\n",
       "### data_models\n",
       "#### unchanged\n",
       "  * DataModelId(space='wind_energy_space', external_id='TinyWindFarmModel', version='v1')\n",
       "### nodes"
      ],
      "text/plain": [
       "<IPython.core.display.Markdown object>"
      ]
     },
     "metadata": {},
     "output_type": "display_data"
    }
   ],
   "source": [
    "neat.inspect.outcome.data_model()"
   ]
  },
  {
   "cell_type": "markdown",
   "id": "c3218b36-f7ee-4953-9ceb-559621f5ad88",
   "metadata": {},
   "source": [
    "Let visualize a full provenance from the begining til the end:"
   ]
  },
  {
   "cell_type": "code",
   "execution_count": 12,
   "id": "4b431b01-0379-47ac-bfdd-57f3f4e2a089",
   "metadata": {},
   "outputs": [
    {
     "name": "stdout",
     "output_type": "stream",
     "text": [
      "data_model_provenance_c2bd65be.html\n"
     ]
    },
    {
     "data": {
      "text/html": [
       "\n",
       "        <iframe\n",
       "            width=\"100%\"\n",
       "            height=\"750px\"\n",
       "            src=\"data_model_provenance_c2bd65be.html\"\n",
       "            frameborder=\"0\"\n",
       "            allowfullscreen\n",
       "            \n",
       "        ></iframe>\n",
       "        "
      ],
      "text/plain": [
       "<IPython.lib.display.IFrame at 0x125ddf0d0>"
      ]
     },
     "execution_count": 12,
     "metadata": {},
     "output_type": "execute_result"
    }
   ],
   "source": [
    "neat.show.data_model.provenance()"
   ]
  },
  {
   "cell_type": "code",
   "execution_count": null,
   "id": "9d42548a-b092-4359-b34c-473b1d1ac426",
   "metadata": {},
   "outputs": [],
   "source": []
  }
 ],
 "metadata": {
  "kernelspec": {
   "display_name": "Python 3 (ipykernel)",
   "language": "python",
   "name": "python3"
  },
  "language_info": {
   "codemirror_mode": {
    "name": "ipython",
    "version": 3
   },
   "file_extension": ".py",
   "mimetype": "text/x-python",
   "name": "python",
   "nbconvert_exporter": "python",
   "pygments_lexer": "ipython3",
   "version": "3.11.9"
  }
 },
 "nbformat": 4,
 "nbformat_minor": 5
}
