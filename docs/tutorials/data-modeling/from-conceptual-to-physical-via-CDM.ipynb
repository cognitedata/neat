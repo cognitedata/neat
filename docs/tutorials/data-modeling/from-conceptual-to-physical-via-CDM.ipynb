{
 "cells": [
  {
   "cell_type": "markdown",
   "id": "89a63c3a-73c2-428c-bf4a-c92387c6f41b",
   "metadata": {},
   "source": [
    "# From conceptual to physical data model by leveraging and extending core data model concepts\n",
    "\n",
    "**Prerequisite**:\n",
    "\n",
    "- Basic understanding of Data Modeling in CDF\n",
    "- Basic understanding of Core Data Model\n",
    "- Access to a CDF Project.\n",
    "- Know how to install and setup Python.\n",
    "- Launch a Python notebook.\n",
    "\n",
    "In this tutorial, you will learn to model data based on an established and industry accepted approach which fuses the following two techniques:\n",
    "\n",
    "- [expert elicitation](https://en.wikipedia.org/wiki/Expert_elicitation): by putting domain expert in focus, who has knowledge about the domain, and who has business questions to answer aided by data to be modeled\n",
    "- [progressive disclosure](https://en.wikipedia.org/wiki/Progressive_disclosure): by incrementally increasing complexity of our data model, starting with conceptual data model (defining concepts) , and progressively increasing the model fidelity, making sure that a [Core Data Model (CDM)](https://docs.cognite.com/cdf/dm/dm_reference/dm_core_data_model/) concepts are leveraged, until ready to be converted to physical data model (aka CDF data model)\n",
    "\n",
    "\n",
    "The data modeling flow depicting the approach is shown below through different roles:\n",
    "\n",
    "![](./figs/data-modeling-flow.png)\n",
    "\n",
    "\n",
    "In this tutorial will model **Wind Energy** domain, for company **Wind of Change**, starting by defining minimal model that can support domain expert working in **Wind Farm Prospecting** business unit of **Wind Of Change**, trying to answer \"**Is this site viable for a profitable wind project?**\" business question. \n",
    "\n",
    "\n",
    "**Summary**\n",
    "\n",
    "- domain: Wind Energy\n",
    "- company: Wind of Change\n",
    "- business unit: Wind Farm Prospecting\n",
    "- business question: **Is a site the right one to develop a wind farm project?**\n",
    "\n",
    "\n"
   ]
  },
  {
   "cell_type": "markdown",
   "id": "1ec7d2c8-0d27-4d40-a255-f57564fc1ab1",
   "metadata": {},
   "source": [
    "## NEAT\n",
    "\n",
    "We will use [NEAT](https://thisisneat.io) to create the data model based on the above requirements.\n",
    "\n",
    "Interaction with NEAT is done through so-called [NeatSession](https://cognite-neat.readthedocs-hosted.com/en/latest/reference/NeatSession/base.html). `NeatSession` is typically instantiated with Cognite client which allows us to connect to CDF and read and write data models and instances. Therefore, we will import `NeatSession` and a convenience method `get_cognite_client`:"
   ]
  },
  {
   "cell_type": "code",
   "execution_count": 1,
   "id": "76063bc4-86cc-4d82-b62d-2e0e00df4368",
   "metadata": {},
   "outputs": [],
   "source": [
    "from cognite.neat import NeatSession, get_cognite_client"
   ]
  },
  {
   "cell_type": "markdown",
   "id": "cae9dd9a-948c-40c5-96a6-a49b65f38b9f",
   "metadata": {},
   "source": [
    "> if you do not have `.env` file stored locally call `get_cognite_client()` first to create one:"
   ]
  },
  {
   "cell_type": "code",
   "execution_count": 2,
   "id": "e2141dc2-0e5e-4997-9426-c22e282e5575",
   "metadata": {},
   "outputs": [
    {
     "name": "stdout",
     "output_type": "stream",
     "text": [
      "Found .env file in repository root. Loaded variables from .env file.\n"
     ]
    }
   ],
   "source": [
    "client = get_cognite_client(\".env\")"
   ]
  },
  {
   "cell_type": "code",
   "execution_count": 17,
   "id": "09061de3-82e1-40a5-8363-11ecc1d590ee",
   "metadata": {},
   "outputs": [
    {
     "name": "stdout",
     "output_type": "stream",
     "text": [
      "For Neat to improve, we need to collect usage information. You acknowledge and agree that neat may collect usage information.To remove this message run 'neat.opt.in_() or to stop collecting usage information run 'neat.opt.out()'.\n",
      "Neat Engine 2.0.5 loaded.\n"
     ]
    }
   ],
   "source": [
    "neat = NeatSession(client)"
   ]
  },
  {
   "cell_type": "markdown",
   "id": "277b8d43-07a5-42c0-a3e0-b1fdfaadda94",
   "metadata": {},
   "source": [
    "## Expert elicitation\n",
    "\n",
    "In the introduction of this tutorial, we have established the business question of interest. \n",
    "\n",
    "Usually, a data modeling process is unknown to domain experts, especially platform-specific details (e.g., in the case of CDF that are details such as views, containers, etc.). However, domain experts understand what concepts they need information about to answer the business question. Therefore, it is crucial to interview them to extract these concepts (a process known as expert elicitation). The extracted concepts, and connections between them, form the base for what is known as **Conceptual Data Model**.\n",
    "\n",
    "Let's assume that we asked our domain expert how he/she is able to answer the question:\n",
    "\n",
    "**Is a site the right one to develop a wind farm project?**\n",
    "\n",
    "We got an answer that he/she typically use a simple rule of thumb expressed with the following formula:\n",
    "\n",
    "> **7.5 * Annual Energy Production * Electricity Price >= Total Costs**\n",
    "\n",
    "So in short 7.5 years since the wind farm starts operating, amount of electricity that is sold should cover all the costs.\n",
    "\n",
    "To satisfy the above formula, the domain expert highlights a need to know the following data:\n",
    "\n",
    "- location and area of the site\n",
    "- wind climate for the site\n",
    "- wind turbine characteristic\n",
    "- costs\n",
    "- expected electricity price\n",
    "\n",
    "With a set of more detailed questions related, we would be able to outline the following concepts:\n",
    "\n",
    "- Wind farm: A group of wind turbines installed in a specific area to generate electricity from wind.\n",
    "- Wind turbine: A machine that converts wind energy into electrical power.\n",
    "- Meteorological mast: A tall tower equipped with sensors to measure wind and weather conditions at potential wind farm sites.\n",
    "- Anemometer: A device mounted on a mast to measure wind speed.\n",
    "- Wind vane: A sensor that shows the direction of the wind.\n",
    "- Site: A specific location being evaluated for the feasibility of building a wind farm.\n",
    "- Cost: The total expense involved in developing, building, and operating a wind farm.\n",
    "- Electricity price: The market rate at which the generated electricity can be sold.\n",
    "\n",
    "At this stage, we can start forming the conceptual data model, for which NEAT offers an Excel template that we can leverage.\n",
    "Below is the command that will generate the template:\n"
   ]
  },
  {
   "cell_type": "code",
   "execution_count": 24,
   "id": "e3eb6175-77ca-4caa-b71d-8a1ec5e8af19",
   "metadata": {},
   "outputs": [],
   "source": [
    "neat.template.conceptual_model(\"wind_farm_prospecting_conceptual_data_model.xlsx\")"
   ]
  },
  {
   "cell_type": "markdown",
   "id": "ab25c6a1-9975-4317-be59-532a19ce2efe",
   "metadata": {},
   "source": [
    "## Capturing expert's knowledge in conceptual data model\n",
    "\n",
    "Let's now fill in the template. \n",
    "\n",
    "As we are adding concepts (which in the current template are added in the `Classes` sheet, and are known as classes), we should try to select appropriate CDM concepts to build them off.\n",
    "To simplify the selection of CDM concepts that we want to base our concepts on, we will use the following rule of thumb(s):\n",
    "\n",
    "1. Large infrastructures, physical objects that can be represented as a hierarchy of concepts (assets), and/or objects that can be seen as \"boxes\" to put other objects in / be part of we will base of `CogniteAsset`\n",
    "\n",
    "2. Physical objects that do not have a clear hierarchical structure, or are part of other physical objects we will base off `CogniteEqupiment`\n",
    "\n",
    "3. Any other concept that does follow rules 1 and 2, and requires human-readable properties, we will base off `CogniteDescribable`\n",
    "\n",
    "\n",
    "According to the above, we have based our concepts:\n",
    "\n",
    "- `WindFarm` of `CogniteAsset`: as this is a large infrastructure that will contain child assets `WindTurbine` and `MetMast`\n",
    "- `WindTurbine` of `CogniteAsset`: as it is the building block of `WindFarm` and enables further fine-graining to building components such as `Blade`, `Tower`, `Nacelle`, etc.\n",
    "- `MetMast` of `CogniteAsset`: as it is a part of `WindFarm`, and will be a \"box\" to \"add\" all sensors\n",
    "- `Anemometer`of `CogniteEquipment`: it is a sensor that attaches to a meteorological mast, not necessarily in a hierarchical form\n",
    "- `WindVane` of `CogniteEquipment`: the same reason as anemometer\n",
    "- `Site` of `CogniteDescribable`: it is not an asset or equipment, but it will hold information such as name and description.\n",
    "- `Cost` of `CogniteDescribable`: same reasoning as `Site`\n",
    "- `ElectricityPrice` of `CogniteDescribable`: same reasoning as `Site`\n",
    "\n",
    "\n",
    "But let's make one small improvement. Since `Anemometer` and `WindVane` are both sensors, we can create a more generic concept `Sensor`, which is based on `CogniteEquipment`, and update the model such that `Anemometer` and `WindVane` implement `Sensor` instead of `CogniteEquipment`. **Why are we doing this?** This will allow us to define common properties of `Anemometer` and `WindVane` for `Sensor`, and only define custom properties for `Anemometer` and `WindVane`. \n",
    "\n",
    "The video below shows the process of filling in the template with our concepts (only rendered at thisisneat.io).\n",
    "\n",
    "<iframe width=\"700\" height=\"500\" src=\"https://www.youtube.com/embed/K8qU8RPwjoU?si=z01F8zN_3VNgMPGY\" title=\"YouTube video player\" frameborder=\"0\" allow=\"accelerometer; autoplay; clipboard-write; encrypted-media; gyroscope; picture-in-picture; web-share\" referrerpolicy=\"strict-origin-when-cross-origin\" allowfullscreen></iframe>"
   ]
  },
  {
   "attachments": {},
   "cell_type": "markdown",
   "id": "36277543-4f31-4032-94fe-cd0084874d3b",
   "metadata": {},
   "source": [
    "## Adding properties to concepts\n",
    "\n",
    "In this second part of the expert elicitation process, we are going into more detail about our concepts with our domain expert. We will add properties to concepts. These being:\n",
    "- properties that hold data (also known as attributes)\n",
    "- and properties that connect concepts (also known as connections or relationships)\n",
    "\n",
    "\n",
    "Specifically, we have added the following properties:\n",
    "\n",
    "------------------------------------------------------------------------------------  \n",
    "- `WindFarm`\n",
    "  - `windTurbine` to hold connection to all `WindTurbine`(s) which make `WindFarm`\n",
    "------------------------------------------------------------------------------------  \n",
    "- `WindTurbine`:\n",
    "  - `powerCurve` to hold power curve measurements of the `WindTurbine`\n",
    "  - `hubHeight` to store the hub height of the `WindTurbine`\n",
    "  - `ratedPower` to store the rated power of the `WindTurbine`\n",
    "  - `manufacturer` to store manufacturer of the `WindTurbine`\n",
    "------------------------------------------------------------------------------------  \n",
    "- `MetMast`:\n",
    "  - `iecCompliant` to indicate if the `MetMast` is [IEC compliant](https://www.ammonit.com/en/customer-support/knowledge/standards-and-guidelines/iec-61400-12-12017/)\n",
    "  - `sensor` to hold connection to `Sensor`(s) which are attached to `MetMast`\n",
    "------------------------------------------------------------------------------------  \n",
    "- `Sensor`:\n",
    "  - `height` to store the height at which the `Sensor` is mounted on the `MetMast`\n",
    "  - `boomDirection` to store the boom direction of the `Sensor`\n",
    "  - `uncertainty` to store uncertainty of the `Sensor`\n",
    "  - `measurementRange` to store the measurement range of the `Sensor`\n",
    "  - `measurements` to store measurements (i.e. timeseries)\n",
    "------------------------------------------------------------------------------------  \n",
    "- `Anemometer`:\n",
    "  - `numberOfCups` to store how many [cups](https://en.wikipedia.org/wiki/Anemometer) the `Anemometer` has\n",
    " ------------------------------------------------------------------------------------  \n",
    "- `ElectricityPrice`:\n",
    "  - `upperPrice` to store the upper price of the electricity\n",
    "  - `lowerPrice` to store the lower price of the electricity\n",
    "------------------------------------------------------------------------------------  \n",
    "- `Cost`:\t\n",
    "  - `opex` to store operational expenditure\n",
    "  - `capex` to store capital expenditure\n",
    "------------------------------------------------------------------------------------  \n",
    "\n",
    "The video below shows the process of filling the template with properties (only rendered at thisisneat.io).\n",
    "\n",
    "<iframe width=\"700\" height=\"500\" src=\"https://www.youtube.com/embed/sq0TEa7J_yM?si=UxZk1ZAJkFEwDA_L\" title=\"YouTube video player\" frameborder=\"0\" allow=\"accelerometer; autoplay; clipboard-write; encrypted-media; gyroscope; picture-in-picture; web-share\" referrerpolicy=\"strict-origin-when-cross-origin\" allowfullscreen></iframe>"
   ]
  },
  {
   "attachments": {},
   "cell_type": "markdown",
   "id": "a40c6393-7cbb-478e-8e51-5e8ff95f4d80",
   "metadata": {},
   "source": [
    "## Adding `Location` concept\n",
    "\n",
    "You might notice that we did not add any custom properties to `Site` yet.\n",
    "\n",
    "As we need to express the geographical location of `Site` in the form of a bounding box, we need to create a helper concept `Location` to store information about:\n",
    "\n",
    "- `latitude`\n",
    "- `longitude`\n",
    "\n",
    "We will create this new concept and add these properties to it. Similar to `Site`, we will base `Location` off `CogniteDescribable` (it does not hurt to have information about location expressed with `name` and `description` which are properties of  `CogniteDescribable`).\n",
    "\n",
    "Once we create this concept we will `bbox` (bounding box) property to `Site` and set its value type to be `Location`, with a minimum count of 3 (we need at least three geo locations to express bounding box), and max count of 100 (this is the provisional max number of locations to express bounding box, we do not need high resolution).\n",
    "\n",
    "Also, we will add new property `location` to `WindFarm` and `MetMast` and set its value type to `Location`. In this way, we will be able to express the geographical location of wind turbines and met mast in a wind farm.\n",
    "\n",
    "The video below shows the process described above:\n",
    "\n",
    "<iframe width=\"700\" height=\"500\" src=\"https://www.youtube.com/embed/bmI_AtjxqFE?si=Sgo9Gq9o7AWFvgc8\" title=\"YouTube video player\" frameborder=\"0\" allow=\"accelerometer; autoplay; clipboard-write; encrypted-media; gyroscope; picture-in-picture; web-share\" referrerpolicy=\"strict-origin-when-cross-origin\" allowfullscreen></iframe>"
   ]
  },
  {
   "cell_type": "markdown",
   "id": "fab8f18e-f600-461a-888d-76cfb8e5e8db",
   "metadata": {},
   "source": [
    "## Improving value type for `powerCurve` property\n",
    "\n",
    "In a discussion with the domain expert, we learned that a wind turbine power curve is a graph that is used to represent the amount of power that a wind turbine can produce at different wind speeds. Typically there are multiple power curves specific to air density. The below image shows an idealized power curve of a wind turbine.\n",
    "\n",
    "![](https://upload.wikimedia.org/wikipedia/commons/thumb/b/ba/Idealised_Wind_Turbine_Power_Curve.svg/700px-Idealised_Wind_Turbine_Power_Curve.svg.png?20220801121957)\n",
    "\n",
    "**Idealised Wind Turbine Power Curve (origin [WIKIMEDIA](https://commons.wikimedia.org/wiki/File:Idealised_Wind_Turbine_Power_Curve.svg))**\n",
    "\n",
    "Initially, we set `powerCurve` property value type to be `CogniteTimeSeries`, which is wrong as we cannot represent a wind turbine power curve with timeseries. A classic CDF resource [sequence](https://cognite-sdk-python.readthedocs-hosted.com/en/latest/sequences.html) would be more appropriate here. However, we do not have a corresponding representation in Core Data Model for the Cognite sequence. Therefore, similar to the case of `Site`, we will create a helper concept `PowerCurve`, which we will base on `CogniteDescribable` and add the following custom properties:\n",
    "\n",
    "- **`windSpeedBins`**: Discrete wind speed intervals used to categorize wind data.  \n",
    "- **`powerBins`**: Corresponding power output values for each wind speed bin.  \n",
    "- **`cutInSpeed`**: The minimum wind speed at which the turbine starts generating power.  \n",
    "- **`cutOutSpeed`**: The wind speed at which the turbine shuts down to prevent damage.  \n",
    "- **`ratedSpeed`**: The wind speed at which the turbine reaches its maximum (rated) power output.\n",
    "- **`airDensity`**: For which air density for which the power curve is viable\n",
    "\n",
    "Additionally, as we are to know about the site air density, we need to know about the site:\n",
    "\n",
    "- atmospheric pressure\n",
    "- temperature\n",
    "- humidity\n",
    "\n",
    "to be able to calculate the air density.\n",
    "\n",
    "Accordingly, we need to add concepts of:\n",
    "\n",
    "- **`Barometer`** to have data on atmospheric pressure  \n",
    "- **`Thermometer`** to have data on temperature\n",
    "- **`Hygrometer`** to have data on humidity\n",
    "\n",
    "\n",
    "> Here one can see an example of what seemed a relatively small update to our data model with new knowledge from the domain expert. In reality, adding new knowledge resulted in a bit involved process of data model update. Therefore, be focused, take your time, listen, and ask questions. Data modeling is never a \"one-time effort\", but a continuous process that lasts as long as our knowledge about our domain evolves.\n",
    "\n",
    "The video below shows how the template has been updated with the above information:\n",
    "\n",
    "<iframe width=\"700\" height=\"500\" src=\"https://www.youtube.com/embed/-69UNr7mmiU?si=ti604zCfthVYm8KI\" title=\"YouTube video player\" frameborder=\"0\" allow=\"accelerometer; autoplay; clipboard-write; encrypted-media; gyroscope; picture-in-picture; web-share\" referrerpolicy=\"strict-origin-when-cross-origin\" allowfullscreen></iframe>"
   ]
  },
  {
   "attachments": {},
   "cell_type": "markdown",
   "id": "2a8f7784-1438-49d5-a377-eef9280358ec",
   "metadata": {},
   "source": [
    "## Expanding and fine-tuning conceptual data model\n",
    "\n",
    "Up until this point, we have formed our conceptual data model, and based our concepts on CDM concepts.\n",
    "At this stage, we will now \"expand\" the conceptual data model with properties that are inherited from CDM concepts through their implementation. `NEAT` has a special method to perform this action which is accessible via `neat.template.expand()`. \n",
    "\n",
    "In addition to expanding the list of properties with those originating from the implemented concepts, `NEAT` is adding automatically the property `<nameOfConcept>GUID` to every concept the user defines. By adding a specific property to a user-defined concept, one can skip adding filters in the physical data model to ensure the consumption of data through user-defined concepts.\n",
    "\n",
    "Furthermore, due to the current data modeling UI limitations in CDF, `NEAT` will add all concepts from the Core Data Model.\n",
    "\n",
    "Now with the expanded list of properties, we will do the following: \n",
    "\n",
    "\n",
    "- update `parent` and `root` for each concept that implements `CogniteAsset` to be `WindFarm`\n",
    "- update the `asset` property of `Sensor` to point to `MetMast`\n",
    "- update the `equipment` property of `MetMast` to point to `Sensor`\n",
    "- remove the `measurement` property from `Sensor`, `WindVane`, and `Anemometer`, since `CogniteEqupiment` already has the property `timeSeries` which points to `CogniteTimeSeies`. Therefore, no need to have a property holding the same information\n",
    "- remove the `sensor` property from `MetMast` as there is already property `equipment` which we will update to point to `Sensor` instead of `CogniteEquipmet`\n",
    "- remove dummy property `<nameOfConcept>GUID` from concepts that already have custom properties, which in our case are all concepts except `WindVane`, `Thermometer`, `Hygrometer`, and `Barometer`, as for this concept we did not add any custom property.\n",
    "\n",
    "> NEAT automatically adds `<nameOfConcept>GUID` to every concept the user defines. By adding specific properties to user-defined concepts one can skip adding filters to ensure consumption of data through user-defined concepts.\n",
    "\n",
    "To expand the data model we call the method `neat.template.expand()` and pass the file name of our filled conceptual data model:"
   ]
  },
  {
   "cell_type": "code",
   "execution_count": 15,
   "id": "d795daef-4e0e-4b32-af55-33c2c6ef64f7",
   "metadata": {},
   "outputs": [
    {
     "data": {
      "text/html": [
       "<p>Success: Created extension template</p>"
      ],
      "text/plain": [
       "[]"
      ]
     },
     "execution_count": 15,
     "metadata": {},
     "output_type": "execute_result"
    }
   ],
   "source": [
    "neat.template.expand(\"wind_farm_prospecting_conceptual_data_model.xlsx\")"
   ]
  },
  {
   "cell_type": "markdown",
   "id": "1e1eb182-fded-4b19-b301-75f2973502c6",
   "metadata": {},
   "source": [
    "The video below shows process of fine tuning conceptual data model\n",
    "\n",
    "<iframe width=\"700\" height=\"500\" src=\"https://www.youtube.com/embed/6HWWq6TNXNw?si=l6eEV0sOCB1pd5JP\" title=\"YouTube video player\" frameborder=\"0\" allow=\"accelerometer; autoplay; clipboard-write; encrypted-media; gyroscope; picture-in-picture; web-share\" referrerpolicy=\"strict-origin-when-cross-origin\" allowfullscreen></iframe>\n",
    "\n",
    "\n",
    "\n",
    "The resulting Excel file can be downloaded using <a href=\"./files/wind_farm_prospecting_conceptual_data_model_expanded.xlsx\" download>this link</a>."
   ]
  },
  {
   "cell_type": "markdown",
   "id": "3befdefa-fe9c-4c6c-b1b9-89a86e544828",
   "metadata": {},
   "source": [
    "## Converting conceptual to physical data model\n",
    "\n",
    "The conceptual data model cannot be directly published to CDF. Therefore, we need to convert it to the physical data model form which can be published to CDF.\n",
    "\n",
    "So we will do the following:\n",
    "\n",
    "- read conceptual data model to `NeatSession` via `neat.read.excel(\"<your filename>\")`\n",
    "- check the content of the session by calling `neat`\n",
    "- visualize data model by calling `neat.show.data_model()`\n",
    "- visualize all the implements by calling `neat.show.data_model.implements()`\n",
    "- convert conceptual to physical data model via the command `neat.convert()`\n",
    "- export physical data model via the command `neat.to.excel(\"<filename>\")`\n"
   ]
  },
  {
   "cell_type": "code",
   "execution_count": 26,
   "id": "0998a977-afc7-49a6-a4f5-c44bacae59c8",
   "metadata": {},
   "outputs": [
    {
     "name": "stdout",
     "output_type": "stream",
     "text": [
      "For Neat to improve, we need to collect usage information. You acknowledge and agree that neat may collect usage information.To remove this message run 'neat.opt.in_() or to stop collecting usage information run 'neat.opt.out()'.\n",
      "Neat Engine 2.0.5 loaded.\n"
     ]
    }
   ],
   "source": [
    "neat = NeatSession(client)"
   ]
  },
  {
   "cell_type": "code",
   "execution_count": null,
   "id": "f44b4c0e-6b3a-49b2-b850-c4d220d9ff03",
   "metadata": {},
   "outputs": [],
   "source": []
  },
  {
   "cell_type": "code",
   "execution_count": 28,
   "id": "7866531b-e9ad-4dd7-96e3-49a018db51a6",
   "metadata": {},
   "outputs": [
    {
     "data": {
      "text/html": [
       "<p>Success: Read NEAT(verified,logical,wind_energy,WindFarmProspecting,v1)</p>"
      ],
      "text/plain": [
       "[]"
      ]
     },
     "execution_count": 28,
     "metadata": {},
     "output_type": "execute_result"
    }
   ],
   "source": [
    "neat.read.excel(\"wind_farm_prospecting_conceptual_data_model_expanded.xlsx\")"
   ]
  },
  {
   "cell_type": "code",
   "execution_count": 29,
   "id": "c669b664-1ff5-4bda-94e2-e30f200ffa38",
   "metadata": {},
   "outputs": [
    {
     "data": {
      "text/html": [
       "<H2>Data Model</H2><br /><div>\n",
       "<style scoped>\n",
       "    .dataframe tbody tr th:only-of-type {\n",
       "        vertical-align: middle;\n",
       "    }\n",
       "\n",
       "    .dataframe tbody tr th {\n",
       "        vertical-align: top;\n",
       "    }\n",
       "\n",
       "    .dataframe thead th {\n",
       "        text-align: right;\n",
       "    }\n",
       "</style>\n",
       "<table border=\"1\" class=\"dataframe\">\n",
       "  <thead>\n",
       "    <tr style=\"text-align: right;\">\n",
       "      <th></th>\n",
       "      <th></th>\n",
       "    </tr>\n",
       "  </thead>\n",
       "  <tbody>\n",
       "    <tr>\n",
       "      <th>type</th>\n",
       "      <td>Logical Data Model</td>\n",
       "    </tr>\n",
       "    <tr>\n",
       "      <th>intended for</th>\n",
       "      <td>Information Architect</td>\n",
       "    </tr>\n",
       "    <tr>\n",
       "      <th>name</th>\n",
       "      <td>Wind Farm Prospecting Data Model</td>\n",
       "    </tr>\n",
       "    <tr>\n",
       "      <th>external_id</th>\n",
       "      <td>WindFarmProspecting</td>\n",
       "    </tr>\n",
       "    <tr>\n",
       "      <th>version</th>\n",
       "      <td>v1</td>\n",
       "    </tr>\n",
       "    <tr>\n",
       "      <th>classes</th>\n",
       "      <td>44</td>\n",
       "    </tr>\n",
       "    <tr>\n",
       "      <th>properties</th>\n",
       "      <td>252</td>\n",
       "    </tr>\n",
       "  </tbody>\n",
       "</table>\n",
       "</div>"
      ],
      "text/plain": [
       "<cognite.neat._session._base.NeatSession at 0x11aad1a50>"
      ]
     },
     "execution_count": 29,
     "metadata": {},
     "output_type": "execute_result"
    }
   ],
   "source": [
    "neat"
   ]
  },
  {
   "cell_type": "code",
   "execution_count": 30,
   "id": "0251da18-5712-41a5-9fde-222186d192f3",
   "metadata": {},
   "outputs": [
    {
     "name": "stdout",
     "output_type": "stream",
     "text": [
      "http_purl.org_cognite_neat_data-model_verified_logical_wind_energy_WindFarmProspecting_v1.html\n"
     ]
    },
    {
     "data": {
      "text/html": [
       "\n",
       "        <iframe\n",
       "            width=\"100%\"\n",
       "            height=\"750px\"\n",
       "            src=\"http_purl.org_cognite_neat_data-model_verified_logical_wind_energy_WindFarmProspecting_v1.html\"\n",
       "            frameborder=\"0\"\n",
       "            allowfullscreen\n",
       "            \n",
       "        ></iframe>\n",
       "        "
      ],
      "text/plain": [
       "<IPython.lib.display.IFrame at 0x119ff5510>"
      ]
     },
     "execution_count": 30,
     "metadata": {},
     "output_type": "execute_result"
    }
   ],
   "source": [
    "neat.show.data_model()"
   ]
  },
  {
   "cell_type": "code",
   "execution_count": 31,
   "id": "50a0646a-e77c-4fd9-90f1-e417e4fd7331",
   "metadata": {},
   "outputs": [
    {
     "name": "stdout",
     "output_type": "stream",
     "text": [
      "http_purl.org_cognite_neat_data-model_verified_logical_wind_energy_WindFarmProspecting_v1_implements.html\n"
     ]
    },
    {
     "data": {
      "text/html": [
       "\n",
       "        <iframe\n",
       "            width=\"100%\"\n",
       "            height=\"750px\"\n",
       "            src=\"http_purl.org_cognite_neat_data-model_verified_logical_wind_energy_WindFarmProspecting_v1_implements.html\"\n",
       "            frameborder=\"0\"\n",
       "            allowfullscreen\n",
       "            \n",
       "        ></iframe>\n",
       "        "
      ],
      "text/plain": [
       "<IPython.lib.display.IFrame at 0x11a5a65d0>"
      ]
     },
     "execution_count": 31,
     "metadata": {},
     "output_type": "execute_result"
    }
   ],
   "source": [
    "neat.show.data_model.implements()"
   ]
  },
  {
   "cell_type": "code",
   "execution_count": 33,
   "id": "be3ac5f6-9f24-4d7e-9575-5c21a7eac385",
   "metadata": {},
   "outputs": [
    {
     "name": "stdout",
     "output_type": "stream",
     "text": [
      "Rules converted to dms.\n"
     ]
    },
    {
     "data": {
      "text/html": [
       "<p>Success: NEAT(verified,logical,wind_energy,WindFarmProspecting,v1) &#8594; NEAT(verified,physical,wind_energy,WindFarmProspecting,v1)</p>"
      ],
      "text/plain": [
       "[]"
      ]
     },
     "execution_count": 33,
     "metadata": {},
     "output_type": "execute_result"
    }
   ],
   "source": [
    "neat.convert()"
   ]
  },
  {
   "cell_type": "code",
   "execution_count": 34,
   "id": "d23fba61-d340-46cd-8ead-d83d7f3da9e7",
   "metadata": {},
   "outputs": [
    {
     "data": {
      "text/html": [
       "<H2>Data Model</H2><br /><div>\n",
       "<style scoped>\n",
       "    .dataframe tbody tr th:only-of-type {\n",
       "        vertical-align: middle;\n",
       "    }\n",
       "\n",
       "    .dataframe tbody tr th {\n",
       "        vertical-align: top;\n",
       "    }\n",
       "\n",
       "    .dataframe thead th {\n",
       "        text-align: right;\n",
       "    }\n",
       "</style>\n",
       "<table border=\"1\" class=\"dataframe\">\n",
       "  <thead>\n",
       "    <tr style=\"text-align: right;\">\n",
       "      <th></th>\n",
       "      <th></th>\n",
       "    </tr>\n",
       "  </thead>\n",
       "  <tbody>\n",
       "    <tr>\n",
       "      <th>aspect</th>\n",
       "      <td>physical</td>\n",
       "    </tr>\n",
       "    <tr>\n",
       "      <th>intended for</th>\n",
       "      <td>DMS Architect</td>\n",
       "    </tr>\n",
       "    <tr>\n",
       "      <th>name</th>\n",
       "      <td>Wind Farm Prospecting Data Model</td>\n",
       "    </tr>\n",
       "    <tr>\n",
       "      <th>space</th>\n",
       "      <td>wind_energy</td>\n",
       "    </tr>\n",
       "    <tr>\n",
       "      <th>external_id</th>\n",
       "      <td>WindFarmProspecting</td>\n",
       "    </tr>\n",
       "    <tr>\n",
       "      <th>version</th>\n",
       "      <td>v1</td>\n",
       "    </tr>\n",
       "    <tr>\n",
       "      <th>views</th>\n",
       "      <td>44</td>\n",
       "    </tr>\n",
       "    <tr>\n",
       "      <th>containers</th>\n",
       "      <td>17</td>\n",
       "    </tr>\n",
       "    <tr>\n",
       "      <th>properties</th>\n",
       "      <td>252</td>\n",
       "    </tr>\n",
       "  </tbody>\n",
       "</table>\n",
       "</div>"
      ],
      "text/plain": [
       "<cognite.neat._session._base.NeatSession at 0x11aad1a50>"
      ]
     },
     "execution_count": 34,
     "metadata": {},
     "output_type": "execute_result"
    }
   ],
   "source": [
    "neat"
   ]
  },
  {
   "cell_type": "code",
   "execution_count": 35,
   "id": "4e5076ef-146b-4bf2-a776-10c20f4cd07b",
   "metadata": {},
   "outputs": [],
   "source": [
    "neat.to.excel(\"wind_farm_prospecting_physical_data_model.xlsx\")"
   ]
  },
  {
   "attachments": {},
   "cell_type": "markdown",
   "id": "c16bde7d-f6ae-4aeb-b155-1731dc025de4",
   "metadata": {},
   "source": [
    "# Finetuning physical data model prior to publishing\n",
    "\n",
    "Even though NEAT tries to make the best possible conversion from conceptual to the physical data model, there is always room for improvements in both the conversion process but also post-conversion optimization of the produced physical data model. \n",
    "\n",
    "In this specific context, in the `Properties` sheet we will make the following modifications:\n",
    "\n",
    "- change `edge` connection type for properties `windTurbine` ,`powerCurve`, `bbox` to `direct` as we do not have a need to use `edge` as connection type (we are not adding properties to our connection, neither we expect a very large number of connections). \n",
    "- we will add units to `hubHeight`,`ratedPower`,`height`,`boomDirection`,`uncertainty`,`measurementRange`,`latitude`,`longitude`,`windSpeedBins`,`powerBins`,`cutInSpeed`,`cutOutSpeed`,`ratedSpeed` and `airDensity`properties\n",
    "\n",
    "> An up-to-date list of supported units can be found at [this page](https://cognite-neat.readthedocs-hosted.com/en/latest/excel_data_modeling/units.html)\n",
    "\n",
    "\n",
    "The video below demonstrates how these changes are introduced in our physical data model:\n",
    "\n",
    "<iframe width=\"700\" height=\"500\" src=\"https://www.youtube.com/embed/t3dsgpyqI4o?si=qSFR2NIq6T3ux2as\" title=\"YouTube video player\" frameborder=\"0\" allow=\"accelerometer; autoplay; clipboard-write; encrypted-media; gyroscope; picture-in-picture; web-share\" referrerpolicy=\"strict-origin-when-cross-origin\" allowfullscreen></iframe>\n",
    "\n",
    "The resulting Excel file can be downloaded using <a href=\"./files/wind_farm_prospecting_physical_data_model.xlsx\" download>this link</a>."
   ]
  },
  {
   "cell_type": "markdown",
   "id": "5cf863ff-3f28-414f-9ce2-147ba2f5a7d2",
   "metadata": {},
   "source": [
    "## Read and publish finetuned physical data model"
   ]
  },
  {
   "cell_type": "markdown",
   "id": "d513f958-c52d-4206-8648-b867b5400e9b",
   "metadata": {},
   "source": [
    "Now we will:\n",
    "\n",
    "- read the fine-tuned physical data model\n",
    "- publish it to CDF\n",
    "- and view final result in CDF"
   ]
  },
  {
   "cell_type": "code",
   "execution_count": 36,
   "id": "765449f8-7db8-4283-86d3-95d72871a688",
   "metadata": {},
   "outputs": [
    {
     "data": {
      "text/html": [
       "<pre style=\"white-space:pre;overflow-x:auto;line-height:normal;font-family:Menlo,'DejaVu Sans Mono',consolas,'Courier New',monospace\"><span style=\"color: #ff00ff; text-decoration-color: #ff00ff; font-weight: bold\">[WARNING]</span> Experimental feature <span style=\"color: #008000; text-decoration-color: #008000\">'enable_manual_edit'</span> is subject to change without notice\n",
       "</pre>\n"
      ],
      "text/plain": [
       "\u001b[1;95m[\u001b[0m\u001b[1;95mWARNING\u001b[0m\u001b[1;95m]\u001b[0m Experimental feature \u001b[32m'enable_manual_edit'\u001b[0m is subject to change without notice\n"
      ]
     },
     "metadata": {},
     "output_type": "display_data"
    },
    {
     "data": {
      "text/html": [
       "<p>Succeeded with warnings: Read NEAT(verified,physical,wind_energy,WindFarmProspecting,v1)</p><br /><div>\n",
       "<style scoped>\n",
       "    .dataframe tbody tr th:only-of-type {\n",
       "        vertical-align: middle;\n",
       "    }\n",
       "\n",
       "    .dataframe tbody tr th {\n",
       "        vertical-align: top;\n",
       "    }\n",
       "\n",
       "    .dataframe thead th {\n",
       "        text-align: right;\n",
       "    }\n",
       "</style>\n",
       "<table border=\"1\" class=\"dataframe\">\n",
       "  <thead>\n",
       "    <tr style=\"text-align: right;\">\n",
       "      <th></th>\n",
       "      <th>count</th>\n",
       "    </tr>\n",
       "    <tr>\n",
       "      <th>NeatIssue</th>\n",
       "      <th></th>\n",
       "    </tr>\n",
       "  </thead>\n",
       "  <tbody>\n",
       "    <tr>\n",
       "      <th>PropertyNotFoundWarning</th>\n",
       "      <td>54</td>\n",
       "    </tr>\n",
       "  </tbody>\n",
       "</table>\n",
       "</div><br />Hint: Use the .inspect.issues() for more details."
      ],
      "text/plain": [
       "[PropertyNotFoundWarning(identifier=ViewId(space='wind_energy', external_id='WindTurbine', version='v1'), resource_type='view', property_name='assets', referred_by=PropertyId(source=ViewId(space='wind_energy', external_id='WindFarm', version='v1'), property='windTurbine'), referred_type='view property'),\n",
       " PropertyNotFoundWarning(identifier=ViewId(space='cdf_cdm', external_id='CogniteFile', version='v1'), resource_type='view', property_name='assets', referred_by=PropertyId(source=ViewId(space='wind_energy', external_id='WindFarm', version='v1'), property='files'), referred_type='view property'),\n",
       " PropertyNotFoundWarning(identifier=ViewId(space='cdf_cdm', external_id='CogniteAsset', version='v1'), resource_type='view', property_name='parent', referred_by=PropertyId(source=ViewId(space='wind_energy', external_id='WindFarm', version='v1'), property='children'), referred_type='view property'),\n",
       " PropertyNotFoundWarning(identifier=ViewId(space='cdf_cdm', external_id='CogniteEquipment', version='v1'), resource_type='view', property_name='asset', referred_by=PropertyId(source=ViewId(space='wind_energy', external_id='WindFarm', version='v1'), property='equipment'), referred_type='view property'),\n",
       " PropertyNotFoundWarning(identifier=ViewId(space='cdf_cdm', external_id='CogniteActivity', version='v1'), resource_type='view', property_name='assets', referred_by=PropertyId(source=ViewId(space='wind_energy', external_id='WindFarm', version='v1'), property='activities'), referred_type='view property'),\n",
       " PropertyNotFoundWarning(identifier=ViewId(space='cdf_cdm', external_id='CogniteTimeSeries', version='v1'), resource_type='view', property_name='assets', referred_by=PropertyId(source=ViewId(space='wind_energy', external_id='WindFarm', version='v1'), property='timeSeries'), referred_type='view property'),\n",
       " PropertyNotFoundWarning(identifier=ViewId(space='cdf_cdm', external_id='CogniteFile', version='v1'), resource_type='view', property_name='assets', referred_by=PropertyId(source=ViewId(space='wind_energy', external_id='WindTurbine', version='v1'), property='files'), referred_type='view property'),\n",
       " PropertyNotFoundWarning(identifier=ViewId(space='cdf_cdm', external_id='CogniteAsset', version='v1'), resource_type='view', property_name='parent', referred_by=PropertyId(source=ViewId(space='wind_energy', external_id='WindTurbine', version='v1'), property='children'), referred_type='view property'),\n",
       " PropertyNotFoundWarning(identifier=ViewId(space='cdf_cdm', external_id='CogniteEquipment', version='v1'), resource_type='view', property_name='asset', referred_by=PropertyId(source=ViewId(space='wind_energy', external_id='WindTurbine', version='v1'), property='equipment'), referred_type='view property'),\n",
       " PropertyNotFoundWarning(identifier=ViewId(space='cdf_cdm', external_id='CogniteActivity', version='v1'), resource_type='view', property_name='assets', referred_by=PropertyId(source=ViewId(space='wind_energy', external_id='WindTurbine', version='v1'), property='activities'), referred_type='view property'),\n",
       " PropertyNotFoundWarning(identifier=ViewId(space='cdf_cdm', external_id='CogniteTimeSeries', version='v1'), resource_type='view', property_name='assets', referred_by=PropertyId(source=ViewId(space='wind_energy', external_id='WindTurbine', version='v1'), property='timeSeries'), referred_type='view property'),\n",
       " PropertyNotFoundWarning(identifier=ViewId(space='cdf_cdm', external_id='CogniteFile', version='v1'), resource_type='view', property_name='assets', referred_by=PropertyId(source=ViewId(space='wind_energy', external_id='MetMast', version='v1'), property='files'), referred_type='view property'),\n",
       " PropertyNotFoundWarning(identifier=ViewId(space='cdf_cdm', external_id='CogniteAsset', version='v1'), resource_type='view', property_name='parent', referred_by=PropertyId(source=ViewId(space='wind_energy', external_id='MetMast', version='v1'), property='children'), referred_type='view property'),\n",
       " PropertyNotFoundWarning(identifier=ViewId(space='cdf_cdm', external_id='CogniteActivity', version='v1'), resource_type='view', property_name='assets', referred_by=PropertyId(source=ViewId(space='wind_energy', external_id='MetMast', version='v1'), property='activities'), referred_type='view property'),\n",
       " PropertyNotFoundWarning(identifier=ViewId(space='cdf_cdm', external_id='CogniteTimeSeries', version='v1'), resource_type='view', property_name='assets', referred_by=PropertyId(source=ViewId(space='wind_energy', external_id='MetMast', version='v1'), property='timeSeries'), referred_type='view property'),\n",
       " PropertyNotFoundWarning(identifier=ViewId(space='cdf_cdm', external_id='CogniteActivity', version='v1'), resource_type='view', property_name='equipment', referred_by=PropertyId(source=ViewId(space='wind_energy', external_id='Sensor', version='v1'), property='activities'), referred_type='view property'),\n",
       " PropertyNotFoundWarning(identifier=ViewId(space='cdf_cdm', external_id='CogniteTimeSeries', version='v1'), resource_type='view', property_name='equipment', referred_by=PropertyId(source=ViewId(space='wind_energy', external_id='Sensor', version='v1'), property='timeSeries'), referred_type='view property'),\n",
       " PropertyNotFoundWarning(identifier=ViewId(space='cdf_cdm', external_id='CogniteActivity', version='v1'), resource_type='view', property_name='equipment', referred_by=PropertyId(source=ViewId(space='wind_energy', external_id='Anemometer', version='v1'), property='activities'), referred_type='view property'),\n",
       " PropertyNotFoundWarning(identifier=ViewId(space='cdf_cdm', external_id='CogniteTimeSeries', version='v1'), resource_type='view', property_name='equipment', referred_by=PropertyId(source=ViewId(space='wind_energy', external_id='Anemometer', version='v1'), property='timeSeries'), referred_type='view property'),\n",
       " PropertyNotFoundWarning(identifier=ViewId(space='cdf_cdm', external_id='CogniteActivity', version='v1'), resource_type='view', property_name='equipment', referred_by=PropertyId(source=ViewId(space='wind_energy', external_id='WindVane', version='v1'), property='activities'), referred_type='view property'),\n",
       " PropertyNotFoundWarning(identifier=ViewId(space='cdf_cdm', external_id='CogniteTimeSeries', version='v1'), resource_type='view', property_name='equipment', referred_by=PropertyId(source=ViewId(space='wind_energy', external_id='WindVane', version='v1'), property='timeSeries'), referred_type='view property'),\n",
       " PropertyNotFoundWarning(identifier=ViewId(space='cdf_cdm', external_id='CogniteActivity', version='v1'), resource_type='view', property_name='equipment', referred_by=PropertyId(source=ViewId(space='wind_energy', external_id='Barometer', version='v1'), property='activities'), referred_type='view property'),\n",
       " PropertyNotFoundWarning(identifier=ViewId(space='cdf_cdm', external_id='CogniteTimeSeries', version='v1'), resource_type='view', property_name='equipment', referred_by=PropertyId(source=ViewId(space='wind_energy', external_id='Barometer', version='v1'), property='timeSeries'), referred_type='view property'),\n",
       " PropertyNotFoundWarning(identifier=ViewId(space='cdf_cdm', external_id='CogniteActivity', version='v1'), resource_type='view', property_name='equipment', referred_by=PropertyId(source=ViewId(space='wind_energy', external_id='Thermometer', version='v1'), property='activities'), referred_type='view property'),\n",
       " PropertyNotFoundWarning(identifier=ViewId(space='cdf_cdm', external_id='CogniteTimeSeries', version='v1'), resource_type='view', property_name='equipment', referred_by=PropertyId(source=ViewId(space='wind_energy', external_id='Thermometer', version='v1'), property='timeSeries'), referred_type='view property'),\n",
       " PropertyNotFoundWarning(identifier=ViewId(space='cdf_cdm', external_id='CogniteActivity', version='v1'), resource_type='view', property_name='equipment', referred_by=PropertyId(source=ViewId(space='wind_energy', external_id='Hygrometer', version='v1'), property='activities'), referred_type='view property'),\n",
       " PropertyNotFoundWarning(identifier=ViewId(space='cdf_cdm', external_id='CogniteTimeSeries', version='v1'), resource_type='view', property_name='equipment', referred_by=PropertyId(source=ViewId(space='wind_energy', external_id='Hygrometer', version='v1'), property='timeSeries'), referred_type='view property'),\n",
       " PropertyNotFoundWarning(identifier=ViewId(space='wind_energy', external_id='WindTurbine', version='v1'), resource_type='view', property_name='assets', referred_by=PropertyId(source=ViewId(space='wind_energy', external_id='WindFarm', version='v1'), property='windTurbine'), referred_type='view property'),\n",
       " PropertyNotFoundWarning(identifier=ViewId(space='cdf_cdm', external_id='CogniteFile', version='v1'), resource_type='view', property_name='assets', referred_by=PropertyId(source=ViewId(space='wind_energy', external_id='WindFarm', version='v1'), property='files'), referred_type='view property'),\n",
       " PropertyNotFoundWarning(identifier=ViewId(space='cdf_cdm', external_id='CogniteAsset', version='v1'), resource_type='view', property_name='parent', referred_by=PropertyId(source=ViewId(space='wind_energy', external_id='WindFarm', version='v1'), property='children'), referred_type='view property'),\n",
       " PropertyNotFoundWarning(identifier=ViewId(space='cdf_cdm', external_id='CogniteEquipment', version='v1'), resource_type='view', property_name='asset', referred_by=PropertyId(source=ViewId(space='wind_energy', external_id='WindFarm', version='v1'), property='equipment'), referred_type='view property'),\n",
       " PropertyNotFoundWarning(identifier=ViewId(space='cdf_cdm', external_id='CogniteActivity', version='v1'), resource_type='view', property_name='assets', referred_by=PropertyId(source=ViewId(space='wind_energy', external_id='WindFarm', version='v1'), property='activities'), referred_type='view property'),\n",
       " PropertyNotFoundWarning(identifier=ViewId(space='cdf_cdm', external_id='CogniteTimeSeries', version='v1'), resource_type='view', property_name='assets', referred_by=PropertyId(source=ViewId(space='wind_energy', external_id='WindFarm', version='v1'), property='timeSeries'), referred_type='view property'),\n",
       " PropertyNotFoundWarning(identifier=ViewId(space='cdf_cdm', external_id='CogniteFile', version='v1'), resource_type='view', property_name='assets', referred_by=PropertyId(source=ViewId(space='wind_energy', external_id='WindTurbine', version='v1'), property='files'), referred_type='view property'),\n",
       " PropertyNotFoundWarning(identifier=ViewId(space='cdf_cdm', external_id='CogniteAsset', version='v1'), resource_type='view', property_name='parent', referred_by=PropertyId(source=ViewId(space='wind_energy', external_id='WindTurbine', version='v1'), property='children'), referred_type='view property'),\n",
       " PropertyNotFoundWarning(identifier=ViewId(space='cdf_cdm', external_id='CogniteEquipment', version='v1'), resource_type='view', property_name='asset', referred_by=PropertyId(source=ViewId(space='wind_energy', external_id='WindTurbine', version='v1'), property='equipment'), referred_type='view property'),\n",
       " PropertyNotFoundWarning(identifier=ViewId(space='cdf_cdm', external_id='CogniteActivity', version='v1'), resource_type='view', property_name='assets', referred_by=PropertyId(source=ViewId(space='wind_energy', external_id='WindTurbine', version='v1'), property='activities'), referred_type='view property'),\n",
       " PropertyNotFoundWarning(identifier=ViewId(space='cdf_cdm', external_id='CogniteTimeSeries', version='v1'), resource_type='view', property_name='assets', referred_by=PropertyId(source=ViewId(space='wind_energy', external_id='WindTurbine', version='v1'), property='timeSeries'), referred_type='view property'),\n",
       " PropertyNotFoundWarning(identifier=ViewId(space='cdf_cdm', external_id='CogniteFile', version='v1'), resource_type='view', property_name='assets', referred_by=PropertyId(source=ViewId(space='wind_energy', external_id='MetMast', version='v1'), property='files'), referred_type='view property'),\n",
       " PropertyNotFoundWarning(identifier=ViewId(space='cdf_cdm', external_id='CogniteAsset', version='v1'), resource_type='view', property_name='parent', referred_by=PropertyId(source=ViewId(space='wind_energy', external_id='MetMast', version='v1'), property='children'), referred_type='view property'),\n",
       " PropertyNotFoundWarning(identifier=ViewId(space='cdf_cdm', external_id='CogniteActivity', version='v1'), resource_type='view', property_name='assets', referred_by=PropertyId(source=ViewId(space='wind_energy', external_id='MetMast', version='v1'), property='activities'), referred_type='view property'),\n",
       " PropertyNotFoundWarning(identifier=ViewId(space='cdf_cdm', external_id='CogniteTimeSeries', version='v1'), resource_type='view', property_name='assets', referred_by=PropertyId(source=ViewId(space='wind_energy', external_id='MetMast', version='v1'), property='timeSeries'), referred_type='view property'),\n",
       " PropertyNotFoundWarning(identifier=ViewId(space='cdf_cdm', external_id='CogniteActivity', version='v1'), resource_type='view', property_name='equipment', referred_by=PropertyId(source=ViewId(space='wind_energy', external_id='Sensor', version='v1'), property='activities'), referred_type='view property'),\n",
       " PropertyNotFoundWarning(identifier=ViewId(space='cdf_cdm', external_id='CogniteTimeSeries', version='v1'), resource_type='view', property_name='equipment', referred_by=PropertyId(source=ViewId(space='wind_energy', external_id='Sensor', version='v1'), property='timeSeries'), referred_type='view property'),\n",
       " PropertyNotFoundWarning(identifier=ViewId(space='cdf_cdm', external_id='CogniteActivity', version='v1'), resource_type='view', property_name='equipment', referred_by=PropertyId(source=ViewId(space='wind_energy', external_id='Anemometer', version='v1'), property='activities'), referred_type='view property'),\n",
       " PropertyNotFoundWarning(identifier=ViewId(space='cdf_cdm', external_id='CogniteTimeSeries', version='v1'), resource_type='view', property_name='equipment', referred_by=PropertyId(source=ViewId(space='wind_energy', external_id='Anemometer', version='v1'), property='timeSeries'), referred_type='view property'),\n",
       " PropertyNotFoundWarning(identifier=ViewId(space='cdf_cdm', external_id='CogniteActivity', version='v1'), resource_type='view', property_name='equipment', referred_by=PropertyId(source=ViewId(space='wind_energy', external_id='WindVane', version='v1'), property='activities'), referred_type='view property'),\n",
       " PropertyNotFoundWarning(identifier=ViewId(space='cdf_cdm', external_id='CogniteTimeSeries', version='v1'), resource_type='view', property_name='equipment', referred_by=PropertyId(source=ViewId(space='wind_energy', external_id='WindVane', version='v1'), property='timeSeries'), referred_type='view property'),\n",
       " PropertyNotFoundWarning(identifier=ViewId(space='cdf_cdm', external_id='CogniteActivity', version='v1'), resource_type='view', property_name='equipment', referred_by=PropertyId(source=ViewId(space='wind_energy', external_id='Barometer', version='v1'), property='activities'), referred_type='view property'),\n",
       " PropertyNotFoundWarning(identifier=ViewId(space='cdf_cdm', external_id='CogniteTimeSeries', version='v1'), resource_type='view', property_name='equipment', referred_by=PropertyId(source=ViewId(space='wind_energy', external_id='Barometer', version='v1'), property='timeSeries'), referred_type='view property'),\n",
       " PropertyNotFoundWarning(identifier=ViewId(space='cdf_cdm', external_id='CogniteActivity', version='v1'), resource_type='view', property_name='equipment', referred_by=PropertyId(source=ViewId(space='wind_energy', external_id='Thermometer', version='v1'), property='activities'), referred_type='view property'),\n",
       " PropertyNotFoundWarning(identifier=ViewId(space='cdf_cdm', external_id='CogniteTimeSeries', version='v1'), resource_type='view', property_name='equipment', referred_by=PropertyId(source=ViewId(space='wind_energy', external_id='Thermometer', version='v1'), property='timeSeries'), referred_type='view property'),\n",
       " PropertyNotFoundWarning(identifier=ViewId(space='cdf_cdm', external_id='CogniteActivity', version='v1'), resource_type='view', property_name='equipment', referred_by=PropertyId(source=ViewId(space='wind_energy', external_id='Hygrometer', version='v1'), property='activities'), referred_type='view property'),\n",
       " PropertyNotFoundWarning(identifier=ViewId(space='cdf_cdm', external_id='CogniteTimeSeries', version='v1'), resource_type='view', property_name='equipment', referred_by=PropertyId(source=ViewId(space='wind_energy', external_id='Hygrometer', version='v1'), property='timeSeries'), referred_type='view property')]"
      ]
     },
     "execution_count": 36,
     "metadata": {},
     "output_type": "execute_result"
    }
   ],
   "source": [
    "neat.read.excel(\"wind_farm_prospecting_physical_data_model.xlsx\", enable_manual_edit=True)"
   ]
  },
  {
   "cell_type": "markdown",
   "id": "cadeea2c-06e9-4a84-8aec-594a91061a7b",
   "metadata": {},
   "source": [
    "> Mind potential warnings, especially `PropertyNotFoundWarning`."
   ]
  },
  {
   "cell_type": "code",
   "execution_count": 39,
   "id": "db9d4945-6998-499a-b765-7c3e6a7316cd",
   "metadata": {},
   "outputs": [
    {
     "name": "stdout",
     "output_type": "stream",
     "text": [
      "You can inspect the details with the .inspect.outcome.data_model(...) method.\n"
     ]
    },
    {
     "data": {
      "text/html": [
       "<style type=\"text/css\">\n",
       "</style>\n",
       "<table id=\"T_64a70\">\n",
       "  <thead>\n",
       "    <tr>\n",
       "      <th class=\"blank level0\" >&nbsp;</th>\n",
       "      <th id=\"T_64a70_level0_col0\" class=\"col_heading level0 col0\" >name</th>\n",
       "      <th id=\"T_64a70_level0_col1\" class=\"col_heading level0 col1\" >created</th>\n",
       "    </tr>\n",
       "  </thead>\n",
       "  <tbody>\n",
       "    <tr>\n",
       "      <th id=\"T_64a70_level0_row0\" class=\"row_heading level0 row0\" >0</th>\n",
       "      <td id=\"T_64a70_row0_col0\" class=\"data row0 col0\" >spaces</td>\n",
       "      <td id=\"T_64a70_row0_col1\" class=\"data row0 col1\" >1</td>\n",
       "    </tr>\n",
       "    <tr>\n",
       "      <th id=\"T_64a70_level0_row1\" class=\"row_heading level0 row1\" >1</th>\n",
       "      <td id=\"T_64a70_row1_col0\" class=\"data row1 col0\" >containers</td>\n",
       "      <td id=\"T_64a70_row1_col1\" class=\"data row1 col1\" >13</td>\n",
       "    </tr>\n",
       "    <tr>\n",
       "      <th id=\"T_64a70_level0_row2\" class=\"row_heading level0 row2\" >2</th>\n",
       "      <td id=\"T_64a70_row2_col0\" class=\"data row2 col0\" >views</td>\n",
       "      <td id=\"T_64a70_row2_col1\" class=\"data row2 col1\" >14</td>\n",
       "    </tr>\n",
       "    <tr>\n",
       "      <th id=\"T_64a70_level0_row3\" class=\"row_heading level0 row3\" >3</th>\n",
       "      <td id=\"T_64a70_row3_col0\" class=\"data row3 col0\" >data_models</td>\n",
       "      <td id=\"T_64a70_row3_col1\" class=\"data row3 col1\" >1</td>\n",
       "    </tr>\n",
       "    <tr>\n",
       "      <th id=\"T_64a70_level0_row4\" class=\"row_heading level0 row4\" >4</th>\n",
       "      <td id=\"T_64a70_row4_col0\" class=\"data row4 col0\" >nodes</td>\n",
       "      <td id=\"T_64a70_row4_col1\" class=\"data row4 col1\" >0</td>\n",
       "    </tr>\n",
       "  </tbody>\n",
       "</table>\n"
      ],
      "text/plain": [
       "[UploadResult(name='spaces', error_messages=[], issues=[], created={'wind_energy'}, upserted=set(), deleted=set(), changed=set(), unchanged=set(), skipped=set(), failed_created=set(), failed_upserted=set(), failed_changed=set(), failed_deleted=set(), failed_items=[]),\n",
       " UploadResult(name='containers', error_messages=[], issues=[], created={ContainerId(space='wind_energy', external_id='MetMast'), ContainerId(space='wind_energy', external_id='Cost'), ContainerId(space='wind_energy', external_id='Barometer'), ContainerId(space='wind_energy', external_id='WindTurbine'), ContainerId(space='wind_energy', external_id='Location'), ContainerId(space='wind_energy', external_id='Thermometer'), ContainerId(space='wind_energy', external_id='ElectricityPrice'), ContainerId(space='wind_energy', external_id='Hygrometer'), ContainerId(space='wind_energy', external_id='Sensor'), ContainerId(space='wind_energy', external_id='WindVane'), ContainerId(space='wind_energy', external_id='Anemometer'), ContainerId(space='wind_energy', external_id='PowerCurve'), ContainerId(space='wind_energy', external_id='Site')}, upserted=set(), deleted=set(), changed=set(), unchanged=set(), skipped=set(), failed_created=set(), failed_upserted=set(), failed_changed=set(), failed_deleted=set(), failed_items=[]),\n",
       " UploadResult(name='views', error_messages=[], issues=[], created={ViewId(space='wind_energy', external_id='Sensor', version='v1'), ViewId(space='wind_energy', external_id='Hygrometer', version='v1'), ViewId(space='wind_energy', external_id='WindVane', version='v1'), ViewId(space='wind_energy', external_id='Cost', version='v1'), ViewId(space='wind_energy', external_id='Thermometer', version='v1'), ViewId(space='wind_energy', external_id='Site', version='v1'), ViewId(space='wind_energy', external_id='Anemometer', version='v1'), ViewId(space='wind_energy', external_id='Location', version='v1'), ViewId(space='wind_energy', external_id='PowerCurve', version='v1'), ViewId(space='wind_energy', external_id='Barometer', version='v1'), ViewId(space='wind_energy', external_id='WindTurbine', version='v1'), ViewId(space='wind_energy', external_id='MetMast', version='v1'), ViewId(space='wind_energy', external_id='WindFarm', version='v1'), ViewId(space='wind_energy', external_id='ElectricityPrice', version='v1')}, upserted=set(), deleted=set(), changed=set(), unchanged=set(), skipped=set(), failed_created=set(), failed_upserted=set(), failed_changed=set(), failed_deleted=set(), failed_items=[]),\n",
       " UploadResult(name='data_models', error_messages=[], issues=[], created={DataModelId(space='wind_energy', external_id='WindFarmProspecting', version='v1')}, upserted=set(), deleted=set(), changed=set(), unchanged=set(), skipped=set(), failed_created=set(), failed_upserted=set(), failed_changed=set(), failed_deleted=set(), failed_items=[]),\n",
       " UploadResult(name='nodes', error_messages=[], issues=[], created=set(), upserted=set(), deleted=set(), changed=set(), unchanged=set(), skipped=set(), failed_created=set(), failed_upserted=set(), failed_changed=set(), failed_deleted=set(), failed_items=[])]"
      ]
     },
     "execution_count": 39,
     "metadata": {},
     "output_type": "execute_result"
    }
   ],
   "source": [
    "neat.to.cdf.data_model()"
   ]
  },
  {
   "cell_type": "markdown",
   "id": "bb46e517-62aa-45bb-8226-e28fdc9e1ad9",
   "metadata": {},
   "source": [
    "The video below show resulting data model in CDF:\n",
    "\n",
    "<iframe width=\"700\" height=\"500\" src=\"https://www.youtube.com/embed/sPiH3H3bUeI?si=lUHkdg4lwtlB8yJL\" title=\"YouTube video player\" frameborder=\"0\" allow=\"accelerometer; autoplay; clipboard-write; encrypted-media; gyroscope; picture-in-picture; web-share\" referrerpolicy=\"strict-origin-when-cross-origin\" allowfullscreen></iframe>\n"
   ]
  },
  {
   "cell_type": "code",
   "execution_count": null,
   "id": "5e65493f-7f06-4d6b-ab66-ed320e66c602",
   "metadata": {},
   "outputs": [],
   "source": []
  }
 ],
 "metadata": {
  "kernelspec": {
   "display_name": "Python 3 (ipykernel)",
   "language": "python",
   "name": "python3"
  },
  "language_info": {
   "codemirror_mode": {
    "name": "ipython",
    "version": 3
   },
   "file_extension": ".py",
   "mimetype": "text/x-python",
   "name": "python",
   "nbconvert_exporter": "python",
   "pygments_lexer": "ipython3",
   "version": "3.11.9"
  }
 },
 "nbformat": 4,
 "nbformat_minor": 5
}
