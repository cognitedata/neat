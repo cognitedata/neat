{
 "cells": [
  {
   "cell_type": "code",
   "execution_count": 1,
   "id": "76063bc4-86cc-4d82-b62d-2e0e00df4368",
   "metadata": {},
   "outputs": [],
   "source": [
    "from cognite.neat import NeatSession, get_cognite_client"
   ]
  },
  {
   "cell_type": "code",
   "execution_count": 2,
   "id": "e2141dc2-0e5e-4997-9426-c22e282e5575",
   "metadata": {},
   "outputs": [
    {
     "name": "stdout",
     "output_type": "stream",
     "text": [
      "Found .env file in repository root. Loaded variables from .env file.\n"
     ]
    }
   ],
   "source": [
    "client = get_cognite_client(\".env\")"
   ]
  },
  {
   "cell_type": "code",
   "execution_count": 3,
   "id": "09061de3-82e1-40a5-8363-11ecc1d590ee",
   "metadata": {},
   "outputs": [
    {
     "name": "stdout",
     "output_type": "stream",
     "text": [
      "CDF <class 'tuple'> ('cdf_cdm', 'CogniteCore', 'v1') read successfully\n"
     ]
    },
    {
     "data": {
      "text/html": [
       "<p>'No issues found'</p>"
      ],
      "text/plain": [
       "[]"
      ]
     },
     "execution_count": 3,
     "metadata": {},
     "output_type": "execute_result"
    }
   ],
   "source": [
    "session = NeatSession(client)\n",
    "\n",
    "session.read.cdf.data_model((\"cdf_cdm\", \"CogniteCore\", \"v1\"))"
   ]
  },
  {
   "cell_type": "code",
   "execution_count": 4,
   "id": "bf1ce523-cbfb-44ea-be18-8dbe56f0f07a",
   "metadata": {},
   "outputs": [
    {
     "data": {
      "text/html": [
       "<div>\n",
       "<style scoped>\n",
       "    .dataframe tbody tr th:only-of-type {\n",
       "        vertical-align: middle;\n",
       "    }\n",
       "\n",
       "    .dataframe tbody tr th {\n",
       "        vertical-align: top;\n",
       "    }\n",
       "\n",
       "    .dataframe thead th {\n",
       "        text-align: right;\n",
       "    }\n",
       "</style>\n",
       "<table border=\"1\" class=\"dataframe\">\n",
       "  <thead>\n",
       "    <tr style=\"text-align: right;\">\n",
       "      <th></th>\n",
       "      <th>identifier</th>\n",
       "      <th>resourceType</th>\n",
       "      <th>propertyName</th>\n",
       "      <th>referredBy</th>\n",
       "      <th>referredType</th>\n",
       "      <th>NeatIssue</th>\n",
       "    </tr>\n",
       "  </thead>\n",
       "  <tbody>\n",
       "    <tr>\n",
       "      <th>0</th>\n",
       "      <td>{'space': 'cdf_cdm', 'externalId': 'CogniteAss...</td>\n",
       "      <td>view</td>\n",
       "      <td>object3D</td>\n",
       "      <td>{'source': {'space': 'cdf_cdm', 'externalId': ...</td>\n",
       "      <td>view property</td>\n",
       "      <td>PropertyNotFoundWarning</td>\n",
       "    </tr>\n",
       "    <tr>\n",
       "      <th>1</th>\n",
       "      <td>{'space': 'cdf_cdm', 'externalId': 'CogniteCAD...</td>\n",
       "      <td>view</td>\n",
       "      <td>model3D</td>\n",
       "      <td>{'source': {'space': 'cdf_cdm', 'externalId': ...</td>\n",
       "      <td>view property</td>\n",
       "      <td>PropertyNotFoundWarning</td>\n",
       "    </tr>\n",
       "    <tr>\n",
       "      <th>2</th>\n",
       "      <td>{'space': 'cdf_cdm', 'externalId': 'CognitePoi...</td>\n",
       "      <td>view</td>\n",
       "      <td>model3D</td>\n",
       "      <td>{'source': {'space': 'cdf_cdm', 'externalId': ...</td>\n",
       "      <td>view property</td>\n",
       "      <td>PropertyNotFoundWarning</td>\n",
       "    </tr>\n",
       "    <tr>\n",
       "      <th>3</th>\n",
       "      <td>{'space': 'cdf_cdm', 'externalId': 'Cognite360...</td>\n",
       "      <td>view</td>\n",
       "      <td>model3D</td>\n",
       "      <td>{'source': {'space': 'cdf_cdm', 'externalId': ...</td>\n",
       "      <td>view property</td>\n",
       "      <td>PropertyNotFoundWarning</td>\n",
       "    </tr>\n",
       "  </tbody>\n",
       "</table>\n",
       "</div>"
      ],
      "text/plain": [
       "[PropertyNotFoundWarning(identifier=ViewId(space='cdf_cdm', external_id='CogniteAsset', version='v1'), resource_type='view', property_name='object3D', referred_by=PropertyId(source=ViewId(space='cdf_cdm', external_id='Cognite3DObject', version='v1'), property='asset'), referred_type='view property'),\n",
       " PropertyNotFoundWarning(identifier=ViewId(space='cdf_cdm', external_id='CogniteCADRevision', version='v1'), resource_type='view', property_name='model3D', referred_by=PropertyId(source=ViewId(space='cdf_cdm', external_id='CogniteCADModel', version='v1'), property='revisions'), referred_type='view property'),\n",
       " PropertyNotFoundWarning(identifier=ViewId(space='cdf_cdm', external_id='CognitePointCloudRevision', version='v1'), resource_type='view', property_name='model3D', referred_by=PropertyId(source=ViewId(space='cdf_cdm', external_id='CognitePointCloudModel', version='v1'), property='revisions'), referred_type='view property'),\n",
       " PropertyNotFoundWarning(identifier=ViewId(space='cdf_cdm', external_id='Cognite360ImageCollection', version='v1'), resource_type='view', property_name='model3D', referred_by=PropertyId(source=ViewId(space='cdf_cdm', external_id='Cognite360ImageModel', version='v1'), property='collections'), referred_type='view property')]"
      ]
     },
     "execution_count": 4,
     "metadata": {},
     "output_type": "execute_result"
    }
   ],
   "source": [
    "session.verify()"
   ]
  },
  {
   "cell_type": "code",
   "execution_count": 7,
   "id": "0c533aa7-9b69-4a6f-98e7-a96cdfc1f65c",
   "metadata": {},
   "outputs": [],
   "source": [
    "session.prepare.data_model.to_extension(new_data_model_id=(\"sp_anders_space\", \"ExtensionCore\", \"v1\"))"
   ]
  },
  {
   "cell_type": "code",
   "execution_count": 8,
   "id": "0e2c91e7-8973-4809-a7f3-2375ac062028",
   "metadata": {},
   "outputs": [],
   "source": [
    "session.to.excel(\"my_extension.xlsx\")"
   ]
  },
  {
   "cell_type": "code",
   "execution_count": null,
   "id": "f27e25fe-9c94-4514-b235-d27c5e713e04",
   "metadata": {},
   "outputs": [],
   "source": []
  },
  {
   "cell_type": "code",
   "execution_count": null,
   "id": "aeb1a9c1-727f-40ee-bf8b-5c6b0af0f027",
   "metadata": {},
   "outputs": [],
   "source": []
  },
  {
   "cell_type": "code",
   "execution_count": 5,
   "id": "bd8f73b7-c515-49d9-8cea-a580813eebfb",
   "metadata": {},
   "outputs": [
    {
     "ename": "AttributeError",
     "evalue": "'CDFReadAPI' object has no attribute 'data_model'",
     "output_type": "error",
     "traceback": [
      "\u001b[1;31m---------------------------------------------------------------------------\u001b[0m",
      "\u001b[1;31mAttributeError\u001b[0m                            Traceback (most recent call last)",
      "Cell \u001b[1;32mIn[5], line 3\u001b[0m\n\u001b[0;32m      1\u001b[0m session \u001b[38;5;241m=\u001b[39m NeatSession(client)\n\u001b[1;32m----> 3\u001b[0m \u001b[43msession\u001b[49m\u001b[38;5;241;43m.\u001b[39;49m\u001b[43mread\u001b[49m\u001b[38;5;241;43m.\u001b[39;49m\u001b[43mcdf\u001b[49m\u001b[38;5;241;43m.\u001b[39;49m\u001b[43mdata_model\u001b[49m((\u001b[38;5;124m\"\u001b[39m\u001b[38;5;124mcdf_cdm\u001b[39m\u001b[38;5;124m\"\u001b[39m, \u001b[38;5;124m\"\u001b[39m\u001b[38;5;124mCogniteCore\u001b[39m\u001b[38;5;124m\"\u001b[39m, \u001b[38;5;124m\"\u001b[39m\u001b[38;5;124mv1\u001b[39m\u001b[38;5;124m\"\u001b[39m))\n\u001b[0;32m      5\u001b[0m session\u001b[38;5;241m.\u001b[39mprepare\u001b[38;5;241m.\u001b[39mdata_model\u001b[38;5;241m.\u001b[39mto_extension((\u001b[38;5;124m\"\u001b[39m\u001b[38;5;124msp_anders_space\u001b[39m\u001b[38;5;124m\"\u001b[39m, \u001b[38;5;124m\"\u001b[39m\u001b[38;5;124mExtensionCore\u001b[39m\u001b[38;5;124m\"\u001b[39m, \u001b[38;5;124m\"\u001b[39m\u001b[38;5;124mv1\u001b[39m\u001b[38;5;124m\"\u001b[39m))\n\u001b[0;32m      7\u001b[0m session\u001b[38;5;241m.\u001b[39mto\u001b[38;5;241m.\u001b[39mcdf\u001b[38;5;241m.\u001b[39mdata_model()\n",
      "\u001b[1;31mAttributeError\u001b[0m: 'CDFReadAPI' object has no attribute 'data_model'"
     ]
    }
   ],
   "source": [
    "\n",
    "session.to.cdf.data_model()\n",
    "# OR you can do\n",
    "session.to.excel(filename)"
   ]
  },
  {
   "cell_type": "code",
   "execution_count": null,
   "id": "8023e501-98dd-4b44-aa2b-5959c0a21ca4",
   "metadata": {},
   "outputs": [],
   "source": []
  }
 ],
 "metadata": {
  "kernelspec": {
   "display_name": "Python 3 (ipykernel)",
   "language": "python",
   "name": "python3"
  },
  "language_info": {
   "codemirror_mode": {
    "name": "ipython",
    "version": 3
   },
   "file_extension": ".py",
   "mimetype": "text/x-python",
   "name": "python",
   "nbconvert_exporter": "python",
   "pygments_lexer": "ipython3",
   "version": "3.12.1"
  }
 },
 "nbformat": 4,
 "nbformat_minor": 5
}
