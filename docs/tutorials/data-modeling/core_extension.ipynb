{
 "cells": [
  {
   "cell_type": "code",
   "execution_count": 9,
   "id": "76063bc4-86cc-4d82-b62d-2e0e00df4368",
   "metadata": {},
   "outputs": [],
   "source": [
    "from cognite.neat import NeatSession, get_cognite_client"
   ]
  },
  {
   "cell_type": "code",
   "execution_count": 10,
   "id": "e2141dc2-0e5e-4997-9426-c22e282e5575",
   "metadata": {},
   "outputs": [
    {
     "name": "stdout",
     "output_type": "stream",
     "text": [
      "Found .env file in repository root. Loaded variables from .env file.\n"
     ]
    }
   ],
   "source": [
    "client = get_cognite_client(\".env\")"
   ]
  },
  {
   "cell_type": "code",
   "execution_count": 11,
   "id": "09061de3-82e1-40a5-8363-11ecc1d590ee",
   "metadata": {},
   "outputs": [
    {
     "name": "stdout",
     "output_type": "stream",
     "text": [
      "CDF <class 'tuple'> ('cdf_cdm', 'CogniteCore', 'v1') read successfully\n"
     ]
    },
    {
     "data": {
      "text/html": [
       "<p>'No issues found'</p>"
      ],
      "text/plain": [
       "[]"
      ]
     },
     "execution_count": 11,
     "metadata": {},
     "output_type": "execute_result"
    }
   ],
   "source": [
    "session = NeatSession(client)\n",
    "\n",
    "session.read.cdf.data_model((\"cdf_cdm\", \"CogniteCore\", \"v1\"))"
   ]
  },
  {
   "cell_type": "code",
   "execution_count": 12,
   "id": "bf1ce523-cbfb-44ea-be18-8dbe56f0f07a",
   "metadata": {},
   "outputs": [
    {
     "data": {
      "text/html": [
       "<div>\n",
       "<style scoped>\n",
       "    .dataframe tbody tr th:only-of-type {\n",
       "        vertical-align: middle;\n",
       "    }\n",
       "\n",
       "    .dataframe tbody tr th {\n",
       "        vertical-align: top;\n",
       "    }\n",
       "\n",
       "    .dataframe thead th {\n",
       "        text-align: right;\n",
       "    }\n",
       "</style>\n",
       "<table border=\"1\" class=\"dataframe\">\n",
       "  <thead>\n",
       "    <tr style=\"text-align: right;\">\n",
       "      <th></th>\n",
       "      <th>identifier</th>\n",
       "      <th>resourceType</th>\n",
       "      <th>propertyName</th>\n",
       "      <th>referredBy</th>\n",
       "      <th>referredType</th>\n",
       "      <th>NeatIssue</th>\n",
       "    </tr>\n",
       "  </thead>\n",
       "  <tbody>\n",
       "    <tr>\n",
       "      <th>0</th>\n",
       "      <td>{'space': 'cdf_cdm', 'externalId': 'CogniteAss...</td>\n",
       "      <td>view</td>\n",
       "      <td>object3D</td>\n",
       "      <td>{'source': {'space': 'cdf_cdm', 'externalId': ...</td>\n",
       "      <td>view property</td>\n",
       "      <td>PropertyNotFoundWarning</td>\n",
       "    </tr>\n",
       "    <tr>\n",
       "      <th>1</th>\n",
       "      <td>{'space': 'cdf_cdm', 'externalId': 'CogniteCAD...</td>\n",
       "      <td>view</td>\n",
       "      <td>model3D</td>\n",
       "      <td>{'source': {'space': 'cdf_cdm', 'externalId': ...</td>\n",
       "      <td>view property</td>\n",
       "      <td>PropertyNotFoundWarning</td>\n",
       "    </tr>\n",
       "    <tr>\n",
       "      <th>2</th>\n",
       "      <td>{'space': 'cdf_cdm', 'externalId': 'CognitePoi...</td>\n",
       "      <td>view</td>\n",
       "      <td>model3D</td>\n",
       "      <td>{'source': {'space': 'cdf_cdm', 'externalId': ...</td>\n",
       "      <td>view property</td>\n",
       "      <td>PropertyNotFoundWarning</td>\n",
       "    </tr>\n",
       "    <tr>\n",
       "      <th>3</th>\n",
       "      <td>{'space': 'cdf_cdm', 'externalId': 'Cognite360...</td>\n",
       "      <td>view</td>\n",
       "      <td>model3D</td>\n",
       "      <td>{'source': {'space': 'cdf_cdm', 'externalId': ...</td>\n",
       "      <td>view property</td>\n",
       "      <td>PropertyNotFoundWarning</td>\n",
       "    </tr>\n",
       "  </tbody>\n",
       "</table>\n",
       "</div>"
      ],
      "text/plain": [
       "[PropertyNotFoundWarning(identifier=ViewId(space='cdf_cdm', external_id='CogniteAsset', version='v1'), resource_type='view', property_name='object3D', referred_by=PropertyId(source=ViewId(space='cdf_cdm', external_id='Cognite3DObject', version='v1'), property='asset'), referred_type='view property'),\n",
       " PropertyNotFoundWarning(identifier=ViewId(space='cdf_cdm', external_id='CogniteCADRevision', version='v1'), resource_type='view', property_name='model3D', referred_by=PropertyId(source=ViewId(space='cdf_cdm', external_id='CogniteCADModel', version='v1'), property='revisions'), referred_type='view property'),\n",
       " PropertyNotFoundWarning(identifier=ViewId(space='cdf_cdm', external_id='CognitePointCloudRevision', version='v1'), resource_type='view', property_name='model3D', referred_by=PropertyId(source=ViewId(space='cdf_cdm', external_id='CognitePointCloudModel', version='v1'), property='revisions'), referred_type='view property'),\n",
       " PropertyNotFoundWarning(identifier=ViewId(space='cdf_cdm', external_id='Cognite360ImageCollection', version='v1'), resource_type='view', property_name='model3D', referred_by=PropertyId(source=ViewId(space='cdf_cdm', external_id='Cognite360ImageModel', version='v1'), property='collections'), referred_type='view property')]"
      ]
     },
     "execution_count": 12,
     "metadata": {},
     "output_type": "execute_result"
    }
   ],
   "source": [
    "session.verify()"
   ]
  },
  {
   "cell_type": "code",
   "execution_count": 13,
   "id": "0c533aa7-9b69-4a6f-98e7-a96cdfc1f65c",
   "metadata": {},
   "outputs": [],
   "source": [
    "session.prepare.data_model.to_extension(new_data_model_id=(\"sp_anders_space\", \"ExtensionCore\", \"v1\"))"
   ]
  },
  {
   "cell_type": "code",
   "execution_count": 14,
   "id": "f27e25fe-9c94-4514-b235-d27c5e713e04",
   "metadata": {},
   "outputs": [
    {
     "name": "stderr",
     "output_type": "stream",
     "text": [
      "C:\\Users\\AndersAlbert\\Projects\\internal\\neat\\cognite\\neat\\_rules\\models\\dms\\_exporter.py:220: PropertyNotFoundWarning: (ViewId(space='cdf_cdm', external_id='CogniteAsset', version='v1'), 'view', 'object3D', PropertyId(source=ViewId(space='cdf_cdm', external_id='Cognite3DObject', version='v1'), property='asset'), 'view property')\n",
      "  view_property = self._create_view_property(prop, view_properties_by_id)\n",
      "C:\\Users\\AndersAlbert\\Projects\\internal\\neat\\cognite\\neat\\_rules\\models\\dms\\_exporter.py:220: PropertyNotFoundWarning: (ViewId(space='cdf_cdm', external_id='CogniteCADRevision', version='v1'), 'view', 'model3D', PropertyId(source=ViewId(space='cdf_cdm', external_id='CogniteCADModel', version='v1'), property='revisions'), 'view property')\n",
      "  view_property = self._create_view_property(prop, view_properties_by_id)\n",
      "C:\\Users\\AndersAlbert\\Projects\\internal\\neat\\cognite\\neat\\_rules\\models\\dms\\_exporter.py:220: PropertyNotFoundWarning: (ViewId(space='cdf_cdm', external_id='CognitePointCloudRevision', version='v1'), 'view', 'model3D', PropertyId(source=ViewId(space='cdf_cdm', external_id='CognitePointCloudModel', version='v1'), property='revisions'), 'view property')\n",
      "  view_property = self._create_view_property(prop, view_properties_by_id)\n",
      "C:\\Users\\AndersAlbert\\Projects\\internal\\neat\\cognite\\neat\\_rules\\models\\dms\\_exporter.py:220: PropertyNotFoundWarning: (ViewId(space='cdf_cdm', external_id='Cognite360ImageCollection', version='v1'), 'view', 'model3D', PropertyId(source=ViewId(space='cdf_cdm', external_id='Cognite360ImageModel', version='v1'), property='collections'), 'view property')\n",
      "  view_property = self._create_view_property(prop, view_properties_by_id)\n"
     ]
    },
    {
     "data": {
      "text/html": [
       "<div>\n",
       "<style scoped>\n",
       "    .dataframe tbody tr th:only-of-type {\n",
       "        vertical-align: middle;\n",
       "    }\n",
       "\n",
       "    .dataframe tbody tr th {\n",
       "        vertical-align: top;\n",
       "    }\n",
       "\n",
       "    .dataframe thead th {\n",
       "        text-align: right;\n",
       "    }\n",
       "</style>\n",
       "<table border=\"1\" class=\"dataframe\">\n",
       "  <thead>\n",
       "    <tr style=\"text-align: right;\">\n",
       "      <th></th>\n",
       "      <th>name</th>\n",
       "      <th>created</th>\n",
       "      <th>unchanged</th>\n",
       "      <th>failed_changed</th>\n",
       "      <th>error_messages</th>\n",
       "    </tr>\n",
       "  </thead>\n",
       "  <tbody>\n",
       "    <tr>\n",
       "      <th>0</th>\n",
       "      <td>spaces</td>\n",
       "      <td>1.0</td>\n",
       "      <td>2.0</td>\n",
       "      <td>NaN</td>\n",
       "      <td>NaN</td>\n",
       "    </tr>\n",
       "    <tr>\n",
       "      <th>1</th>\n",
       "      <td>containers</td>\n",
       "      <td>NaN</td>\n",
       "      <td>2.0</td>\n",
       "      <td>27.0</td>\n",
       "      <td>1.0</td>\n",
       "    </tr>\n",
       "    <tr>\n",
       "      <th>2</th>\n",
       "      <td>views</td>\n",
       "      <td>NaN</td>\n",
       "      <td>NaN</td>\n",
       "      <td>33.0</td>\n",
       "      <td>1.0</td>\n",
       "    </tr>\n",
       "    <tr>\n",
       "      <th>3</th>\n",
       "      <td>data_models</td>\n",
       "      <td>1.0</td>\n",
       "      <td>NaN</td>\n",
       "      <td>NaN</td>\n",
       "      <td>NaN</td>\n",
       "    </tr>\n",
       "  </tbody>\n",
       "</table>\n",
       "</div>"
      ],
      "text/plain": [
       "[UploadResult(name='spaces', error_messages=[], issues=[], created={'sp_anders_space'}, upserted=set(), deleted=set(), changed=set(), unchanged={'cdf_cdm_3d', 'cdf_cdm'}, skipped=set(), failed_created=set(), failed_upserted=set(), failed_changed=set(), failed_deleted=set()),\n",
       " UploadResult(name='containers', error_messages=['Invalid defaultValue. The value of property \\'isUploaded\\' must be a boolean value. Value was: \\'\"False\"\\'.'], issues=[], created=set(), upserted=set(), deleted=set(), changed=set(), unchanged={ContainerId(space='cdf_cdm', external_id='CogniteVisualizable'), ContainerId(space='cdf_cdm', external_id='CogniteSourceSystem')}, skipped=set(), failed_created=set(), failed_upserted=set(), failed_changed={ContainerId(space='cdf_cdm_3d', external_id='Cognite3DRevision'), ContainerId(space='cdf_cdm_3d', external_id='Cognite360ImageAnnotation'), ContainerId(space='cdf_cdm_3d', external_id='CogniteCADRevision'), ContainerId(space='cdf_cdm', external_id='CogniteEquipmentType'), ContainerId(space='cdf_cdm', external_id='CogniteUnit'), ContainerId(space='cdf_cdm', external_id='CogniteAsset'), ContainerId(space='cdf_cdm_3d', external_id='CogniteCADNode'), ContainerId(space='cdf_cdm', external_id='CogniteEquipment'), ContainerId(space='cdf_cdm', external_id='CogniteTimeSeries'), ContainerId(space='cdf_cdm', external_id='CogniteAnnotation'), ContainerId(space='cdf_cdm', external_id='CogniteActivity'), ContainerId(space='cdf_cdm_3d', external_id='CognitePointCloudRevision'), ContainerId(space='cdf_cdm_3d', external_id='CognitePointCloudVolume'), ContainerId(space='cdf_cdm_3d', external_id='CogniteCubeMap'), ContainerId(space='cdf_cdm_3d', external_id='Cognite360Image'), ContainerId(space='cdf_cdm_3d', external_id='Cognite3DGroup'), ContainerId(space='cdf_cdm', external_id='CogniteFile'), ContainerId(space='cdf_cdm', external_id='CogniteAssetType'), ContainerId(space='cdf_cdm', external_id='CogniteDiagramAnnotation'), ContainerId(space='cdf_cdm', external_id='CogniteDescribable'), ContainerId(space='cdf_cdm', external_id='CogniteAssetClass'), ContainerId(space='cdf_cdm', external_id='CogniteSchedulable'), ContainerId(space='cdf_cdm', external_id='CogniteFileCategory'), ContainerId(space='cdf_cdm_3d', external_id='Cognite3DModel'), ContainerId(space='cdf_cdm_3d', external_id='Cognite3DObject'), ContainerId(space='cdf_cdm_3d', external_id='Cognite3DTransformation'), ContainerId(space='cdf_cdm', external_id='CogniteSourceable')}, failed_deleted=set()),\n",
       " UploadResult(name='views', error_messages=[\"Cannot write to system space 'cdf_cdm'\"], issues=[], created=set(), upserted=set(), deleted=set(), changed=set(), unchanged=set(), skipped=set(), failed_created=set(), failed_upserted=set(), failed_changed={ViewId(space='cdf_cdm', external_id='CogniteCADModel', version='v1'), ViewId(space='cdf_cdm', external_id='CogniteSchedulable', version='v1'), ViewId(space='cdf_cdm', external_id='CogniteEquipment', version='v1'), ViewId(space='cdf_cdm', external_id='CogniteAnnotation', version='v1'), ViewId(space='cdf_cdm', external_id='CogniteAsset', version='v1'), ViewId(space='cdf_cdm', external_id='CognitePointCloudModel', version='v1'), ViewId(space='cdf_cdm', external_id='CogniteCADNode', version='v1'), ViewId(space='cdf_cdm', external_id='Cognite360ImageModel', version='v1'), ViewId(space='cdf_cdm', external_id='CogniteAssetType', version='v1'), ViewId(space='cdf_cdm', external_id='Cognite360ImageStation', version='v1'), ViewId(space='cdf_cdm', external_id='Cognite360ImageAnnotation', version='v1'), ViewId(space='cdf_cdm', external_id='CogniteDiagramAnnotation', version='v1'), ViewId(space='cdf_cdm', external_id='CogniteAssetClass', version='v1'), ViewId(space='cdf_cdm', external_id='CogniteTimeSeries', version='v1'), ViewId(space='cdf_cdm', external_id='CogniteVisualizable', version='v1'), ViewId(space='cdf_cdm', external_id='CogniteCubeMap', version='v1'), ViewId(space='cdf_cdm', external_id='Cognite360Image', version='v1'), ViewId(space='cdf_cdm', external_id='CogniteCADRevision', version='v1'), ViewId(space='cdf_cdm', external_id='CogniteActivity', version='v1'), ViewId(space='cdf_cdm', external_id='Cognite360ImageCollection', version='v1'), ViewId(space='cdf_cdm', external_id='Cognite3DTransformation', version='v1'), ViewId(space='cdf_cdm', external_id='CogniteUnit', version='v1'), ViewId(space='cdf_cdm', external_id='CogniteDescribable', version='v1'), ViewId(space='cdf_cdm', external_id='Cognite3DObject', version='v1'), ViewId(space='cdf_cdm', external_id='Cognite3DRevision', version='v1'), ViewId(space='cdf_cdm', external_id='CogniteFile', version='v1'), ViewId(space='cdf_cdm', external_id='CogniteFileCategory', version='v1'), ViewId(space='cdf_cdm', external_id='CogniteSourceSystem', version='v1'), ViewId(space='cdf_cdm', external_id='CognitePointCloudVolume', version='v1'), ViewId(space='cdf_cdm', external_id='CogniteEquipmentType', version='v1'), ViewId(space='cdf_cdm', external_id='CognitePointCloudRevision', version='v1'), ViewId(space='cdf_cdm', external_id='Cognite3DModel', version='v1'), ViewId(space='cdf_cdm', external_id='CogniteSourceable', version='v1')}, failed_deleted=set()),\n",
       " UploadResult(name='data_models', error_messages=[], issues=[], created={DataModelId(space='sp_anders_space', external_id='ExtensionCore', version='v1')}, upserted=set(), deleted=set(), changed=set(), unchanged=set(), skipped=set(), failed_created=set(), failed_upserted=set(), failed_changed=set(), failed_deleted=set())]"
      ]
     },
     "execution_count": 14,
     "metadata": {},
     "output_type": "execute_result"
    }
   ],
   "source": [
    "session.to.cdf.data_model()"
   ]
  },
  {
   "cell_type": "code",
   "execution_count": 15,
   "id": "aeb1a9c1-727f-40ee-bf8b-5c6b0af0f027",
   "metadata": {},
   "outputs": [],
   "source": [
    "from cognite.neat._utils.cdf.loaders import SpaceLoader"
   ]
  },
  {
   "cell_type": "code",
   "execution_count": 16,
   "id": "575e3911-defd-4653-91b3-03c8d62060fb",
   "metadata": {},
   "outputs": [
    {
     "name": "stdout",
     "output_type": "stream",
     "text": [
      "Deleted 1 data models\n",
      "Deleted space ['sp_anders_space']\n"
     ]
    }
   ],
   "source": [
    "SpaceLoader(client).clean(\"sp_anders_space\")"
   ]
  },
  {
   "cell_type": "code",
   "execution_count": null,
   "id": "b6f0478a-a8a8-4634-a839-2c405f796ca0",
   "metadata": {},
   "outputs": [],
   "source": []
  },
  {
   "cell_type": "code",
   "execution_count": null,
   "id": "bdbd0dac-3115-4d67-ad50-d3372e5a576f",
   "metadata": {},
   "outputs": [],
   "source": []
  },
  {
   "cell_type": "code",
   "execution_count": 5,
   "id": "bd8f73b7-c515-49d9-8cea-a580813eebfb",
   "metadata": {},
   "outputs": [
    {
     "ename": "AttributeError",
     "evalue": "'CDFReadAPI' object has no attribute 'data_model'",
     "output_type": "error",
     "traceback": [
      "\u001b[1;31m---------------------------------------------------------------------------\u001b[0m",
      "\u001b[1;31mAttributeError\u001b[0m                            Traceback (most recent call last)",
      "Cell \u001b[1;32mIn[5], line 3\u001b[0m\n\u001b[0;32m      1\u001b[0m session \u001b[38;5;241m=\u001b[39m NeatSession(client)\n\u001b[1;32m----> 3\u001b[0m \u001b[43msession\u001b[49m\u001b[38;5;241;43m.\u001b[39;49m\u001b[43mread\u001b[49m\u001b[38;5;241;43m.\u001b[39;49m\u001b[43mcdf\u001b[49m\u001b[38;5;241;43m.\u001b[39;49m\u001b[43mdata_model\u001b[49m((\u001b[38;5;124m\"\u001b[39m\u001b[38;5;124mcdf_cdm\u001b[39m\u001b[38;5;124m\"\u001b[39m, \u001b[38;5;124m\"\u001b[39m\u001b[38;5;124mCogniteCore\u001b[39m\u001b[38;5;124m\"\u001b[39m, \u001b[38;5;124m\"\u001b[39m\u001b[38;5;124mv1\u001b[39m\u001b[38;5;124m\"\u001b[39m))\n\u001b[0;32m      5\u001b[0m session\u001b[38;5;241m.\u001b[39mprepare\u001b[38;5;241m.\u001b[39mdata_model\u001b[38;5;241m.\u001b[39mto_extension((\u001b[38;5;124m\"\u001b[39m\u001b[38;5;124msp_anders_space\u001b[39m\u001b[38;5;124m\"\u001b[39m, \u001b[38;5;124m\"\u001b[39m\u001b[38;5;124mExtensionCore\u001b[39m\u001b[38;5;124m\"\u001b[39m, \u001b[38;5;124m\"\u001b[39m\u001b[38;5;124mv1\u001b[39m\u001b[38;5;124m\"\u001b[39m))\n\u001b[0;32m      7\u001b[0m session\u001b[38;5;241m.\u001b[39mto\u001b[38;5;241m.\u001b[39mcdf\u001b[38;5;241m.\u001b[39mdata_model()\n",
      "\u001b[1;31mAttributeError\u001b[0m: 'CDFReadAPI' object has no attribute 'data_model'"
     ]
    }
   ],
   "source": [
    "\n",
    "session.to.cdf.data_model()\n",
    "# OR you can do\n",
    "session.to.excel(filename)"
   ]
  },
  {
   "cell_type": "code",
   "execution_count": null,
   "id": "8023e501-98dd-4b44-aa2b-5959c0a21ca4",
   "metadata": {},
   "outputs": [],
   "source": []
  }
 ],
 "metadata": {
  "kernelspec": {
   "display_name": "Python 3 (ipykernel)",
   "language": "python",
   "name": "python3"
  },
  "language_info": {
   "codemirror_mode": {
    "name": "ipython",
    "version": 3
   },
   "file_extension": ".py",
   "mimetype": "text/x-python",
   "name": "python",
   "nbconvert_exporter": "python",
   "pygments_lexer": "ipython3",
   "version": "3.12.1"
  }
 },
 "nbformat": 4,
 "nbformat_minor": 5
}
