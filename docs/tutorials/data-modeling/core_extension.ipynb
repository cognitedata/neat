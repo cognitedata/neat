{
 "cells": [
  {
   "cell_type": "code",
   "execution_count": 1,
   "id": "76063bc4-86cc-4d82-b62d-2e0e00df4368",
   "metadata": {},
   "outputs": [],
   "source": [
    "from cognite.neat import NeatSession, get_cognite_client"
   ]
  },
  {
   "cell_type": "code",
   "execution_count": 2,
   "id": "e2141dc2-0e5e-4997-9426-c22e282e5575",
   "metadata": {},
   "outputs": [
    {
     "name": "stdout",
     "output_type": "stream",
     "text": [
      "Found .env file in repository root. Loaded variables from .env file.\n"
     ]
    }
   ],
   "source": [
    "client = get_cognite_client(\".env\")"
   ]
  },
  {
   "cell_type": "code",
   "execution_count": 3,
   "id": "09061de3-82e1-40a5-8363-11ecc1d590ee",
   "metadata": {},
   "outputs": [
    {
     "name": "stdout",
     "output_type": "stream",
     "text": [
      "CDF <class 'tuple'> ('cdf_cdm', 'CogniteCore', 'v1') read successfully\n"
     ]
    },
    {
     "data": {
      "text/html": [
       "<p>'No issues found'</p>"
      ],
      "text/plain": [
       "[]"
      ]
     },
     "execution_count": 3,
     "metadata": {},
     "output_type": "execute_result"
    }
   ],
   "source": [
    "session = NeatSession(client)\n",
    "\n",
    "session.read.cdf.data_model((\"cdf_cdm\", \"CogniteCore\", \"v1\"))"
   ]
  },
  {
   "cell_type": "code",
   "execution_count": null,
   "id": "0c533aa7-9b69-4a6f-98e7-a96cdfc1f65c",
   "metadata": {},
   "outputs": [],
   "source": []
  },
  {
   "cell_type": "code",
   "execution_count": 5,
   "id": "bd8f73b7-c515-49d9-8cea-a580813eebfb",
   "metadata": {},
   "outputs": [
    {
     "ename": "AttributeError",
     "evalue": "'CDFReadAPI' object has no attribute 'data_model'",
     "output_type": "error",
     "traceback": [
      "\u001b[1;31m---------------------------------------------------------------------------\u001b[0m",
      "\u001b[1;31mAttributeError\u001b[0m                            Traceback (most recent call last)",
      "Cell \u001b[1;32mIn[5], line 3\u001b[0m\n\u001b[0;32m      1\u001b[0m session \u001b[38;5;241m=\u001b[39m NeatSession(client)\n\u001b[1;32m----> 3\u001b[0m \u001b[43msession\u001b[49m\u001b[38;5;241;43m.\u001b[39;49m\u001b[43mread\u001b[49m\u001b[38;5;241;43m.\u001b[39;49m\u001b[43mcdf\u001b[49m\u001b[38;5;241;43m.\u001b[39;49m\u001b[43mdata_model\u001b[49m((\u001b[38;5;124m\"\u001b[39m\u001b[38;5;124mcdf_cdm\u001b[39m\u001b[38;5;124m\"\u001b[39m, \u001b[38;5;124m\"\u001b[39m\u001b[38;5;124mCogniteCore\u001b[39m\u001b[38;5;124m\"\u001b[39m, \u001b[38;5;124m\"\u001b[39m\u001b[38;5;124mv1\u001b[39m\u001b[38;5;124m\"\u001b[39m))\n\u001b[0;32m      5\u001b[0m session\u001b[38;5;241m.\u001b[39mprepare\u001b[38;5;241m.\u001b[39mdata_model\u001b[38;5;241m.\u001b[39mto_extension((\u001b[38;5;124m\"\u001b[39m\u001b[38;5;124msp_anders_space\u001b[39m\u001b[38;5;124m\"\u001b[39m, \u001b[38;5;124m\"\u001b[39m\u001b[38;5;124mExtensionCore\u001b[39m\u001b[38;5;124m\"\u001b[39m, \u001b[38;5;124m\"\u001b[39m\u001b[38;5;124mv1\u001b[39m\u001b[38;5;124m\"\u001b[39m))\n\u001b[0;32m      7\u001b[0m session\u001b[38;5;241m.\u001b[39mto\u001b[38;5;241m.\u001b[39mcdf\u001b[38;5;241m.\u001b[39mdata_model()\n",
      "\u001b[1;31mAttributeError\u001b[0m: 'CDFReadAPI' object has no attribute 'data_model'"
     ]
    }
   ],
   "source": [
    "session.prepare.data_model.to_extension(new_model_id=(\"sp_anders_space\", \"ExtensionCore\", \"v1\"))\n",
    "\n",
    "session.to.cdf.data_model()\n",
    "# OR you can do\n",
    "session.to.excel(filename)"
   ]
  },
  {
   "cell_type": "code",
   "execution_count": null,
   "id": "8023e501-98dd-4b44-aa2b-5959c0a21ca4",
   "metadata": {},
   "outputs": [],
   "source": []
  }
 ],
 "metadata": {
  "kernelspec": {
   "display_name": "Python 3 (ipykernel)",
   "language": "python",
   "name": "python3"
  },
  "language_info": {
   "codemirror_mode": {
    "name": "ipython",
    "version": 3
   },
   "file_extension": ".py",
   "mimetype": "text/x-python",
   "name": "python",
   "nbconvert_exporter": "python",
   "pygments_lexer": "ipython3",
   "version": "3.12.1"
  }
 },
 "nbformat": 4,
 "nbformat_minor": 5
}
