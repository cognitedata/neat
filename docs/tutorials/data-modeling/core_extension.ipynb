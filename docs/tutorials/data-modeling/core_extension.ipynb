{
 "cells": [
  {
   "cell_type": "markdown",
   "id": "89a63c3a-73c2-428c-bf4a-c92387c6f41b",
   "metadata": {},
   "source": [
    "# Extending Data Model\n",
    "\n",
    "**Prerequisite**:\n",
    "\n",
    "- Access to a CDF Project.\n",
    "- Know how to install and setup Python.\n",
    "- Launch a Python notebook.\n",
    "\n",
    "In this tutorial, we will show you how to extend a data model using the `CogniteCore` model as an example.\n"
   ]
  },
  {
   "cell_type": "markdown",
   "id": "1ec7d2c8-0d27-4d40-a255-f57564fc1ab1",
   "metadata": {},
   "source": [
    "## Creating the Base Model"
   ]
  },
  {
   "cell_type": "markdown",
   "id": "213691bd-b730-4a7f-bbaf-03ebe19ff86a",
   "metadata": {},
   "source": [
    "The `CogniteCore` model is an immutable model versioned by `Cognite`. To extend this model we first create a copy of it\n",
    "in our own space, such that we can start to do modifications to it."
   ]
  },
  {
   "cell_type": "code",
   "execution_count": 1,
   "id": "76063bc4-86cc-4d82-b62d-2e0e00df4368",
   "metadata": {},
   "outputs": [],
   "source": [
    "from cognite.neat import NeatSession, get_cognite_client"
   ]
  },
  {
   "cell_type": "code",
   "execution_count": 2,
   "id": "e2141dc2-0e5e-4997-9426-c22e282e5575",
   "metadata": {},
   "outputs": [
    {
     "name": "stdout",
     "output_type": "stream",
     "text": [
      "Found .env file in repository root. Loaded variables from .env file.\n"
     ]
    }
   ],
   "source": [
    "client = get_cognite_client(\".env\")"
   ]
  },
  {
   "cell_type": "code",
   "execution_count": 3,
   "id": "09061de3-82e1-40a5-8363-11ecc1d590ee",
   "metadata": {},
   "outputs": [
    {
     "name": "stdout",
     "output_type": "stream",
     "text": [
      "CDF <class 'tuple'> ('cdf_cdm', 'CogniteCore', 'v1') read successfully\n"
     ]
    },
    {
     "data": {
      "text/html": [
       "<p>'No issues found'</p>"
      ],
      "text/plain": [
       "[]"
      ]
     },
     "execution_count": 3,
     "metadata": {},
     "output_type": "execute_result"
    }
   ],
   "source": [
    "neat = NeatSession(client, verbose=True)\n",
    "\n",
    "neat.read.cdf.data_model((\"cdf_cdm\", \"CogniteCore\", \"v1\"))"
   ]
  },
  {
   "cell_type": "markdown",
   "id": "2f3d8a35-4061-4b0f-9097-8c9624c09969",
   "metadata": {},
   "source": [
    "We have now downloaded the `CogniteCore` model, and need to run `Neat`'s verification on it"
   ]
  },
  {
   "cell_type": "code",
   "execution_count": 4,
   "id": "bf1ce523-cbfb-44ea-be18-8dbe56f0f07a",
   "metadata": {},
   "outputs": [],
   "source": [
    "issues = neat.verify()"
   ]
  },
  {
   "cell_type": "markdown",
   "id": "734dfbbb-a7e5-486b-90c9-b2d1c27d3cf5",
   "metadata": {},
   "source": [
    "The `CogniteCore` model consists of 33 views, including views for 3D, Annotation, as well as several views that are used as interfaces.\n",
    "\n",
    "We simpliy the core model by dropping these views."
   ]
  },
  {
   "cell_type": "code",
   "execution_count": 6,
   "id": "4ca48575-6876-410a-814a-ed8757ad0a9a",
   "metadata": {},
   "outputs": [],
   "source": [
    "neat.prepare.data_model.reduce(drop=[\"3D\", \"Annotation\", \"BaseViews\"])"
   ]
  },
  {
   "cell_type": "markdown",
   "id": "5349941f-efbb-4bde-92c5-3ea4328518f3",
   "metadata": {},
   "source": [
    "Next we will turn the `CogniteCore` model into the basis for our new model `ExtensionCore`"
   ]
  },
  {
   "cell_type": "code",
   "execution_count": 7,
   "id": "0c533aa7-9b69-4a6f-98e7-a96cdfc1f65c",
   "metadata": {
    "editable": true,
    "slideshow": {
     "slide_type": ""
    },
    "tags": []
   },
   "outputs": [],
   "source": [
    "neat.prepare.data_model.to_extension(new_data_model_id=(\"sp_doctrino_space\", \"ExtensionCore\", \"v1\"), prefix=\"MyOrg\")"
   ]
  },
  {
   "cell_type": "markdown",
   "id": "e8baac0a-104b-40d7-be8e-feba27d12454",
   "metadata": {},
   "source": [
    "The new base model is now ready. We can now directly publish it to CDF "
   ]
  },
  {
   "cell_type": "code",
   "execution_count": 9,
   "id": "f27e25fe-9c94-4514-b235-d27c5e713e04",
   "metadata": {},
   "outputs": [
    {
     "data": {
      "text/html": [
       "<div>\n",
       "<style scoped>\n",
       "    .dataframe tbody tr th:only-of-type {\n",
       "        vertical-align: middle;\n",
       "    }\n",
       "\n",
       "    .dataframe tbody tr th {\n",
       "        vertical-align: top;\n",
       "    }\n",
       "\n",
       "    .dataframe thead th {\n",
       "        text-align: right;\n",
       "    }\n",
       "</style>\n",
       "<table border=\"1\" class=\"dataframe\">\n",
       "  <thead>\n",
       "    <tr style=\"text-align: right;\">\n",
       "      <th></th>\n",
       "      <th>name</th>\n",
       "      <th>created</th>\n",
       "    </tr>\n",
       "  </thead>\n",
       "  <tbody>\n",
       "    <tr>\n",
       "      <th>0</th>\n",
       "      <td>spaces</td>\n",
       "      <td>1.0</td>\n",
       "    </tr>\n",
       "    <tr>\n",
       "      <th>1</th>\n",
       "      <td>containers</td>\n",
       "      <td>NaN</td>\n",
       "    </tr>\n",
       "    <tr>\n",
       "      <th>2</th>\n",
       "      <td>views</td>\n",
       "      <td>11.0</td>\n",
       "    </tr>\n",
       "    <tr>\n",
       "      <th>3</th>\n",
       "      <td>data_models</td>\n",
       "      <td>1.0</td>\n",
       "    </tr>\n",
       "  </tbody>\n",
       "</table>\n",
       "</div>"
      ],
      "text/plain": [
       "[UploadResult(name='spaces', error_messages=[], issues=[], created={'sp_doctrino_space'}, upserted=set(), deleted=set(), changed=set(), unchanged=set(), skipped=set(), failed_created=set(), failed_upserted=set(), failed_changed=set(), failed_deleted=set()),\n",
       " UploadResult(name='containers', error_messages=[], issues=[], created=set(), upserted=set(), deleted=set(), changed=set(), unchanged=set(), skipped=set(), failed_created=set(), failed_upserted=set(), failed_changed=set(), failed_deleted=set()),\n",
       " UploadResult(name='views', error_messages=[], issues=[], created={ViewId(space='sp_doctrino_space', external_id='MyOrgUnit', version='v1'), ViewId(space='sp_doctrino_space', external_id='MyOrgAsset', version='v1'), ViewId(space='sp_doctrino_space', external_id='MyOrgAssetType', version='v1'), ViewId(space='sp_doctrino_space', external_id='MyOrgActivity', version='v1'), ViewId(space='sp_doctrino_space', external_id='MyOrgEquipment', version='v1'), ViewId(space='sp_doctrino_space', external_id='MyOrgEquipmentType', version='v1'), ViewId(space='sp_doctrino_space', external_id='MyOrgSourceSystem', version='v1'), ViewId(space='sp_doctrino_space', external_id='MyOrgFileCategory', version='v1'), ViewId(space='sp_doctrino_space', external_id='MyOrgTimeSeries', version='v1'), ViewId(space='sp_doctrino_space', external_id='MyOrgFile', version='v1'), ViewId(space='sp_doctrino_space', external_id='MyOrgAssetClass', version='v1')}, upserted=set(), deleted=set(), changed=set(), unchanged=set(), skipped=set(), failed_created=set(), failed_upserted=set(), failed_changed=set(), failed_deleted=set()),\n",
       " UploadResult(name='data_models', error_messages=[], issues=[], created={DataModelId(space='sp_doctrino_space', external_id='ExtensionCore', version='v1')}, upserted=set(), deleted=set(), changed=set(), unchanged=set(), skipped=set(), failed_created=set(), failed_upserted=set(), failed_changed=set(), failed_deleted=set())]"
      ]
     },
     "execution_count": 9,
     "metadata": {},
     "output_type": "execute_result"
    }
   ],
   "source": [
    "neat.to.cdf.data_model()"
   ]
  },
  {
   "cell_type": "markdown",
   "id": "508f874d-4df4-4908-9116-e4db596cd72a",
   "metadata": {
    "editable": true,
    "slideshow": {
     "slide_type": ""
    },
    "tags": []
   },
   "source": [
    "<img src=\"../../artifacts/figs/core_extension.png\" width=\"800\">"
   ]
  },
  {
   "cell_type": "markdown",
   "id": "426e4f0f-bcd5-4943-83a4-10460f68ec46",
   "metadata": {
    "editable": true,
    "slideshow": {
     "slide_type": ""
    },
    "tags": []
   },
   "source": [
    "Or we can dump it a spreadsheet and work on it from there."
   ]
  },
  {
   "cell_type": "code",
   "execution_count": 11,
   "id": "06df8a88-2afa-49dc-8df3-d29987e7a988",
   "metadata": {
    "editable": true,
    "slideshow": {
     "slide_type": ""
    },
    "tags": []
   },
   "outputs": [],
   "source": [
    "neat.to.excel(\"my_extension.xlsx\")"
   ]
  },
  {
   "cell_type": "markdown",
   "id": "10536ddb-a02b-4c99-bd85-36d1f5bab6b2",
   "metadata": {
    "editable": true,
    "slideshow": {
     "slide_type": ""
    },
    "tags": []
   },
   "source": [
    "## Adding New Properties"
   ]
  },
  {
   "cell_type": "markdown",
   "id": "2e160d5d-5919-4cab-bb5e-eb33e7998fe5",
   "metadata": {
    "editable": true,
    "slideshow": {
     "slide_type": ""
    },
    "tags": []
   },
   "source": [
    "In the spreadsheet, we have added the two properties `location` and `subLocation` to the `Asset` view. In addition, we have added our on container `myContainer` in the container sheet."
   ]
  },
  {
   "cell_type": "markdown",
   "id": "1ec4bf5c-69db-4d97-aaf1-806f56830a23",
   "metadata": {
    "editable": true,
    "slideshow": {
     "slide_type": ""
    },
    "tags": []
   },
   "source": [
    "<img src=\"../../artifacts/figs/core_extension_excel.png\" width=\"800\">"
   ]
  },
  {
   "cell_type": "markdown",
   "id": "34149885-e151-464f-a0a7-b312a4bf7cef",
   "metadata": {
    "editable": true,
    "slideshow": {
     "slide_type": ""
    },
    "tags": []
   },
   "source": [
    "We start a new `NeatSession` to load this new model publish it to CDF"
   ]
  },
  {
   "cell_type": "code",
   "execution_count": 21,
   "id": "6da1c12d-05a3-4ca7-be2e-57371bed1a97",
   "metadata": {
    "editable": true,
    "slideshow": {
     "slide_type": ""
    },
    "tags": []
   },
   "outputs": [],
   "source": [
    "neat = NeatSession(client)"
   ]
  },
  {
   "cell_type": "code",
   "execution_count": 13,
   "id": "152f957c-28c0-44e7-879b-62a60c5720e0",
   "metadata": {
    "editable": true,
    "slideshow": {
     "slide_type": ""
    },
    "tags": []
   },
   "outputs": [
    {
     "name": "stdout",
     "output_type": "stream",
     "text": [
      "Excel <class 'str'> my_extension.xlsx read successfully\n"
     ]
    },
    {
     "data": {
      "text/html": [
       "<p>'No issues found'</p>"
      ],
      "text/plain": [
       "[]"
      ]
     },
     "execution_count": 13,
     "metadata": {},
     "output_type": "execute_result"
    }
   ],
   "source": [
    "neat.read.excel(\"my_extension.xlsx\")"
   ]
  },
  {
   "cell_type": "code",
   "execution_count": 14,
   "id": "d61893af-449b-4015-af60-77ba680809db",
   "metadata": {
    "editable": true,
    "slideshow": {
     "slide_type": ""
    },
    "tags": []
   },
   "outputs": [
    {
     "data": {
      "text/html": [
       "<p>'No issues found'</p>"
      ],
      "text/plain": [
       "[]"
      ]
     },
     "execution_count": 14,
     "metadata": {},
     "output_type": "execute_result"
    }
   ],
   "source": [
    "neat.verify()"
   ]
  },
  {
   "cell_type": "code",
   "execution_count": 18,
   "id": "afe5e7c3-28b1-4457-8dd7-2dc3d313fa29",
   "metadata": {
    "editable": true,
    "slideshow": {
     "slide_type": ""
    },
    "tags": []
   },
   "outputs": [
    {
     "data": {
      "text/html": [
       "<div>\n",
       "<style scoped>\n",
       "    .dataframe tbody tr th:only-of-type {\n",
       "        vertical-align: middle;\n",
       "    }\n",
       "\n",
       "    .dataframe tbody tr th {\n",
       "        vertical-align: top;\n",
       "    }\n",
       "\n",
       "    .dataframe thead th {\n",
       "        text-align: right;\n",
       "    }\n",
       "</style>\n",
       "<table border=\"1\" class=\"dataframe\">\n",
       "  <thead>\n",
       "    <tr style=\"text-align: right;\">\n",
       "      <th></th>\n",
       "      <th>name</th>\n",
       "      <th>created</th>\n",
       "    </tr>\n",
       "  </thead>\n",
       "  <tbody>\n",
       "    <tr>\n",
       "      <th>0</th>\n",
       "      <td>spaces</td>\n",
       "      <td>1</td>\n",
       "    </tr>\n",
       "    <tr>\n",
       "      <th>1</th>\n",
       "      <td>containers</td>\n",
       "      <td>1</td>\n",
       "    </tr>\n",
       "    <tr>\n",
       "      <th>2</th>\n",
       "      <td>views</td>\n",
       "      <td>11</td>\n",
       "    </tr>\n",
       "    <tr>\n",
       "      <th>3</th>\n",
       "      <td>data_models</td>\n",
       "      <td>1</td>\n",
       "    </tr>\n",
       "  </tbody>\n",
       "</table>\n",
       "</div>"
      ],
      "text/plain": [
       "[UploadResult(name='spaces', error_messages=[], issues=[], created={'sp_doctrino_space'}, upserted=set(), deleted=set(), changed=set(), unchanged=set(), skipped=set(), failed_created=set(), failed_upserted=set(), failed_changed=set(), failed_deleted=set()),\n",
       " UploadResult(name='containers', error_messages=[], issues=[], created={ContainerId(space='sp_doctrino_space', external_id='myContainer')}, upserted=set(), deleted=set(), changed=set(), unchanged=set(), skipped=set(), failed_created=set(), failed_upserted=set(), failed_changed=set(), failed_deleted=set()),\n",
       " UploadResult(name='views', error_messages=[], issues=[], created={ViewId(space='sp_doctrino_space', external_id='MyOrgUnit', version='v1'), ViewId(space='sp_doctrino_space', external_id='MyOrgAsset', version='v1'), ViewId(space='sp_doctrino_space', external_id='MyOrgAssetType', version='v1'), ViewId(space='sp_doctrino_space', external_id='MyOrgActivity', version='v1'), ViewId(space='sp_doctrino_space', external_id='MyOrgEquipment', version='v1'), ViewId(space='sp_doctrino_space', external_id='MyOrgEquipmentType', version='v1'), ViewId(space='sp_doctrino_space', external_id='MyOrgSourceSystem', version='v1'), ViewId(space='sp_doctrino_space', external_id='MyOrgFileCategory', version='v1'), ViewId(space='sp_doctrino_space', external_id='MyOrgTimeSeries', version='v1'), ViewId(space='sp_doctrino_space', external_id='MyOrgFile', version='v1'), ViewId(space='sp_doctrino_space', external_id='MyOrgAssetClass', version='v1')}, upserted=set(), deleted=set(), changed=set(), unchanged=set(), skipped=set(), failed_created=set(), failed_upserted=set(), failed_changed=set(), failed_deleted=set()),\n",
       " UploadResult(name='data_models', error_messages=[], issues=[], created={DataModelId(space='sp_doctrino_space', external_id='ExtensionCore', version='v1')}, upserted=set(), deleted=set(), changed=set(), unchanged=set(), skipped=set(), failed_created=set(), failed_upserted=set(), failed_changed=set(), failed_deleted=set())]"
      ]
     },
     "execution_count": 18,
     "metadata": {},
     "output_type": "execute_result"
    }
   ],
   "source": [
    "neat.to.cdf.data_model()"
   ]
  },
  {
   "cell_type": "markdown",
   "id": "71a7abe6-e197-4b79-a676-69ab609edf5c",
   "metadata": {
    "editable": true,
    "slideshow": {
     "slide_type": ""
    },
    "tags": []
   },
   "source": [
    "This new model is now published to CDF with the two extra properties"
   ]
  },
  {
   "cell_type": "markdown",
   "id": "4b0f0577-dad4-4be0-8a8d-3f2012d4150b",
   "metadata": {
    "editable": true,
    "slideshow": {
     "slide_type": ""
    },
    "tags": []
   },
   "source": [
    "<img src=\"../../artifacts/figs/core_extension_with_properties.png\" width=\"400\">"
   ]
  },
  {
   "cell_type": "code",
   "execution_count": null,
   "id": "2d614e35-1402-4e5f-8a82-decfcdab0c72",
   "metadata": {
    "editable": true,
    "slideshow": {
     "slide_type": ""
    },
    "tags": []
   },
   "outputs": [],
   "source": []
  },
  {
   "cell_type": "code",
   "execution_count": null,
   "id": "888713e2-a68e-4b83-ae8e-36a1563c6e61",
   "metadata": {
    "editable": true,
    "slideshow": {
     "slide_type": ""
    },
    "tags": [
     "hide"
    ]
   },
   "outputs": [],
   "source": [
    "# This cell is hidden so it does not show in the docs.\n",
    "from cognite.neat._utils.cdf.loaders import SpaceLoader\n",
    "\n",
    "SpaceLoader(client).clean(\"sp_doctrino_space\");"
   ]
  }
 ],
 "metadata": {
  "kernelspec": {
   "display_name": "Python 3 (ipykernel)",
   "language": "python",
   "name": "python3"
  },
  "language_info": {
   "codemirror_mode": {
    "name": "ipython",
    "version": 3
   },
   "file_extension": ".py",
   "mimetype": "text/x-python",
   "name": "python",
   "nbconvert_exporter": "python",
   "pygments_lexer": "ipython3",
   "version": "3.12.1"
  }
 },
 "nbformat": 4,
 "nbformat_minor": 5
}
