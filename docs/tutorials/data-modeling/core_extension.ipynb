{
 "cells": [
  {
   "cell_type": "markdown",
   "id": "89a63c3a-73c2-428c-bf4a-c92387c6f41b",
   "metadata": {},
   "source": [
    "# Extending Data Model\n",
    "\n",
    "**Prerequisite**:\n",
    "\n",
    "- Access to a CDF Project.\n",
    "- Know how to install and setup Python.\n",
    "- Launch a Python notebook.\n",
    "\n",
    "\n"
   ]
  },
  {
   "cell_type": "code",
   "execution_count": 7,
   "id": "76063bc4-86cc-4d82-b62d-2e0e00df4368",
   "metadata": {},
   "outputs": [],
   "source": [
    "from cognite.neat import NeatSession, get_cognite_client"
   ]
  },
  {
   "cell_type": "code",
   "execution_count": 8,
   "id": "e2141dc2-0e5e-4997-9426-c22e282e5575",
   "metadata": {},
   "outputs": [
    {
     "name": "stdout",
     "output_type": "stream",
     "text": [
      "Found .env file in repository root. Loaded variables from .env file.\n"
     ]
    }
   ],
   "source": [
    "client = get_cognite_client(\".env\")"
   ]
  },
  {
   "cell_type": "code",
   "execution_count": 9,
   "id": "09061de3-82e1-40a5-8363-11ecc1d590ee",
   "metadata": {},
   "outputs": [
    {
     "name": "stdout",
     "output_type": "stream",
     "text": [
      "CDF <class 'tuple'> ('cdf_cdm', 'CogniteCore', 'v1') read successfully\n"
     ]
    },
    {
     "data": {
      "text/html": [
       "<p>'No issues found'</p>"
      ],
      "text/plain": [
       "[]"
      ]
     },
     "execution_count": 9,
     "metadata": {},
     "output_type": "execute_result"
    }
   ],
   "source": [
    "session = NeatSession(client)\n",
    "\n",
    "session.read.cdf.data_model((\"cdf_cdm\", \"CogniteCore\", \"v1\"))"
   ]
  },
  {
   "cell_type": "code",
   "execution_count": 10,
   "id": "bf1ce523-cbfb-44ea-be18-8dbe56f0f07a",
   "metadata": {},
   "outputs": [
    {
     "data": {
      "text/html": [
       "<div>\n",
       "<style scoped>\n",
       "    .dataframe tbody tr th:only-of-type {\n",
       "        vertical-align: middle;\n",
       "    }\n",
       "\n",
       "    .dataframe tbody tr th {\n",
       "        vertical-align: top;\n",
       "    }\n",
       "\n",
       "    .dataframe thead th {\n",
       "        text-align: right;\n",
       "    }\n",
       "</style>\n",
       "<table border=\"1\" class=\"dataframe\">\n",
       "  <thead>\n",
       "    <tr style=\"text-align: right;\">\n",
       "      <th></th>\n",
       "      <th>identifier</th>\n",
       "      <th>resourceType</th>\n",
       "      <th>propertyName</th>\n",
       "      <th>referredBy</th>\n",
       "      <th>referredType</th>\n",
       "      <th>NeatIssue</th>\n",
       "    </tr>\n",
       "  </thead>\n",
       "  <tbody>\n",
       "    <tr>\n",
       "      <th>0</th>\n",
       "      <td>{'space': 'cdf_cdm', 'externalId': 'CogniteAss...</td>\n",
       "      <td>view</td>\n",
       "      <td>object3D</td>\n",
       "      <td>{'source': {'space': 'cdf_cdm', 'externalId': ...</td>\n",
       "      <td>view property</td>\n",
       "      <td>PropertyNotFoundWarning</td>\n",
       "    </tr>\n",
       "    <tr>\n",
       "      <th>1</th>\n",
       "      <td>{'space': 'cdf_cdm', 'externalId': 'CogniteCAD...</td>\n",
       "      <td>view</td>\n",
       "      <td>model3D</td>\n",
       "      <td>{'source': {'space': 'cdf_cdm', 'externalId': ...</td>\n",
       "      <td>view property</td>\n",
       "      <td>PropertyNotFoundWarning</td>\n",
       "    </tr>\n",
       "    <tr>\n",
       "      <th>2</th>\n",
       "      <td>{'space': 'cdf_cdm', 'externalId': 'CognitePoi...</td>\n",
       "      <td>view</td>\n",
       "      <td>model3D</td>\n",
       "      <td>{'source': {'space': 'cdf_cdm', 'externalId': ...</td>\n",
       "      <td>view property</td>\n",
       "      <td>PropertyNotFoundWarning</td>\n",
       "    </tr>\n",
       "    <tr>\n",
       "      <th>3</th>\n",
       "      <td>{'space': 'cdf_cdm', 'externalId': 'Cognite360...</td>\n",
       "      <td>view</td>\n",
       "      <td>model3D</td>\n",
       "      <td>{'source': {'space': 'cdf_cdm', 'externalId': ...</td>\n",
       "      <td>view property</td>\n",
       "      <td>PropertyNotFoundWarning</td>\n",
       "    </tr>\n",
       "  </tbody>\n",
       "</table>\n",
       "</div>"
      ],
      "text/plain": [
       "[PropertyNotFoundWarning(identifier=ViewId(space='cdf_cdm', external_id='CogniteAsset', version='v1'), resource_type='view', property_name='object3D', referred_by=PropertyId(source=ViewId(space='cdf_cdm', external_id='Cognite3DObject', version='v1'), property='asset'), referred_type='view property'),\n",
       " PropertyNotFoundWarning(identifier=ViewId(space='cdf_cdm', external_id='CogniteCADRevision', version='v1'), resource_type='view', property_name='model3D', referred_by=PropertyId(source=ViewId(space='cdf_cdm', external_id='CogniteCADModel', version='v1'), property='revisions'), referred_type='view property'),\n",
       " PropertyNotFoundWarning(identifier=ViewId(space='cdf_cdm', external_id='CognitePointCloudRevision', version='v1'), resource_type='view', property_name='model3D', referred_by=PropertyId(source=ViewId(space='cdf_cdm', external_id='CognitePointCloudModel', version='v1'), property='revisions'), referred_type='view property'),\n",
       " PropertyNotFoundWarning(identifier=ViewId(space='cdf_cdm', external_id='Cognite360ImageCollection', version='v1'), resource_type='view', property_name='model3D', referred_by=PropertyId(source=ViewId(space='cdf_cdm', external_id='Cognite360ImageModel', version='v1'), property='collections'), referred_type='view property')]"
      ]
     },
     "execution_count": 10,
     "metadata": {},
     "output_type": "execute_result"
    }
   ],
   "source": [
    "session.verify()"
   ]
  },
  {
   "cell_type": "code",
   "execution_count": 11,
   "id": "4ca48575-6876-410a-814a-ed8757ad0a9a",
   "metadata": {},
   "outputs": [],
   "source": [
    "session.prepare.data_model.reduce(drop=[\"3D\", \"Annotation\", \"BaseViews\"])"
   ]
  },
  {
   "cell_type": "code",
   "execution_count": 12,
   "id": "0c533aa7-9b69-4a6f-98e7-a96cdfc1f65c",
   "metadata": {},
   "outputs": [],
   "source": [
    "session.prepare.data_model.to_extension(new_data_model_id=(\"sp_anders_space\", \"ExtensionCore\", \"v1\"), prefix=\"MyOrg\")"
   ]
  },
  {
   "cell_type": "code",
   "execution_count": 13,
   "id": "f27e25fe-9c94-4514-b235-d27c5e713e04",
   "metadata": {},
   "outputs": [
    {
     "data": {
      "text/html": [
       "<div>\n",
       "<style scoped>\n",
       "    .dataframe tbody tr th:only-of-type {\n",
       "        vertical-align: middle;\n",
       "    }\n",
       "\n",
       "    .dataframe tbody tr th {\n",
       "        vertical-align: top;\n",
       "    }\n",
       "\n",
       "    .dataframe thead th {\n",
       "        text-align: right;\n",
       "    }\n",
       "</style>\n",
       "<table border=\"1\" class=\"dataframe\">\n",
       "  <thead>\n",
       "    <tr style=\"text-align: right;\">\n",
       "      <th></th>\n",
       "      <th>name</th>\n",
       "      <th>created</th>\n",
       "    </tr>\n",
       "  </thead>\n",
       "  <tbody>\n",
       "    <tr>\n",
       "      <th>0</th>\n",
       "      <td>spaces</td>\n",
       "      <td>1.0</td>\n",
       "    </tr>\n",
       "    <tr>\n",
       "      <th>1</th>\n",
       "      <td>containers</td>\n",
       "      <td>NaN</td>\n",
       "    </tr>\n",
       "    <tr>\n",
       "      <th>2</th>\n",
       "      <td>views</td>\n",
       "      <td>12.0</td>\n",
       "    </tr>\n",
       "    <tr>\n",
       "      <th>3</th>\n",
       "      <td>data_models</td>\n",
       "      <td>1.0</td>\n",
       "    </tr>\n",
       "  </tbody>\n",
       "</table>\n",
       "</div>"
      ],
      "text/plain": [
       "[UploadResult(name='spaces', error_messages=[], issues=[], created={'sp_anders_space'}, upserted=set(), deleted=set(), changed=set(), unchanged=set(), skipped=set(), failed_created=set(), failed_upserted=set(), failed_changed=set(), failed_deleted=set()),\n",
       " UploadResult(name='containers', error_messages=[], issues=[], created=set(), upserted=set(), deleted=set(), changed=set(), unchanged=set(), skipped=set(), failed_created=set(), failed_upserted=set(), failed_changed=set(), failed_deleted=set()),\n",
       " UploadResult(name='views', error_messages=[], issues=[], created={ViewId(space='sp_anders_space', external_id='MyOrgAssetClass', version='v1'), ViewId(space='sp_anders_space', external_id='MyOrgEquipment', version='v1'), ViewId(space='sp_anders_space', external_id='MyOrgFileCategory', version='v1'), ViewId(space='sp_anders_space', external_id='MyOrgUnit', version='v1'), ViewId(space='sp_anders_space', external_id='MyOrg360ImageStation', version='v1'), ViewId(space='sp_anders_space', external_id='MyOrgTimeSeries', version='v1'), ViewId(space='sp_anders_space', external_id='MyOrgAssetType', version='v1'), ViewId(space='sp_anders_space', external_id='MyOrgEquipmentType', version='v1'), ViewId(space='sp_anders_space', external_id='MyOrgFile', version='v1'), ViewId(space='sp_anders_space', external_id='MyOrgAsset', version='v1'), ViewId(space='sp_anders_space', external_id='MyOrgActivity', version='v1'), ViewId(space='sp_anders_space', external_id='MyOrgSourceSystem', version='v1')}, upserted=set(), deleted=set(), changed=set(), unchanged=set(), skipped=set(), failed_created=set(), failed_upserted=set(), failed_changed=set(), failed_deleted=set()),\n",
       " UploadResult(name='data_models', error_messages=[], issues=[], created={DataModelId(space='sp_anders_space', external_id='ExtensionCore', version='v1')}, upserted=set(), deleted=set(), changed=set(), unchanged=set(), skipped=set(), failed_created=set(), failed_upserted=set(), failed_changed=set(), failed_deleted=set())]"
      ]
     },
     "execution_count": 13,
     "metadata": {},
     "output_type": "execute_result"
    }
   ],
   "source": [
    "session.to.cdf.data_model()"
   ]
  },
  {
   "cell_type": "code",
   "execution_count": 14,
   "id": "aeb1a9c1-727f-40ee-bf8b-5c6b0af0f027",
   "metadata": {},
   "outputs": [],
   "source": [
    "from cognite.neat._utils.cdf.loaders import SpaceLoader"
   ]
  },
  {
   "cell_type": "code",
   "execution_count": 15,
   "id": "575e3911-defd-4653-91b3-03c8d62060fb",
   "metadata": {},
   "outputs": [
    {
     "name": "stdout",
     "output_type": "stream",
     "text": [
      "Deleted 12 views\n",
      "Deleted 1 data models\n",
      "Deleted space ['sp_anders_space']\n"
     ]
    }
   ],
   "source": [
    "SpaceLoader(client).clean(\"sp_anders_space\")"
   ]
  },
  {
   "cell_type": "code",
   "execution_count": null,
   "id": "8023e501-98dd-4b44-aa2b-5959c0a21ca4",
   "metadata": {},
   "outputs": [],
   "source": []
  }
 ],
 "metadata": {
  "kernelspec": {
   "display_name": "Python 3 (ipykernel)",
   "language": "python",
   "name": "python3"
  },
  "language_info": {
   "codemirror_mode": {
    "name": "ipython",
    "version": 3
   },
   "file_extension": ".py",
   "mimetype": "text/x-python",
   "name": "python",
   "nbconvert_exporter": "python",
   "pygments_lexer": "ipython3",
   "version": "3.12.1"
  }
 },
 "nbformat": 4,
 "nbformat_minor": 5
}
