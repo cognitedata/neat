{
 "cells": [
  {
   "cell_type": "markdown",
   "id": "89a63c3a-73c2-428c-bf4a-c92387c6f41b",
   "metadata": {},
   "source": [
    "# Extending Data Model\n",
    "\n",
    "**Prerequisite**:\n",
    "\n",
    "- Access to a CDF Project.\n",
    "- Know how to install and setup Python.\n",
    "- Launch a Python notebook.\n",
    "\n",
    "In this tutorial, we will show you how to extend a data model using the `CogniteCore` model as an example.\n"
   ]
  },
  {
   "cell_type": "markdown",
   "id": "1ec7d2c8-0d27-4d40-a255-f57564fc1ab1",
   "metadata": {},
   "source": [
    "## Creating the Base Model"
   ]
  },
  {
   "cell_type": "markdown",
   "id": "213691bd-b730-4a7f-bbaf-03ebe19ff86a",
   "metadata": {},
   "source": [
    "The `CogniteCore` model is an immutable model versioned by `Cognite`. To extend this model we first create a copy of it\n",
    "in our own space, such that we can start to do modifications to it."
   ]
  },
  {
   "cell_type": "code",
   "execution_count": 1,
   "id": "76063bc4-86cc-4d82-b62d-2e0e00df4368",
   "metadata": {},
   "outputs": [],
   "source": [
    "from cognite.neat import NeatSession, get_cognite_client"
   ]
  },
  {
   "cell_type": "code",
   "execution_count": 2,
   "id": "e2141dc2-0e5e-4997-9426-c22e282e5575",
   "metadata": {},
   "outputs": [
    {
     "name": "stdout",
     "output_type": "stream",
     "text": [
      "Found .env file in repository root. Loaded variables from .env file.\n"
     ]
    }
   ],
   "source": [
    "client = get_cognite_client(\".env\")"
   ]
  },
  {
   "cell_type": "code",
   "execution_count": 3,
   "id": "09061de3-82e1-40a5-8363-11ecc1d590ee",
   "metadata": {},
   "outputs": [
    {
     "name": "stdout",
     "output_type": "stream",
     "text": [
      "Neat Engine 2.0.3 loaded.\n"
     ]
    },
    {
     "data": {
      "text/html": [
       "<p>Success: Read UnverifiedDMSModel</p>"
      ],
      "text/plain": [
       "[]"
      ]
     },
     "execution_count": 3,
     "metadata": {},
     "output_type": "execute_result"
    }
   ],
   "source": [
    "neat = NeatSession(client, verbose=True)\n",
    "\n",
    "neat.read.cdf.data_model((\"cdf_cdm\", \"CogniteCore\", \"v1\"))"
   ]
  },
  {
   "cell_type": "markdown",
   "id": "2f3d8a35-4061-4b0f-9097-8c9624c09969",
   "metadata": {},
   "source": [
    "We have now downloaded the `CogniteCore` model, and need to run `Neat`'s verification on it"
   ]
  },
  {
   "cell_type": "code",
   "execution_count": 4,
   "id": "bf1ce523-cbfb-44ea-be18-8dbe56f0f07a",
   "metadata": {},
   "outputs": [],
   "source": [
    "issues = neat.verify()"
   ]
  },
  {
   "cell_type": "markdown",
   "id": "734dfbbb-a7e5-486b-90c9-b2d1c27d3cf5",
   "metadata": {},
   "source": [
    "The `CogniteCore` model consists of 33 views, including views for 3D, Annotation, as well as several views that are used as interfaces.\n",
    "\n",
    "We simpliy the core model by dropping these views."
   ]
  },
  {
   "cell_type": "code",
   "execution_count": 5,
   "id": "4ca48575-6876-410a-814a-ed8757ad0a9a",
   "metadata": {},
   "outputs": [
    {
     "data": {
      "text/html": [
       "<p>Success: VerifiedDMSModel &#8594; VerifiedDMSModel</p>"
      ],
      "text/plain": [
       "[]"
      ]
     },
     "execution_count": 5,
     "metadata": {},
     "output_type": "execute_result"
    }
   ],
   "source": [
    "neat.prepare.data_model.reduce(drop=[\"3D\", \"Annotation\", \"BaseViews\"])"
   ]
  },
  {
   "cell_type": "markdown",
   "id": "5349941f-efbb-4bde-92c5-3ea4328518f3",
   "metadata": {},
   "source": [
    "Next we will turn the `CogniteCore` model into the basis for our new model `Enterprise` model. This means \n",
    "we are creating an extension from the `CogniteCore`."
   ]
  },
  {
   "cell_type": "code",
   "execution_count": 6,
   "id": "0c533aa7-9b69-4a6f-98e7-a96cdfc1f65c",
   "metadata": {
    "editable": true,
    "slideshow": {
     "slide_type": ""
    },
    "tags": []
   },
   "outputs": [
    {
     "data": {
      "text/html": [
       "<p>Success: VerifiedDMSModel &#8594; VerifiedDMSModel</p>"
      ],
      "text/plain": [
       "[]"
      ]
     },
     "execution_count": 6,
     "metadata": {},
     "output_type": "execute_result"
    }
   ],
   "source": [
    "neat.prepare.data_model.to_enterprise(\n",
    "    data_model_id=(\"sp_doctrino_space\", \"ExtensionCore\", \"v1\"), org_name=\"MyOrg\", move_connections=True\n",
    ")"
   ]
  },
  {
   "cell_type": "markdown",
   "id": "d24f6f4a-c5c0-462d-bc8e-06b9eb95fee7",
   "metadata": {},
   "source": [
    "Note that we set `move_connections=True`. This repeats all connections in the `CogniteCore` model and updates the value type to match our new types.\n",
    "\n",
    "We can show the results by using the `show.data_model()` method."
   ]
  },
  {
   "cell_type": "code",
   "execution_count": 7,
   "id": "309ecda9-bbcf-482c-bdd9-3e66d96ee161",
   "metadata": {},
   "outputs": [
    {
     "name": "stdout",
     "output_type": "stream",
     "text": [
      "http_purl.org_cognite_neat_data-model_verified_physical_sp_doctrino_space_ExtensionCore_v1.html\n"
     ]
    },
    {
     "data": {
      "text/html": [
       "\n",
       "        <iframe\n",
       "            width=\"100%\"\n",
       "            height=\"750px\"\n",
       "            src=\"http_purl.org_cognite_neat_data-model_verified_physical_sp_doctrino_space_ExtensionCore_v1.html\"\n",
       "            frameborder=\"0\"\n",
       "            allowfullscreen\n",
       "            \n",
       "        ></iframe>\n",
       "        "
      ],
      "text/plain": [
       "<IPython.lib.display.IFrame at 0x262bcd451f0>"
      ]
     },
     "execution_count": 7,
     "metadata": {},
     "output_type": "execute_result"
    }
   ],
   "source": [
    "neat.show.data_model()"
   ]
  },
  {
   "cell_type": "markdown",
   "id": "e8baac0a-104b-40d7-be8e-feba27d12454",
   "metadata": {},
   "source": [
    "The new enterprise model is now ready. We can now publish it to CDF "
   ]
  },
  {
   "cell_type": "code",
   "execution_count": 8,
   "id": "f27e25fe-9c94-4514-b235-d27c5e713e04",
   "metadata": {},
   "outputs": [
    {
     "name": "stdout",
     "output_type": "stream",
     "text": [
      "You can inspect the details with the .inspect.outcome.data_model(...) method.\n"
     ]
    },
    {
     "data": {
      "text/html": [
       "<style type=\"text/css\">\n",
       "</style>\n",
       "<table id=\"T_ae3c4\">\n",
       "  <thead>\n",
       "    <tr>\n",
       "      <th class=\"blank level0\" >&nbsp;</th>\n",
       "      <th id=\"T_ae3c4_level0_col0\" class=\"col_heading level0 col0\" >name</th>\n",
       "      <th id=\"T_ae3c4_level0_col1\" class=\"col_heading level0 col1\" >unchanged</th>\n",
       "    </tr>\n",
       "  </thead>\n",
       "  <tbody>\n",
       "    <tr>\n",
       "      <th id=\"T_ae3c4_level0_row0\" class=\"row_heading level0 row0\" >0</th>\n",
       "      <td id=\"T_ae3c4_row0_col0\" class=\"data row0 col0\" >spaces</td>\n",
       "      <td id=\"T_ae3c4_row0_col1\" class=\"data row0 col1\" >1</td>\n",
       "    </tr>\n",
       "    <tr>\n",
       "      <th id=\"T_ae3c4_level0_row1\" class=\"row_heading level0 row1\" >1</th>\n",
       "      <td id=\"T_ae3c4_row1_col0\" class=\"data row1 col0\" >containers</td>\n",
       "      <td id=\"T_ae3c4_row1_col1\" class=\"data row1 col1\" >11</td>\n",
       "    </tr>\n",
       "    <tr>\n",
       "      <th id=\"T_ae3c4_level0_row2\" class=\"row_heading level0 row2\" >2</th>\n",
       "      <td id=\"T_ae3c4_row2_col0\" class=\"data row2 col0\" >views</td>\n",
       "      <td id=\"T_ae3c4_row2_col1\" class=\"data row2 col1\" >11</td>\n",
       "    </tr>\n",
       "    <tr>\n",
       "      <th id=\"T_ae3c4_level0_row3\" class=\"row_heading level0 row3\" >3</th>\n",
       "      <td id=\"T_ae3c4_row3_col0\" class=\"data row3 col0\" >data_models</td>\n",
       "      <td id=\"T_ae3c4_row3_col1\" class=\"data row3 col1\" >1</td>\n",
       "    </tr>\n",
       "    <tr>\n",
       "      <th id=\"T_ae3c4_level0_row4\" class=\"row_heading level0 row4\" >4</th>\n",
       "      <td id=\"T_ae3c4_row4_col0\" class=\"data row4 col0\" >nodes</td>\n",
       "      <td id=\"T_ae3c4_row4_col1\" class=\"data row4 col1\" >0</td>\n",
       "    </tr>\n",
       "  </tbody>\n",
       "</table>\n"
      ],
      "text/plain": [
       "[UploadResult(name='spaces', error_messages=[], issues=[], created=set(), upserted=set(), deleted=set(), changed=set(), unchanged={'sp_doctrino_space'}, skipped=set(), failed_created=set(), failed_upserted=set(), failed_changed=set(), failed_deleted=set()),\n",
       " UploadResult(name='containers', error_messages=[], issues=[], created=set(), upserted=set(), deleted=set(), changed=set(), unchanged={ContainerId(space='sp_doctrino_space', external_id='MyOrgAssetType'), ContainerId(space='sp_doctrino_space', external_id='MyOrgTimeSeries'), ContainerId(space='sp_doctrino_space', external_id='MyOrgFile'), ContainerId(space='sp_doctrino_space', external_id='MyOrgUnit'), ContainerId(space='sp_doctrino_space', external_id='MyOrgEquipmentType'), ContainerId(space='sp_doctrino_space', external_id='MyOrgFileCategory'), ContainerId(space='sp_doctrino_space', external_id='MyOrgEquipment'), ContainerId(space='sp_doctrino_space', external_id='MyOrgAssetClass'), ContainerId(space='sp_doctrino_space', external_id='MyOrgActivity'), ContainerId(space='sp_doctrino_space', external_id='MyOrgSourceSystem'), ContainerId(space='sp_doctrino_space', external_id='MyOrgAsset')}, skipped=set(), failed_created=set(), failed_upserted=set(), failed_changed=set(), failed_deleted=set()),\n",
       " UploadResult(name='views', error_messages=[], issues=[], created=set(), upserted=set(), deleted=set(), changed=set(), unchanged={ViewId(space='sp_doctrino_space', external_id='MyOrgAssetClass', version='v1'), ViewId(space='sp_doctrino_space', external_id='MyOrgUnit', version='v1'), ViewId(space='sp_doctrino_space', external_id='MyOrgEquipmentType', version='v1'), ViewId(space='sp_doctrino_space', external_id='MyOrgSourceSystem', version='v1'), ViewId(space='sp_doctrino_space', external_id='MyOrgAssetType', version='v1'), ViewId(space='sp_doctrino_space', external_id='MyOrgAsset', version='v1'), ViewId(space='sp_doctrino_space', external_id='MyOrgActivity', version='v1'), ViewId(space='sp_doctrino_space', external_id='MyOrgTimeSeries', version='v1'), ViewId(space='sp_doctrino_space', external_id='MyOrgEquipment', version='v1'), ViewId(space='sp_doctrino_space', external_id='MyOrgFile', version='v1'), ViewId(space='sp_doctrino_space', external_id='MyOrgFileCategory', version='v1')}, skipped=set(), failed_created=set(), failed_upserted=set(), failed_changed=set(), failed_deleted=set()),\n",
       " UploadResult(name='data_models', error_messages=[], issues=[], created=set(), upserted=set(), deleted=set(), changed=set(), unchanged={DataModelId(space='sp_doctrino_space', external_id='ExtensionCore', version='v1')}, skipped=set(), failed_created=set(), failed_upserted=set(), failed_changed=set(), failed_deleted=set()),\n",
       " UploadResult(name='nodes', error_messages=[], issues=[], created=set(), upserted=set(), deleted=set(), changed=set(), unchanged=set(), skipped=set(), failed_created=set(), failed_upserted=set(), failed_changed=set(), failed_deleted=set())]"
      ]
     },
     "execution_count": 8,
     "metadata": {},
     "output_type": "execute_result"
    }
   ],
   "source": [
    "neat.to.cdf.data_model()"
   ]
  },
  {
   "cell_type": "markdown",
   "id": "508f874d-4df4-4908-9116-e4db596cd72a",
   "metadata": {
    "editable": true,
    "slideshow": {
     "slide_type": ""
    },
    "tags": []
   },
   "source": [
    "<img src=\"../../artifacts/figs/core_extension.png\" width=\"800\">"
   ]
  },
  {
   "cell_type": "markdown",
   "id": "426e4f0f-bcd5-4943-83a4-10460f68ec46",
   "metadata": {
    "editable": true,
    "slideshow": {
     "slide_type": ""
    },
    "tags": []
   },
   "source": [
    "Or we can dump it a spreadsheet and work on it from there."
   ]
  },
  {
   "cell_type": "code",
   "execution_count": 9,
   "id": "06df8a88-2afa-49dc-8df3-d29987e7a988",
   "metadata": {
    "editable": true,
    "slideshow": {
     "slide_type": ""
    },
    "tags": []
   },
   "outputs": [],
   "source": [
    "neat.to.excel(\"my_extension.xlsx\")"
   ]
  },
  {
   "cell_type": "markdown",
   "id": "10536ddb-a02b-4c99-bd85-36d1f5bab6b2",
   "metadata": {
    "editable": true,
    "slideshow": {
     "slide_type": ""
    },
    "tags": []
   },
   "source": [
    "## Adding New Properties"
   ]
  },
  {
   "cell_type": "markdown",
   "id": "2e160d5d-5919-4cab-bb5e-eb33e7998fe5",
   "metadata": {
    "editable": true,
    "slideshow": {
     "slide_type": ""
    },
    "tags": []
   },
   "source": [
    "In the spreadsheet, we have added the two properties `location` and `subLocation` to the `Asset` view. In addition, we have added our on container `myContainer` in the container sheet."
   ]
  },
  {
   "cell_type": "markdown",
   "id": "1ec4bf5c-69db-4d97-aaf1-806f56830a23",
   "metadata": {
    "editable": true,
    "slideshow": {
     "slide_type": ""
    },
    "tags": []
   },
   "source": [
    "<img src=\"../../artifacts/figs/core_extension_excel.png\" width=\"800\">"
   ]
  },
  {
   "cell_type": "markdown",
   "id": "34149885-e151-464f-a0a7-b312a4bf7cef",
   "metadata": {
    "editable": true,
    "slideshow": {
     "slide_type": ""
    },
    "tags": []
   },
   "source": [
    "We start a new `NeatSession` to load this new model publish it to CDF"
   ]
  },
  {
   "cell_type": "code",
   "execution_count": 10,
   "id": "6da1c12d-05a3-4ca7-be2e-57371bed1a97",
   "metadata": {
    "editable": true,
    "slideshow": {
     "slide_type": ""
    },
    "tags": []
   },
   "outputs": [
    {
     "name": "stdout",
     "output_type": "stream",
     "text": [
      "Neat Engine 2.0.3 loaded.\n"
     ]
    }
   ],
   "source": [
    "neat = NeatSession(client)"
   ]
  },
  {
   "cell_type": "code",
   "execution_count": 11,
   "id": "152f957c-28c0-44e7-879b-62a60c5720e0",
   "metadata": {
    "editable": true,
    "slideshow": {
     "slide_type": ""
    },
    "tags": []
   },
   "outputs": [
    {
     "data": {
      "text/html": [
       "<p>Success: Read UnverifiedDMSModel</p>"
      ],
      "text/plain": [
       "[]"
      ]
     },
     "execution_count": 11,
     "metadata": {},
     "output_type": "execute_result"
    }
   ],
   "source": [
    "neat.read.excel(\"my_extension.xlsx\")"
   ]
  },
  {
   "cell_type": "code",
   "execution_count": 12,
   "id": "d61893af-449b-4015-af60-77ba680809db",
   "metadata": {
    "editable": true,
    "slideshow": {
     "slide_type": ""
    },
    "tags": []
   },
   "outputs": [
    {
     "data": {
      "text/html": [
       "<p>Success: UnverifiedDMSModel &#8594; VerifiedDMSModel</p>"
      ],
      "text/plain": [
       "[]"
      ]
     },
     "execution_count": 12,
     "metadata": {},
     "output_type": "execute_result"
    }
   ],
   "source": [
    "neat.verify()"
   ]
  },
  {
   "cell_type": "code",
   "execution_count": 18,
   "id": "afe5e7c3-28b1-4457-8dd7-2dc3d313fa29",
   "metadata": {
    "editable": true,
    "slideshow": {
     "slide_type": ""
    },
    "tags": []
   },
   "outputs": [
    {
     "data": {
      "text/html": [
       "<div>\n",
       "<style scoped>\n",
       "    .dataframe tbody tr th:only-of-type {\n",
       "        vertical-align: middle;\n",
       "    }\n",
       "\n",
       "    .dataframe tbody tr th {\n",
       "        vertical-align: top;\n",
       "    }\n",
       "\n",
       "    .dataframe thead th {\n",
       "        text-align: right;\n",
       "    }\n",
       "</style>\n",
       "<table border=\"1\" class=\"dataframe\">\n",
       "  <thead>\n",
       "    <tr style=\"text-align: right;\">\n",
       "      <th></th>\n",
       "      <th>name</th>\n",
       "      <th>created</th>\n",
       "    </tr>\n",
       "  </thead>\n",
       "  <tbody>\n",
       "    <tr>\n",
       "      <th>0</th>\n",
       "      <td>spaces</td>\n",
       "      <td>1</td>\n",
       "    </tr>\n",
       "    <tr>\n",
       "      <th>1</th>\n",
       "      <td>containers</td>\n",
       "      <td>1</td>\n",
       "    </tr>\n",
       "    <tr>\n",
       "      <th>2</th>\n",
       "      <td>views</td>\n",
       "      <td>11</td>\n",
       "    </tr>\n",
       "    <tr>\n",
       "      <th>3</th>\n",
       "      <td>data_models</td>\n",
       "      <td>1</td>\n",
       "    </tr>\n",
       "  </tbody>\n",
       "</table>\n",
       "</div>"
      ],
      "text/plain": [
       "[UploadResult(name='spaces', error_messages=[], issues=[], created={'sp_doctrino_space'}, upserted=set(), deleted=set(), changed=set(), unchanged=set(), skipped=set(), failed_created=set(), failed_upserted=set(), failed_changed=set(), failed_deleted=set()),\n",
       " UploadResult(name='containers', error_messages=[], issues=[], created={ContainerId(space='sp_doctrino_space', external_id='myContainer')}, upserted=set(), deleted=set(), changed=set(), unchanged=set(), skipped=set(), failed_created=set(), failed_upserted=set(), failed_changed=set(), failed_deleted=set()),\n",
       " UploadResult(name='views', error_messages=[], issues=[], created={ViewId(space='sp_doctrino_space', external_id='MyOrgUnit', version='v1'), ViewId(space='sp_doctrino_space', external_id='MyOrgAsset', version='v1'), ViewId(space='sp_doctrino_space', external_id='MyOrgAssetType', version='v1'), ViewId(space='sp_doctrino_space', external_id='MyOrgActivity', version='v1'), ViewId(space='sp_doctrino_space', external_id='MyOrgEquipment', version='v1'), ViewId(space='sp_doctrino_space', external_id='MyOrgEquipmentType', version='v1'), ViewId(space='sp_doctrino_space', external_id='MyOrgSourceSystem', version='v1'), ViewId(space='sp_doctrino_space', external_id='MyOrgFileCategory', version='v1'), ViewId(space='sp_doctrino_space', external_id='MyOrgTimeSeries', version='v1'), ViewId(space='sp_doctrino_space', external_id='MyOrgFile', version='v1'), ViewId(space='sp_doctrino_space', external_id='MyOrgAssetClass', version='v1')}, upserted=set(), deleted=set(), changed=set(), unchanged=set(), skipped=set(), failed_created=set(), failed_upserted=set(), failed_changed=set(), failed_deleted=set()),\n",
       " UploadResult(name='data_models', error_messages=[], issues=[], created={DataModelId(space='sp_doctrino_space', external_id='ExtensionCore', version='v1')}, upserted=set(), deleted=set(), changed=set(), unchanged=set(), skipped=set(), failed_created=set(), failed_upserted=set(), failed_changed=set(), failed_deleted=set())]"
      ]
     },
     "execution_count": 18,
     "metadata": {},
     "output_type": "execute_result"
    }
   ],
   "source": [
    "neat.to.cdf.data_model()"
   ]
  },
  {
   "cell_type": "markdown",
   "id": "71a7abe6-e197-4b79-a676-69ab609edf5c",
   "metadata": {
    "editable": true,
    "slideshow": {
     "slide_type": ""
    },
    "tags": []
   },
   "source": [
    "This new model is now published to CDF with the two extra properties"
   ]
  },
  {
   "cell_type": "markdown",
   "id": "4b0f0577-dad4-4be0-8a8d-3f2012d4150b",
   "metadata": {
    "editable": true,
    "slideshow": {
     "slide_type": ""
    },
    "tags": []
   },
   "source": [
    "<img src=\"../../artifacts/figs/core_extension_with_properties.png\" width=\"400\">"
   ]
  },
  {
   "cell_type": "code",
   "execution_count": null,
   "id": "2d614e35-1402-4e5f-8a82-decfcdab0c72",
   "metadata": {
    "editable": true,
    "slideshow": {
     "slide_type": ""
    },
    "tags": []
   },
   "outputs": [],
   "source": []
  },
  {
   "cell_type": "code",
   "execution_count": 20,
   "id": "888713e2-a68e-4b83-ae8e-36a1563c6e61",
   "metadata": {
    "editable": true,
    "slideshow": {
     "slide_type": ""
    },
    "tags": [
     "hide"
    ]
   },
   "outputs": [
    {
     "name": "stdout",
     "output_type": "stream",
     "text": [
      "Deleted space []\n"
     ]
    }
   ],
   "source": [
    "# This cell is hidden so it does not show in the docs.\n",
    "neat._client.loaders.spaces.clean(\"sp_doctrino_space\");"
   ]
  },
  {
   "cell_type": "code",
   "execution_count": null,
   "id": "b61e33fe-a45a-44af-9f17-7d164daf9ea1",
   "metadata": {},
   "outputs": [],
   "source": []
  }
 ],
 "metadata": {
  "kernelspec": {
   "display_name": "Python 3 (ipykernel)",
   "language": "python",
   "name": "python3"
  },
  "language_info": {
   "codemirror_mode": {
    "name": "ipython",
    "version": 3
   },
   "file_extension": ".py",
   "mimetype": "text/x-python",
   "name": "python",
   "nbconvert_exporter": "python",
   "pygments_lexer": "ipython3",
   "version": "3.12.1"
  }
 },
 "nbformat": 4,
 "nbformat_minor": 5
}
