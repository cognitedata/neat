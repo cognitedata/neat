{
 "cells": [
  {
   "cell_type": "markdown",
   "id": "d8dd9ed4",
   "metadata": {},
   "source": [
    "# Asset Hierarchy Migration\n",
    "\n",
    "**Prerequisite**:\n",
    "\n",
    "- Access to a CDF Project.\n",
    "- Know how to install and setup Python.\n",
    "- Launch a Python notebook.\n",
    "\n",
    "\n",
    "\n",
    "In this tutorial, we will show you how to migrate an asset hierarchy to a data model representing the same hierarchy in CDF.\n",
    "\n",
    "This tutorial is also a good demonstration of the width of capabilities for neat, going from extracting data,\n",
    "creating a data model, export the data model, and load the data."
   ]
  },
  {
   "cell_type": "markdown",
   "id": "3df29838-9d86-4099-a07d-530a454b2a94",
   "metadata": {},
   "source": [
    "## Extract Data from Asset Hierarchy\n",
    "\n",
    "We will start by extracting the data from an existing asset hierarchy. \n",
    "\n",
    "The example we will use in this tutorial is an asset hierarchy for pumps, shown below in CDF's classic Data Exploration\n",
    "\n",
    "<img src=\"../artifacts/figs/asset_hierarchy_lift_pump_stations.png\" width=\"400\">"
   ]
  },
  {
   "cell_type": "code",
   "execution_count": 2,
   "id": "b07c82e3-2940-4c31-8252-8fe96183c4ba",
   "metadata": {},
   "outputs": [],
   "source": [
    "from cognite.neat import get_cognite_client\n",
    "from cognite.neat.graph import extractors, NeatGraphStore"
   ]
  },
  {
   "cell_type": "markdown",
   "id": "ecb953ac-5bd4-4de9-9efa-17319d9f2eba",
   "metadata": {},
   "source": [
    "We start by importing the neat extractors, NeatGraphStore, and a utility method for getting a neat client."
   ]
  },
  {
   "cell_type": "code",
   "execution_count": 3,
   "id": "f63c5b57-5402-42e9-af1e-3afd909a345c",
   "metadata": {},
   "outputs": [],
   "source": [
    "store = NeatGraphStore.from_memory_store()"
   ]
  },
  {
   "cell_type": "markdown",
   "id": "cb9dec6f-051c-4b32-a190-80d5db8fe168",
   "metadata": {},
   "source": [
    "The NeatGraphStore is a triple store that can store both data as well as schemas/data-models.\n",
    "\n",
    "This store we can populate by extracting from one of the supported sources for neat. \n",
    "\n",
    "To see which extractors are available we print the `extractors` module."
   ]
  },
  {
   "cell_type": "code",
   "execution_count": 4,
   "id": "bd94dac9-856e-45ca-b384-191b85df72ce",
   "metadata": {},
   "outputs": [
    {
     "data": {
      "text/html": [
       "<strong>Extractor</strong> An extractor is used to read data from a source into Neat's internal triple storage. <br /><div>\n",
       "<style scoped>\n",
       "    .dataframe tbody tr th:only-of-type {\n",
       "        vertical-align: middle;\n",
       "    }\n",
       "\n",
       "    .dataframe tbody tr th {\n",
       "        vertical-align: top;\n",
       "    }\n",
       "\n",
       "    .dataframe thead th {\n",
       "        text-align: right;\n",
       "    }\n",
       "</style>\n",
       "<table border=\"1\" class=\"dataframe\">\n",
       "  <thead>\n",
       "    <tr style=\"text-align: right;\">\n",
       "      <th></th>\n",
       "      <th>Extractor</th>\n",
       "      <th>Description</th>\n",
       "    </tr>\n",
       "  </thead>\n",
       "  <tbody>\n",
       "    <tr>\n",
       "      <th>0</th>\n",
       "      <td>AssetsExtractor</td>\n",
       "      <td>Extract data from Cognite Data Fusions Assets ...</td>\n",
       "    </tr>\n",
       "    <tr>\n",
       "      <th>1</th>\n",
       "      <td>MockGraphGenerator</td>\n",
       "      <td>Class used to generate mock graph data for pur...</td>\n",
       "    </tr>\n",
       "    <tr>\n",
       "      <th>2</th>\n",
       "      <td>RelationshipsExtractor</td>\n",
       "      <td>Extract data from Cognite Data Fusions Relatio...</td>\n",
       "    </tr>\n",
       "    <tr>\n",
       "      <th>3</th>\n",
       "      <td>TimeSeriesExtractor</td>\n",
       "      <td>Extract data from Cognite Data Fusions TimeSer...</td>\n",
       "    </tr>\n",
       "    <tr>\n",
       "      <th>4</th>\n",
       "      <td>SequencesExtractor</td>\n",
       "      <td>Extract data from Cognite Data Fusions Sequenc...</td>\n",
       "    </tr>\n",
       "    <tr>\n",
       "      <th>5</th>\n",
       "      <td>EventsExtractor</td>\n",
       "      <td>Extract data from Cognite Data Fusions Events ...</td>\n",
       "    </tr>\n",
       "    <tr>\n",
       "      <th>6</th>\n",
       "      <td>FilesExtractor</td>\n",
       "      <td>Extract data from Cognite Data Fusions files m...</td>\n",
       "    </tr>\n",
       "    <tr>\n",
       "      <th>7</th>\n",
       "      <td>LabelsExtractor</td>\n",
       "      <td>Extract data from Cognite Data Fusions Labels ...</td>\n",
       "    </tr>\n",
       "    <tr>\n",
       "      <th>8</th>\n",
       "      <td>RdfFileExtractor</td>\n",
       "      <td>Extract data from RDF files into Neat.</td>\n",
       "    </tr>\n",
       "    <tr>\n",
       "      <th>9</th>\n",
       "      <td>DexpiExtractor</td>\n",
       "      <td>DEXPI-XML extractor of RDF triples</td>\n",
       "    </tr>\n",
       "  </tbody>\n",
       "</table>\n",
       "</div>"
      ],
      "text/plain": [
       "<module 'cognite.neat.graph.extractors' from 'C:\\\\Users\\\\AndersAlbert\\\\Projects\\\\internal\\\\neat\\\\cognite\\\\neat\\\\graph\\\\extractors\\\\__init__.py'>"
      ]
     },
     "execution_count": 4,
     "metadata": {},
     "output_type": "execute_result"
    }
   ],
   "source": [
    "extractors"
   ]
  },
  {
   "cell_type": "markdown",
   "id": "2f39d8f7-e3a0-461d-ba1f-039b824f31d1",
   "metadata": {},
   "source": [
    "At the top of the list we see the AssetsExtractor which is what we are looking for"
   ]
  },
  {
   "cell_type": "code",
   "execution_count": 5,
   "id": "aa7cef10-2f11-4182-a910-2bfc70d2ed2d",
   "metadata": {},
   "outputs": [
    {
     "data": {
      "text/html": [
       "<h3>AssetsExtractor</h3><p>Extract data from Cognite Data Fusions Assets into Neat.<br /><strong>Available factory methods:</strong><br /><ul style=\"list-style-type:circle;\"><li><em>.from_dataset</em></li><li><em>.from_file</em></li><li><em>.from_hierarchy</em></li></ul></p>"
      ],
      "text/plain": [
       "cognite.neat.graph.extractors._classic_cdf._assets.AssetsExtractor"
      ]
     },
     "execution_count": 5,
     "metadata": {},
     "output_type": "execute_result"
    }
   ],
   "source": [
    "extractors.AssetsExtractor"
   ]
  },
  {
   "cell_type": "markdown",
   "id": "925f0523-fcea-4e75-a16b-6ed9d2cbaf50",
   "metadata": {},
   "source": [
    "We see that there is a `.from_hierarchy` fatory method that fits well with what we want to do"
   ]
  },
  {
   "cell_type": "code",
   "execution_count": 6,
   "id": "196b5d39-ea23-4ff3-a6f4-5899bda7d6ad",
   "metadata": {},
   "outputs": [
    {
     "name": "stdout",
     "output_type": "stream",
     "text": [
      "Found .env file in repository root. Loaded variables from .env file.\n"
     ]
    }
   ],
   "source": [
    "client = get_cognite_client()"
   ]
  },
  {
   "cell_type": "markdown",
   "id": "422ba872-a6a9-42e2-99c2-949ab2b35620",
   "metadata": {},
   "source": [
    "Note that the utility function `get_cognite_client` will prompt us for credentials if it doesn't find a `.env` file in the repo root."
   ]
  },
  {
   "cell_type": "code",
   "execution_count": 7,
   "id": "fbe6658c-4c8c-434a-b862-80c0aa89754a",
   "metadata": {},
   "outputs": [],
   "source": [
    "asset_extractor = extractors.AssetsExtractor.from_hierarchy(client, root_asset_external_id=\"lift_pump_stations:root\")"
   ]
  },
  {
   "cell_type": "markdown",
   "id": "97bbba75-74fb-4bf3-b6ec-fcb0e3c40e06",
   "metadata": {},
   "source": [
    "The asset extractor is now ready and can be written to the store."
   ]
  },
  {
   "cell_type": "code",
   "execution_count": 8,
   "id": "aae9e76d-ad13-4a04-84cb-e0f89515d37c",
   "metadata": {},
   "outputs": [],
   "source": [
    "store.write(asset_extractor)"
   ]
  },
  {
   "cell_type": "markdown",
   "id": "20e47b2a-2c3f-4741-9101-f85798090ee2",
   "metadata": {},
   "source": [
    "We can inspect the store to see what changes have been applied to it:"
   ]
  },
  {
   "cell_type": "code",
   "execution_count": 9,
   "id": "cd28f619-3de5-4a84-8ba6-2d6eaa3df1b0",
   "metadata": {},
   "outputs": [
    {
     "data": {
      "text/html": [
       "<strong>NeatGraphStore</strong> A graph store is a container for storing triples. It can be queried and transformed to extract information.<br /><strong>Provenance</strong> Provenance is a record of changes that have occurred in the graph store.<br /><div>\n",
       "<style scoped>\n",
       "    .dataframe tbody tr th:only-of-type {\n",
       "        vertical-align: middle;\n",
       "    }\n",
       "\n",
       "    .dataframe tbody tr th {\n",
       "        vertical-align: top;\n",
       "    }\n",
       "\n",
       "    .dataframe thead th {\n",
       "        text-align: right;\n",
       "    }\n",
       "</style>\n",
       "<table border=\"1\" class=\"dataframe\">\n",
       "  <thead>\n",
       "    <tr style=\"text-align: right;\">\n",
       "      <th></th>\n",
       "      <th>Agent</th>\n",
       "      <th>Activity</th>\n",
       "      <th>Entity</th>\n",
       "      <th>Description</th>\n",
       "    </tr>\n",
       "  </thead>\n",
       "  <tbody>\n",
       "    <tr>\n",
       "      <th>0</th>\n",
       "      <td>http://purl.org/cognite/neat#agent</td>\n",
       "      <td>http://purl.org/cognite/neat#activity-1678c7c5...</td>\n",
       "      <td>http://purl.org/cognite/neat#graph-store</td>\n",
       "      <td>Initialize graph store as Memory</td>\n",
       "    </tr>\n",
       "    <tr>\n",
       "      <th>1</th>\n",
       "      <td>http://purl.org/cognite/neat#agent</td>\n",
       "      <td>http://purl.org/cognite/neat#activity-1678c7c5...</td>\n",
       "      <td>http://purl.org/cognite/neat#graph-store</td>\n",
       "      <td>Extracted triples to graph store using AssetsE...</td>\n",
       "    </tr>\n",
       "  </tbody>\n",
       "</table>\n",
       "</div>"
      ],
      "text/plain": [
       "<cognite.neat.graph.stores._base.NeatGraphStore at 0x179a133eed0>"
      ]
     },
     "execution_count": 9,
     "metadata": {},
     "output_type": "execute_result"
    }
   ],
   "source": [
    "store"
   ]
  },
  {
   "cell_type": "markdown",
   "id": "92516916-f408-4ab3-9850-24308b1a3ea3",
   "metadata": {},
   "source": [
    "## Infering Data Model from Data"
   ]
  },
  {
   "cell_type": "markdown",
   "id": "2134c28e-3c7c-430e-92af-21758f3fb03f",
   "metadata": {},
   "source": [
    "To infer a data model from the data we will use an importer"
   ]
  },
  {
   "cell_type": "code",
   "execution_count": 10,
   "id": "871e3c87-7447-4adc-9de1-5bedfa5901ad",
   "metadata": {},
   "outputs": [],
   "source": [
    "from cognite.neat.rules import importers"
   ]
  },
  {
   "cell_type": "code",
   "execution_count": 11,
   "id": "eed889b8-9449-4c61-b5b1-45c8bb227fb3",
   "metadata": {},
   "outputs": [
    {
     "data": {
      "text/html": [
       "<strong>Importer</strong> An importer reads data/schema/data model from a source and converts it into Neat's representation of a data model called <em>Rules</em>.<br /><div>\n",
       "<style scoped>\n",
       "    .dataframe tbody tr th:only-of-type {\n",
       "        vertical-align: middle;\n",
       "    }\n",
       "\n",
       "    .dataframe tbody tr th {\n",
       "        vertical-align: top;\n",
       "    }\n",
       "\n",
       "    .dataframe thead th {\n",
       "        text-align: right;\n",
       "    }\n",
       "</style>\n",
       "<table border=\"1\" class=\"dataframe\">\n",
       "  <thead>\n",
       "    <tr style=\"text-align: right;\">\n",
       "      <th></th>\n",
       "      <th>Importer</th>\n",
       "      <th>Description</th>\n",
       "    </tr>\n",
       "  </thead>\n",
       "  <tbody>\n",
       "    <tr>\n",
       "      <th>0</th>\n",
       "      <td>OWLImporter</td>\n",
       "      <td>Convert OWL ontology to tables/ transformation...</td>\n",
       "    </tr>\n",
       "    <tr>\n",
       "      <th>1</th>\n",
       "      <td>DMSImporter</td>\n",
       "      <td>Imports a Data Model from Cognite Data Fusion.</td>\n",
       "    </tr>\n",
       "    <tr>\n",
       "      <th>2</th>\n",
       "      <td>ExcelImporter</td>\n",
       "      <td>Import rules from an Excel file.</td>\n",
       "    </tr>\n",
       "    <tr>\n",
       "      <th>3</th>\n",
       "      <td>GoogleSheetImporter</td>\n",
       "      <td>Import rules from a Google Sheet.</td>\n",
       "    </tr>\n",
       "    <tr>\n",
       "      <th>4</th>\n",
       "      <td>DTDLImporter</td>\n",
       "      <td>Importer from Azure Digital Twin - DTDL (Digit...</td>\n",
       "    </tr>\n",
       "    <tr>\n",
       "      <th>5</th>\n",
       "      <td>YAMLImporter</td>\n",
       "      <td>Imports the rules from a YAML file.</td>\n",
       "    </tr>\n",
       "    <tr>\n",
       "      <th>6</th>\n",
       "      <td>InferenceImporter</td>\n",
       "      <td>Infers rules from a triple store.</td>\n",
       "    </tr>\n",
       "  </tbody>\n",
       "</table>\n",
       "</div>"
      ],
      "text/plain": [
       "<module 'cognite.neat.rules.importers' from 'C:\\\\Users\\\\AndersAlbert\\\\Projects\\\\internal\\\\neat\\\\cognite\\\\neat\\\\rules\\\\importers\\\\__init__.py'>"
      ]
     },
     "execution_count": 11,
     "metadata": {},
     "output_type": "execute_result"
    }
   ],
   "source": [
    "importers"
   ]
  },
  {
   "cell_type": "markdown",
   "id": "3808a99b-ffbd-4a96-b656-aaae1d9ebcae",
   "metadata": {},
   "source": [
    "We see that there are multiple importers availabe, but we will use the `InferenceImporter`"
   ]
  },
  {
   "cell_type": "code",
   "execution_count": 12,
   "id": "4fcab172-c8d0-478b-95c6-dcc2aa1ff1fa",
   "metadata": {},
   "outputs": [
    {
     "data": {
      "text/html": [
       "<h3>InferenceImporter</h3><p>Infers rules from a triple store.<br /><br />    Rules inference through analysis of knowledge graph provided in various formats.<br />    Use the factory methods to create an triples store from sources such as<br />    RDF files, JSON files, YAML files, XML files, or directly from a graph store.<br /><strong>Available factory methods:</strong><br /><ul style=\"list-style-type:circle;\"><li><em>.from_graph_store</em></li><li><em>.from_json_file</em></li><li><em>.from_rdf_file</em></li><li><em>.from_xml_file</em></li><li><em>.from_yaml_file</em></li></ul></p>"
      ],
      "text/plain": [
       "cognite.neat.rules.importers._inference2rules.InferenceImporter"
      ]
     },
     "execution_count": 12,
     "metadata": {},
     "output_type": "execute_result"
    }
   ],
   "source": [
    "importers.InferenceImporter"
   ]
  },
  {
   "cell_type": "code",
   "execution_count": 13,
   "id": "fc3eff2a-bd19-4336-b321-38a989d7cda8",
   "metadata": {},
   "outputs": [],
   "source": [
    "importer = importers.InferenceImporter.from_graph_store(store)"
   ]
  },
  {
   "cell_type": "markdown",
   "id": "32893008-e984-49f1-8e04-a94f40400a94",
   "metadata": {},
   "source": [
    "Then we use the `.to_rules` method to convert the data into `Rules` which is `Neat`'s format for data models."
   ]
  },
  {
   "cell_type": "code",
   "execution_count": 14,
   "id": "130be0d2-72c9-4f9c-9374-d71c3d9a361e",
   "metadata": {},
   "outputs": [],
   "source": [
    "rules, issues = importer.to_rules()"
   ]
  },
  {
   "cell_type": "markdown",
   "id": "4bd0aaea-6c5b-455b-8d93-f374544a3168",
   "metadata": {},
   "source": [
    "First we check if there were any issues with creating the rules, and we fing one warning"
   ]
  },
  {
   "cell_type": "code",
   "execution_count": 15,
   "id": "cfbebeaa-f297-4110-8fb5-8fc6ed46aa78",
   "metadata": {},
   "outputs": [
    {
     "data": {
      "text/html": [
       "<div>\n",
       "<style scoped>\n",
       "    .dataframe tbody tr th:only-of-type {\n",
       "        vertical-align: middle;\n",
       "    }\n",
       "\n",
       "    .dataframe tbody tr th {\n",
       "        vertical-align: top;\n",
       "    }\n",
       "\n",
       "    .dataframe thead th {\n",
       "        text-align: right;\n",
       "    }\n",
       "</style>\n",
       "<table border=\"1\" class=\"dataframe\">\n",
       "  <thead>\n",
       "    <tr style=\"text-align: right;\">\n",
       "      <th></th>\n",
       "      <th>field_name</th>\n",
       "      <th>value</th>\n",
       "    </tr>\n",
       "  </thead>\n",
       "  <tbody>\n",
       "    <tr>\n",
       "      <th>0</th>\n",
       "      <td>property</td>\n",
       "      <td>Shape__Length</td>\n",
       "    </tr>\n",
       "  </tbody>\n",
       "</table>\n",
       "</div>"
      ],
      "text/plain": [
       "IssueList([MoreThanOneNonAlphanumericCharacterWarning(field_name='property', value='Shape__Length')])"
      ]
     },
     "execution_count": 15,
     "metadata": {},
     "output_type": "execute_result"
    }
   ],
   "source": [
    "issues"
   ]
  },
  {
   "cell_type": "markdown",
   "id": "4ab723c5-b67f-40d5-9ce0-085c89137a1e",
   "metadata": {},
   "source": [
    "Then, we inspect the classes found along with the properties"
   ]
  },
  {
   "cell_type": "code",
   "execution_count": 16,
   "id": "78c8a0f3-64c4-4c6c-8924-888d36aad6ce",
   "metadata": {},
   "outputs": [
    {
     "data": {
      "text/html": [
       "<div>\n",
       "<style scoped>\n",
       "    .dataframe tbody tr th:only-of-type {\n",
       "        vertical-align: middle;\n",
       "    }\n",
       "\n",
       "    .dataframe tbody tr th {\n",
       "        vertical-align: top;\n",
       "    }\n",
       "\n",
       "    .dataframe thead th {\n",
       "        text-align: right;\n",
       "    }\n",
       "</style>\n",
       "<table border=\"1\" class=\"dataframe\">\n",
       "  <thead>\n",
       "    <tr style=\"text-align: right;\">\n",
       "      <th></th>\n",
       "      <th>class_</th>\n",
       "      <th>reference</th>\n",
       "      <th>match_type</th>\n",
       "      <th>comment</th>\n",
       "    </tr>\n",
       "  </thead>\n",
       "  <tbody>\n",
       "    <tr>\n",
       "      <th>0</th>\n",
       "      <td>neat:Asset</td>\n",
       "      <td>http://purl.org/cognite/neat#Asset</td>\n",
       "      <td>exact</td>\n",
       "      <td>Inferred from knowledge graph, where this clas...</td>\n",
       "    </tr>\n",
       "  </tbody>\n",
       "</table>\n",
       "</div>"
      ],
      "text/plain": [
       "SheetList[InformationClass](data=[InformationClass(validators_to_skip=set(), class_=class(prefix=neat,suffix=Asset), name=None, description=None, parent=None, reference=Url('http://purl.org/cognite/neat#Asset'), match_type='exact', comment='Inferred from knowledge graph, where this class has <245> instances')])"
      ]
     },
     "execution_count": 16,
     "metadata": {},
     "output_type": "execute_result"
    }
   ],
   "source": [
    "rules.classes"
   ]
  },
  {
   "cell_type": "code",
   "execution_count": 17,
   "id": "7a07e396-b1f5-4f21-b03a-02febf639ee9",
   "metadata": {},
   "outputs": [
    {
     "data": {
      "text/html": [
       "<div>\n",
       "<style scoped>\n",
       "    .dataframe tbody tr th:only-of-type {\n",
       "        vertical-align: middle;\n",
       "    }\n",
       "\n",
       "    .dataframe tbody tr th {\n",
       "        vertical-align: top;\n",
       "    }\n",
       "\n",
       "    .dataframe thead th {\n",
       "        text-align: right;\n",
       "    }\n",
       "</style>\n",
       "<table border=\"1\" class=\"dataframe\">\n",
       "  <thead>\n",
       "    <tr style=\"text-align: right;\">\n",
       "      <th></th>\n",
       "      <th>class_</th>\n",
       "      <th>property_</th>\n",
       "      <th>value_type</th>\n",
       "      <th>max_count</th>\n",
       "      <th>reference</th>\n",
       "      <th>transformation</th>\n",
       "      <th>comment</th>\n",
       "      <th>inherited</th>\n",
       "    </tr>\n",
       "  </thead>\n",
       "  <tbody>\n",
       "    <tr>\n",
       "      <th>0</th>\n",
       "      <td>neat:Asset</td>\n",
       "      <td>name</td>\n",
       "      <td>string</td>\n",
       "      <td>1</td>\n",
       "      <td>http://purl.org/cognite/neat#name</td>\n",
       "      <td>neat:Asset(neat:name)</td>\n",
       "      <td>Class &lt;Asset&gt; has property &lt;name&gt; with value t...</td>\n",
       "      <td>False</td>\n",
       "    </tr>\n",
       "    <tr>\n",
       "      <th>1</th>\n",
       "      <td>neat:Asset</td>\n",
       "      <td>external_id</td>\n",
       "      <td>string</td>\n",
       "      <td>1</td>\n",
       "      <td>http://purl.org/cognite/neat#external_id</td>\n",
       "      <td>neat:Asset(neat:external_id)</td>\n",
       "      <td>Class &lt;Asset&gt; has property &lt;external_id&gt; with ...</td>\n",
       "      <td>False</td>\n",
       "    </tr>\n",
       "    <tr>\n",
       "      <th>2</th>\n",
       "      <td>neat:Asset</td>\n",
       "      <td>created_time</td>\n",
       "      <td>dateTime</td>\n",
       "      <td>1</td>\n",
       "      <td>http://purl.org/cognite/neat#created_time</td>\n",
       "      <td>neat:Asset(neat:created_time)</td>\n",
       "      <td>Class &lt;Asset&gt; has property &lt;created_time&gt; with...</td>\n",
       "      <td>False</td>\n",
       "    </tr>\n",
       "    <tr>\n",
       "      <th>3</th>\n",
       "      <td>neat:Asset</td>\n",
       "      <td>last_updated_time</td>\n",
       "      <td>dateTime</td>\n",
       "      <td>1</td>\n",
       "      <td>http://purl.org/cognite/neat#last_updated_time</td>\n",
       "      <td>neat:Asset(neat:last_updated_time)</td>\n",
       "      <td>Class &lt;Asset&gt; has property &lt;last_updated_time&gt;...</td>\n",
       "      <td>False</td>\n",
       "    </tr>\n",
       "    <tr>\n",
       "      <th>4</th>\n",
       "      <td>neat:Asset</td>\n",
       "      <td>DesignPointFlowGPM</td>\n",
       "      <td>double</td>\n",
       "      <td>1</td>\n",
       "      <td>http://purl.org/cognite/neat#DesignPointFlowGPM</td>\n",
       "      <td>neat:Asset(neat:DesignPointFlowGPM)</td>\n",
       "      <td>Class &lt;Asset&gt; has property &lt;DesignPointFlowGPM...</td>\n",
       "      <td>False</td>\n",
       "    </tr>\n",
       "    <tr>\n",
       "      <th>5</th>\n",
       "      <td>neat:Asset</td>\n",
       "      <td>DesignPointHeadFT</td>\n",
       "      <td>double</td>\n",
       "      <td>1</td>\n",
       "      <td>http://purl.org/cognite/neat#DesignPointHeadFT</td>\n",
       "      <td>neat:Asset(neat:DesignPointHeadFT)</td>\n",
       "      <td>Class &lt;Asset&gt; has property &lt;DesignPointHeadFT&gt;...</td>\n",
       "      <td>False</td>\n",
       "    </tr>\n",
       "    <tr>\n",
       "      <th>6</th>\n",
       "      <td>neat:Asset</td>\n",
       "      <td>Enabled</td>\n",
       "      <td>double</td>\n",
       "      <td>1</td>\n",
       "      <td>http://purl.org/cognite/neat#Enabled</td>\n",
       "      <td>neat:Asset(neat:Enabled)</td>\n",
       "      <td>Class &lt;Asset&gt; has property &lt;Enabled&gt; with valu...</td>\n",
       "      <td>False</td>\n",
       "    </tr>\n",
       "    <tr>\n",
       "      <th>7</th>\n",
       "      <td>neat:Asset</td>\n",
       "      <td>HighHeadShutOff</td>\n",
       "      <td>double</td>\n",
       "      <td>1</td>\n",
       "      <td>http://purl.org/cognite/neat#HighHeadShutOff</td>\n",
       "      <td>neat:Asset(neat:HighHeadShutOff)</td>\n",
       "      <td>Class &lt;Asset&gt; has property &lt;HighHeadShutOff&gt; w...</td>\n",
       "      <td>False</td>\n",
       "    </tr>\n",
       "    <tr>\n",
       "      <th>8</th>\n",
       "      <td>neat:Asset</td>\n",
       "      <td>LowHeadFT</td>\n",
       "      <td>double</td>\n",
       "      <td>1</td>\n",
       "      <td>http://purl.org/cognite/neat#LowHeadFT</td>\n",
       "      <td>neat:Asset(neat:LowHeadFT)</td>\n",
       "      <td>Class &lt;Asset&gt; has property &lt;LowHeadFT&gt; with va...</td>\n",
       "      <td>False</td>\n",
       "    </tr>\n",
       "    <tr>\n",
       "      <th>9</th>\n",
       "      <td>neat:Asset</td>\n",
       "      <td>LowHeadFlowGPM</td>\n",
       "      <td>double</td>\n",
       "      <td>1</td>\n",
       "      <td>http://purl.org/cognite/neat#LowHeadFlowGPM</td>\n",
       "      <td>neat:Asset(neat:LowHeadFlowGPM)</td>\n",
       "      <td>Class &lt;Asset&gt; has property &lt;LowHeadFlowGPM&gt; wi...</td>\n",
       "      <td>False</td>\n",
       "    </tr>\n",
       "    <tr>\n",
       "      <th>10</th>\n",
       "      <td>neat:Asset</td>\n",
       "      <td>PumpHP</td>\n",
       "      <td>double</td>\n",
       "      <td>1</td>\n",
       "      <td>http://purl.org/cognite/neat#PumpHP</td>\n",
       "      <td>neat:Asset(neat:PumpHP)</td>\n",
       "      <td>Class &lt;Asset&gt; has property &lt;PumpHP&gt; with value...</td>\n",
       "      <td>False</td>\n",
       "    </tr>\n",
       "    <tr>\n",
       "      <th>11</th>\n",
       "      <td>neat:Asset</td>\n",
       "      <td>PumpOff</td>\n",
       "      <td>double</td>\n",
       "      <td>1</td>\n",
       "      <td>http://purl.org/cognite/neat#PumpOff</td>\n",
       "      <td>neat:Asset(neat:PumpOff)</td>\n",
       "      <td>Class &lt;Asset&gt; has property &lt;PumpOff&gt; with valu...</td>\n",
       "      <td>False</td>\n",
       "    </tr>\n",
       "    <tr>\n",
       "      <th>12</th>\n",
       "      <td>neat:Asset</td>\n",
       "      <td>PumpOn</td>\n",
       "      <td>double</td>\n",
       "      <td>1</td>\n",
       "      <td>http://purl.org/cognite/neat#PumpOn</td>\n",
       "      <td>neat:Asset(neat:PumpOn)</td>\n",
       "      <td>Class &lt;Asset&gt; has property &lt;PumpOn&gt; with value...</td>\n",
       "      <td>False</td>\n",
       "    </tr>\n",
       "    <tr>\n",
       "      <th>13</th>\n",
       "      <td>neat:Asset</td>\n",
       "      <td>Shape__Length</td>\n",
       "      <td>double</td>\n",
       "      <td>1</td>\n",
       "      <td>http://purl.org/cognite/neat#Shape__Length</td>\n",
       "      <td>neat:Asset(neat:Shape__Length)</td>\n",
       "      <td>Class &lt;Asset&gt; has property &lt;Shape__Length&gt; wit...</td>\n",
       "      <td>False</td>\n",
       "    </tr>\n",
       "    <tr>\n",
       "      <th>14</th>\n",
       "      <td>neat:Asset</td>\n",
       "      <td>VFDSetting</td>\n",
       "      <td>double</td>\n",
       "      <td>1</td>\n",
       "      <td>http://purl.org/cognite/neat#VFDSetting</td>\n",
       "      <td>neat:Asset(neat:VFDSetting)</td>\n",
       "      <td>Class &lt;Asset&gt; has property &lt;VFDSetting&gt; with v...</td>\n",
       "      <td>False</td>\n",
       "    </tr>\n",
       "    <tr>\n",
       "      <th>15</th>\n",
       "      <td>neat:Asset</td>\n",
       "      <td>parent</td>\n",
       "      <td>neat:Asset</td>\n",
       "      <td>1</td>\n",
       "      <td>http://purl.org/cognite/neat#parent</td>\n",
       "      <td>neat:Asset(neat:parent)</td>\n",
       "      <td>Class &lt;Asset&gt; has property &lt;parent&gt; with value...</td>\n",
       "      <td>False</td>\n",
       "    </tr>\n",
       "    <tr>\n",
       "      <th>16</th>\n",
       "      <td>neat:Asset</td>\n",
       "      <td>root</td>\n",
       "      <td>neat:Asset</td>\n",
       "      <td>1</td>\n",
       "      <td>http://purl.org/cognite/neat#root</td>\n",
       "      <td>neat:Asset(neat:root)</td>\n",
       "      <td>Class &lt;Asset&gt; has property &lt;root&gt; with value t...</td>\n",
       "      <td>False</td>\n",
       "    </tr>\n",
       "    <tr>\n",
       "      <th>17</th>\n",
       "      <td>neat:Asset</td>\n",
       "      <td>description</td>\n",
       "      <td>string</td>\n",
       "      <td>1</td>\n",
       "      <td>http://purl.org/cognite/neat#description</td>\n",
       "      <td>neat:Asset(neat:description)</td>\n",
       "      <td>Class &lt;Asset&gt; has property &lt;description&gt; with ...</td>\n",
       "      <td>False</td>\n",
       "    </tr>\n",
       "    <tr>\n",
       "      <th>18</th>\n",
       "      <td>neat:Asset</td>\n",
       "      <td>FacilityID</td>\n",
       "      <td>string</td>\n",
       "      <td>1</td>\n",
       "      <td>http://purl.org/cognite/neat#FacilityID</td>\n",
       "      <td>neat:Asset(neat:FacilityID)</td>\n",
       "      <td>Class &lt;Asset&gt; has property &lt;FacilityID&gt; with v...</td>\n",
       "      <td>False</td>\n",
       "    </tr>\n",
       "    <tr>\n",
       "      <th>19</th>\n",
       "      <td>neat:Asset</td>\n",
       "      <td>InstallDate</td>\n",
       "      <td>string</td>\n",
       "      <td>1</td>\n",
       "      <td>http://purl.org/cognite/neat#InstallDate</td>\n",
       "      <td>neat:Asset(neat:InstallDate)</td>\n",
       "      <td>Class &lt;Asset&gt; has property &lt;InstallDate&gt; with ...</td>\n",
       "      <td>False</td>\n",
       "    </tr>\n",
       "    <tr>\n",
       "      <th>20</th>\n",
       "      <td>neat:Asset</td>\n",
       "      <td>LifeCycleStatus</td>\n",
       "      <td>string</td>\n",
       "      <td>1</td>\n",
       "      <td>http://purl.org/cognite/neat#LifeCycleStatus</td>\n",
       "      <td>neat:Asset(neat:LifeCycleStatus)</td>\n",
       "      <td>Class &lt;Asset&gt; has property &lt;LifeCycleStatus&gt; w...</td>\n",
       "      <td>False</td>\n",
       "    </tr>\n",
       "    <tr>\n",
       "      <th>21</th>\n",
       "      <td>neat:Asset</td>\n",
       "      <td>LiftStationID</td>\n",
       "      <td>string</td>\n",
       "      <td>1</td>\n",
       "      <td>http://purl.org/cognite/neat#LiftStationID</td>\n",
       "      <td>neat:Asset(neat:LiftStationID)</td>\n",
       "      <td>Class &lt;Asset&gt; has property &lt;LiftStationID&gt; wit...</td>\n",
       "      <td>False</td>\n",
       "    </tr>\n",
       "    <tr>\n",
       "      <th>22</th>\n",
       "      <td>neat:Asset</td>\n",
       "      <td>LocationDescription</td>\n",
       "      <td>string</td>\n",
       "      <td>1</td>\n",
       "      <td>http://purl.org/cognite/neat#LocationDescription</td>\n",
       "      <td>neat:Asset(neat:LocationDescription)</td>\n",
       "      <td>Class &lt;Asset&gt; has property &lt;LocationDescriptio...</td>\n",
       "      <td>False</td>\n",
       "    </tr>\n",
       "    <tr>\n",
       "      <th>23</th>\n",
       "      <td>neat:Asset</td>\n",
       "      <td>Position</td>\n",
       "      <td>string</td>\n",
       "      <td>1</td>\n",
       "      <td>http://purl.org/cognite/neat#Position</td>\n",
       "      <td>neat:Asset(neat:Position)</td>\n",
       "      <td>Class &lt;Asset&gt; has property &lt;Position&gt; with val...</td>\n",
       "      <td>False</td>\n",
       "    </tr>\n",
       "    <tr>\n",
       "      <th>24</th>\n",
       "      <td>neat:Asset</td>\n",
       "      <td>PumpModel</td>\n",
       "      <td>integer | string</td>\n",
       "      <td>1</td>\n",
       "      <td>http://purl.org/cognite/neat#PumpModel</td>\n",
       "      <td>neat:Asset(neat:PumpModel)</td>\n",
       "      <td>Class &lt;Asset&gt; has property &lt;PumpModel&gt; with va...</td>\n",
       "      <td>False</td>\n",
       "    </tr>\n",
       "    <tr>\n",
       "      <th>25</th>\n",
       "      <td>neat:Asset</td>\n",
       "      <td>VFD</td>\n",
       "      <td>string</td>\n",
       "      <td>1</td>\n",
       "      <td>http://purl.org/cognite/neat#VFD</td>\n",
       "      <td>neat:Asset(neat:VFD)</td>\n",
       "      <td>Class &lt;Asset&gt; has property &lt;VFD&gt; with value ty...</td>\n",
       "      <td>False</td>\n",
       "    </tr>\n",
       "  </tbody>\n",
       "</table>\n",
       "</div>"
      ],
      "text/plain": [
       "SheetList[InformationProperty](data=[InformationProperty(validators_to_skip=set(), class_=class(prefix=neat,suffix=Asset), property_='name', name=None, description=None, value_type=String(), min_count=None, max_count=1, default=None, reference=Url('http://purl.org/cognite/neat#name'), match_type=None, transformation=neat:Asset(neat:name), comment='Class <Asset> has property <name> with value type <string> which occurs <245> times in the graph', inherited=False), InformationProperty(validators_to_skip=set(), class_=class(prefix=neat,suffix=Asset), property_='external_id', name=None, description=None, value_type=String(), min_count=None, max_count=1, default=None, reference=Url('http://purl.org/cognite/neat#external_id'), match_type=None, transformation=neat:Asset(neat:external_id), comment='Class <Asset> has property <external_id> with value type <string> which occurs <245> times in the graph', inherited=False), InformationProperty(validators_to_skip=set(), class_=class(prefix=neat,suffix=Asset), property_='created_time', name=None, description=None, value_type=DateTime(), min_count=None, max_count=1, default=None, reference=Url('http://purl.org/cognite/neat#created_time'), match_type=None, transformation=neat:Asset(neat:created_time), comment='Class <Asset> has property <created_time> with value type <dateTime> which occurs <245> times in the graph', inherited=False), InformationProperty(validators_to_skip=set(), class_=class(prefix=neat,suffix=Asset), property_='last_updated_time', name=None, description=None, value_type=DateTime(), min_count=None, max_count=1, default=None, reference=Url('http://purl.org/cognite/neat#last_updated_time'), match_type=None, transformation=neat:Asset(neat:last_updated_time), comment='Class <Asset> has property <last_updated_time> with value type <dateTime> which occurs <245> times in the graph', inherited=False), InformationProperty(validators_to_skip=set(), class_=class(prefix=neat,suffix=Asset), property_='DesignPointFlowGPM', name=None, description=None, value_type=Double(), min_count=None, max_count=1, default=None, reference=Url('http://purl.org/cognite/neat#DesignPointFlowGPM'), match_type=None, transformation=neat:Asset(neat:DesignPointFlowGPM), comment='Class <Asset> has property <DesignPointFlowGPM> with value type <double> which occurs <245> times in the graph', inherited=False), InformationProperty(validators_to_skip=set(), class_=class(prefix=neat,suffix=Asset), property_='DesignPointHeadFT', name=None, description=None, value_type=Double(), min_count=None, max_count=1, default=None, reference=Url('http://purl.org/cognite/neat#DesignPointHeadFT'), match_type=None, transformation=neat:Asset(neat:DesignPointHeadFT), comment='Class <Asset> has property <DesignPointHeadFT> with value type <double> which occurs <245> times in the graph', inherited=False), InformationProperty(validators_to_skip=set(), class_=class(prefix=neat,suffix=Asset), property_='Enabled', name=None, description=None, value_type=Double(), min_count=None, max_count=1, default=None, reference=Url('http://purl.org/cognite/neat#Enabled'), match_type=None, transformation=neat:Asset(neat:Enabled), comment='Class <Asset> has property <Enabled> with value type <double> which occurs <245> times in the graph', inherited=False), InformationProperty(validators_to_skip=set(), class_=class(prefix=neat,suffix=Asset), property_='HighHeadShutOff', name=None, description=None, value_type=Double(), min_count=None, max_count=1, default=None, reference=Url('http://purl.org/cognite/neat#HighHeadShutOff'), match_type=None, transformation=neat:Asset(neat:HighHeadShutOff), comment='Class <Asset> has property <HighHeadShutOff> with value type <double> which occurs <245> times in the graph', inherited=False), InformationProperty(validators_to_skip=set(), class_=class(prefix=neat,suffix=Asset), property_='LowHeadFT', name=None, description=None, value_type=Double(), min_count=None, max_count=1, default=None, reference=Url('http://purl.org/cognite/neat#LowHeadFT'), match_type=None, transformation=neat:Asset(neat:LowHeadFT), comment='Class <Asset> has property <LowHeadFT> with value type <double> which occurs <245> times in the graph', inherited=False), InformationProperty(validators_to_skip=set(), class_=class(prefix=neat,suffix=Asset), property_='LowHeadFlowGPM', name=None, description=None, value_type=Double(), min_count=None, max_count=1, default=None, reference=Url('http://purl.org/cognite/neat#LowHeadFlowGPM'), match_type=None, transformation=neat:Asset(neat:LowHeadFlowGPM), comment='Class <Asset> has property <LowHeadFlowGPM> with value type <double> which occurs <245> times in the graph', inherited=False), InformationProperty(validators_to_skip=set(), class_=class(prefix=neat,suffix=Asset), property_='PumpHP', name=None, description=None, value_type=Double(), min_count=None, max_count=1, default=None, reference=Url('http://purl.org/cognite/neat#PumpHP'), match_type=None, transformation=neat:Asset(neat:PumpHP), comment='Class <Asset> has property <PumpHP> with value type <double> which occurs <245> times in the graph', inherited=False), InformationProperty(validators_to_skip=set(), class_=class(prefix=neat,suffix=Asset), property_='PumpOff', name=None, description=None, value_type=Double(), min_count=None, max_count=1, default=None, reference=Url('http://purl.org/cognite/neat#PumpOff'), match_type=None, transformation=neat:Asset(neat:PumpOff), comment='Class <Asset> has property <PumpOff> with value type <double> which occurs <245> times in the graph', inherited=False), InformationProperty(validators_to_skip=set(), class_=class(prefix=neat,suffix=Asset), property_='PumpOn', name=None, description=None, value_type=Double(), min_count=None, max_count=1, default=None, reference=Url('http://purl.org/cognite/neat#PumpOn'), match_type=None, transformation=neat:Asset(neat:PumpOn), comment='Class <Asset> has property <PumpOn> with value type <double> which occurs <245> times in the graph', inherited=False), InformationProperty(validators_to_skip=set(), class_=class(prefix=neat,suffix=Asset), property_='Shape__Length', name=None, description=None, value_type=Double(), min_count=None, max_count=1, default=None, reference=Url('http://purl.org/cognite/neat#Shape__Length'), match_type=None, transformation=neat:Asset(neat:Shape__Length), comment='Class <Asset> has property <Shape__Length> with value type <double> which occurs <245> times in the graph', inherited=False), InformationProperty(validators_to_skip=set(), class_=class(prefix=neat,suffix=Asset), property_='VFDSetting', name=None, description=None, value_type=Double(), min_count=None, max_count=1, default=None, reference=Url('http://purl.org/cognite/neat#VFDSetting'), match_type=None, transformation=neat:Asset(neat:VFDSetting), comment='Class <Asset> has property <VFDSetting> with value type <double> which occurs <245> times in the graph', inherited=False), InformationProperty(validators_to_skip=set(), class_=class(prefix=neat,suffix=Asset), property_='parent', name=None, description=None, value_type=class(prefix=neat,suffix=Asset), min_count=None, max_count=1, default=None, reference=Url('http://purl.org/cognite/neat#parent'), match_type=None, transformation=neat:Asset(neat:parent), comment='Class <Asset> has property <parent> with value type <Asset> which occurs <244> times in the graph', inherited=False), InformationProperty(validators_to_skip=set(), class_=class(prefix=neat,suffix=Asset), property_='root', name=None, description=None, value_type=class(prefix=neat,suffix=Asset), min_count=None, max_count=1, default=None, reference=Url('http://purl.org/cognite/neat#root'), match_type=None, transformation=neat:Asset(neat:root), comment='Class <Asset> has property <root> with value type <Asset> which occurs <245> times in the graph', inherited=False), InformationProperty(validators_to_skip=set(), class_=class(prefix=neat,suffix=Asset), property_='description', name=None, description=None, value_type=String(), min_count=None, max_count=1, default=None, reference=Url('http://purl.org/cognite/neat#description'), match_type=None, transformation=neat:Asset(neat:description), comment='Class <Asset> has property <description> with value type <string> which occurs <152> times in the graph', inherited=False), InformationProperty(validators_to_skip=set(), class_=class(prefix=neat,suffix=Asset), property_='FacilityID', name=None, description=None, value_type=String(), min_count=None, max_count=1, default=None, reference=Url('http://purl.org/cognite/neat#FacilityID'), match_type=None, transformation=neat:Asset(neat:FacilityID), comment='Class <Asset> has property <FacilityID> with value type <string> which occurs <162> times in the graph', inherited=False), InformationProperty(validators_to_skip=set(), class_=class(prefix=neat,suffix=Asset), property_='InstallDate', name=None, description=None, value_type=String(), min_count=None, max_count=1, default=None, reference=Url('http://purl.org/cognite/neat#InstallDate'), match_type=None, transformation=neat:Asset(neat:InstallDate), comment='Class <Asset> has property <InstallDate> with value type <string> which occurs <160> times in the graph', inherited=False), InformationProperty(validators_to_skip=set(), class_=class(prefix=neat,suffix=Asset), property_='LifeCycleStatus', name=None, description=None, value_type=String(), min_count=None, max_count=1, default=None, reference=Url('http://purl.org/cognite/neat#LifeCycleStatus'), match_type=None, transformation=neat:Asset(neat:LifeCycleStatus), comment='Class <Asset> has property <LifeCycleStatus> with value type <string> which occurs <160> times in the graph', inherited=False), InformationProperty(validators_to_skip=set(), class_=class(prefix=neat,suffix=Asset), property_='LiftStationID', name=None, description=None, value_type=String(), min_count=None, max_count=1, default=None, reference=Url('http://purl.org/cognite/neat#LiftStationID'), match_type=None, transformation=neat:Asset(neat:LiftStationID), comment='Class <Asset> has property <LiftStationID> with value type <string> which occurs <160> times in the graph', inherited=False), InformationProperty(validators_to_skip=set(), class_=class(prefix=neat,suffix=Asset), property_='LocationDescription', name=None, description=None, value_type=String(), min_count=None, max_count=1, default=None, reference=Url('http://purl.org/cognite/neat#LocationDescription'), match_type=None, transformation=neat:Asset(neat:LocationDescription), comment='Class <Asset> has property <LocationDescription> with value type <string> which occurs <160> times in the graph', inherited=False), InformationProperty(validators_to_skip=set(), class_=class(prefix=neat,suffix=Asset), property_='Position', name=None, description=None, value_type=String(), min_count=None, max_count=1, default=None, reference=Url('http://purl.org/cognite/neat#Position'), match_type=None, transformation=neat:Asset(neat:Position), comment='Class <Asset> has property <Position> with value type <string> which occurs <147> times in the graph', inherited=False), InformationProperty(validators_to_skip=set(), class_=class(prefix=neat,suffix=Asset), property_='PumpModel', name=None, description=None, value_type=MultiValueTypeInfo(types=[Integer(), String()]), min_count=None, max_count=1, default=None, reference=Url('http://purl.org/cognite/neat#PumpModel'), match_type=None, transformation=neat:Asset(neat:PumpModel), comment='Class <Asset> has property <PumpModel> with value type <integer> which occurs <6> times in the graph, with value type <string> which occurs <140> times in the graph', inherited=False), InformationProperty(validators_to_skip=set(), class_=class(prefix=neat,suffix=Asset), property_='VFD', name=None, description=None, value_type=String(), min_count=None, max_count=1, default=None, reference=Url('http://purl.org/cognite/neat#VFD'), match_type=None, transformation=neat:Asset(neat:VFD), comment='Class <Asset> has property <VFD> with value type <string> which occurs <41> times in the graph', inherited=False)])"
      ]
     },
     "execution_count": 17,
     "metadata": {},
     "output_type": "execute_result"
    }
   ],
   "source": [
    "rules.properties"
   ]
  },
  {
   "cell_type": "markdown",
   "id": "caf0044a-4fc5-4590-af61-700d360961d1",
   "metadata": {},
   "source": [
    "We notice that for example the `PumpModel` is both an integer and a string, as the `Inference` found data of both types."
   ]
  },
  {
   "cell_type": "markdown",
   "id": "7bf193ef-d0bc-4d7c-93a7-fed157127700",
   "metadata": {},
   "source": [
    "We can inspect the comment from the `Inference` type:"
   ]
  },
  {
   "cell_type": "code",
   "execution_count": 18,
   "id": "91515d15-b28a-4b6c-83fc-092f56d1532c",
   "metadata": {},
   "outputs": [
    {
     "data": {
      "text/plain": [
       "'Class <Asset> has property <PumpModel> with value type <integer> which occurs <6> times in the graph, with value type <string> which occurs <140> times in the graph'"
      ]
     },
     "execution_count": 18,
     "metadata": {},
     "output_type": "execute_result"
    }
   ],
   "source": [
    "rules.properties.data[24].comment"
   ]
  },
  {
   "cell_type": "markdown",
   "id": "771d808e-74a2-469f-a7cd-8d64182fd8d1",
   "metadata": {},
   "source": [
    "And we see that this is most likely a string as that occured much more for this field in the graph than the integer."
   ]
  },
  {
   "cell_type": "markdown",
   "id": "80b97340-90b2-4c79-9a97-326113721ee8",
   "metadata": {},
   "source": [
    "## Exporting Data Model"
   ]
  },
  {
   "cell_type": "markdown",
   "id": "9ca8d5c2-333d-4ff3-8ee6-e27058c730fb",
   "metadata": {},
   "source": [
    "Lets export our newly created data model to CDF"
   ]
  },
  {
   "cell_type": "code",
   "execution_count": 18,
   "id": "5a7b83b4-2046-4954-b249-dbc9da57ad5e",
   "metadata": {},
   "outputs": [],
   "source": [
    "from cognite.neat.rules import exporters"
   ]
  },
  {
   "cell_type": "code",
   "execution_count": 19,
   "id": "18281755-5ccc-408c-ba69-eedfacc0ff27",
   "metadata": {},
   "outputs": [
    {
     "data": {
      "text/html": [
       "<strong>Exporter</strong> An exporter converts Neat's representation of a data model called <em>Rules</em> into a schema/data model for a target format.<br /><div>\n",
       "<style scoped>\n",
       "    .dataframe tbody tr th:only-of-type {\n",
       "        vertical-align: middle;\n",
       "    }\n",
       "\n",
       "    .dataframe tbody tr th {\n",
       "        vertical-align: top;\n",
       "    }\n",
       "\n",
       "    .dataframe thead th {\n",
       "        text-align: right;\n",
       "    }\n",
       "</style>\n",
       "<table border=\"1\" class=\"dataframe\">\n",
       "  <thead>\n",
       "    <tr style=\"text-align: right;\">\n",
       "      <th></th>\n",
       "      <th>Exporter</th>\n",
       "      <th>Description</th>\n",
       "    </tr>\n",
       "  </thead>\n",
       "  <tbody>\n",
       "    <tr>\n",
       "      <th>0</th>\n",
       "      <td>DMSExporter</td>\n",
       "      <td>Export rules to Cognite Data Fusion's Data Mod...</td>\n",
       "    </tr>\n",
       "    <tr>\n",
       "      <th>1</th>\n",
       "      <td>SemanticDataModelExporter</td>\n",
       "      <td>Exports rules to a semantic data model.</td>\n",
       "    </tr>\n",
       "    <tr>\n",
       "      <th>2</th>\n",
       "      <td>OWLExporter</td>\n",
       "      <td>Exports rules to an OWL ontology.</td>\n",
       "    </tr>\n",
       "    <tr>\n",
       "      <th>3</th>\n",
       "      <td>SHACLExporter</td>\n",
       "      <td>Exports rules to a SHACL graph.</td>\n",
       "    </tr>\n",
       "    <tr>\n",
       "      <th>4</th>\n",
       "      <td>ExcelExporter</td>\n",
       "      <td>Export rules to Excel.</td>\n",
       "    </tr>\n",
       "    <tr>\n",
       "      <th>5</th>\n",
       "      <td>YAMLExporter</td>\n",
       "      <td>Export rules to YAML.</td>\n",
       "    </tr>\n",
       "  </tbody>\n",
       "</table>\n",
       "</div>"
      ],
      "text/plain": [
       "<module 'cognite.neat.rules.exporters' from 'C:\\\\Users\\\\AndersAlbert\\\\Projects\\\\internal\\\\neat\\\\cognite\\\\neat\\\\rules\\\\exporters\\\\__init__.py'>"
      ]
     },
     "execution_count": 19,
     "metadata": {},
     "output_type": "execute_result"
    }
   ],
   "source": [
    "exporters"
   ]
  },
  {
   "cell_type": "markdown",
   "id": "4fff34f4-7bc3-459f-bdd8-f13b4d401cd7",
   "metadata": {},
   "source": [
    "To export the data model we use the `DMSExporter`."
   ]
  },
  {
   "cell_type": "code",
   "execution_count": 20,
   "id": "f12fa605-90d7-4794-95ee-8d2cad1b0531",
   "metadata": {},
   "outputs": [
    {
     "data": {
      "text/html": [
       "<h3>DMSExporter</h3><p>Export rules to Cognite Data Fusion's Data Model Storage (DMS) service.</p>"
      ],
      "text/plain": [
       "cognite.neat.rules.exporters._rules2dms.DMSExporter"
      ]
     },
     "execution_count": 20,
     "metadata": {},
     "output_type": "execute_result"
    }
   ],
   "source": [
    "exporters.DMSExporter"
   ]
  },
  {
   "cell_type": "code",
   "execution_count": 21,
   "id": "5730c4c9-1244-4c7d-aa92-6ae8eb776921",
   "metadata": {},
   "outputs": [],
   "source": [
    "exporter = exporters.DMSExporter()"
   ]
  },
  {
   "cell_type": "code",
   "execution_count": 22,
   "id": "3b80bf89-bb8e-4b2b-923f-dd15fc003278",
   "metadata": {},
   "outputs": [
    {
     "name": "stderr",
     "output_type": "stream",
     "text": [
      "C:\\Users\\AndersAlbert\\AppData\\Local\\pypoetry\\Cache\\virtualenvs\\cognite-neat-WszCo0Uu-py3.12\\Lib\\site-packages\\pydantic\\main.py:176: MoreThanOneNonAlphanumericCharacterWarning: ('property', 'Shape__Length')\n",
      "  self.__pydantic_validator__.validate_python(data, self_instance=self)\n"
     ]
    }
   ],
   "source": [
    "result = exporter.export_to_cdf(rules, client)"
   ]
  },
  {
   "cell_type": "code",
   "execution_count": 42,
   "id": "2942f2bf-a5d8-49e4-bc44-9b77109ebdbb",
   "metadata": {},
   "outputs": [
    {
     "data": {
      "text/html": [
       "<div>\n",
       "<style scoped>\n",
       "    .dataframe tbody tr th:only-of-type {\n",
       "        vertical-align: middle;\n",
       "    }\n",
       "\n",
       "    .dataframe tbody tr th {\n",
       "        vertical-align: top;\n",
       "    }\n",
       "\n",
       "    .dataframe thead th {\n",
       "        text-align: right;\n",
       "    }\n",
       "</style>\n",
       "<table border=\"1\" class=\"dataframe\">\n",
       "  <thead>\n",
       "    <tr style=\"text-align: right;\">\n",
       "      <th></th>\n",
       "      <th>name</th>\n",
       "      <th>created</th>\n",
       "    </tr>\n",
       "  </thead>\n",
       "  <tbody>\n",
       "    <tr>\n",
       "      <th>0</th>\n",
       "      <td>spaces</td>\n",
       "      <td>1</td>\n",
       "    </tr>\n",
       "    <tr>\n",
       "      <th>1</th>\n",
       "      <td>containers</td>\n",
       "      <td>1</td>\n",
       "    </tr>\n",
       "    <tr>\n",
       "      <th>2</th>\n",
       "      <td>views</td>\n",
       "      <td>1</td>\n",
       "    </tr>\n",
       "    <tr>\n",
       "      <th>3</th>\n",
       "      <td>data_models</td>\n",
       "      <td>1</td>\n",
       "    </tr>\n",
       "  </tbody>\n",
       "</table>\n",
       "</div>"
      ],
      "text/plain": [
       "[UploadResult(name='spaces', error_messages=[], issues=[], created={'inferred'}, deleted=set(), changed=set(), unchanged=set(), skipped=set(), failed_created=set(), failed_upserted=set(), failed_changed=set(), failed_deleted=set()),\n",
       " UploadResult(name='containers', error_messages=[], issues=[], created={ContainerId(space='inferred', external_id='Asset')}, deleted=set(), changed=set(), unchanged=set(), skipped=set(), failed_created=set(), failed_upserted=set(), failed_changed=set(), failed_deleted=set()),\n",
       " UploadResult(name='views', error_messages=[], issues=[], created={ViewId(space='inferred', external_id='Asset', version='inferred')}, deleted=set(), changed=set(), unchanged=set(), skipped=set(), failed_created=set(), failed_upserted=set(), failed_changed=set(), failed_deleted=set()),\n",
       " UploadResult(name='data_models', error_messages=[], issues=[], created={DataModelId(space='inferred', external_id='inferred_model', version='inferred')}, deleted=set(), changed=set(), unchanged=set(), skipped=set(), failed_created=set(), failed_upserted=set(), failed_changed=set(), failed_deleted=set())]"
      ]
     },
     "execution_count": 42,
     "metadata": {},
     "output_type": "execute_result"
    }
   ],
   "source": [
    "result"
   ]
  },
  {
   "cell_type": "markdown",
   "id": "bd2035ef-0245-4d81-bced-ad1cc5cd6146",
   "metadata": {},
   "source": [
    "We see the data model was succesfully created."
   ]
  },
  {
   "cell_type": "markdown",
   "id": "13f75cfa-d61c-42c1-8c8e-dff153b95a50",
   "metadata": {},
   "source": [
    "## Populating Data Model"
   ]
  },
  {
   "cell_type": "markdown",
   "id": "13f6ebad-367e-4f3f-907f-d51c4f233091",
   "metadata": {},
   "source": [
    "To populate the data model in CDF, we use a loader."
   ]
  },
  {
   "cell_type": "code",
   "execution_count": 19,
   "id": "9a067f7c-7c4a-4520-99ff-a962111b85b2",
   "metadata": {},
   "outputs": [],
   "source": [
    "from cognite.neat.graph import loaders"
   ]
  },
  {
   "cell_type": "code",
   "execution_count": 20,
   "id": "f6bffb1a-43c5-450c-bdd3-beef9640c3a9",
   "metadata": {},
   "outputs": [
    {
     "data": {
      "text/html": [
       "<strong>Loader</strong> A loader writes data from Neat's triple storage into a target system<br /><div>\n",
       "<style scoped>\n",
       "    .dataframe tbody tr th:only-of-type {\n",
       "        vertical-align: middle;\n",
       "    }\n",
       "\n",
       "    .dataframe tbody tr th {\n",
       "        vertical-align: top;\n",
       "    }\n",
       "\n",
       "    .dataframe thead th {\n",
       "        text-align: right;\n",
       "    }\n",
       "</style>\n",
       "<table border=\"1\" class=\"dataframe\">\n",
       "  <thead>\n",
       "    <tr style=\"text-align: right;\">\n",
       "      <th></th>\n",
       "      <th>Loader</th>\n",
       "      <th>Description</th>\n",
       "    </tr>\n",
       "  </thead>\n",
       "  <tbody>\n",
       "    <tr>\n",
       "      <th>0</th>\n",
       "      <td>DMSLoader</td>\n",
       "      <td>Load data from Cognite Data Fusions Data Model...</td>\n",
       "    </tr>\n",
       "  </tbody>\n",
       "</table>\n",
       "</div>"
      ],
      "text/plain": [
       "<module 'cognite.neat.graph.loaders' from 'C:\\\\Users\\\\AndersAlbert\\\\Projects\\\\internal\\\\neat\\\\cognite\\\\neat\\\\graph\\\\loaders\\\\__init__.py'>"
      ]
     },
     "execution_count": 20,
     "metadata": {},
     "output_type": "execute_result"
    }
   ],
   "source": [
    "loaders"
   ]
  },
  {
   "cell_type": "code",
   "execution_count": 21,
   "id": "ddeaedf6-8ed6-4a67-84e1-d591798ace56",
   "metadata": {},
   "outputs": [
    {
     "data": {
      "text/html": [
       "<h3>DMSLoader</h3><p>Load data from Cognite Data Fusions Data Modeling Service (DMS) into Neat.<br /><strong>Available factory methods:</strong><br /><ul style=\"list-style-type:circle;\"><li><em>.from_data_model_id</em></li><li><em>.from_rules</em></li></ul></p>"
      ],
      "text/plain": [
       "cognite.neat.graph.loaders._rdf2dms.DMSLoader"
      ]
     },
     "execution_count": 21,
     "metadata": {},
     "output_type": "execute_result"
    }
   ],
   "source": [
    "loaders.DMSLoader"
   ]
  },
  {
   "cell_type": "markdown",
   "id": "bc0badfa-7827-4c0f-af0b-1434302f121e",
   "metadata": {},
   "source": [
    "To load the data from the graph store, we add the rules to the store"
   ]
  },
  {
   "cell_type": "code",
   "execution_count": 22,
   "id": "f325db09-25e1-45bf-86d8-c061c089647e",
   "metadata": {},
   "outputs": [],
   "source": [
    "store.add_rules(rules)"
   ]
  },
  {
   "cell_type": "code",
   "execution_count": 23,
   "id": "5ce26036-0311-4222-bd8d-72a892ec1dee",
   "metadata": {},
   "outputs": [
    {
     "data": {
      "text/html": [
       "<strong>NeatGraphStore</strong> A graph store is a container for storing triples. It can be queried and transformed to extract information.<br /><strong>Provenance</strong> Provenance is a record of changes that have occurred in the graph store.<br /><div>\n",
       "<style scoped>\n",
       "    .dataframe tbody tr th:only-of-type {\n",
       "        vertical-align: middle;\n",
       "    }\n",
       "\n",
       "    .dataframe tbody tr th {\n",
       "        vertical-align: top;\n",
       "    }\n",
       "\n",
       "    .dataframe thead th {\n",
       "        text-align: right;\n",
       "    }\n",
       "</style>\n",
       "<table border=\"1\" class=\"dataframe\">\n",
       "  <thead>\n",
       "    <tr style=\"text-align: right;\">\n",
       "      <th></th>\n",
       "      <th>Agent</th>\n",
       "      <th>Activity</th>\n",
       "      <th>Entity</th>\n",
       "      <th>Description</th>\n",
       "    </tr>\n",
       "  </thead>\n",
       "  <tbody>\n",
       "    <tr>\n",
       "      <th>0</th>\n",
       "      <td>http://purl.org/cognite/neat#agent</td>\n",
       "      <td>http://purl.org/cognite/neat#activity-1678c7c5...</td>\n",
       "      <td>http://purl.org/cognite/neat#graph-store</td>\n",
       "      <td>Initialize graph store as Memory</td>\n",
       "    </tr>\n",
       "    <tr>\n",
       "      <th>1</th>\n",
       "      <td>http://purl.org/cognite/neat#agent</td>\n",
       "      <td>http://purl.org/cognite/neat#activity-1678c7c5...</td>\n",
       "      <td>http://purl.org/cognite/neat#graph-store</td>\n",
       "      <td>Extracted triples to graph store using AssetsE...</td>\n",
       "    </tr>\n",
       "    <tr>\n",
       "      <th>2</th>\n",
       "      <td>http://purl.org/cognite/neat#agent</td>\n",
       "      <td>http://purl.org/cognite/neat#activity-1678c7c5...</td>\n",
       "      <td>http://purl.org/cognite/neat#graph-store</td>\n",
       "      <td>Added rules to graph store as InformationRules</td>\n",
       "    </tr>\n",
       "    <tr>\n",
       "      <th>3</th>\n",
       "      <td>http://purl.org/cognite/neat#agent</td>\n",
       "      <td>http://purl.org/cognite/neat#activity-1678c7c5...</td>\n",
       "      <td>http://purl.org/cognite/neat#graph-store</td>\n",
       "      <td>Upsert prefixes to graph store</td>\n",
       "    </tr>\n",
       "  </tbody>\n",
       "</table>\n",
       "</div>"
      ],
      "text/plain": [
       "<cognite.neat.graph.stores._base.NeatGraphStore at 0x179a133eed0>"
      ]
     },
     "execution_count": 23,
     "metadata": {},
     "output_type": "execute_result"
    }
   ],
   "source": [
    "store"
   ]
  },
  {
   "cell_type": "markdown",
   "id": "6459b0c0-3843-4bcc-9f17-fd675de160f4",
   "metadata": {},
   "source": [
    "This is necessary for the store to be ready to load data to an extrenal system."
   ]
  },
  {
   "cell_type": "markdown",
   "id": "0f8d5ce7-e79d-418c-b7a3-89a7a9337143",
   "metadata": {},
   "source": [
    "First, we ensure the instance space exists."
   ]
  },
  {
   "cell_type": "code",
   "execution_count": 28,
   "id": "8ebacc8b-11c6-458b-ad72-3dd582aefbdf",
   "metadata": {},
   "outputs": [],
   "source": [
    "from cognite.client import data_modeling as dm"
   ]
  },
  {
   "cell_type": "code",
   "execution_count": 50,
   "id": "23c53e60-98e3-4de2-8874-83b8c618c2fc",
   "metadata": {},
   "outputs": [
    {
     "data": {
      "text/html": [
       "<div>\n",
       "<style scoped>\n",
       "    .dataframe tbody tr th:only-of-type {\n",
       "        vertical-align: middle;\n",
       "    }\n",
       "\n",
       "    .dataframe tbody tr th {\n",
       "        vertical-align: top;\n",
       "    }\n",
       "\n",
       "    .dataframe thead th {\n",
       "        text-align: right;\n",
       "    }\n",
       "</style>\n",
       "<table border=\"1\" class=\"dataframe\">\n",
       "  <thead>\n",
       "    <tr style=\"text-align: right;\">\n",
       "      <th></th>\n",
       "      <th>value</th>\n",
       "    </tr>\n",
       "  </thead>\n",
       "  <tbody>\n",
       "    <tr>\n",
       "      <th>space</th>\n",
       "      <td>sp_pump_station</td>\n",
       "    </tr>\n",
       "    <tr>\n",
       "      <th>is_global</th>\n",
       "      <td>False</td>\n",
       "    </tr>\n",
       "    <tr>\n",
       "      <th>last_updated_time</th>\n",
       "      <td>2024-06-27 14:57:20.678000</td>\n",
       "    </tr>\n",
       "    <tr>\n",
       "      <th>created_time</th>\n",
       "      <td>2024-06-27 14:57:20.678000</td>\n",
       "    </tr>\n",
       "  </tbody>\n",
       "</table>\n",
       "</div>"
      ],
      "text/plain": [
       "<Space(space='sp_pump_station') at 0x27e19949940>"
      ]
     },
     "execution_count": 50,
     "metadata": {},
     "output_type": "execute_result"
    }
   ],
   "source": [
    "client.data_modeling.spaces.apply(dm.SpaceApply(\"sp_pump_station\"))"
   ]
  },
  {
   "cell_type": "markdown",
   "id": "75b0669d-f5ee-49f6-a8b4-d4b1061b0e7f",
   "metadata": {},
   "source": [
    "We can now use the loader to populate the data model in CDF."
   ]
  },
  {
   "cell_type": "code",
   "execution_count": 26,
   "id": "8e171577-e0f0-4f68-941f-261eb77315d7",
   "metadata": {},
   "outputs": [],
   "source": [
    "loader = loaders.DMSLoader.from_rules(rules, store, instance_space=\"sp_pump_station\")"
   ]
  },
  {
   "cell_type": "code",
   "execution_count": 30,
   "id": "9780e893-d6a3-4d4c-bf80-8e145d454bee",
   "metadata": {},
   "outputs": [],
   "source": [
    "result = loader.load_into_cdf(client)"
   ]
  },
  {
   "cell_type": "code",
   "execution_count": 31,
   "id": "da14fb04-b6f2-40aa-b549-d19abfe7247d",
   "metadata": {},
   "outputs": [
    {
     "data": {
      "text/html": [
       "<div>\n",
       "<style scoped>\n",
       "    .dataframe tbody tr th:only-of-type {\n",
       "        vertical-align: middle;\n",
       "    }\n",
       "\n",
       "    .dataframe tbody tr th {\n",
       "        vertical-align: top;\n",
       "    }\n",
       "\n",
       "    .dataframe thead th {\n",
       "        text-align: right;\n",
       "    }\n",
       "</style>\n",
       "<table border=\"1\" class=\"dataframe\">\n",
       "  <thead>\n",
       "    <tr style=\"text-align: right;\">\n",
       "      <th></th>\n",
       "    </tr>\n",
       "  </thead>\n",
       "  <tbody>\n",
       "  </tbody>\n",
       "</table>\n",
       "</div>"
      ],
      "text/plain": [
       "[]"
      ]
     },
     "execution_count": 31,
     "metadata": {},
     "output_type": "execute_result"
    }
   ],
   "source": [
    "result"
   ]
  },
  {
   "cell_type": "code",
   "execution_count": null,
   "id": "e7b047df-5da0-4fb5-88c3-b8bfb1451f53",
   "metadata": {},
   "outputs": [],
   "source": []
  }
 ],
 "metadata": {
  "kernelspec": {
   "display_name": "Python 3 (ipykernel)",
   "language": "python",
   "name": "python3"
  },
  "language_info": {
   "codemirror_mode": {
    "name": "ipython",
    "version": 3
   },
   "file_extension": ".py",
   "mimetype": "text/x-python",
   "name": "python",
   "nbconvert_exporter": "python",
   "pygments_lexer": "ipython3",
   "version": "3.12.1"
  }
 },
 "nbformat": 4,
 "nbformat_minor": 5
}
