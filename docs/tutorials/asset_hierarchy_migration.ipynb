{
 "cells": [
  {
   "cell_type": "markdown",
   "id": "d8dd9ed4",
   "metadata": {},
   "source": [
    "# Asset Hierarchy Migration\n",
    "\n",
    "**Prerequisite**: Python Competency\n",
    "\n",
    "In this tutorial, we will show you how to migrate an asset hierarchy to a data model representing the same hierarchy in CDF."
   ]
  },
  {
   "cell_type": "code",
   "execution_count": 24,
   "id": "6fd0ce5359bcea06",
   "metadata": {},
   "outputs": [],
   "source": [
    "import os\n",
    "from cognite.neat.graph import NeatGraphStore\n",
    "from cognite.client import CogniteClient"
   ]
  },
  {
   "cell_type": "code",
   "execution_count": 19,
   "id": "29d8fe36-9cb7-4326-b6f5-10243a3677e3",
   "metadata": {
    "editable": true,
    "slideshow": {
     "slide_type": ""
    },
    "tags": [
     "hide"
    ]
   },
   "outputs": [
    {
     "data": {
      "text/plain": [
       "True"
      ]
     },
     "execution_count": 19,
     "metadata": {},
     "output_type": "execute_result"
    }
   ],
   "source": [
    "from dotenv import load_dotenv\n",
    "from pathlib import Path\n",
    "\n",
    "load_dotenv(Path(\".\").resolve().parent.parent / \".env\")"
   ]
  },
  {
   "cell_type": "code",
   "execution_count": 25,
   "id": "59de3537-297e-4f2e-b96b-cc0d29285bc4",
   "metadata": {},
   "outputs": [],
   "source": [
    "client = CogniteClient.default_oauth_client_credentials(\n",
    "    project=os.environ[\"CDF_PROJECT\"],\n",
    "    cdf_cluster=os.environ[\"CDF_CLUSTER\"],\n",
    "    tenant_id=os.environ[\"IDP_TENANT_ID\"],\n",
    "    client_id=os.environ[\"IDP_CLIENT_ID\"],\n",
    "    client_secret=os.environ[\"IDP_CLIENT_SECRET\"],\n",
    ")"
   ]
  },
  {
   "cell_type": "code",
   "execution_count": 4,
   "id": "808f46d8-cd6a-4ad8-bf30-6d8172a0e204",
   "metadata": {},
   "outputs": [],
   "source": [
    "store = NeatGraphStore.from_memory_store()"
   ]
  },
  {
   "cell_type": "code",
   "execution_count": 9,
   "id": "f8acab05-2f15-46e0-89e9-c879bdac24a6",
   "metadata": {},
   "outputs": [],
   "source": [
    "from cognite.neat.graph.extractors import AssetsExtractor"
   ]
  },
  {
   "cell_type": "code",
   "execution_count": 23,
   "id": "f54163c1-28ad-46ae-bcd4-1f82deab7e63",
   "metadata": {},
   "outputs": [],
   "source": [
    "extractor = AssetsExtractor.from_hierarchy(client, root_asset_external_id=\"lift_pump_stations:root\") "
   ]
  },
  {
   "cell_type": "code",
   "execution_count": 26,
   "id": "e8b63c17-931d-44d2-96be-66275f602ced",
   "metadata": {},
   "outputs": [],
   "source": [
    "store.write(extractor)"
   ]
  },
  {
   "cell_type": "code",
   "execution_count": 27,
   "id": "4bd1dad5-c507-4c8a-97df-e717f533b436",
   "metadata": {},
   "outputs": [],
   "source": [
    "from cognite.neat.rules.importers import InferenceImporter"
   ]
  },
  {
   "cell_type": "code",
   "execution_count": 28,
   "id": "f3950de1-c122-4c69-ab07-ff74077e1d59",
   "metadata": {},
   "outputs": [],
   "source": [
    "importer = InferenceImporter.from_graph_store(store)"
   ]
  },
  {
   "cell_type": "code",
   "execution_count": 31,
   "id": "130be0d2-72c9-4f9c-9374-d71c3d9a361e",
   "metadata": {},
   "outputs": [],
   "source": [
    "rules, issues = importer.to_rules()"
   ]
  },
  {
   "cell_type": "code",
   "execution_count": 33,
   "id": "a1efbce3-596e-4b9f-81e8-81b47c1a0882",
   "metadata": {},
   "outputs": [
    {
     "data": {
      "text/html": [
       "<div>\n",
       "<style scoped>\n",
       "    .dataframe tbody tr th:only-of-type {\n",
       "        vertical-align: middle;\n",
       "    }\n",
       "\n",
       "    .dataframe tbody tr th {\n",
       "        vertical-align: top;\n",
       "    }\n",
       "\n",
       "    .dataframe thead th {\n",
       "        text-align: right;\n",
       "    }\n",
       "</style>\n",
       "<table border=\"1\" class=\"dataframe\">\n",
       "  <thead>\n",
       "    <tr style=\"text-align: right;\">\n",
       "      <th></th>\n",
       "      <th>class_</th>\n",
       "      <th>reference</th>\n",
       "      <th>match_type</th>\n",
       "      <th>comment</th>\n",
       "    </tr>\n",
       "  </thead>\n",
       "  <tbody>\n",
       "    <tr>\n",
       "      <th>0</th>\n",
       "      <td>inferred:Asset</td>\n",
       "      <td>http://purl.org/cognite/neat#Asset</td>\n",
       "      <td>exact</td>\n",
       "      <td>Inferred from knowledge graph, where this clas...</td>\n",
       "    </tr>\n",
       "  </tbody>\n",
       "</table>\n",
       "</div>"
      ],
      "text/plain": [
       "SheetList[InformationClass](data=[InformationClass(validators_to_skip=set(), class_=class(prefix=inferred,suffix=Asset), name=None, description=None, parent=None, reference=Url('http://purl.org/cognite/neat#Asset'), match_type='exact', comment='Inferred from knowledge graph, where this class has <245> instances')])"
      ]
     },
     "execution_count": 33,
     "metadata": {},
     "output_type": "execute_result"
    }
   ],
   "source": [
    "rules.classes"
   ]
  },
  {
   "cell_type": "code",
   "execution_count": 65,
   "id": "ed200b17-1f27-4912-84cd-1a26afb5dd53",
   "metadata": {},
   "outputs": [],
   "source": [
    "# Multitypes not supported by DMS\n",
    "rules.properties.data[24].value_type = rules.properties.data[24].value_type.types[1]"
   ]
  },
  {
   "cell_type": "code",
   "execution_count": 80,
   "id": "f14d810c-98dd-4c5e-9623-7cfd363f3cf2",
   "metadata": {},
   "outputs": [
    {
     "data": {
      "text/plain": [
       "{'class_': 'inferred:Asset',\n",
       " 'property_': 'name',\n",
       " 'name': None,\n",
       " 'description': None,\n",
       " 'value_type': 'string',\n",
       " 'min_count': None,\n",
       " 'max_count': 1,\n",
       " 'default': None,\n",
       " 'reference': 'http://purl.org/cognite/neat#name',\n",
       " 'match_type': None,\n",
       " 'transformation': {'traversal': {'class_': {'prefix': 'neat',\n",
       "    'suffix': 'Asset',\n",
       "    'version': None,\n",
       "    'name': None,\n",
       "    'description': None}}},\n",
       " 'comment': 'Class <Asset> has property <name> with value type <string> which occurs <245> times in the graph',\n",
       " 'inherited': False}"
      ]
     },
     "execution_count": 80,
     "metadata": {},
     "output_type": "execute_result"
    }
   ],
   "source": [
    "rules.properties.data[0].model_dump()"
   ]
  },
  {
   "cell_type": "code",
   "execution_count": 79,
   "id": "375d7712-6d38-48b9-9e5e-3b8e011ad582",
   "metadata": {},
   "outputs": [
    {
     "data": {
      "text/plain": [
       "InformationProperty(validators_to_skip=set(), class_=class(prefix=inferred,suffix=Asset), property_='name', name=None, description=None, value_type=String(), min_count=None, max_count=1, default=None, reference=Url('http://purl.org/cognite/neat#name'), match_type=None, transformation=RDFPath(traversal=SingleProperty(class_=neat:Asset, property=neat:name)), comment='Class <Asset> has property <name> with value type <string> which occurs <245> times in the graph', inherited=False)"
      ]
     },
     "execution_count": 79,
     "metadata": {},
     "output_type": "execute_result"
    }
   ],
   "source": [
    "rules.properties.data[0]"
   ]
  },
  {
   "cell_type": "code",
   "execution_count": 45,
   "id": "8d0aec59-a09d-488c-9b96-75b9547b0b11",
   "metadata": {},
   "outputs": [],
   "source": [
    "store.add_rules(rules)"
   ]
  },
  {
   "cell_type": "code",
   "execution_count": 48,
   "id": "1758c232-0523-4cef-9678-364ed2eec0ee",
   "metadata": {},
   "outputs": [],
   "source": [
    "from cognite.neat.rules import exporters"
   ]
  },
  {
   "cell_type": "code",
   "execution_count": 49,
   "id": "053e0f16-d03e-4368-88a3-f00bdabe67c6",
   "metadata": {},
   "outputs": [],
   "source": [
    "dms_exporter = exporters.DMSExporter()"
   ]
  },
  {
   "cell_type": "code",
   "execution_count": 68,
   "id": "6e1d4401-a12a-4387-9a9a-283125cef6d4",
   "metadata": {},
   "outputs": [
    {
     "name": "stderr",
     "output_type": "stream",
     "text": [
      "C:\\Users\\AndersAlbert\\AppData\\Local\\pypoetry\\Cache\\virtualenvs\\cognite-neat-WszCo0Uu-py3.12\\Lib\\site-packages\\pydantic\\main.py:176: MoreThanOneNonAlphanumericCharacterWarning: ('property', 'Shape__Length')\n",
      "  self.__pydantic_validator__.validate_python(data, self_instance=self)\n"
     ]
    },
    {
     "name": "stdout",
     "output_type": "stream",
     "text": [
      "Spaces: created 1\n",
      "Containers: created 1\n",
      "Views: created 1\n",
      "Data_Models: created 1\n"
     ]
    }
   ],
   "source": [
    "for uploaded in dms_exporter.export_to_cdf(rules, client, dry_run=False):\n",
    "    print(uploaded.as_report_str())"
   ]
  },
  {
   "cell_type": "code",
   "execution_count": 69,
   "id": "3eada633-274b-450e-9fa9-81c227530128",
   "metadata": {},
   "outputs": [
    {
     "name": "stderr",
     "output_type": "stream",
     "text": [
      "C:\\Users\\AndersAlbert\\AppData\\Local\\pypoetry\\Cache\\virtualenvs\\cognite-neat-WszCo0Uu-py3.12\\Lib\\site-packages\\pydantic\\main.py:176: MoreThanOneNonAlphanumericCharacterWarning: ('property', 'Shape__Length')\n",
      "  self.__pydantic_validator__.validate_python(data, self_instance=self)\n"
     ]
    }
   ],
   "source": [
    "schema = dms_exporter.export(rules)"
   ]
  },
  {
   "cell_type": "code",
   "execution_count": 76,
   "id": "4cc0343d-05cc-4b0e-bd8e-7f5a849beeb2",
   "metadata": {},
   "outputs": [],
   "source": [
    "for id_, cont in schema.containers.items():\n",
    "    break"
   ]
  },
  {
   "cell_type": "code",
   "execution_count": 78,
   "id": "20d7721e-e744-4131-b205-77364cbf4661",
   "metadata": {},
   "outputs": [
    {
     "data": {
      "text/plain": [
       "{'name': ContainerProperty(type=Text(is_list=False, collation='ucs_basic'), nullable=False, auto_increment=False, name=None, default_value=None, description=None),\n",
       " 'external_id': ContainerProperty(type=Text(is_list=False, collation='ucs_basic'), nullable=False, auto_increment=False, name=None, default_value=None, description=None),\n",
       " 'created_time': ContainerProperty(type=Timestamp(is_list=False), nullable=False, auto_increment=False, name=None, default_value=None, description=None),\n",
       " 'last_updated_time': ContainerProperty(type=Timestamp(is_list=False), nullable=False, auto_increment=False, name=None, default_value=None, description=None),\n",
       " 'DesignPointFlowGPM': ContainerProperty(type=Float64(is_list=False, unit=None), nullable=False, auto_increment=False, name=None, default_value=None, description=None),\n",
       " 'DesignPointHeadFT': ContainerProperty(type=Float64(is_list=False, unit=None), nullable=False, auto_increment=False, name=None, default_value=None, description=None),\n",
       " 'Enabled': ContainerProperty(type=Float64(is_list=False, unit=None), nullable=False, auto_increment=False, name=None, default_value=None, description=None),\n",
       " 'HighHeadShutOff': ContainerProperty(type=Float64(is_list=False, unit=None), nullable=False, auto_increment=False, name=None, default_value=None, description=None),\n",
       " 'LowHeadFT': ContainerProperty(type=Float64(is_list=False, unit=None), nullable=False, auto_increment=False, name=None, default_value=None, description=None),\n",
       " 'LowHeadFlowGPM': ContainerProperty(type=Float64(is_list=False, unit=None), nullable=False, auto_increment=False, name=None, default_value=None, description=None),\n",
       " 'PumpHP': ContainerProperty(type=Float64(is_list=False, unit=None), nullable=False, auto_increment=False, name=None, default_value=None, description=None),\n",
       " 'PumpOff': ContainerProperty(type=Float64(is_list=False, unit=None), nullable=False, auto_increment=False, name=None, default_value=None, description=None),\n",
       " 'PumpOn': ContainerProperty(type=Float64(is_list=False, unit=None), nullable=False, auto_increment=False, name=None, default_value=None, description=None),\n",
       " 'Shape__Length': ContainerProperty(type=Float64(is_list=False, unit=None), nullable=False, auto_increment=False, name=None, default_value=None, description=None),\n",
       " 'VFDSetting': ContainerProperty(type=Float64(is_list=False, unit=None), nullable=False, auto_increment=False, name=None, default_value=None, description=None),\n",
       " 'parent': ContainerProperty(type=DirectRelation(is_list=False, container=None), nullable=True, auto_increment=False, name=None, default_value=None, description=None),\n",
       " 'root': ContainerProperty(type=DirectRelation(is_list=False, container=None), nullable=True, auto_increment=False, name=None, default_value=None, description=None),\n",
       " 'description': ContainerProperty(type=Text(is_list=False, collation='ucs_basic'), nullable=False, auto_increment=False, name=None, default_value=None, description=None),\n",
       " 'FacilityID': ContainerProperty(type=Text(is_list=False, collation='ucs_basic'), nullable=False, auto_increment=False, name=None, default_value=None, description=None),\n",
       " 'InstallDate': ContainerProperty(type=Text(is_list=False, collation='ucs_basic'), nullable=False, auto_increment=False, name=None, default_value=None, description=None),\n",
       " 'LifeCycleStatus': ContainerProperty(type=Text(is_list=False, collation='ucs_basic'), nullable=False, auto_increment=False, name=None, default_value=None, description=None),\n",
       " 'LiftStationID': ContainerProperty(type=Text(is_list=False, collation='ucs_basic'), nullable=False, auto_increment=False, name=None, default_value=None, description=None),\n",
       " 'LocationDescription': ContainerProperty(type=Text(is_list=False, collation='ucs_basic'), nullable=False, auto_increment=False, name=None, default_value=None, description=None),\n",
       " 'Position': ContainerProperty(type=Text(is_list=False, collation='ucs_basic'), nullable=False, auto_increment=False, name=None, default_value=None, description=None),\n",
       " 'PumpModel': ContainerProperty(type=Text(is_list=False, collation='ucs_basic'), nullable=False, auto_increment=False, name=None, default_value=None, description=None),\n",
       " 'VFD': ContainerProperty(type=Text(is_list=False, collation='ucs_basic'), nullable=False, auto_increment=False, name=None, default_value=None, description=None)}"
      ]
     },
     "execution_count": 78,
     "metadata": {},
     "output_type": "execute_result"
    }
   ],
   "source": [
    "cont.properties"
   ]
  },
  {
   "cell_type": "code",
   "execution_count": 81,
   "id": "f5ea2b40-48d4-4adf-acea-8dddbd3a712d",
   "metadata": {},
   "outputs": [],
   "source": [
    "from cognite.neat.graph.loaders import DMSLoader"
   ]
  },
  {
   "cell_type": "code",
   "execution_count": 82,
   "id": "08c0cb37-f026-4cb5-a21c-e1be341652d9",
   "metadata": {},
   "outputs": [
    {
     "data": {
      "text/html": [
       "<div>\n",
       "<style scoped>\n",
       "    .dataframe tbody tr th:only-of-type {\n",
       "        vertical-align: middle;\n",
       "    }\n",
       "\n",
       "    .dataframe tbody tr th {\n",
       "        vertical-align: top;\n",
       "    }\n",
       "\n",
       "    .dataframe thead th {\n",
       "        text-align: right;\n",
       "    }\n",
       "</style>\n",
       "<table border=\"1\" class=\"dataframe\">\n",
       "  <thead>\n",
       "    <tr style=\"text-align: right;\">\n",
       "      <th></th>\n",
       "      <th>value</th>\n",
       "    </tr>\n",
       "  </thead>\n",
       "  <tbody>\n",
       "    <tr>\n",
       "      <th>space</th>\n",
       "      <td>inferred</td>\n",
       "    </tr>\n",
       "    <tr>\n",
       "      <th>external_id</th>\n",
       "      <td>inferred_model</td>\n",
       "    </tr>\n",
       "    <tr>\n",
       "      <th>name</th>\n",
       "      <td>Inferred Model</td>\n",
       "    </tr>\n",
       "    <tr>\n",
       "      <th>description</th>\n",
       "      <td>Creator: NEAT</td>\n",
       "    </tr>\n",
       "    <tr>\n",
       "      <th>version</th>\n",
       "      <td>inferred</td>\n",
       "    </tr>\n",
       "    <tr>\n",
       "      <th>views</th>\n",
       "      <td>[{'space': 'inferred', 'external_id': 'Asset',...</td>\n",
       "    </tr>\n",
       "    <tr>\n",
       "      <th>is_global</th>\n",
       "      <td>False</td>\n",
       "    </tr>\n",
       "    <tr>\n",
       "      <th>last_updated_time</th>\n",
       "      <td>1970-01-01 00:00:00</td>\n",
       "    </tr>\n",
       "    <tr>\n",
       "      <th>created_time</th>\n",
       "      <td>1970-01-01 00:00:00</td>\n",
       "    </tr>\n",
       "  </tbody>\n",
       "</table>\n",
       "</div>"
      ],
      "text/plain": [
       "<DataModel(space='inferred', external_id='inferred_model', version='inferred') at 0x2594cb24950>"
      ]
     },
     "execution_count": 82,
     "metadata": {},
     "output_type": "execute_result"
    }
   ],
   "source": []
  },
  {
   "cell_type": "code",
   "execution_count": 83,
   "id": "5e2d313e-831a-4082-aa0d-54e2a4038262",
   "metadata": {},
   "outputs": [],
   "source": [
    "loader = DMSLoader(store, schema.as_read_model(), instance_space=\"sp_pump_station\")"
   ]
  },
  {
   "cell_type": "code",
   "execution_count": 84,
   "id": "474b12bb-d1b2-4819-979f-2a17927b0b39",
   "metadata": {},
   "outputs": [],
   "source": [
    "for thing in loader.load():\n",
    "    break"
   ]
  },
  {
   "cell_type": "code",
   "execution_count": 86,
   "id": "913a6ea1-7fed-4c36-bf47-c27f406d6048",
   "metadata": {},
   "outputs": [
    {
     "data": {
      "text/plain": [
       "{'name': 'Pump 3102.090-0995',\n",
       " 'external_id': '4469bba5-cad1-46a8-8647-f639bf5b31ef',\n",
       " 'created_time': datetime.datetime(2024, 6, 24, 6, 24, 47, 431000, tzinfo=TzInfo(UTC)),\n",
       " 'last_updated_time': datetime.datetime(2024, 6, 24, 6, 24, 47, 431000, tzinfo=TzInfo(UTC)),\n",
       " 'DesignPointFlowGPM': 172.0,\n",
       " 'DesignPointHeadFT': 34.4,\n",
       " 'Enabled': 1.0,\n",
       " 'HighHeadShutOff': 0.0,\n",
       " 'LowHeadFT': 25.0,\n",
       " 'LowHeadFlowGPM': 400.0,\n",
       " 'PumpHP': 5.0,\n",
       " 'PumpOff': 3540.02,\n",
       " 'PumpOn': 3542.02,\n",
       " 'Shape__Length': 8.9256133170089,\n",
       " 'VFDSetting': nan,\n",
       " 'parent': {'space': 'sp_pump_station',\n",
       "  'externalId': 'Asset_8906381697072008'},\n",
       " 'root': {'space': 'sp_pump_station', 'externalId': 'Asset_2622548696369535'},\n",
       " 'description': 'Col Lift Sta. #41   Glenshire - Glenshire Subdivision, Behind 1064 Canoe Ct.',\n",
       " 'FacilityID': 'CPUMP041B',\n",
       " 'InstallDate': '2002/05/19 00:00:00+00',\n",
       " 'LifeCycleStatus': 'I',\n",
       " 'LiftStationID': 'Glenshire',\n",
       " 'LocationDescription': 'Glenshire - 1064 NE Glenshire Pl., 97701',\n",
       " 'Position': 'LAG1',\n",
       " 'PumpModel': '3102.090-0995',\n",
       " 'VFD': 'Yes'}"
      ]
     },
     "execution_count": 86,
     "metadata": {},
     "output_type": "execute_result"
    }
   ],
   "source": [
    "thing.sources[0].properties"
   ]
  },
  {
   "cell_type": "code",
   "execution_count": null,
   "id": "da14fb04-b6f2-40aa-b549-d19abfe7247d",
   "metadata": {},
   "outputs": [],
   "source": []
  }
 ],
 "metadata": {
  "kernelspec": {
   "display_name": "Python 3 (ipykernel)",
   "language": "python",
   "name": "python3"
  },
  "language_info": {
   "codemirror_mode": {
    "name": "ipython",
    "version": 3
   },
   "file_extension": ".py",
   "mimetype": "text/x-python",
   "name": "python",
   "nbconvert_exporter": "python",
   "pygments_lexer": "ipython3",
   "version": "3.12.1"
  }
 },
 "nbformat": 4,
 "nbformat_minor": 5
}
