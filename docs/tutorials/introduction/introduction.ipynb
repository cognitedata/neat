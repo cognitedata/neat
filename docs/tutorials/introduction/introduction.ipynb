{
 "cells": [
  {
   "cell_type": "markdown",
   "id": "af472c58-9bc2-4f44-8894-ea0889eb90c1",
   "metadata": {},
   "source": [
    "# Introduction\n",
    "\n",
    "**Prerequisite**:\n",
    "\n",
    "- Installed Neat, see [Installation](../../gettingstarted/installation.html)\n",
    "- Launched a notebook environment.\n",
    "\n",
    "In this tutorial, we will give an introduction to the neat interface `NeatSession`."
   ]
  },
  {
   "cell_type": "markdown",
   "id": "d78f862a-8508-41dd-86ae-1f11452a6cd5",
   "metadata": {},
   "source": [
    "## Creating a basic NeatSession\n",
    "\n",
    "We start by importing a `NeatSession` and instansiate it with a `CogniteClient`. Note that we can run a `NeatSession` without a `CogniteClient`, but this will limit the capabilities we have."
   ]
  },
  {
   "cell_type": "code",
   "execution_count": 1,
   "id": "73d34c07-7c34-4d82-8a36-992f65d7bf18",
   "metadata": {},
   "outputs": [],
   "source": [
    "from cognite.neat import NeatSession, get_cognite_client"
   ]
  },
  {
   "cell_type": "code",
   "execution_count": 2,
   "id": "07e4b1c6-c330-4156-8b91-7f39d73c6f2c",
   "metadata": {},
   "outputs": [
    {
     "name": "stdout",
     "output_type": "stream",
     "text": [
      "Found .env file in repository root. Loaded variables from .env file.\n"
     ]
    }
   ],
   "source": [
    "client = get_cognite_client(\".env\")"
   ]
  },
  {
   "cell_type": "code",
   "execution_count": 3,
   "id": "94bcb68a-0f39-4c69-84f1-285d1945cf85",
   "metadata": {},
   "outputs": [
    {
     "name": "stdout",
     "output_type": "stream",
     "text": [
      "Neat Engine 2.0.3 loaded.\n"
     ]
    }
   ],
   "source": [
    "neat = NeatSession(client)"
   ]
  },
  {
   "cell_type": "code",
   "execution_count": 4,
   "id": "7503ce03-be33-44da-b60e-0791c2214aad",
   "metadata": {},
   "outputs": [
    {
     "data": {
      "text/html": [
       "<strong>Empty session</strong>. Get started by reading something with the <em>.read</em> attribute."
      ],
      "text/plain": [
       "<cognite.neat._session._base.NeatSession at 0x22133202990>"
      ]
     },
     "execution_count": 4,
     "metadata": {},
     "output_type": "execute_result"
    }
   ],
   "source": [
    "neat"
   ]
  },
  {
   "cell_type": "markdown",
   "id": "5f74e75a-4ff7-4fc2-9042-0f9a8b095d7c",
   "metadata": {},
   "source": [
    "We note that we can always write `neat` in a cell to get information about the current session we are in, as well as hints about what we can do next.\n",
    "\n",
    "We not that we now have an empty session and are ready to start."
   ]
  },
  {
   "cell_type": "markdown",
   "id": "b749953a-c223-4b48-abe7-ba87e307e837",
   "metadata": {},
   "source": [
    "## What is the <code>NeatSession</code>\n",
    "\n",
    "`NeatSession` is the notebook interface for neat. You typically start with reading a data model or metadata from a source. Then, you do some operations on that data and/or data model, before you write the result to a destination. \n",
    "\n",
    "!!! warning \"NeatSession use for a single data model with metadata\"\n",
    "\n",
    "    The `NeatSession` is intended for a single data model optionally with metadata. You \n",
    "    should not use it to mix multiple unrelated data models.\n"
   ]
  },
  {
   "cell_type": "markdown",
   "id": "61148249-99f6-460c-b0e7-ec2d0a461eeb",
   "metadata": {},
   "source": [
    "For example, we can read a data model from CDF and dump it to `Excel`.\n",
    "\n",
    "To get started we start by typing `neat.<press tab>` in most Notebook environments this gives us the operations available. \n",
    "\n",
    "<img src=\"../../artifacts/figs/neat_tab.png\" width=\"250\">\n",
    "\n",
    "We select `read` write `.` and press tab again. We select `cdf.data_model` and write in the identifier of the data model we want to retrieve."
   ]
  },
  {
   "cell_type": "code",
   "execution_count": 5,
   "id": "f4d64829-2659-4c1a-9348-7d4d514f5048",
   "metadata": {
    "scrolled": true
   },
   "outputs": [
    {
     "data": {
      "text/html": [
       "<p>Success: Read NEAT(verified,physical,cdf_idm,CogniteProcessIndustries,v1)</p>"
      ],
      "text/plain": [
       "[]"
      ]
     },
     "execution_count": 5,
     "metadata": {},
     "output_type": "execute_result"
    }
   ],
   "source": [
    "neat.read.cdf.data_model((\"cdf_idm\", \"CogniteProcessIndustries\", \"v1\"))"
   ]
  },
  {
   "cell_type": "code",
   "execution_count": 6,
   "id": "228c0ba8-ec2c-4234-8606-448331a4ff48",
   "metadata": {},
   "outputs": [
    {
     "data": {
      "text/html": [
       "<H2>Data Model</H2><br /><div>\n",
       "<style scoped>\n",
       "    .dataframe tbody tr th:only-of-type {\n",
       "        vertical-align: middle;\n",
       "    }\n",
       "\n",
       "    .dataframe tbody tr th {\n",
       "        vertical-align: top;\n",
       "    }\n",
       "\n",
       "    .dataframe thead th {\n",
       "        text-align: right;\n",
       "    }\n",
       "</style>\n",
       "<table border=\"1\" class=\"dataframe\">\n",
       "  <thead>\n",
       "    <tr style=\"text-align: right;\">\n",
       "      <th></th>\n",
       "      <th></th>\n",
       "    </tr>\n",
       "  </thead>\n",
       "  <tbody>\n",
       "    <tr>\n",
       "      <th>aspect</th>\n",
       "      <td>physical</td>\n",
       "    </tr>\n",
       "    <tr>\n",
       "      <th>intended for</th>\n",
       "      <td>DMS Architect</td>\n",
       "    </tr>\n",
       "    <tr>\n",
       "      <th>name</th>\n",
       "      <td>Cognite process industries data model</td>\n",
       "    </tr>\n",
       "    <tr>\n",
       "      <th>space</th>\n",
       "      <td>cdf_idm</td>\n",
       "    </tr>\n",
       "    <tr>\n",
       "      <th>external_id</th>\n",
       "      <td>CogniteProcessIndustries</td>\n",
       "    </tr>\n",
       "    <tr>\n",
       "      <th>version</th>\n",
       "      <td>v1</td>\n",
       "    </tr>\n",
       "    <tr>\n",
       "      <th>views</th>\n",
       "      <td>36</td>\n",
       "    </tr>\n",
       "    <tr>\n",
       "      <th>containers</th>\n",
       "      <td>32</td>\n",
       "    </tr>\n",
       "    <tr>\n",
       "      <th>properties</th>\n",
       "      <td>161</td>\n",
       "    </tr>\n",
       "  </tbody>\n",
       "</table>\n",
       "</div>"
      ],
      "text/plain": [
       "<cognite.neat._session._base.NeatSession at 0x22133202990>"
      ]
     },
     "execution_count": 6,
     "metadata": {},
     "output_type": "execute_result"
    }
   ],
   "source": [
    "neat"
   ]
  },
  {
   "cell_type": "markdown",
   "id": "25bdf27c-68ed-45d6-86fd-3900e84e4674",
   "metadata": {},
   "source": [
    "We see know that we have succesfully read in the data model.\n",
    "\n",
    "We can now export the data model to a different format, for example, spreadsheets with the following command"
   ]
  },
  {
   "cell_type": "code",
   "execution_count": 9,
   "id": "0e959f25-d3dd-4630-aa8b-a86cdf80e52d",
   "metadata": {},
   "outputs": [],
   "source": [
    "neat.to.excel(\"my_first_model.xlsx\")"
   ]
  },
  {
   "cell_type": "markdown",
   "id": "93750dd5-19fd-4fb1-84e8-440e3dc861ea",
   "metadata": {},
   "source": [
    "The above command writes the data model to the file `my_first_model.xlsx`."
   ]
  },
  {
   "cell_type": "markdown",
   "id": "9a80d17e-9eee-4b4c-916f-b3549293243f",
   "metadata": {},
   "source": [
    "## Parameters of a <code>NeatSession</code> "
   ]
  },
  {
   "cell_type": "markdown",
   "id": "e1603ee6-d487-4cac-a855-7cd81bf5d851",
   "metadata": {},
   "source": [
    "The `NeatSession` has several parameters we can set. We can inspect this by presing `<shift>+<tab>` after writing `NeatSession(`\n",
    "\n",
    "<img src=\"../../artifacts/figs/neat_shift_tab.png\" width=\"500\">\n",
    "\n",
    "This will give us the most up-to-date documentation of what is available. You can read the documentation to get more information\n",
    "about the parameters you can set.\n",
    "\n",
    "!!! tip \"Shift+Tab\"\n",
    "\n",
    "    This shortcut works in most notebook environment for inspecting the available \n",
    "    arguments of a method.\n",
    "    You can use that in combination with `.` + tab to explore the options availabe for \n",
    "    using neat.\n"
   ]
  },
  {
   "cell_type": "code",
   "execution_count": 12,
   "id": "949cbc69-e7e4-4fa7-b544-4357d37db98e",
   "metadata": {},
   "outputs": [],
   "source": [
    "neat = NeatSession(client, storage=\"oxigraph\", verbose=True, load_engine=\"newest\")"
   ]
  },
  {
   "cell_type": "markdown",
   "id": "a8ede37b-00fe-43ed-83ec-bcc8be9950c5",
   "metadata": {},
   "source": [
    "## NeatEngine\n",
    "\n",
    "Some of the functionality in `Neat` requires the `NeatEngine`. This is only available to `Cognite` customers. Contact the team to obtain access."
   ]
  },
  {
   "cell_type": "markdown",
   "id": "66ab68ef-9989-4031-b8f3-d3fa2db5b60d",
   "metadata": {},
   "source": [
    "## Alternative to <code>get_cognite_client</code>\n",
    "\n",
    "The `get_cognite_client` is a helper method from neat that instansiate a `CogniteClient` from a `.env` or if you do not have a `.env` file\n",
    "it will prompt you to provide the credentials and offer to create one.\n",
    "\n",
    "If you are used to working with the `cognite-sdk` you can instansiate the `CogniteClient` in any way you which. Below are a few examples."
   ]
  },
  {
   "cell_type": "code",
   "execution_count": 13,
   "id": "8e8cb577-22af-4623-9829-33bc5fdde970",
   "metadata": {},
   "outputs": [],
   "source": [
    "from cognite.client import CogniteClient"
   ]
  },
  {
   "cell_type": "markdown",
   "id": "6b6ad8d1-0ea8-4d8a-856c-99b1eeb1e99e",
   "metadata": {},
   "source": [
    "### Service Principal in Microsoft Entra"
   ]
  },
  {
   "cell_type": "code",
   "execution_count": 14,
   "id": "6cc56143-5dde-4171-8486-28dfc6cebc2e",
   "metadata": {},
   "outputs": [],
   "source": [
    "cognite_client = CogniteClient.default_oauth_client_credentials(\n",
    "    project=\"<my-cdf-project>\",\n",
    "    cdf_cluster=\"<my-cdf-cluster>\",\n",
    "    tenant_id=\"<my_domain>.onmicrosoft.com\",\n",
    "    client_id=\"<my_service_principal_client_id>\",\n",
    "    client_secret=\"<my_service_principal_client_secret>\",\n",
    ")"
   ]
  },
  {
   "cell_type": "markdown",
   "id": "525f6031-d9fb-41da-88ab-22434d5022c0",
   "metadata": {},
   "source": [
    "### Interactive Login Microsoft Entra\n",
    "\n"
   ]
  },
  {
   "cell_type": "code",
   "execution_count": 15,
   "id": "2ff7c275-da1e-4a36-bb4f-2e7bd53eea6e",
   "metadata": {},
   "outputs": [],
   "source": [
    "cognite_client = CogniteClient.default_oauth_interactive(\n",
    "    project=\"<my-cdf-project>\",\n",
    "    cdf_cluster=\"<my-cdf-cluster>\",\n",
    "    tenant_id=\"cognitepygen.onmicrosoft.com\",\n",
    "    client_id=\"<my_service_principal_client_id>\",\n",
    ")"
   ]
  },
  {
   "cell_type": "markdown",
   "id": "51c4597d-1035-4bc5-bbc9-eaf1b4b916a2",
   "metadata": {},
   "source": [
    "### Device Code"
   ]
  },
  {
   "cell_type": "code",
   "execution_count": 19,
   "id": "339d4348-0631-4342-8b40-09911fd681e0",
   "metadata": {},
   "outputs": [],
   "source": [
    "from cognite.client import ClientConfig\n",
    "from cognite.client.credentials import OAuthDeviceCode"
   ]
  },
  {
   "cell_type": "code",
   "execution_count": 20,
   "id": "a711a68b-9a35-4923-9823-b8b6f88dfdb5",
   "metadata": {},
   "outputs": [],
   "source": [
    "credentials = OAuthDeviceCode.default_for_azure_ad(\n",
    "    tenant_id=\"cognitepygen.onmicrosoft.com\",\n",
    "    client_id=\"<device_client_id>\",\n",
    "    cdf_cluster=\"<my-cdf-cluster>\",\n",
    ")\n",
    "\n",
    "cognite_client = CogniteClient(\n",
    "    ClientConfig(\n",
    "        client_name=\"client-name\",\n",
    "        project=\"<my-cdf-project>\",\n",
    "        credentials=credentials,\n",
    "    )\n",
    ")"
   ]
  }
 ],
 "metadata": {
  "kernelspec": {
   "display_name": "Python 3 (ipykernel)",
   "language": "python",
   "name": "python3"
  },
  "language_info": {
   "codemirror_mode": {
    "name": "ipython",
    "version": 3
   },
   "file_extension": ".py",
   "mimetype": "text/x-python",
   "name": "python",
   "nbconvert_exporter": "python",
   "pygments_lexer": "ipython3",
   "version": "3.12.1"
  }
 },
 "nbformat": 4,
 "nbformat_minor": 5
}
