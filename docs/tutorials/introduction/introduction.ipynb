{
 "cells": [
  {
   "cell_type": "markdown",
   "id": "af472c58-9bc2-4f44-8894-ea0889eb90c1",
   "metadata": {},
   "source": [
    "# Introduction\n",
    "\n",
    "**Prerequisite**:\n",
    "\n",
    "- Installed Neat\n",
    "- Launched a notebook environment.\n",
    "\n",
    "See [Installation](../../gettingstarted/installation.md)\n",
    "\n",
    "In this tutorial, we will give an introduction to the neat interface `NeatSession`."
   ]
  },
  {
   "cell_type": "markdown",
   "id": "d78f862a-8508-41dd-86ae-1f11452a6cd5",
   "metadata": {},
   "source": [
    "## Creating a basic NeatSession\n",
    "\n",
    "We start by importing a `NeatSession` and instansiate it with a `CogniteClient`. Note that we can run a `NeatSession` without a `CogniteClient`, but this will limit the capabilities we have."
   ]
  },
  {
   "cell_type": "code",
   "execution_count": 15,
   "id": "73d34c07-7c34-4d82-8a36-992f65d7bf18",
   "metadata": {},
   "outputs": [],
   "source": [
    "from cognite.neat import NeatSession, get_cognite_client"
   ]
  },
  {
   "cell_type": "code",
   "execution_count": 16,
   "id": "07e4b1c6-c330-4156-8b91-7f39d73c6f2c",
   "metadata": {},
   "outputs": [
    {
     "name": "stdout",
     "output_type": "stream",
     "text": [
      "Found albert.env file in repository root. Loaded variables from albert.env file.\n"
     ]
    }
   ],
   "source": [
    "client = get_cognite_client(\"albert.env\")"
   ]
  },
  {
   "cell_type": "code",
   "execution_count": 20,
   "id": "94bcb68a-0f39-4c69-84f1-285d1945cf85",
   "metadata": {},
   "outputs": [
    {
     "name": "stdout",
     "output_type": "stream",
     "text": [
      "Neat Engine 2.0.1 loaded.\n"
     ]
    }
   ],
   "source": [
    "neat = NeatSession(client)"
   ]
  },
  {
   "cell_type": "code",
   "execution_count": 21,
   "id": "7503ce03-be33-44da-b60e-0791c2214aad",
   "metadata": {},
   "outputs": [
    {
     "data": {
      "text/html": [
       "<strong>Empty session</strong>. Get started by reading something with the <em>.read</em> attribute."
      ],
      "text/plain": [
       "<cognite.neat._session._base.NeatSession at 0x13fbef7fb00>"
      ]
     },
     "execution_count": 21,
     "metadata": {},
     "output_type": "execute_result"
    }
   ],
   "source": [
    "neat"
   ]
  },
  {
   "cell_type": "markdown",
   "id": "5f74e75a-4ff7-4fc2-9042-0f9a8b095d7c",
   "metadata": {},
   "source": [
    "We note that we can always write `neat` in a cell to get information about the current session we are in, as well as hints about what we can do next.\n",
    "\n",
    "We not that we now have an empty session and are ready to start."
   ]
  },
  {
   "cell_type": "markdown",
   "id": "b749953a-c223-4b48-abe7-ba87e307e837",
   "metadata": {},
   "source": [
    "## What is the <code>NeatSession</code>\n",
    "\n",
    "`NeatSession` is the notebook interface for neat. You typically start with reading a data model or metadata from a source. Then, you do some operations on that data and/or data model, before you write the result to a destination. \n",
    "\n",
    "!!! warning \"NeatSession use for a single data model with metadata\"\n",
    "\n",
    "    The `NeatSession` is intended for a single data model optionally with metadata. You should not use it to mix multiple unrelated data models.\n"
   ]
  },
  {
   "cell_type": "markdown",
   "id": "61148249-99f6-460c-b0e7-ec2d0a461eeb",
   "metadata": {},
   "source": [
    "For example, we can read a data model from CDF and dump it to `Excel`.\n",
    "\n",
    "To get started we start by typing `neat.<press tab>` in most Notebook environments this gives us the operations available. \n",
    "\n",
    "<img src=\"../../artifacts/figs/neat_tab.png\" width=\"200\">\n",
    "\n",
    "We select `read` write `.` and press tab again. We select `cdf.data_model` and write in the identifier of the data model we want to retrieve."
   ]
  },
  {
   "cell_type": "code",
   "execution_count": 22,
   "id": "f4d64829-2659-4c1a-9348-7d4d514f5048",
   "metadata": {},
   "outputs": [
    {
     "name": "stdout",
     "output_type": "stream",
     "text": [
      "Data model read passed\n"
     ]
    },
    {
     "data": {
      "text/html": [
       "<p>'No issues found'</p>"
      ],
      "text/plain": [
       "[]"
      ]
     },
     "execution_count": 22,
     "metadata": {},
     "output_type": "execute_result"
    }
   ],
   "source": [
    "neat.read.cdf.data_model((\"cdf_idm\", \"CogniteProcessIndustries\", \"v1\"))"
   ]
  },
  {
   "cell_type": "code",
   "execution_count": 23,
   "id": "228c0ba8-ec2c-4234-8606-448331a4ff48",
   "metadata": {},
   "outputs": [
    {
     "data": {
      "text/html": [
       "<H2>Unverified Data Model</H2><br /><div>\n",
       "<style scoped>\n",
       "    .dataframe tbody tr th:only-of-type {\n",
       "        vertical-align: middle;\n",
       "    }\n",
       "\n",
       "    .dataframe tbody tr th {\n",
       "        vertical-align: top;\n",
       "    }\n",
       "\n",
       "    .dataframe thead th {\n",
       "        text-align: right;\n",
       "    }\n",
       "</style>\n",
       "<table border=\"1\" class=\"dataframe\">\n",
       "  <thead>\n",
       "    <tr style=\"text-align: right;\">\n",
       "      <th></th>\n",
       "      <th></th>\n",
       "    </tr>\n",
       "  </thead>\n",
       "  <tbody>\n",
       "    <tr>\n",
       "      <th>type</th>\n",
       "      <td>Physical Data Model</td>\n",
       "    </tr>\n",
       "    <tr>\n",
       "      <th>intended for</th>\n",
       "      <td>DMS Architect</td>\n",
       "    </tr>\n",
       "    <tr>\n",
       "      <th>name</th>\n",
       "      <td>Cognite process industries data model</td>\n",
       "    </tr>\n",
       "    <tr>\n",
       "      <th>space</th>\n",
       "      <td>cdf_idm</td>\n",
       "    </tr>\n",
       "    <tr>\n",
       "      <th>external_id</th>\n",
       "      <td>CogniteProcessIndustries</td>\n",
       "    </tr>\n",
       "    <tr>\n",
       "      <th>version</th>\n",
       "      <td>v1</td>\n",
       "    </tr>\n",
       "    <tr>\n",
       "      <th>views</th>\n",
       "      <td>36</td>\n",
       "    </tr>\n",
       "    <tr>\n",
       "      <th>containers</th>\n",
       "      <td>32</td>\n",
       "    </tr>\n",
       "    <tr>\n",
       "      <th>properties</th>\n",
       "      <td>161</td>\n",
       "    </tr>\n",
       "  </tbody>\n",
       "</table>\n",
       "</div>"
      ],
      "text/plain": [
       "<cognite.neat._session._base.NeatSession at 0x13fbef7fb00>"
      ]
     },
     "execution_count": 23,
     "metadata": {},
     "output_type": "execute_result"
    }
   ],
   "source": [
    "neat"
   ]
  },
  {
   "cell_type": "markdown",
   "id": "25bdf27c-68ed-45d6-86fd-3900e84e4674",
   "metadata": {},
   "source": [
    "We see know that we have succesfully read in the data model. Furthermore, we notice that this is an unverified data model. This is because neat supports reading data models from multiple sources, and not all data models are consistent. By having a unverified model we can do operations on it to ensure it is complient with CDF.\n",
    "\n",
    "In this case, we read the data model from CDF so we go directly to verifying the data model."
   ]
  },
  {
   "cell_type": "code",
   "execution_count": 24,
   "id": "54d8c581-e796-4d8b-92c8-ef71d0a7e899",
   "metadata": {},
   "outputs": [
    {
     "data": {
      "text/html": [
       "<p>'No issues found'</p>"
      ],
      "text/plain": [
       "[]"
      ]
     },
     "execution_count": 24,
     "metadata": {},
     "output_type": "execute_result"
    }
   ],
   "source": [
    "neat.verify()"
   ]
  },
  {
   "cell_type": "code",
   "execution_count": 25,
   "id": "1178b21c-d8b1-4c69-b2bd-7870fa8f3a67",
   "metadata": {},
   "outputs": [
    {
     "data": {
      "text/html": [
       "<H2>Verified Data Model</H2><br /><div>\n",
       "<style scoped>\n",
       "    .dataframe tbody tr th:only-of-type {\n",
       "        vertical-align: middle;\n",
       "    }\n",
       "\n",
       "    .dataframe tbody tr th {\n",
       "        vertical-align: top;\n",
       "    }\n",
       "\n",
       "    .dataframe thead th {\n",
       "        text-align: right;\n",
       "    }\n",
       "</style>\n",
       "<table border=\"1\" class=\"dataframe\">\n",
       "  <thead>\n",
       "    <tr style=\"text-align: right;\">\n",
       "      <th></th>\n",
       "      <th></th>\n",
       "    </tr>\n",
       "  </thead>\n",
       "  <tbody>\n",
       "    <tr>\n",
       "      <th>aspect</th>\n",
       "      <td>physical</td>\n",
       "    </tr>\n",
       "    <tr>\n",
       "      <th>intended for</th>\n",
       "      <td>DMS Architect</td>\n",
       "    </tr>\n",
       "    <tr>\n",
       "      <th>name</th>\n",
       "      <td>Cognite process industries data model</td>\n",
       "    </tr>\n",
       "    <tr>\n",
       "      <th>space</th>\n",
       "      <td>cdf_idm</td>\n",
       "    </tr>\n",
       "    <tr>\n",
       "      <th>external_id</th>\n",
       "      <td>CogniteProcessIndustries</td>\n",
       "    </tr>\n",
       "    <tr>\n",
       "      <th>version</th>\n",
       "      <td>v1</td>\n",
       "    </tr>\n",
       "    <tr>\n",
       "      <th>views</th>\n",
       "      <td>36</td>\n",
       "    </tr>\n",
       "    <tr>\n",
       "      <th>containers</th>\n",
       "      <td>32</td>\n",
       "    </tr>\n",
       "    <tr>\n",
       "      <th>properties</th>\n",
       "      <td>161</td>\n",
       "    </tr>\n",
       "  </tbody>\n",
       "</table>\n",
       "</div>"
      ],
      "text/plain": [
       "<cognite.neat._session._base.NeatSession at 0x13fbef7fb00>"
      ]
     },
     "execution_count": 25,
     "metadata": {},
     "output_type": "execute_result"
    }
   ],
   "source": [
    "neat"
   ]
  },
  {
   "cell_type": "markdown",
   "id": "4b3d84e7-7bc7-4041-9fdc-e592bfb15afa",
   "metadata": {},
   "source": [
    "Now we have a verified data model, which is ready to write to a destination."
   ]
  },
  {
   "cell_type": "code",
   "execution_count": 26,
   "id": "0e959f25-d3dd-4630-aa8b-a86cdf80e52d",
   "metadata": {},
   "outputs": [],
   "source": [
    "neat.to.excel(\"my_first_model.xlsx\", model=\"physical\")"
   ]
  },
  {
   "cell_type": "markdown",
   "id": "93750dd5-19fd-4fb1-84e8-440e3dc861ea",
   "metadata": {},
   "source": [
    "The above command writes the data model to the file `my_first_model.xlsx`."
   ]
  },
  {
   "cell_type": "markdown",
   "id": "9a80d17e-9eee-4b4c-916f-b3549293243f",
   "metadata": {},
   "source": [
    "## Parameters of a <code>NeatSession</code> "
   ]
  },
  {
   "cell_type": "markdown",
   "id": "e1603ee6-d487-4cac-a855-7cd81bf5d851",
   "metadata": {},
   "source": [
    "The `NeatSession` has several parameters we can set. We can inspect this by presing `<shift>+<tab>` after writing `NeatSession(`"
   ]
  },
  {
   "cell_type": "code",
   "execution_count": null,
   "id": "930ef806-26b3-4a16-b9cc-7676bfc95b38",
   "metadata": {},
   "outputs": [],
   "source": [
    "neat = NeatSession("
   ]
  },
  {
   "cell_type": "code",
   "execution_count": null,
   "id": "59a88dad-2c5a-4b37-bc4a-5de3599dfc14",
   "metadata": {},
   "outputs": [],
   "source": []
  },
  {
   "cell_type": "markdown",
   "id": "66ab68ef-9989-4031-b8f3-d3fa2db5b60d",
   "metadata": {},
   "source": [
    "## Alternative to <code>get_cognite_client</code>"
   ]
  },
  {
   "cell_type": "code",
   "execution_count": null,
   "id": "01d597ec-acda-4473-b104-560bc1621764",
   "metadata": {},
   "outputs": [],
   "source": []
  },
  {
   "cell_type": "markdown",
   "id": "84341b25-9ec0-4570-a213-786eddfcafd1",
   "metadata": {},
   "source": []
  }
 ],
 "metadata": {
  "kernelspec": {
   "display_name": "Python 3 (ipykernel)",
   "language": "python",
   "name": "python3"
  },
  "language_info": {
   "codemirror_mode": {
    "name": "ipython",
    "version": 3
   },
   "file_extension": ".py",
   "mimetype": "text/x-python",
   "name": "python",
   "nbconvert_exporter": "python",
   "pygments_lexer": "ipython3",
   "version": "3.12.1"
  }
 },
 "nbformat": 4,
 "nbformat_minor": 5
}
