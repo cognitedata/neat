{
 "cells": [
  {
   "cell_type": "markdown",
   "id": "7a8dc944-7693-437b-9e72-672f23cadad6",
   "metadata": {
    "editable": true,
    "slideshow": {
     "slide_type": ""
    },
    "tags": []
   },
   "source": [
    "# Onboard DEXPI data to CDF\n",
    "\n",
    "**Prerequisite**:\n",
    "\n",
    "- Installed Neat, see [Installation](../../../gettingstarted/installation.html)\n",
    "- Launched a notebook environment.\n",
    "- Familiar with the `NeatSession` object, see [introduction](../../introduction/introduction.html)\n",
    "- Access to `NeatEngine`.\n",
    "\n",
    "In this tutorial, we will:\n",
    "- extract a knowledge graph from a `dexpi` P&ID file\n",
    "- transform knowledge graph for further usage in CDF\n",
    "- infer a data model based on the transformed knowledge graph\n",
    "- and finally push both the data model and instances from knowledge graph to CDF\n",
    "\n",
    "\n",
    "Read more about dexpi here: https://www.dexpi.org/"
   ]
  },
  {
   "cell_type": "markdown",
   "id": "9d4056db-aa9e-4ba9-824e-1b6b2d0f2fd2",
   "metadata": {
    "editable": true,
    "slideshow": {
     "slide_type": ""
    },
    "tags": []
   },
   "source": [
    "## Extract knowledge graph from dexpi P&ID file"
   ]
  },
  {
   "cell_type": "markdown",
   "id": "a77d8669-2469-47eb-bb43-cbfefe3c6355",
   "metadata": {
    "editable": true,
    "slideshow": {
     "slide_type": ""
    },
    "tags": []
   },
   "source": [
    "We will start by instantiating a `NeatSession` and read the data from a local folder.\n",
    "Make sure you have a dexpi P&ID file in the folder. In case of this tutorial we are using a DEXPI file provided by DISC initiative. You can download file from <a href=\"https://github.com/cognitedata/neat/raw/refs/heads/main/tests/data/depxi_example.xml\" download=\"depxi_example.xml\">this link</a> (if download does not start right click and save link as).\n",
    "\n",
    "```python"
   ]
  },
  {
   "cell_type": "code",
   "execution_count": 1,
   "id": "ce9e6075-0cbd-4109-ac5a-45455fd596e9",
   "metadata": {
    "editable": true,
    "slideshow": {
     "slide_type": ""
    },
    "tags": []
   },
   "outputs": [],
   "source": [
    "from cognite.neat import NeatSession, get_cognite_client"
   ]
  },
  {
   "cell_type": "code",
   "execution_count": 2,
   "id": "25c2cd81-be72-49a9-9000-3fadf47ab3c9",
   "metadata": {
    "editable": true,
    "slideshow": {
     "slide_type": ""
    },
    "tags": []
   },
   "outputs": [
    {
     "name": "stdout",
     "output_type": "stream",
     "text": [
      "Found .env file in repository root. Loaded variables from .env file.\n",
      "Neat Engine 2.0.3 loaded.\n"
     ]
    }
   ],
   "source": [
    "# Note that we use Oxigraph in this example, this will not work in a CDF notebook\n",
    "# to make it work in a CDF notebook replace set storage=\"memory\"\n",
    "\n",
    "neat = NeatSession(get_cognite_client(\".env\"), storage=\"oxigraph\")"
   ]
  },
  {
   "cell_type": "markdown",
   "id": "efe15631",
   "metadata": {
    "editable": true,
    "slideshow": {
     "slide_type": ""
    },
    "tags": []
   },
   "source": [
    "Process of extracting graph from a dexpi file can take a bit of time, so be patient."
   ]
  },
  {
   "cell_type": "code",
   "execution_count": 3,
   "id": "3a9861a6",
   "metadata": {
    "editable": true,
    "slideshow": {
     "slide_type": ""
    },
    "tags": []
   },
   "outputs": [],
   "source": [
    "neat.read.xml.dexpi(\"./data.xml\")"
   ]
  },
  {
   "cell_type": "markdown",
   "id": "4315559b",
   "metadata": {
    "editable": true,
    "slideshow": {
     "slide_type": ""
    },
    "tags": []
   },
   "source": [
    "If we now check content of the `graph` object, we will see that it contains a knowledge graph extracted from the dexpi file:"
   ]
  },
  {
   "cell_type": "code",
   "execution_count": 4,
   "id": "1646923c-7225-4a5f-bc62-6aec0bfb092b",
   "metadata": {
    "editable": true,
    "slideshow": {
     "slide_type": ""
    },
    "tags": [
     "hide"
    ]
   },
   "outputs": [],
   "source": [
    "# This cell is removed from the docs.\n",
    "from cognite.neat._config import GLOBAL_CONFIG\n",
    "\n",
    "# Switch to TQDM progress bar as that looks better in the docs\n",
    "GLOBAL_CONFIG.progress_bar = \"tqdm-notebook\""
   ]
  },
  {
   "cell_type": "code",
   "execution_count": 5,
   "id": "4b3c744e",
   "metadata": {
    "editable": true,
    "slideshow": {
     "slide_type": ""
    },
    "tags": []
   },
   "outputs": [
    {
     "data": {
      "text/html": [
       "<H2>Instances</H2> <br /><strong>Overview</strong>:<ul><li>43 types</strong></li><li>1306 instances</strong></li></ul><div>\n",
       "<style scoped>\n",
       "    .dataframe tbody tr th:only-of-type {\n",
       "        vertical-align: middle;\n",
       "    }\n",
       "\n",
       "    .dataframe tbody tr th {\n",
       "        vertical-align: top;\n",
       "    }\n",
       "\n",
       "    .dataframe thead th {\n",
       "        text-align: right;\n",
       "    }\n",
       "</style>\n",
       "<table border=\"1\" class=\"dataframe\">\n",
       "  <thead>\n",
       "    <tr style=\"text-align: right;\">\n",
       "      <th></th>\n",
       "      <th>Type</th>\n",
       "      <th>Occurrence</th>\n",
       "    </tr>\n",
       "  </thead>\n",
       "  <tbody>\n",
       "    <tr>\n",
       "      <th>0</th>\n",
       "      <td>GenericAttribute</td>\n",
       "      <td>770</td>\n",
       "    </tr>\n",
       "    <tr>\n",
       "      <th>1</th>\n",
       "      <td>Association</td>\n",
       "      <td>330</td>\n",
       "    </tr>\n",
       "    <tr>\n",
       "      <th>2</th>\n",
       "      <td>PipingNetworkSegment</td>\n",
       "      <td>29</td>\n",
       "    </tr>\n",
       "    <tr>\n",
       "      <th>3</th>\n",
       "      <td>Nozzle</td>\n",
       "      <td>23</td>\n",
       "    </tr>\n",
       "    <tr>\n",
       "      <th>4</th>\n",
       "      <td>PipingNetworkSystem</td>\n",
       "      <td>20</td>\n",
       "    </tr>\n",
       "    <tr>\n",
       "      <th>...</th>\n",
       "      <td>...</td>\n",
       "      <td>...</td>\n",
       "    </tr>\n",
       "    <tr>\n",
       "      <th>42</th>\n",
       "      <td>PipeReducer</td>\n",
       "      <td>1</td>\n",
       "    </tr>\n",
       "  </tbody>\n",
       "</table>\n",
       "</div><br /><strong>Provenance</strong>:<ul><li>Initialize graph store as OxigraphStore</li><li>Extracted triples to graph store using DexpiExtractor</li></ul>"
      ],
      "text/plain": [
       "<cognite.neat._session._base.NeatSession at 0x2be5cc55f70>"
      ]
     },
     "execution_count": 5,
     "metadata": {},
     "output_type": "execute_result"
    }
   ],
   "source": [
    "neat"
   ]
  },
  {
   "cell_type": "markdown",
   "id": "10a60905-ce7e-4ef6-80c8-b361b54d1d28",
   "metadata": {
    "editable": true,
    "slideshow": {
     "slide_type": ""
    },
    "tags": []
   },
   "source": [
    "Now we will tranform this graph by calling dexpi specific bundle of transformers, which will:\n",
    "- attach values of generic attributes to nodes\n",
    "- create associations between nodes\n",
    "- remove unused generic attributes\n",
    "- remove associations between nodes that do not exist in the extracted graph\n",
    "- remove edges to nodes that do not exist in the extracted graph"
   ]
  },
  {
   "cell_type": "code",
   "execution_count": 6,
   "id": "dd1ad78f-f0c2-4c5a-9ec8-737eba719a36",
   "metadata": {
    "editable": true,
    "slideshow": {
     "slide_type": ""
    },
    "tags": []
   },
   "outputs": [],
   "source": [
    "neat.prepare.instances.dexpi()"
   ]
  },
  {
   "cell_type": "markdown",
   "id": "fd77d8c7-69a5-4dc5-b2b6-a1b05ad67e3c",
   "metadata": {
    "editable": true,
    "slideshow": {
     "slide_type": ""
    },
    "tags": []
   },
   "source": [
    "If we run notebook locally we can preview a part of knowledge graph which should have `ProcessPlant` in its center:"
   ]
  },
  {
   "cell_type": "code",
   "execution_count": 6,
   "id": "6eb9f351-8e44-4fb5-bcfa-0483b2321b42",
   "metadata": {},
   "outputs": [
    {
     "name": "stdout",
     "output_type": "stream",
     "text": [
      "instances.html\n"
     ]
    },
    {
     "data": {
      "text/html": [
       "\n",
       "        <iframe\n",
       "            width=\"100%\"\n",
       "            height=\"750px\"\n",
       "            src=\"instances.html\"\n",
       "            frameborder=\"0\"\n",
       "            allowfullscreen\n",
       "            \n",
       "        ></iframe>\n",
       "        "
      ],
      "text/plain": [
       "<IPython.lib.display.IFrame at 0x1b9c58c57f0>"
      ]
     },
     "execution_count": 6,
     "metadata": {},
     "output_type": "execute_result"
    }
   ],
   "source": [
    "neat.show.instances()"
   ]
  },
  {
   "cell_type": "markdown",
   "id": "11411ac9-ab9b-48bf-8d51-e153ab267389",
   "metadata": {},
   "source": [
    "If we now inspect content of neat session we can notice that we went from 1306 to 206 instances, since we perfomed all the above transformations in order to produce rich and well connected graph.\n",
    "Observ that number of types went only from 43 to 41, and that is because we move information from `GenericAttribute` and `Association` to correct nodes, making new properties and edges.\n",
    "These two types where then consecutively removed as all their information has been used."
   ]
  },
  {
   "cell_type": "code",
   "execution_count": 7,
   "id": "e93d011b-a1b3-4397-99d3-14d2e1380b8d",
   "metadata": {
    "editable": true,
    "slideshow": {
     "slide_type": ""
    },
    "tags": []
   },
   "outputs": [
    {
     "data": {
      "text/html": [
       "<H2>Instances</H2> <br /><strong>Overview</strong>:<ul><li>41 types</strong></li><li>206 instances</strong></li></ul><div>\n",
       "<style scoped>\n",
       "    .dataframe tbody tr th:only-of-type {\n",
       "        vertical-align: middle;\n",
       "    }\n",
       "\n",
       "    .dataframe tbody tr th {\n",
       "        vertical-align: top;\n",
       "    }\n",
       "\n",
       "    .dataframe thead th {\n",
       "        text-align: right;\n",
       "    }\n",
       "</style>\n",
       "<table border=\"1\" class=\"dataframe\">\n",
       "  <thead>\n",
       "    <tr style=\"text-align: right;\">\n",
       "      <th></th>\n",
       "      <th>Type</th>\n",
       "      <th>Occurrence</th>\n",
       "    </tr>\n",
       "  </thead>\n",
       "  <tbody>\n",
       "    <tr>\n",
       "      <th>0</th>\n",
       "      <td>PipingNetworkSegment</td>\n",
       "      <td>29</td>\n",
       "    </tr>\n",
       "    <tr>\n",
       "      <th>1</th>\n",
       "      <td>Nozzle</td>\n",
       "      <td>23</td>\n",
       "    </tr>\n",
       "    <tr>\n",
       "      <th>2</th>\n",
       "      <td>PipingNetworkSystem</td>\n",
       "      <td>20</td>\n",
       "    </tr>\n",
       "    <tr>\n",
       "      <th>3</th>\n",
       "      <td>Flange</td>\n",
       "      <td>19</td>\n",
       "    </tr>\n",
       "    <tr>\n",
       "      <th>4</th>\n",
       "      <td>ProcessInstrumentationFunction</td>\n",
       "      <td>19</td>\n",
       "    </tr>\n",
       "    <tr>\n",
       "      <th>...</th>\n",
       "      <td>...</td>\n",
       "      <td>...</td>\n",
       "    </tr>\n",
       "    <tr>\n",
       "      <th>40</th>\n",
       "      <td>PipeReducer</td>\n",
       "      <td>1</td>\n",
       "    </tr>\n",
       "  </tbody>\n",
       "</table>\n",
       "</div><br /><strong>Provenance</strong>:<ul><li>Initialize graph store as OxigraphStore</li><li>Extracted triples to graph store using DexpiExtractor</li><li>Prunes the graph of triples where the object is a node that is not found in the graph.</li><li>Attaches a target property from a target node that is connected to a source node.</li><li>Attaches a target property from a target node that is connected to a source node.</li><li>Prunes nodes of specific rdf types</li><li>Pruning the graph of triples where object is a node that is not found in graph.</li></ul>"
      ],
      "text/plain": [
       "<cognite.neat._session._base.NeatSession at 0x2be5cc55f70>"
      ]
     },
     "execution_count": 7,
     "metadata": {},
     "output_type": "execute_result"
    }
   ],
   "source": [
    "neat"
   ]
  },
  {
   "cell_type": "markdown",
   "id": "07606555-2f74-4fb6-81df-7a788f49c565",
   "metadata": {
    "editable": true,
    "slideshow": {
     "slide_type": ""
    },
    "tags": []
   },
   "source": [
    "Studying the output above, we see that we succesfully read the assets and activities."
   ]
  },
  {
   "cell_type": "markdown",
   "id": "a101205b-f974-44d7-9562-f97b88bd48f7",
   "metadata": {},
   "source": [
    "## Infer Data Model"
   ]
  },
  {
   "cell_type": "markdown",
   "id": "5d8b4096-71b1-4894-8dd0-3a4bbbc0bd2b",
   "metadata": {},
   "source": [
    "We can infer a data model from data in the `NeatSession` by calling `.infer()`."
   ]
  },
  {
   "cell_type": "code",
   "execution_count": 8,
   "id": "2503e389-1236-40f6-ba94-6700702e7cb8",
   "metadata": {
    "editable": true,
    "slideshow": {
     "slide_type": ""
    },
    "tags": []
   },
   "outputs": [
    {
     "data": {
      "application/vnd.jupyter.widget-view+json": {
       "model_id": "6df03c0534aa4965b1b2bd8c51d3a3c2",
       "version_major": 2,
       "version_minor": 0
      },
      "text/plain": [
       "Inferring classes:   0%|          | 0/41 [00:00<?, ?it/s]"
      ]
     },
     "metadata": {},
     "output_type": "display_data"
    },
    {
     "data": {
      "text/html": [
       "<p>Success: Inferred UnverifiedInformationModel</p>"
      ],
      "text/plain": [
       "[]"
      ]
     },
     "execution_count": 8,
     "metadata": {},
     "output_type": "execute_result"
    }
   ],
   "source": [
    "neat.infer()"
   ]
  },
  {
   "cell_type": "code",
   "execution_count": 9,
   "id": "e32a56ff-478f-4c52-b384-a8f8216b4178",
   "metadata": {
    "editable": true,
    "slideshow": {
     "slide_type": ""
    },
    "tags": []
   },
   "outputs": [
    {
     "data": {
      "text/html": [
       "<H2>Unverified Data Model</H2><br /><div>\n",
       "<style scoped>\n",
       "    .dataframe tbody tr th:only-of-type {\n",
       "        vertical-align: middle;\n",
       "    }\n",
       "\n",
       "    .dataframe tbody tr th {\n",
       "        vertical-align: top;\n",
       "    }\n",
       "\n",
       "    .dataframe thead th {\n",
       "        text-align: right;\n",
       "    }\n",
       "</style>\n",
       "<table border=\"1\" class=\"dataframe\">\n",
       "  <thead>\n",
       "    <tr style=\"text-align: right;\">\n",
       "      <th></th>\n",
       "      <th></th>\n",
       "    </tr>\n",
       "  </thead>\n",
       "  <tbody>\n",
       "    <tr>\n",
       "      <th>type</th>\n",
       "      <td>Logical Data Model</td>\n",
       "    </tr>\n",
       "    <tr>\n",
       "      <th>intended for</th>\n",
       "      <td>Information Architect</td>\n",
       "    </tr>\n",
       "    <tr>\n",
       "      <th>name</th>\n",
       "      <td>Inferred Model</td>\n",
       "    </tr>\n",
       "    <tr>\n",
       "      <th>external_id</th>\n",
       "      <td>NeatInferredDataModel</td>\n",
       "    </tr>\n",
       "    <tr>\n",
       "      <th>space</th>\n",
       "      <td>neat_space</td>\n",
       "    </tr>\n",
       "    <tr>\n",
       "      <th>version</th>\n",
       "      <td>v1</td>\n",
       "    </tr>\n",
       "    <tr>\n",
       "      <th>classes</th>\n",
       "      <td>41</td>\n",
       "    </tr>\n",
       "    <tr>\n",
       "      <th>properties</th>\n",
       "      <td>283</td>\n",
       "    </tr>\n",
       "  </tbody>\n",
       "</table>\n",
       "</div><br /><H2>Instances</H2> <br /><strong>Overview</strong>:<ul><li>41 types</strong></li><li>206 instances</strong></li></ul><div>\n",
       "<style scoped>\n",
       "    .dataframe tbody tr th:only-of-type {\n",
       "        vertical-align: middle;\n",
       "    }\n",
       "\n",
       "    .dataframe tbody tr th {\n",
       "        vertical-align: top;\n",
       "    }\n",
       "\n",
       "    .dataframe thead th {\n",
       "        text-align: right;\n",
       "    }\n",
       "</style>\n",
       "<table border=\"1\" class=\"dataframe\">\n",
       "  <thead>\n",
       "    <tr style=\"text-align: right;\">\n",
       "      <th></th>\n",
       "      <th>Type</th>\n",
       "      <th>Occurrence</th>\n",
       "    </tr>\n",
       "  </thead>\n",
       "  <tbody>\n",
       "    <tr>\n",
       "      <th>0</th>\n",
       "      <td>PipingNetworkSegment</td>\n",
       "      <td>29</td>\n",
       "    </tr>\n",
       "    <tr>\n",
       "      <th>1</th>\n",
       "      <td>Nozzle</td>\n",
       "      <td>23</td>\n",
       "    </tr>\n",
       "    <tr>\n",
       "      <th>2</th>\n",
       "      <td>PipingNetworkSystem</td>\n",
       "      <td>20</td>\n",
       "    </tr>\n",
       "    <tr>\n",
       "      <th>3</th>\n",
       "      <td>Flange</td>\n",
       "      <td>19</td>\n",
       "    </tr>\n",
       "    <tr>\n",
       "      <th>4</th>\n",
       "      <td>ProcessInstrumentationFunction</td>\n",
       "      <td>19</td>\n",
       "    </tr>\n",
       "    <tr>\n",
       "      <th>...</th>\n",
       "      <td>...</td>\n",
       "      <td>...</td>\n",
       "    </tr>\n",
       "    <tr>\n",
       "      <th>40</th>\n",
       "      <td>PipeReducer</td>\n",
       "      <td>1</td>\n",
       "    </tr>\n",
       "  </tbody>\n",
       "</table>\n",
       "</div><br /><strong>Provenance</strong>:<ul><li>Initialize graph store as OxigraphStore</li><li>Extracted triples to graph store using DexpiExtractor</li><li>Prunes the graph of specified rdf types that do not have connections to other nodes.</li><li>Attaches a target property from a target node that is connected to a source node.</li><li>Attaches a target property from a target node that is connected to a source node.</li><li>Prunes nodes of specific rdf types</li><li>Prunes the graph of specified rdf types that do not have connections to other nodes.</li></ul>"
      ],
      "text/plain": [
       "<cognite.neat._session._base.NeatSession at 0x1b9c3b0b6e0>"
      ]
     },
     "execution_count": 9,
     "metadata": {},
     "output_type": "execute_result"
    }
   ],
   "source": [
    "neat"
   ]
  },
  {
   "cell_type": "markdown",
   "id": "7da9e10f-c3ae-402b-a7ca-ed302609860a",
   "metadata": {},
   "source": [
    "This gives us an unverified data model, which we can then verify"
   ]
  },
  {
   "cell_type": "markdown",
   "id": "81677b70-9e24-446a-ae47-2c7ca17c0893",
   "metadata": {},
   "source": [
    "## Verify Data Model"
   ]
  },
  {
   "cell_type": "code",
   "execution_count": 10,
   "id": "bf55a721-11a0-4232-ae07-0df152499689",
   "metadata": {
    "editable": true,
    "slideshow": {
     "slide_type": ""
    },
    "tags": []
   },
   "outputs": [
    {
     "data": {
      "text/html": [
       "<p>Success: UnverifiedInformationModel &#8594; VerifiedInformationModel</p>"
      ],
      "text/plain": [
       "[]"
      ]
     },
     "execution_count": 10,
     "metadata": {},
     "output_type": "execute_result"
    }
   ],
   "source": [
    "neat.verify()"
   ]
  },
  {
   "cell_type": "code",
   "execution_count": 11,
   "id": "cd332871-25ce-4860-bd3f-dd85464f7274",
   "metadata": {},
   "outputs": [
    {
     "data": {
      "text/html": [
       "<H2>Verified Data Model</H2><br /><div>\n",
       "<style scoped>\n",
       "    .dataframe tbody tr th:only-of-type {\n",
       "        vertical-align: middle;\n",
       "    }\n",
       "\n",
       "    .dataframe tbody tr th {\n",
       "        vertical-align: top;\n",
       "    }\n",
       "\n",
       "    .dataframe thead th {\n",
       "        text-align: right;\n",
       "    }\n",
       "</style>\n",
       "<table border=\"1\" class=\"dataframe\">\n",
       "  <thead>\n",
       "    <tr style=\"text-align: right;\">\n",
       "      <th></th>\n",
       "      <th></th>\n",
       "    </tr>\n",
       "  </thead>\n",
       "  <tbody>\n",
       "    <tr>\n",
       "      <th>type</th>\n",
       "      <td>Logical Data Model</td>\n",
       "    </tr>\n",
       "    <tr>\n",
       "      <th>intended for</th>\n",
       "      <td>Information Architect</td>\n",
       "    </tr>\n",
       "    <tr>\n",
       "      <th>name</th>\n",
       "      <td>Inferred Model</td>\n",
       "    </tr>\n",
       "    <tr>\n",
       "      <th>external_id</th>\n",
       "      <td>NeatInferredDataModel</td>\n",
       "    </tr>\n",
       "    <tr>\n",
       "      <th>version</th>\n",
       "      <td>v1</td>\n",
       "    </tr>\n",
       "    <tr>\n",
       "      <th>classes</th>\n",
       "      <td>41</td>\n",
       "    </tr>\n",
       "    <tr>\n",
       "      <th>properties</th>\n",
       "      <td>283</td>\n",
       "    </tr>\n",
       "  </tbody>\n",
       "</table>\n",
       "</div><br /><H2>Instances</H2> <br /><strong>Overview</strong>:<ul><li>41 types</strong></li><li>206 instances</strong></li></ul><div>\n",
       "<style scoped>\n",
       "    .dataframe tbody tr th:only-of-type {\n",
       "        vertical-align: middle;\n",
       "    }\n",
       "\n",
       "    .dataframe tbody tr th {\n",
       "        vertical-align: top;\n",
       "    }\n",
       "\n",
       "    .dataframe thead th {\n",
       "        text-align: right;\n",
       "    }\n",
       "</style>\n",
       "<table border=\"1\" class=\"dataframe\">\n",
       "  <thead>\n",
       "    <tr style=\"text-align: right;\">\n",
       "      <th></th>\n",
       "      <th>Type</th>\n",
       "      <th>Occurrence</th>\n",
       "    </tr>\n",
       "  </thead>\n",
       "  <tbody>\n",
       "    <tr>\n",
       "      <th>0</th>\n",
       "      <td>PipingNetworkSegment</td>\n",
       "      <td>29</td>\n",
       "    </tr>\n",
       "    <tr>\n",
       "      <th>1</th>\n",
       "      <td>Nozzle</td>\n",
       "      <td>23</td>\n",
       "    </tr>\n",
       "    <tr>\n",
       "      <th>2</th>\n",
       "      <td>PipingNetworkSystem</td>\n",
       "      <td>20</td>\n",
       "    </tr>\n",
       "    <tr>\n",
       "      <th>3</th>\n",
       "      <td>Flange</td>\n",
       "      <td>19</td>\n",
       "    </tr>\n",
       "    <tr>\n",
       "      <th>4</th>\n",
       "      <td>ProcessInstrumentationFunction</td>\n",
       "      <td>19</td>\n",
       "    </tr>\n",
       "    <tr>\n",
       "      <th>...</th>\n",
       "      <td>...</td>\n",
       "      <td>...</td>\n",
       "    </tr>\n",
       "    <tr>\n",
       "      <th>40</th>\n",
       "      <td>PipeReducer</td>\n",
       "      <td>1</td>\n",
       "    </tr>\n",
       "  </tbody>\n",
       "</table>\n",
       "</div><br /><strong>Provenance</strong>:<ul><li>Initialize graph store as OxigraphStore</li><li>Extracted triples to graph store using DexpiExtractor</li><li>Prunes the graph of specified rdf types that do not have connections to other nodes.</li><li>Attaches a target property from a target node that is connected to a source node.</li><li>Attaches a target property from a target node that is connected to a source node.</li><li>Prunes nodes of specific rdf types</li><li>Prunes the graph of specified rdf types that do not have connections to other nodes.</li><li>Added rules to graph store as InformationRules</li><li>Upsert prefixes to graph store</li></ul>"
      ],
      "text/plain": [
       "<cognite.neat._session._base.NeatSession at 0x1b9c3b0b6e0>"
      ]
     },
     "execution_count": 11,
     "metadata": {},
     "output_type": "execute_result"
    }
   ],
   "source": [
    "neat"
   ]
  },
  {
   "cell_type": "markdown",
   "id": "d4692330-a523-4460-849d-d69f799fa8a5",
   "metadata": {},
   "source": [
    "We now convert verified data model to be DMS compliant"
   ]
  },
  {
   "cell_type": "code",
   "execution_count": 12,
   "id": "1395bd1f-47dd-4f69-b90d-e88f2f392a99",
   "metadata": {},
   "outputs": [
    {
     "name": "stdout",
     "output_type": "stream",
     "text": [
      "Rules converted to dms\n"
     ]
    },
    {
     "data": {
      "text/html": [
       "<p>Success: VerifiedInformationModel &#8594; VerifiedDMSModel</p>"
      ],
      "text/plain": [
       "[]"
      ]
     },
     "execution_count": 12,
     "metadata": {},
     "output_type": "execute_result"
    }
   ],
   "source": [
    "neat.convert(\"dms\")"
   ]
  },
  {
   "cell_type": "markdown",
   "id": "8ff09f54-e834-45eb-8c8c-69fc06d4b51a",
   "metadata": {},
   "source": [
    "## Inspect Data Model\n",
    "\n",
    "First we will set data model id to (\"dexpi_playground\", \"DEXPI\", \"v1.3.1\"), where tuple represents (space, external_id, version) of data model\n",
    "\n",
    "We use the `.show` to inspect the data model and see how data model objects are connected, the resulting interactive data model visualization should be similar to this one:\n"
   ]
  },
  {
   "cell_type": "code",
   "execution_count": 13,
   "id": "cda5cbc0-c9ce-4f94-82a3-4d4d407aec37",
   "metadata": {},
   "outputs": [
    {
     "name": "stdout",
     "output_type": "stream",
     "text": [
      "http_purl.org_cognite_neat_data-model_verified_physical_neat_space_NeatInferredDataModel_v1.html\n"
     ]
    },
    {
     "data": {
      "text/html": [
       "\n",
       "        <iframe\n",
       "            width=\"100%\"\n",
       "            height=\"750px\"\n",
       "            src=\"http_purl.org_cognite_neat_data-model_verified_physical_neat_space_NeatInferredDataModel_v1.html\"\n",
       "            frameborder=\"0\"\n",
       "            allowfullscreen\n",
       "            \n",
       "        ></iframe>\n",
       "        "
      ],
      "text/plain": [
       "<IPython.lib.display.IFrame at 0x1b9c6584140>"
      ]
     },
     "execution_count": 13,
     "metadata": {},
     "output_type": "execute_result"
    }
   ],
   "source": [
    "neat.show.data_model()"
   ]
  },
  {
   "cell_type": "code",
   "execution_count": 14,
   "id": "c54f2e5f-5cfc-437d-9437-65bbfec0f4b0",
   "metadata": {},
   "outputs": [
    {
     "data": {
      "text/html": [
       "<p>Success: VerifiedDMSModel &#8594; VerifiedDMSModel</p>"
      ],
      "text/plain": [
       "[]"
      ]
     },
     "execution_count": 14,
     "metadata": {},
     "output_type": "execute_result"
    }
   ],
   "source": [
    "neat.set.data_model_id((\"dexpi_playground\", \"DEXPI\", \"v1.3.1\"))"
   ]
  },
  {
   "cell_type": "code",
   "execution_count": 15,
   "id": "3628b792-eae6-4287-bb53-6a9716020154",
   "metadata": {},
   "outputs": [
    {
     "data": {
      "text/html": [
       "<H2>Verified Data Model</H2><br /><div>\n",
       "<style scoped>\n",
       "    .dataframe tbody tr th:only-of-type {\n",
       "        vertical-align: middle;\n",
       "    }\n",
       "\n",
       "    .dataframe tbody tr th {\n",
       "        vertical-align: top;\n",
       "    }\n",
       "\n",
       "    .dataframe thead th {\n",
       "        text-align: right;\n",
       "    }\n",
       "</style>\n",
       "<table border=\"1\" class=\"dataframe\">\n",
       "  <thead>\n",
       "    <tr style=\"text-align: right;\">\n",
       "      <th></th>\n",
       "      <th></th>\n",
       "    </tr>\n",
       "  </thead>\n",
       "  <tbody>\n",
       "    <tr>\n",
       "      <th>aspect</th>\n",
       "      <td>physical</td>\n",
       "    </tr>\n",
       "    <tr>\n",
       "      <th>intended for</th>\n",
       "      <td>DMS Architect</td>\n",
       "    </tr>\n",
       "    <tr>\n",
       "      <th>name</th>\n",
       "      <td>Inferred Model</td>\n",
       "    </tr>\n",
       "    <tr>\n",
       "      <th>space</th>\n",
       "      <td>dexpi_playground</td>\n",
       "    </tr>\n",
       "    <tr>\n",
       "      <th>external_id</th>\n",
       "      <td>DEXPI</td>\n",
       "    </tr>\n",
       "    <tr>\n",
       "      <th>version</th>\n",
       "      <td>v1.3.1</td>\n",
       "    </tr>\n",
       "    <tr>\n",
       "      <th>views</th>\n",
       "      <td>41</td>\n",
       "    </tr>\n",
       "    <tr>\n",
       "      <th>containers</th>\n",
       "      <td>41</td>\n",
       "    </tr>\n",
       "    <tr>\n",
       "      <th>properties</th>\n",
       "      <td>283</td>\n",
       "    </tr>\n",
       "  </tbody>\n",
       "</table>\n",
       "</div><br /><H2>Instances</H2> <br /><strong>Overview</strong>:<ul><li>41 types</strong></li><li>206 instances</strong></li></ul><div>\n",
       "<style scoped>\n",
       "    .dataframe tbody tr th:only-of-type {\n",
       "        vertical-align: middle;\n",
       "    }\n",
       "\n",
       "    .dataframe tbody tr th {\n",
       "        vertical-align: top;\n",
       "    }\n",
       "\n",
       "    .dataframe thead th {\n",
       "        text-align: right;\n",
       "    }\n",
       "</style>\n",
       "<table border=\"1\" class=\"dataframe\">\n",
       "  <thead>\n",
       "    <tr style=\"text-align: right;\">\n",
       "      <th></th>\n",
       "      <th>Type</th>\n",
       "      <th>Occurrence</th>\n",
       "    </tr>\n",
       "  </thead>\n",
       "  <tbody>\n",
       "    <tr>\n",
       "      <th>0</th>\n",
       "      <td>PipingNetworkSegment</td>\n",
       "      <td>29</td>\n",
       "    </tr>\n",
       "    <tr>\n",
       "      <th>1</th>\n",
       "      <td>Nozzle</td>\n",
       "      <td>23</td>\n",
       "    </tr>\n",
       "    <tr>\n",
       "      <th>2</th>\n",
       "      <td>PipingNetworkSystem</td>\n",
       "      <td>20</td>\n",
       "    </tr>\n",
       "    <tr>\n",
       "      <th>3</th>\n",
       "      <td>Flange</td>\n",
       "      <td>19</td>\n",
       "    </tr>\n",
       "    <tr>\n",
       "      <th>4</th>\n",
       "      <td>ProcessInstrumentationFunction</td>\n",
       "      <td>19</td>\n",
       "    </tr>\n",
       "    <tr>\n",
       "      <th>...</th>\n",
       "      <td>...</td>\n",
       "      <td>...</td>\n",
       "    </tr>\n",
       "    <tr>\n",
       "      <th>40</th>\n",
       "      <td>PipeReducer</td>\n",
       "      <td>1</td>\n",
       "    </tr>\n",
       "  </tbody>\n",
       "</table>\n",
       "</div><br /><strong>Provenance</strong>:<ul><li>Initialize graph store as OxigraphStore</li><li>Extracted triples to graph store using DexpiExtractor</li><li>Prunes the graph of specified rdf types that do not have connections to other nodes.</li><li>Attaches a target property from a target node that is connected to a source node.</li><li>Attaches a target property from a target node that is connected to a source node.</li><li>Prunes nodes of specific rdf types</li><li>Prunes the graph of specified rdf types that do not have connections to other nodes.</li><li>Added rules to graph store as InformationRules</li><li>Upsert prefixes to graph store</li></ul>"
      ],
      "text/plain": [
       "<cognite.neat._session._base.NeatSession at 0x1b9c3b0b6e0>"
      ]
     },
     "execution_count": 15,
     "metadata": {},
     "output_type": "execute_result"
    }
   ],
   "source": [
    "neat"
   ]
  },
  {
   "cell_type": "markdown",
   "id": "4becc30b-b131-45ff-9e7a-74f33f549de3",
   "metadata": {},
   "source": [
    "## Publishing Data Model to CDF"
   ]
  },
  {
   "cell_type": "markdown",
   "id": "4bf3a0e2-8f74-4797-abd9-48a2b7915534",
   "metadata": {},
   "source": [
    "Now we are ready to publish this to CDF."
   ]
  },
  {
   "cell_type": "code",
   "execution_count": 30,
   "id": "bd384ef9-f3b7-4d7d-b969-8d9f86752f7c",
   "metadata": {},
   "outputs": [
    {
     "name": "stdout",
     "output_type": "stream",
     "text": [
      "You can inspect the details with the .inspect.outcome.data_model(...) method.\n"
     ]
    },
    {
     "data": {
      "text/html": [
       "<style type=\"text/css\">\n",
       "</style>\n",
       "<table id=\"T_be492\">\n",
       "  <thead>\n",
       "    <tr>\n",
       "      <th class=\"blank level0\" >&nbsp;</th>\n",
       "      <th id=\"T_be492_level0_col0\" class=\"col_heading level0 col0\" >name</th>\n",
       "      <th id=\"T_be492_level0_col1\" class=\"col_heading level0 col1\" >created</th>\n",
       "    </tr>\n",
       "  </thead>\n",
       "  <tbody>\n",
       "    <tr>\n",
       "      <th id=\"T_be492_level0_row0\" class=\"row_heading level0 row0\" >0</th>\n",
       "      <td id=\"T_be492_row0_col0\" class=\"data row0 col0\" >schema</td>\n",
       "      <td id=\"T_be492_row0_col1\" class=\"data row0 col1\" >0</td>\n",
       "    </tr>\n",
       "    <tr>\n",
       "      <th id=\"T_be492_level0_row1\" class=\"row_heading level0 row1\" >1</th>\n",
       "      <td id=\"T_be492_row1_col0\" class=\"data row1 col0\" >spaces</td>\n",
       "      <td id=\"T_be492_row1_col1\" class=\"data row1 col1\" >1</td>\n",
       "    </tr>\n",
       "    <tr>\n",
       "      <th id=\"T_be492_level0_row2\" class=\"row_heading level0 row2\" >2</th>\n",
       "      <td id=\"T_be492_row2_col0\" class=\"data row2 col0\" >containers</td>\n",
       "      <td id=\"T_be492_row2_col1\" class=\"data row2 col1\" >41</td>\n",
       "    </tr>\n",
       "    <tr>\n",
       "      <th id=\"T_be492_level0_row3\" class=\"row_heading level0 row3\" >3</th>\n",
       "      <td id=\"T_be492_row3_col0\" class=\"data row3 col0\" >views</td>\n",
       "      <td id=\"T_be492_row3_col1\" class=\"data row3 col1\" >41</td>\n",
       "    </tr>\n",
       "    <tr>\n",
       "      <th id=\"T_be492_level0_row4\" class=\"row_heading level0 row4\" >4</th>\n",
       "      <td id=\"T_be492_row4_col0\" class=\"data row4 col0\" >data_models</td>\n",
       "      <td id=\"T_be492_row4_col1\" class=\"data row4 col1\" >1</td>\n",
       "    </tr>\n",
       "    <tr>\n",
       "      <th id=\"T_be492_level0_row5\" class=\"row_heading level0 row5\" >5</th>\n",
       "      <td id=\"T_be492_row5_col0\" class=\"data row5 col0\" >nodes</td>\n",
       "      <td id=\"T_be492_row5_col1\" class=\"data row5 col1\" >0</td>\n",
       "    </tr>\n",
       "  </tbody>\n",
       "</table>\n"
      ],
      "text/plain": [
       "[UploadResultCore(name='schema', error_messages=[], issues=[]),\n",
       " UploadResult(name='spaces', error_messages=[], issues=[], created={'dexpi_playground'}, upserted=set(), deleted=set(), changed=set(), unchanged=set(), skipped=set(), failed_created=set(), failed_upserted=set(), failed_changed=set(), failed_deleted=set()),\n",
       " UploadResult(name='containers', error_messages=[], issues=[], created={ContainerId(space='dexpi_playground', external_id='PlateHeatExchanger'), ContainerId(space='dexpi_playground', external_id='Flange'), ContainerId(space='dexpi_playground', external_id='PipingNetworkSegment'), ContainerId(space='dexpi_playground', external_id='ActuatingFunction'), ContainerId(space='dexpi_playground', external_id='Nozzle'), ContainerId(space='dexpi_playground', external_id='ProcessInstrumentationFunction'), ContainerId(space='dexpi_playground', external_id='ProcessPlant'), ContainerId(space='dexpi_playground', external_id='ElectricHeater'), ContainerId(space='dexpi_playground', external_id='ProcessSignalGeneratingFunction'), ContainerId(space='dexpi_playground', external_id='CheckValve'), ContainerId(space='dexpi_playground', external_id='PressureVessel'), ContainerId(space='dexpi_playground', external_id='BallValve'), ContainerId(space='dexpi_playground', external_id='CustomInlinePrimaryElement'), ContainerId(space='dexpi_playground', external_id='ActuatingElectricalFunction'), ContainerId(space='dexpi_playground', external_id='FlowOutPipeOffPageConnector'), ContainerId(space='dexpi_playground', external_id='FlowOutSignalOffPageConnector'), ContainerId(space='dexpi_playground', external_id='CustomPipingComponent'), ContainerId(space='dexpi_playground', external_id='BlindFlange'), ContainerId(space='dexpi_playground', external_id='MetaData'), ContainerId(space='dexpi_playground', external_id='CentrifugalPump'), ContainerId(space='dexpi_playground', external_id='RotaryPump'), ContainerId(space='dexpi_playground', external_id='CustomOperatedValve'), ContainerId(space='dexpi_playground', external_id='PipeReducer'), ContainerId(space='dexpi_playground', external_id='ButterflyValve'), ContainerId(space='dexpi_playground', external_id='PropertyBreak'), ContainerId(space='dexpi_playground', external_id='GateValve'), ContainerId(space='dexpi_playground', external_id='SafetyValveOrFitting'), ContainerId(space='dexpi_playground', external_id='CustomHeatExchanger'), ContainerId(space='dexpi_playground', external_id='Note'), ContainerId(space='dexpi_playground', external_id='ActuatingSystem'), ContainerId(space='dexpi_playground', external_id='SignalOffPageConnectorReferenceByNumber'), ContainerId(space='dexpi_playground', external_id='PlantSystem'), ContainerId(space='dexpi_playground', external_id='SignalConveyingFunction'), ContainerId(space='dexpi_playground', external_id='OperatedValveReference'), ContainerId(space='dexpi_playground', external_id='MeasuringLineFunction'), ContainerId(space='dexpi_playground', external_id='PipeOffPageConnectorReferenceByNumber'), ContainerId(space='dexpi_playground', external_id='PipingNetworkSystem'), ContainerId(space='dexpi_playground', external_id='InstrumentationLoopFunction'), ContainerId(space='dexpi_playground', external_id='PipeTee'), ContainerId(space='dexpi_playground', external_id='FlowInPipeOffPageConnector'), ContainerId(space='dexpi_playground', external_id='ControlledActuator')}, upserted=set(), deleted=set(), changed=set(), unchanged=set(), skipped=set(), failed_created=set(), failed_upserted=set(), failed_changed=set(), failed_deleted=set()),\n",
       " UploadResult(name='views', error_messages=[], issues=[], created={ViewId(space='dexpi_playground', external_id='CustomInlinePrimaryElement', version='v1.3.1'), ViewId(space='dexpi_playground', external_id='Nozzle', version='v1.3.1'), ViewId(space='dexpi_playground', external_id='ButterflyValve', version='v1.3.1'), ViewId(space='dexpi_playground', external_id='ProcessInstrumentationFunction', version='v1.3.1'), ViewId(space='dexpi_playground', external_id='ActuatingSystem', version='v1.3.1'), ViewId(space='dexpi_playground', external_id='MeasuringLineFunction', version='v1.3.1'), ViewId(space='dexpi_playground', external_id='SignalConveyingFunction', version='v1.3.1'), ViewId(space='dexpi_playground', external_id='PlantSystem', version='v1.3.1'), ViewId(space='dexpi_playground', external_id='RotaryPump', version='v1.3.1'), ViewId(space='dexpi_playground', external_id='GateValve', version='v1.3.1'), ViewId(space='dexpi_playground', external_id='OperatedValveReference', version='v1.3.1'), ViewId(space='dexpi_playground', external_id='PipeReducer', version='v1.3.1'), ViewId(space='dexpi_playground', external_id='ElectricHeater', version='v1.3.1'), ViewId(space='dexpi_playground', external_id='MetaData', version='v1.3.1'), ViewId(space='dexpi_playground', external_id='PressureVessel', version='v1.3.1'), ViewId(space='dexpi_playground', external_id='PipeOffPageConnectorReferenceByNumber', version='v1.3.1'), ViewId(space='dexpi_playground', external_id='PlateHeatExchanger', version='v1.3.1'), ViewId(space='dexpi_playground', external_id='ActuatingFunction', version='v1.3.1'), ViewId(space='dexpi_playground', external_id='PropertyBreak', version='v1.3.1'), ViewId(space='dexpi_playground', external_id='CentrifugalPump', version='v1.3.1'), ViewId(space='dexpi_playground', external_id='Note', version='v1.3.1'), ViewId(space='dexpi_playground', external_id='SafetyValveOrFitting', version='v1.3.1'), ViewId(space='dexpi_playground', external_id='FlowOutPipeOffPageConnector', version='v1.3.1'), ViewId(space='dexpi_playground', external_id='BallValve', version='v1.3.1'), ViewId(space='dexpi_playground', external_id='PipingNetworkSystem', version='v1.3.1'), ViewId(space='dexpi_playground', external_id='PipingNetworkSegment', version='v1.3.1'), ViewId(space='dexpi_playground', external_id='CustomHeatExchanger', version='v1.3.1'), ViewId(space='dexpi_playground', external_id='InstrumentationLoopFunction', version='v1.3.1'), ViewId(space='dexpi_playground', external_id='CustomOperatedValve', version='v1.3.1'), ViewId(space='dexpi_playground', external_id='FlowOutSignalOffPageConnector', version='v1.3.1'), ViewId(space='dexpi_playground', external_id='CheckValve', version='v1.3.1'), ViewId(space='dexpi_playground', external_id='CustomPipingComponent', version='v1.3.1'), ViewId(space='dexpi_playground', external_id='BlindFlange', version='v1.3.1'), ViewId(space='dexpi_playground', external_id='FlowInPipeOffPageConnector', version='v1.3.1'), ViewId(space='dexpi_playground', external_id='ProcessSignalGeneratingFunction', version='v1.3.1'), ViewId(space='dexpi_playground', external_id='ProcessPlant', version='v1.3.1'), ViewId(space='dexpi_playground', external_id='SignalOffPageConnectorReferenceByNumber', version='v1.3.1'), ViewId(space='dexpi_playground', external_id='ActuatingElectricalFunction', version='v1.3.1'), ViewId(space='dexpi_playground', external_id='ControlledActuator', version='v1.3.1'), ViewId(space='dexpi_playground', external_id='Flange', version='v1.3.1'), ViewId(space='dexpi_playground', external_id='PipeTee', version='v1.3.1')}, upserted=set(), deleted=set(), changed=set(), unchanged=set(), skipped=set(), failed_created=set(), failed_upserted=set(), failed_changed=set(), failed_deleted=set()),\n",
       " UploadResult(name='data_models', error_messages=[], issues=[], created={DataModelId(space='dexpi_playground', external_id='DEXPI', version='v1.3.1')}, upserted=set(), deleted=set(), changed=set(), unchanged=set(), skipped=set(), failed_created=set(), failed_upserted=set(), failed_changed=set(), failed_deleted=set()),\n",
       " UploadResult(name='nodes', error_messages=[], issues=[], created=set(), upserted=set(), deleted=set(), changed=set(), unchanged=set(), skipped=set(), failed_created=set(), failed_upserted=set(), failed_changed=set(), failed_deleted=set())]"
      ]
     },
     "execution_count": 30,
     "metadata": {},
     "output_type": "execute_result"
    }
   ],
   "source": [
    "neat.to.cdf.data_model()"
   ]
  },
  {
   "cell_type": "markdown",
   "id": "4ab09132-72a4-4e47-b331-4065f8157fdf",
   "metadata": {},
   "source": [
    "<img src=\"../../../artifacts/figs/dexpi-dm-cdf.png\" width=\"1200\">"
   ]
  },
  {
   "cell_type": "markdown",
   "id": "1823b569-57ae-4087-8ad9-c654b3181b54",
   "metadata": {},
   "source": [
    "## Populating Data Model"
   ]
  },
  {
   "cell_type": "markdown",
   "id": "dcd349ba-2993-4103-be19-5e8a6bfeaaf7",
   "metadata": {},
   "source": [
    "Neat keeps track of the data, so we can immidiately populate this data model with the original data"
   ]
  },
  {
   "cell_type": "code",
   "execution_count": 31,
   "id": "e4f02cc0-780e-42b3-847a-3e8f8c93704b",
   "metadata": {},
   "outputs": [
    {
     "name": "stderr",
     "output_type": "stream",
     "text": [
      "INFO | 2024-12-09 12:04:54,228 | Staring DMSLoader and will process 41 views.\n",
      "INFO | 2024-12-09 12:04:54,230 | Starting ViewId(space='dexpi_playground', external_id='ActuatingElectricalFunction', version='v1.3.1') 1/41.\n",
      "INFO | 2024-12-09 12:04:54,248 | Finished ViewId(space='dexpi_playground', external_id='ActuatingElectricalFunction', version='v1.3.1').\n",
      "INFO | 2024-12-09 12:04:54,249 | Starting ViewId(space='dexpi_playground', external_id='ActuatingFunction', version='v1.3.1') 2/41.\n",
      "INFO | 2024-12-09 12:04:54,257 | Finished ViewId(space='dexpi_playground', external_id='ActuatingFunction', version='v1.3.1').\n",
      "INFO | 2024-12-09 12:04:54,258 | Starting ViewId(space='dexpi_playground', external_id='ActuatingSystem', version='v1.3.1') 3/41.\n",
      "INFO | 2024-12-09 12:04:54,265 | Finished ViewId(space='dexpi_playground', external_id='ActuatingSystem', version='v1.3.1').\n",
      "INFO | 2024-12-09 12:04:54,265 | Starting ViewId(space='dexpi_playground', external_id='BallValve', version='v1.3.1') 4/41.\n",
      "INFO | 2024-12-09 12:04:54,273 | Finished ViewId(space='dexpi_playground', external_id='BallValve', version='v1.3.1').\n",
      "INFO | 2024-12-09 12:04:54,273 | Starting ViewId(space='dexpi_playground', external_id='BlindFlange', version='v1.3.1') 5/41.\n",
      "INFO | 2024-12-09 12:04:54,279 | Finished ViewId(space='dexpi_playground', external_id='BlindFlange', version='v1.3.1').\n",
      "INFO | 2024-12-09 12:04:54,279 | Starting ViewId(space='dexpi_playground', external_id='ButterflyValve', version='v1.3.1') 6/41.\n",
      "INFO | 2024-12-09 12:04:54,285 | Finished ViewId(space='dexpi_playground', external_id='ButterflyValve', version='v1.3.1').\n",
      "INFO | 2024-12-09 12:04:54,285 | Starting ViewId(space='dexpi_playground', external_id='CentrifugalPump', version='v1.3.1') 7/41.\n",
      "INFO | 2024-12-09 12:04:54,292 | Finished ViewId(space='dexpi_playground', external_id='CentrifugalPump', version='v1.3.1').\n",
      "INFO | 2024-12-09 12:04:54,292 | Starting ViewId(space='dexpi_playground', external_id='CheckValve', version='v1.3.1') 8/41.\n",
      "INFO | 2024-12-09 12:04:54,298 | Finished ViewId(space='dexpi_playground', external_id='CheckValve', version='v1.3.1').\n",
      "INFO | 2024-12-09 12:04:54,298 | Starting ViewId(space='dexpi_playground', external_id='ControlledActuator', version='v1.3.1') 9/41.\n",
      "INFO | 2024-12-09 12:04:54,304 | Finished ViewId(space='dexpi_playground', external_id='ControlledActuator', version='v1.3.1').\n",
      "INFO | 2024-12-09 12:04:54,304 | Starting ViewId(space='dexpi_playground', external_id='CustomHeatExchanger', version='v1.3.1') 10/41.\n",
      "INFO | 2024-12-09 12:04:54,310 | Finished ViewId(space='dexpi_playground', external_id='CustomHeatExchanger', version='v1.3.1').\n",
      "INFO | 2024-12-09 12:04:54,310 | Starting ViewId(space='dexpi_playground', external_id='CustomInlinePrimaryElement', version='v1.3.1') 11/41.\n",
      "INFO | 2024-12-09 12:04:54,316 | Finished ViewId(space='dexpi_playground', external_id='CustomInlinePrimaryElement', version='v1.3.1').\n",
      "INFO | 2024-12-09 12:04:54,317 | Starting ViewId(space='dexpi_playground', external_id='CustomOperatedValve', version='v1.3.1') 12/41.\n",
      "INFO | 2024-12-09 12:04:54,322 | Finished ViewId(space='dexpi_playground', external_id='CustomOperatedValve', version='v1.3.1').\n",
      "INFO | 2024-12-09 12:04:54,322 | Starting ViewId(space='dexpi_playground', external_id='CustomPipingComponent', version='v1.3.1') 13/41.\n",
      "INFO | 2024-12-09 12:04:54,426 | Finished ViewId(space='dexpi_playground', external_id='CustomPipingComponent', version='v1.3.1').\n",
      "INFO | 2024-12-09 12:04:54,426 | Starting ViewId(space='dexpi_playground', external_id='ElectricHeater', version='v1.3.1') 14/41.\n",
      "INFO | 2024-12-09 12:04:54,431 | Finished ViewId(space='dexpi_playground', external_id='ElectricHeater', version='v1.3.1').\n",
      "INFO | 2024-12-09 12:04:54,431 | Starting ViewId(space='dexpi_playground', external_id='Flange', version='v1.3.1') 15/41.\n",
      "INFO | 2024-12-09 12:04:54,438 | Finished ViewId(space='dexpi_playground', external_id='Flange', version='v1.3.1').\n",
      "INFO | 2024-12-09 12:04:54,438 | Starting ViewId(space='dexpi_playground', external_id='FlowInPipeOffPageConnector', version='v1.3.1') 16/41.\n",
      "INFO | 2024-12-09 12:04:54,442 | Finished ViewId(space='dexpi_playground', external_id='FlowInPipeOffPageConnector', version='v1.3.1').\n",
      "INFO | 2024-12-09 12:04:54,442 | Starting ViewId(space='dexpi_playground', external_id='FlowOutPipeOffPageConnector', version='v1.3.1') 17/41.\n",
      "INFO | 2024-12-09 12:04:54,446 | Finished ViewId(space='dexpi_playground', external_id='FlowOutPipeOffPageConnector', version='v1.3.1').\n",
      "INFO | 2024-12-09 12:04:54,446 | Starting ViewId(space='dexpi_playground', external_id='FlowOutSignalOffPageConnector', version='v1.3.1') 18/41.\n",
      "INFO | 2024-12-09 12:04:54,450 | Finished ViewId(space='dexpi_playground', external_id='FlowOutSignalOffPageConnector', version='v1.3.1').\n",
      "INFO | 2024-12-09 12:04:54,450 | Starting ViewId(space='dexpi_playground', external_id='GateValve', version='v1.3.1') 19/41.\n",
      "INFO | 2024-12-09 12:04:54,456 | Finished ViewId(space='dexpi_playground', external_id='GateValve', version='v1.3.1').\n",
      "INFO | 2024-12-09 12:04:54,456 | Starting ViewId(space='dexpi_playground', external_id='InstrumentationLoopFunction', version='v1.3.1') 20/41.\n",
      "INFO | 2024-12-09 12:04:54,462 | Finished ViewId(space='dexpi_playground', external_id='InstrumentationLoopFunction', version='v1.3.1').\n",
      "INFO | 2024-12-09 12:04:54,462 | Starting ViewId(space='dexpi_playground', external_id='MeasuringLineFunction', version='v1.3.1') 21/41.\n",
      "INFO | 2024-12-09 12:04:54,467 | Finished ViewId(space='dexpi_playground', external_id='MeasuringLineFunction', version='v1.3.1').\n",
      "INFO | 2024-12-09 12:04:54,467 | Starting ViewId(space='dexpi_playground', external_id='MetaData', version='v1.3.1') 22/41.\n",
      "INFO | 2024-12-09 12:04:54,473 | Finished ViewId(space='dexpi_playground', external_id='MetaData', version='v1.3.1').\n",
      "INFO | 2024-12-09 12:04:54,473 | Starting ViewId(space='dexpi_playground', external_id='Note', version='v1.3.1') 23/41.\n",
      "INFO | 2024-12-09 12:04:54,478 | Finished ViewId(space='dexpi_playground', external_id='Note', version='v1.3.1').\n",
      "INFO | 2024-12-09 12:04:54,478 | Starting ViewId(space='dexpi_playground', external_id='Nozzle', version='v1.3.1') 24/41.\n",
      "INFO | 2024-12-09 12:04:54,488 | Finished ViewId(space='dexpi_playground', external_id='Nozzle', version='v1.3.1').\n",
      "INFO | 2024-12-09 12:04:54,489 | Starting ViewId(space='dexpi_playground', external_id='OperatedValveReference', version='v1.3.1') 25/41.\n",
      "INFO | 2024-12-09 12:04:54,493 | Finished ViewId(space='dexpi_playground', external_id='OperatedValveReference', version='v1.3.1').\n",
      "INFO | 2024-12-09 12:04:54,494 | Starting ViewId(space='dexpi_playground', external_id='PipeOffPageConnectorReferenceByNumber', version='v1.3.1') 26/41.\n",
      "INFO | 2024-12-09 12:04:54,498 | Finished ViewId(space='dexpi_playground', external_id='PipeOffPageConnectorReferenceByNumber', version='v1.3.1').\n",
      "INFO | 2024-12-09 12:04:54,498 | Starting ViewId(space='dexpi_playground', external_id='PipeReducer', version='v1.3.1') 27/41.\n",
      "INFO | 2024-12-09 12:04:54,516 | Finished ViewId(space='dexpi_playground', external_id='PipeReducer', version='v1.3.1').\n",
      "INFO | 2024-12-09 12:04:54,516 | Starting ViewId(space='dexpi_playground', external_id='PipeTee', version='v1.3.1') 28/41.\n",
      "INFO | 2024-12-09 12:04:54,526 | Finished ViewId(space='dexpi_playground', external_id='PipeTee', version='v1.3.1').\n",
      "INFO | 2024-12-09 12:04:54,526 | Starting ViewId(space='dexpi_playground', external_id='PipingNetworkSegment', version='v1.3.1') 29/41.\n",
      "INFO | 2024-12-09 12:04:54,536 | Finished ViewId(space='dexpi_playground', external_id='PipingNetworkSegment', version='v1.3.1').\n",
      "INFO | 2024-12-09 12:04:54,536 | Starting ViewId(space='dexpi_playground', external_id='PipingNetworkSystem', version='v1.3.1') 30/41.\n",
      "INFO | 2024-12-09 12:04:54,545 | Finished ViewId(space='dexpi_playground', external_id='PipingNetworkSystem', version='v1.3.1').\n",
      "INFO | 2024-12-09 12:04:54,546 | Starting ViewId(space='dexpi_playground', external_id='PlantSystem', version='v1.3.1') 31/41.\n",
      "INFO | 2024-12-09 12:04:54,550 | Finished ViewId(space='dexpi_playground', external_id='PlantSystem', version='v1.3.1').\n",
      "INFO | 2024-12-09 12:04:54,551 | Starting ViewId(space='dexpi_playground', external_id='PlateHeatExchanger', version='v1.3.1') 32/41.\n",
      "INFO | 2024-12-09 12:04:54,556 | Finished ViewId(space='dexpi_playground', external_id='PlateHeatExchanger', version='v1.3.1').\n",
      "INFO | 2024-12-09 12:04:54,556 | Starting ViewId(space='dexpi_playground', external_id='PressureVessel', version='v1.3.1') 33/41.\n",
      "INFO | 2024-12-09 12:04:54,562 | Finished ViewId(space='dexpi_playground', external_id='PressureVessel', version='v1.3.1').\n",
      "INFO | 2024-12-09 12:04:54,562 | Starting ViewId(space='dexpi_playground', external_id='ProcessInstrumentationFunction', version='v1.3.1') 34/41.\n",
      "INFO | 2024-12-09 12:04:54,573 | Finished ViewId(space='dexpi_playground', external_id='ProcessInstrumentationFunction', version='v1.3.1').\n",
      "INFO | 2024-12-09 12:04:54,573 | Starting ViewId(space='dexpi_playground', external_id='ProcessPlant', version='v1.3.1') 35/41.\n",
      "INFO | 2024-12-09 12:04:54,578 | Finished ViewId(space='dexpi_playground', external_id='ProcessPlant', version='v1.3.1').\n",
      "INFO | 2024-12-09 12:04:54,578 | Starting ViewId(space='dexpi_playground', external_id='ProcessSignalGeneratingFunction', version='v1.3.1') 36/41.\n",
      "INFO | 2024-12-09 12:04:54,583 | Finished ViewId(space='dexpi_playground', external_id='ProcessSignalGeneratingFunction', version='v1.3.1').\n",
      "INFO | 2024-12-09 12:04:54,583 | Starting ViewId(space='dexpi_playground', external_id='PropertyBreak', version='v1.3.1') 37/41.\n",
      "INFO | 2024-12-09 12:04:54,589 | Finished ViewId(space='dexpi_playground', external_id='PropertyBreak', version='v1.3.1').\n",
      "INFO | 2024-12-09 12:04:54,589 | Starting ViewId(space='dexpi_playground', external_id='RotaryPump', version='v1.3.1') 38/41.\n",
      "INFO | 2024-12-09 12:04:54,594 | Finished ViewId(space='dexpi_playground', external_id='RotaryPump', version='v1.3.1').\n",
      "INFO | 2024-12-09 12:04:54,594 | Starting ViewId(space='dexpi_playground', external_id='SafetyValveOrFitting', version='v1.3.1') 39/41.\n",
      "INFO | 2024-12-09 12:04:54,599 | Finished ViewId(space='dexpi_playground', external_id='SafetyValveOrFitting', version='v1.3.1').\n",
      "INFO | 2024-12-09 12:04:54,599 | Starting ViewId(space='dexpi_playground', external_id='SignalConveyingFunction', version='v1.3.1') 40/41.\n",
      "INFO | 2024-12-09 12:04:54,606 | Finished ViewId(space='dexpi_playground', external_id='SignalConveyingFunction', version='v1.3.1').\n",
      "INFO | 2024-12-09 12:04:54,607 | Starting ViewId(space='dexpi_playground', external_id='SignalOffPageConnectorReferenceByNumber', version='v1.3.1') 41/41.\n",
      "INFO | 2024-12-09 12:04:54,611 | Finished ViewId(space='dexpi_playground', external_id='SignalOffPageConnectorReferenceByNumber', version='v1.3.1').\n"
     ]
    },
    {
     "name": "stdout",
     "output_type": "stream",
     "text": [
      "You can inspect the details with the .inspect.outcome.instances(...) method.\n"
     ]
    },
    {
     "data": {
      "text/html": [
       "<style type=\"text/css\">\n",
       "</style>\n",
       "<table id=\"T_87e3f\">\n",
       "  <thead>\n",
       "    <tr>\n",
       "      <th class=\"blank level0\" >&nbsp;</th>\n",
       "      <th id=\"T_87e3f_level0_col0\" class=\"col_heading level0 col0\" >name</th>\n",
       "      <th id=\"T_87e3f_level0_col1\" class=\"col_heading level0 col1\" >created</th>\n",
       "    </tr>\n",
       "  </thead>\n",
       "  <tbody>\n",
       "    <tr>\n",
       "      <th id=\"T_87e3f_level0_row0\" class=\"row_heading level0 row0\" >0</th>\n",
       "      <td id=\"T_87e3f_row0_col0\" class=\"data row0 col0\" >ActuatingElectricalFunction</td>\n",
       "      <td id=\"T_87e3f_row0_col1\" class=\"data row0 col1\" >1</td>\n",
       "    </tr>\n",
       "    <tr>\n",
       "      <th id=\"T_87e3f_level0_row1\" class=\"row_heading level0 row1\" >1</th>\n",
       "      <td id=\"T_87e3f_row1_col0\" class=\"data row1 col0\" >ActuatingFunction</td>\n",
       "      <td id=\"T_87e3f_row1_col1\" class=\"data row1 col1\" >4</td>\n",
       "    </tr>\n",
       "    <tr>\n",
       "      <th id=\"T_87e3f_level0_row2\" class=\"row_heading level0 row2\" >2</th>\n",
       "      <td id=\"T_87e3f_row2_col0\" class=\"data row2 col0\" >ActuatingSystem</td>\n",
       "      <td id=\"T_87e3f_row2_col1\" class=\"data row2 col1\" >4</td>\n",
       "    </tr>\n",
       "    <tr>\n",
       "      <th id=\"T_87e3f_level0_row3\" class=\"row_heading level0 row3\" >3</th>\n",
       "      <td id=\"T_87e3f_row3_col0\" class=\"data row3 col0\" >BallValve</td>\n",
       "      <td id=\"T_87e3f_row3_col1\" class=\"data row3 col1\" >3</td>\n",
       "    </tr>\n",
       "    <tr>\n",
       "      <th id=\"T_87e3f_level0_row4\" class=\"row_heading level0 row4\" >4</th>\n",
       "      <td id=\"T_87e3f_row4_col0\" class=\"data row4 col0\" >BlindFlange</td>\n",
       "      <td id=\"T_87e3f_row4_col1\" class=\"data row4 col1\" >1</td>\n",
       "    </tr>\n",
       "    <tr>\n",
       "      <th id=\"T_87e3f_level0_row5\" class=\"row_heading level0 row5\" >5</th>\n",
       "      <td id=\"T_87e3f_row5_col0\" class=\"data row5 col0\" >ButterflyValve</td>\n",
       "      <td id=\"T_87e3f_row5_col1\" class=\"data row5 col1\" >1</td>\n",
       "    </tr>\n",
       "    <tr>\n",
       "      <th id=\"T_87e3f_level0_row6\" class=\"row_heading level0 row6\" >6</th>\n",
       "      <td id=\"T_87e3f_row6_col0\" class=\"data row6 col0\" >CentrifugalPump</td>\n",
       "      <td id=\"T_87e3f_row6_col1\" class=\"data row6 col1\" >1</td>\n",
       "    </tr>\n",
       "    <tr>\n",
       "      <th id=\"T_87e3f_level0_row7\" class=\"row_heading level0 row7\" >7</th>\n",
       "      <td id=\"T_87e3f_row7_col0\" class=\"data row7 col0\" >CheckValve</td>\n",
       "      <td id=\"T_87e3f_row7_col1\" class=\"data row7 col1\" >1</td>\n",
       "    </tr>\n",
       "    <tr>\n",
       "      <th id=\"T_87e3f_level0_row8\" class=\"row_heading level0 row8\" >8</th>\n",
       "      <td id=\"T_87e3f_row8_col0\" class=\"data row8 col0\" >ControlledActuator</td>\n",
       "      <td id=\"T_87e3f_row8_col1\" class=\"data row8 col1\" >4</td>\n",
       "    </tr>\n",
       "    <tr>\n",
       "      <th id=\"T_87e3f_level0_row9\" class=\"row_heading level0 row9\" >9</th>\n",
       "      <td id=\"T_87e3f_row9_col0\" class=\"data row9 col0\" >CustomHeatExchanger</td>\n",
       "      <td id=\"T_87e3f_row9_col1\" class=\"data row9 col1\" >1</td>\n",
       "    </tr>\n",
       "    <tr>\n",
       "      <th id=\"T_87e3f_level0_row10\" class=\"row_heading level0 row10\" >10</th>\n",
       "      <td id=\"T_87e3f_row10_col0\" class=\"data row10 col0\" >CustomInlinePrimaryElement</td>\n",
       "      <td id=\"T_87e3f_row10_col1\" class=\"data row10 col1\" >2</td>\n",
       "    </tr>\n",
       "    <tr>\n",
       "      <th id=\"T_87e3f_level0_row11\" class=\"row_heading level0 row11\" >11</th>\n",
       "      <td id=\"T_87e3f_row11_col0\" class=\"data row11 col0\" >CustomOperatedValve</td>\n",
       "      <td id=\"T_87e3f_row11_col1\" class=\"data row11 col1\" >1</td>\n",
       "    </tr>\n",
       "    <tr>\n",
       "      <th id=\"T_87e3f_level0_row12\" class=\"row_heading level0 row12\" >12</th>\n",
       "      <td id=\"T_87e3f_row12_col0\" class=\"data row12 col0\" >CustomPipingComponent</td>\n",
       "      <td id=\"T_87e3f_row12_col1\" class=\"data row12 col1\" >2</td>\n",
       "    </tr>\n",
       "    <tr>\n",
       "      <th id=\"T_87e3f_level0_row13\" class=\"row_heading level0 row13\" >13</th>\n",
       "      <td id=\"T_87e3f_row13_col0\" class=\"data row13 col0\" >ElectricHeater</td>\n",
       "      <td id=\"T_87e3f_row13_col1\" class=\"data row13 col1\" >1</td>\n",
       "    </tr>\n",
       "    <tr>\n",
       "      <th id=\"T_87e3f_level0_row14\" class=\"row_heading level0 row14\" >14</th>\n",
       "      <td id=\"T_87e3f_row14_col0\" class=\"data row14 col0\" >Flange</td>\n",
       "      <td id=\"T_87e3f_row14_col1\" class=\"data row14 col1\" >19</td>\n",
       "    </tr>\n",
       "    <tr>\n",
       "      <th id=\"T_87e3f_level0_row15\" class=\"row_heading level0 row15\" >15</th>\n",
       "      <td id=\"T_87e3f_row15_col0\" class=\"data row15 col0\" >FlowInPipeOffPageConnector</td>\n",
       "      <td id=\"T_87e3f_row15_col1\" class=\"data row15 col1\" >1</td>\n",
       "    </tr>\n",
       "    <tr>\n",
       "      <th id=\"T_87e3f_level0_row16\" class=\"row_heading level0 row16\" >16</th>\n",
       "      <td id=\"T_87e3f_row16_col0\" class=\"data row16 col0\" >FlowOutPipeOffPageConnector</td>\n",
       "      <td id=\"T_87e3f_row16_col1\" class=\"data row16 col1\" >1</td>\n",
       "    </tr>\n",
       "    <tr>\n",
       "      <th id=\"T_87e3f_level0_row17\" class=\"row_heading level0 row17\" >17</th>\n",
       "      <td id=\"T_87e3f_row17_col0\" class=\"data row17 col0\" >FlowOutSignalOffPageConnector</td>\n",
       "      <td id=\"T_87e3f_row17_col1\" class=\"data row17 col1\" >1</td>\n",
       "    </tr>\n",
       "    <tr>\n",
       "      <th id=\"T_87e3f_level0_row18\" class=\"row_heading level0 row18\" >18</th>\n",
       "      <td id=\"T_87e3f_row18_col0\" class=\"data row18 col0\" >GateValve</td>\n",
       "      <td id=\"T_87e3f_row18_col1\" class=\"data row18 col1\" >5</td>\n",
       "    </tr>\n",
       "    <tr>\n",
       "      <th id=\"T_87e3f_level0_row19\" class=\"row_heading level0 row19\" >19</th>\n",
       "      <td id=\"T_87e3f_row19_col0\" class=\"data row19 col0\" >InstrumentationLoopFunction</td>\n",
       "      <td id=\"T_87e3f_row19_col1\" class=\"data row19 col1\" >8</td>\n",
       "    </tr>\n",
       "    <tr>\n",
       "      <th id=\"T_87e3f_level0_row20\" class=\"row_heading level0 row20\" >20</th>\n",
       "      <td id=\"T_87e3f_row20_col0\" class=\"data row20 col0\" >MeasuringLineFunction</td>\n",
       "      <td id=\"T_87e3f_row20_col1\" class=\"data row20 col1\" >5</td>\n",
       "    </tr>\n",
       "    <tr>\n",
       "      <th id=\"T_87e3f_level0_row21\" class=\"row_heading level0 row21\" >21</th>\n",
       "      <td id=\"T_87e3f_row21_col0\" class=\"data row21 col0\" >MetaData</td>\n",
       "      <td id=\"T_87e3f_row21_col1\" class=\"data row21 col1\" >1</td>\n",
       "    </tr>\n",
       "    <tr>\n",
       "      <th id=\"T_87e3f_level0_row22\" class=\"row_heading level0 row22\" >22</th>\n",
       "      <td id=\"T_87e3f_row22_col0\" class=\"data row22 col0\" >Note</td>\n",
       "      <td id=\"T_87e3f_row22_col1\" class=\"data row22 col1\" >1</td>\n",
       "    </tr>\n",
       "    <tr>\n",
       "      <th id=\"T_87e3f_level0_row23\" class=\"row_heading level0 row23\" >23</th>\n",
       "      <td id=\"T_87e3f_row23_col0\" class=\"data row23 col0\" >Nozzle</td>\n",
       "      <td id=\"T_87e3f_row23_col1\" class=\"data row23 col1\" >23</td>\n",
       "    </tr>\n",
       "    <tr>\n",
       "      <th id=\"T_87e3f_level0_row24\" class=\"row_heading level0 row24\" >24</th>\n",
       "      <td id=\"T_87e3f_row24_col0\" class=\"data row24 col0\" >OperatedValveReference</td>\n",
       "      <td id=\"T_87e3f_row24_col1\" class=\"data row24 col1\" >4</td>\n",
       "    </tr>\n",
       "    <tr>\n",
       "      <th id=\"T_87e3f_level0_row25\" class=\"row_heading level0 row25\" >25</th>\n",
       "      <td id=\"T_87e3f_row25_col0\" class=\"data row25 col0\" >PipeOffPageConnectorReferenceByNumber</td>\n",
       "      <td id=\"T_87e3f_row25_col1\" class=\"data row25 col1\" >2</td>\n",
       "    </tr>\n",
       "    <tr>\n",
       "      <th id=\"T_87e3f_level0_row26\" class=\"row_heading level0 row26\" >26</th>\n",
       "      <td id=\"T_87e3f_row26_col0\" class=\"data row26 col0\" >PipeReducer</td>\n",
       "      <td id=\"T_87e3f_row26_col1\" class=\"data row26 col1\" >1</td>\n",
       "    </tr>\n",
       "    <tr>\n",
       "      <th id=\"T_87e3f_level0_row27\" class=\"row_heading level0 row27\" >27</th>\n",
       "      <td id=\"T_87e3f_row27_col0\" class=\"data row27 col0\" >PipeTee</td>\n",
       "      <td id=\"T_87e3f_row27_col1\" class=\"data row27 col1\" >6</td>\n",
       "    </tr>\n",
       "    <tr>\n",
       "      <th id=\"T_87e3f_level0_row28\" class=\"row_heading level0 row28\" >28</th>\n",
       "      <td id=\"T_87e3f_row28_col0\" class=\"data row28 col0\" >PipingNetworkSegment</td>\n",
       "      <td id=\"T_87e3f_row28_col1\" class=\"data row28 col1\" >29</td>\n",
       "    </tr>\n",
       "    <tr>\n",
       "      <th id=\"T_87e3f_level0_row29\" class=\"row_heading level0 row29\" >29</th>\n",
       "      <td id=\"T_87e3f_row29_col0\" class=\"data row29 col0\" >PipingNetworkSystem</td>\n",
       "      <td id=\"T_87e3f_row29_col1\" class=\"data row29 col1\" >20</td>\n",
       "    </tr>\n",
       "    <tr>\n",
       "      <th id=\"T_87e3f_level0_row30\" class=\"row_heading level0 row30\" >30</th>\n",
       "      <td id=\"T_87e3f_row30_col0\" class=\"data row30 col0\" >PlantSystem</td>\n",
       "      <td id=\"T_87e3f_row30_col1\" class=\"data row30 col1\" >1</td>\n",
       "    </tr>\n",
       "    <tr>\n",
       "      <th id=\"T_87e3f_level0_row31\" class=\"row_heading level0 row31\" >31</th>\n",
       "      <td id=\"T_87e3f_row31_col0\" class=\"data row31 col0\" >PlateHeatExchanger</td>\n",
       "      <td id=\"T_87e3f_row31_col1\" class=\"data row31 col1\" >1</td>\n",
       "    </tr>\n",
       "    <tr>\n",
       "      <th id=\"T_87e3f_level0_row32\" class=\"row_heading level0 row32\" >32</th>\n",
       "      <td id=\"T_87e3f_row32_col0\" class=\"data row32 col0\" >PressureVessel</td>\n",
       "      <td id=\"T_87e3f_row32_col1\" class=\"data row32 col1\" >1</td>\n",
       "    </tr>\n",
       "    <tr>\n",
       "      <th id=\"T_87e3f_level0_row33\" class=\"row_heading level0 row33\" >33</th>\n",
       "      <td id=\"T_87e3f_row33_col0\" class=\"data row33 col0\" >ProcessInstrumentationFunction</td>\n",
       "      <td id=\"T_87e3f_row33_col1\" class=\"data row33 col1\" >19</td>\n",
       "    </tr>\n",
       "    <tr>\n",
       "      <th id=\"T_87e3f_level0_row34\" class=\"row_heading level0 row34\" >34</th>\n",
       "      <td id=\"T_87e3f_row34_col0\" class=\"data row34 col0\" >ProcessPlant</td>\n",
       "      <td id=\"T_87e3f_row34_col1\" class=\"data row34 col1\" >1</td>\n",
       "    </tr>\n",
       "    <tr>\n",
       "      <th id=\"T_87e3f_level0_row35\" class=\"row_heading level0 row35\" >35</th>\n",
       "      <td id=\"T_87e3f_row35_col0\" class=\"data row35 col0\" >ProcessSignalGeneratingFunction</td>\n",
       "      <td id=\"T_87e3f_row35_col1\" class=\"data row35 col1\" >5</td>\n",
       "    </tr>\n",
       "    <tr>\n",
       "      <th id=\"T_87e3f_level0_row36\" class=\"row_heading level0 row36\" >36</th>\n",
       "      <td id=\"T_87e3f_row36_col0\" class=\"data row36 col0\" >PropertyBreak</td>\n",
       "      <td id=\"T_87e3f_row36_col1\" class=\"data row36 col1\" >2</td>\n",
       "    </tr>\n",
       "    <tr>\n",
       "      <th id=\"T_87e3f_level0_row37\" class=\"row_heading level0 row37\" >37</th>\n",
       "      <td id=\"T_87e3f_row37_col0\" class=\"data row37 col0\" >RotaryPump</td>\n",
       "      <td id=\"T_87e3f_row37_col1\" class=\"data row37 col1\" >1</td>\n",
       "    </tr>\n",
       "    <tr>\n",
       "      <th id=\"T_87e3f_level0_row38\" class=\"row_heading level0 row38\" >38</th>\n",
       "      <td id=\"T_87e3f_row38_col0\" class=\"data row38 col0\" >SafetyValveOrFitting</td>\n",
       "      <td id=\"T_87e3f_row38_col1\" class=\"data row38 col1\" >1</td>\n",
       "    </tr>\n",
       "    <tr>\n",
       "      <th id=\"T_87e3f_level0_row39\" class=\"row_heading level0 row39\" >39</th>\n",
       "      <td id=\"T_87e3f_row39_col0\" class=\"data row39 col0\" >SignalConveyingFunction</td>\n",
       "      <td id=\"T_87e3f_row39_col1\" class=\"data row39 col1\" >19</td>\n",
       "    </tr>\n",
       "    <tr>\n",
       "      <th id=\"T_87e3f_level0_row40\" class=\"row_heading level0 row40\" >40</th>\n",
       "      <td id=\"T_87e3f_row40_col0\" class=\"data row40 col0\" >SignalOffPageConnectorReferenceByNumber</td>\n",
       "      <td id=\"T_87e3f_row40_col1\" class=\"data row40 col1\" >1</td>\n",
       "    </tr>\n",
       "    <tr>\n",
       "      <th id=\"T_87e3f_level0_row41\" class=\"row_heading level0 row41\" >41</th>\n",
       "      <td id=\"T_87e3f_row41_col0\" class=\"data row41 col0\" >edge</td>\n",
       "      <td id=\"T_87e3f_row41_col1\" class=\"data row41 col1\" >40</td>\n",
       "    </tr>\n",
       "  </tbody>\n",
       "</table>\n"
      ],
      "text/plain": [
       "[UploadResult(name='ActuatingElectricalFunction', error_messages=[], issues=[], created={NodeId(space='dexpi_playground_instances', external_id='ActuatingElectricalFunction-1')}, upserted=set(), deleted=set(), changed=set(), unchanged=set(), skipped=set(), failed_created=set(), failed_upserted=set(), failed_changed=set(), failed_deleted=set()),\n",
       " UploadResult(name='ActuatingFunction', error_messages=[], issues=[], created={NodeId(space='dexpi_playground_instances', external_id='ActuatingFunction-1'), NodeId(space='dexpi_playground_instances', external_id='ActuatingFunction-3'), NodeId(space='dexpi_playground_instances', external_id='ActuatingFunction-4'), NodeId(space='dexpi_playground_instances', external_id='ActuatingFunction-2')}, upserted=set(), deleted=set(), changed=set(), unchanged=set(), skipped=set(), failed_created=set(), failed_upserted=set(), failed_changed=set(), failed_deleted=set()),\n",
       " UploadResult(name='ActuatingSystem', error_messages=[], issues=[], created={NodeId(space='dexpi_playground_instances', external_id='ActuatingSystem-4'), NodeId(space='dexpi_playground_instances', external_id='ActuatingSystem-2'), NodeId(space='dexpi_playground_instances', external_id='ActuatingSystem-1'), NodeId(space='dexpi_playground_instances', external_id='ActuatingSystem-3')}, upserted=set(), deleted=set(), changed=set(), unchanged=set(), skipped=set(), failed_created=set(), failed_upserted=set(), failed_changed=set(), failed_deleted=set()),\n",
       " UploadResult(name='BallValve', error_messages=[], issues=[], created={NodeId(space='dexpi_playground_instances', external_id='BallValve-3'), NodeId(space='dexpi_playground_instances', external_id='BallValve-1'), NodeId(space='dexpi_playground_instances', external_id='BallValve-2')}, upserted=set(), deleted=set(), changed=set(), unchanged=set(), skipped=set(), failed_created=set(), failed_upserted=set(), failed_changed=set(), failed_deleted=set()),\n",
       " UploadResult(name='BlindFlange', error_messages=[], issues=[], created={NodeId(space='dexpi_playground_instances', external_id='BlindFlange-1')}, upserted=set(), deleted=set(), changed=set(), unchanged=set(), skipped=set(), failed_created=set(), failed_upserted=set(), failed_changed=set(), failed_deleted=set()),\n",
       " UploadResult(name='ButterflyValve', error_messages=[], issues=[], created={NodeId(space='dexpi_playground_instances', external_id='ButterflyValve-1')}, upserted=set(), deleted=set(), changed=set(), unchanged=set(), skipped=set(), failed_created=set(), failed_upserted=set(), failed_changed=set(), failed_deleted=set()),\n",
       " UploadResult(name='CentrifugalPump', error_messages=[], issues=[], created={NodeId(space='dexpi_playground_instances', external_id='CentrifugalPump-1')}, upserted=set(), deleted=set(), changed=set(), unchanged=set(), skipped=set(), failed_created=set(), failed_upserted=set(), failed_changed=set(), failed_deleted=set()),\n",
       " UploadResult(name='CheckValve', error_messages=[], issues=[], created={NodeId(space='dexpi_playground_instances', external_id='CheckValve-1')}, upserted=set(), deleted=set(), changed=set(), unchanged=set(), skipped=set(), failed_created=set(), failed_upserted=set(), failed_changed=set(), failed_deleted=set()),\n",
       " UploadResult(name='ControlledActuator', error_messages=[], issues=[], created={NodeId(space='dexpi_playground_instances', external_id='ControlledActuator-3'), NodeId(space='dexpi_playground_instances', external_id='ControlledActuator-4'), NodeId(space='dexpi_playground_instances', external_id='ControlledActuator-2'), NodeId(space='dexpi_playground_instances', external_id='ControlledActuator-1')}, upserted=set(), deleted=set(), changed=set(), unchanged=set(), skipped=set(), failed_created=set(), failed_upserted=set(), failed_changed=set(), failed_deleted=set()),\n",
       " UploadResult(name='CustomHeatExchanger', error_messages=[], issues=[], created={NodeId(space='dexpi_playground_instances', external_id='CustomHeatExchanger-1')}, upserted=set(), deleted=set(), changed=set(), unchanged=set(), skipped=set(), failed_created=set(), failed_upserted=set(), failed_changed=set(), failed_deleted=set()),\n",
       " UploadResult(name='CustomInlinePrimaryElement', error_messages=[], issues=[], created={NodeId(space='dexpi_playground_instances', external_id='CustomInlinePrimaryElement-2'), NodeId(space='dexpi_playground_instances', external_id='CustomInlinePrimaryElement-1')}, upserted=set(), deleted=set(), changed=set(), unchanged=set(), skipped=set(), failed_created=set(), failed_upserted=set(), failed_changed=set(), failed_deleted=set()),\n",
       " UploadResult(name='CustomOperatedValve', error_messages=[], issues=[], created={NodeId(space='dexpi_playground_instances', external_id='CustomOperatedValve-1')}, upserted=set(), deleted=set(), changed=set(), unchanged=set(), skipped=set(), failed_created=set(), failed_upserted=set(), failed_changed=set(), failed_deleted=set()),\n",
       " UploadResult(name='CustomPipingComponent', error_messages=[], issues=[], created={NodeId(space='dexpi_playground_instances', external_id='CustomPipingComponent-2'), NodeId(space='dexpi_playground_instances', external_id='CustomPipingComponent-1')}, upserted=set(), deleted=set(), changed=set(), unchanged=set(), skipped=set(), failed_created=set(), failed_upserted=set(), failed_changed=set(), failed_deleted=set()),\n",
       " UploadResult(name='ElectricHeater', error_messages=[], issues=[], created={NodeId(space='dexpi_playground_instances', external_id='ElectricHeater-1')}, upserted=set(), deleted=set(), changed=set(), unchanged=set(), skipped=set(), failed_created=set(), failed_upserted=set(), failed_changed=set(), failed_deleted=set()),\n",
       " UploadResult(name='Flange', error_messages=[], issues=[], created={NodeId(space='dexpi_playground_instances', external_id='Flange-17'), NodeId(space='dexpi_playground_instances', external_id='Flange-3'), NodeId(space='dexpi_playground_instances', external_id='Flange-13'), NodeId(space='dexpi_playground_instances', external_id='Flange-6'), NodeId(space='dexpi_playground_instances', external_id='Flange-5'), NodeId(space='dexpi_playground_instances', external_id='Flange-19'), NodeId(space='dexpi_playground_instances', external_id='Flange-9'), NodeId(space='dexpi_playground_instances', external_id='Flange-10'), NodeId(space='dexpi_playground_instances', external_id='Flange-16'), NodeId(space='dexpi_playground_instances', external_id='Flange-15'), NodeId(space='dexpi_playground_instances', external_id='Flange-7'), NodeId(space='dexpi_playground_instances', external_id='Flange-18'), NodeId(space='dexpi_playground_instances', external_id='Flange-8'), NodeId(space='dexpi_playground_instances', external_id='Flange-12'), NodeId(space='dexpi_playground_instances', external_id='Flange-4'), NodeId(space='dexpi_playground_instances', external_id='Flange-2'), NodeId(space='dexpi_playground_instances', external_id='Flange-11'), NodeId(space='dexpi_playground_instances', external_id='Flange-1'), NodeId(space='dexpi_playground_instances', external_id='Flange-14')}, upserted=set(), deleted=set(), changed=set(), unchanged=set(), skipped=set(), failed_created=set(), failed_upserted=set(), failed_changed=set(), failed_deleted=set()),\n",
       " UploadResult(name='FlowInPipeOffPageConnector', error_messages=[], issues=[], created={NodeId(space='dexpi_playground_instances', external_id='FlowInPipeOffPageConnector-1')}, upserted=set(), deleted=set(), changed=set(), unchanged=set(), skipped=set(), failed_created=set(), failed_upserted=set(), failed_changed=set(), failed_deleted=set()),\n",
       " UploadResult(name='FlowOutPipeOffPageConnector', error_messages=[], issues=[], created={NodeId(space='dexpi_playground_instances', external_id='FlowOutPipeOffPageConnector-1')}, upserted=set(), deleted=set(), changed=set(), unchanged=set(), skipped=set(), failed_created=set(), failed_upserted=set(), failed_changed=set(), failed_deleted=set()),\n",
       " UploadResult(name='FlowOutSignalOffPageConnector', error_messages=[], issues=[], created={NodeId(space='dexpi_playground_instances', external_id='FlowOutSignalOffPageConnector-1')}, upserted=set(), deleted=set(), changed=set(), unchanged=set(), skipped=set(), failed_created=set(), failed_upserted=set(), failed_changed=set(), failed_deleted=set()),\n",
       " UploadResult(name='GateValve', error_messages=[], issues=[], created={NodeId(space='dexpi_playground_instances', external_id='GateValve-2'), NodeId(space='dexpi_playground_instances', external_id='GateValve-4'), NodeId(space='dexpi_playground_instances', external_id='GateValve-1'), NodeId(space='dexpi_playground_instances', external_id='GateValve-3'), NodeId(space='dexpi_playground_instances', external_id='GateValve-5')}, upserted=set(), deleted=set(), changed=set(), unchanged=set(), skipped=set(), failed_created=set(), failed_upserted=set(), failed_changed=set(), failed_deleted=set()),\n",
       " UploadResult(name='InstrumentationLoopFunction', error_messages=[], issues=[], created={NodeId(space='dexpi_playground_instances', external_id='InstrumentationLoopFunction-6'), NodeId(space='dexpi_playground_instances', external_id='InstrumentationLoopFunction-8'), NodeId(space='dexpi_playground_instances', external_id='InstrumentationLoopFunction-1'), NodeId(space='dexpi_playground_instances', external_id='InstrumentationLoopFunction-2'), NodeId(space='dexpi_playground_instances', external_id='InstrumentationLoopFunction-7'), NodeId(space='dexpi_playground_instances', external_id='InstrumentationLoopFunction-4'), NodeId(space='dexpi_playground_instances', external_id='InstrumentationLoopFunction-5'), NodeId(space='dexpi_playground_instances', external_id='InstrumentationLoopFunction-3')}, upserted=set(), deleted=set(), changed=set(), unchanged=set(), skipped=set(), failed_created=set(), failed_upserted=set(), failed_changed=set(), failed_deleted=set()),\n",
       " UploadResult(name='MeasuringLineFunction', error_messages=[], issues=[], created={NodeId(space='dexpi_playground_instances', external_id='MeasuringLineFunction-1'), NodeId(space='dexpi_playground_instances', external_id='MeasuringLineFunction-5'), NodeId(space='dexpi_playground_instances', external_id='MeasuringLineFunction-2'), NodeId(space='dexpi_playground_instances', external_id='MeasuringLineFunction-4'), NodeId(space='dexpi_playground_instances', external_id='MeasuringLineFunction-3')}, upserted=set(), deleted=set(), changed=set(), unchanged=set(), skipped=set(), failed_created=set(), failed_upserted=set(), failed_changed=set(), failed_deleted=set()),\n",
       " UploadResult(name='MetaData', error_messages=[], issues=[], created={NodeId(space='dexpi_playground_instances', external_id='MetaData-1')}, upserted=set(), deleted=set(), changed=set(), unchanged=set(), skipped=set(), failed_created=set(), failed_upserted=set(), failed_changed=set(), failed_deleted=set()),\n",
       " UploadResult(name='Note', error_messages=[], issues=[], created={NodeId(space='dexpi_playground_instances', external_id='Note-1')}, upserted=set(), deleted=set(), changed=set(), unchanged=set(), skipped=set(), failed_created=set(), failed_upserted=set(), failed_changed=set(), failed_deleted=set()),\n",
       " UploadResult(name='Nozzle', error_messages=[], issues=[], created={NodeId(space='dexpi_playground_instances', external_id='Nozzle-11'), NodeId(space='dexpi_playground_instances', external_id='Nozzle-16'), NodeId(space='dexpi_playground_instances', external_id='Nozzle-5'), NodeId(space='dexpi_playground_instances', external_id='Nozzle-15'), NodeId(space='dexpi_playground_instances', external_id='Nozzle-1'), NodeId(space='dexpi_playground_instances', external_id='Nozzle-17'), NodeId(space='dexpi_playground_instances', external_id='Nozzle-21'), NodeId(space='dexpi_playground_instances', external_id='Nozzle-14'), NodeId(space='dexpi_playground_instances', external_id='Nozzle-23'), NodeId(space='dexpi_playground_instances', external_id='Nozzle-13'), NodeId(space='dexpi_playground_instances', external_id='Nozzle-4'), NodeId(space='dexpi_playground_instances', external_id='Nozzle-8'), NodeId(space='dexpi_playground_instances', external_id='Nozzle-7'), NodeId(space='dexpi_playground_instances', external_id='Nozzle-10'), NodeId(space='dexpi_playground_instances', external_id='Nozzle-6'), NodeId(space='dexpi_playground_instances', external_id='Nozzle-2'), NodeId(space='dexpi_playground_instances', external_id='Nozzle-20'), NodeId(space='dexpi_playground_instances', external_id='Nozzle-18'), NodeId(space='dexpi_playground_instances', external_id='Nozzle-22'), NodeId(space='dexpi_playground_instances', external_id='Nozzle-3'), NodeId(space='dexpi_playground_instances', external_id='Nozzle-9'), NodeId(space='dexpi_playground_instances', external_id='Nozzle-19'), NodeId(space='dexpi_playground_instances', external_id='Nozzle-12')}, upserted=set(), deleted=set(), changed=set(), unchanged=set(), skipped=set(), failed_created=set(), failed_upserted=set(), failed_changed=set(), failed_deleted=set()),\n",
       " UploadResult(name='OperatedValveReference', error_messages=[], issues=[], created={NodeId(space='dexpi_playground_instances', external_id='OperatedValveReference-1'), NodeId(space='dexpi_playground_instances', external_id='OperatedValveReference-3'), NodeId(space='dexpi_playground_instances', external_id='OperatedValveReference-4'), NodeId(space='dexpi_playground_instances', external_id='OperatedValveReference-2')}, upserted=set(), deleted=set(), changed=set(), unchanged=set(), skipped=set(), failed_created=set(), failed_upserted=set(), failed_changed=set(), failed_deleted=set()),\n",
       " UploadResult(name='PipeOffPageConnectorReferenceByNumber', error_messages=[], issues=[], created={NodeId(space='dexpi_playground_instances', external_id='PipeOffPageConnectorReferenceByNumber-2'), NodeId(space='dexpi_playground_instances', external_id='PipeOffPageConnectorReferenceByNumber-1')}, upserted=set(), deleted=set(), changed=set(), unchanged=set(), skipped=set(), failed_created=set(), failed_upserted=set(), failed_changed=set(), failed_deleted=set()),\n",
       " UploadResult(name='PipeReducer', error_messages=[], issues=[], created={NodeId(space='dexpi_playground_instances', external_id='PipeReducer-1')}, upserted=set(), deleted=set(), changed=set(), unchanged=set(), skipped=set(), failed_created=set(), failed_upserted=set(), failed_changed=set(), failed_deleted=set()),\n",
       " UploadResult(name='PipeTee', error_messages=[], issues=[], created={NodeId(space='dexpi_playground_instances', external_id='PipeTee-4'), NodeId(space='dexpi_playground_instances', external_id='PipeTee-2'), NodeId(space='dexpi_playground_instances', external_id='PipeTee-6'), NodeId(space='dexpi_playground_instances', external_id='PipeTee-5'), NodeId(space='dexpi_playground_instances', external_id='PipeTee-1'), NodeId(space='dexpi_playground_instances', external_id='PipeTee-3')}, upserted=set(), deleted=set(), changed=set(), unchanged=set(), skipped=set(), failed_created=set(), failed_upserted=set(), failed_changed=set(), failed_deleted=set()),\n",
       " UploadResult(name='PipingNetworkSegment', error_messages=[], issues=[], created={NodeId(space='dexpi_playground_instances', external_id='PipingNetworkSegment-21'), NodeId(space='dexpi_playground_instances', external_id='PipingNetworkSegment-11'), NodeId(space='dexpi_playground_instances', external_id='PipingNetworkSegment-1'), NodeId(space='dexpi_playground_instances', external_id='PipingNetworkSegment-19'), NodeId(space='dexpi_playground_instances', external_id='PipingNetworkSegment-8'), NodeId(space='dexpi_playground_instances', external_id='PipingNetworkSegment-3'), NodeId(space='dexpi_playground_instances', external_id='PipingNetworkSegment-23'), NodeId(space='dexpi_playground_instances', external_id='PipingNetworkSegment-9'), NodeId(space='dexpi_playground_instances', external_id='PipingNetworkSegment-22'), NodeId(space='dexpi_playground_instances', external_id='PipingNetworkSegment-29'), NodeId(space='dexpi_playground_instances', external_id='PipingNetworkSegment-6'), NodeId(space='dexpi_playground_instances', external_id='PipingNetworkSegment-4'), NodeId(space='dexpi_playground_instances', external_id='PipingNetworkSegment-5'), NodeId(space='dexpi_playground_instances', external_id='PipingNetworkSegment-18'), NodeId(space='dexpi_playground_instances', external_id='PipingNetworkSegment-2'), NodeId(space='dexpi_playground_instances', external_id='PipingNetworkSegment-15'), NodeId(space='dexpi_playground_instances', external_id='PipingNetworkSegment-24'), NodeId(space='dexpi_playground_instances', external_id='PipingNetworkSegment-28'), NodeId(space='dexpi_playground_instances', external_id='PipingNetworkSegment-7'), NodeId(space='dexpi_playground_instances', external_id='PipingNetworkSegment-10'), NodeId(space='dexpi_playground_instances', external_id='PipingNetworkSegment-16'), NodeId(space='dexpi_playground_instances', external_id='PipingNetworkSegment-13'), NodeId(space='dexpi_playground_instances', external_id='PipingNetworkSegment-12'), NodeId(space='dexpi_playground_instances', external_id='PipingNetworkSegment-26'), NodeId(space='dexpi_playground_instances', external_id='PipingNetworkSegment-14'), NodeId(space='dexpi_playground_instances', external_id='PipingNetworkSegment-27'), NodeId(space='dexpi_playground_instances', external_id='PipingNetworkSegment-20'), NodeId(space='dexpi_playground_instances', external_id='PipingNetworkSegment-17'), NodeId(space='dexpi_playground_instances', external_id='PipingNetworkSegment-25')}, upserted=set(), deleted=set(), changed=set(), unchanged=set(), skipped=set(), failed_created=set(), failed_upserted=set(), failed_changed=set(), failed_deleted=set()),\n",
       " UploadResult(name='PipingNetworkSystem', error_messages=[], issues=[], created={NodeId(space='dexpi_playground_instances', external_id='PipingNetworkSystem-17'), NodeId(space='dexpi_playground_instances', external_id='PipingNetworkSystem-16'), NodeId(space='dexpi_playground_instances', external_id='PipingNetworkSystem-3'), NodeId(space='dexpi_playground_instances', external_id='PipingNetworkSystem-2'), NodeId(space='dexpi_playground_instances', external_id='PipingNetworkSystem-20'), NodeId(space='dexpi_playground_instances', external_id='PipingNetworkSystem-15'), NodeId(space='dexpi_playground_instances', external_id='PipingNetworkSystem-4'), NodeId(space='dexpi_playground_instances', external_id='PipingNetworkSystem-12'), NodeId(space='dexpi_playground_instances', external_id='PipingNetworkSystem-5'), NodeId(space='dexpi_playground_instances', external_id='PipingNetworkSystem-18'), NodeId(space='dexpi_playground_instances', external_id='PipingNetworkSystem-7'), NodeId(space='dexpi_playground_instances', external_id='PipingNetworkSystem-8'), NodeId(space='dexpi_playground_instances', external_id='PipingNetworkSystem-10'), NodeId(space='dexpi_playground_instances', external_id='PipingNetworkSystem-13'), NodeId(space='dexpi_playground_instances', external_id='PipingNetworkSystem-9'), NodeId(space='dexpi_playground_instances', external_id='PipingNetworkSystem-11'), NodeId(space='dexpi_playground_instances', external_id='PipingNetworkSystem-1'), NodeId(space='dexpi_playground_instances', external_id='PipingNetworkSystem-6'), NodeId(space='dexpi_playground_instances', external_id='PipingNetworkSystem-14'), NodeId(space='dexpi_playground_instances', external_id='PipingNetworkSystem-19')}, upserted=set(), deleted=set(), changed=set(), unchanged=set(), skipped=set(), failed_created=set(), failed_upserted=set(), failed_changed=set(), failed_deleted=set()),\n",
       " UploadResult(name='PlantSystem', error_messages=[], issues=[], created={NodeId(space='dexpi_playground_instances', external_id='PlantSystem-1')}, upserted=set(), deleted=set(), changed=set(), unchanged=set(), skipped=set(), failed_created=set(), failed_upserted=set(), failed_changed=set(), failed_deleted=set()),\n",
       " UploadResult(name='PlateHeatExchanger', error_messages=[], issues=[], created={NodeId(space='dexpi_playground_instances', external_id='PlateHeatExchanger-1')}, upserted=set(), deleted=set(), changed=set(), unchanged=set(), skipped=set(), failed_created=set(), failed_upserted=set(), failed_changed=set(), failed_deleted=set()),\n",
       " UploadResult(name='PressureVessel', error_messages=[], issues=[], created={NodeId(space='dexpi_playground_instances', external_id='PressureVessel-1')}, upserted=set(), deleted=set(), changed=set(), unchanged=set(), skipped=set(), failed_created=set(), failed_upserted=set(), failed_changed=set(), failed_deleted=set()),\n",
       " UploadResult(name='ProcessInstrumentationFunction', error_messages=[], issues=[], created={NodeId(space='dexpi_playground_instances', external_id='ProcessInstrumentationFunction-1'), NodeId(space='dexpi_playground_instances', external_id='ProcessInstrumentationFunction-12'), NodeId(space='dexpi_playground_instances', external_id='ProcessInstrumentationFunction-4'), NodeId(space='dexpi_playground_instances', external_id='ProcessInstrumentationFunction-14'), NodeId(space='dexpi_playground_instances', external_id='ProcessInstrumentationFunction-16'), NodeId(space='dexpi_playground_instances', external_id='ProcessInstrumentationFunction-13'), NodeId(space='dexpi_playground_instances', external_id='ProcessInstrumentationFunction-9'), NodeId(space='dexpi_playground_instances', external_id='ProcessInstrumentationFunction-2'), NodeId(space='dexpi_playground_instances', external_id='ProcessInstrumentationFunction-17'), NodeId(space='dexpi_playground_instances', external_id='ProcessInstrumentationFunction-5'), NodeId(space='dexpi_playground_instances', external_id='ProcessInstrumentationFunction-3'), NodeId(space='dexpi_playground_instances', external_id='ProcessInstrumentationFunction-15'), NodeId(space='dexpi_playground_instances', external_id='ProcessInstrumentationFunction-8'), NodeId(space='dexpi_playground_instances', external_id='ProcessInstrumentationFunction-11'), NodeId(space='dexpi_playground_instances', external_id='ProcessInstrumentationFunction-10'), NodeId(space='dexpi_playground_instances', external_id='ProcessInstrumentationFunction-6'), NodeId(space='dexpi_playground_instances', external_id='ProcessInstrumentationFunction-18'), NodeId(space='dexpi_playground_instances', external_id='ProcessInstrumentationFunction-7'), NodeId(space='dexpi_playground_instances', external_id='ProcessInstrumentationFunction-19')}, upserted=set(), deleted=set(), changed=set(), unchanged=set(), skipped=set(), failed_created=set(), failed_upserted=set(), failed_changed=set(), failed_deleted=set()),\n",
       " UploadResult(name='ProcessPlant', error_messages=[], issues=[], created={NodeId(space='dexpi_playground_instances', external_id='ProcessPlant-1')}, upserted=set(), deleted=set(), changed=set(), unchanged=set(), skipped=set(), failed_created=set(), failed_upserted=set(), failed_changed=set(), failed_deleted=set()),\n",
       " UploadResult(name='ProcessSignalGeneratingFunction', error_messages=[], issues=[], created={NodeId(space='dexpi_playground_instances', external_id='ProcessSignalGeneratingFunction-4'), NodeId(space='dexpi_playground_instances', external_id='ProcessSignalGeneratingFunction-5'), NodeId(space='dexpi_playground_instances', external_id='ProcessSignalGeneratingFunction-1'), NodeId(space='dexpi_playground_instances', external_id='ProcessSignalGeneratingFunction-3'), NodeId(space='dexpi_playground_instances', external_id='ProcessSignalGeneratingFunction-2')}, upserted=set(), deleted=set(), changed=set(), unchanged=set(), skipped=set(), failed_created=set(), failed_upserted=set(), failed_changed=set(), failed_deleted=set()),\n",
       " UploadResult(name='PropertyBreak', error_messages=[], issues=[], created={NodeId(space='dexpi_playground_instances', external_id='PropertyBreak-2'), NodeId(space='dexpi_playground_instances', external_id='PropertyBreak-1')}, upserted=set(), deleted=set(), changed=set(), unchanged=set(), skipped=set(), failed_created=set(), failed_upserted=set(), failed_changed=set(), failed_deleted=set()),\n",
       " UploadResult(name='RotaryPump', error_messages=[], issues=[], created={NodeId(space='dexpi_playground_instances', external_id='RotaryPump-1')}, upserted=set(), deleted=set(), changed=set(), unchanged=set(), skipped=set(), failed_created=set(), failed_upserted=set(), failed_changed=set(), failed_deleted=set()),\n",
       " UploadResult(name='SafetyValveOrFitting', error_messages=[], issues=[], created={NodeId(space='dexpi_playground_instances', external_id='SafetyValveOrFitting-1')}, upserted=set(), deleted=set(), changed=set(), unchanged=set(), skipped=set(), failed_created=set(), failed_upserted=set(), failed_changed=set(), failed_deleted=set()),\n",
       " UploadResult(name='SignalConveyingFunction', error_messages=[], issues=[], created={NodeId(space='dexpi_playground_instances', external_id='SignalConveyingFunction-13'), NodeId(space='dexpi_playground_instances', external_id='SignalConveyingFunction-19'), NodeId(space='dexpi_playground_instances', external_id='SignalConveyingFunction-11'), NodeId(space='dexpi_playground_instances', external_id='SignalConveyingFunction-18'), NodeId(space='dexpi_playground_instances', external_id='SignalConveyingFunction-2'), NodeId(space='dexpi_playground_instances', external_id='SignalConveyingFunction-3'), NodeId(space='dexpi_playground_instances', external_id='SignalConveyingFunction-14'), NodeId(space='dexpi_playground_instances', external_id='SignalConveyingFunction-5'), NodeId(space='dexpi_playground_instances', external_id='SignalConveyingFunction-7'), NodeId(space='dexpi_playground_instances', external_id='SignalConveyingFunction-16'), NodeId(space='dexpi_playground_instances', external_id='SignalConveyingFunction-4'), NodeId(space='dexpi_playground_instances', external_id='SignalConveyingFunction-10'), NodeId(space='dexpi_playground_instances', external_id='SignalConveyingFunction-1'), NodeId(space='dexpi_playground_instances', external_id='SignalConveyingFunction-15'), NodeId(space='dexpi_playground_instances', external_id='SignalConveyingFunction-9'), NodeId(space='dexpi_playground_instances', external_id='SignalConveyingFunction-17'), NodeId(space='dexpi_playground_instances', external_id='SignalConveyingFunction-6'), NodeId(space='dexpi_playground_instances', external_id='SignalConveyingFunction-8'), NodeId(space='dexpi_playground_instances', external_id='SignalConveyingFunction-12')}, upserted=set(), deleted=set(), changed=set(), unchanged=set(), skipped=set(), failed_created=set(), failed_upserted=set(), failed_changed=set(), failed_deleted=set()),\n",
       " UploadResult(name='SignalOffPageConnectorReferenceByNumber', error_messages=[], issues=[], created={NodeId(space='dexpi_playground_instances', external_id='SignalOffPageConnectorReferenceByNumber-1')}, upserted=set(), deleted=set(), changed=set(), unchanged=set(), skipped=set(), failed_created=set(), failed_upserted=set(), failed_changed=set(), failed_deleted=set()),\n",
       " UploadResult(name='edge', error_messages=[], issues=[], created={EdgeId(space='dexpi_playground_instances', external_id='InstrumentationLoopFunction-2.isACollectionIncluding.ProcessInstrumentationFunction-8'), EdgeId(space='dexpi_playground_instances', external_id='ProcessInstrumentationFunction-15.isLogicalStartOf.SignalConveyingFunction-16'), EdgeId(space='dexpi_playground_instances', external_id='ProcessInstrumentationFunction-11.isLogicalStartOf.SignalConveyingFunction-12'), EdgeId(space='dexpi_playground_instances', external_id='ProcessInstrumentationFunction-16.isLogicalStartOf.SignalConveyingFunction-17'), EdgeId(space='dexpi_playground_instances', external_id='InstrumentationLoopFunction-2.isACollectionIncluding.ProcessInstrumentationFunction-4'), EdgeId(space='dexpi_playground_instances', external_id='InstrumentationLoopFunction-4.isACollectionIncluding.ProcessInstrumentationFunction-11'), EdgeId(space='dexpi_playground_instances', external_id='InstrumentationLoopFunction-7.isACollectionIncluding.ProcessInstrumentationFunction-17'), EdgeId(space='dexpi_playground_instances', external_id='InstrumentationLoopFunction-8.isACollectionIncluding.ProcessInstrumentationFunction-18'), EdgeId(space='dexpi_playground_instances', external_id='ProcessInstrumentationFunction-1.isLogicalStartOf.SignalConveyingFunction-1'), EdgeId(space='dexpi_playground_instances', external_id='ProcessInstrumentationFunction-19.isLogicalStartOf.SignalConveyingFunction-19'), EdgeId(space='dexpi_playground_instances', external_id='InstrumentationLoopFunction-2.isACollectionIncluding.ProcessInstrumentationFunction-6'), EdgeId(space='dexpi_playground_instances', external_id='ProcessInstrumentationFunction-14.isLogicalStartOf.SignalConveyingFunction-15'), EdgeId(space='dexpi_playground_instances', external_id='InstrumentationLoopFunction-6.isACollectionIncluding.ProcessInstrumentationFunction-15'), EdgeId(space='dexpi_playground_instances', external_id='InstrumentationLoopFunction-2.isACollectionIncluding.ProcessInstrumentationFunction-7'), EdgeId(space='dexpi_playground_instances', external_id='ProcessInstrumentationFunction-11.isLogicalStartOf.SignalConveyingFunction-11'), EdgeId(space='dexpi_playground_instances', external_id='InstrumentationLoopFunction-5.isACollectionIncluding.ProcessInstrumentationFunction-12'), EdgeId(space='dexpi_playground_instances', external_id='ProcessInstrumentationFunction-2.isLogicalStartOf.SignalConveyingFunction-2'), EdgeId(space='dexpi_playground_instances', external_id='ActuatingFunction-4.isLogicalEndOf.SignalConveyingFunction-19'), EdgeId(space='dexpi_playground_instances', external_id='ActuatingFunction-1.isLogicalEndOf.SignalConveyingFunction-9'), EdgeId(space='dexpi_playground_instances', external_id='ProcessInstrumentationFunction-5.isLogicalStartOf.SignalConveyingFunction-7'), EdgeId(space='dexpi_playground_instances', external_id='InstrumentationLoopFunction-6.isACollectionIncluding.ProcessInstrumentationFunction-16'), EdgeId(space='dexpi_playground_instances', external_id='ProcessInstrumentationFunction-4.isLogicalStartOf.SignalConveyingFunction-4'), EdgeId(space='dexpi_playground_instances', external_id='ProcessInstrumentationFunction-12.isLogicalStartOf.SignalConveyingFunction-13'), EdgeId(space='dexpi_playground_instances', external_id='InstrumentationLoopFunction-2.isACollectionIncluding.ProcessInstrumentationFunction-5'), EdgeId(space='dexpi_playground_instances', external_id='ActuatingFunction-3.isLogicalEndOf.SignalConveyingFunction-16'), EdgeId(space='dexpi_playground_instances', external_id='InstrumentationLoopFunction-1.isACollectionIncluding.ProcessInstrumentationFunction-3'), EdgeId(space='dexpi_playground_instances', external_id='ProcessInstrumentationFunction-18.isLogicalStartOf.SignalConveyingFunction-18'), EdgeId(space='dexpi_playground_instances', external_id='ProcessInstrumentationFunction-3.isLogicalStartOf.SignalConveyingFunction-3'), EdgeId(space='dexpi_playground_instances', external_id='ActuatingFunction-2.isLogicalEndOf.SignalConveyingFunction-14'), EdgeId(space='dexpi_playground_instances', external_id='ActuatingFunction-2.isLogicalEndOf.SignalConveyingFunction-15'), EdgeId(space='dexpi_playground_instances', external_id='InstrumentationLoopFunction-3.isACollectionIncluding.ProcessInstrumentationFunction-9'), EdgeId(space='dexpi_playground_instances', external_id='ProcessInstrumentationFunction-5.isLogicalStartOf.SignalConveyingFunction-5'), EdgeId(space='dexpi_playground_instances', external_id='ProcessInstrumentationFunction-13.isLogicalStartOf.SignalConveyingFunction-14'), EdgeId(space='dexpi_playground_instances', external_id='InstrumentationLoopFunction-8.isACollectionIncluding.ProcessInstrumentationFunction-19'), EdgeId(space='dexpi_playground_instances', external_id='ProcessInstrumentationFunction-5.isLogicalStartOf.SignalConveyingFunction-6'), EdgeId(space='dexpi_playground_instances', external_id='ActuatingFunction-2.isLogicalEndOf.SignalConveyingFunction-13'), EdgeId(space='dexpi_playground_instances', external_id='ProcessInstrumentationFunction-5.isLogicalStartOf.SignalConveyingFunction-8'), EdgeId(space='dexpi_playground_instances', external_id='InstrumentationLoopFunction-4.isACollectionIncluding.ProcessInstrumentationFunction-10'), EdgeId(space='dexpi_playground_instances', external_id='ProcessInstrumentationFunction-10.isLogicalStartOf.SignalConveyingFunction-10'), EdgeId(space='dexpi_playground_instances', external_id='ProcessInstrumentationFunction-9.isLogicalStartOf.SignalConveyingFunction-9')}, upserted=set(), deleted=set(), changed=set(), unchanged=set(), skipped=set(), failed_created=set(), failed_upserted=set(), failed_changed=set(), failed_deleted=set())]"
      ]
     },
     "execution_count": 31,
     "metadata": {},
     "output_type": "execute_result"
    }
   ],
   "source": [
    "neat.to.cdf.instances()"
   ]
  },
  {
   "cell_type": "markdown",
   "id": "14746901-5106-4266-99c4-27cef353e769",
   "metadata": {},
   "source": [
    "<img src=\"../../../artifacts/figs/dexpi-instance-cdf.png\" width=\"1200\">"
   ]
  },
  {
   "cell_type": "code",
   "execution_count": null,
   "id": "c3ccae6a-e816-4e8b-9567-258e0271b685",
   "metadata": {},
   "outputs": [],
   "source": []
  }
 ],
 "metadata": {
  "kernelspec": {
   "display_name": "Python 3 (ipykernel)",
   "language": "python",
   "name": "python3"
  },
  "language_info": {
   "codemirror_mode": {
    "name": "ipython",
    "version": 3
   },
   "file_extension": ".py",
   "mimetype": "text/x-python",
   "name": "python",
   "nbconvert_exporter": "python",
   "pygments_lexer": "ipython3",
   "version": "3.12.1"
  }
 },
 "nbformat": 4,
 "nbformat_minor": 5
}
