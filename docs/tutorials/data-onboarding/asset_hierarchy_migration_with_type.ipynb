{
 "cells": [
  {
   "cell_type": "markdown",
   "id": "d8dd9ed4",
   "metadata": {},
   "source": [
    "# Asset Hierarchy Migration with Type\n",
    "\n",
    "**Prerequisite**:\n",
    "\n",
    "- Access to a CDF Project.\n",
    "- Know how to install and setup Python.\n",
    "- Launch a Python notebook.\n",
    "- Done the [first part](asset_hierarchy_migration.html) of this tutorial.\n",
    "\n",
    "\n",
    "In this tutorial we will also show how to migrate an asset hierarchy to a data model representing the same hierarchy in CDF.\n",
    "However, this will not be a 1-to-1 migration, we will also add classes/types to the assets, such that we get pumps and \n",
    "lift-stations in our resulting model.\n"
   ]
  },
  {
   "cell_type": "markdown",
   "id": "3df29838-9d86-4099-a07d-530a454b2a94",
   "metadata": {},
   "source": [
    "## Extract Data from Asset Hierarchy\n",
    "\n",
    "We will use the same asset hierarchy as in the last tutorial\n",
    "\n",
    "<img src=\"../../artifacts/figs/asset_hierarchy_lift_pump_stations.png\" width=\"400\">"
   ]
  },
  {
   "cell_type": "markdown",
   "id": "4d16066c-e784-4e66-aba9-675ccc9658e5",
   "metadata": {},
   "source": [
    "We will go quickly through the steps of setting up a triple store, instantiate the Cognite Client. If you have questions go to the [part 1](asset_hierarchy_migration.html) of this tutorial for a more detailed explaination."
   ]
  },
  {
   "cell_type": "code",
   "execution_count": 18,
   "id": "b07c82e3-2940-4c31-8252-8fe96183c4ba",
   "metadata": {},
   "outputs": [],
   "source": [
    "from cognite.neat import get_cognite_client\n",
    "from cognite.neat.graph import extractors, NeatGraphStore"
   ]
  },
  {
   "cell_type": "code",
   "execution_count": 19,
   "id": "f63c5b57-5402-42e9-af1e-3afd909a345c",
   "metadata": {},
   "outputs": [
    {
     "name": "stdout",
     "output_type": "stream",
     "text": [
      "Found .env file in repository root. Loaded variables from .env file.\n"
     ]
    }
   ],
   "source": [
    "client = get_cognite_client()\n",
    "store = NeatGraphStore.from_memory_store()"
   ]
  },
  {
   "cell_type": "markdown",
   "id": "4fbd9f9c-61a6-4057-88db-d9e167b0a4f0",
   "metadata": {},
   "source": [
    "Like the first part of this tutorial, we will use the `AssetsExtractor` with the factory method `.from_hierarchy`. However, this time we notice that this\n",
    "factory method takes in an extra parameter `to_type` which is a function that takes an `Asset` and turns it into type. First, we will write this function\n",
    "based on our knowlegde of the asset hierarchy."
   ]
  },
  {
   "cell_type": "code",
   "execution_count": 20,
   "id": "fee6787f-a455-4710-b8d4-d134d3608451",
   "metadata": {},
   "outputs": [],
   "source": [
    "from cognite.client.data_classes import Asset\n",
    "\n",
    "\n",
    "def lift_pump_station_to_type(asset: Asset) -> str:\n",
    "    if asset.external_id.startswith(\"lift_station\"):\n",
    "        return \"LiftStation\"\n",
    "    elif asset.external_id == \"lift_pump_stations:root\":\n",
    "        return \"Root\"\n",
    "    elif asset.name.lower().startswith(\"pump\"):\n",
    "        return \"Pump\"\n",
    "    else:\n",
    "        return \"Unknown\""
   ]
  },
  {
   "cell_type": "markdown",
   "id": "7f2a0355-65c3-477e-b965-b13fb97af2d7",
   "metadata": {},
   "source": [
    "Notice in the function above that we utilize our knowlege of the asset hierarchy to infer the type of the asset. First, we know that all `LiftStation`'s external IDs are prefixed with `lift_pump_stations`. For pumps, this does not work as they have an UUID external ID, however, the `name` field always start with `Pump` thus we can utilzie this. Finally, we set the root if the external ID matches the root, and if there is somethign we have missed we set it to `Unknown`. We expect there will be no `unknown`."
   ]
  },
  {
   "cell_type": "code",
   "execution_count": 21,
   "id": "fbe6658c-4c8c-434a-b862-80c0aa89754a",
   "metadata": {},
   "outputs": [],
   "source": [
    "asset_extractor = extractors.AssetsExtractor.from_hierarchy(client, root_asset_external_id=\"lift_pump_stations:root\", to_type=lift_pump_station_to_type)"
   ]
  },
  {
   "cell_type": "code",
   "execution_count": 22,
   "id": "aae9e76d-ad13-4a04-84cb-e0f89515d37c",
   "metadata": {},
   "outputs": [
    {
     "data": {
      "application/vnd.jupyter.widget-view+json": {
       "model_id": "04bbcf044719492989663381462947f2",
       "version_major": 2,
       "version_minor": 0
      },
      "text/plain": [
       "Output()"
      ]
     },
     "metadata": {},
     "output_type": "display_data"
    },
    {
     "data": {
      "text/html": [
       "<pre style=\"white-space:pre;overflow-x:auto;line-height:normal;font-family:Menlo,'DejaVu Sans Mono',consolas,'Courier New',monospace\"></pre>\n"
      ],
      "text/plain": []
     },
     "metadata": {},
     "output_type": "display_data"
    },
    {
     "data": {
      "text/html": [
       "<pre style=\"white-space:pre;overflow-x:auto;line-height:normal;font-family:Menlo,'DejaVu Sans Mono',consolas,'Courier New',monospace\">\n",
       "</pre>\n"
      ],
      "text/plain": [
       "\n"
      ]
     },
     "metadata": {},
     "output_type": "display_data"
    }
   ],
   "source": [
    "store.write(asset_extractor)"
   ]
  },
  {
   "cell_type": "code",
   "execution_count": 23,
   "id": "cd28f619-3de5-4a84-8ba6-2d6eaa3df1b0",
   "metadata": {},
   "outputs": [
    {
     "data": {
      "text/html": [
       "<strong>NeatGraphStore</strong> A graph store is a container for storing triples. It can be queried and transformed to extract information.<br /><strong>Provenance</strong> Provenance is a record of changes that have occurred in the graph store.<br /><div>\n",
       "<style scoped>\n",
       "    .dataframe tbody tr th:only-of-type {\n",
       "        vertical-align: middle;\n",
       "    }\n",
       "\n",
       "    .dataframe tbody tr th {\n",
       "        vertical-align: top;\n",
       "    }\n",
       "\n",
       "    .dataframe thead th {\n",
       "        text-align: right;\n",
       "    }\n",
       "</style>\n",
       "<table border=\"1\" class=\"dataframe\">\n",
       "  <thead>\n",
       "    <tr style=\"text-align: right;\">\n",
       "      <th></th>\n",
       "      <th>Agent</th>\n",
       "      <th>Activity</th>\n",
       "      <th>Entity</th>\n",
       "      <th>Description</th>\n",
       "    </tr>\n",
       "  </thead>\n",
       "  <tbody>\n",
       "    <tr>\n",
       "      <th>0</th>\n",
       "      <td>http://purl.org/cognite/neat#agent</td>\n",
       "      <td>http://purl.org/cognite/neat#activity-05938b47...</td>\n",
       "      <td>http://purl.org/cognite/neat#graph-store</td>\n",
       "      <td>Initialize graph store as Memory</td>\n",
       "    </tr>\n",
       "    <tr>\n",
       "      <th>1</th>\n",
       "      <td>http://purl.org/cognite/neat#agent</td>\n",
       "      <td>http://purl.org/cognite/neat#activity-05938b47...</td>\n",
       "      <td>http://purl.org/cognite/neat#graph-store</td>\n",
       "      <td>Extracted triples to graph store using AssetsE...</td>\n",
       "    </tr>\n",
       "  </tbody>\n",
       "</table>\n",
       "</div><br /><strong>Graph content</strong><br /><div>\n",
       "<style scoped>\n",
       "    .dataframe tbody tr th:only-of-type {\n",
       "        vertical-align: middle;\n",
       "    }\n",
       "\n",
       "    .dataframe tbody tr th {\n",
       "        vertical-align: top;\n",
       "    }\n",
       "\n",
       "    .dataframe thead th {\n",
       "        text-align: right;\n",
       "    }\n",
       "</style>\n",
       "<table border=\"1\" class=\"dataframe\">\n",
       "  <thead>\n",
       "    <tr style=\"text-align: right;\">\n",
       "      <th></th>\n",
       "      <th>Type</th>\n",
       "      <th>Occurrence</th>\n",
       "    </tr>\n",
       "  </thead>\n",
       "  <tbody>\n",
       "    <tr>\n",
       "      <th>0</th>\n",
       "      <td>Pump</td>\n",
       "      <td>162</td>\n",
       "    </tr>\n",
       "    <tr>\n",
       "      <th>1</th>\n",
       "      <td>LiftStation</td>\n",
       "      <td>82</td>\n",
       "    </tr>\n",
       "    <tr>\n",
       "      <th>2</th>\n",
       "      <td>Root</td>\n",
       "      <td>1</td>\n",
       "    </tr>\n",
       "  </tbody>\n",
       "</table>\n",
       "</div>"
      ],
      "text/plain": [
       "<cognite.neat.graph.stores._base.NeatGraphStore at 0x190c4e52d20>"
      ]
     },
     "execution_count": 23,
     "metadata": {},
     "output_type": "execute_result"
    }
   ],
   "source": [
    "store"
   ]
  },
  {
   "cell_type": "markdown",
   "id": "4f6c23d9-a9ab-470f-82d3-34bfebd6ba00",
   "metadata": {},
   "source": [
    "After running the extractor, we see that the type is set to `Pump` for 162 of the assets, `LiftStation` for 82 of them, and we found one root. As expected there were no unknown assets."
   ]
  },
  {
   "cell_type": "markdown",
   "id": "92516916-f408-4ab3-9850-24308b1a3ea3",
   "metadata": {},
   "source": [
    "## Infering, Exporting and Populating the Data Model"
   ]
  },
  {
   "cell_type": "markdown",
   "id": "2134c28e-3c7c-430e-92af-21758f3fb03f",
   "metadata": {},
   "source": [
    "The rest of the tutorial is now the same as part 1.\n",
    "\n",
    "1. We infer the data model using the `InferenceImporter`.\n",
    "2. Export the inferred data model to CDF using the `DMSExporter`.\n",
    "3. Populate it using the `DMSLoader`."
   ]
  },
  {
   "cell_type": "code",
   "execution_count": 24,
   "id": "871e3c87-7447-4adc-9de1-5bedfa5901ad",
   "metadata": {},
   "outputs": [],
   "source": [
    "from cognite.neat.rules import importers, exporters\n",
    "from cognite.neat.graph import loaders"
   ]
  },
  {
   "cell_type": "code",
   "execution_count": 25,
   "id": "fc3eff2a-bd19-4336-b321-38a989d7cda8",
   "metadata": {},
   "outputs": [],
   "source": [
    "importer = importers.InferenceImporter.from_graph_store(store, prefix=\"sp_lift_stations\")"
   ]
  },
  {
   "cell_type": "code",
   "execution_count": 26,
   "id": "130be0d2-72c9-4f9c-9374-d71c3d9a361e",
   "metadata": {},
   "outputs": [],
   "source": [
    "rules, issues = importer.to_rules()"
   ]
  },
  {
   "cell_type": "code",
   "execution_count": 27,
   "id": "2c3c1934-a9f0-4107-b8ad-7ed59bf311bc",
   "metadata": {},
   "outputs": [
    {
     "name": "stderr",
     "output_type": "stream",
     "text": [
      "C:\\Users\\AndersAlbert\\AppData\\Local\\pypoetry\\Cache\\virtualenvs\\cognite-neat-WszCo0Uu-py3.12\\Lib\\site-packages\\pydantic\\main.py:193: MoreThanOneNonAlphanumericCharacterWarning: ('property', 'Shape__Length')\n",
      "  self.__pydantic_validator__.validate_python(data, self_instance=self)\n"
     ]
    }
   ],
   "source": [
    "dms_rules = rules.as_dms_rules()"
   ]
  },
  {
   "cell_type": "code",
   "execution_count": 28,
   "id": "5730c4c9-1244-4c7d-aa92-6ae8eb776921",
   "metadata": {},
   "outputs": [],
   "source": [
    "exporter = exporters.DMSExporter()"
   ]
  },
  {
   "cell_type": "code",
   "execution_count": 29,
   "id": "3b80bf89-bb8e-4b2b-923f-dd15fc003278",
   "metadata": {},
   "outputs": [],
   "source": [
    "result = exporter.export_to_cdf(rules, client)"
   ]
  },
  {
   "cell_type": "code",
   "execution_count": 30,
   "id": "b74a36f7-ceb2-4b56-a1dd-59d1ef0536fc",
   "metadata": {},
   "outputs": [
    {
     "data": {
      "text/html": [
       "<div>\n",
       "<style scoped>\n",
       "    .dataframe tbody tr th:only-of-type {\n",
       "        vertical-align: middle;\n",
       "    }\n",
       "\n",
       "    .dataframe tbody tr th {\n",
       "        vertical-align: top;\n",
       "    }\n",
       "\n",
       "    .dataframe thead th {\n",
       "        text-align: right;\n",
       "    }\n",
       "</style>\n",
       "<table border=\"1\" class=\"dataframe\">\n",
       "  <thead>\n",
       "    <tr style=\"text-align: right;\">\n",
       "      <th></th>\n",
       "      <th>name</th>\n",
       "      <th>created</th>\n",
       "    </tr>\n",
       "  </thead>\n",
       "  <tbody>\n",
       "    <tr>\n",
       "      <th>0</th>\n",
       "      <td>spaces</td>\n",
       "      <td>1</td>\n",
       "    </tr>\n",
       "    <tr>\n",
       "      <th>1</th>\n",
       "      <td>containers</td>\n",
       "      <td>3</td>\n",
       "    </tr>\n",
       "    <tr>\n",
       "      <th>2</th>\n",
       "      <td>views</td>\n",
       "      <td>3</td>\n",
       "    </tr>\n",
       "    <tr>\n",
       "      <th>3</th>\n",
       "      <td>data_models</td>\n",
       "      <td>1</td>\n",
       "    </tr>\n",
       "  </tbody>\n",
       "</table>\n",
       "</div>"
      ],
      "text/plain": [
       "[UploadResult(name='spaces', error_messages=[], issues=[], created={'sp_lift_stations'}, upserted=set(), deleted=set(), changed=set(), unchanged=set(), skipped=set(), failed_created=set(), failed_upserted=set(), failed_changed=set(), failed_deleted=set()),\n",
       " UploadResult(name='containers', error_messages=[], issues=[], created={ContainerId(space='sp_lift_stations', external_id='LiftStation'), ContainerId(space='sp_lift_stations', external_id='Pump'), ContainerId(space='sp_lift_stations', external_id='Root')}, upserted=set(), deleted=set(), changed=set(), unchanged=set(), skipped=set(), failed_created=set(), failed_upserted=set(), failed_changed=set(), failed_deleted=set()),\n",
       " UploadResult(name='views', error_messages=[], issues=[], created={ViewId(space='sp_lift_stations', external_id='LiftStation', version='inferred'), ViewId(space='sp_lift_stations', external_id='Pump', version='inferred'), ViewId(space='sp_lift_stations', external_id='Root', version='inferred')}, upserted=set(), deleted=set(), changed=set(), unchanged=set(), skipped=set(), failed_created=set(), failed_upserted=set(), failed_changed=set(), failed_deleted=set()),\n",
       " UploadResult(name='data_models', error_messages=[], issues=[], created={DataModelId(space='sp_lift_stations', external_id='inferred_model', version='inferred')}, upserted=set(), deleted=set(), changed=set(), unchanged=set(), skipped=set(), failed_created=set(), failed_upserted=set(), failed_changed=set(), failed_deleted=set())]"
      ]
     },
     "execution_count": 30,
     "metadata": {},
     "output_type": "execute_result"
    }
   ],
   "source": [
    "result"
   ]
  },
  {
   "cell_type": "code",
   "execution_count": 31,
   "id": "f325db09-25e1-45bf-86d8-c061c089647e",
   "metadata": {},
   "outputs": [],
   "source": [
    "store.add_rules(rules)"
   ]
  },
  {
   "cell_type": "code",
   "execution_count": 32,
   "id": "8ebacc8b-11c6-458b-ad72-3dd582aefbdf",
   "metadata": {},
   "outputs": [],
   "source": [
    "from cognite.client import data_modeling as dm"
   ]
  },
  {
   "cell_type": "code",
   "execution_count": 33,
   "id": "23c53e60-98e3-4de2-8874-83b8c618c2fc",
   "metadata": {},
   "outputs": [
    {
     "data": {
      "text/html": [
       "<div>\n",
       "<style scoped>\n",
       "    .dataframe tbody tr th:only-of-type {\n",
       "        vertical-align: middle;\n",
       "    }\n",
       "\n",
       "    .dataframe tbody tr th {\n",
       "        vertical-align: top;\n",
       "    }\n",
       "\n",
       "    .dataframe thead th {\n",
       "        text-align: right;\n",
       "    }\n",
       "</style>\n",
       "<table border=\"1\" class=\"dataframe\">\n",
       "  <thead>\n",
       "    <tr style=\"text-align: right;\">\n",
       "      <th></th>\n",
       "      <th>value</th>\n",
       "    </tr>\n",
       "  </thead>\n",
       "  <tbody>\n",
       "    <tr>\n",
       "      <th>space</th>\n",
       "      <td>sp_data_pump_station</td>\n",
       "    </tr>\n",
       "    <tr>\n",
       "      <th>is_global</th>\n",
       "      <td>False</td>\n",
       "    </tr>\n",
       "    <tr>\n",
       "      <th>last_updated_time</th>\n",
       "      <td>2024-07-23 07:23:47.330000</td>\n",
       "    </tr>\n",
       "    <tr>\n",
       "      <th>created_time</th>\n",
       "      <td>2024-07-23 07:23:47.330000</td>\n",
       "    </tr>\n",
       "  </tbody>\n",
       "</table>\n",
       "</div>"
      ],
      "text/plain": [
       "<Space(space='sp_data_pump_station') at 0x190c4f97a70>"
      ]
     },
     "execution_count": 33,
     "metadata": {},
     "output_type": "execute_result"
    }
   ],
   "source": [
    "created = client.data_modeling.spaces.apply(dm.SpaceApply(\"sp_data_pump_station\"))\n",
    "created"
   ]
  },
  {
   "cell_type": "code",
   "execution_count": 15,
   "id": "6c26b9d9-9267-4cdb-b18f-ea905fd2a2e2",
   "metadata": {},
   "outputs": [],
   "source": [
    "from cognite.neat.utils.cdf.loaders import SpaceLoader"
   ]
  },
  {
   "cell_type": "code",
   "execution_count": 16,
   "id": "33ec52a5-e5cb-4850-bf7e-5befbebd79aa",
   "metadata": {},
   "outputs": [
    {
     "name": "stdout",
     "output_type": "stream",
     "text": [
      "Deleted 3 views\n",
      "Deleted 3 containers\n",
      "Deleted 1 data models\n",
      "Deleted space ['sp_lift_stations']\n"
     ]
    }
   ],
   "source": [
    "SpaceLoader(client).clean(\"sp_lift_stations\")"
   ]
  },
  {
   "cell_type": "code",
   "execution_count": 17,
   "id": "1854b3ae-80fd-4e2a-9a27-4410455c73cc",
   "metadata": {},
   "outputs": [
    {
     "name": "stdout",
     "output_type": "stream",
     "text": [
      "Deleted space []\n"
     ]
    }
   ],
   "source": [
    "SpaceLoader(client).clean(\"sp_data_pump_station\")"
   ]
  },
  {
   "cell_type": "code",
   "execution_count": 34,
   "id": "8e171577-e0f0-4f68-941f-261eb77315d7",
   "metadata": {},
   "outputs": [],
   "source": [
    "loader = loaders.DMSLoader.from_rules(dms_rules, store, instance_space=\"sp_data_pump_station\")"
   ]
  },
  {
   "cell_type": "code",
   "execution_count": 35,
   "id": "9780e893-d6a3-4d4c-bf80-8e145d454bee",
   "metadata": {},
   "outputs": [],
   "source": [
    "result = loader.load_into_cdf(client)"
   ]
  },
  {
   "cell_type": "code",
   "execution_count": 36,
   "id": "ee57a8a7-08ec-47d6-b187-7332256a5d7e",
   "metadata": {},
   "outputs": [
    {
     "data": {
      "text/html": [
       "<div>\n",
       "<style scoped>\n",
       "    .dataframe tbody tr th:only-of-type {\n",
       "        vertical-align: middle;\n",
       "    }\n",
       "\n",
       "    .dataframe tbody tr th {\n",
       "        vertical-align: top;\n",
       "    }\n",
       "\n",
       "    .dataframe thead th {\n",
       "        text-align: right;\n",
       "    }\n",
       "</style>\n",
       "<table border=\"1\" class=\"dataframe\">\n",
       "  <thead>\n",
       "    <tr style=\"text-align: right;\">\n",
       "      <th></th>\n",
       "      <th>name</th>\n",
       "      <th>created</th>\n",
       "    </tr>\n",
       "  </thead>\n",
       "  <tbody>\n",
       "    <tr>\n",
       "      <th>0</th>\n",
       "      <td>Nodes</td>\n",
       "      <td>245.0</td>\n",
       "    </tr>\n",
       "    <tr>\n",
       "      <th>1</th>\n",
       "      <td>Edges</td>\n",
       "      <td>NaN</td>\n",
       "    </tr>\n",
       "  </tbody>\n",
       "</table>\n",
       "</div>"
      ],
      "text/plain": [
       "[UploadResult(name='Nodes', error_messages=[], issues=[], created={NodeId(space='sp_data_pump_station', external_id='Asset_4611308323382841'), NodeId(space='sp_data_pump_station', external_id='Asset_4232408171704947'), NodeId(space='sp_data_pump_station', external_id='Asset_6664824877870138'), NodeId(space='sp_data_pump_station', external_id='Asset_4982518105700769'), NodeId(space='sp_data_pump_station', external_id='Asset_3925087570184060'), NodeId(space='sp_data_pump_station', external_id='Asset_449616738664544'), NodeId(space='sp_data_pump_station', external_id='Asset_3886073802761259'), NodeId(space='sp_data_pump_station', external_id='Asset_8796025392183616'), NodeId(space='sp_data_pump_station', external_id='Asset_6499093917037259'), NodeId(space='sp_data_pump_station', external_id='Asset_3202643099427992'), NodeId(space='sp_data_pump_station', external_id='Asset_7478288481786780'), NodeId(space='sp_data_pump_station', external_id='Asset_1225335557735852'), NodeId(space='sp_data_pump_station', external_id='Asset_6416891387482527'), NodeId(space='sp_data_pump_station', external_id='Asset_2332136792376110'), NodeId(space='sp_data_pump_station', external_id='Asset_8233413405577277'), NodeId(space='sp_data_pump_station', external_id='Asset_8481426694002548'), NodeId(space='sp_data_pump_station', external_id='Asset_1336187237481974'), NodeId(space='sp_data_pump_station', external_id='Asset_3009457875737229'), NodeId(space='sp_data_pump_station', external_id='Asset_6451825071660398'), NodeId(space='sp_data_pump_station', external_id='Asset_2395276745188968'), NodeId(space='sp_data_pump_station', external_id='Asset_2798673936255507'), NodeId(space='sp_data_pump_station', external_id='Asset_3309648858394308'), NodeId(space='sp_data_pump_station', external_id='Asset_8279593367922084'), NodeId(space='sp_data_pump_station', external_id='Asset_3183377929919962'), NodeId(space='sp_data_pump_station', external_id='Asset_6717164076357170'), NodeId(space='sp_data_pump_station', external_id='Asset_1179620013510534'), NodeId(space='sp_data_pump_station', external_id='Asset_2738034707487198'), NodeId(space='sp_data_pump_station', external_id='Asset_3966852611906380'), NodeId(space='sp_data_pump_station', external_id='Asset_522426732998405'), NodeId(space='sp_data_pump_station', external_id='Asset_269634716915797'), NodeId(space='sp_data_pump_station', external_id='Asset_6004900365929538'), NodeId(space='sp_data_pump_station', external_id='Asset_5076110772903317'), NodeId(space='sp_data_pump_station', external_id='Asset_7434639041955664'), NodeId(space='sp_data_pump_station', external_id='Asset_111670655968193'), NodeId(space='sp_data_pump_station', external_id='Asset_4072884896428048'), NodeId(space='sp_data_pump_station', external_id='Asset_323324050354647'), NodeId(space='sp_data_pump_station', external_id='Asset_791284880355712'), NodeId(space='sp_data_pump_station', external_id='Asset_4356678455013717'), NodeId(space='sp_data_pump_station', external_id='Asset_2990577136288617'), NodeId(space='sp_data_pump_station', external_id='Asset_8174955310442028'), NodeId(space='sp_data_pump_station', external_id='Asset_8858634333103219'), NodeId(space='sp_data_pump_station', external_id='Asset_4822096456178490'), NodeId(space='sp_data_pump_station', external_id='Asset_2109398666822135'), NodeId(space='sp_data_pump_station', external_id='Asset_2383890056251078'), NodeId(space='sp_data_pump_station', external_id='Asset_8890997887425292'), NodeId(space='sp_data_pump_station', external_id='Asset_1869006072570857'), NodeId(space='sp_data_pump_station', external_id='Asset_1249607927059004'), NodeId(space='sp_data_pump_station', external_id='Asset_465559698381891'), NodeId(space='sp_data_pump_station', external_id='Asset_4891974892606772'), NodeId(space='sp_data_pump_station', external_id='Asset_7266418315229309'), NodeId(space='sp_data_pump_station', external_id='Asset_690992856868092'), NodeId(space='sp_data_pump_station', external_id='Asset_5131927739646770'), NodeId(space='sp_data_pump_station', external_id='Asset_520686293117320'), NodeId(space='sp_data_pump_station', external_id='Asset_3790466002578495'), NodeId(space='sp_data_pump_station', external_id='Asset_2849528494272170'), NodeId(space='sp_data_pump_station', external_id='Asset_2460227122870007'), NodeId(space='sp_data_pump_station', external_id='Asset_8149656736332002'), NodeId(space='sp_data_pump_station', external_id='Asset_3718586005996830'), NodeId(space='sp_data_pump_station', external_id='Asset_4226675102638478'), NodeId(space='sp_data_pump_station', external_id='Asset_777675583540505'), NodeId(space='sp_data_pump_station', external_id='Asset_5773835011768211'), NodeId(space='sp_data_pump_station', external_id='Asset_7004541113243114'), NodeId(space='sp_data_pump_station', external_id='Asset_6410548171595891'), NodeId(space='sp_data_pump_station', external_id='Asset_81467243787762'), NodeId(space='sp_data_pump_station', external_id='Asset_23921452012034'), NodeId(space='sp_data_pump_station', external_id='Asset_7806404385295025'), NodeId(space='sp_data_pump_station', external_id='Asset_8056653045323204'), NodeId(space='sp_data_pump_station', external_id='Asset_1357508377455386'), NodeId(space='sp_data_pump_station', external_id='Asset_5135123609065026'), NodeId(space='sp_data_pump_station', external_id='Asset_6037474207471867'), NodeId(space='sp_data_pump_station', external_id='Asset_3814858014848944'), NodeId(space='sp_data_pump_station', external_id='Asset_4282637232083446'), NodeId(space='sp_data_pump_station', external_id='Asset_8724043116543799'), NodeId(space='sp_data_pump_station', external_id='Asset_4582156459236482'), NodeId(space='sp_data_pump_station', external_id='Asset_1432498771938483'), NodeId(space='sp_data_pump_station', external_id='Asset_8393774212294989'), NodeId(space='sp_data_pump_station', external_id='Asset_7836353321625289'), NodeId(space='sp_data_pump_station', external_id='Asset_2879000772727558'), NodeId(space='sp_data_pump_station', external_id='Asset_6276047304545772'), NodeId(space='sp_data_pump_station', external_id='Asset_5281038386138027'), NodeId(space='sp_data_pump_station', external_id='Asset_409408085016912'), NodeId(space='sp_data_pump_station', external_id='Asset_5687470951999200'), NodeId(space='sp_data_pump_station', external_id='Asset_5168608124271064'), NodeId(space='sp_data_pump_station', external_id='Asset_597713956124653'), NodeId(space='sp_data_pump_station', external_id='Asset_1864313623913141'), NodeId(space='sp_data_pump_station', external_id='Asset_6264128498357271'), NodeId(space='sp_data_pump_station', external_id='Asset_6779172796182945'), NodeId(space='sp_data_pump_station', external_id='Asset_1038381373070659'), NodeId(space='sp_data_pump_station', external_id='Asset_4827422846791984'), NodeId(space='sp_data_pump_station', external_id='Asset_3543745228672494'), NodeId(space='sp_data_pump_station', external_id='Asset_1350559385255241'), NodeId(space='sp_data_pump_station', external_id='Asset_1496076023751088'), NodeId(space='sp_data_pump_station', external_id='Asset_6996457070033380'), NodeId(space='sp_data_pump_station', external_id='Asset_3281981391093912'), NodeId(space='sp_data_pump_station', external_id='Asset_1037825783121772'), NodeId(space='sp_data_pump_station', external_id='Asset_2086072639670581'), NodeId(space='sp_data_pump_station', external_id='Asset_4139420867004251'), NodeId(space='sp_data_pump_station', external_id='Asset_1424210982323954'), NodeId(space='sp_data_pump_station', external_id='Asset_5991677408633367'), NodeId(space='sp_data_pump_station', external_id='Asset_5413774089595059'), NodeId(space='sp_data_pump_station', external_id='Asset_5041263389346470'), NodeId(space='sp_data_pump_station', external_id='Asset_1994529305403431'), NodeId(space='sp_data_pump_station', external_id='Asset_5155311610956039'), NodeId(space='sp_data_pump_station', external_id='Asset_663950299702707'), NodeId(space='sp_data_pump_station', external_id='Asset_779363703909879'), NodeId(space='sp_data_pump_station', external_id='Asset_6391337840888778'), NodeId(space='sp_data_pump_station', external_id='Asset_4776644471418856'), NodeId(space='sp_data_pump_station', external_id='Asset_8808794232286601'), NodeId(space='sp_data_pump_station', external_id='Asset_165156832820784'), NodeId(space='sp_data_pump_station', external_id='Asset_3015520698705176'), NodeId(space='sp_data_pump_station', external_id='Asset_3192880850822919'), NodeId(space='sp_data_pump_station', external_id='Asset_2736664555336384'), NodeId(space='sp_data_pump_station', external_id='Asset_4552624840004426'), NodeId(space='sp_data_pump_station', external_id='Asset_2011390888860506'), NodeId(space='sp_data_pump_station', external_id='Asset_6700162977207830'), NodeId(space='sp_data_pump_station', external_id='Asset_3280739856601792'), NodeId(space='sp_data_pump_station', external_id='Asset_862846106956486'), NodeId(space='sp_data_pump_station', external_id='Asset_813431221291430'), NodeId(space='sp_data_pump_station', external_id='Asset_8878199396116383'), NodeId(space='sp_data_pump_station', external_id='Asset_5333316208400622'), NodeId(space='sp_data_pump_station', external_id='Asset_996835369435603'), NodeId(space='sp_data_pump_station', external_id='Asset_8523137874354911'), NodeId(space='sp_data_pump_station', external_id='Asset_5007277578782055'), NodeId(space='sp_data_pump_station', external_id='Asset_5087293594250586'), NodeId(space='sp_data_pump_station', external_id='Asset_5428549865274207'), NodeId(space='sp_data_pump_station', external_id='Asset_8504798483669198'), NodeId(space='sp_data_pump_station', external_id='Asset_2534347363555646'), NodeId(space='sp_data_pump_station', external_id='Asset_6781772664404616'), NodeId(space='sp_data_pump_station', external_id='Asset_8058069339001352'), NodeId(space='sp_data_pump_station', external_id='Asset_836522380797694'), NodeId(space='sp_data_pump_station', external_id='Asset_1602743241841442'), NodeId(space='sp_data_pump_station', external_id='Asset_8925755907669641'), NodeId(space='sp_data_pump_station', external_id='Asset_1062857167709404'), NodeId(space='sp_data_pump_station', external_id='Asset_413299123404753'), NodeId(space='sp_data_pump_station', external_id='Asset_7136850922305786'), NodeId(space='sp_data_pump_station', external_id='Asset_5547362797792188'), NodeId(space='sp_data_pump_station', external_id='Asset_4030282795820257'), NodeId(space='sp_data_pump_station', external_id='Asset_7894177745270490'), NodeId(space='sp_data_pump_station', external_id='Asset_3452092217821423'), NodeId(space='sp_data_pump_station', external_id='Asset_765927258989033'), NodeId(space='sp_data_pump_station', external_id='Asset_3253702221176761'), NodeId(space='sp_data_pump_station', external_id='Asset_8526018147369023'), NodeId(space='sp_data_pump_station', external_id='Asset_3322086940842206'), NodeId(space='sp_data_pump_station', external_id='Asset_8349112794292547'), NodeId(space='sp_data_pump_station', external_id='Asset_1575285876968678'), NodeId(space='sp_data_pump_station', external_id='Asset_5715782298837748'), NodeId(space='sp_data_pump_station', external_id='Asset_6495798019337129'), NodeId(space='sp_data_pump_station', external_id='Asset_6641759103584656'), NodeId(space='sp_data_pump_station', external_id='Asset_8786769086021865'), NodeId(space='sp_data_pump_station', external_id='Asset_2046186730180729'), NodeId(space='sp_data_pump_station', external_id='Asset_8553994241961892'), NodeId(space='sp_data_pump_station', external_id='Asset_756443337825960'), NodeId(space='sp_data_pump_station', external_id='Asset_2336737113812249'), NodeId(space='sp_data_pump_station', external_id='Asset_7478847799313763'), NodeId(space='sp_data_pump_station', external_id='Asset_7245358762439012'), NodeId(space='sp_data_pump_station', external_id='Asset_3742073732470345'), NodeId(space='sp_data_pump_station', external_id='Asset_2041897821048926'), NodeId(space='sp_data_pump_station', external_id='Asset_8319154213336032'), NodeId(space='sp_data_pump_station', external_id='Asset_8222636825254386'), NodeId(space='sp_data_pump_station', external_id='Asset_2023737592746820'), NodeId(space='sp_data_pump_station', external_id='Asset_7528927086455056'), NodeId(space='sp_data_pump_station', external_id='Asset_8210406762466554'), NodeId(space='sp_data_pump_station', external_id='Asset_7516256968258946'), NodeId(space='sp_data_pump_station', external_id='Asset_2614391887415841'), NodeId(space='sp_data_pump_station', external_id='Asset_8677060254799529'), NodeId(space='sp_data_pump_station', external_id='Asset_3586569534260203'), NodeId(space='sp_data_pump_station', external_id='Asset_3912512319616642'), NodeId(space='sp_data_pump_station', external_id='Asset_5545507452452289'), NodeId(space='sp_data_pump_station', external_id='Asset_227176319156396'), NodeId(space='sp_data_pump_station', external_id='Asset_2084401469825731'), NodeId(space='sp_data_pump_station', external_id='Asset_8786745865150192'), NodeId(space='sp_data_pump_station', external_id='Asset_2622548696369535'), NodeId(space='sp_data_pump_station', external_id='Asset_2252447920800496'), NodeId(space='sp_data_pump_station', external_id='Asset_4161802645953289'), NodeId(space='sp_data_pump_station', external_id='Asset_4487513710880340'), NodeId(space='sp_data_pump_station', external_id='Asset_4198593876687587'), NodeId(space='sp_data_pump_station', external_id='Asset_5019118534073978'), NodeId(space='sp_data_pump_station', external_id='Asset_1251681124138604'), NodeId(space='sp_data_pump_station', external_id='Asset_7203345045002373'), NodeId(space='sp_data_pump_station', external_id='Asset_1194729803680100'), NodeId(space='sp_data_pump_station', external_id='Asset_6614542201323700'), NodeId(space='sp_data_pump_station', external_id='Asset_1648354084107813'), NodeId(space='sp_data_pump_station', external_id='Asset_3659337637509008'), NodeId(space='sp_data_pump_station', external_id='Asset_720243198469901'), NodeId(space='sp_data_pump_station', external_id='Asset_3947736878768533'), NodeId(space='sp_data_pump_station', external_id='Asset_8236357046250336'), NodeId(space='sp_data_pump_station', external_id='Asset_7850022972804616'), NodeId(space='sp_data_pump_station', external_id='Asset_8064479308748326'), NodeId(space='sp_data_pump_station', external_id='Asset_2508670135160060'), NodeId(space='sp_data_pump_station', external_id='Asset_7098679359189829'), NodeId(space='sp_data_pump_station', external_id='Asset_127734001123260'), NodeId(space='sp_data_pump_station', external_id='Asset_673071391885663'), NodeId(space='sp_data_pump_station', external_id='Asset_8843530297877179'), NodeId(space='sp_data_pump_station', external_id='Asset_7047173837936574'), NodeId(space='sp_data_pump_station', external_id='Asset_8706147153757321'), NodeId(space='sp_data_pump_station', external_id='Asset_2094973082337502'), NodeId(space='sp_data_pump_station', external_id='Asset_3927731196795261'), NodeId(space='sp_data_pump_station', external_id='Asset_8770242167137269'), NodeId(space='sp_data_pump_station', external_id='Asset_8628246215971298'), NodeId(space='sp_data_pump_station', external_id='Asset_3543366413287754'), NodeId(space='sp_data_pump_station', external_id='Asset_2648639705661733'), NodeId(space='sp_data_pump_station', external_id='Asset_3515282769165525'), NodeId(space='sp_data_pump_station', external_id='Asset_1304177008138755'), NodeId(space='sp_data_pump_station', external_id='Asset_7267922459333514'), NodeId(space='sp_data_pump_station', external_id='Asset_2479470568519150'), NodeId(space='sp_data_pump_station', external_id='Asset_7062323820650437'), NodeId(space='sp_data_pump_station', external_id='Asset_6643904356520272'), NodeId(space='sp_data_pump_station', external_id='Asset_8146710551744753'), NodeId(space='sp_data_pump_station', external_id='Asset_1324043696796177'), NodeId(space='sp_data_pump_station', external_id='Asset_7946696422000355'), NodeId(space='sp_data_pump_station', external_id='Asset_2659669230977122'), NodeId(space='sp_data_pump_station', external_id='Asset_4093409240484544'), NodeId(space='sp_data_pump_station', external_id='Asset_6480569031884264'), NodeId(space='sp_data_pump_station', external_id='Asset_1599542126336595'), NodeId(space='sp_data_pump_station', external_id='Asset_8536226378041620'), NodeId(space='sp_data_pump_station', external_id='Asset_3167103698462272'), NodeId(space='sp_data_pump_station', external_id='Asset_8068837493233743'), NodeId(space='sp_data_pump_station', external_id='Asset_782919551178381'), NodeId(space='sp_data_pump_station', external_id='Asset_285703678588887'), NodeId(space='sp_data_pump_station', external_id='Asset_8906381697072008'), NodeId(space='sp_data_pump_station', external_id='Asset_7858499984800024'), NodeId(space='sp_data_pump_station', external_id='Asset_7523396261491280'), NodeId(space='sp_data_pump_station', external_id='Asset_6841838289417335'), NodeId(space='sp_data_pump_station', external_id='Asset_682395660264665'), NodeId(space='sp_data_pump_station', external_id='Asset_5328233515028106'), NodeId(space='sp_data_pump_station', external_id='Asset_1774832114371582'), NodeId(space='sp_data_pump_station', external_id='Asset_5130211688970126'), NodeId(space='sp_data_pump_station', external_id='Asset_4712097420257305'), NodeId(space='sp_data_pump_station', external_id='Asset_7892354435770575'), NodeId(space='sp_data_pump_station', external_id='Asset_4752540074534822'), NodeId(space='sp_data_pump_station', external_id='Asset_2511536057605256'), NodeId(space='sp_data_pump_station', external_id='Asset_3282403756294926'), NodeId(space='sp_data_pump_station', external_id='Asset_6819169398550305'), NodeId(space='sp_data_pump_station', external_id='Asset_1717136324291166'), NodeId(space='sp_data_pump_station', external_id='Asset_1328367249298685'), NodeId(space='sp_data_pump_station', external_id='Asset_8855980446983123'), NodeId(space='sp_data_pump_station', external_id='Asset_771688114151184'), NodeId(space='sp_data_pump_station', external_id='Asset_6564758760526211'), NodeId(space='sp_data_pump_station', external_id='Asset_8465364910017703'), NodeId(space='sp_data_pump_station', external_id='Asset_962578142683188'), NodeId(space='sp_data_pump_station', external_id='Asset_4261713708156963'), NodeId(space='sp_data_pump_station', external_id='Asset_385619558573894'), NodeId(space='sp_data_pump_station', external_id='Asset_7412273070008116'), NodeId(space='sp_data_pump_station', external_id='Asset_3555954990835329'), NodeId(space='sp_data_pump_station', external_id='Asset_1036635642295968')}, upserted=set(), deleted=set(), changed=set(), unchanged=set(), skipped=set(), failed_created=set(), failed_upserted=set(), failed_changed=set(), failed_deleted=set()),\n",
       " UploadResult(name='Edges', error_messages=[], issues=[], created=set(), upserted=set(), deleted=set(), changed=set(), unchanged=set(), skipped=set(), failed_created=set(), failed_upserted=set(), failed_changed=set(), failed_deleted=set())]"
      ]
     },
     "execution_count": 36,
     "metadata": {},
     "output_type": "execute_result"
    }
   ],
   "source": [
    "result"
   ]
  },
  {
   "cell_type": "markdown",
   "id": "e9cf8808-f940-4ffc-91d0-4bfdcc36524f",
   "metadata": {},
   "source": [
    "## Results"
   ]
  },
  {
   "cell_type": "markdown",
   "id": "ff361f69-e916-493c-ab73-3c3c2777084b",
   "metadata": {},
   "source": [
    "We can now go into CDF and inspect the results. Looking at the data model we created, we can see the schema for\n",
    "the inferred `Root`, `LiftStation` and `Pump`\n",
    "\n",
    "<img src=\"../../artifacts/figs/asset_hierarchy_lift_pump_stations_dms_typed.png\" width=\"400\">"
   ]
  },
  {
   "cell_type": "markdown",
   "id": "65e9ed2b-bfc6-4dc9-b259-54a820762c67",
   "metadata": {},
   "source": [
    "Furthermore, we can inspect the populated nodes in this Pump types as well as Lift Station and the Root.\n",
    "\n",
    "<img src=\"../../artifacts/figs/asset_hierarchy_lift_pump_stations_populated_with_typed.png\" width=\"1000\">"
   ]
  },
  {
   "cell_type": "code",
   "execution_count": null,
   "id": "5218d828-b642-4a55-a8b3-fdc7d73fb790",
   "metadata": {},
   "outputs": [],
   "source": []
  }
 ],
 "metadata": {
  "kernelspec": {
   "display_name": "Python 3 (ipykernel)",
   "language": "python",
   "name": "python3"
  },
  "language_info": {
   "codemirror_mode": {
    "name": "ipython",
    "version": 3
   },
   "file_extension": ".py",
   "mimetype": "text/x-python",
   "name": "python",
   "nbconvert_exporter": "python",
   "pygments_lexer": "ipython3",
   "version": "3.12.1"
  }
 },
 "nbformat": 4,
 "nbformat_minor": 5
}
