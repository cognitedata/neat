{
 "cells": [
  {
   "cell_type": "markdown",
   "id": "d8dd9ed4",
   "metadata": {
    "editable": true,
    "slideshow": {
     "slide_type": ""
    },
    "tags": []
   },
   "source": [
    "# Classic Knowledge Graph Onboarding\n",
    "\n",
    "**Prerequisite**:\n",
    "\n",
    "- Access to a CDF Project.\n",
    "- Know how to install and setup Python.\n",
    "- Launch a Python notebook.\n",
    "\n",
    "\n",
    "\n",
    "In this tutorial, we will show you how to onboard data from CDF resources assets, timeseries, files, sequences, events, data sets, and labels into an extension of the Cognite Core data model."
   ]
  },
  {
   "cell_type": "markdown",
   "id": "2bd75587-4146-4e94-9512-f0a3ed9de747",
   "metadata": {},
   "source": [
    "## Use Case\n",
    "\n",
    "The use case we will use in this tutorial is a WindFarm named `Utsira` with two wind turbines, `WT-01` and `WT-02`. These two turbines each has two time series, one for power production and one for forecast. In addition, one of them has a power curve sequences linked and a maintenance event. In addition, there is a whearther station modeled as an asset that is connected to the two turbines through relationships. Finally, there is a file with a data sheet linked to one of the turbines.\n",
    "\n",
    "In the CDF UI, it looks like shown below:\n",
    "\n",
    "<img src=\"../../artifacts/figs/wind_farm_classic_knowledge_graph.png\" width=\"400\">"
   ]
  },
  {
   "cell_type": "markdown",
   "id": "be061917-73e7-4135-9b24-aadf5e584f0f",
   "metadata": {},
   "source": [
    "## Extracting Data"
   ]
  },
  {
   "cell_type": "markdown",
   "id": "f6251725-1fc5-496a-9c3a-b03819893b62",
   "metadata": {},
   "source": [
    "We will start by creating a new `NeatSession` and connect to CDF"
   ]
  },
  {
   "cell_type": "code",
   "execution_count": 1,
   "id": "5352e871-c28b-4e5f-ad44-73339c030cb9",
   "metadata": {},
   "outputs": [],
   "source": [
    "from cognite.neat import NeatSession, get_cognite_client"
   ]
  },
  {
   "cell_type": "code",
   "execution_count": 2,
   "id": "31532953-7d57-427a-a837-496338e08653",
   "metadata": {},
   "outputs": [
    {
     "name": "stdout",
     "output_type": "stream",
     "text": [
      "Found .env file in repository root. Loaded variables from .env file.\n"
     ]
    }
   ],
   "source": [
    "client = get_cognite_client(\".env\")"
   ]
  },
  {
   "cell_type": "code",
   "execution_count": 3,
   "id": "3042eb6a-42e9-44e8-a734-5c8322330075",
   "metadata": {},
   "outputs": [
    {
     "name": "stdout",
     "output_type": "stream",
     "text": [
      "Neat Engine 2.0.3 loaded.\n"
     ]
    }
   ],
   "source": [
    "# We have install neat with `pip install \"cognite-neat[oxi]\"` such that we can use oxigraph for storage.\n",
    "neat = NeatSession(client, storage=\"oxigraph\")"
   ]
  },
  {
   "cell_type": "markdown",
   "id": "2f0b3c81-27ea-4457-8c2b-ed7a59bfb1db",
   "metadata": {},
   "source": [
    "We start by reading in the knowledge graph, we do this by pointing to the root node. Neat will then get all assets in the hierarchy, as well as all resources linked to this hierarchy."
   ]
  },
  {
   "cell_type": "code",
   "execution_count": 4,
   "id": "ce81b201-03ca-44fa-a5f4-497856411687",
   "metadata": {
    "editable": true,
    "slideshow": {
     "slide_type": ""
    },
    "tags": [
     "hide"
    ]
   },
   "outputs": [],
   "source": [
    "# This cell is removed from the docs.\n",
    "from cognite.neat._config import GLOBAL_CONFIG\n",
    "\n",
    "# Switch to TQDM progress bar as that looks better in the docs\n",
    "GLOBAL_CONFIG.progress_bar = \"tqdm-notebook\""
   ]
  },
  {
   "cell_type": "code",
   "execution_count": 5,
   "id": "4b8adaac-2673-499c-bc74-9bec964dab43",
   "metadata": {},
   "outputs": [
    {
     "data": {
      "application/vnd.jupyter.widget-view+json": {
       "model_id": "b39787f1df2c4296aa4e411089bd072c",
       "version_major": 2,
       "version_minor": 0
      },
      "text/plain": [
       "Extracting Asset relationships:   0%|          | 0/1 [00:00<?, ?it/s]"
      ]
     },
     "metadata": {},
     "output_type": "display_data"
    },
    {
     "data": {
      "application/vnd.jupyter.widget-view+json": {
       "model_id": "b11f841ecef045eb9debcd307c93871e",
       "version_major": 2,
       "version_minor": 0
      },
      "text/plain": [
       "Extracting TimeSeries relationships:   0%|          | 0/1 [00:00<?, ?it/s]"
      ]
     },
     "metadata": {},
     "output_type": "display_data"
    },
    {
     "data": {
      "application/vnd.jupyter.widget-view+json": {
       "model_id": "9396f6aab6f0412d88becf2dbc2707fe",
       "version_major": 2,
       "version_minor": 0
      },
      "text/plain": [
       "Extracting Sequence relationships:   0%|          | 0/1 [00:00<?, ?it/s]"
      ]
     },
     "metadata": {},
     "output_type": "display_data"
    },
    {
     "data": {
      "application/vnd.jupyter.widget-view+json": {
       "model_id": "3b321d97598d4a75aa2d7d016d0a6b4a",
       "version_major": 2,
       "version_minor": 0
      },
      "text/plain": [
       "Extracting Event relationships:   0%|          | 0/1 [00:00<?, ?it/s]"
      ]
     },
     "metadata": {},
     "output_type": "display_data"
    },
    {
     "data": {
      "application/vnd.jupyter.widget-view+json": {
       "model_id": "c6c8de1e17d84a93853cc3f28e7aa297",
       "version_major": 2,
       "version_minor": 0
      },
      "text/plain": [
       "Extracting File relationships:   0%|          | 0/1 [00:00<?, ?it/s]"
      ]
     },
     "metadata": {},
     "output_type": "display_data"
    },
    {
     "data": {
      "application/vnd.jupyter.widget-view+json": {
       "model_id": "f0320e13579f4f7b88d03c009803ec85",
       "version_major": 2,
       "version_minor": 0
      },
      "text/plain": [
       "Extracting end nodes Asset:   0%|          | 0/1 [00:00<?, ?it/s]"
      ]
     },
     "metadata": {},
     "output_type": "display_data"
    },
    {
     "data": {
      "application/vnd.jupyter.widget-view+json": {
       "model_id": "3cd7d91f1a644ceda8303e54f4d4a8fd",
       "version_major": 2,
       "version_minor": 0
      },
      "text/plain": [
       "Extracting labels:   0%|          | 0/1 [00:00<?, ?it/s]"
      ]
     },
     "metadata": {},
     "output_type": "display_data"
    },
    {
     "data": {
      "text/html": [
       "<p>Success: Read Classic Graph</p>"
      ],
      "text/plain": [
       "[]"
      ]
     },
     "execution_count": 5,
     "metadata": {},
     "output_type": "execute_result"
    }
   ],
   "source": [
    "neat.read.cdf.classic.graph(\"Utsira\")"
   ]
  },
  {
   "cell_type": "markdown",
   "id": "fcf567a3-9952-4bef-bcb8-896fd5afb07f",
   "metadata": {},
   "source": [
    "We can now inspect the instances we have extracted."
   ]
  },
  {
   "cell_type": "code",
   "execution_count": 6,
   "id": "83052d7a-44c0-4339-87fa-1a82b12c22d9",
   "metadata": {},
   "outputs": [
    {
     "data": {
      "text/html": [
       "<H2>Instances</H2> <br /><strong>Overview</strong>:<ul><li>7 types</strong></li><li>17 instances</strong></li></ul><div>\n",
       "<style scoped>\n",
       "    .dataframe tbody tr th:only-of-type {\n",
       "        vertical-align: middle;\n",
       "    }\n",
       "\n",
       "    .dataframe tbody tr th {\n",
       "        vertical-align: top;\n",
       "    }\n",
       "\n",
       "    .dataframe thead th {\n",
       "        text-align: right;\n",
       "    }\n",
       "</style>\n",
       "<table border=\"1\" class=\"dataframe\">\n",
       "  <thead>\n",
       "    <tr style=\"text-align: right;\">\n",
       "      <th></th>\n",
       "      <th>Type</th>\n",
       "      <th>Occurrence</th>\n",
       "    </tr>\n",
       "  </thead>\n",
       "  <tbody>\n",
       "    <tr>\n",
       "      <th>0</th>\n",
       "      <td>TimeSeries</td>\n",
       "      <td>4</td>\n",
       "    </tr>\n",
       "    <tr>\n",
       "      <th>1</th>\n",
       "      <td>Label</td>\n",
       "      <td>4</td>\n",
       "    </tr>\n",
       "    <tr>\n",
       "      <th>2</th>\n",
       "      <td>Asset</td>\n",
       "      <td>4</td>\n",
       "    </tr>\n",
       "    <tr>\n",
       "      <th>3</th>\n",
       "      <td>Relationship</td>\n",
       "      <td>2</td>\n",
       "    </tr>\n",
       "    <tr>\n",
       "      <th>4</th>\n",
       "      <td>Event</td>\n",
       "      <td>1</td>\n",
       "    </tr>\n",
       "    <tr>\n",
       "      <th>...</th>\n",
       "      <td>...</td>\n",
       "      <td>...</td>\n",
       "    </tr>\n",
       "    <tr>\n",
       "      <th>6</th>\n",
       "      <td>File</td>\n",
       "      <td>1</td>\n",
       "    </tr>\n",
       "  </tbody>\n",
       "</table>\n",
       "</div><br /><strong>Provenance</strong>:<ul><li>Initialize graph store as OxigraphStore</li><li>Extracted triples to graph store using ClassicGraphExtractor</li><li>Extracted triples to graph store using ClassicGraphExtractor</li><li>Extracted triples to graph store using ClassicGraphExtractor</li><li>Extracted triples to graph store using ClassicGraphExtractor</li><li>Extracted triples to graph store using ClassicGraphExtractor</li><li>Extracted triples to graph store using ClassicGraphExtractor</li><li>Extracted triples to graph store using ClassicGraphExtractor</li><li>Extracted triples to graph store using ClassicGraphExtractor</li></ul>"
      ],
      "text/plain": [
       "<cognite.neat._session._base.NeatSession at 0x2727b95baa0>"
      ]
     },
     "execution_count": 6,
     "metadata": {},
     "output_type": "execute_result"
    }
   ],
   "source": [
    "neat"
   ]
  },
  {
   "cell_type": "markdown",
   "id": "851be8d0-1de5-4cec-a407-0119aeeba463",
   "metadata": {},
   "source": [
    "## Prepare for CogniteCore"
   ]
  },
  {
   "cell_type": "markdown",
   "id": "e2ba3a45-4ed4-42c0-97f6-8cb0a08ce02a",
   "metadata": {},
   "source": [
    "We need to prepare the extracted instances for cognite core. This means, for example, converting relationships to edges and making TimeSeries.isString into an enum.\n",
    "\n",
    "This preperation steps are gathered in a single method in neat."
   ]
  },
  {
   "cell_type": "code",
   "execution_count": 7,
   "id": "0fbd6d20-e2bb-440d-b8b8-9f6e746788cb",
   "metadata": {},
   "outputs": [
    {
     "data": {
      "application/vnd.jupyter.widget-view+json": {
       "model_id": "5943b099b9024968a269985470ae1783",
       "version_major": 2,
       "version_minor": 0
      },
      "text/plain": [
       "Relationships to edges:   0%|          | 0/2 [00:00<?, ?it/s]"
      ]
     },
     "metadata": {},
     "output_type": "display_data"
    }
   ],
   "source": [
    "neat.prepare.instances.classic_to_core()"
   ]
  },
  {
   "cell_type": "markdown",
   "id": "b5b2a1fc-cbfb-4171-9b88-ae8a0a35e103",
   "metadata": {},
   "source": [
    "## Infering Data Model"
   ]
  },
  {
   "cell_type": "markdown",
   "id": "2c744067-10f9-4b7b-9070-946647b8f9e3",
   "metadata": {},
   "source": [
    "We are now ready to infer a data model"
   ]
  },
  {
   "cell_type": "code",
   "execution_count": 8,
   "id": "92c0e87c-5542-4e99-98be-6bc7fdc14dde",
   "metadata": {},
   "outputs": [
    {
     "data": {
      "application/vnd.jupyter.widget-view+json": {
       "model_id": "26d3629a35594b4fa3dcd083fcd33628",
       "version_major": 2,
       "version_minor": 0
      },
      "text/plain": [
       "Inferring classes:   0%|          | 0/8 [00:00<?, ?it/s]"
      ]
     },
     "metadata": {},
     "output_type": "display_data"
    },
    {
     "data": {
      "text/html": [
       "<p>Succeeded with warnings: Inferred UnverifiedInformationModel</p><br /><div>\n",
       "<style scoped>\n",
       "    .dataframe tbody tr th:only-of-type {\n",
       "        vertical-align: middle;\n",
       "    }\n",
       "\n",
       "    .dataframe tbody tr th {\n",
       "        vertical-align: top;\n",
       "    }\n",
       "\n",
       "    .dataframe thead th {\n",
       "        text-align: right;\n",
       "    }\n",
       "</style>\n",
       "<table border=\"1\" class=\"dataframe\">\n",
       "  <thead>\n",
       "    <tr style=\"text-align: right;\">\n",
       "      <th></th>\n",
       "      <th>count</th>\n",
       "    </tr>\n",
       "    <tr>\n",
       "      <th>NeatIssue</th>\n",
       "      <th></th>\n",
       "    </tr>\n",
       "  </thead>\n",
       "  <tbody>\n",
       "    <tr>\n",
       "      <th>PropertyValueTypeUndefinedWarning</th>\n",
       "      <td>8</td>\n",
       "    </tr>\n",
       "    <tr>\n",
       "      <th>PropertySkippedWarning</th>\n",
       "      <td>6</td>\n",
       "    </tr>\n",
       "  </tbody>\n",
       "</table>\n",
       "</div><br />Hint: Use the .inspect.issues() for more details."
      ],
      "text/plain": [
       "[PropertyValueTypeUndefinedWarning(identifier='Label:dataSetId', resource_type='Property', property_name='dataSetId', default_action='Remove the property from the rules', recommended_action='Make sure that graph is complete'),\n",
       " PropertySkippedWarning(identifier='Label:externalId', resource_type='Property', property_name='externalId', reason='External ID is assumed to be the unique identifier of the instance and is not part of the data model schema.'),\n",
       " PropertySkippedWarning(identifier='TimeSeries:externalId', resource_type='Property', property_name='externalId', reason='External ID is assumed to be the unique identifier of the instance and is not part of the data model schema.'),\n",
       " PropertyValueTypeUndefinedWarning(identifier='TimeSeries:dataSetId', resource_type='Property', property_name='dataSetId', default_action='Remove the property from the rules', recommended_action='Make sure that graph is complete'),\n",
       " PropertySkippedWarning(identifier='Asset:externalId', resource_type='Property', property_name='externalId', reason='External ID is assumed to be the unique identifier of the instance and is not part of the data model schema.'),\n",
       " PropertyValueTypeUndefinedWarning(identifier='Asset:dataSetId', resource_type='Property', property_name='dataSetId', default_action='Remove the property from the rules', recommended_action='Make sure that graph is complete'),\n",
       " PropertyValueTypeUndefinedWarning(identifier='Asset:parentId', resource_type='Property', property_name='parentId', default_action='Remove the property from the rules', recommended_action='Make sure that graph is complete'),\n",
       " PropertyValueTypeUndefinedWarning(identifier='AssetToAssetEdge:dataSetId', resource_type='Property', property_name='dataSetId', default_action='Remove the property from the rules', recommended_action='Make sure that graph is complete'),\n",
       " PropertySkippedWarning(identifier='Event:externalId', resource_type='Property', property_name='externalId', reason='External ID is assumed to be the unique identifier of the instance and is not part of the data model schema.'),\n",
       " PropertyValueTypeUndefinedWarning(identifier='Event:dataSetId', resource_type='Property', property_name='dataSetId', default_action='Remove the property from the rules', recommended_action='Make sure that graph is complete'),\n",
       " PropertySkippedWarning(identifier='Sequence:externalId', resource_type='Property', property_name='externalId', reason='External ID is assumed to be the unique identifier of the instance and is not part of the data model schema.'),\n",
       " PropertyValueTypeUndefinedWarning(identifier='Sequence:dataSetId', resource_type='Property', property_name='dataSetId', default_action='Remove the property from the rules', recommended_action='Make sure that graph is complete'),\n",
       " PropertyValueTypeUndefinedWarning(identifier='File:dataSetId', resource_type='Property', property_name='dataSetId', default_action='Remove the property from the rules', recommended_action='Make sure that graph is complete'),\n",
       " PropertySkippedWarning(identifier='File:externalId', resource_type='Property', property_name='externalId', reason='External ID is assumed to be the unique identifier of the instance and is not part of the data model schema.')]"
      ]
     },
     "execution_count": 8,
     "metadata": {},
     "output_type": "execute_result"
    }
   ],
   "source": [
    "neat.infer()"
   ]
  },
  {
   "cell_type": "markdown",
   "id": "7382423c-3473-4771-a60e-f84d1ecd0e9c",
   "metadata": {},
   "source": [
    "## Preparing Model for Mapping to CogniteCore"
   ]
  },
  {
   "cell_type": "markdown",
   "id": "fa497199-87f8-4e7e-9c6b-6322ccf1cffe",
   "metadata": {},
   "source": [
    "When we create a data model based on assets, time series, we get a model that is using reserved words. To overcome this, we prefix all classes with the organization name. In this tutorial, we use the fictitious organization `DoctrinoInc`."
   ]
  },
  {
   "cell_type": "code",
   "execution_count": 9,
   "id": "26639e08-b464-4a28-af57-c5ca5c1eae10",
   "metadata": {},
   "outputs": [],
   "source": [
    "organiztion_name = \"DoctrinoInc\""
   ]
  },
  {
   "cell_type": "code",
   "execution_count": 10,
   "id": "7149be77-3a62-49d4-a169-d43f0860c60e",
   "metadata": {},
   "outputs": [
    {
     "data": {
      "text/html": [
       "<p>Success: UnverifiedInformationModel &#8594; UnverifiedInformationModel</p>"
      ],
      "text/plain": [
       "[]"
      ]
     },
     "execution_count": 10,
     "metadata": {},
     "output_type": "execute_result"
    }
   ],
   "source": [
    "neat.prepare.data_model.prefix(organiztion_name)"
   ]
  },
  {
   "cell_type": "markdown",
   "id": "b2a4de94-0924-48a7-8aa6-504c2088cdac",
   "metadata": {},
   "source": [
    "Now we are ready to verify the model, meaning validate that it is consistent."
   ]
  },
  {
   "cell_type": "code",
   "execution_count": 11,
   "id": "ded10956-1db6-484c-b535-1e98fac47b06",
   "metadata": {},
   "outputs": [
    {
     "data": {
      "text/html": [
       "<p>Success: UnverifiedInformationModel &#8594; VerifiedInformationModel</p>"
      ],
      "text/plain": [
       "[]"
      ]
     },
     "execution_count": 11,
     "metadata": {},
     "output_type": "execute_result"
    }
   ],
   "source": [
    "neat.verify()"
   ]
  },
  {
   "cell_type": "code",
   "execution_count": 12,
   "id": "dc5f2bd5-db1d-4935-b2e2-d567b8d5ce5f",
   "metadata": {},
   "outputs": [
    {
     "name": "stdout",
     "output_type": "stream",
     "text": [
      "http_purl.org_cognite_neat_data-model_verified_logical_neat_space_NeatInferredDataModel_v1.html\n"
     ]
    },
    {
     "data": {
      "text/html": [
       "\n",
       "        <iframe\n",
       "            width=\"100%\"\n",
       "            height=\"750px\"\n",
       "            src=\"http_purl.org_cognite_neat_data-model_verified_logical_neat_space_NeatInferredDataModel_v1.html\"\n",
       "            frameborder=\"0\"\n",
       "            allowfullscreen\n",
       "            \n",
       "        ></iframe>\n",
       "        "
      ],
      "text/plain": [
       "<IPython.lib.display.IFrame at 0x27218ba90d0>"
      ]
     },
     "execution_count": 12,
     "metadata": {},
     "output_type": "execute_result"
    }
   ],
   "source": [
    "neat.show.data_model()"
   ]
  },
  {
   "cell_type": "markdown",
   "id": "490c7fbe-1d4d-468e-8130-17071980fba7",
   "metadata": {},
   "source": [
    "## Converting Information to DMS"
   ]
  },
  {
   "cell_type": "markdown",
   "id": "6cbfee91-82ec-4480-95fe-66268122e5e3",
   "metadata": {},
   "source": [
    "The model we inferred was an information model. This is a descriptive model that does not contain any information about implementations. This must be comverted to an domain model storage format.\n",
    "\n",
    "We do a special handling of the classes that should be implemented as edges with properties. \n",
    "\n",
    "First, we set all classes that has the suffxi `Edge` to be implementing `Edge`.\n",
    "Then, we use a special mode whe convert that makes all classes that implements `Edge` into edges instead of nodes."
   ]
  },
  {
   "cell_type": "code",
   "execution_count": 13,
   "id": "2adc9d42-d52a-473c-9a13-9881e44419ca",
   "metadata": {},
   "outputs": [
    {
     "data": {
      "text/html": [
       "<p>Success: VerifiedInformationModel &#8594; VerifiedInformationModel</p>"
      ],
      "text/plain": [
       "[]"
      ]
     },
     "execution_count": 13,
     "metadata": {},
     "output_type": "execute_result"
    }
   ],
   "source": [
    "neat.prepare.data_model.add_implements_to_classes(suffix=\"Edge\", implements=\"Edge\")"
   ]
  },
  {
   "cell_type": "code",
   "execution_count": 14,
   "id": "14cf89ff-8199-4ddf-94d6-1d63387d2cde",
   "metadata": {},
   "outputs": [
    {
     "name": "stdout",
     "output_type": "stream",
     "text": [
      "Rules converted to dms\n"
     ]
    },
    {
     "data": {
      "text/html": [
       "<p>Success: VerifiedInformationModel &#8594; VerifiedDMSModel</p>"
      ],
      "text/plain": [
       "[]"
      ]
     },
     "execution_count": 14,
     "metadata": {},
     "output_type": "execute_result"
    }
   ],
   "source": [
    "neat.convert(\"dms\", mode=\"edge_properties\")"
   ]
  },
  {
   "cell_type": "markdown",
   "id": "179a8359-5fc3-4f4a-8361-4914fb5ede6f",
   "metadata": {},
   "source": [
    "## Mapping Model to Cognite Core\n",
    "\n",
    "We now have a DMS representation of our data model. This can be mapped on top of `CogniteCore` using a standard mapping."
   ]
  },
  {
   "cell_type": "code",
   "execution_count": 15,
   "id": "f698c616-fffd-4d0d-9d25-58e124c8a74a",
   "metadata": {},
   "outputs": [
    {
     "name": "stdout",
     "output_type": "stream",
     "text": [
      "http_purl.org_cognite_neat_data-model_verified_physical_neat_space_NeatInferredDataModel_v1.html\n"
     ]
    },
    {
     "data": {
      "text/html": [
       "\n",
       "        <iframe\n",
       "            width=\"100%\"\n",
       "            height=\"750px\"\n",
       "            src=\"http_purl.org_cognite_neat_data-model_verified_physical_neat_space_NeatInferredDataModel_v1.html\"\n",
       "            frameborder=\"0\"\n",
       "            allowfullscreen\n",
       "            \n",
       "        ></iframe>\n",
       "        "
      ],
      "text/plain": [
       "<IPython.lib.display.IFrame at 0x27218d89760>"
      ]
     },
     "execution_count": 15,
     "metadata": {},
     "output_type": "execute_result"
    }
   ],
   "source": [
    "neat.show.data_model()"
   ]
  },
  {
   "cell_type": "code",
   "execution_count": 16,
   "id": "29404e02-a7de-4237-b4c8-6dae879f3150",
   "metadata": {},
   "outputs": [
    {
     "data": {
      "text/html": [
       "<p>Succeeded with warnings: VerifiedDMSModel &#8594; VerifiedDMSModel</p><br /><div>\n",
       "<style scoped>\n",
       "    .dataframe tbody tr th:only-of-type {\n",
       "        vertical-align: middle;\n",
       "    }\n",
       "\n",
       "    .dataframe tbody tr th {\n",
       "        vertical-align: top;\n",
       "    }\n",
       "\n",
       "    .dataframe thead th {\n",
       "        text-align: right;\n",
       "    }\n",
       "</style>\n",
       "<table border=\"1\" class=\"dataframe\">\n",
       "  <thead>\n",
       "    <tr style=\"text-align: right;\">\n",
       "      <th></th>\n",
       "      <th>count</th>\n",
       "    </tr>\n",
       "    <tr>\n",
       "      <th>NeatIssue</th>\n",
       "      <th></th>\n",
       "    </tr>\n",
       "  </thead>\n",
       "  <tbody>\n",
       "    <tr>\n",
       "      <th>PropertyOverwritingWarning</th>\n",
       "      <td>6</td>\n",
       "    </tr>\n",
       "  </tbody>\n",
       "</table>\n",
       "</div><br />Hint: Use the .inspect.issues() for more details."
      ],
      "text/plain": [
       "[PropertyOverwritingWarning(identifier=ViewId(space='neat_space', external_id='DoctrinoIncEvent', version='v1'), resource_type='view', property_name='assetIds', overwriting=('Is List',)),\n",
       " PropertyOverwritingWarning(identifier=ViewId(space='neat_space', external_id='DoctrinoIncFile', version='v1'), resource_type='view', property_name='assetIds', overwriting=('Is List',)),\n",
       " PropertyOverwritingWarning(identifier=ViewId(space='neat_space', external_id='DoctrinoIncTimeSeries', version='v1'), resource_type='view', property_name='assetId', overwriting=('Is List',)),\n",
       " PropertyOverwritingWarning(identifier=ViewId(space='neat_space', external_id='DoctrinoIncTimeSeries', version='v1'), resource_type='view', property_name='isStep', overwriting=('Nullable',)),\n",
       " PropertyOverwritingWarning(identifier=ViewId(space='neat_space', external_id='DoctrinoIncTimeSeries', version='v1'), resource_type='view', property_name='isString', overwriting=('Nullable', 'Value Type')),\n",
       " PropertyOverwritingWarning(identifier=ViewId(space='neat_space', external_id='DoctrinoIncTimeSeries', version='v1'), resource_type='view', property_name='unitExternalId', overwriting=('Value Type',))]"
      ]
     },
     "execution_count": 16,
     "metadata": {},
     "output_type": "execute_result"
    }
   ],
   "source": [
    "neat.mapping.data_model.classic_to_core(organiztion_name)"
   ]
  },
  {
   "cell_type": "markdown",
   "id": "983fd0fc-688e-408a-9541-b9087e73a444",
   "metadata": {},
   "source": [
    "The warnings is because some of the mappings overwrote the data type"
   ]
  },
  {
   "cell_type": "code",
   "execution_count": 17,
   "id": "6bde97b9-4d88-411c-8756-6358fcdce651",
   "metadata": {},
   "outputs": [
    {
     "name": "stdout",
     "output_type": "stream",
     "text": [
      "http_purl.org_cognite_neat_data-model_verified_physical_neat_space_NeatInferredDataModel_v1.html\n"
     ]
    },
    {
     "data": {
      "text/html": [
       "\n",
       "        <iframe\n",
       "            width=\"100%\"\n",
       "            height=\"750px\"\n",
       "            src=\"http_purl.org_cognite_neat_data-model_verified_physical_neat_space_NeatInferredDataModel_v1.html\"\n",
       "            frameborder=\"0\"\n",
       "            allowfullscreen\n",
       "            \n",
       "        ></iframe>\n",
       "        "
      ],
      "text/plain": [
       "<IPython.lib.display.IFrame at 0x27218fbbbc0>"
      ]
     },
     "execution_count": 17,
     "metadata": {},
     "output_type": "execute_result"
    }
   ],
   "source": [
    "neat.show.data_model()"
   ]
  },
  {
   "cell_type": "markdown",
   "id": "74890644-cd6b-4874-a9c4-dbc6ecfa5f0f",
   "metadata": {},
   "source": [
    "## Publishing Data Model\n",
    "\n",
    "We can now publish the data model. First, we set the data model id"
   ]
  },
  {
   "cell_type": "code",
   "execution_count": 29,
   "id": "619ed64a-c3b8-48e5-8bce-930675f0f21d",
   "metadata": {},
   "outputs": [
    {
     "data": {
      "text/html": [
       "<p>Success: VerifiedDMSModel &#8594; VerifiedDMSModel</p>"
      ],
      "text/plain": [
       "[]"
      ]
     },
     "execution_count": 29,
     "metadata": {},
     "output_type": "execute_result"
    }
   ],
   "source": [
    "neat.set.data_model_id((\"sp_doctrino_snapshot\", \"WindFarm\", \"v1\"))"
   ]
  },
  {
   "cell_type": "code",
   "execution_count": 30,
   "id": "bd0ad450-7f8b-4691-95f4-db1606f7e5d2",
   "metadata": {},
   "outputs": [
    {
     "name": "stdout",
     "output_type": "stream",
     "text": [
      "You can inspect the details with the .inspect.outcome.data_model(...) method.\n"
     ]
    },
    {
     "data": {
      "text/html": [
       "<style type=\"text/css\">\n",
       "</style>\n",
       "<table id=\"T_6ac7d\">\n",
       "  <thead>\n",
       "    <tr>\n",
       "      <th class=\"blank level0\" >&nbsp;</th>\n",
       "      <th id=\"T_6ac7d_level0_col0\" class=\"col_heading level0 col0\" >name</th>\n",
       "      <th id=\"T_6ac7d_level0_col1\" class=\"col_heading level0 col1\" >created</th>\n",
       "    </tr>\n",
       "  </thead>\n",
       "  <tbody>\n",
       "    <tr>\n",
       "      <th id=\"T_6ac7d_level0_row0\" class=\"row_heading level0 row0\" >0</th>\n",
       "      <td id=\"T_6ac7d_row0_col0\" class=\"data row0 col0\" >spaces</td>\n",
       "      <td id=\"T_6ac7d_row0_col1\" class=\"data row0 col1\" >1</td>\n",
       "    </tr>\n",
       "    <tr>\n",
       "      <th id=\"T_6ac7d_level0_row1\" class=\"row_heading level0 row1\" >1</th>\n",
       "      <td id=\"T_6ac7d_row1_col0\" class=\"data row1 col0\" >containers</td>\n",
       "      <td id=\"T_6ac7d_row1_col1\" class=\"data row1 col1\" >9</td>\n",
       "    </tr>\n",
       "    <tr>\n",
       "      <th id=\"T_6ac7d_level0_row2\" class=\"row_heading level0 row2\" >2</th>\n",
       "      <td id=\"T_6ac7d_row2_col0\" class=\"data row2 col0\" >views</td>\n",
       "      <td id=\"T_6ac7d_row2_col1\" class=\"data row2 col1\" >9</td>\n",
       "    </tr>\n",
       "    <tr>\n",
       "      <th id=\"T_6ac7d_level0_row3\" class=\"row_heading level0 row3\" >3</th>\n",
       "      <td id=\"T_6ac7d_row3_col0\" class=\"data row3 col0\" >data_models</td>\n",
       "      <td id=\"T_6ac7d_row3_col1\" class=\"data row3 col1\" >1</td>\n",
       "    </tr>\n",
       "    <tr>\n",
       "      <th id=\"T_6ac7d_level0_row4\" class=\"row_heading level0 row4\" >4</th>\n",
       "      <td id=\"T_6ac7d_row4_col0\" class=\"data row4 col0\" >nodes</td>\n",
       "      <td id=\"T_6ac7d_row4_col1\" class=\"data row4 col1\" >0</td>\n",
       "    </tr>\n",
       "  </tbody>\n",
       "</table>\n"
      ],
      "text/plain": [
       "[UploadResult(name='spaces', error_messages=[], issues=[], created={'sp_doctrino_snapshto'}, upserted=set(), deleted=set(), changed=set(), unchanged=set(), skipped=set(), failed_created=set(), failed_upserted=set(), failed_changed=set(), failed_deleted=set()),\n",
       " UploadResult(name='containers', error_messages=[], issues=[], created={ContainerId(space='sp_doctrino_snapshto', external_id='DoctrinoIncAssetToAssetEdge'), ContainerId(space='sp_doctrino_snapshto', external_id='DoctrinoIncSequence'), ContainerId(space='sp_doctrino_snapshto', external_id='DoctrinoIncSourceSystem'), ContainerId(space='sp_doctrino_snapshto', external_id='DoctrinoIncAsset'), ContainerId(space='sp_doctrino_snapshto', external_id='DoctrinoIncLabel'), ContainerId(space='sp_doctrino_snapshto', external_id='DoctrinoIncTimeSeries'), ContainerId(space='sp_doctrino_snapshto', external_id='DoctrinoIncEquipment'), ContainerId(space='sp_doctrino_snapshto', external_id='DoctrinoIncFile'), ContainerId(space='sp_doctrino_snapshto', external_id='DoctrinoIncEvent')}, upserted=set(), deleted=set(), changed=set(), unchanged=set(), skipped=set(), failed_created=set(), failed_upserted=set(), failed_changed=set(), failed_deleted=set()),\n",
       " UploadResult(name='views', error_messages=[], issues=[], created={ViewId(space='sp_doctrino_snapshto', external_id='DoctrinoIncAssetToAssetEdge', version='v1'), ViewId(space='sp_doctrino_snapshto', external_id='DoctrinoIncAsset', version='v1'), ViewId(space='sp_doctrino_snapshto', external_id='DoctrinoIncFile', version='v1'), ViewId(space='sp_doctrino_snapshto', external_id='DoctrinoIncEvent', version='v1'), ViewId(space='sp_doctrino_snapshto', external_id='DoctrinoIncSequence', version='v1'), ViewId(space='sp_doctrino_snapshto', external_id='DoctrinoIncTimeSeries', version='v1'), ViewId(space='sp_doctrino_snapshto', external_id='DoctrinoIncEquipment', version='v1'), ViewId(space='sp_doctrino_snapshto', external_id='DoctrinoIncLabel', version='v1'), ViewId(space='sp_doctrino_snapshto', external_id='DoctrinoIncSourceSystem', version='v1')}, upserted=set(), deleted=set(), changed=set(), unchanged=set(), skipped=set(), failed_created=set(), failed_upserted=set(), failed_changed=set(), failed_deleted=set()),\n",
       " UploadResult(name='data_models', error_messages=[], issues=[], created={DataModelId(space='sp_doctrino_snapshto', external_id='WindFarm', version='v1')}, upserted=set(), deleted=set(), changed=set(), unchanged=set(), skipped=set(), failed_created=set(), failed_upserted=set(), failed_changed=set(), failed_deleted=set()),\n",
       " UploadResult(name='nodes', error_messages=[], issues=[], created=set(), upserted=set(), deleted=set(), changed=set(), unchanged=set(), skipped=set(), failed_created=set(), failed_upserted=set(), failed_changed=set(), failed_deleted=set())]"
      ]
     },
     "execution_count": 30,
     "metadata": {},
     "output_type": "execute_result"
    }
   ],
   "source": [
    "neat.to.cdf.data_model()"
   ]
  },
  {
   "cell_type": "markdown",
   "id": "b36c95e6-0a4e-4219-b81d-ea8df735031c",
   "metadata": {},
   "source": [
    "## Populate new Model"
   ]
  },
  {
   "cell_type": "code",
   "execution_count": 31,
   "id": "4831e51b-9940-4559-b0cd-3776a2c670c8",
   "metadata": {},
   "outputs": [
    {
     "name": "stdout",
     "output_type": "stream",
     "text": [
      "You can inspect the details with the .inspect.outcome.instances(...) method.\n"
     ]
    },
    {
     "data": {
      "text/html": [
       "<style type=\"text/css\">\n",
       "</style>\n",
       "<table id=\"T_cd25f\">\n",
       "  <thead>\n",
       "    <tr>\n",
       "      <th class=\"blank level0\" >&nbsp;</th>\n",
       "      <th id=\"T_cd25f_level0_col0\" class=\"col_heading level0 col0\" >name</th>\n",
       "      <th id=\"T_cd25f_level0_col1\" class=\"col_heading level0 col1\" >created</th>\n",
       "      <th id=\"T_cd25f_level0_col2\" class=\"col_heading level0 col2\" >changed</th>\n",
       "      <th id=\"T_cd25f_level0_col3\" class=\"col_heading level0 col3\" >unchanged</th>\n",
       "    </tr>\n",
       "  </thead>\n",
       "  <tbody>\n",
       "    <tr>\n",
       "      <th id=\"T_cd25f_level0_row0\" class=\"row_heading level0 row0\" >0</th>\n",
       "      <td id=\"T_cd25f_row0_col0\" class=\"data row0 col0\" >DoctrinoIncAssetToAssetEdge</td>\n",
       "      <td id=\"T_cd25f_row0_col1\" class=\"data row0 col1\" >2</td>\n",
       "      <td id=\"T_cd25f_row0_col2\" class=\"data row0 col2\" >0</td>\n",
       "      <td id=\"T_cd25f_row0_col3\" class=\"data row0 col3\" >0</td>\n",
       "    </tr>\n",
       "    <tr>\n",
       "      <th id=\"T_cd25f_level0_row1\" class=\"row_heading level0 row1\" >1</th>\n",
       "      <td id=\"T_cd25f_row1_col0\" class=\"data row1 col0\" >DoctrinoIncLabel</td>\n",
       "      <td id=\"T_cd25f_row1_col1\" class=\"data row1 col1\" >3</td>\n",
       "      <td id=\"T_cd25f_row1_col2\" class=\"data row1 col2\" >1</td>\n",
       "      <td id=\"T_cd25f_row1_col3\" class=\"data row1 col3\" >0</td>\n",
       "    </tr>\n",
       "    <tr>\n",
       "      <th id=\"T_cd25f_level0_row2\" class=\"row_heading level0 row2\" >2</th>\n",
       "      <td id=\"T_cd25f_row2_col0\" class=\"data row2 col0\" >DoctrinoIncSequence</td>\n",
       "      <td id=\"T_cd25f_row2_col1\" class=\"data row2 col1\" >1</td>\n",
       "      <td id=\"T_cd25f_row2_col2\" class=\"data row2 col2\" >0</td>\n",
       "      <td id=\"T_cd25f_row2_col3\" class=\"data row2 col3\" >0</td>\n",
       "    </tr>\n",
       "    <tr>\n",
       "      <th id=\"T_cd25f_level0_row3\" class=\"row_heading level0 row3\" >3</th>\n",
       "      <td id=\"T_cd25f_row3_col0\" class=\"data row3 col0\" >DoctrinoIncSourceSystem</td>\n",
       "      <td id=\"T_cd25f_row3_col1\" class=\"data row3 col1\" >2</td>\n",
       "      <td id=\"T_cd25f_row3_col2\" class=\"data row3 col2\" >0</td>\n",
       "      <td id=\"T_cd25f_row3_col3\" class=\"data row3 col3\" >0</td>\n",
       "    </tr>\n",
       "    <tr>\n",
       "      <th id=\"T_cd25f_level0_row4\" class=\"row_heading level0 row4\" >4</th>\n",
       "      <td id=\"T_cd25f_row4_col0\" class=\"data row4 col0\" >DoctrinoIncAsset</td>\n",
       "      <td id=\"T_cd25f_row4_col1\" class=\"data row4 col1\" >3</td>\n",
       "      <td id=\"T_cd25f_row4_col2\" class=\"data row4 col2\" >3</td>\n",
       "      <td id=\"T_cd25f_row4_col3\" class=\"data row4 col3\" >1</td>\n",
       "    </tr>\n",
       "    <tr>\n",
       "      <th id=\"T_cd25f_level0_row5\" class=\"row_heading level0 row5\" >5</th>\n",
       "      <td id=\"T_cd25f_row5_col0\" class=\"data row5 col0\" >edge</td>\n",
       "      <td id=\"T_cd25f_row5_col1\" class=\"data row5 col1\" >2</td>\n",
       "      <td id=\"T_cd25f_row5_col2\" class=\"data row5 col2\" >0</td>\n",
       "      <td id=\"T_cd25f_row5_col3\" class=\"data row5 col3\" >2</td>\n",
       "    </tr>\n",
       "    <tr>\n",
       "      <th id=\"T_cd25f_level0_row6\" class=\"row_heading level0 row6\" >6</th>\n",
       "      <td id=\"T_cd25f_row6_col0\" class=\"data row6 col0\" ></td>\n",
       "      <td id=\"T_cd25f_row6_col1\" class=\"data row6 col1\" >3</td>\n",
       "      <td id=\"T_cd25f_row6_col2\" class=\"data row6 col2\" >0</td>\n",
       "      <td id=\"T_cd25f_row6_col3\" class=\"data row6 col3\" >0</td>\n",
       "    </tr>\n",
       "    <tr>\n",
       "      <th id=\"T_cd25f_level0_row7\" class=\"row_heading level0 row7\" >7</th>\n",
       "      <td id=\"T_cd25f_row7_col0\" class=\"data row7 col0\" >DoctrinoIncFile</td>\n",
       "      <td id=\"T_cd25f_row7_col1\" class=\"data row7 col1\" >1</td>\n",
       "      <td id=\"T_cd25f_row7_col2\" class=\"data row7 col2\" >0</td>\n",
       "      <td id=\"T_cd25f_row7_col3\" class=\"data row7 col3\" >0</td>\n",
       "    </tr>\n",
       "    <tr>\n",
       "      <th id=\"T_cd25f_level0_row8\" class=\"row_heading level0 row8\" >8</th>\n",
       "      <td id=\"T_cd25f_row8_col0\" class=\"data row8 col0\" >DoctrinoIncTimeSeries</td>\n",
       "      <td id=\"T_cd25f_row8_col1\" class=\"data row8 col1\" >4</td>\n",
       "      <td id=\"T_cd25f_row8_col2\" class=\"data row8 col2\" >0</td>\n",
       "      <td id=\"T_cd25f_row8_col3\" class=\"data row8 col3\" >0</td>\n",
       "    </tr>\n",
       "    <tr>\n",
       "      <th id=\"T_cd25f_level0_row9\" class=\"row_heading level0 row9\" >9</th>\n",
       "      <td id=\"T_cd25f_row9_col0\" class=\"data row9 col0\" >DoctrinoIncEvent</td>\n",
       "      <td id=\"T_cd25f_row9_col1\" class=\"data row9 col1\" >1</td>\n",
       "      <td id=\"T_cd25f_row9_col2\" class=\"data row9 col2\" >0</td>\n",
       "      <td id=\"T_cd25f_row9_col3\" class=\"data row9 col3\" >0</td>\n",
       "    </tr>\n",
       "  </tbody>\n",
       "</table>\n"
      ],
      "text/plain": [
       "[UploadResult(name='DoctrinoIncAssetToAssetEdge', error_messages=[], issues=[], created={NodeId(space='sp_doctrino_snapshto_instances', external_id='WT-01_to_MetMast'), NodeId(space='sp_doctrino_snapshto_instances', external_id='WT-02_to_MetMast')}, upserted=set(), deleted=set(), changed=set(), unchanged=set(), skipped=set(), failed_created=set(), failed_upserted=set(), failed_changed=set(), failed_deleted=set()),\n",
       " UploadResult(name='DoctrinoIncLabel', error_messages=[], issues=[], created={NodeId(space='sp_doctrino_snapshto_instances', external_id='Label_Measurement'), NodeId(space='sp_doctrino_snapshto_instances', external_id='Label_WindTurbine'), NodeId(space='sp_doctrino_snapshto_instances', external_id='Label_PowerGeneratingUnit')}, upserted=set(), deleted=set(), changed={NodeId(space='sp_doctrino_snapshto_instances', external_id='Label_metMast')}, unchanged=set(), skipped=set(), failed_created=set(), failed_upserted=set(), failed_changed=set(), failed_deleted=set()),\n",
       " UploadResult(name='DoctrinoIncSequence', error_messages=[], issues=[], created={NodeId(space='sp_doctrino_snapshto_instances', external_id='Sequence_4211923354953533')}, upserted=set(), deleted=set(), changed=set(), unchanged=set(), skipped=set(), failed_created=set(), failed_upserted=set(), failed_changed=set(), failed_deleted=set()),\n",
       " UploadResult(name='DoctrinoIncSourceSystem', error_messages=[], issues=[], created={NodeId(space='sp_doctrino_snapshto_instances', external_id='SourceSystem_manufacturer1'), NodeId(space='sp_doctrino_snapshto_instances', external_id='SourceSystem_manufacturer2')}, upserted=set(), deleted=set(), changed=set(), unchanged=set(), skipped=set(), failed_created=set(), failed_upserted=set(), failed_changed=set(), failed_deleted=set()),\n",
       " UploadResult(name='DoctrinoIncAsset', error_messages=[], issues=[], created={NodeId(space='sp_doctrino_snapshto_instances', external_id='Asset_2541486502201641'), NodeId(space='sp_doctrino_snapshto_instances', external_id='Asset_651983444458536'), NodeId(space='sp_doctrino_snapshto_instances', external_id='Asset_8279627777657373')}, upserted=set(), deleted=set(), changed={NodeId(space='sp_doctrino_snapshto_instances', external_id='Asset_2541486502201641'), NodeId(space='sp_doctrino_snapshto_instances', external_id='Asset_734702499721687'), NodeId(space='sp_doctrino_snapshto_instances', external_id='Asset_8279627777657373')}, unchanged={NodeId(space='sp_doctrino_snapshto_instances', external_id='Asset_651983444458536')}, skipped=set(), failed_created=set(), failed_upserted=set(), failed_changed=set(), failed_deleted=set()),\n",
       " UploadResult(name='edge', error_messages=[], issues=[], created={EdgeId(space='sp_doctrino_snapshto_instances', external_id='Asset_2541486502201641.relationshipAsset.WT-02_to_MetMast'), EdgeId(space='sp_doctrino_snapshto_instances', external_id='Asset_734702499721687.relationshipAsset.WT-01_to_MetMast')}, upserted=set(), deleted=set(), changed=set(), unchanged={EdgeId(space='sp_doctrino_snapshto_instances', external_id='Asset_2541486502201641.relationshipAsset.WT-02_to_MetMast'), EdgeId(space='sp_doctrino_snapshto_instances', external_id='Asset_734702499721687.relationshipAsset.WT-01_to_MetMast')}, skipped=set(), failed_created=set(), failed_upserted=set(), failed_changed=set(), failed_deleted=set()),\n",
       " UploadResult(name='', error_messages=[], issues=[], created={EdgeId(space='sp_doctrino_snapshto_instances', external_id='0MSnAXMQ9zf7atKpRjmgx770-KCretbuFKKUOUoqZ8I='), EdgeId(space='sp_doctrino_snapshto_instances', external_id='AAiS3ZL-nmWNTaMKvBNoOLKLzAOv6dj9v7ue57IOMuM='), EdgeId(space='sp_doctrino_snapshto_instances', external_id='EalV7k1nuvxwKhE5af-L-LMil0kAb1NWq5QP2Toat_Y=')}, upserted=set(), deleted=set(), changed=set(), unchanged=set(), skipped=set(), failed_created=set(), failed_upserted=set(), failed_changed=set(), failed_deleted=set()),\n",
       " UploadResult(name='DoctrinoIncFile', error_messages=[], issues=[], created={NodeId(space='sp_doctrino_snapshto_instances', external_id='File_7134110611702734')}, upserted=set(), deleted=set(), changed=set(), unchanged=set(), skipped=set(), failed_created=set(), failed_upserted=set(), failed_changed=set(), failed_deleted=set()),\n",
       " UploadResult(name='DoctrinoIncTimeSeries', error_messages=[], issues=[], created={NodeId(space='sp_doctrino_snapshto_instances', external_id='TimeSeries_2706088188537318'), NodeId(space='sp_doctrino_snapshto_instances', external_id='TimeSeries_2302661689760716'), NodeId(space='sp_doctrino_snapshto_instances', external_id='TimeSeries_1040284530932034'), NodeId(space='sp_doctrino_snapshto_instances', external_id='TimeSeries_115147951776476')}, upserted=set(), deleted=set(), changed=set(), unchanged=set(), skipped=set(), failed_created=set(), failed_upserted=set(), failed_changed=set(), failed_deleted=set()),\n",
       " UploadResult(name='DoctrinoIncEvent', error_messages=[], issues=[], created={NodeId(space='sp_doctrino_snapshto_instances', external_id='Event_3988904612812432')}, upserted=set(), deleted=set(), changed=set(), unchanged=set(), skipped=set(), failed_created=set(), failed_upserted=set(), failed_changed=set(), failed_deleted=set())]"
      ]
     },
     "execution_count": 31,
     "metadata": {},
     "output_type": "execute_result"
    }
   ],
   "source": [
    "neat.to.cdf.instances()"
   ]
  },
  {
   "cell_type": "markdown",
   "id": "44d79295-7e5a-4909-bf9f-867b6ef6df6c",
   "metadata": {},
   "source": [
    "## (Optional) Create a Data Product Model\n",
    "\n",
    "The new model will be very large as it includes 33 views from the CogniteCore. We will now make a read-only model called a Data Product that is smaller and only use the original views and properties we identified."
   ]
  },
  {
   "cell_type": "code",
   "execution_count": 32,
   "id": "cfdbfe3d-a86a-452a-a46c-247f96db6ff2",
   "metadata": {},
   "outputs": [],
   "source": [
    "neat.prepare.data_model.to_data_product((\"sp_doctrino_readonly\", \"WindFarmReadOnlny\", \"v1\"))"
   ]
  },
  {
   "cell_type": "markdown",
   "id": "830e3b41-6732-4cf8-bbbd-03cd9426a3b2",
   "metadata": {},
   "source": [
    "And the publish this one"
   ]
  },
  {
   "cell_type": "code",
   "execution_count": 33,
   "id": "0c527709-7935-4e5c-b147-68743effa6cb",
   "metadata": {},
   "outputs": [
    {
     "name": "stdout",
     "output_type": "stream",
     "text": [
      "You can inspect the details with the .inspect.outcome.data_model(...) method.\n"
     ]
    },
    {
     "data": {
      "text/html": [
       "<style type=\"text/css\">\n",
       "</style>\n",
       "<table id=\"T_6b842\">\n",
       "  <thead>\n",
       "    <tr>\n",
       "      <th class=\"blank level0\" >&nbsp;</th>\n",
       "      <th id=\"T_6b842_level0_col0\" class=\"col_heading level0 col0\" >name</th>\n",
       "      <th id=\"T_6b842_level0_col1\" class=\"col_heading level0 col1\" >created</th>\n",
       "    </tr>\n",
       "  </thead>\n",
       "  <tbody>\n",
       "    <tr>\n",
       "      <th id=\"T_6b842_level0_row0\" class=\"row_heading level0 row0\" >0</th>\n",
       "      <td id=\"T_6b842_row0_col0\" class=\"data row0 col0\" >spaces</td>\n",
       "      <td id=\"T_6b842_row0_col1\" class=\"data row0 col1\" >1</td>\n",
       "    </tr>\n",
       "    <tr>\n",
       "      <th id=\"T_6b842_level0_row1\" class=\"row_heading level0 row1\" >1</th>\n",
       "      <td id=\"T_6b842_row1_col0\" class=\"data row1 col0\" >containers</td>\n",
       "      <td id=\"T_6b842_row1_col1\" class=\"data row1 col1\" >0</td>\n",
       "    </tr>\n",
       "    <tr>\n",
       "      <th id=\"T_6b842_level0_row2\" class=\"row_heading level0 row2\" >2</th>\n",
       "      <td id=\"T_6b842_row2_col0\" class=\"data row2 col0\" >views</td>\n",
       "      <td id=\"T_6b842_row2_col1\" class=\"data row2 col1\" >9</td>\n",
       "    </tr>\n",
       "    <tr>\n",
       "      <th id=\"T_6b842_level0_row3\" class=\"row_heading level0 row3\" >3</th>\n",
       "      <td id=\"T_6b842_row3_col0\" class=\"data row3 col0\" >data_models</td>\n",
       "      <td id=\"T_6b842_row3_col1\" class=\"data row3 col1\" >1</td>\n",
       "    </tr>\n",
       "    <tr>\n",
       "      <th id=\"T_6b842_level0_row4\" class=\"row_heading level0 row4\" >4</th>\n",
       "      <td id=\"T_6b842_row4_col0\" class=\"data row4 col0\" >nodes</td>\n",
       "      <td id=\"T_6b842_row4_col1\" class=\"data row4 col1\" >0</td>\n",
       "    </tr>\n",
       "  </tbody>\n",
       "</table>\n"
      ],
      "text/plain": [
       "[UploadResult(name='spaces', error_messages=[], issues=[], created={'sp_doctrino_readonly'}, upserted=set(), deleted=set(), changed=set(), unchanged=set(), skipped=set(), failed_created=set(), failed_upserted=set(), failed_changed=set(), failed_deleted=set()),\n",
       " UploadResult(name='containers', error_messages=[], issues=[], created=set(), upserted=set(), deleted=set(), changed=set(), unchanged=set(), skipped=set(), failed_created=set(), failed_upserted=set(), failed_changed=set(), failed_deleted=set()),\n",
       " UploadResult(name='views', error_messages=[], issues=[], created={ViewId(space='sp_doctrino_readonly', external_id='DoctrinoIncAssetToAssetEdge', version='v1'), ViewId(space='sp_doctrino_readonly', external_id='DoctrinoIncSourceSystem', version='v1'), ViewId(space='sp_doctrino_readonly', external_id='DoctrinoIncTimeSeries', version='v1'), ViewId(space='sp_doctrino_readonly', external_id='DoctrinoIncEquipment', version='v1'), ViewId(space='sp_doctrino_readonly', external_id='DoctrinoIncEvent', version='v1'), ViewId(space='sp_doctrino_readonly', external_id='DoctrinoIncLabel', version='v1'), ViewId(space='sp_doctrino_readonly', external_id='DoctrinoIncFile', version='v1'), ViewId(space='sp_doctrino_readonly', external_id='DoctrinoIncSequence', version='v1'), ViewId(space='sp_doctrino_readonly', external_id='DoctrinoIncAsset', version='v1')}, upserted=set(), deleted=set(), changed=set(), unchanged=set(), skipped=set(), failed_created=set(), failed_upserted=set(), failed_changed=set(), failed_deleted=set()),\n",
       " UploadResult(name='data_models', error_messages=[], issues=[], created={DataModelId(space='sp_doctrino_readonly', external_id='WindFarmReadOnlny', version='v1')}, upserted=set(), deleted=set(), changed=set(), unchanged=set(), skipped=set(), failed_created=set(), failed_upserted=set(), failed_changed=set(), failed_deleted=set()),\n",
       " UploadResult(name='nodes', error_messages=[], issues=[], created=set(), upserted=set(), deleted=set(), changed=set(), unchanged=set(), skipped=set(), failed_created=set(), failed_upserted=set(), failed_changed=set(), failed_deleted=set())]"
      ]
     },
     "execution_count": 33,
     "metadata": {},
     "output_type": "execute_result"
    }
   ],
   "source": [
    "neat.to.cdf.data_model(existing=\"force\")"
   ]
  },
  {
   "cell_type": "markdown",
   "id": "c72177ea-2f21-435f-b606-4a6bcf95e499",
   "metadata": {},
   "source": [
    "We can now inspect the newly created data models with instances in CDF.\n",
    "\n",
    "<img src=\"../../artifacts/figs/wind_farm_data_product_instances.png\" width=\"400\">"
   ]
  },
  {
   "cell_type": "code",
   "execution_count": null,
   "id": "cb6b2b5b-fae8-4fe7-a654-0d182c56b1f8",
   "metadata": {},
   "outputs": [],
   "source": []
  }
 ],
 "metadata": {
  "kernelspec": {
   "display_name": "Python 3 (ipykernel)",
   "language": "python",
   "name": "python3"
  },
  "language_info": {
   "codemirror_mode": {
    "name": "ipython",
    "version": 3
   },
   "file_extension": ".py",
   "mimetype": "text/x-python",
   "name": "python",
   "nbconvert_exporter": "python",
   "pygments_lexer": "ipython3",
   "version": "3.12.1"
  }
 },
 "nbformat": 4,
 "nbformat_minor": 5
}
