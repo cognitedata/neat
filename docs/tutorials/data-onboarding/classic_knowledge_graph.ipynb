{
 "cells": [
  {
   "cell_type": "markdown",
   "id": "d8dd9ed4",
   "metadata": {
    "editable": true,
    "slideshow": {
     "slide_type": ""
    },
    "tags": []
   },
   "source": [
    "# Classic Knowledge Graph Onboarding\n",
    "\n",
    "**Prerequisite**:\n",
    "\n",
    "- Access to a CDF Project.\n",
    "- Know how to install and setup Python.\n",
    "- Launch a Python notebook.\n",
    "\n",
    "\n",
    "\n",
    "In this tutorial, we will show you how to onboard data from CDF resources assets, timeseries, files, sequences, events, data sets, and labels into an extension of the Cognite Core data model."
   ]
  },
  {
   "cell_type": "markdown",
   "id": "2bd75587-4146-4e94-9512-f0a3ed9de747",
   "metadata": {},
   "source": [
    "## Use Case\n",
    "\n",
    "The use case we will use in this tutorial is a WindFarm named `Utsira` with two wind turbines, `WT-01` and `WT-02`. These two turbines each has two time series, one for power production and one for forecast. In addition, one of them has a power curve sequences linked and a maintenance event. In addition, there is a whearther station modeled as an asset that is connected to the two turbines through relationships. Finally, there is a file with a data sheet linked to one of the turbines.\n",
    "\n",
    "In the CDF UI, it looks like shown below:\n",
    "\n",
    "<img src=\"../../artifacts/figs/wind_farm_classic_knowledge_graph.png\" width=\"400\">"
   ]
  },
  {
   "cell_type": "markdown",
   "id": "be061917-73e7-4135-9b24-aadf5e584f0f",
   "metadata": {},
   "source": [
    "## Extracting Data"
   ]
  },
  {
   "cell_type": "markdown",
   "id": "f6251725-1fc5-496a-9c3a-b03819893b62",
   "metadata": {},
   "source": [
    "We will start by creating a new `NeatSession` and connect to CDF"
   ]
  },
  {
   "cell_type": "code",
   "execution_count": 1,
   "id": "5352e871-c28b-4e5f-ad44-73339c030cb9",
   "metadata": {},
   "outputs": [],
   "source": [
    "from cognite.neat import NeatSession, get_cognite_client"
   ]
  },
  {
   "cell_type": "code",
   "execution_count": 2,
   "id": "31532953-7d57-427a-a837-496338e08653",
   "metadata": {},
   "outputs": [
    {
     "name": "stdout",
     "output_type": "stream",
     "text": [
      "Found .env file in repository root. Loaded variables from .env file.\n"
     ]
    }
   ],
   "source": [
    "client = get_cognite_client(\".env\")"
   ]
  },
  {
   "cell_type": "code",
   "execution_count": 3,
   "id": "3042eb6a-42e9-44e8-a734-5c8322330075",
   "metadata": {},
   "outputs": [
    {
     "name": "stdout",
     "output_type": "stream",
     "text": [
      "Neat Engine 2.0.3 loaded.\n"
     ]
    }
   ],
   "source": [
    "# We have install neat with `pip install \"cognite-neat[oxi]\"` such that we can use oxigraph for storage.\n",
    "neat = NeatSession(client, storage=\"oxigraph\")"
   ]
  },
  {
   "cell_type": "markdown",
   "id": "2f0b3c81-27ea-4457-8c2b-ed7a59bfb1db",
   "metadata": {},
   "source": [
    "We start by reading in the knowledge graph, we do this by pointing to the root node. Neat will then get all assets in the hierarchy, as well as all resources linked to this hierarchy."
   ]
  },
  {
   "cell_type": "code",
   "execution_count": 4,
   "id": "ce81b201-03ca-44fa-a5f4-497856411687",
   "metadata": {
    "editable": true,
    "slideshow": {
     "slide_type": ""
    },
    "tags": [
     "hide"
    ]
   },
   "outputs": [],
   "source": [
    "# This cell is removed from the docs.\n",
    "from cognite.neat._config import GLOBAL_CONFIG\n",
    "\n",
    "# Switch to TQDM progress bar as that looks better in the docs\n",
    "GLOBAL_CONFIG.progress_bar = \"tqdm\""
   ]
  },
  {
   "cell_type": "code",
   "execution_count": 5,
   "id": "4b8adaac-2673-499c-bc74-9bec964dab43",
   "metadata": {},
   "outputs": [
    {
     "name": "stderr",
     "output_type": "stream",
     "text": [
      "Extracting Asset relationships: 100%|███████████████████████████████████████████████████████████████████████████████████████████████████████████████████████████████████████████████████████| 1/1 [00:00<00:00, 14.47it/s]\n",
      "Extracting TimeSeries relationships: 100%|██████████████████████████████████████████████████████████████████████████████████████████████████████████████████████████████████████████████████| 1/1 [00:00<00:00, 18.13it/s]\n",
      "Extracting Sequence relationships: 100%|████████████████████████████████████████████████████████████████████████████████████████████████████████████████████████████████████████████████████| 1/1 [00:00<00:00, 16.59it/s]\n",
      "Extracting Event relationships: 100%|███████████████████████████████████████████████████████████████████████████████████████████████████████████████████████████████████████████████████████| 1/1 [00:00<00:00, 17.49it/s]\n",
      "Extracting File relationships: 100%|████████████████████████████████████████████████████████████████████████████████████████████████████████████████████████████████████████████████████████| 1/1 [00:00<00:00, 17.76it/s]\n",
      "Extracting end nodes Asset: 100%|███████████████████████████████████████████████████████████████████████████████████████████████████████████████████████████████████████████████████████████| 1/1 [00:00<00:00, 16.69it/s]\n",
      "Extracting labels: 100%|████████████████████████████████████████████████████████████████████████████████████████████████████████████████████████████████████████████████████████████████████| 1/1 [00:00<00:00, 10.78it/s]\n",
      "Extracting data sets: 100%|█████████████████████████████████████████████████████████████████████████████████████████████████████████████████████████████████████████████████████████████████| 1/1 [00:00<00:00, 18.17it/s]\n"
     ]
    },
    {
     "data": {
      "text/html": [
       "<p>Success: Read Classic Graph</p>"
      ],
      "text/plain": [
       "[]"
      ]
     },
     "execution_count": 5,
     "metadata": {},
     "output_type": "execute_result"
    }
   ],
   "source": [
    "neat.read.cdf.classic.graph(\"Utsira\")"
   ]
  },
  {
   "cell_type": "markdown",
   "id": "fcf567a3-9952-4bef-bcb8-896fd5afb07f",
   "metadata": {},
   "source": [
    "We can now inspect the knowledge graph (instances + data model) we have extracted."
   ]
  },
  {
   "cell_type": "code",
   "execution_count": 6,
   "id": "83052d7a-44c0-4339-87fa-1a82b12c22d9",
   "metadata": {},
   "outputs": [
    {
     "data": {
      "text/html": [
       "<H2>Data Model</H2><br /><div>\n",
       "<style scoped>\n",
       "    .dataframe tbody tr th:only-of-type {\n",
       "        vertical-align: middle;\n",
       "    }\n",
       "\n",
       "    .dataframe tbody tr th {\n",
       "        vertical-align: top;\n",
       "    }\n",
       "\n",
       "    .dataframe thead th {\n",
       "        text-align: right;\n",
       "    }\n",
       "</style>\n",
       "<table border=\"1\" class=\"dataframe\">\n",
       "  <thead>\n",
       "    <tr style=\"text-align: right;\">\n",
       "      <th></th>\n",
       "      <th></th>\n",
       "    </tr>\n",
       "  </thead>\n",
       "  <tbody>\n",
       "    <tr>\n",
       "      <th>type</th>\n",
       "      <td>Logical Data Model</td>\n",
       "    </tr>\n",
       "    <tr>\n",
       "      <th>intended for</th>\n",
       "      <td>Information Architect</td>\n",
       "    </tr>\n",
       "    <tr>\n",
       "      <th>name</th>\n",
       "      <td>ClassicDataModel</td>\n",
       "    </tr>\n",
       "    <tr>\n",
       "      <th>external_id</th>\n",
       "      <td>ClassicDataModel</td>\n",
       "    </tr>\n",
       "    <tr>\n",
       "      <th>version</th>\n",
       "      <td>v1</td>\n",
       "    </tr>\n",
       "    <tr>\n",
       "      <th>classes</th>\n",
       "      <td>9</td>\n",
       "    </tr>\n",
       "    <tr>\n",
       "      <th>properties</th>\n",
       "      <td>71</td>\n",
       "    </tr>\n",
       "  </tbody>\n",
       "</table>\n",
       "</div><br /><H2>Instances</H2> <br /><strong>Overview</strong>:<ul><li>1 named graphs</strong></li><li>Total of 9 unique types</strong></li><li>22 instances in default graph</strong></li></ul><br /><strong>default graph</strong>:<div>\n",
       "<style scoped>\n",
       "    .dataframe tbody tr th:only-of-type {\n",
       "        vertical-align: middle;\n",
       "    }\n",
       "\n",
       "    .dataframe tbody tr th {\n",
       "        vertical-align: top;\n",
       "    }\n",
       "\n",
       "    .dataframe thead th {\n",
       "        text-align: right;\n",
       "    }\n",
       "</style>\n",
       "<table border=\"1\" class=\"dataframe\">\n",
       "  <thead>\n",
       "    <tr style=\"text-align: right;\">\n",
       "      <th></th>\n",
       "      <th>Type</th>\n",
       "      <th>Occurrence</th>\n",
       "    </tr>\n",
       "  </thead>\n",
       "  <tbody>\n",
       "    <tr>\n",
       "      <th>0</th>\n",
       "      <td>ClassicAsset</td>\n",
       "      <td>4</td>\n",
       "    </tr>\n",
       "    <tr>\n",
       "      <th>1</th>\n",
       "      <td>ClassicTimeSeries</td>\n",
       "      <td>4</td>\n",
       "    </tr>\n",
       "    <tr>\n",
       "      <th>2</th>\n",
       "      <td>ClassicLabel</td>\n",
       "      <td>4</td>\n",
       "    </tr>\n",
       "    <tr>\n",
       "      <th>3</th>\n",
       "      <td>ClassicDataSet</td>\n",
       "      <td>3</td>\n",
       "    </tr>\n",
       "    <tr>\n",
       "      <th>4</th>\n",
       "      <td>ClassicSourceSystem</td>\n",
       "      <td>2</td>\n",
       "    </tr>\n",
       "    <tr>\n",
       "      <th>...</th>\n",
       "      <td>...</td>\n",
       "      <td>...</td>\n",
       "    </tr>\n",
       "    <tr>\n",
       "      <th>8</th>\n",
       "      <td>ClassicEvent</td>\n",
       "      <td>1</td>\n",
       "    </tr>\n",
       "  </tbody>\n",
       "</table>\n",
       "</div><br /><strong>Provenance</strong>:<ul><li>Initialize graph store as OxigraphStore</li><li>Extracted triples to named graph urn:x-rdflib:default using ClassicGraphExtractor</li><li>Extracted triples to named graph urn:x-rdflib:default using ClassicGraphExtractor</li><li>Extracted triples to named graph urn:x-rdflib:default using ClassicGraphExtractor</li><li>Extracted triples to named graph urn:x-rdflib:default using ClassicGraphExtractor</li><li>Extracted triples to named graph urn:x-rdflib:default using ClassicGraphExtractor</li><li>Extracted triples to named graph urn:x-rdflib:default using ClassicGraphExtractor</li><li>Extracted triples to named graph urn:x-rdflib:default using ClassicGraphExtractor</li><li>Extracted triples to named graph urn:x-rdflib:default using ClassicGraphExtractor</li><li>Added dict to urn:x-rdflib:default named graph</li><li>Upsert prefixes to the name graph {named_graph}</li><li>ConvertLiteral is a transformer that improve data typing of a literal value.</li><li>Converts a literal value to new entity</li></ul>"
      ],
      "text/plain": [
       "<cognite.neat._session._base.NeatSession at 0x1d44cdaaa80>"
      ]
     },
     "execution_count": 6,
     "metadata": {},
     "output_type": "execute_result"
    }
   ],
   "source": [
    "neat"
   ]
  },
  {
   "cell_type": "code",
   "execution_count": 7,
   "id": "c430ca52-de37-4b32-8156-ad2a74c77455",
   "metadata": {},
   "outputs": [
    {
     "name": "stdout",
     "output_type": "stream",
     "text": [
      "http_purl.org_cognite_neat_data-model_verified_logical_neat_space_ClassicDataModel_v1.html\n"
     ]
    },
    {
     "data": {
      "text/html": [
       "\n",
       "        <iframe\n",
       "            width=\"100%\"\n",
       "            height=\"750px\"\n",
       "            src=\"http_purl.org_cognite_neat_data-model_verified_logical_neat_space_ClassicDataModel_v1.html\"\n",
       "            frameborder=\"0\"\n",
       "            allowfullscreen\n",
       "            \n",
       "        ></iframe>\n",
       "        "
      ],
      "text/plain": [
       "<IPython.lib.display.IFrame at 0x1d44e204380>"
      ]
     },
     "execution_count": 7,
     "metadata": {},
     "output_type": "execute_result"
    }
   ],
   "source": [
    "neat.show.data_model()"
   ]
  },
  {
   "cell_type": "markdown",
   "id": "54eca715-020e-4724-ba00-d023a053604f",
   "metadata": {},
   "source": [
    "## Converting and Map to Core Data Model\n",
    "\n",
    "The data model we get from reading in the knowledge graph is in the information format, i.e., it does not contain information about how it should be implmented. \n",
    "We convert it to DMS which is the implementation format, which we then map onto core. In the mapping to core, we change set the prefix of all the new views to our company name."
   ]
  },
  {
   "cell_type": "code",
   "execution_count": 8,
   "id": "dcaf3d2f-36ef-434c-806c-ef6d8bd3a782",
   "metadata": {},
   "outputs": [
    {
     "name": "stdout",
     "output_type": "stream",
     "text": [
      "Rules converted to dms.\n"
     ]
    },
    {
     "data": {
      "text/html": [
       "<p>Success: NEAT(verified,logical,neat_space,ClassicDataModel,v1) &#8594; NEAT(verified,physical,neat_space,ClassicDataModel,v1)</p>"
      ],
      "text/plain": [
       "[]"
      ]
     },
     "execution_count": 8,
     "metadata": {},
     "output_type": "execute_result"
    }
   ],
   "source": [
    "neat.convert()"
   ]
  },
  {
   "cell_type": "code",
   "execution_count": 9,
   "id": "be5767bf-3bea-48e3-ba97-378de970acd4",
   "metadata": {},
   "outputs": [
    {
     "data": {
      "text/html": [
       "<p>Succeeded with warnings: NEAT(verified,physical,neat_space,ClassicDataModel,v1) &#8594; NEAT(verified,physical,neat_space,ClassicDataModel,v1)</p><br /><div>\n",
       "<style scoped>\n",
       "    .dataframe tbody tr th:only-of-type {\n",
       "        vertical-align: middle;\n",
       "    }\n",
       "\n",
       "    .dataframe tbody tr th {\n",
       "        vertical-align: top;\n",
       "    }\n",
       "\n",
       "    .dataframe thead th {\n",
       "        text-align: right;\n",
       "    }\n",
       "</style>\n",
       "<table border=\"1\" class=\"dataframe\">\n",
       "  <thead>\n",
       "    <tr style=\"text-align: right;\">\n",
       "      <th></th>\n",
       "      <th>count</th>\n",
       "    </tr>\n",
       "    <tr>\n",
       "      <th>NeatIssue</th>\n",
       "      <th></th>\n",
       "    </tr>\n",
       "  </thead>\n",
       "  <tbody>\n",
       "    <tr>\n",
       "      <th>PropertyOverwritingWarning</th>\n",
       "      <td>11</td>\n",
       "    </tr>\n",
       "    <tr>\n",
       "      <th>DefaultWarning</th>\n",
       "      <td>9</td>\n",
       "    </tr>\n",
       "  </tbody>\n",
       "</table>\n",
       "</div><br />Hint: Use the .inspect.issues() for more details."
      ],
      "text/plain": [
       "[DefaultWarning(warning='The `copy` method is deprecated; use `model_copy` instead. See the docstring of `BaseModel.copy` for details about how to handle `include` and `exclude`. Deprecated in Pydantic V2.0 to be removed in V3.0. See Pydantic V2 Migration Guide at https://errors.pydantic.dev/2.10/migration/', category='PydanticDeprecatedSince20', source=None),\n",
       " DefaultWarning(warning='The `copy` method is deprecated; use `model_copy` instead. See the docstring of `BaseModel.copy` for details about how to handle `include` and `exclude`. Deprecated in Pydantic V2.0 to be removed in V3.0. See Pydantic V2 Migration Guide at https://errors.pydantic.dev/2.10/migration/', category='PydanticDeprecatedSince20', source=None),\n",
       " DefaultWarning(warning='The `copy` method is deprecated; use `model_copy` instead. See the docstring of `BaseModel.copy` for details about how to handle `include` and `exclude`. Deprecated in Pydantic V2.0 to be removed in V3.0. See Pydantic V2 Migration Guide at https://errors.pydantic.dev/2.10/migration/', category='PydanticDeprecatedSince20', source=None),\n",
       " DefaultWarning(warning='The `copy` method is deprecated; use `model_copy` instead. See the docstring of `BaseModel.copy` for details about how to handle `include` and `exclude`. Deprecated in Pydantic V2.0 to be removed in V3.0. See Pydantic V2 Migration Guide at https://errors.pydantic.dev/2.10/migration/', category='PydanticDeprecatedSince20', source=None),\n",
       " DefaultWarning(warning='The `copy` method is deprecated; use `model_copy` instead. See the docstring of `BaseModel.copy` for details about how to handle `include` and `exclude`. Deprecated in Pydantic V2.0 to be removed in V3.0. See Pydantic V2 Migration Guide at https://errors.pydantic.dev/2.10/migration/', category='PydanticDeprecatedSince20', source=None),\n",
       " DefaultWarning(warning='The `copy` method is deprecated; use `model_copy` instead. See the docstring of `BaseModel.copy` for details about how to handle `include` and `exclude`. Deprecated in Pydantic V2.0 to be removed in V3.0. See Pydantic V2 Migration Guide at https://errors.pydantic.dev/2.10/migration/', category='PydanticDeprecatedSince20', source=None),\n",
       " DefaultWarning(warning='The `copy` method is deprecated; use `model_copy` instead. See the docstring of `BaseModel.copy` for details about how to handle `include` and `exclude`. Deprecated in Pydantic V2.0 to be removed in V3.0. See Pydantic V2 Migration Guide at https://errors.pydantic.dev/2.10/migration/', category='PydanticDeprecatedSince20', source=None),\n",
       " DefaultWarning(warning='The `copy` method is deprecated; use `model_copy` instead. See the docstring of `BaseModel.copy` for details about how to handle `include` and `exclude`. Deprecated in Pydantic V2.0 to be removed in V3.0. See Pydantic V2 Migration Guide at https://errors.pydantic.dev/2.10/migration/', category='PydanticDeprecatedSince20', source=None),\n",
       " DefaultWarning(warning='The `copy` method is deprecated; use `model_copy` instead. See the docstring of `BaseModel.copy` for details about how to handle `include` and `exclude`. Deprecated in Pydantic V2.0 to be removed in V3.0. See Pydantic V2 Migration Guide at https://errors.pydantic.dev/2.10/migration/', category='PydanticDeprecatedSince20', source=None),\n",
       " PropertyOverwritingWarning(identifier=ViewId(space='neat_space', external_id='DoctrinoIncAsset', version='v1'), resource_type='view', property_name='labels', overwriting=('Connection', 'Value Type')),\n",
       " PropertyOverwritingWarning(identifier=ViewId(space='neat_space', external_id='DoctrinoIncEvent', version='v1'), resource_type='view', property_name='assetIds', overwriting=('Connection',)),\n",
       " PropertyOverwritingWarning(identifier=ViewId(space='neat_space', external_id='DoctrinoIncFile', version='v1'), resource_type='view', property_name='assetIds', overwriting=('Connection',)),\n",
       " PropertyOverwritingWarning(identifier=ViewId(space='neat_space', external_id='DoctrinoIncFile', version='v1'), resource_type='view', property_name='labels', overwriting=('Connection', 'Value Type')),\n",
       " PropertyOverwritingWarning(identifier=ViewId(space='neat_space', external_id='DoctrinoIncFile', version='v1'), resource_type='view', property_name='sourceCreatedTime', overwriting=('Value Type',)),\n",
       " PropertyOverwritingWarning(identifier=ViewId(space='neat_space', external_id='DoctrinoIncFile', version='v1'), resource_type='view', property_name='sourceModifiedTime', overwriting=('Value Type',)),\n",
       " PropertyOverwritingWarning(identifier=ViewId(space='neat_space', external_id='DoctrinoIncTimeSeries', version='v1'), resource_type='view', property_name='assetId', overwriting=('Is List',)),\n",
       " PropertyOverwritingWarning(identifier=ViewId(space='neat_space', external_id='DoctrinoIncTimeSeries', version='v1'), resource_type='view', property_name='isStep', overwriting=('Nullable',)),\n",
       " PropertyOverwritingWarning(identifier=ViewId(space='neat_space', external_id='DoctrinoIncTimeSeries', version='v1'), resource_type='view', property_name='isString', overwriting=('Value Type', 'Nullable')),\n",
       " PropertyOverwritingWarning(identifier=ViewId(space='neat_space', external_id='DoctrinoIncTimeSeries', version='v1'), resource_type='view', property_name='securityCategories', overwriting=('Value Type',)),\n",
       " PropertyOverwritingWarning(identifier=ViewId(space='neat_space', external_id='DoctrinoIncTimeSeries', version='v1'), resource_type='view', property_name='unitExternalId', overwriting=('Value Type',))]"
      ]
     },
     "execution_count": 9,
     "metadata": {},
     "output_type": "execute_result"
    }
   ],
   "source": [
    "organiztion_name = \"DoctrinoInc\"\n",
    "neat.mapping.data_model.classic_to_core(organiztion_name)"
   ]
  },
  {
   "cell_type": "markdown",
   "id": "ba565df4-791a-4819-b4a6-1d7e4bf60797",
   "metadata": {},
   "source": [
    "We get some warnings as the for example the value types used in the classic are changed by the mapping to Cognite Core. Finally, we inspect the mapped model."
   ]
  },
  {
   "cell_type": "code",
   "execution_count": 10,
   "id": "f5f7949b-91ba-4cd0-9786-0fee2d1aa6d1",
   "metadata": {},
   "outputs": [
    {
     "name": "stdout",
     "output_type": "stream",
     "text": [
      "http_purl.org_cognite_neat_data-model_verified_physical_neat_space_ClassicDataModel_v1.html\n"
     ]
    },
    {
     "data": {
      "text/html": [
       "\n",
       "        <iframe\n",
       "            width=\"100%\"\n",
       "            height=\"750px\"\n",
       "            src=\"http_purl.org_cognite_neat_data-model_verified_physical_neat_space_ClassicDataModel_v1.html\"\n",
       "            frameborder=\"0\"\n",
       "            allowfullscreen\n",
       "            \n",
       "        ></iframe>\n",
       "        "
      ],
      "text/plain": [
       "<IPython.lib.display.IFrame at 0x1d44e2d6030>"
      ]
     },
     "execution_count": 10,
     "metadata": {},
     "output_type": "execute_result"
    }
   ],
   "source": [
    "neat.show.data_model()"
   ]
  },
  {
   "cell_type": "markdown",
   "id": "74890644-cd6b-4874-a9c4-dbc6ecfa5f0f",
   "metadata": {},
   "source": [
    "## Publishing Data Model\n",
    "\n",
    "We can now publish the data model. First, we set the data model id"
   ]
  },
  {
   "cell_type": "code",
   "execution_count": 11,
   "id": "619ed64a-c3b8-48e5-8bce-930675f0f21d",
   "metadata": {},
   "outputs": [
    {
     "data": {
      "text/html": [
       "<p>Success: NEAT(verified,physical,neat_space,ClassicDataModel,v1) &#8594; NEAT(verified,physical,sp_doctrino_snapshot,WindFarm,v1)</p>"
      ],
      "text/plain": [
       "[]"
      ]
     },
     "execution_count": 11,
     "metadata": {},
     "output_type": "execute_result"
    }
   ],
   "source": [
    "neat.set.data_model_id((\"sp_doctrino_snapshot\", \"WindFarm\", \"v1\"))"
   ]
  },
  {
   "cell_type": "code",
   "execution_count": 12,
   "id": "bd0ad450-7f8b-4691-95f4-db1606f7e5d2",
   "metadata": {},
   "outputs": [
    {
     "name": "stdout",
     "output_type": "stream",
     "text": [
      "You can inspect the details with the .inspect.outcome.data_model(...) method.\n"
     ]
    },
    {
     "data": {
      "text/html": [
       "<style type=\"text/css\">\n",
       "</style>\n",
       "<table id=\"T_c76a3\">\n",
       "  <thead>\n",
       "    <tr>\n",
       "      <th class=\"blank level0\" >&nbsp;</th>\n",
       "      <th id=\"T_c76a3_level0_col0\" class=\"col_heading level0 col0\" >name</th>\n",
       "      <th id=\"T_c76a3_level0_col1\" class=\"col_heading level0 col1\" >unchanged</th>\n",
       "      <th id=\"T_c76a3_level0_col2\" class=\"col_heading level0 col2\" >created</th>\n",
       "      <th id=\"T_c76a3_level0_col3\" class=\"col_heading level0 col3\" >changed</th>\n",
       "      <th id=\"T_c76a3_level0_col4\" class=\"col_heading level0 col4\" >deleted</th>\n",
       "    </tr>\n",
       "  </thead>\n",
       "  <tbody>\n",
       "    <tr>\n",
       "      <th id=\"T_c76a3_level0_row0\" class=\"row_heading level0 row0\" >0</th>\n",
       "      <td id=\"T_c76a3_row0_col0\" class=\"data row0 col0\" >spaces</td>\n",
       "      <td id=\"T_c76a3_row0_col1\" class=\"data row0 col1\" >1</td>\n",
       "      <td id=\"T_c76a3_row0_col2\" class=\"data row0 col2\" >0</td>\n",
       "      <td id=\"T_c76a3_row0_col3\" class=\"data row0 col3\" >0</td>\n",
       "      <td id=\"T_c76a3_row0_col4\" class=\"data row0 col4\" >0</td>\n",
       "    </tr>\n",
       "    <tr>\n",
       "      <th id=\"T_c76a3_level0_row1\" class=\"row_heading level0 row1\" >1</th>\n",
       "      <td id=\"T_c76a3_row1_col0\" class=\"data row1 col0\" >containers</td>\n",
       "      <td id=\"T_c76a3_row1_col1\" class=\"data row1 col1\" >1</td>\n",
       "      <td id=\"T_c76a3_row1_col2\" class=\"data row1 col2\" >8</td>\n",
       "      <td id=\"T_c76a3_row1_col3\" class=\"data row1 col3\" >1</td>\n",
       "      <td id=\"T_c76a3_row1_col4\" class=\"data row1 col4\" >0</td>\n",
       "    </tr>\n",
       "    <tr>\n",
       "      <th id=\"T_c76a3_level0_row2\" class=\"row_heading level0 row2\" >2</th>\n",
       "      <td id=\"T_c76a3_row2_col0\" class=\"data row2 col0\" >views</td>\n",
       "      <td id=\"T_c76a3_row2_col1\" class=\"data row2 col1\" >2</td>\n",
       "      <td id=\"T_c76a3_row2_col2\" class=\"data row2 col2\" >0</td>\n",
       "      <td id=\"T_c76a3_row2_col3\" class=\"data row2 col3\" >8</td>\n",
       "      <td id=\"T_c76a3_row2_col4\" class=\"data row2 col4\" >0</td>\n",
       "    </tr>\n",
       "    <tr>\n",
       "      <th id=\"T_c76a3_level0_row3\" class=\"row_heading level0 row3\" >3</th>\n",
       "      <td id=\"T_c76a3_row3_col0\" class=\"data row3 col0\" >data_models</td>\n",
       "      <td id=\"T_c76a3_row3_col1\" class=\"data row3 col1\" >0</td>\n",
       "      <td id=\"T_c76a3_row3_col2\" class=\"data row3 col2\" >1</td>\n",
       "      <td id=\"T_c76a3_row3_col3\" class=\"data row3 col3\" >0</td>\n",
       "      <td id=\"T_c76a3_row3_col4\" class=\"data row3 col4\" >1</td>\n",
       "    </tr>\n",
       "    <tr>\n",
       "      <th id=\"T_c76a3_level0_row4\" class=\"row_heading level0 row4\" >4</th>\n",
       "      <td id=\"T_c76a3_row4_col0\" class=\"data row4 col0\" >nodes</td>\n",
       "      <td id=\"T_c76a3_row4_col1\" class=\"data row4 col1\" >0</td>\n",
       "      <td id=\"T_c76a3_row4_col2\" class=\"data row4 col2\" >0</td>\n",
       "      <td id=\"T_c76a3_row4_col3\" class=\"data row4 col3\" >0</td>\n",
       "      <td id=\"T_c76a3_row4_col4\" class=\"data row4 col4\" >0</td>\n",
       "    </tr>\n",
       "  </tbody>\n",
       "</table>\n"
      ],
      "text/plain": [
       "[UploadResult(name='spaces', error_messages=[], issues=[], created=set(), upserted=set(), deleted=set(), changed=set(), unchanged={'sp_doctrino_snapshot'}, skipped=set(), failed_created=set(), failed_upserted=set(), failed_changed=set(), failed_deleted=set()),\n",
       " UploadResult(name='containers', error_messages=[], issues=[], created={ContainerId(space='sp_doctrino_snapshot', external_id='ClassicRelationship'), ContainerId(space='sp_doctrino_snapshot', external_id='ClassicLabel'), ContainerId(space='sp_doctrino_snapshot', external_id='ClassicDataSet'), ContainerId(space='sp_doctrino_snapshot', external_id='ClassicFile'), ContainerId(space='sp_doctrino_snapshot', external_id='ClassicTimeSeries'), ContainerId(space='sp_doctrino_snapshot', external_id='ClassicSequence'), ContainerId(space='sp_doctrino_snapshot', external_id='ClassicAsset'), ContainerId(space='sp_doctrino_snapshot', external_id='ClassicEvent')}, upserted=set(), deleted=set(), changed={ContainerId(space='sp_doctrino_snapshot', external_id='DoctrinoIncSourceSystem')}, unchanged={ContainerId(space='sp_doctrino_snapshot', external_id='DoctrinoIncEquipment')}, skipped=set(), failed_created=set(), failed_upserted=set(), failed_changed=set(), failed_deleted=set()),\n",
       " UploadResult(name='views', error_messages=[], issues=[], created=set(), upserted=set(), deleted=set(), changed={ViewId(space='sp_doctrino_snapshot', external_id='DoctrinoIncTimeSeries', version='v1'), ViewId(space='sp_doctrino_snapshot', external_id='DoctrinoIncSequence', version='v1'), ViewId(space='sp_doctrino_snapshot', external_id='DoctrinoIncAsset', version='v1'), ViewId(space='sp_doctrino_snapshot', external_id='DoctrinoIncEvent', version='v1'), ViewId(space='sp_doctrino_snapshot', external_id='DoctrinoIncRelationship', version='v1'), ViewId(space='sp_doctrino_snapshot', external_id='DoctrinoIncLabel', version='v1'), ViewId(space='sp_doctrino_snapshot', external_id='DoctrinoIncFile', version='v1'), ViewId(space='sp_doctrino_snapshot', external_id='DoctrinoIncDataSet', version='v1')}, unchanged={ViewId(space='sp_doctrino_snapshot', external_id='DoctrinoIncSourceSystem', version='v1'), ViewId(space='sp_doctrino_snapshot', external_id='DoctrinoIncEquipment', version='v1')}, skipped=set(), failed_created=set(), failed_upserted=set(), failed_changed=set(), failed_deleted=set()),\n",
       " UploadResult(name='data_models', error_messages=[], issues=[], created={DataModelId(space='sp_doctrino_snapshot', external_id='WindFarm', version='v1')}, upserted=set(), deleted={DataModelId(space='sp_doctrino_snapshot', external_id='WindFarm', version='v1')}, changed=set(), unchanged=set(), skipped=set(), failed_created=set(), failed_upserted=set(), failed_changed=set(), failed_deleted=set()),\n",
       " UploadResult(name='nodes', error_messages=[], issues=[], created=set(), upserted=set(), deleted=set(), changed=set(), unchanged=set(), skipped=set(), failed_created=set(), failed_upserted=set(), failed_changed=set(), failed_deleted=set())]"
      ]
     },
     "execution_count": 12,
     "metadata": {},
     "output_type": "execute_result"
    }
   ],
   "source": [
    "neat.to.cdf.data_model()"
   ]
  },
  {
   "cell_type": "markdown",
   "id": "b36c95e6-0a4e-4219-b81d-ea8df735031c",
   "metadata": {},
   "source": [
    "## Populate new Model"
   ]
  },
  {
   "cell_type": "code",
   "execution_count": 13,
   "id": "4831e51b-9940-4559-b0cd-3776a2c670c8",
   "metadata": {},
   "outputs": [
    {
     "name": "stdout",
     "output_type": "stream",
     "text": [
      "You can inspect the details with the .inspect.outcome.instances(...) method.\n"
     ]
    },
    {
     "data": {
      "text/html": [
       "<style type=\"text/css\">\n",
       "</style>\n",
       "<table id=\"T_a4e1e\">\n",
       "  <thead>\n",
       "    <tr>\n",
       "      <th class=\"blank level0\" >&nbsp;</th>\n",
       "      <th id=\"T_a4e1e_level0_col0\" class=\"col_heading level0 col0\" >name</th>\n",
       "      <th id=\"T_a4e1e_level0_col1\" class=\"col_heading level0 col1\" >created</th>\n",
       "      <th id=\"T_a4e1e_level0_col2\" class=\"col_heading level0 col2\" >changed</th>\n",
       "      <th id=\"T_a4e1e_level0_col3\" class=\"col_heading level0 col3\" >unchanged</th>\n",
       "    </tr>\n",
       "  </thead>\n",
       "  <tbody>\n",
       "    <tr>\n",
       "      <th id=\"T_a4e1e_level0_row0\" class=\"row_heading level0 row0\" >0</th>\n",
       "      <td id=\"T_a4e1e_row0_col0\" class=\"data row0 col0\" >DoctrinoIncDataSet</td>\n",
       "      <td id=\"T_a4e1e_row0_col1\" class=\"data row0 col1\" >3</td>\n",
       "      <td id=\"T_a4e1e_row0_col2\" class=\"data row0 col2\" >0</td>\n",
       "      <td id=\"T_a4e1e_row0_col3\" class=\"data row0 col3\" >0</td>\n",
       "    </tr>\n",
       "    <tr>\n",
       "      <th id=\"T_a4e1e_level0_row1\" class=\"row_heading level0 row1\" >1</th>\n",
       "      <td id=\"T_a4e1e_row1_col0\" class=\"data row1 col0\" >DoctrinoIncLabel</td>\n",
       "      <td id=\"T_a4e1e_row1_col1\" class=\"data row1 col1\" >4</td>\n",
       "      <td id=\"T_a4e1e_row1_col2\" class=\"data row1 col2\" >0</td>\n",
       "      <td id=\"T_a4e1e_row1_col3\" class=\"data row1 col3\" >0</td>\n",
       "    </tr>\n",
       "    <tr>\n",
       "      <th id=\"T_a4e1e_level0_row2\" class=\"row_heading level0 row2\" >2</th>\n",
       "      <td id=\"T_a4e1e_row2_col0\" class=\"data row2 col0\" >DoctrinoIncRelationship</td>\n",
       "      <td id=\"T_a4e1e_row2_col1\" class=\"data row2 col1\" >2</td>\n",
       "      <td id=\"T_a4e1e_row2_col2\" class=\"data row2 col2\" >0</td>\n",
       "      <td id=\"T_a4e1e_row2_col3\" class=\"data row2 col3\" >0</td>\n",
       "    </tr>\n",
       "    <tr>\n",
       "      <th id=\"T_a4e1e_level0_row3\" class=\"row_heading level0 row3\" >3</th>\n",
       "      <td id=\"T_a4e1e_row3_col0\" class=\"data row3 col0\" >DoctrinoIncSequence</td>\n",
       "      <td id=\"T_a4e1e_row3_col1\" class=\"data row3 col1\" >1</td>\n",
       "      <td id=\"T_a4e1e_row3_col2\" class=\"data row3 col2\" >0</td>\n",
       "      <td id=\"T_a4e1e_row3_col3\" class=\"data row3 col3\" >0</td>\n",
       "    </tr>\n",
       "    <tr>\n",
       "      <th id=\"T_a4e1e_level0_row4\" class=\"row_heading level0 row4\" >4</th>\n",
       "      <td id=\"T_a4e1e_row4_col0\" class=\"data row4 col0\" >DoctrinoIncSourceSystem</td>\n",
       "      <td id=\"T_a4e1e_row4_col1\" class=\"data row4 col1\" >2</td>\n",
       "      <td id=\"T_a4e1e_row4_col2\" class=\"data row4 col2\" >0</td>\n",
       "      <td id=\"T_a4e1e_row4_col3\" class=\"data row4 col3\" >0</td>\n",
       "    </tr>\n",
       "    <tr>\n",
       "      <th id=\"T_a4e1e_level0_row5\" class=\"row_heading level0 row5\" >5</th>\n",
       "      <td id=\"T_a4e1e_row5_col0\" class=\"data row5 col0\" >DoctrinoIncAsset</td>\n",
       "      <td id=\"T_a4e1e_row5_col1\" class=\"data row5 col1\" >3</td>\n",
       "      <td id=\"T_a4e1e_row5_col2\" class=\"data row5 col2\" >3</td>\n",
       "      <td id=\"T_a4e1e_row5_col3\" class=\"data row5 col3\" >1</td>\n",
       "    </tr>\n",
       "    <tr>\n",
       "      <th id=\"T_a4e1e_level0_row6\" class=\"row_heading level0 row6\" >6</th>\n",
       "      <td id=\"T_a4e1e_row6_col0\" class=\"data row6 col0\" ></td>\n",
       "      <td id=\"T_a4e1e_row6_col1\" class=\"data row6 col1\" >3</td>\n",
       "      <td id=\"T_a4e1e_row6_col2\" class=\"data row6 col2\" >0</td>\n",
       "      <td id=\"T_a4e1e_row6_col3\" class=\"data row6 col3\" >0</td>\n",
       "    </tr>\n",
       "    <tr>\n",
       "      <th id=\"T_a4e1e_level0_row7\" class=\"row_heading level0 row7\" >7</th>\n",
       "      <td id=\"T_a4e1e_row7_col0\" class=\"data row7 col0\" >DoctrinoIncFile</td>\n",
       "      <td id=\"T_a4e1e_row7_col1\" class=\"data row7 col1\" >1</td>\n",
       "      <td id=\"T_a4e1e_row7_col2\" class=\"data row7 col2\" >0</td>\n",
       "      <td id=\"T_a4e1e_row7_col3\" class=\"data row7 col3\" >0</td>\n",
       "    </tr>\n",
       "    <tr>\n",
       "      <th id=\"T_a4e1e_level0_row8\" class=\"row_heading level0 row8\" >8</th>\n",
       "      <td id=\"T_a4e1e_row8_col0\" class=\"data row8 col0\" >DoctrinoIncTimeSeries</td>\n",
       "      <td id=\"T_a4e1e_row8_col1\" class=\"data row8 col1\" >4</td>\n",
       "      <td id=\"T_a4e1e_row8_col2\" class=\"data row8 col2\" >0</td>\n",
       "      <td id=\"T_a4e1e_row8_col3\" class=\"data row8 col3\" >0</td>\n",
       "    </tr>\n",
       "    <tr>\n",
       "      <th id=\"T_a4e1e_level0_row9\" class=\"row_heading level0 row9\" >9</th>\n",
       "      <td id=\"T_a4e1e_row9_col0\" class=\"data row9 col0\" >DoctrinoIncEvent</td>\n",
       "      <td id=\"T_a4e1e_row9_col1\" class=\"data row9 col1\" >1</td>\n",
       "      <td id=\"T_a4e1e_row9_col2\" class=\"data row9 col2\" >0</td>\n",
       "      <td id=\"T_a4e1e_row9_col3\" class=\"data row9 col3\" >0</td>\n",
       "    </tr>\n",
       "  </tbody>\n",
       "</table>\n"
      ],
      "text/plain": [
       "[UploadResult(name='DoctrinoIncDataSet', error_messages=[], issues=[], created={NodeId(space='sp_doctrino_snapshot_instances', external_id='DataSet_2458119666837052'), NodeId(space='sp_doctrino_snapshot_instances', external_id='DataSet_6333017856399877'), NodeId(space='sp_doctrino_snapshot_instances', external_id='DataSet_2115244274213977')}, upserted=set(), deleted=set(), changed=set(), unchanged=set(), skipped=set(), failed_created=set(), failed_upserted=set(), failed_changed=set(), failed_deleted=set()),\n",
       " UploadResult(name='DoctrinoIncLabel', error_messages=[], issues=[], created={NodeId(space='sp_doctrino_snapshot_instances', external_id='Label_PowerGeneratingUnit'), NodeId(space='sp_doctrino_snapshot_instances', external_id='Label_WindTurbine'), NodeId(space='sp_doctrino_snapshot_instances', external_id='Label_metMast'), NodeId(space='sp_doctrino_snapshot_instances', external_id='Label_Measurement')}, upserted=set(), deleted=set(), changed=set(), unchanged=set(), skipped=set(), failed_created=set(), failed_upserted=set(), failed_changed=set(), failed_deleted=set()),\n",
       " UploadResult(name='DoctrinoIncRelationship', error_messages=[], issues=[], created={EdgeId(space='sp_doctrino_snapshot_instances', external_id='Relationship_8ca8265214a7968fc1bcdbf71c8a623ae94be693c7aead5d779fb70e2a6ce130'), EdgeId(space='sp_doctrino_snapshot_instances', external_id='Relationship_dd8ad0fb1b0957b30eedf6b2aedb7d39b2d663f4779fd85cc7c2be5285404447')}, upserted=set(), deleted=set(), changed=set(), unchanged=set(), skipped=set(), failed_created=set(), failed_upserted=set(), failed_changed=set(), failed_deleted=set()),\n",
       " UploadResult(name='DoctrinoIncSequence', error_messages=[], issues=[], created={NodeId(space='sp_doctrino_snapshot_instances', external_id='Sequence_4211923354953533')}, upserted=set(), deleted=set(), changed=set(), unchanged=set(), skipped=set(), failed_created=set(), failed_upserted=set(), failed_changed=set(), failed_deleted=set()),\n",
       " UploadResult(name='DoctrinoIncSourceSystem', error_messages=[], issues=[], created={NodeId(space='sp_doctrino_snapshot_instances', external_id='ClassicSourceSystem_manufacturer1'), NodeId(space='sp_doctrino_snapshot_instances', external_id='ClassicSourceSystem_manufacturer2')}, upserted=set(), deleted=set(), changed=set(), unchanged=set(), skipped=set(), failed_created=set(), failed_upserted=set(), failed_changed=set(), failed_deleted=set()),\n",
       " UploadResult(name='DoctrinoIncAsset', error_messages=[], issues=[], created={NodeId(space='sp_doctrino_snapshot_instances', external_id='Asset_651983444458536'), NodeId(space='sp_doctrino_snapshot_instances', external_id='Asset_2541486502201641'), NodeId(space='sp_doctrino_snapshot_instances', external_id='Asset_8279627777657373')}, upserted=set(), deleted=set(), changed={NodeId(space='sp_doctrino_snapshot_instances', external_id='Asset_734702499721687'), NodeId(space='sp_doctrino_snapshot_instances', external_id='Asset_2541486502201641'), NodeId(space='sp_doctrino_snapshot_instances', external_id='Asset_8279627777657373')}, unchanged={NodeId(space='sp_doctrino_snapshot_instances', external_id='Asset_651983444458536')}, skipped=set(), failed_created=set(), failed_upserted=set(), failed_changed=set(), failed_deleted=set()),\n",
       " UploadResult(name='', error_messages=[], issues=[], created={EdgeId(space='sp_doctrino_snapshot_instances', external_id='AAiS3ZL-nmWNTaMKvBNoOLKLzAOv6dj9v7ue57IOMuM='), EdgeId(space='sp_doctrino_snapshot_instances', external_id='0MSnAXMQ9zf7atKpRjmgx770-KCretbuFKKUOUoqZ8I='), EdgeId(space='sp_doctrino_snapshot_instances', external_id='EalV7k1nuvxwKhE5af-L-LMil0kAb1NWq5QP2Toat_Y=')}, upserted=set(), deleted=set(), changed=set(), unchanged=set(), skipped=set(), failed_created=set(), failed_upserted=set(), failed_changed=set(), failed_deleted=set()),\n",
       " UploadResult(name='DoctrinoIncFile', error_messages=[], issues=[], created={NodeId(space='sp_doctrino_snapshot_instances', external_id='File_7134110611702734')}, upserted=set(), deleted=set(), changed=set(), unchanged=set(), skipped=set(), failed_created=set(), failed_upserted=set(), failed_changed=set(), failed_deleted=set()),\n",
       " UploadResult(name='DoctrinoIncTimeSeries', error_messages=[], issues=[], created={NodeId(space='sp_doctrino_snapshot_instances', external_id='TimeSeries_2706088188537318'), NodeId(space='sp_doctrino_snapshot_instances', external_id='TimeSeries_2302661689760716'), NodeId(space='sp_doctrino_snapshot_instances', external_id='TimeSeries_115147951776476'), NodeId(space='sp_doctrino_snapshot_instances', external_id='TimeSeries_1040284530932034')}, upserted=set(), deleted=set(), changed=set(), unchanged=set(), skipped=set(), failed_created=set(), failed_upserted=set(), failed_changed=set(), failed_deleted=set()),\n",
       " UploadResult(name='DoctrinoIncEvent', error_messages=[], issues=[], created={NodeId(space='sp_doctrino_snapshot_instances', external_id='Event_3988904612812432')}, upserted=set(), deleted=set(), changed=set(), unchanged=set(), skipped=set(), failed_created=set(), failed_upserted=set(), failed_changed=set(), failed_deleted=set())]"
      ]
     },
     "execution_count": 13,
     "metadata": {},
     "output_type": "execute_result"
    }
   ],
   "source": [
    "neat.to.cdf.instances()"
   ]
  },
  {
   "cell_type": "markdown",
   "id": "44d79295-7e5a-4909-bf9f-867b6ef6df6c",
   "metadata": {},
   "source": [
    "## (Optional) Create a Data Product Model\n",
    "\n",
    "The new model will be very large as it includes 33 views from the CogniteCore. We will now make a read-only model called a Data Product that is smaller and only use the original views and properties we identified."
   ]
  },
  {
   "cell_type": "code",
   "execution_count": 14,
   "id": "cfdbfe3d-a86a-452a-a46c-247f96db6ff2",
   "metadata": {},
   "outputs": [],
   "source": [
    "neat.create.data_product_model((\"sp_doctrino_readonly\", \"WindFarmReadOnlny\", \"v1\"))"
   ]
  },
  {
   "cell_type": "markdown",
   "id": "830e3b41-6732-4cf8-bbbd-03cd9426a3b2",
   "metadata": {},
   "source": [
    "And the publish this one"
   ]
  },
  {
   "cell_type": "code",
   "execution_count": 15,
   "id": "0c527709-7935-4e5c-b147-68743effa6cb",
   "metadata": {},
   "outputs": [
    {
     "name": "stdout",
     "output_type": "stream",
     "text": [
      "You can inspect the details with the .inspect.outcome.data_model(...) method.\n"
     ]
    },
    {
     "data": {
      "text/html": [
       "<style type=\"text/css\">\n",
       "</style>\n",
       "<table id=\"T_49dbf\">\n",
       "  <thead>\n",
       "    <tr>\n",
       "      <th class=\"blank level0\" >&nbsp;</th>\n",
       "      <th id=\"T_49dbf_level0_col0\" class=\"col_heading level0 col0\" >name</th>\n",
       "      <th id=\"T_49dbf_level0_col1\" class=\"col_heading level0 col1\" >unchanged</th>\n",
       "      <th id=\"T_49dbf_level0_col2\" class=\"col_heading level0 col2\" >changed</th>\n",
       "      <th id=\"T_49dbf_level0_col3\" class=\"col_heading level0 col3\" >created</th>\n",
       "      <th id=\"T_49dbf_level0_col4\" class=\"col_heading level0 col4\" >deleted</th>\n",
       "    </tr>\n",
       "  </thead>\n",
       "  <tbody>\n",
       "    <tr>\n",
       "      <th id=\"T_49dbf_level0_row0\" class=\"row_heading level0 row0\" >0</th>\n",
       "      <td id=\"T_49dbf_row0_col0\" class=\"data row0 col0\" >spaces</td>\n",
       "      <td id=\"T_49dbf_row0_col1\" class=\"data row0 col1\" >1</td>\n",
       "      <td id=\"T_49dbf_row0_col2\" class=\"data row0 col2\" >0</td>\n",
       "      <td id=\"T_49dbf_row0_col3\" class=\"data row0 col3\" >0</td>\n",
       "      <td id=\"T_49dbf_row0_col4\" class=\"data row0 col4\" >0</td>\n",
       "    </tr>\n",
       "    <tr>\n",
       "      <th id=\"T_49dbf_level0_row1\" class=\"row_heading level0 row1\" >1</th>\n",
       "      <td id=\"T_49dbf_row1_col0\" class=\"data row1 col0\" >containers</td>\n",
       "      <td id=\"T_49dbf_row1_col1\" class=\"data row1 col1\" >0</td>\n",
       "      <td id=\"T_49dbf_row1_col2\" class=\"data row1 col2\" >0</td>\n",
       "      <td id=\"T_49dbf_row1_col3\" class=\"data row1 col3\" >0</td>\n",
       "      <td id=\"T_49dbf_row1_col4\" class=\"data row1 col4\" >0</td>\n",
       "    </tr>\n",
       "    <tr>\n",
       "      <th id=\"T_49dbf_level0_row2\" class=\"row_heading level0 row2\" >2</th>\n",
       "      <td id=\"T_49dbf_row2_col0\" class=\"data row2 col0\" >views</td>\n",
       "      <td id=\"T_49dbf_row2_col1\" class=\"data row2 col1\" >2</td>\n",
       "      <td id=\"T_49dbf_row2_col2\" class=\"data row2 col2\" >8</td>\n",
       "      <td id=\"T_49dbf_row2_col3\" class=\"data row2 col3\" >0</td>\n",
       "      <td id=\"T_49dbf_row2_col4\" class=\"data row2 col4\" >0</td>\n",
       "    </tr>\n",
       "    <tr>\n",
       "      <th id=\"T_49dbf_level0_row3\" class=\"row_heading level0 row3\" >3</th>\n",
       "      <td id=\"T_49dbf_row3_col0\" class=\"data row3 col0\" >data_models</td>\n",
       "      <td id=\"T_49dbf_row3_col1\" class=\"data row3 col1\" >0</td>\n",
       "      <td id=\"T_49dbf_row3_col2\" class=\"data row3 col2\" >0</td>\n",
       "      <td id=\"T_49dbf_row3_col3\" class=\"data row3 col3\" >1</td>\n",
       "      <td id=\"T_49dbf_row3_col4\" class=\"data row3 col4\" >1</td>\n",
       "    </tr>\n",
       "    <tr>\n",
       "      <th id=\"T_49dbf_level0_row4\" class=\"row_heading level0 row4\" >4</th>\n",
       "      <td id=\"T_49dbf_row4_col0\" class=\"data row4 col0\" >nodes</td>\n",
       "      <td id=\"T_49dbf_row4_col1\" class=\"data row4 col1\" >0</td>\n",
       "      <td id=\"T_49dbf_row4_col2\" class=\"data row4 col2\" >0</td>\n",
       "      <td id=\"T_49dbf_row4_col3\" class=\"data row4 col3\" >0</td>\n",
       "      <td id=\"T_49dbf_row4_col4\" class=\"data row4 col4\" >0</td>\n",
       "    </tr>\n",
       "  </tbody>\n",
       "</table>\n"
      ],
      "text/plain": [
       "[UploadResult(name='spaces', error_messages=[], issues=[], created=set(), upserted=set(), deleted=set(), changed=set(), unchanged={'sp_doctrino_readonly'}, skipped=set(), failed_created=set(), failed_upserted=set(), failed_changed=set(), failed_deleted=set()),\n",
       " UploadResult(name='containers', error_messages=[], issues=[], created=set(), upserted=set(), deleted=set(), changed=set(), unchanged=set(), skipped=set(), failed_created=set(), failed_upserted=set(), failed_changed=set(), failed_deleted=set()),\n",
       " UploadResult(name='views', error_messages=[], issues=[], created=set(), upserted=set(), deleted=set(), changed={ViewId(space='sp_doctrino_readonly', external_id='DoctrinoIncLabel', version='v1'), ViewId(space='sp_doctrino_readonly', external_id='DoctrinoIncFile', version='v1'), ViewId(space='sp_doctrino_readonly', external_id='DoctrinoIncAsset', version='v1'), ViewId(space='sp_doctrino_readonly', external_id='DoctrinoIncSequence', version='v1'), ViewId(space='sp_doctrino_readonly', external_id='DoctrinoIncDataSet', version='v1'), ViewId(space='sp_doctrino_readonly', external_id='DoctrinoIncTimeSeries', version='v1'), ViewId(space='sp_doctrino_readonly', external_id='DoctrinoIncRelationship', version='v1'), ViewId(space='sp_doctrino_readonly', external_id='DoctrinoIncEvent', version='v1')}, unchanged={ViewId(space='sp_doctrino_readonly', external_id='DoctrinoIncEquipment', version='v1'), ViewId(space='sp_doctrino_readonly', external_id='DoctrinoIncSourceSystem', version='v1')}, skipped=set(), failed_created=set(), failed_upserted=set(), failed_changed=set(), failed_deleted=set()),\n",
       " UploadResult(name='data_models', error_messages=[], issues=[], created={DataModelId(space='sp_doctrino_readonly', external_id='WindFarmReadOnlny', version='v1')}, upserted=set(), deleted={DataModelId(space='sp_doctrino_readonly', external_id='WindFarmReadOnlny', version='v1')}, changed=set(), unchanged=set(), skipped=set(), failed_created=set(), failed_upserted=set(), failed_changed=set(), failed_deleted=set()),\n",
       " UploadResult(name='nodes', error_messages=[], issues=[], created=set(), upserted=set(), deleted=set(), changed=set(), unchanged=set(), skipped=set(), failed_created=set(), failed_upserted=set(), failed_changed=set(), failed_deleted=set())]"
      ]
     },
     "execution_count": 15,
     "metadata": {},
     "output_type": "execute_result"
    }
   ],
   "source": [
    "neat.to.cdf.data_model(existing=\"force\")"
   ]
  },
  {
   "cell_type": "markdown",
   "id": "c72177ea-2f21-435f-b606-4a6bcf95e499",
   "metadata": {},
   "source": [
    "We can now inspect the newly created data models with instances in CDF.\n",
    "\n",
    "<img src=\"../../artifacts/figs/wind_farm_data_product_instances.png\" width=\"400\">"
   ]
  },
  {
   "cell_type": "code",
   "execution_count": null,
   "id": "cb6b2b5b-fae8-4fe7-a654-0d182c56b1f8",
   "metadata": {},
   "outputs": [],
   "source": []
  }
 ],
 "metadata": {
  "kernelspec": {
   "display_name": "Python 3 (ipykernel)",
   "language": "python",
   "name": "python3"
  },
  "language_info": {
   "codemirror_mode": {
    "name": "ipython",
    "version": 3
   },
   "file_extension": ".py",
   "mimetype": "text/x-python",
   "name": "python",
   "nbconvert_exporter": "python",
   "pygments_lexer": "ipython3",
   "version": "3.12.1"
  }
 },
 "nbformat": 4,
 "nbformat_minor": 5
}
