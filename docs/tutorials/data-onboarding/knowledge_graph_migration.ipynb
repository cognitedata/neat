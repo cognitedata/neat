{
 "cells": [
  {
   "cell_type": "code",
   "execution_count": 32,
   "id": "3ed171c7-c7c4-4ebc-a559-6533275922ca",
   "metadata": {},
   "outputs": [],
   "source": [
    "from cognite.neat.store import NeatGraphStore\n",
    "from cognite.neat.utils.auth import get_cognite_client\n",
    "from cognite.neat.rules import importers, exporters\n",
    "from cognite.neat.graph.extractors import ClassicGraphExtractor\n",
    "from cognite.neat.rules.transformers import VerifyInformationRules\n",
    "from cognite.neat.rules.transformers import RuleMapper\n",
    "from cognite.neat.rules.models.mapping import RuleMapping"
   ]
  },
  {
   "cell_type": "code",
   "execution_count": 3,
   "id": "e00ad9d4-6d26-41c7-9ef3-e82cfefee264",
   "metadata": {},
   "outputs": [
    {
     "name": "stdout",
     "output_type": "stream",
     "text": [
      "Found .env file in repository root. Loaded variables from .env file.\n"
     ]
    }
   ],
   "source": [
    "client = get_cognite_client(\"power-staging.env\")"
   ]
  },
  {
   "cell_type": "code",
   "execution_count": 4,
   "id": "4e24ee96-a9bf-4cd0-b38d-8854a0d6ced2",
   "metadata": {},
   "outputs": [],
   "source": [
    "store = NeatGraphStore.from_oxi_store()"
   ]
  },
  {
   "cell_type": "code",
   "execution_count": 5,
   "id": "e94766cf-9f20-4c01-b7a2-5dd281406a4b",
   "metadata": {},
   "outputs": [],
   "source": [
    "extactor = ClassicGraphExtractor(client, root_asset_external_id=\"power_ops\")"
   ]
  },
  {
   "cell_type": "code",
   "execution_count": 6,
   "id": "20869ba9-61e0-4527-a971-597801cd4d01",
   "metadata": {},
   "outputs": [
    {
     "data": {
      "application/vnd.jupyter.widget-view+json": {
       "model_id": "6aadf519096d414ab1e54bc0f9a3c5a1",
       "version_major": 2,
       "version_minor": 0
      },
      "text/plain": [
       "Output()"
      ]
     },
     "metadata": {},
     "output_type": "display_data"
    },
    {
     "data": {
      "text/html": [
       "<pre style=\"white-space:pre;overflow-x:auto;line-height:normal;font-family:Menlo,'DejaVu Sans Mono',consolas,'Courier New',monospace\"></pre>\n"
      ],
      "text/plain": []
     },
     "metadata": {},
     "output_type": "display_data"
    },
    {
     "data": {
      "application/vnd.jupyter.widget-view+json": {
       "model_id": "d69c499b1c8e493d83efc60dcc908d6a",
       "version_major": 2,
       "version_minor": 0
      },
      "text/plain": [
       "Output()"
      ]
     },
     "metadata": {},
     "output_type": "display_data"
    },
    {
     "data": {
      "text/html": [
       "<pre style=\"white-space:pre;overflow-x:auto;line-height:normal;font-family:Menlo,'DejaVu Sans Mono',consolas,'Courier New',monospace\"></pre>\n"
      ],
      "text/plain": []
     },
     "metadata": {},
     "output_type": "display_data"
    },
    {
     "data": {
      "application/vnd.jupyter.widget-view+json": {
       "model_id": "9f4862b7a7db4d698268b0129eacb53b",
       "version_major": 2,
       "version_minor": 0
      },
      "text/plain": [
       "Output()"
      ]
     },
     "metadata": {},
     "output_type": "display_data"
    },
    {
     "data": {
      "text/html": [
       "<pre style=\"white-space:pre;overflow-x:auto;line-height:normal;font-family:Menlo,'DejaVu Sans Mono',consolas,'Courier New',monospace\"></pre>\n"
      ],
      "text/plain": []
     },
     "metadata": {},
     "output_type": "display_data"
    },
    {
     "data": {
      "application/vnd.jupyter.widget-view+json": {
       "model_id": "97160e9852414c6b9150a5654e19d5aa",
       "version_major": 2,
       "version_minor": 0
      },
      "text/plain": [
       "Output()"
      ]
     },
     "metadata": {},
     "output_type": "display_data"
    },
    {
     "data": {
      "text/html": [
       "<pre style=\"white-space:pre;overflow-x:auto;line-height:normal;font-family:Menlo,'DejaVu Sans Mono',consolas,'Courier New',monospace\"></pre>\n"
      ],
      "text/plain": []
     },
     "metadata": {},
     "output_type": "display_data"
    },
    {
     "data": {
      "application/vnd.jupyter.widget-view+json": {
       "model_id": "cfcbdac447084df88f2a332acbfa2eaa",
       "version_major": 2,
       "version_minor": 0
      },
      "text/plain": [
       "Output()"
      ]
     },
     "metadata": {},
     "output_type": "display_data"
    },
    {
     "data": {
      "text/html": [
       "<pre style=\"white-space:pre;overflow-x:auto;line-height:normal;font-family:Menlo,'DejaVu Sans Mono',consolas,'Courier New',monospace\"></pre>\n"
      ],
      "text/plain": []
     },
     "metadata": {},
     "output_type": "display_data"
    },
    {
     "data": {
      "application/vnd.jupyter.widget-view+json": {
       "model_id": "645f49732ca34b148addb5a9403b4f94",
       "version_major": 2,
       "version_minor": 0
      },
      "text/plain": [
       "Output()"
      ]
     },
     "metadata": {},
     "output_type": "display_data"
    },
    {
     "data": {
      "text/html": [
       "<pre style=\"white-space:pre;overflow-x:auto;line-height:normal;font-family:Menlo,'DejaVu Sans Mono',consolas,'Courier New',monospace\"></pre>\n"
      ],
      "text/plain": []
     },
     "metadata": {},
     "output_type": "display_data"
    },
    {
     "data": {
      "application/vnd.jupyter.widget-view+json": {
       "model_id": "ffc23385d6fd46cbba7746c644ee5fc2",
       "version_major": 2,
       "version_minor": 0
      },
      "text/plain": [
       "Output()"
      ]
     },
     "metadata": {},
     "output_type": "display_data"
    },
    {
     "data": {
      "text/html": [
       "<pre style=\"white-space:pre;overflow-x:auto;line-height:normal;font-family:Menlo,'DejaVu Sans Mono',consolas,'Courier New',monospace\"></pre>\n"
      ],
      "text/plain": []
     },
     "metadata": {},
     "output_type": "display_data"
    },
    {
     "data": {
      "application/vnd.jupyter.widget-view+json": {
       "model_id": "1e1a9c4cb3c641289b20eeb653fb66b8",
       "version_major": 2,
       "version_minor": 0
      },
      "text/plain": [
       "Output()"
      ]
     },
     "metadata": {},
     "output_type": "display_data"
    },
    {
     "data": {
      "text/html": [
       "<pre style=\"white-space:pre;overflow-x:auto;line-height:normal;font-family:Menlo,'DejaVu Sans Mono',consolas,'Courier New',monospace\"></pre>\n"
      ],
      "text/plain": []
     },
     "metadata": {},
     "output_type": "display_data"
    },
    {
     "data": {
      "application/vnd.jupyter.widget-view+json": {
       "model_id": "7f74de4b986c4e629b955e06ee74a7ed",
       "version_major": 2,
       "version_minor": 0
      },
      "text/plain": [
       "Output()"
      ]
     },
     "metadata": {},
     "output_type": "display_data"
    },
    {
     "data": {
      "text/html": [
       "<pre style=\"white-space:pre;overflow-x:auto;line-height:normal;font-family:Menlo,'DejaVu Sans Mono',consolas,'Courier New',monospace\"></pre>\n"
      ],
      "text/plain": []
     },
     "metadata": {},
     "output_type": "display_data"
    },
    {
     "data": {
      "application/vnd.jupyter.widget-view+json": {
       "model_id": "31ff9ac6d6014a8d9c820be49a1801d4",
       "version_major": 2,
       "version_minor": 0
      },
      "text/plain": [
       "Output()"
      ]
     },
     "metadata": {},
     "output_type": "display_data"
    },
    {
     "data": {
      "text/html": [
       "<pre style=\"white-space:pre;overflow-x:auto;line-height:normal;font-family:Menlo,'DejaVu Sans Mono',consolas,'Courier New',monospace\"></pre>\n"
      ],
      "text/plain": []
     },
     "metadata": {},
     "output_type": "display_data"
    },
    {
     "data": {
      "application/vnd.jupyter.widget-view+json": {
       "model_id": "a3b9025b481840fabc624f1642fffeee",
       "version_major": 2,
       "version_minor": 0
      },
      "text/plain": [
       "Output()"
      ]
     },
     "metadata": {},
     "output_type": "display_data"
    },
    {
     "data": {
      "text/html": [
       "<pre style=\"white-space:pre;overflow-x:auto;line-height:normal;font-family:Menlo,'DejaVu Sans Mono',consolas,'Courier New',monospace\"></pre>\n"
      ],
      "text/plain": []
     },
     "metadata": {},
     "output_type": "display_data"
    },
    {
     "data": {
      "application/vnd.jupyter.widget-view+json": {
       "model_id": "4bbf251971d84f28a3a2d242f3525808",
       "version_major": 2,
       "version_minor": 0
      },
      "text/plain": [
       "Output()"
      ]
     },
     "metadata": {},
     "output_type": "display_data"
    },
    {
     "data": {
      "text/html": [
       "<pre style=\"white-space:pre;overflow-x:auto;line-height:normal;font-family:Menlo,'DejaVu Sans Mono',consolas,'Courier New',monospace\"></pre>\n"
      ],
      "text/plain": []
     },
     "metadata": {},
     "output_type": "display_data"
    },
    {
     "data": {
      "application/vnd.jupyter.widget-view+json": {
       "model_id": "a8738a0895a24f20813221b87236b6e2",
       "version_major": 2,
       "version_minor": 0
      },
      "text/plain": [
       "Output()"
      ]
     },
     "metadata": {},
     "output_type": "display_data"
    },
    {
     "data": {
      "text/html": [
       "<pre style=\"white-space:pre;overflow-x:auto;line-height:normal;font-family:Menlo,'DejaVu Sans Mono',consolas,'Courier New',monospace\"></pre>\n"
      ],
      "text/plain": []
     },
     "metadata": {},
     "output_type": "display_data"
    },
    {
     "data": {
      "application/vnd.jupyter.widget-view+json": {
       "model_id": "718e6ca675b64de193078a89bdd85f2c",
       "version_major": 2,
       "version_minor": 0
      },
      "text/plain": [
       "Output()"
      ]
     },
     "metadata": {},
     "output_type": "display_data"
    },
    {
     "data": {
      "text/html": [
       "<pre style=\"white-space:pre;overflow-x:auto;line-height:normal;font-family:Menlo,'DejaVu Sans Mono',consolas,'Courier New',monospace\"></pre>\n"
      ],
      "text/plain": []
     },
     "metadata": {},
     "output_type": "display_data"
    }
   ],
   "source": [
    "store.write(extactor)"
   ]
  },
  {
   "cell_type": "code",
   "execution_count": 9,
   "id": "a3be2132-faaa-408b-9f43-1b1023486cbc",
   "metadata": {},
   "outputs": [],
   "source": [
    "rules_out = importers.InferenceImporter.from_graph_store(store, prefix=\"classic\").to_rules()"
   ]
  },
  {
   "cell_type": "code",
   "execution_count": 22,
   "id": "e4c444c4-4d24-431a-ab53-eb28f8d6c438",
   "metadata": {},
   "outputs": [],
   "source": [
    "verified = VerifyInformationRules(\"raise\").transform(rules_out)"
   ]
  },
  {
   "cell_type": "code",
   "execution_count": 23,
   "id": "f411038d-c574-472e-b6d9-5d81446c8888",
   "metadata": {},
   "outputs": [],
   "source": [
    "rules = verified.rules"
   ]
  },
  {
   "cell_type": "code",
   "execution_count": 25,
   "id": "24ec941e-7e97-491c-9949-1dab7fb36d80",
   "metadata": {},
   "outputs": [
    {
     "data": {
      "text/html": [
       "<div>\n",
       "<style scoped>\n",
       "    .dataframe tbody tr th:only-of-type {\n",
       "        vertical-align: middle;\n",
       "    }\n",
       "\n",
       "    .dataframe tbody tr th {\n",
       "        vertical-align: top;\n",
       "    }\n",
       "\n",
       "    .dataframe thead th {\n",
       "        text-align: right;\n",
       "    }\n",
       "</style>\n",
       "<table border=\"1\" class=\"dataframe\">\n",
       "  <thead>\n",
       "    <tr style=\"text-align: right;\">\n",
       "      <th></th>\n",
       "      <th>class_</th>\n",
       "      <th>reference</th>\n",
       "      <th>match_type</th>\n",
       "      <th>comment</th>\n",
       "    </tr>\n",
       "  </thead>\n",
       "  <tbody>\n",
       "    <tr>\n",
       "      <th>0</th>\n",
       "      <td>classic:Relationship</td>\n",
       "      <td>http://purl.org/cognite/neat#Relationship</td>\n",
       "      <td>exact</td>\n",
       "      <td>Inferred from knowledge graph, where this clas...</td>\n",
       "    </tr>\n",
       "    <tr>\n",
       "      <th>1</th>\n",
       "      <td>classic:Event</td>\n",
       "      <td>http://purl.org/cognite/neat#Event</td>\n",
       "      <td>exact</td>\n",
       "      <td>Inferred from knowledge graph, where this clas...</td>\n",
       "    </tr>\n",
       "    <tr>\n",
       "      <th>2</th>\n",
       "      <td>classic:Sequence</td>\n",
       "      <td>http://purl.org/cognite/neat#Sequence</td>\n",
       "      <td>exact</td>\n",
       "      <td>Inferred from knowledge graph, where this clas...</td>\n",
       "    </tr>\n",
       "    <tr>\n",
       "      <th>3</th>\n",
       "      <td>classic:Asset</td>\n",
       "      <td>http://purl.org/cognite/neat#Asset</td>\n",
       "      <td>exact</td>\n",
       "      <td>Inferred from knowledge graph, where this clas...</td>\n",
       "    </tr>\n",
       "    <tr>\n",
       "      <th>4</th>\n",
       "      <td>classic:TimeSeries</td>\n",
       "      <td>http://purl.org/cognite/neat#TimeSeries</td>\n",
       "      <td>exact</td>\n",
       "      <td>Inferred from knowledge graph, where this clas...</td>\n",
       "    </tr>\n",
       "    <tr>\n",
       "      <th>5</th>\n",
       "      <td>classic:Label</td>\n",
       "      <td>http://purl.org/cognite/neat#Label</td>\n",
       "      <td>exact</td>\n",
       "      <td>Inferred from knowledge graph, where this clas...</td>\n",
       "    </tr>\n",
       "    <tr>\n",
       "      <th>6</th>\n",
       "      <td>classic:DataSet</td>\n",
       "      <td>http://purl.org/cognite/neat#DataSet</td>\n",
       "      <td>exact</td>\n",
       "      <td>Inferred from knowledge graph, where this clas...</td>\n",
       "    </tr>\n",
       "  </tbody>\n",
       "</table>\n",
       "</div>"
      ],
      "text/plain": [
       "[InformationClass(validators_to_skip=set(), class_=class(prefix=classic,suffix=Relationship), name=None, description=None, parent=None, reference=Url('http://purl.org/cognite/neat#Relationship'), match_type='exact', comment='Inferred from knowledge graph, where this class has <247356> instances'),\n",
       " InformationClass(validators_to_skip=set(), class_=class(prefix=classic,suffix=Event), name=None, description=None, parent=None, reference=Url('http://purl.org/cognite/neat#Event'), match_type='exact', comment='Inferred from knowledge graph, where this class has <85895> instances'),\n",
       " InformationClass(validators_to_skip=set(), class_=class(prefix=classic,suffix=Sequence), name=None, description=None, parent=None, reference=Url('http://purl.org/cognite/neat#Sequence'), match_type='exact', comment='Inferred from knowledge graph, where this class has <732> instances'),\n",
       " InformationClass(validators_to_skip=set(), class_=class(prefix=classic,suffix=Asset), name=None, description=None, parent=None, reference=Url('http://purl.org/cognite/neat#Asset'), match_type='exact', comment='Inferred from knowledge graph, where this class has <83> instances'),\n",
       " InformationClass(validators_to_skip=set(), class_=class(prefix=classic,suffix=TimeSeries), name=None, description=None, parent=None, reference=Url('http://purl.org/cognite/neat#TimeSeries'), match_type='exact', comment='Inferred from knowledge graph, where this class has <29> instances'),\n",
       " InformationClass(validators_to_skip=set(), class_=class(prefix=classic,suffix=Label), name=None, description=None, parent=None, reference=Url('http://purl.org/cognite/neat#Label'), match_type='exact', comment='Inferred from knowledge graph, where this class has <9> instances'),\n",
       " InformationClass(validators_to_skip=set(), class_=class(prefix=classic,suffix=DataSet), name=None, description=None, parent=None, reference=Url('http://purl.org/cognite/neat#DataSet'), match_type='exact', comment='Inferred from knowledge graph, where this class has <2> instances')]"
      ]
     },
     "execution_count": 25,
     "metadata": {},
     "output_type": "execute_result"
    }
   ],
   "source": [
    "rules.classes"
   ]
  },
  {
   "cell_type": "code",
   "execution_count": null,
   "id": "a7b1e36b-0ae1-49ea-9108-d439ffcff07f",
   "metadata": {},
   "outputs": [],
   "source": [
    "# This will as it is not currently working. \n",
    "mapping = RuleMapping()"
   ]
  },
  {
   "cell_type": "code",
   "execution_count": null,
   "id": "4d615c49-fe0f-4a87-a4dc-eceefea2be9c",
   "metadata": {},
   "outputs": [],
   "source": [
    "mapped_rules = RuleMapper(mapping).transform(rules)"
   ]
  },
  {
   "cell_type": "code",
   "execution_count": null,
   "id": "bcec1638-dced-4aac-ba01-0bf7fc30726d",
   "metadata": {},
   "outputs": [],
   "source": [
    "store.add_rules(mapped_rules)"
   ]
  },
  {
   "cell_type": "code",
   "execution_count": 34,
   "id": "79c79c4c-01a2-4648-b4b7-140fc8741bf7",
   "metadata": {},
   "outputs": [],
   "source": [
    "from cognite.neat.rules.transformers import InformationToDMS"
   ]
  },
  {
   "cell_type": "code",
   "execution_count": null,
   "id": "32366a23-592f-4d05-b683-30e7627e343b",
   "metadata": {},
   "outputs": [],
   "source": [
    "dms_rules = InformationToDMS().transform(mapped_rules)"
   ]
  },
  {
   "cell_type": "code",
   "execution_count": null,
   "id": "014b0c94-4ccd-4d64-89ef-1156b9c12c38",
   "metadata": {},
   "outputs": [],
   "source": [
    "exporters.DMSExporter().export_to_cdf(dms_rules, client, dry_run=True)"
   ]
  },
  {
   "cell_type": "code",
   "execution_count": 35,
   "id": "7716308d-2d14-466b-8db3-2cf9cd79a93a",
   "metadata": {},
   "outputs": [],
   "source": [
    "from cognite.neat.graph.loaders import DMSLoader"
   ]
  },
  {
   "cell_type": "code",
   "execution_count": null,
   "id": "fdf2e23b-6aa4-40e9-a676-b298414d3b69",
   "metadata": {},
   "outputs": [],
   "source": [
    "DMSLoader.from_rules(dms_rules, store, \"my_instance_space')"
   ]
  },
  {
   "cell_type": "code",
   "execution_count": null,
   "id": "fc34cd90-210e-402c-827c-fe7c4796d315",
   "metadata": {},
   "outputs": [],
   "source": []
  }
 ],
 "metadata": {
  "kernelspec": {
   "display_name": "Python 3 (ipykernel)",
   "language": "python",
   "name": "python3"
  },
  "language_info": {
   "codemirror_mode": {
    "name": "ipython",
    "version": 3
   },
   "file_extension": ".py",
   "mimetype": "text/x-python",
   "name": "python",
   "nbconvert_exporter": "python",
   "pygments_lexer": "ipython3",
   "version": "3.12.1"
  }
 },
 "nbformat": 4,
 "nbformat_minor": 5
}
