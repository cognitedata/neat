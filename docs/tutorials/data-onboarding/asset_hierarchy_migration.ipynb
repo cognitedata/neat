{
 "cells": [
  {
   "cell_type": "markdown",
   "id": "d8dd9ed4",
   "metadata": {},
   "source": [
    "# Asset Hierarchy Migration\n",
    "\n",
    "**Prerequisite**:\n",
    "\n",
    "- Access to a CDF Project.\n",
    "- Know how to install and setup Python.\n",
    "- Launch a Python notebook.\n",
    "\n",
    "\n",
    "\n",
    "In this tutorial, we will show you how to migrate an asset hierarchy to a data model representing the same hierarchy in CDF.\n",
    "\n",
    "This tutorial is also a good demonstration of the width of capabilities for neat, going from extracting data,\n",
    "creating a data model, export the data model, and load the data."
   ]
  },
  {
   "cell_type": "markdown",
   "id": "3df29838-9d86-4099-a07d-530a454b2a94",
   "metadata": {},
   "source": [
    "## Extract Data from Asset Hierarchy\n",
    "\n",
    "We will start by extracting the data from an existing asset hierarchy. \n",
    "\n",
    "The example we will use in this tutorial is an asset hierarchy for pumps, shown below in CDF's classic Data Exploration\n",
    "\n",
    "<img src=\"../../artifacts/figs/asset_hierarchy_lift_pump_stations.png\" width=\"400\">"
   ]
  },
  {
   "cell_type": "code",
   "execution_count": 1,
   "id": "b07c82e3-2940-4c31-8252-8fe96183c4ba",
   "metadata": {},
   "outputs": [],
   "source": [
    "from cognite.neat import NeatSession, get_cognite_client"
   ]
  },
  {
   "cell_type": "markdown",
   "id": "ecb953ac-5bd4-4de9-9efa-17319d9f2eba",
   "metadata": {},
   "source": [
    "We start by instansiating a new NeatSession"
   ]
  },
  {
   "cell_type": "code",
   "execution_count": 2,
   "id": "32ab99b9-fe20-48ce-be1f-56e28efc572d",
   "metadata": {},
   "outputs": [
    {
     "name": "stdout",
     "output_type": "stream",
     "text": [
      "Found .env file in repository root. Loaded variables from .env file.\n"
     ]
    }
   ],
   "source": [
    "client = get_cognite_client(\".env\")"
   ]
  },
  {
   "cell_type": "code",
   "execution_count": 3,
   "id": "f63c5b57-5402-42e9-af1e-3afd909a345c",
   "metadata": {},
   "outputs": [
    {
     "name": "stdout",
     "output_type": "stream",
     "text": [
      "Neat Engine 2.0.1 loaded.\n"
     ]
    },
    {
     "data": {
      "text/html": [
       "<strong>Empty session</strong>. Get started by reading something with the <em>.read</em> attribute."
      ],
      "text/plain": [
       "<cognite.neat._session._base.NeatSession at 0x21bb8d219d0>"
      ]
     },
     "execution_count": 3,
     "metadata": {},
     "output_type": "execute_result"
    }
   ],
   "source": [
    "neat = NeatSession(client, storage=\"memory\")\n",
    "neat"
   ]
  },
  {
   "cell_type": "code",
   "execution_count": 4,
   "id": "d5c652c4-a3a3-4763-b26e-4f8da4ebdf82",
   "metadata": {},
   "outputs": [
    {
     "data": {
      "application/vnd.jupyter.widget-view+json": {
       "model_id": "b0a759ac9c6144f39c5d8bd7d0b5d0cb",
       "version_major": 2,
       "version_minor": 0
      },
      "text/plain": [
       "Output()"
      ]
     },
     "metadata": {},
     "output_type": "display_data"
    },
    {
     "data": {
      "text/html": [
       "<pre style=\"white-space:pre;overflow-x:auto;line-height:normal;font-family:Menlo,'DejaVu Sans Mono',consolas,'Courier New',monospace\"></pre>\n"
      ],
      "text/plain": []
     },
     "metadata": {},
     "output_type": "display_data"
    },
    {
     "data": {
      "application/vnd.jupyter.widget-view+json": {
       "model_id": "4eb7fafb6de74d7abd295b6c5ab98257",
       "version_major": 2,
       "version_minor": 0
      },
      "text/plain": [
       "Output()"
      ]
     },
     "metadata": {},
     "output_type": "display_data"
    },
    {
     "data": {
      "text/html": [
       "<pre style=\"white-space:pre;overflow-x:auto;line-height:normal;font-family:Menlo,'DejaVu Sans Mono',consolas,'Courier New',monospace\"></pre>\n"
      ],
      "text/plain": []
     },
     "metadata": {},
     "output_type": "display_data"
    },
    {
     "data": {
      "application/vnd.jupyter.widget-view+json": {
       "model_id": "63fb0903a6fd42058664d97a7fff20dd",
       "version_major": 2,
       "version_minor": 0
      },
      "text/plain": [
       "Output()"
      ]
     },
     "metadata": {},
     "output_type": "display_data"
    },
    {
     "data": {
      "text/html": [
       "<pre style=\"white-space:pre;overflow-x:auto;line-height:normal;font-family:Menlo,'DejaVu Sans Mono',consolas,'Courier New',monospace\"></pre>\n"
      ],
      "text/plain": []
     },
     "metadata": {},
     "output_type": "display_data"
    },
    {
     "data": {
      "application/vnd.jupyter.widget-view+json": {
       "model_id": "6c15efb38d964c34844d835c6bc561e7",
       "version_major": 2,
       "version_minor": 0
      },
      "text/plain": [
       "Output()"
      ]
     },
     "metadata": {},
     "output_type": "display_data"
    },
    {
     "data": {
      "text/html": [
       "<pre style=\"white-space:pre;overflow-x:auto;line-height:normal;font-family:Menlo,'DejaVu Sans Mono',consolas,'Courier New',monospace\"></pre>\n"
      ],
      "text/plain": []
     },
     "metadata": {},
     "output_type": "display_data"
    },
    {
     "data": {
      "application/vnd.jupyter.widget-view+json": {
       "model_id": "bce0a895fb904313979051b160f7eb71",
       "version_major": 2,
       "version_minor": 0
      },
      "text/plain": [
       "Output()"
      ]
     },
     "metadata": {},
     "output_type": "display_data"
    },
    {
     "data": {
      "text/html": [
       "<pre style=\"white-space:pre;overflow-x:auto;line-height:normal;font-family:Menlo,'DejaVu Sans Mono',consolas,'Courier New',monospace\"></pre>\n"
      ],
      "text/plain": []
     },
     "metadata": {},
     "output_type": "display_data"
    },
    {
     "data": {
      "application/vnd.jupyter.widget-view+json": {
       "model_id": "91bb70bf93a048bd909d5e340fe19cfd",
       "version_major": 2,
       "version_minor": 0
      },
      "text/plain": [
       "Output()"
      ]
     },
     "metadata": {},
     "output_type": "display_data"
    },
    {
     "data": {
      "text/html": [
       "<pre style=\"white-space:pre;overflow-x:auto;line-height:normal;font-family:Menlo,'DejaVu Sans Mono',consolas,'Courier New',monospace\"></pre>\n"
      ],
      "text/plain": []
     },
     "metadata": {},
     "output_type": "display_data"
    },
    {
     "data": {
      "application/vnd.jupyter.widget-view+json": {
       "model_id": "adcc861ebdb946358436fe03fc8bec29",
       "version_major": 2,
       "version_minor": 0
      },
      "text/plain": [
       "Output()"
      ]
     },
     "metadata": {},
     "output_type": "display_data"
    },
    {
     "data": {
      "text/html": [
       "<pre style=\"white-space:pre;overflow-x:auto;line-height:normal;font-family:Menlo,'DejaVu Sans Mono',consolas,'Courier New',monospace\"></pre>\n"
      ],
      "text/plain": []
     },
     "metadata": {},
     "output_type": "display_data"
    },
    {
     "data": {
      "application/vnd.jupyter.widget-view+json": {
       "model_id": "9ce029a341184095a0f97b3365a62db4",
       "version_major": 2,
       "version_minor": 0
      },
      "text/plain": [
       "Output()"
      ]
     },
     "metadata": {},
     "output_type": "display_data"
    },
    {
     "data": {
      "text/html": [
       "<pre style=\"white-space:pre;overflow-x:auto;line-height:normal;font-family:Menlo,'DejaVu Sans Mono',consolas,'Courier New',monospace\"></pre>\n"
      ],
      "text/plain": []
     },
     "metadata": {},
     "output_type": "display_data"
    },
    {
     "data": {
      "application/vnd.jupyter.widget-view+json": {
       "model_id": "b67b5cbbc91340a4b55045e854c76178",
       "version_major": 2,
       "version_minor": 0
      },
      "text/plain": [
       "Output()"
      ]
     },
     "metadata": {},
     "output_type": "display_data"
    },
    {
     "data": {
      "text/html": [
       "<pre style=\"white-space:pre;overflow-x:auto;line-height:normal;font-family:Menlo,'DejaVu Sans Mono',consolas,'Courier New',monospace\"></pre>\n"
      ],
      "text/plain": []
     },
     "metadata": {},
     "output_type": "display_data"
    },
    {
     "name": "stdout",
     "output_type": "stream",
     "text": [
      "Classic Graph lift_pump_stations:root read successfully\n"
     ]
    }
   ],
   "source": [
    "neat.read.cdf.classic.graph(root_asset_external_id=\"lift_pump_stations:root\")"
   ]
  },
  {
   "cell_type": "code",
   "execution_count": 5,
   "id": "297cb3ee-f8a1-4358-a944-cc5cd3135413",
   "metadata": {},
   "outputs": [
    {
     "data": {
      "text/html": [
       "<H2>Instances</H2> <br /><strong>Overview</strong>:<ul><li>1 types</strong></li><li>245 instances</strong></li></ul><div>\n",
       "<style scoped>\n",
       "    .dataframe tbody tr th:only-of-type {\n",
       "        vertical-align: middle;\n",
       "    }\n",
       "\n",
       "    .dataframe tbody tr th {\n",
       "        vertical-align: top;\n",
       "    }\n",
       "\n",
       "    .dataframe thead th {\n",
       "        text-align: right;\n",
       "    }\n",
       "</style>\n",
       "<table border=\"1\" class=\"dataframe\">\n",
       "  <thead>\n",
       "    <tr style=\"text-align: right;\">\n",
       "      <th></th>\n",
       "      <th>Type</th>\n",
       "      <th>Occurrence</th>\n",
       "    </tr>\n",
       "  </thead>\n",
       "  <tbody>\n",
       "    <tr>\n",
       "      <th>0</th>\n",
       "      <td>Asset</td>\n",
       "      <td>245</td>\n",
       "    </tr>\n",
       "  </tbody>\n",
       "</table>\n",
       "</div><br /><strong>Provenance</strong>:<ul><li>Initialize graph store as Memory</li><li>Extracted triples to graph store using ClassicGraphExtractor</li><li>Extracted triples to graph store using ClassicGraphExtractor</li><li>Extracted triples to graph store using ClassicGraphExtractor</li><li>Extracted triples to graph store using ClassicGraphExtractor</li><li>Extracted triples to graph store using ClassicGraphExtractor</li><li>Extracted triples to graph store using ClassicGraphExtractor</li><li>Extracted triples to graph store using ClassicGraphExtractor</li><li>Extracted triples to graph store using ClassicGraphExtractor</li></ul>"
      ],
      "text/plain": [
       "<cognite.neat._session._base.NeatSession at 0x21bb8d219d0>"
      ]
     },
     "execution_count": 5,
     "metadata": {},
     "output_type": "execute_result"
    }
   ],
   "source": [
    "neat"
   ]
  },
  {
   "cell_type": "markdown",
   "id": "92516916-f408-4ab3-9850-24308b1a3ea3",
   "metadata": {},
   "source": [
    "## Infering Data Model from Data"
   ]
  },
  {
   "cell_type": "markdown",
   "id": "2134c28e-3c7c-430e-92af-21758f3fb03f",
   "metadata": {},
   "source": [
    "With the asset data in the store, we can now infer the data model"
   ]
  },
  {
   "cell_type": "code",
   "execution_count": 6,
   "id": "7cdc0d7e-14e8-4882-9a68-67030d41b39b",
   "metadata": {},
   "outputs": [
    {
     "data": {
      "text/html": [
       "<div>\n",
       "<style scoped>\n",
       "    .dataframe tbody tr th:only-of-type {\n",
       "        vertical-align: middle;\n",
       "    }\n",
       "\n",
       "    .dataframe tbody tr th {\n",
       "        vertical-align: top;\n",
       "    }\n",
       "\n",
       "    .dataframe thead th {\n",
       "        text-align: right;\n",
       "    }\n",
       "</style>\n",
       "<table border=\"1\" class=\"dataframe\">\n",
       "  <thead>\n",
       "    <tr style=\"text-align: right;\">\n",
       "      <th></th>\n",
       "      <th>count</th>\n",
       "    </tr>\n",
       "    <tr>\n",
       "      <th>NeatIssue</th>\n",
       "      <th></th>\n",
       "    </tr>\n",
       "  </thead>\n",
       "  <tbody>\n",
       "    <tr>\n",
       "      <th>PropertySkippedWarning</th>\n",
       "      <td>1</td>\n",
       "    </tr>\n",
       "    <tr>\n",
       "      <th>PropertyValueTypeUndefinedWarning</th>\n",
       "      <td>1</td>\n",
       "    </tr>\n",
       "  </tbody>\n",
       "</table>\n",
       "</div>"
      ],
      "text/plain": [
       "[PropertySkippedWarning(identifier='Asset:externalId', resource_type='Property', property_name='externalId', reason='External ID is assumed to be the unique identifier of the instance and is not part of the data model schema.'),\n",
       " PropertyValueTypeUndefinedWarning(identifier='Asset:dataSetId', resource_type='Property', property_name='dataSetId', default_action='Remove the property from the rules', recommended_action='Make sure that graph is complete')]"
      ]
     },
     "execution_count": 6,
     "metadata": {},
     "output_type": "execute_result"
    }
   ],
   "source": [
    "issues = neat.infer()\n",
    "issues"
   ]
  },
  {
   "cell_type": "markdown",
   "id": "4bd0aaea-6c5b-455b-8d93-f374544a3168",
   "metadata": {},
   "source": [
    "We see in the inference that there is a DataSet type we do not know about. However, this is just a warning we can  continue."
   ]
  },
  {
   "cell_type": "code",
   "execution_count": 7,
   "id": "02ff718a-5e18-4f8b-9e7b-db075b163db4",
   "metadata": {},
   "outputs": [
    {
     "name": "stdout",
     "output_type": "stream",
     "text": [
      "You can inspect the issues with the .inspect.issues(...) method.\n"
     ]
    },
    {
     "data": {
      "text/html": [
       "<div>\n",
       "<style scoped>\n",
       "    .dataframe tbody tr th:only-of-type {\n",
       "        vertical-align: middle;\n",
       "    }\n",
       "\n",
       "    .dataframe tbody tr th {\n",
       "        vertical-align: top;\n",
       "    }\n",
       "\n",
       "    .dataframe thead th {\n",
       "        text-align: right;\n",
       "    }\n",
       "</style>\n",
       "<table border=\"1\" class=\"dataframe\">\n",
       "  <thead>\n",
       "    <tr style=\"text-align: right;\">\n",
       "      <th></th>\n",
       "      <th>count</th>\n",
       "    </tr>\n",
       "    <tr>\n",
       "      <th>NeatIssue</th>\n",
       "      <th></th>\n",
       "    </tr>\n",
       "  </thead>\n",
       "  <tbody>\n",
       "    <tr>\n",
       "      <th>PropertySkippedWarning</th>\n",
       "      <td>1</td>\n",
       "    </tr>\n",
       "    <tr>\n",
       "      <th>PropertyValueTypeUndefinedWarning</th>\n",
       "      <td>1</td>\n",
       "    </tr>\n",
       "  </tbody>\n",
       "</table>\n",
       "</div>"
      ],
      "text/plain": [
       "[PropertySkippedWarning(identifier='Asset:externalId', resource_type='Property', property_name='externalId', reason='External ID is assumed to be the unique identifier of the instance and is not part of the data model schema.'),\n",
       " PropertyValueTypeUndefinedWarning(identifier='Asset:dataSetId', resource_type='Property', property_name='dataSetId', default_action='Remove the property from the rules', recommended_action='Make sure that graph is complete')]"
      ]
     },
     "execution_count": 7,
     "metadata": {},
     "output_type": "execute_result"
    }
   ],
   "source": [
    "neat.verify()"
   ]
  },
  {
   "cell_type": "markdown",
   "id": "ebb385e2-a7ff-4f97-b57e-98a21e5482a1",
   "metadata": {},
   "source": [
    "First we check if there were any issues with creating the rules, and we find one warning. This warning \n",
    "is that there is a property, `Shape__Length`, with a double underscore which is not recommended. However,\n",
    "we can continue."
   ]
  },
  {
   "cell_type": "markdown",
   "id": "d9c04324-145b-4d4c-af20-0800e0cef149",
   "metadata": {},
   "source": [
    "We can inspect the properies that has been inferred. "
   ]
  },
  {
   "cell_type": "code",
   "execution_count": 8,
   "id": "9f2cb4f8-4c20-400b-b35b-c766b23845af",
   "metadata": {},
   "outputs": [
    {
     "data": {
      "text/html": [
       "<div>\n",
       "<style scoped>\n",
       "    .dataframe tbody tr th:only-of-type {\n",
       "        vertical-align: middle;\n",
       "    }\n",
       "\n",
       "    .dataframe tbody tr th {\n",
       "        vertical-align: top;\n",
       "    }\n",
       "\n",
       "    .dataframe thead th {\n",
       "        text-align: right;\n",
       "    }\n",
       "</style>\n",
       "<table border=\"1\" class=\"dataframe\">\n",
       "  <thead>\n",
       "    <tr style=\"text-align: right;\">\n",
       "      <th></th>\n",
       "      <th>neatId</th>\n",
       "      <th>class_</th>\n",
       "      <th>property_</th>\n",
       "      <th>value_type</th>\n",
       "      <th>max_count</th>\n",
       "      <th>transformation</th>\n",
       "    </tr>\n",
       "  </thead>\n",
       "  <tbody>\n",
       "    <tr>\n",
       "      <th>0</th>\n",
       "      <td>http://purl.org/cognite/neat/neatId_ed58528a_9...</td>\n",
       "      <td>neat_space:Asset</td>\n",
       "      <td>metadata</td>\n",
       "      <td>json</td>\n",
       "      <td>1</td>\n",
       "      <td>prefix_1:Asset(prefix_1:metadata)</td>\n",
       "    </tr>\n",
       "    <tr>\n",
       "      <th>1</th>\n",
       "      <td>http://purl.org/cognite/neat/neatId_05f05fcb_a...</td>\n",
       "      <td>neat_space:Asset</td>\n",
       "      <td>name</td>\n",
       "      <td>string</td>\n",
       "      <td>1</td>\n",
       "      <td>prefix_1:Asset(prefix_1:name)</td>\n",
       "    </tr>\n",
       "    <tr>\n",
       "      <th>2</th>\n",
       "      <td>http://purl.org/cognite/neat/neatId_ddc51d73_8...</td>\n",
       "      <td>neat_space:Asset</td>\n",
       "      <td>parentId</td>\n",
       "      <td>neat_space:Asset</td>\n",
       "      <td>1</td>\n",
       "      <td>prefix_1:Asset(prefix_1:parentId)</td>\n",
       "    </tr>\n",
       "    <tr>\n",
       "      <th>3</th>\n",
       "      <td>http://purl.org/cognite/neat/neatId_965a5189_b...</td>\n",
       "      <td>neat_space:Asset</td>\n",
       "      <td>description</td>\n",
       "      <td>string</td>\n",
       "      <td>1</td>\n",
       "      <td>prefix_1:Asset(prefix_1:description)</td>\n",
       "    </tr>\n",
       "    <tr>\n",
       "      <th>4</th>\n",
       "      <td>http://purl.org/cognite/neat/neatId_72910fbb_f...</td>\n",
       "      <td>neat_space:Asset</td>\n",
       "      <td>dataSetId</td>\n",
       "      <td>anyURI</td>\n",
       "      <td>1</td>\n",
       "      <td>prefix_1:Asset(prefix_1:dataSetId)</td>\n",
       "    </tr>\n",
       "  </tbody>\n",
       "</table>\n",
       "</div>"
      ],
      "text/plain": [
       "                                              neatId            class_  \\\n",
       "0  http://purl.org/cognite/neat/neatId_ed58528a_9...  neat_space:Asset   \n",
       "1  http://purl.org/cognite/neat/neatId_05f05fcb_a...  neat_space:Asset   \n",
       "2  http://purl.org/cognite/neat/neatId_ddc51d73_8...  neat_space:Asset   \n",
       "3  http://purl.org/cognite/neat/neatId_965a5189_b...  neat_space:Asset   \n",
       "4  http://purl.org/cognite/neat/neatId_72910fbb_f...  neat_space:Asset   \n",
       "\n",
       "     property_        value_type  max_count  \\\n",
       "0     metadata              json          1   \n",
       "1         name            string          1   \n",
       "2     parentId  neat_space:Asset          1   \n",
       "3  description            string          1   \n",
       "4    dataSetId            anyURI          1   \n",
       "\n",
       "                         transformation  \n",
       "0     prefix_1:Asset(prefix_1:metadata)  \n",
       "1         prefix_1:Asset(prefix_1:name)  \n",
       "2     prefix_1:Asset(prefix_1:parentId)  \n",
       "3  prefix_1:Asset(prefix_1:description)  \n",
       "4    prefix_1:Asset(prefix_1:dataSetId)  "
      ]
     },
     "execution_count": 8,
     "metadata": {},
     "output_type": "execute_result"
    }
   ],
   "source": [
    "neat.inspect.properties"
   ]
  },
  {
   "cell_type": "markdown",
   "id": "80b97340-90b2-4c79-9a97-326113721ee8",
   "metadata": {},
   "source": [
    "## Exporting Data Model"
   ]
  },
  {
   "cell_type": "markdown",
   "id": "9ca8d5c2-333d-4ff3-8ee6-e27058c730fb",
   "metadata": {},
   "source": [
    "Lets export our newly created data model to CDF. First, we need to convert it to an phsycial format."
   ]
  },
  {
   "cell_type": "code",
   "execution_count": 10,
   "id": "01031b7f-0707-4818-90de-c406132dd56c",
   "metadata": {},
   "outputs": [
    {
     "name": "stdout",
     "output_type": "stream",
     "text": [
      "Rules converted to dms\n"
     ]
    },
    {
     "data": {
      "text/html": [
       "<p>'No issues found'</p>"
      ],
      "text/plain": [
       "[]"
      ]
     },
     "execution_count": 10,
     "metadata": {},
     "output_type": "execute_result"
    }
   ],
   "source": [
    "neat.convert(\"dms\")"
   ]
  },
  {
   "cell_type": "code",
   "execution_count": 11,
   "id": "eabc33ff-b178-48be-b1f1-6569c1fdd860",
   "metadata": {},
   "outputs": [
    {
     "data": {
      "text/html": [
       "<H2>Verified Data Model</H2><br /><div>\n",
       "<style scoped>\n",
       "    .dataframe tbody tr th:only-of-type {\n",
       "        vertical-align: middle;\n",
       "    }\n",
       "\n",
       "    .dataframe tbody tr th {\n",
       "        vertical-align: top;\n",
       "    }\n",
       "\n",
       "    .dataframe thead th {\n",
       "        text-align: right;\n",
       "    }\n",
       "</style>\n",
       "<table border=\"1\" class=\"dataframe\">\n",
       "  <thead>\n",
       "    <tr style=\"text-align: right;\">\n",
       "      <th></th>\n",
       "      <th></th>\n",
       "    </tr>\n",
       "  </thead>\n",
       "  <tbody>\n",
       "    <tr>\n",
       "      <th>aspect</th>\n",
       "      <td>physical</td>\n",
       "    </tr>\n",
       "    <tr>\n",
       "      <th>intended for</th>\n",
       "      <td>DMS Architect</td>\n",
       "    </tr>\n",
       "    <tr>\n",
       "      <th>name</th>\n",
       "      <td>Inferred Model</td>\n",
       "    </tr>\n",
       "    <tr>\n",
       "      <th>space</th>\n",
       "      <td>neat_space</td>\n",
       "    </tr>\n",
       "    <tr>\n",
       "      <th>external_id</th>\n",
       "      <td>NeatInferredDataModel</td>\n",
       "    </tr>\n",
       "    <tr>\n",
       "      <th>version</th>\n",
       "      <td>v1</td>\n",
       "    </tr>\n",
       "    <tr>\n",
       "      <th>views</th>\n",
       "      <td>1</td>\n",
       "    </tr>\n",
       "    <tr>\n",
       "      <th>containers</th>\n",
       "      <td>1</td>\n",
       "    </tr>\n",
       "    <tr>\n",
       "      <th>properties</th>\n",
       "      <td>5</td>\n",
       "    </tr>\n",
       "  </tbody>\n",
       "</table>\n",
       "</div><br /><H2>Instances</H2> <br /><strong>Overview</strong>:<ul><li>1 types</strong></li><li>245 instances</strong></li></ul><div>\n",
       "<style scoped>\n",
       "    .dataframe tbody tr th:only-of-type {\n",
       "        vertical-align: middle;\n",
       "    }\n",
       "\n",
       "    .dataframe tbody tr th {\n",
       "        vertical-align: top;\n",
       "    }\n",
       "\n",
       "    .dataframe thead th {\n",
       "        text-align: right;\n",
       "    }\n",
       "</style>\n",
       "<table border=\"1\" class=\"dataframe\">\n",
       "  <thead>\n",
       "    <tr style=\"text-align: right;\">\n",
       "      <th></th>\n",
       "      <th>Type</th>\n",
       "      <th>Occurrence</th>\n",
       "    </tr>\n",
       "  </thead>\n",
       "  <tbody>\n",
       "    <tr>\n",
       "      <th>0</th>\n",
       "      <td>Asset</td>\n",
       "      <td>245</td>\n",
       "    </tr>\n",
       "  </tbody>\n",
       "</table>\n",
       "</div><br /><strong>Provenance</strong>:<ul><li>Initialize graph store as Memory</li><li>Extracted triples to graph store using ClassicGraphExtractor</li><li>Extracted triples to graph store using ClassicGraphExtractor</li><li>Extracted triples to graph store using ClassicGraphExtractor</li><li>Extracted triples to graph store using ClassicGraphExtractor</li><li>Extracted triples to graph store using ClassicGraphExtractor</li><li>Extracted triples to graph store using ClassicGraphExtractor</li><li>Extracted triples to graph store using ClassicGraphExtractor</li><li>Extracted triples to graph store using ClassicGraphExtractor</li><li>Added rules to graph store as InformationRules</li><li>Upsert prefixes to graph store</li></ul>"
      ],
      "text/plain": [
       "<cognite.neat._session._base.NeatSession at 0x21bb8d219d0>"
      ]
     },
     "execution_count": 11,
     "metadata": {},
     "output_type": "execute_result"
    }
   ],
   "source": [
    "neat"
   ]
  },
  {
   "cell_type": "code",
   "execution_count": 12,
   "id": "7b8a9743-796b-4537-8b71-89c8f1b3a5fc",
   "metadata": {},
   "outputs": [
    {
     "data": {
      "text/html": [
       "<div>\n",
       "<style scoped>\n",
       "    .dataframe tbody tr th:only-of-type {\n",
       "        vertical-align: middle;\n",
       "    }\n",
       "\n",
       "    .dataframe tbody tr th {\n",
       "        vertical-align: top;\n",
       "    }\n",
       "\n",
       "    .dataframe thead th {\n",
       "        text-align: right;\n",
       "    }\n",
       "</style>\n",
       "<table border=\"1\" class=\"dataframe\">\n",
       "  <thead>\n",
       "    <tr style=\"text-align: right;\">\n",
       "      <th></th>\n",
       "      <th>name</th>\n",
       "      <th>created</th>\n",
       "    </tr>\n",
       "  </thead>\n",
       "  <tbody>\n",
       "    <tr>\n",
       "      <th>0</th>\n",
       "      <td>spaces</td>\n",
       "      <td>1</td>\n",
       "    </tr>\n",
       "    <tr>\n",
       "      <th>1</th>\n",
       "      <td>containers</td>\n",
       "      <td>1</td>\n",
       "    </tr>\n",
       "    <tr>\n",
       "      <th>2</th>\n",
       "      <td>views</td>\n",
       "      <td>1</td>\n",
       "    </tr>\n",
       "    <tr>\n",
       "      <th>3</th>\n",
       "      <td>data_models</td>\n",
       "      <td>1</td>\n",
       "    </tr>\n",
       "  </tbody>\n",
       "</table>\n",
       "</div>"
      ],
      "text/plain": [
       "[UploadResult(name='spaces', error_messages=[], issues=[], created={'inference_space'}, upserted=set(), deleted=set(), changed=set(), unchanged=set(), skipped=set(), failed_created=set(), failed_upserted=set(), failed_changed=set(), failed_deleted=set()),\n",
       " UploadResult(name='containers', error_messages=[], issues=[], created={ContainerId(space='inference_space', external_id='Asset')}, upserted=set(), deleted=set(), changed=set(), unchanged=set(), skipped=set(), failed_created=set(), failed_upserted=set(), failed_changed=set(), failed_deleted=set()),\n",
       " UploadResult(name='views', error_messages=[], issues=[], created={ViewId(space='inference_space', external_id='Asset', version='v1')}, upserted=set(), deleted=set(), changed=set(), unchanged=set(), skipped=set(), failed_created=set(), failed_upserted=set(), failed_changed=set(), failed_deleted=set()),\n",
       " UploadResult(name='data_models', error_messages=[], issues=[], created={DataModelId(space='inference_space', external_id='inferreddatamodel', version='v1')}, upserted=set(), deleted=set(), changed=set(), unchanged=set(), skipped=set(), failed_created=set(), failed_upserted=set(), failed_changed=set(), failed_deleted=set())]"
      ]
     },
     "execution_count": 12,
     "metadata": {},
     "output_type": "execute_result"
    }
   ],
   "source": [
    "neat.to.cdf.data_model()"
   ]
  },
  {
   "cell_type": "markdown",
   "id": "bd2035ef-0245-4d81-bced-ad1cc5cd6146",
   "metadata": {},
   "source": [
    "We see the data model was succesfully created."
   ]
  },
  {
   "cell_type": "markdown",
   "id": "13f75cfa-d61c-42c1-8c8e-dff153b95a50",
   "metadata": {},
   "source": [
    "## Populating Data Model"
   ]
  },
  {
   "cell_type": "markdown",
   "id": "13f6ebad-367e-4f3f-907f-d51c4f233091",
   "metadata": {},
   "source": [
    "As the data model is ready, we can move the instances to CDF "
   ]
  },
  {
   "cell_type": "code",
   "execution_count": 16,
   "id": "824790ec-205d-4905-a746-9076b22401c6",
   "metadata": {},
   "outputs": [
    {
     "data": {
      "text/html": [
       "<div>\n",
       "<style scoped>\n",
       "    .dataframe tbody tr th:only-of-type {\n",
       "        vertical-align: middle;\n",
       "    }\n",
       "\n",
       "    .dataframe tbody tr th {\n",
       "        vertical-align: top;\n",
       "    }\n",
       "\n",
       "    .dataframe thead th {\n",
       "        text-align: right;\n",
       "    }\n",
       "</style>\n",
       "<table border=\"1\" class=\"dataframe\">\n",
       "  <thead>\n",
       "    <tr style=\"text-align: right;\">\n",
       "      <th></th>\n",
       "      <th>name</th>\n",
       "      <th>changed</th>\n",
       "    </tr>\n",
       "  </thead>\n",
       "  <tbody>\n",
       "    <tr>\n",
       "      <th>0</th>\n",
       "      <td>Nodes</td>\n",
       "      <td>245.0</td>\n",
       "    </tr>\n",
       "    <tr>\n",
       "      <th>1</th>\n",
       "      <td>Edges</td>\n",
       "      <td>NaN</td>\n",
       "    </tr>\n",
       "  </tbody>\n",
       "</table>\n",
       "</div>"
      ],
      "text/plain": [
       "[UploadResult(name='Nodes', error_messages=[], issues=[], created=set(), upserted=set(), deleted=set(), changed={NodeId(space='sp_pump_station', external_id='Asset_4552624840004426'), NodeId(space='sp_pump_station', external_id='Asset_6416891387482527'), NodeId(space='sp_pump_station', external_id='Asset_1249607927059004'), NodeId(space='sp_pump_station', external_id='Asset_3280739856601792'), NodeId(space='sp_pump_station', external_id='Asset_7478847799313763'), NodeId(space='sp_pump_station', external_id='Asset_7412273070008116'), NodeId(space='sp_pump_station', external_id='Asset_8146710551744753'), NodeId(space='sp_pump_station', external_id='Asset_1357508377455386'), NodeId(space='sp_pump_station', external_id='Asset_7203345045002373'), NodeId(space='sp_pump_station', external_id='Asset_690992856868092'), NodeId(space='sp_pump_station', external_id='Asset_782919551178381'), NodeId(space='sp_pump_station', external_id='Asset_8149656736332002'), NodeId(space='sp_pump_station', external_id='Asset_7892354435770575'), NodeId(space='sp_pump_station', external_id='Asset_409408085016912'), NodeId(space='sp_pump_station', external_id='Asset_5007277578782055'), NodeId(space='sp_pump_station', external_id='Asset_520686293117320'), NodeId(space='sp_pump_station', external_id='Asset_7478288481786780'), NodeId(space='sp_pump_station', external_id='Asset_6451825071660398'), NodeId(space='sp_pump_station', external_id='Asset_3790466002578495'), NodeId(space='sp_pump_station', external_id='Asset_663950299702707'), NodeId(space='sp_pump_station', external_id='Asset_1432498771938483'), NodeId(space='sp_pump_station', external_id='Asset_777675583540505'), NodeId(space='sp_pump_station', external_id='Asset_8628246215971298'), NodeId(space='sp_pump_station', external_id='Asset_4982518105700769'), NodeId(space='sp_pump_station', external_id='Asset_3167103698462272'), NodeId(space='sp_pump_station', external_id='Asset_4827422846791984'), NodeId(space='sp_pump_station', external_id='Asset_2332136792376110'), NodeId(space='sp_pump_station', external_id='Asset_3586569534260203'), NodeId(space='sp_pump_station', external_id='Asset_4198593876687587'), NodeId(space='sp_pump_station', external_id='Asset_1575285876968678'), NodeId(space='sp_pump_station', external_id='Asset_4356678455013717'), NodeId(space='sp_pump_station', external_id='Asset_323324050354647'), NodeId(space='sp_pump_station', external_id='Asset_7858499984800024'), NodeId(space='sp_pump_station', external_id='Asset_5991677408633367'), NodeId(space='sp_pump_station', external_id='Asset_1869006072570857'), NodeId(space='sp_pump_station', external_id='Asset_8843530297877179'), NodeId(space='sp_pump_station', external_id='Asset_3309648858394308'), NodeId(space='sp_pump_station', external_id='Asset_7894177745270490'), NodeId(space='sp_pump_station', external_id='Asset_8858634333103219'), NodeId(space='sp_pump_station', external_id='Asset_1648354084107813'), NodeId(space='sp_pump_station', external_id='Asset_3659337637509008'), NodeId(space='sp_pump_station', external_id='Asset_2798673936255507'), NodeId(space='sp_pump_station', external_id='Asset_4822096456178490'), NodeId(space='sp_pump_station', external_id='Asset_5087293594250586'), NodeId(space='sp_pump_station', external_id='Asset_6664824877870138'), NodeId(space='sp_pump_station', external_id='Asset_5428549865274207'), NodeId(space='sp_pump_station', external_id='Asset_1324043696796177'), NodeId(space='sp_pump_station', external_id='Asset_5130211688970126'), NodeId(space='sp_pump_station', external_id='Asset_962578142683188'), NodeId(space='sp_pump_station', external_id='Asset_5131927739646770'), NodeId(space='sp_pump_station', external_id='Asset_7850022972804616'), NodeId(space='sp_pump_station', external_id='Asset_8210406762466554'), NodeId(space='sp_pump_station', external_id='Asset_3253702221176761'), NodeId(space='sp_pump_station', external_id='Asset_8319154213336032'), NodeId(space='sp_pump_station', external_id='Asset_2738034707487198'), NodeId(space='sp_pump_station', external_id='Asset_1599542126336595'), NodeId(space='sp_pump_station', external_id='Asset_597713956124653'), NodeId(space='sp_pump_station', external_id='Asset_3009457875737229'), NodeId(space='sp_pump_station', external_id='Asset_6841838289417335'), NodeId(space='sp_pump_station', external_id='Asset_4226675102638478'), NodeId(space='sp_pump_station', external_id='Asset_4582156459236482'), NodeId(space='sp_pump_station', external_id='Asset_3555954990835329'), NodeId(space='sp_pump_station', external_id='Asset_2383890056251078'), NodeId(space='sp_pump_station', external_id='Asset_6700162977207830'), NodeId(space='sp_pump_station', external_id='Asset_3718586005996830'), NodeId(space='sp_pump_station', external_id='Asset_7136850922305786'), NodeId(space='sp_pump_station', external_id='Asset_3202643099427992'), NodeId(space='sp_pump_station', external_id='Asset_7098679359189829'), NodeId(space='sp_pump_station', external_id='Asset_6717164076357170'), NodeId(space='sp_pump_station', external_id='Asset_5168608124271064'), NodeId(space='sp_pump_station', external_id='Asset_4712097420257305'), NodeId(space='sp_pump_station', external_id='Asset_449616738664544'), NodeId(space='sp_pump_station', external_id='Asset_6264128498357271'), NodeId(space='sp_pump_station', external_id='Asset_7946696422000355'), NodeId(space='sp_pump_station', external_id='Asset_1036635642295968'), NodeId(space='sp_pump_station', external_id='Asset_2648639705661733'), NodeId(space='sp_pump_station', external_id='Asset_862846106956486'), NodeId(space='sp_pump_station', external_id='Asset_522426732998405'), NodeId(space='sp_pump_station', external_id='Asset_8523137874354911'), NodeId(space='sp_pump_station', external_id='Asset_1194729803680100'), NodeId(space='sp_pump_station', external_id='Asset_5547362797792188'), NodeId(space='sp_pump_station', external_id='Asset_6410548171595891'), NodeId(space='sp_pump_station', external_id='Asset_6643904356520272'), NodeId(space='sp_pump_station', external_id='Asset_5687470951999200'), NodeId(space='sp_pump_station', external_id='Asset_2534347363555646'), NodeId(space='sp_pump_station', external_id='Asset_4611308323382841'), NodeId(space='sp_pump_station', external_id='Asset_5155311610956039'), NodeId(space='sp_pump_station', external_id='Asset_1038381373070659'), NodeId(space='sp_pump_station', external_id='Asset_8796025392183616'), NodeId(space='sp_pump_station', external_id='Asset_1251681124138604'), NodeId(space='sp_pump_station', external_id='Asset_2252447920800496'), NodeId(space='sp_pump_station', external_id='Asset_4282637232083446'), NodeId(space='sp_pump_station', external_id='Asset_3927731196795261'), NodeId(space='sp_pump_station', external_id='Asset_7528927086455056'), NodeId(space='sp_pump_station', external_id='Asset_5413774089595059'), NodeId(space='sp_pump_station', external_id='Asset_3282403756294926'), NodeId(space='sp_pump_station', external_id='Asset_7245358762439012'), NodeId(space='sp_pump_station', external_id='Asset_3947736878768533'), NodeId(space='sp_pump_station', external_id='Asset_23921452012034'), NodeId(space='sp_pump_station', external_id='Asset_2094973082337502'), NodeId(space='sp_pump_station', external_id='Asset_3742073732470345'), NodeId(space='sp_pump_station', external_id='Asset_3281981391093912'), NodeId(space='sp_pump_station', external_id='Asset_5135123609065026'), NodeId(space='sp_pump_station', external_id='Asset_7806404385295025'), NodeId(space='sp_pump_station', external_id='Asset_2879000772727558'), NodeId(space='sp_pump_station', external_id='Asset_5328233515028106'), NodeId(space='sp_pump_station', external_id='Asset_3183377929919962'), NodeId(space='sp_pump_station', external_id='Asset_2041897821048926'), NodeId(space='sp_pump_station', external_id='Asset_791284880355712'), NodeId(space='sp_pump_station', external_id='Asset_8855980446983123'), NodeId(space='sp_pump_station', external_id='Asset_2086072639670581'), NodeId(space='sp_pump_station', external_id='Asset_8222636825254386'), NodeId(space='sp_pump_station', external_id='Asset_127734001123260'), NodeId(space='sp_pump_station', external_id='Asset_8058069339001352'), NodeId(space='sp_pump_station', external_id='Asset_4891974892606772'), NodeId(space='sp_pump_station', external_id='Asset_6564758760526211'), NodeId(space='sp_pump_station', external_id='Asset_2508670135160060'), NodeId(space='sp_pump_station', external_id='Asset_6819169398550305'), NodeId(space='sp_pump_station', external_id='Asset_4161802645953289'), NodeId(space='sp_pump_station', external_id='Asset_771688114151184'), NodeId(space='sp_pump_station', external_id='Asset_1328367249298685'), NodeId(space='sp_pump_station', external_id='Asset_673071391885663'), NodeId(space='sp_pump_station', external_id='Asset_3192880850822919'), NodeId(space='sp_pump_station', external_id='Asset_2990577136288617'), NodeId(space='sp_pump_station', external_id='Asset_7267922459333514'), NodeId(space='sp_pump_station', external_id='Asset_1225335557735852'), NodeId(space='sp_pump_station', external_id='Asset_2109398666822135'), NodeId(space='sp_pump_station', external_id='Asset_2460227122870007'), NodeId(space='sp_pump_station', external_id='Asset_8724043116543799'), NodeId(space='sp_pump_station', external_id='Asset_5333316208400622'), NodeId(space='sp_pump_station', external_id='Asset_4072884896428048'), NodeId(space='sp_pump_station', external_id='Asset_1304177008138755'), NodeId(space='sp_pump_station', external_id='Asset_765927258989033'), NodeId(space='sp_pump_station', external_id='Asset_5715782298837748'), NodeId(space='sp_pump_station', external_id='Asset_227176319156396'), NodeId(space='sp_pump_station', external_id='Asset_7004541113243114'), NodeId(space='sp_pump_station', external_id='Asset_3322086940842206'), NodeId(space='sp_pump_station', external_id='Asset_3515282769165525'), NodeId(space='sp_pump_station', external_id='Asset_6276047304545772'), NodeId(space='sp_pump_station', external_id='Asset_8553994241961892'), NodeId(space='sp_pump_station', external_id='Asset_2511536057605256'), NodeId(space='sp_pump_station', external_id='Asset_3814858014848944'), NodeId(space='sp_pump_station', external_id='Asset_8504798483669198'), NodeId(space='sp_pump_station', external_id='Asset_8526018147369023'), NodeId(space='sp_pump_station', external_id='Asset_996835369435603'), NodeId(space='sp_pump_station', external_id='Asset_3912512319616642'), NodeId(space='sp_pump_station', external_id='Asset_8236357046250336'), NodeId(space='sp_pump_station', external_id='Asset_8786745865150192'), NodeId(space='sp_pump_station', external_id='Asset_5019118534073978'), NodeId(space='sp_pump_station', external_id='Asset_8349112794292547'), NodeId(space='sp_pump_station', external_id='Asset_7062323820650437'), NodeId(space='sp_pump_station', external_id='Asset_1350559385255241'), NodeId(space='sp_pump_station', external_id='Asset_4776644471418856'), NodeId(space='sp_pump_station', external_id='Asset_4139420867004251'), NodeId(space='sp_pump_station', external_id='Asset_8786769086021865'), NodeId(space='sp_pump_station', external_id='Asset_813431221291430'), NodeId(space='sp_pump_station', external_id='Asset_8393774212294989'), NodeId(space='sp_pump_station', external_id='Asset_720243198469901'), NodeId(space='sp_pump_station', external_id='Asset_6037474207471867'), NodeId(space='sp_pump_station', external_id='Asset_1864313623913141'), NodeId(space='sp_pump_station', external_id='Asset_8056653045323204'), NodeId(space='sp_pump_station', external_id='Asset_8706147153757321'), NodeId(space='sp_pump_station', external_id='Asset_8068837493233743'), NodeId(space='sp_pump_station', external_id='Asset_1062857167709404'), NodeId(space='sp_pump_station', external_id='Asset_3543366413287754'), NodeId(space='sp_pump_station', external_id='Asset_1717136324291166'), NodeId(space='sp_pump_station', external_id='Asset_5076110772903317'), NodeId(space='sp_pump_station', external_id='Asset_6499093917037259'), NodeId(space='sp_pump_station', external_id='Asset_8677060254799529'), NodeId(space='sp_pump_station', external_id='Asset_4232408171704947'), NodeId(space='sp_pump_station', external_id='Asset_1336187237481974'), NodeId(space='sp_pump_station', external_id='Asset_7266418315229309'), NodeId(space='sp_pump_station', external_id='Asset_3543745228672494'), NodeId(space='sp_pump_station', external_id='Asset_5773835011768211'), NodeId(space='sp_pump_station', external_id='Asset_4093409240484544'), NodeId(space='sp_pump_station', external_id='Asset_2084401469825731'), NodeId(space='sp_pump_station', external_id='Asset_111670655968193'), NodeId(space='sp_pump_station', external_id='Asset_2622548696369535'), NodeId(space='sp_pump_station', external_id='Asset_1994529305403431'), NodeId(space='sp_pump_station', external_id='Asset_8233413405577277'), NodeId(space='sp_pump_station', external_id='Asset_3452092217821423'), NodeId(space='sp_pump_station', external_id='Asset_3925087570184060'), NodeId(space='sp_pump_station', external_id='Asset_165156832820784'), NodeId(space='sp_pump_station', external_id='Asset_836522380797694'), NodeId(space='sp_pump_station', external_id='Asset_682395660264665'), NodeId(space='sp_pump_station', external_id='Asset_2023737592746820'), NodeId(space='sp_pump_station', external_id='Asset_6495798019337129'), NodeId(space='sp_pump_station', external_id='Asset_413299123404753'), NodeId(space='sp_pump_station', external_id='Asset_385619558573894'), NodeId(space='sp_pump_station', external_id='Asset_6779172796182945'), NodeId(space='sp_pump_station', external_id='Asset_2479470568519150'), NodeId(space='sp_pump_station', external_id='Asset_8536226378041620'), NodeId(space='sp_pump_station', external_id='Asset_6641759103584656'), NodeId(space='sp_pump_station', external_id='Asset_6614542201323700'), NodeId(space='sp_pump_station', external_id='Asset_8279593367922084'), NodeId(space='sp_pump_station', external_id='Asset_2395276745188968'), NodeId(space='sp_pump_station', external_id='Asset_465559698381891'), NodeId(space='sp_pump_station', external_id='Asset_8878199396116383'), NodeId(space='sp_pump_station', external_id='Asset_5545507452452289'), NodeId(space='sp_pump_station', external_id='Asset_7047173837936574'), NodeId(space='sp_pump_station', external_id='Asset_8925755907669641'), NodeId(space='sp_pump_station', external_id='Asset_3015520698705176'), NodeId(space='sp_pump_station', external_id='Asset_1424210982323954'), NodeId(space='sp_pump_station', external_id='Asset_2011390888860506'), NodeId(space='sp_pump_station', external_id='Asset_6391337840888778'), NodeId(space='sp_pump_station', external_id='Asset_8465364910017703'), NodeId(space='sp_pump_station', external_id='Asset_1179620013510534'), NodeId(space='sp_pump_station', external_id='Asset_4030282795820257'), NodeId(space='sp_pump_station', external_id='Asset_4752540074534822'), NodeId(space='sp_pump_station', external_id='Asset_3886073802761259'), NodeId(space='sp_pump_station', external_id='Asset_2046186730180729'), NodeId(space='sp_pump_station', external_id='Asset_8064479308748326'), NodeId(space='sp_pump_station', external_id='Asset_1774832114371582'), NodeId(space='sp_pump_station', external_id='Asset_7434639041955664'), NodeId(space='sp_pump_station', external_id='Asset_4261713708156963'), NodeId(space='sp_pump_station', external_id='Asset_8906381697072008'), NodeId(space='sp_pump_station', external_id='Asset_2336737113812249'), NodeId(space='sp_pump_station', external_id='Asset_6480569031884264'), NodeId(space='sp_pump_station', external_id='Asset_8890997887425292'), NodeId(space='sp_pump_station', external_id='Asset_5041263389346470'), NodeId(space='sp_pump_station', external_id='Asset_2614391887415841'), NodeId(space='sp_pump_station', external_id='Asset_756443337825960'), NodeId(space='sp_pump_station', external_id='Asset_1037825783121772'), NodeId(space='sp_pump_station', external_id='Asset_6781772664404616'), NodeId(space='sp_pump_station', external_id='Asset_7523396261491280'), NodeId(space='sp_pump_station', external_id='Asset_2736664555336384'), NodeId(space='sp_pump_station', external_id='Asset_779363703909879'), NodeId(space='sp_pump_station', external_id='Asset_8808794232286601'), NodeId(space='sp_pump_station', external_id='Asset_2659669230977122'), NodeId(space='sp_pump_station', external_id='Asset_6996457070033380'), NodeId(space='sp_pump_station', external_id='Asset_7836353321625289'), NodeId(space='sp_pump_station', external_id='Asset_5281038386138027'), NodeId(space='sp_pump_station', external_id='Asset_1602743241841442'), NodeId(space='sp_pump_station', external_id='Asset_1496076023751088'), NodeId(space='sp_pump_station', external_id='Asset_6004900365929538'), NodeId(space='sp_pump_station', external_id='Asset_4487513710880340'), NodeId(space='sp_pump_station', external_id='Asset_7516256968258946'), NodeId(space='sp_pump_station', external_id='Asset_8174955310442028'), NodeId(space='sp_pump_station', external_id='Asset_8481426694002548'), NodeId(space='sp_pump_station', external_id='Asset_8770242167137269'), NodeId(space='sp_pump_station', external_id='Asset_285703678588887'), NodeId(space='sp_pump_station', external_id='Asset_3966852611906380'), NodeId(space='sp_pump_station', external_id='Asset_81467243787762'), NodeId(space='sp_pump_station', external_id='Asset_269634716915797'), NodeId(space='sp_pump_station', external_id='Asset_2849528494272170')}, unchanged=set(), skipped=set(), failed_created=set(), failed_upserted=set(), failed_changed=set(), failed_deleted=set()),\n",
       " UploadResult(name='Edges', error_messages=[], issues=[], created=set(), upserted=set(), deleted=set(), changed=set(), unchanged=set(), skipped=set(), failed_created=set(), failed_upserted=set(), failed_changed=set(), failed_deleted=set())]"
      ]
     },
     "execution_count": 16,
     "metadata": {},
     "output_type": "execute_result"
    }
   ],
   "source": [
    "neat.to.cdf.instances()"
   ]
  },
  {
   "cell_type": "markdown",
   "id": "1b67f189-17b9-44e7-b43f-286f95708dea",
   "metadata": {},
   "source": [
    "As we see from the result above, Neat has created 245 Nodes in the new data model."
   ]
  },
  {
   "cell_type": "markdown",
   "id": "e9cf8808-f940-4ffc-91d0-4bfdcc36524f",
   "metadata": {},
   "source": [
    "## Results"
   ]
  },
  {
   "cell_type": "markdown",
   "id": "ff361f69-e916-493c-ab73-3c3c2777084b",
   "metadata": {},
   "source": [
    "We can now go into CDF and inspect the results. Looking at the data model we created, we can see the schema for\n",
    "the inferred Asset\n",
    "\n",
    "<img src=\"../../artifacts/figs/asset_hierarchy_lift_pump_stations_dms.png\" width=\"400\">"
   ]
  },
  {
   "cell_type": "markdown",
   "id": "65e9ed2b-bfc6-4dc9-b259-54a820762c67",
   "metadata": {},
   "source": [
    "Furthermore, we can inspect the populated nodes in this Asset schema\n",
    "\n",
    "<img src=\"../../artifacts/figs/asset_hierarchy_lift_pump_stations_populated.png\" width=\"1000\">"
   ]
  },
  {
   "cell_type": "markdown",
   "id": "9e5a73f8-9c61-4ad0-8e83-c0e7cad82b2d",
   "metadata": {},
   "source": [
    "## Final Remarks"
   ]
  },
  {
   "cell_type": "markdown",
   "id": "a9ad07d2-86fd-46cf-89bf-d7827577f5bf",
   "metadata": {},
   "source": [
    "* In this tutorial, we used the in-memory version of the Neat store. This works well for small examples, like the toy example here, but for larger asset hierarchies we likely need to use a faster triple store such as `GraphDB` or `Oxigraph`. These are also available in Neat, but require extra dependencies.\n",
    "* This can be considered the first step of a full migration. At least two related problems may remain\n",
    "    1. First, we might want to infer a more specific type than `Asset`, for example, `Pump` and `LiftStation`. This means adding information that is not explicitly set in the existing Asset Hierarchy. The type might be implicitly defined from the level in the hierarchy, or for example, the external ID of the asset. See [part 2](asset_hierarchy_migration_with_type.html) for an example of how to add type in the migration process.\n",
    "    2. We might want to map the inferred model onto an existing data model. It this case the existing model would be an `EnterpriseModel` and the inferred model we obtained here would be a `Source` model. \n"
   ]
  },
  {
   "cell_type": "code",
   "execution_count": null,
   "id": "5218d828-b642-4a55-a8b3-fdc7d73fb790",
   "metadata": {},
   "outputs": [],
   "source": []
  }
 ],
 "metadata": {
  "kernelspec": {
   "display_name": "Python 3 (ipykernel)",
   "language": "python",
   "name": "python3"
  },
  "language_info": {
   "codemirror_mode": {
    "name": "ipython",
    "version": 3
   },
   "file_extension": ".py",
   "mimetype": "text/x-python",
   "name": "python",
   "nbconvert_exporter": "python",
   "pygments_lexer": "ipython3",
   "version": "3.12.1"
  }
 },
 "nbformat": 4,
 "nbformat_minor": 5
}
