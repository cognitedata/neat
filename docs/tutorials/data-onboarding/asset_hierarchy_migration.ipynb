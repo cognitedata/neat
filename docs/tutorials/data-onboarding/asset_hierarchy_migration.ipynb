{
 "cells": [
  {
   "cell_type": "markdown",
   "id": "d8dd9ed4",
   "metadata": {
    "editable": true,
    "slideshow": {
     "slide_type": ""
    },
    "tags": []
   },
   "source": [
    "# Asset Hierarchy Source\n",
    "\n",
    "**Prerequisite**:\n",
    "\n",
    "- Access to a CDF Project.\n",
    "- Know how to install and setup Python.\n",
    "- Launch a Python notebook.\n",
    "\n",
    "\n",
    "\n",
    "In this tutorial, we will show you how to migrate an asset hierarchy to a data model representing the same hierarchy in CDF.\n",
    "\n",
    "This tutorial is also a good demonstration of the width of capabilities for neat, going from extracting data,\n",
    "creating a data model, export the data model, and load the data."
   ]
  },
  {
   "cell_type": "markdown",
   "id": "3df29838-9d86-4099-a07d-530a454b2a94",
   "metadata": {
    "editable": true,
    "slideshow": {
     "slide_type": ""
    },
    "tags": []
   },
   "source": [
    "## Extract Data from Asset Hierarchy\n",
    "\n",
    "We will start by extracting the data from an existing asset hierarchy. \n",
    "\n",
    "The example we will use in this tutorial is an asset hierarchy for pumps, shown below in CDF's classic Data Exploration\n",
    "\n",
    "<img src=\"../../artifacts/figs/asset_hierarchy_lift_pump_stations.png\" width=\"400\">"
   ]
  },
  {
   "cell_type": "code",
   "execution_count": 1,
   "id": "b07c82e3-2940-4c31-8252-8fe96183c4ba",
   "metadata": {
    "editable": true,
    "slideshow": {
     "slide_type": ""
    },
    "tags": []
   },
   "outputs": [],
   "source": [
    "from cognite.neat import NeatSession, get_cognite_client"
   ]
  },
  {
   "cell_type": "markdown",
   "id": "ecb953ac-5bd4-4de9-9efa-17319d9f2eba",
   "metadata": {
    "editable": true,
    "slideshow": {
     "slide_type": ""
    },
    "tags": []
   },
   "source": [
    "We start by instansiating a new NeatSession"
   ]
  },
  {
   "cell_type": "code",
   "execution_count": 2,
   "id": "32ab99b9-fe20-48ce-be1f-56e28efc572d",
   "metadata": {
    "editable": true,
    "slideshow": {
     "slide_type": ""
    },
    "tags": []
   },
   "outputs": [
    {
     "name": "stdout",
     "output_type": "stream",
     "text": [
      "Found .env file in repository root. Loaded variables from .env file.\n"
     ]
    }
   ],
   "source": [
    "client = get_cognite_client(\".env\")"
   ]
  },
  {
   "cell_type": "code",
   "execution_count": 3,
   "id": "f63c5b57-5402-42e9-af1e-3afd909a345c",
   "metadata": {
    "editable": true,
    "slideshow": {
     "slide_type": ""
    },
    "tags": []
   },
   "outputs": [
    {
     "name": "stdout",
     "output_type": "stream",
     "text": [
      "Neat Engine 2.0.3 loaded.\n"
     ]
    },
    {
     "data": {
      "text/html": [
       "<strong>Empty session</strong>. Get started by reading something with the <em>.read</em> attribute."
      ],
      "text/plain": [
       "<cognite.neat._session._base.NeatSession at 0x26e6552a420>"
      ]
     },
     "execution_count": 3,
     "metadata": {},
     "output_type": "execute_result"
    }
   ],
   "source": [
    "neat = NeatSession(client, storage=\"memory\")\n",
    "neat"
   ]
  },
  {
   "cell_type": "code",
   "execution_count": 4,
   "id": "a4f32a5b-e4bf-4e18-9f2a-10f6bff5e9cb",
   "metadata": {
    "editable": true,
    "slideshow": {
     "slide_type": ""
    },
    "tags": [
     "hide"
    ]
   },
   "outputs": [],
   "source": [
    "# This cell is removed from the docs.\n",
    "from cognite.neat._config import GLOBAL_CONFIG\n",
    "\n",
    "# Switch to TQDM progress bar as that looks better in the docs\n",
    "GLOBAL_CONFIG.progress_bar = \"tqdm-notebook\""
   ]
  },
  {
   "cell_type": "code",
   "execution_count": 5,
   "id": "d5c652c4-a3a3-4763-b26e-4f8da4ebdf82",
   "metadata": {
    "editable": true,
    "slideshow": {
     "slide_type": ""
    },
    "tags": []
   },
   "outputs": [
    {
     "data": {
      "application/vnd.jupyter.widget-view+json": {
       "model_id": "42ed2f88bc89420dac4f82f542713697",
       "version_major": 2,
       "version_minor": 0
      },
      "text/plain": [
       "Extracting Asset relationships:   0%|          | 0/1 [00:00<?, ?it/s]"
      ]
     },
     "metadata": {},
     "output_type": "display_data"
    },
    {
     "data": {
      "application/vnd.jupyter.widget-view+json": {
       "model_id": "4cad2cab876f4cc1b38c3501ec9a2c5a",
       "version_major": 2,
       "version_minor": 0
      },
      "text/plain": [
       "Extracting data sets:   0%|          | 0/1 [00:00<?, ?it/s]"
      ]
     },
     "metadata": {},
     "output_type": "display_data"
    },
    {
     "data": {
      "text/html": [
       "<p>Success: Read Classic Graph</p>"
      ],
      "text/plain": [
       "[]"
      ]
     },
     "execution_count": 5,
     "metadata": {},
     "output_type": "execute_result"
    }
   ],
   "source": [
    "neat.read.cdf.classic.graph(root_asset_external_id=\"lift_pump_stations:root\")"
   ]
  },
  {
   "cell_type": "code",
   "execution_count": 6,
   "id": "297cb3ee-f8a1-4358-a944-cc5cd3135413",
   "metadata": {
    "editable": true,
    "slideshow": {
     "slide_type": ""
    },
    "tags": []
   },
   "outputs": [
    {
     "data": {
      "text/html": [
       "<H2>Verified Data Model</H2><br /><div>\n",
       "<style scoped>\n",
       "    .dataframe tbody tr th:only-of-type {\n",
       "        vertical-align: middle;\n",
       "    }\n",
       "\n",
       "    .dataframe tbody tr th {\n",
       "        vertical-align: top;\n",
       "    }\n",
       "\n",
       "    .dataframe thead th {\n",
       "        text-align: right;\n",
       "    }\n",
       "</style>\n",
       "<table border=\"1\" class=\"dataframe\">\n",
       "  <thead>\n",
       "    <tr style=\"text-align: right;\">\n",
       "      <th></th>\n",
       "      <th></th>\n",
       "    </tr>\n",
       "  </thead>\n",
       "  <tbody>\n",
       "    <tr>\n",
       "      <th>type</th>\n",
       "      <td>Logical Data Model</td>\n",
       "    </tr>\n",
       "    <tr>\n",
       "      <th>intended for</th>\n",
       "      <td>Information Architect</td>\n",
       "    </tr>\n",
       "    <tr>\n",
       "      <th>name</th>\n",
       "      <td>Inferred Model</td>\n",
       "    </tr>\n",
       "    <tr>\n",
       "      <th>external_id</th>\n",
       "      <td>ClassicDataModel</td>\n",
       "    </tr>\n",
       "    <tr>\n",
       "      <th>version</th>\n",
       "      <td>v1</td>\n",
       "    </tr>\n",
       "    <tr>\n",
       "      <th>classes</th>\n",
       "      <td>9</td>\n",
       "    </tr>\n",
       "    <tr>\n",
       "      <th>properties</th>\n",
       "      <td>71</td>\n",
       "    </tr>\n",
       "  </tbody>\n",
       "</table>\n",
       "</div><br /><H2>Instances</H2> <br /><strong>Overview</strong>:<ul><li>2 types</strong></li><li>246 instances</strong></li></ul><div>\n",
       "<style scoped>\n",
       "    .dataframe tbody tr th:only-of-type {\n",
       "        vertical-align: middle;\n",
       "    }\n",
       "\n",
       "    .dataframe tbody tr th {\n",
       "        vertical-align: top;\n",
       "    }\n",
       "\n",
       "    .dataframe thead th {\n",
       "        text-align: right;\n",
       "    }\n",
       "</style>\n",
       "<table border=\"1\" class=\"dataframe\">\n",
       "  <thead>\n",
       "    <tr style=\"text-align: right;\">\n",
       "      <th></th>\n",
       "      <th>Type</th>\n",
       "      <th>Occurrence</th>\n",
       "    </tr>\n",
       "  </thead>\n",
       "  <tbody>\n",
       "    <tr>\n",
       "      <th>0</th>\n",
       "      <td>ClassicAsset</td>\n",
       "      <td>245</td>\n",
       "    </tr>\n",
       "    <tr>\n",
       "      <th>1</th>\n",
       "      <td>ClassicDataSet</td>\n",
       "      <td>1</td>\n",
       "    </tr>\n",
       "  </tbody>\n",
       "</table>\n",
       "</div><br /><strong>Provenance</strong>:<ul><li>Initialize graph store as Memory</li><li>Extracted triples to graph store using ClassicGraphExtractor</li><li>Extracted triples to graph store using ClassicGraphExtractor</li><li>Extracted triples to graph store using ClassicGraphExtractor</li><li>Extracted triples to graph store using ClassicGraphExtractor</li><li>Extracted triples to graph store using ClassicGraphExtractor</li><li>Extracted triples to graph store using ClassicGraphExtractor</li><li>Extracted triples to graph store using ClassicGraphExtractor</li><li>Extracted triples to graph store using ClassicGraphExtractor</li><li>Added rules to graph store as InformationRules</li><li>Upsert prefixes to graph store</li><li>Lookup relationships source and target externalId</li><li>ConvertLiteral is a transformer that improve data typing of a literal value.</li><li>Converts a literal value to new entity</li></ul>"
      ],
      "text/plain": [
       "<cognite.neat._session._base.NeatSession at 0x26e6552a420>"
      ]
     },
     "execution_count": 6,
     "metadata": {},
     "output_type": "execute_result"
    }
   ],
   "source": [
    "neat"
   ]
  },
  {
   "cell_type": "markdown",
   "id": "80b97340-90b2-4c79-9a97-326113721ee8",
   "metadata": {},
   "source": [
    "## Exporting Data Model"
   ]
  },
  {
   "cell_type": "markdown",
   "id": "9ca8d5c2-333d-4ff3-8ee6-e27058c730fb",
   "metadata": {},
   "source": [
    "Lets export our newly created data model to CDF. First, we need to convert it to an phsycial format."
   ]
  },
  {
   "cell_type": "code",
   "execution_count": 7,
   "id": "01031b7f-0707-4818-90de-c406132dd56c",
   "metadata": {},
   "outputs": [
    {
     "name": "stdout",
     "output_type": "stream",
     "text": [
      "Rules converted to dms\n"
     ]
    },
    {
     "data": {
      "text/html": [
       "<p>Success: VerifiedInformationModel &#8594; VerifiedDMSModel</p>"
      ],
      "text/plain": [
       "[]"
      ]
     },
     "execution_count": 7,
     "metadata": {},
     "output_type": "execute_result"
    }
   ],
   "source": [
    "neat.convert(\"dms\")"
   ]
  },
  {
   "cell_type": "code",
   "execution_count": 8,
   "id": "eabc33ff-b178-48be-b1f1-6569c1fdd860",
   "metadata": {},
   "outputs": [
    {
     "data": {
      "text/html": [
       "<H2>Verified Data Model</H2><br /><div>\n",
       "<style scoped>\n",
       "    .dataframe tbody tr th:only-of-type {\n",
       "        vertical-align: middle;\n",
       "    }\n",
       "\n",
       "    .dataframe tbody tr th {\n",
       "        vertical-align: top;\n",
       "    }\n",
       "\n",
       "    .dataframe thead th {\n",
       "        text-align: right;\n",
       "    }\n",
       "</style>\n",
       "<table border=\"1\" class=\"dataframe\">\n",
       "  <thead>\n",
       "    <tr style=\"text-align: right;\">\n",
       "      <th></th>\n",
       "      <th></th>\n",
       "    </tr>\n",
       "  </thead>\n",
       "  <tbody>\n",
       "    <tr>\n",
       "      <th>aspect</th>\n",
       "      <td>physical</td>\n",
       "    </tr>\n",
       "    <tr>\n",
       "      <th>intended for</th>\n",
       "      <td>DMS Architect</td>\n",
       "    </tr>\n",
       "    <tr>\n",
       "      <th>name</th>\n",
       "      <td>Inferred Model</td>\n",
       "    </tr>\n",
       "    <tr>\n",
       "      <th>space</th>\n",
       "      <td>neat_space</td>\n",
       "    </tr>\n",
       "    <tr>\n",
       "      <th>external_id</th>\n",
       "      <td>ClassicDataModel</td>\n",
       "    </tr>\n",
       "    <tr>\n",
       "      <th>version</th>\n",
       "      <td>v1</td>\n",
       "    </tr>\n",
       "    <tr>\n",
       "      <th>views</th>\n",
       "      <td>9</td>\n",
       "    </tr>\n",
       "    <tr>\n",
       "      <th>containers</th>\n",
       "      <td>9</td>\n",
       "    </tr>\n",
       "    <tr>\n",
       "      <th>properties</th>\n",
       "      <td>69</td>\n",
       "    </tr>\n",
       "  </tbody>\n",
       "</table>\n",
       "</div><br /><H2>Instances</H2> <br /><strong>Overview</strong>:<ul><li>2 types</strong></li><li>246 instances</strong></li></ul><div>\n",
       "<style scoped>\n",
       "    .dataframe tbody tr th:only-of-type {\n",
       "        vertical-align: middle;\n",
       "    }\n",
       "\n",
       "    .dataframe tbody tr th {\n",
       "        vertical-align: top;\n",
       "    }\n",
       "\n",
       "    .dataframe thead th {\n",
       "        text-align: right;\n",
       "    }\n",
       "</style>\n",
       "<table border=\"1\" class=\"dataframe\">\n",
       "  <thead>\n",
       "    <tr style=\"text-align: right;\">\n",
       "      <th></th>\n",
       "      <th>Type</th>\n",
       "      <th>Occurrence</th>\n",
       "    </tr>\n",
       "  </thead>\n",
       "  <tbody>\n",
       "    <tr>\n",
       "      <th>0</th>\n",
       "      <td>ClassicAsset</td>\n",
       "      <td>245</td>\n",
       "    </tr>\n",
       "    <tr>\n",
       "      <th>1</th>\n",
       "      <td>ClassicDataSet</td>\n",
       "      <td>1</td>\n",
       "    </tr>\n",
       "  </tbody>\n",
       "</table>\n",
       "</div><br /><strong>Provenance</strong>:<ul><li>Initialize graph store as Memory</li><li>Extracted triples to graph store using ClassicGraphExtractor</li><li>Extracted triples to graph store using ClassicGraphExtractor</li><li>Extracted triples to graph store using ClassicGraphExtractor</li><li>Extracted triples to graph store using ClassicGraphExtractor</li><li>Extracted triples to graph store using ClassicGraphExtractor</li><li>Extracted triples to graph store using ClassicGraphExtractor</li><li>Extracted triples to graph store using ClassicGraphExtractor</li><li>Extracted triples to graph store using ClassicGraphExtractor</li><li>Added rules to graph store as InformationRules</li><li>Upsert prefixes to graph store</li><li>Lookup relationships source and target externalId</li><li>ConvertLiteral is a transformer that improve data typing of a literal value.</li><li>Converts a literal value to new entity</li></ul>"
      ],
      "text/plain": [
       "<cognite.neat._session._base.NeatSession at 0x26e6552a420>"
      ]
     },
     "execution_count": 8,
     "metadata": {},
     "output_type": "execute_result"
    }
   ],
   "source": [
    "neat"
   ]
  },
  {
   "cell_type": "code",
   "execution_count": 9,
   "id": "7b8a9743-796b-4537-8b71-89c8f1b3a5fc",
   "metadata": {},
   "outputs": [
    {
     "name": "stdout",
     "output_type": "stream",
     "text": [
      "You can inspect the details with the .inspect.outcome.data_model(...) method.\n"
     ]
    },
    {
     "data": {
      "text/html": [
       "<style type=\"text/css\">\n",
       "</style>\n",
       "<table id=\"T_85316\">\n",
       "  <thead>\n",
       "    <tr>\n",
       "      <th class=\"blank level0\" >&nbsp;</th>\n",
       "      <th id=\"T_85316_level0_col0\" class=\"col_heading level0 col0\" >name</th>\n",
       "      <th id=\"T_85316_level0_col1\" class=\"col_heading level0 col1\" >unchanged</th>\n",
       "      <th id=\"T_85316_level0_col2\" class=\"col_heading level0 col2\" >created</th>\n",
       "      <th id=\"T_85316_level0_col3\" class=\"col_heading level0 col3\" >failed_changed</th>\n",
       "      <th id=\"T_85316_level0_col4\" class=\"col_heading level0 col4\" >error_messages</th>\n",
       "      <th id=\"T_85316_level0_col5\" class=\"col_heading level0 col5\" >failed_created</th>\n",
       "      <th id=\"T_85316_level0_col6\" class=\"col_heading level0 col6\" >issues</th>\n",
       "    </tr>\n",
       "  </thead>\n",
       "  <tbody>\n",
       "    <tr>\n",
       "      <th id=\"T_85316_level0_row0\" class=\"row_heading level0 row0\" >0</th>\n",
       "      <td id=\"T_85316_row0_col0\" class=\"data row0 col0\" >spaces</td>\n",
       "      <td id=\"T_85316_row0_col1\" class=\"data row0 col1\" >1</td>\n",
       "      <td id=\"T_85316_row0_col2\" class=\"data row0 col2\" >0</td>\n",
       "      <td id=\"T_85316_row0_col3\" class=\"data row0 col3\" >0</td>\n",
       "      <td id=\"T_85316_row0_col4\" class=\"data row0 col4\" >0</td>\n",
       "      <td id=\"T_85316_row0_col5\" class=\"data row0 col5\" >0</td>\n",
       "      <td id=\"T_85316_row0_col6\" class=\"data row0 col6\" >0</td>\n",
       "    </tr>\n",
       "    <tr>\n",
       "      <th id=\"T_85316_level0_row1\" class=\"row_heading level0 row1\" >1</th>\n",
       "      <td id=\"T_85316_row1_col0\" class=\"data row1 col0\" >containers</td>\n",
       "      <td id=\"T_85316_row1_col1\" class=\"data row1 col1\" >0</td>\n",
       "      <td id=\"T_85316_row1_col2\" class=\"data row1 col2\" >3</td>\n",
       "      <td id=\"T_85316_row1_col3\" class=\"data row1 col3\" >6</td>\n",
       "      <td id=\"T_85316_row1_col4\" class=\"data row1 col4\" >6</td>\n",
       "      <td id=\"T_85316_row1_col5\" class=\"data row1 col5\" >0</td>\n",
       "      <td id=\"T_85316_row1_col6\" class=\"data row1 col6\" >0</td>\n",
       "    </tr>\n",
       "    <tr>\n",
       "      <th id=\"T_85316_level0_row2\" class=\"row_heading level0 row2\" >2</th>\n",
       "      <td id=\"T_85316_row2_col0\" class=\"data row2 col0\" >views</td>\n",
       "      <td id=\"T_85316_row2_col1\" class=\"data row2 col1\" >0</td>\n",
       "      <td id=\"T_85316_row2_col2\" class=\"data row2 col2\" >3</td>\n",
       "      <td id=\"T_85316_row2_col3\" class=\"data row2 col3\" >0</td>\n",
       "      <td id=\"T_85316_row2_col4\" class=\"data row2 col4\" >6</td>\n",
       "      <td id=\"T_85316_row2_col5\" class=\"data row2 col5\" >6</td>\n",
       "      <td id=\"T_85316_row2_col6\" class=\"data row2 col6\" >0</td>\n",
       "    </tr>\n",
       "    <tr>\n",
       "      <th id=\"T_85316_level0_row3\" class=\"row_heading level0 row3\" >3</th>\n",
       "      <td id=\"T_85316_row3_col0\" class=\"data row3 col0\" >data_models</td>\n",
       "      <td id=\"T_85316_row3_col1\" class=\"data row3 col1\" >0</td>\n",
       "      <td id=\"T_85316_row3_col2\" class=\"data row3 col2\" >0</td>\n",
       "      <td id=\"T_85316_row3_col3\" class=\"data row3 col3\" >0</td>\n",
       "      <td id=\"T_85316_row3_col4\" class=\"data row3 col4\" >1</td>\n",
       "      <td id=\"T_85316_row3_col5\" class=\"data row3 col5\" >1</td>\n",
       "      <td id=\"T_85316_row3_col6\" class=\"data row3 col6\" >1</td>\n",
       "    </tr>\n",
       "    <tr>\n",
       "      <th id=\"T_85316_level0_row4\" class=\"row_heading level0 row4\" >4</th>\n",
       "      <td id=\"T_85316_row4_col0\" class=\"data row4 col0\" >nodes</td>\n",
       "      <td id=\"T_85316_row4_col1\" class=\"data row4 col1\" >0</td>\n",
       "      <td id=\"T_85316_row4_col2\" class=\"data row4 col2\" >0</td>\n",
       "      <td id=\"T_85316_row4_col3\" class=\"data row4 col3\" >0</td>\n",
       "      <td id=\"T_85316_row4_col4\" class=\"data row4 col4\" >0</td>\n",
       "      <td id=\"T_85316_row4_col5\" class=\"data row4 col5\" >0</td>\n",
       "      <td id=\"T_85316_row4_col6\" class=\"data row4 col6\" >0</td>\n",
       "    </tr>\n",
       "  </tbody>\n",
       "</table>\n"
      ],
      "text/plain": [
       "[UploadResult(name='spaces', error_messages=[], issues=[], created=set(), upserted=set(), deleted=set(), changed=set(), unchanged={'neat_space'}, skipped=set(), failed_created=set(), failed_upserted=set(), failed_changed=set(), failed_deleted=set()),\n",
       " UploadResult(name='containers', error_messages=[\"Failed to update containers: Cannot change usedFor type for container 'neat_space:ClassicAsset'. | code: 400 | X-Request-ID: 60fb8a46-1ac1-908c-9c48-a35395e76813 | cluster: az-power-no-northeurope\\nThe API Failed to process some items.\\nSuccessful (2xx): []\\nUnknown (5xx): []\\nFailed (4xx): [neat_space:ClassicAsset, ...]\", \"Failed to update containers: Cannot change usedFor type for container 'neat_space:ClassicEvent'. | code: 400 | X-Request-ID: 0d84bc39-0d40-93e3-9d75-95fe9bf4f282 | cluster: az-power-no-northeurope\\nThe API Failed to process some items.\\nSuccessful (2xx): []\\nUnknown (5xx): []\\nFailed (4xx): [neat_space:ClassicEvent, ...]\", \"Failed to update containers: Cannot change usedFor type for container 'neat_space:ClassicFile'. | code: 400 | X-Request-ID: d3ff7084-fb8d-92ea-b18e-9170fe962a56 | cluster: az-power-no-northeurope\\nThe API Failed to process some items.\\nSuccessful (2xx): []\\nUnknown (5xx): []\\nFailed (4xx): [neat_space:ClassicFile, ...]\", \"Failed to update containers: Cannot change usedFor type for container 'neat_space:ClassicTimeSeries'. | code: 400 | X-Request-ID: 0b8343ac-956c-96e9-ab4f-49f581c89596 | cluster: az-power-no-northeurope\\nThe API Failed to process some items.\\nSuccessful (2xx): []\\nUnknown (5xx): []\\nFailed (4xx): [neat_space:ClassicTimeSeries, ...]\", \"Failed to update containers: Cannot change usedFor type for container 'neat_space:ClassicDataSet'. | code: 400 | X-Request-ID: c3f0e9b2-ec38-9b1e-ab99-9d2cb975ba3e | cluster: az-power-no-northeurope\\nThe API Failed to process some items.\\nSuccessful (2xx): []\\nUnknown (5xx): []\\nFailed (4xx): [neat_space:ClassicDataSet, ...]\", \"Failed to update containers: Cannot change usedFor type for container 'neat_space:ClassicLabel'. | code: 400 | X-Request-ID: 70252619-4c55-9603-9ed9-9ac8e57dceb3 | cluster: az-power-no-northeurope\\nThe API Failed to process some items.\\nSuccessful (2xx): []\\nUnknown (5xx): []\\nFailed (4xx): [neat_space:ClassicLabel, ...]\"], issues=[], created={ContainerId(space='neat_space', external_id='ClassicRelationship'), ContainerId(space='neat_space', external_id='ClassicSequence'), ContainerId(space='neat_space', external_id='ClassicSourceSystem')}, upserted=set(), deleted=set(), changed=set(), unchanged=set(), skipped=set(), failed_created=set(), failed_upserted=set(), failed_changed={ContainerId(space='neat_space', external_id='ClassicAsset'), ContainerId(space='neat_space', external_id='ClassicEvent'), ContainerId(space='neat_space', external_id='ClassicLabel'), ContainerId(space='neat_space', external_id='ClassicFile'), ContainerId(space='neat_space', external_id='ClassicTimeSeries'), ContainerId(space='neat_space', external_id='ClassicDataSet')}, failed_deleted=set()),\n",
       " UploadResult(name='views', error_messages=[\"Failed to create views: Property 'description' does not exist in container 'neat_space:ClassicAsset' | code: 400 | X-Request-ID: 1e4398e9-2859-929d-9792-a9be71943ada | cluster: az-power-no-northeurope\\nThe API Failed to process some items.\\nSuccessful (2xx): []\\nUnknown (5xx): []\\nFailed (4xx): [neat_space:ClassicAsset, ...]\", \"Failed to create views: Property 'classicExternalId' does not exist in container 'neat_space:ClassicEvent' | code: 400 | X-Request-ID: ef5c5cad-79b8-9990-9f56-2593f729cbf1 | cluster: az-power-no-northeurope\\nThe API Failed to process some items.\\nSuccessful (2xx): []\\nUnknown (5xx): []\\nFailed (4xx): [neat_space:ClassicEvent, ...]\", \"Failed to create views: Property 'mimeType' does not exist in container 'neat_space:ClassicFile' | code: 400 | X-Request-ID: 56c3c00a-a597-9379-88f0-fb90d2aa17e0 | cluster: az-power-no-northeurope\\nThe API Failed to process some items.\\nSuccessful (2xx): []\\nUnknown (5xx): []\\nFailed (4xx): [neat_space:ClassicFile, ...]\", \"Failed to create views: Property 'classicExternalId' does not exist in container 'neat_space:ClassicTimeSeries' | code: 400 | X-Request-ID: 748f71fc-d9ea-9395-b85c-7a464519fd80 | cluster: az-power-no-northeurope\\nThe API Failed to process some items.\\nSuccessful (2xx): []\\nUnknown (5xx): []\\nFailed (4xx): [neat_space:ClassicTimeSeries, ...]\", \"Failed to create views: Property 'classicExternalId' does not exist in container 'neat_space:ClassicLabel' | code: 400 | X-Request-ID: 878088c5-cc2a-9088-aec0-460cc84ed816 | cluster: az-power-no-northeurope\\nThe API Failed to process some items.\\nSuccessful (2xx): []\\nUnknown (5xx): []\\nFailed (4xx): [neat_space:ClassicLabel, ...]\", \"Failed to create views: Property 'classicExternalId' does not exist in container 'neat_space:ClassicDataSet' | code: 400 | X-Request-ID: bd258e2f-19bb-9fa3-8523-08faea09af1f | cluster: az-power-no-northeurope\\nThe API Failed to process some items.\\nSuccessful (2xx): []\\nUnknown (5xx): []\\nFailed (4xx): [neat_space:ClassicDataSet, ...]\"], issues=[], created={ViewId(space='neat_space', external_id='ClassicSourceSystem', version='v1'), ViewId(space='neat_space', external_id='ClassicSequence', version='v1'), ViewId(space='neat_space', external_id='ClassicRelationship', version='v1')}, upserted=set(), deleted=set(), changed=set(), unchanged=set(), skipped=set(), failed_created={ViewId(space='neat_space', external_id='ClassicDataSet', version='v1'), ViewId(space='neat_space', external_id='ClassicFile', version='v1'), ViewId(space='neat_space', external_id='ClassicLabel', version='v1'), ViewId(space='neat_space', external_id='ClassicTimeSeries', version='v1'), ViewId(space='neat_space', external_id='ClassicAsset', version='v1'), ViewId(space='neat_space', external_id='ClassicEvent', version='v1')}, failed_upserted=set(), failed_changed=set(), failed_deleted=set()),\n",
       " UploadResult(name='data_models', error_messages=[\"Failed to create data_models: One or more views do not exist: 'neat_space:ClassicAsset/v1', 'neat_space:ClassicDataSet/v1', 'neat_space:ClassicEvent/v1', 'neat_space:ClassicFile/v1', 'neat_space:ClassicLabel/v1', 'neat_space:ClassicTimeSeries/v1'. | code: 400 | X-Request-ID: cdc28a49-19b6-90fa-a7c3-5c888cd94ea2 | cluster: az-power-no-northeurope\\nThe API Failed to process some items.\\nSuccessful (2xx): []\\nUnknown (5xx): []\\nFailed (4xx): [neat_space:ClassicDataModel, ...]\"], issues=[PrincipleOneModelOneSpaceWarning(specific=\"There are multiple data models in the same space neat_space. Other data models in the space are [DataModelId(space='neat_space', external_id='WindFarm', version='v1'), DataModelId(space='neat_space', external_id='neatinferreddatamodel', version='v1')].\")], created=set(), upserted=set(), deleted=set(), changed=set(), unchanged=set(), skipped=set(), failed_created={DataModelId(space='neat_space', external_id='ClassicDataModel', version='v1')}, failed_upserted=set(), failed_changed=set(), failed_deleted=set()),\n",
       " UploadResult(name='nodes', error_messages=[], issues=[], created=set(), upserted=set(), deleted=set(), changed=set(), unchanged=set(), skipped=set(), failed_created=set(), failed_upserted=set(), failed_changed=set(), failed_deleted=set())]"
      ]
     },
     "execution_count": 9,
     "metadata": {},
     "output_type": "execute_result"
    }
   ],
   "source": [
    "neat.to.cdf.data_model()"
   ]
  },
  {
   "cell_type": "markdown",
   "id": "bd2035ef-0245-4d81-bced-ad1cc5cd6146",
   "metadata": {},
   "source": [
    "We see the data model was succesfully created."
   ]
  },
  {
   "cell_type": "markdown",
   "id": "13f75cfa-d61c-42c1-8c8e-dff153b95a50",
   "metadata": {},
   "source": [
    "## Populating Data Model"
   ]
  },
  {
   "cell_type": "markdown",
   "id": "13f6ebad-367e-4f3f-907f-d51c4f233091",
   "metadata": {},
   "source": [
    "As the data model is ready, we can move the instances to CDF "
   ]
  },
  {
   "cell_type": "code",
   "execution_count": 11,
   "id": "824790ec-205d-4905-a746-9076b22401c6",
   "metadata": {},
   "outputs": [
    {
     "name": "stdout",
     "output_type": "stream",
     "text": [
      "You can inspect the details with the .inspect.outcome.instances(...) method.\n"
     ]
    },
    {
     "data": {
      "text/html": [
       "<style type=\"text/css\">\n",
       "</style>\n",
       "<table id=\"T_6f638\">\n",
       "  <thead>\n",
       "  </thead>\n",
       "  <tbody>\n",
       "  </tbody>\n",
       "</table>\n"
      ],
      "text/plain": [
       "[]"
      ]
     },
     "execution_count": 11,
     "metadata": {},
     "output_type": "execute_result"
    }
   ],
   "source": [
    "neat.to.cdf.instances()"
   ]
  },
  {
   "cell_type": "markdown",
   "id": "1b67f189-17b9-44e7-b43f-286f95708dea",
   "metadata": {},
   "source": [
    "As we see from the result above, Neat has created 245 Nodes in the new data model."
   ]
  },
  {
   "cell_type": "markdown",
   "id": "e9cf8808-f940-4ffc-91d0-4bfdcc36524f",
   "metadata": {},
   "source": [
    "## Results"
   ]
  },
  {
   "cell_type": "markdown",
   "id": "ff361f69-e916-493c-ab73-3c3c2777084b",
   "metadata": {},
   "source": [
    "We can now go into CDF and inspect the results. Looking at the data model we created, we can see the schema for\n",
    "the inferred Asset\n",
    "\n",
    "<img src=\"../../artifacts/figs/asset_hierarchy_lift_pump_stations_dms.png\" width=\"400\">"
   ]
  },
  {
   "cell_type": "markdown",
   "id": "65e9ed2b-bfc6-4dc9-b259-54a820762c67",
   "metadata": {},
   "source": [
    "Furthermore, we can inspect the populated nodes in this Asset schema\n",
    "\n",
    "<img src=\"../../artifacts/figs/asset_hierarchy_lift_pump_stations_populated.png\" width=\"1000\">"
   ]
  },
  {
   "cell_type": "markdown",
   "id": "9e5a73f8-9c61-4ad0-8e83-c0e7cad82b2d",
   "metadata": {},
   "source": [
    "## Final Remarks"
   ]
  },
  {
   "cell_type": "markdown",
   "id": "a9ad07d2-86fd-46cf-89bf-d7827577f5bf",
   "metadata": {},
   "source": [
    "* In this tutorial, we used the in-memory version of the Neat store. This works well for small examples, like the toy example here, but for larger asset hierarchies we likely need to use a faster triple store such as `GraphDB` or `Oxigraph`. These are also available in Neat, but require extra dependencies.\n",
    "* This can be considered the first step of a full migration. At least two related problems may remain\n",
    "    1. First, we might want to infer a more specific type than `Asset`, for example, `Pump` and `LiftStation`. This means adding information that is not explicitly set in the existing Asset Hierarchy. The type might be implicitly defined from the level in the hierarchy, or for example, the external ID of the asset. See [part 2](asset_hierarchy_migration_with_type.html) for an example of how to add type in the migration process.\n",
    "    2. We might want to map the inferred model onto an existing data model. It this case the existing model would be an `EnterpriseModel` and the inferred model we obtained here would be a `Source` model. \n"
   ]
  },
  {
   "cell_type": "code",
   "execution_count": null,
   "id": "5218d828-b642-4a55-a8b3-fdc7d73fb790",
   "metadata": {},
   "outputs": [],
   "source": []
  }
 ],
 "metadata": {
  "kernelspec": {
   "display_name": "Python 3 (ipykernel)",
   "language": "python",
   "name": "python3"
  },
  "language_info": {
   "codemirror_mode": {
    "name": "ipython",
    "version": 3
   },
   "file_extension": ".py",
   "mimetype": "text/x-python",
   "name": "python",
   "nbconvert_exporter": "python",
   "pygments_lexer": "ipython3",
   "version": "3.12.1"
  }
 },
 "nbformat": 4,
 "nbformat_minor": 5
}
