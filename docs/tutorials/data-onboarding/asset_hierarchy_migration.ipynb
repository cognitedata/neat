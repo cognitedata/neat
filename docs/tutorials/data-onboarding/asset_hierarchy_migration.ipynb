{
 "cells": [
  {
   "cell_type": "markdown",
   "id": "d8dd9ed4",
   "metadata": {},
   "source": [
    "# Asset Hierarchy Migration\n",
    "\n",
    "**Prerequisite**:\n",
    "\n",
    "- Access to a CDF Project.\n",
    "- Know how to install and setup Python.\n",
    "- Launch a Python notebook.\n",
    "\n",
    "\n",
    "\n",
    "In this tutorial, we will show you how to migrate an asset hierarchy to a data model representing the same hierarchy in CDF.\n",
    "\n",
    "This tutorial is also a good demonstration of the width of capabilities for neat, going from extracting data,\n",
    "creating a data model, export the data model, and load the data."
   ]
  },
  {
   "cell_type": "markdown",
   "id": "3df29838-9d86-4099-a07d-530a454b2a94",
   "metadata": {},
   "source": [
    "## Extract Data from Asset Hierarchy\n",
    "\n",
    "We will start by extracting the data from an existing asset hierarchy. \n",
    "\n",
    "The example we will use in this tutorial is an asset hierarchy for pumps, shown below in CDF's classic Data Exploration\n",
    "\n",
    "<img src=\"../../artifacts/figs/asset_hierarchy_lift_pump_stations.png\" width=\"400\">"
   ]
  },
  {
   "cell_type": "code",
   "execution_count": 1,
   "id": "b07c82e3-2940-4c31-8252-8fe96183c4ba",
   "metadata": {},
   "outputs": [],
   "source": [
    "from cognite.neat import get_cognite_client, NeatSession"
   ]
  },
  {
   "cell_type": "markdown",
   "id": "ecb953ac-5bd4-4de9-9efa-17319d9f2eba",
   "metadata": {},
   "source": [
    "We start by instansiating a new NeatSession"
   ]
  },
  {
   "cell_type": "code",
   "execution_count": 2,
   "id": "32ab99b9-fe20-48ce-be1f-56e28efc572d",
   "metadata": {},
   "outputs": [
    {
     "name": "stdout",
     "output_type": "stream",
     "text": [
      "Found .env file in repository root. Loaded variables from .env file.\n"
     ]
    }
   ],
   "source": [
    "client = get_cognite_client(\".env\")"
   ]
  },
  {
   "cell_type": "code",
   "execution_count": 3,
   "id": "f63c5b57-5402-42e9-af1e-3afd909a345c",
   "metadata": {},
   "outputs": [
    {
     "data": {
      "text/html": [
       "<strong>Empty session</strong>. Get started by reading something with the <em>.read</em> attribute."
      ],
      "text/plain": [
       "<cognite.neat._session._base.NeatSession at 0x1a276127bc0>"
      ]
     },
     "execution_count": 3,
     "metadata": {},
     "output_type": "execute_result"
    }
   ],
   "source": [
    "neat = NeatSession(client, storage=\"memory\")\n",
    "neat"
   ]
  },
  {
   "cell_type": "code",
   "execution_count": 4,
   "id": "d5c652c4-a3a3-4763-b26e-4f8da4ebdf82",
   "metadata": {},
   "outputs": [
    {
     "data": {
      "application/vnd.jupyter.widget-view+json": {
       "model_id": "80c10342ed1c435d90f569e0c8f74966",
       "version_major": 2,
       "version_minor": 0
      },
      "text/plain": [
       "Output()"
      ]
     },
     "metadata": {},
     "output_type": "display_data"
    },
    {
     "data": {
      "text/html": [
       "<pre style=\"white-space:pre;overflow-x:auto;line-height:normal;font-family:Menlo,'DejaVu Sans Mono',consolas,'Courier New',monospace\"></pre>\n"
      ],
      "text/plain": []
     },
     "metadata": {},
     "output_type": "display_data"
    },
    {
     "name": "stdout",
     "output_type": "stream",
     "text": [
      "Asset hierarchy lift_pump_stations:root read successfully\n"
     ]
    }
   ],
   "source": [
    "neat.read.cdf.classic.assets(root_asset_external_id=\"lift_pump_stations:root\")"
   ]
  },
  {
   "cell_type": "code",
   "execution_count": 5,
   "id": "297cb3ee-f8a1-4358-a944-cc5cd3135413",
   "metadata": {},
   "outputs": [
    {
     "data": {
      "text/html": [
       "<H2>Instances</H2> <br /><strong>Overview</strong>:<ul><li>1 types</strong></li><li>245 instances</strong></li></ul><div>\n",
       "<style scoped>\n",
       "    .dataframe tbody tr th:only-of-type {\n",
       "        vertical-align: middle;\n",
       "    }\n",
       "\n",
       "    .dataframe tbody tr th {\n",
       "        vertical-align: top;\n",
       "    }\n",
       "\n",
       "    .dataframe thead th {\n",
       "        text-align: right;\n",
       "    }\n",
       "</style>\n",
       "<table border=\"1\" class=\"dataframe\">\n",
       "  <thead>\n",
       "    <tr style=\"text-align: right;\">\n",
       "      <th></th>\n",
       "      <th>Type</th>\n",
       "      <th>Occurrence</th>\n",
       "    </tr>\n",
       "  </thead>\n",
       "  <tbody>\n",
       "    <tr>\n",
       "      <th>0</th>\n",
       "      <td>Asset</td>\n",
       "      <td>245</td>\n",
       "    </tr>\n",
       "  </tbody>\n",
       "</table>\n",
       "</div><br /><strong>Provenance</strong>:<ul><li>Initialize graph store as Memory</li><li>Extracted triples to graph store using AssetsExtractor</li></ul>"
      ],
      "text/plain": [
       "<cognite.neat._session._base.NeatSession at 0x1a276127bc0>"
      ]
     },
     "execution_count": 5,
     "metadata": {},
     "output_type": "execute_result"
    }
   ],
   "source": [
    "neat"
   ]
  },
  {
   "cell_type": "markdown",
   "id": "92516916-f408-4ab3-9850-24308b1a3ea3",
   "metadata": {},
   "source": [
    "## Infering Data Model from Data"
   ]
  },
  {
   "cell_type": "markdown",
   "id": "2134c28e-3c7c-430e-92af-21758f3fb03f",
   "metadata": {},
   "source": [
    "With the asset data in the store, we can now infer the data model"
   ]
  },
  {
   "cell_type": "code",
   "execution_count": 6,
   "id": "7cdc0d7e-14e8-4882-9a68-67030d41b39b",
   "metadata": {},
   "outputs": [
    {
     "name": "stdout",
     "output_type": "stream",
     "text": [
      "Data Model Inference <class 'cognite.neat._store._base.NeatGraphStore'> <cognite.neat._store._base.NeatGraphStore object at 0x000001A27613CCE0> read successfully\n"
     ]
    },
    {
     "data": {
      "text/html": [
       "<div>\n",
       "<style scoped>\n",
       "    .dataframe tbody tr th:only-of-type {\n",
       "        vertical-align: middle;\n",
       "    }\n",
       "\n",
       "    .dataframe tbody tr th {\n",
       "        vertical-align: top;\n",
       "    }\n",
       "\n",
       "    .dataframe thead th {\n",
       "        text-align: right;\n",
       "    }\n",
       "</style>\n",
       "<table border=\"1\" class=\"dataframe\">\n",
       "  <thead>\n",
       "    <tr style=\"text-align: right;\">\n",
       "      <th></th>\n",
       "      <th>identifier</th>\n",
       "      <th>resourceType</th>\n",
       "      <th>propertyName</th>\n",
       "      <th>defaultAction</th>\n",
       "      <th>recommendedAction</th>\n",
       "      <th>NeatIssue</th>\n",
       "    </tr>\n",
       "  </thead>\n",
       "  <tbody>\n",
       "    <tr>\n",
       "      <th>0</th>\n",
       "      <td>Asset:dataset</td>\n",
       "      <td>Property</td>\n",
       "      <td>dataset</td>\n",
       "      <td>Remove the property from the rules</td>\n",
       "      <td>Make sure that graph is complete</td>\n",
       "      <td>PropertyValueTypeUndefinedWarning</td>\n",
       "    </tr>\n",
       "  </tbody>\n",
       "</table>\n",
       "</div>"
      ],
      "text/plain": [
       "[PropertyValueTypeUndefinedWarning(identifier='Asset:dataset', resource_type='Property', property_name='dataset', default_action='Remove the property from the rules', recommended_action='Make sure that graph is complete')]"
      ]
     },
     "execution_count": 6,
     "metadata": {},
     "output_type": "execute_result"
    }
   ],
   "source": [
    "issues = neat.infer()\n",
    "issues"
   ]
  },
  {
   "cell_type": "markdown",
   "id": "4bd0aaea-6c5b-455b-8d93-f374544a3168",
   "metadata": {},
   "source": [
    "We see in the inference that there is a DataSet type we do not know about. However, this is just a warning we can  continue."
   ]
  },
  {
   "cell_type": "code",
   "execution_count": 7,
   "id": "02ff718a-5e18-4f8b-9e7b-db075b163db4",
   "metadata": {},
   "outputs": [
    {
     "data": {
      "text/html": [
       "<div>\n",
       "<style scoped>\n",
       "    .dataframe tbody tr th:only-of-type {\n",
       "        vertical-align: middle;\n",
       "    }\n",
       "\n",
       "    .dataframe tbody tr th {\n",
       "        vertical-align: top;\n",
       "    }\n",
       "\n",
       "    .dataframe thead th {\n",
       "        text-align: right;\n",
       "    }\n",
       "</style>\n",
       "<table border=\"1\" class=\"dataframe\">\n",
       "  <thead>\n",
       "    <tr style=\"text-align: right;\">\n",
       "      <th></th>\n",
       "      <th>identifier</th>\n",
       "      <th>resourceType</th>\n",
       "      <th>propertyName</th>\n",
       "      <th>defaultAction</th>\n",
       "      <th>recommendedAction</th>\n",
       "      <th>NeatIssue</th>\n",
       "      <th>value</th>\n",
       "      <th>pattern</th>\n",
       "      <th>patternName</th>\n",
       "    </tr>\n",
       "  </thead>\n",
       "  <tbody>\n",
       "    <tr>\n",
       "      <th>0</th>\n",
       "      <td>Asset:dataset</td>\n",
       "      <td>Property</td>\n",
       "      <td>dataset</td>\n",
       "      <td>Remove the property from the rules</td>\n",
       "      <td>Make sure that graph is complete</td>\n",
       "      <td>PropertyValueTypeUndefinedWarning</td>\n",
       "      <td>NaN</td>\n",
       "      <td>NaN</td>\n",
       "      <td>NaN</td>\n",
       "    </tr>\n",
       "    <tr>\n",
       "      <th>1</th>\n",
       "      <td>property</td>\n",
       "      <td>NaN</td>\n",
       "      <td>NaN</td>\n",
       "      <td>NaN</td>\n",
       "      <td>NaN</td>\n",
       "      <td>RegexViolationWarning</td>\n",
       "      <td>Shape__Length</td>\n",
       "      <td>^(\\*)|(?!^(Property|property)$)(^[a-zA-Z][a-zA...</td>\n",
       "      <td>MoreThanOneNonAlphanumeric</td>\n",
       "    </tr>\n",
       "  </tbody>\n",
       "</table>\n",
       "</div>"
      ],
      "text/plain": [
       "[PropertyValueTypeUndefinedWarning(identifier='Asset:dataset', resource_type='Property', property_name='dataset', default_action='Remove the property from the rules', recommended_action='Make sure that graph is complete'),\n",
       " RegexViolationWarning(value='Shape__Length', pattern='^(\\\\*)|(?!^(Property|property)$)(^[a-zA-Z][a-zA-Z0-9._-]{0,253}[a-zA-Z0-9]?$)', identifier='property', pattern_name='MoreThanOneNonAlphanumeric', motivation=None)]"
      ]
     },
     "execution_count": 7,
     "metadata": {},
     "output_type": "execute_result"
    }
   ],
   "source": [
    "neat.verify()"
   ]
  },
  {
   "cell_type": "markdown",
   "id": "ebb385e2-a7ff-4f97-b57e-98a21e5482a1",
   "metadata": {},
   "source": [
    "First we check if there were any issues with creating the rules, and we find one warning. This warning \n",
    "is that there is a property, `Shape__Length`, with a double underscore which is not recommended. However,\n",
    "we can continue."
   ]
  },
  {
   "cell_type": "markdown",
   "id": "d9c04324-145b-4d4c-af20-0800e0cef149",
   "metadata": {},
   "source": [
    "We can inspect the properies that has been inferred. "
   ]
  },
  {
   "cell_type": "code",
   "execution_count": 9,
   "id": "9f2cb4f8-4c20-400b-b35b-c766b23845af",
   "metadata": {},
   "outputs": [
    {
     "data": {
      "text/html": [
       "<div>\n",
       "<style scoped>\n",
       "    .dataframe tbody tr th:only-of-type {\n",
       "        vertical-align: middle;\n",
       "    }\n",
       "\n",
       "    .dataframe tbody tr th {\n",
       "        vertical-align: top;\n",
       "    }\n",
       "\n",
       "    .dataframe thead th {\n",
       "        text-align: right;\n",
       "    }\n",
       "</style>\n",
       "<table border=\"1\" class=\"dataframe\">\n",
       "  <thead>\n",
       "    <tr style=\"text-align: right;\">\n",
       "      <th></th>\n",
       "      <th>class_</th>\n",
       "      <th>property_</th>\n",
       "      <th>value_type</th>\n",
       "      <th>max_count</th>\n",
       "      <th>reference</th>\n",
       "      <th>transformation</th>\n",
       "      <th>comment</th>\n",
       "    </tr>\n",
       "  </thead>\n",
       "  <tbody>\n",
       "    <tr>\n",
       "      <th>0</th>\n",
       "      <td>inference_space:Asset</td>\n",
       "      <td>name</td>\n",
       "      <td>string</td>\n",
       "      <td>1</td>\n",
       "      <td>http://purl.org/cognite/neat#name</td>\n",
       "      <td>inferred:Asset(inferred:name)</td>\n",
       "      <td>Class &lt;Asset&gt; has property &lt;name&gt; with value t...</td>\n",
       "    </tr>\n",
       "    <tr>\n",
       "      <th>1</th>\n",
       "      <td>inference_space:Asset</td>\n",
       "      <td>external_id</td>\n",
       "      <td>string</td>\n",
       "      <td>1</td>\n",
       "      <td>http://purl.org/cognite/neat#external_id</td>\n",
       "      <td>inferred:Asset(inferred:external_id)</td>\n",
       "      <td>Class &lt;Asset&gt; has property &lt;external_id&gt; with ...</td>\n",
       "    </tr>\n",
       "    <tr>\n",
       "      <th>2</th>\n",
       "      <td>inference_space:Asset</td>\n",
       "      <td>created_time</td>\n",
       "      <td>dateTime</td>\n",
       "      <td>1</td>\n",
       "      <td>http://purl.org/cognite/neat#created_time</td>\n",
       "      <td>inferred:Asset(inferred:created_time)</td>\n",
       "      <td>Class &lt;Asset&gt; has property &lt;created_time&gt; with...</td>\n",
       "    </tr>\n",
       "    <tr>\n",
       "      <th>3</th>\n",
       "      <td>inference_space:Asset</td>\n",
       "      <td>last_updated_time</td>\n",
       "      <td>dateTime</td>\n",
       "      <td>1</td>\n",
       "      <td>http://purl.org/cognite/neat#last_updated_time</td>\n",
       "      <td>inferred:Asset(inferred:last_updated_time)</td>\n",
       "      <td>Class &lt;Asset&gt; has property &lt;last_updated_time&gt;...</td>\n",
       "    </tr>\n",
       "    <tr>\n",
       "      <th>4</th>\n",
       "      <td>inference_space:Asset</td>\n",
       "      <td>parent</td>\n",
       "      <td>inference_space:Asset</td>\n",
       "      <td>1</td>\n",
       "      <td>http://purl.org/cognite/neat#parent</td>\n",
       "      <td>inferred:Asset(inferred:parent)</td>\n",
       "      <td>Class &lt;Asset&gt; has property &lt;parent&gt; with value...</td>\n",
       "    </tr>\n",
       "    <tr>\n",
       "      <th>5</th>\n",
       "      <td>inference_space:Asset</td>\n",
       "      <td>root</td>\n",
       "      <td>inference_space:Asset</td>\n",
       "      <td>1</td>\n",
       "      <td>http://purl.org/cognite/neat#root</td>\n",
       "      <td>inferred:Asset(inferred:root)</td>\n",
       "      <td>Class &lt;Asset&gt; has property &lt;root&gt; with value t...</td>\n",
       "    </tr>\n",
       "    <tr>\n",
       "      <th>6</th>\n",
       "      <td>inference_space:Asset</td>\n",
       "      <td>dataset</td>\n",
       "      <td>anyURI</td>\n",
       "      <td>1</td>\n",
       "      <td>http://purl.org/cognite/neat#dataset</td>\n",
       "      <td>inferred:Asset(inferred:dataset)</td>\n",
       "      <td>Class &lt;Asset&gt; has property &lt;dataset&gt; with valu...</td>\n",
       "    </tr>\n",
       "    <tr>\n",
       "      <th>7</th>\n",
       "      <td>inference_space:Asset</td>\n",
       "      <td>description</td>\n",
       "      <td>string</td>\n",
       "      <td>1</td>\n",
       "      <td>http://purl.org/cognite/neat#description</td>\n",
       "      <td>inferred:Asset(inferred:description)</td>\n",
       "      <td>Class &lt;Asset&gt; has property &lt;description&gt; with ...</td>\n",
       "    </tr>\n",
       "    <tr>\n",
       "      <th>8</th>\n",
       "      <td>inference_space:Asset</td>\n",
       "      <td>DesignPointFlowGPM</td>\n",
       "      <td>double</td>\n",
       "      <td>1</td>\n",
       "      <td>http://purl.org/cognite/neat#DesignPointFlowGPM</td>\n",
       "      <td>inferred:Asset(inferred:DesignPointFlowGPM)</td>\n",
       "      <td>Class &lt;Asset&gt; has property &lt;DesignPointFlowGPM...</td>\n",
       "    </tr>\n",
       "    <tr>\n",
       "      <th>9</th>\n",
       "      <td>inference_space:Asset</td>\n",
       "      <td>DesignPointHeadFT</td>\n",
       "      <td>double</td>\n",
       "      <td>1</td>\n",
       "      <td>http://purl.org/cognite/neat#DesignPointHeadFT</td>\n",
       "      <td>inferred:Asset(inferred:DesignPointHeadFT)</td>\n",
       "      <td>Class &lt;Asset&gt; has property &lt;DesignPointHeadFT&gt;...</td>\n",
       "    </tr>\n",
       "    <tr>\n",
       "      <th>10</th>\n",
       "      <td>inference_space:Asset</td>\n",
       "      <td>Enabled</td>\n",
       "      <td>double</td>\n",
       "      <td>1</td>\n",
       "      <td>http://purl.org/cognite/neat#Enabled</td>\n",
       "      <td>inferred:Asset(inferred:Enabled)</td>\n",
       "      <td>Class &lt;Asset&gt; has property &lt;Enabled&gt; with valu...</td>\n",
       "    </tr>\n",
       "    <tr>\n",
       "      <th>11</th>\n",
       "      <td>inference_space:Asset</td>\n",
       "      <td>FacilityID</td>\n",
       "      <td>string</td>\n",
       "      <td>1</td>\n",
       "      <td>http://purl.org/cognite/neat#FacilityID</td>\n",
       "      <td>inferred:Asset(inferred:FacilityID)</td>\n",
       "      <td>Class &lt;Asset&gt; has property &lt;FacilityID&gt; with v...</td>\n",
       "    </tr>\n",
       "    <tr>\n",
       "      <th>12</th>\n",
       "      <td>inference_space:Asset</td>\n",
       "      <td>HighHeadShutOff</td>\n",
       "      <td>double</td>\n",
       "      <td>1</td>\n",
       "      <td>http://purl.org/cognite/neat#HighHeadShutOff</td>\n",
       "      <td>inferred:Asset(inferred:HighHeadShutOff)</td>\n",
       "      <td>Class &lt;Asset&gt; has property &lt;HighHeadShutOff&gt; w...</td>\n",
       "    </tr>\n",
       "    <tr>\n",
       "      <th>13</th>\n",
       "      <td>inference_space:Asset</td>\n",
       "      <td>InstallDate</td>\n",
       "      <td>string</td>\n",
       "      <td>1</td>\n",
       "      <td>http://purl.org/cognite/neat#InstallDate</td>\n",
       "      <td>inferred:Asset(inferred:InstallDate)</td>\n",
       "      <td>Class &lt;Asset&gt; has property &lt;InstallDate&gt; with ...</td>\n",
       "    </tr>\n",
       "    <tr>\n",
       "      <th>14</th>\n",
       "      <td>inference_space:Asset</td>\n",
       "      <td>LifeCycleStatus</td>\n",
       "      <td>string</td>\n",
       "      <td>1</td>\n",
       "      <td>http://purl.org/cognite/neat#LifeCycleStatus</td>\n",
       "      <td>inferred:Asset(inferred:LifeCycleStatus)</td>\n",
       "      <td>Class &lt;Asset&gt; has property &lt;LifeCycleStatus&gt; w...</td>\n",
       "    </tr>\n",
       "    <tr>\n",
       "      <th>15</th>\n",
       "      <td>inference_space:Asset</td>\n",
       "      <td>LiftStationID</td>\n",
       "      <td>string</td>\n",
       "      <td>1</td>\n",
       "      <td>http://purl.org/cognite/neat#LiftStationID</td>\n",
       "      <td>inferred:Asset(inferred:LiftStationID)</td>\n",
       "      <td>Class &lt;Asset&gt; has property &lt;LiftStationID&gt; wit...</td>\n",
       "    </tr>\n",
       "    <tr>\n",
       "      <th>16</th>\n",
       "      <td>inference_space:Asset</td>\n",
       "      <td>LocationDescription</td>\n",
       "      <td>string</td>\n",
       "      <td>1</td>\n",
       "      <td>http://purl.org/cognite/neat#LocationDescription</td>\n",
       "      <td>inferred:Asset(inferred:LocationDescription)</td>\n",
       "      <td>Class &lt;Asset&gt; has property &lt;LocationDescriptio...</td>\n",
       "    </tr>\n",
       "    <tr>\n",
       "      <th>17</th>\n",
       "      <td>inference_space:Asset</td>\n",
       "      <td>LowHeadFT</td>\n",
       "      <td>double</td>\n",
       "      <td>1</td>\n",
       "      <td>http://purl.org/cognite/neat#LowHeadFT</td>\n",
       "      <td>inferred:Asset(inferred:LowHeadFT)</td>\n",
       "      <td>Class &lt;Asset&gt; has property &lt;LowHeadFT&gt; with va...</td>\n",
       "    </tr>\n",
       "    <tr>\n",
       "      <th>18</th>\n",
       "      <td>inference_space:Asset</td>\n",
       "      <td>LowHeadFlowGPM</td>\n",
       "      <td>double</td>\n",
       "      <td>1</td>\n",
       "      <td>http://purl.org/cognite/neat#LowHeadFlowGPM</td>\n",
       "      <td>inferred:Asset(inferred:LowHeadFlowGPM)</td>\n",
       "      <td>Class &lt;Asset&gt; has property &lt;LowHeadFlowGPM&gt; wi...</td>\n",
       "    </tr>\n",
       "    <tr>\n",
       "      <th>19</th>\n",
       "      <td>inference_space:Asset</td>\n",
       "      <td>Position</td>\n",
       "      <td>string</td>\n",
       "      <td>1</td>\n",
       "      <td>http://purl.org/cognite/neat#Position</td>\n",
       "      <td>inferred:Asset(inferred:Position)</td>\n",
       "      <td>Class &lt;Asset&gt; has property &lt;Position&gt; with val...</td>\n",
       "    </tr>\n",
       "    <tr>\n",
       "      <th>20</th>\n",
       "      <td>inference_space:Asset</td>\n",
       "      <td>PumpHP</td>\n",
       "      <td>double</td>\n",
       "      <td>1</td>\n",
       "      <td>http://purl.org/cognite/neat#PumpHP</td>\n",
       "      <td>inferred:Asset(inferred:PumpHP)</td>\n",
       "      <td>Class &lt;Asset&gt; has property &lt;PumpHP&gt; with value...</td>\n",
       "    </tr>\n",
       "    <tr>\n",
       "      <th>21</th>\n",
       "      <td>inference_space:Asset</td>\n",
       "      <td>PumpModel</td>\n",
       "      <td>integer | string</td>\n",
       "      <td>1</td>\n",
       "      <td>http://purl.org/cognite/neat#PumpModel</td>\n",
       "      <td>inferred:Asset(inferred:PumpModel)</td>\n",
       "      <td>Class &lt;Asset&gt; has property &lt;PumpModel&gt; with va...</td>\n",
       "    </tr>\n",
       "    <tr>\n",
       "      <th>22</th>\n",
       "      <td>inference_space:Asset</td>\n",
       "      <td>PumpOff</td>\n",
       "      <td>double</td>\n",
       "      <td>1</td>\n",
       "      <td>http://purl.org/cognite/neat#PumpOff</td>\n",
       "      <td>inferred:Asset(inferred:PumpOff)</td>\n",
       "      <td>Class &lt;Asset&gt; has property &lt;PumpOff&gt; with valu...</td>\n",
       "    </tr>\n",
       "    <tr>\n",
       "      <th>23</th>\n",
       "      <td>inference_space:Asset</td>\n",
       "      <td>PumpOn</td>\n",
       "      <td>double</td>\n",
       "      <td>1</td>\n",
       "      <td>http://purl.org/cognite/neat#PumpOn</td>\n",
       "      <td>inferred:Asset(inferred:PumpOn)</td>\n",
       "      <td>Class &lt;Asset&gt; has property &lt;PumpOn&gt; with value...</td>\n",
       "    </tr>\n",
       "    <tr>\n",
       "      <th>24</th>\n",
       "      <td>inference_space:Asset</td>\n",
       "      <td>Shape__Length</td>\n",
       "      <td>double</td>\n",
       "      <td>1</td>\n",
       "      <td>http://purl.org/cognite/neat#Shape__Length</td>\n",
       "      <td>inferred:Asset(inferred:Shape__Length)</td>\n",
       "      <td>Class &lt;Asset&gt; has property &lt;Shape__Length&gt; wit...</td>\n",
       "    </tr>\n",
       "    <tr>\n",
       "      <th>25</th>\n",
       "      <td>inference_space:Asset</td>\n",
       "      <td>VFD</td>\n",
       "      <td>string</td>\n",
       "      <td>1</td>\n",
       "      <td>http://purl.org/cognite/neat#VFD</td>\n",
       "      <td>inferred:Asset(inferred:VFD)</td>\n",
       "      <td>Class &lt;Asset&gt; has property &lt;VFD&gt; with value ty...</td>\n",
       "    </tr>\n",
       "  </tbody>\n",
       "</table>\n",
       "</div>"
      ],
      "text/plain": [
       "                   class_            property_             value_type  \\\n",
       "0   inference_space:Asset                 name                 string   \n",
       "1   inference_space:Asset          external_id                 string   \n",
       "2   inference_space:Asset         created_time               dateTime   \n",
       "3   inference_space:Asset    last_updated_time               dateTime   \n",
       "4   inference_space:Asset               parent  inference_space:Asset   \n",
       "5   inference_space:Asset                 root  inference_space:Asset   \n",
       "6   inference_space:Asset              dataset                 anyURI   \n",
       "7   inference_space:Asset          description                 string   \n",
       "8   inference_space:Asset   DesignPointFlowGPM                 double   \n",
       "9   inference_space:Asset    DesignPointHeadFT                 double   \n",
       "10  inference_space:Asset              Enabled                 double   \n",
       "11  inference_space:Asset           FacilityID                 string   \n",
       "12  inference_space:Asset      HighHeadShutOff                 double   \n",
       "13  inference_space:Asset          InstallDate                 string   \n",
       "14  inference_space:Asset      LifeCycleStatus                 string   \n",
       "15  inference_space:Asset        LiftStationID                 string   \n",
       "16  inference_space:Asset  LocationDescription                 string   \n",
       "17  inference_space:Asset            LowHeadFT                 double   \n",
       "18  inference_space:Asset       LowHeadFlowGPM                 double   \n",
       "19  inference_space:Asset             Position                 string   \n",
       "20  inference_space:Asset               PumpHP                 double   \n",
       "21  inference_space:Asset            PumpModel       integer | string   \n",
       "22  inference_space:Asset              PumpOff                 double   \n",
       "23  inference_space:Asset               PumpOn                 double   \n",
       "24  inference_space:Asset        Shape__Length                 double   \n",
       "25  inference_space:Asset                  VFD                 string   \n",
       "\n",
       "    max_count                                         reference  \\\n",
       "0           1                 http://purl.org/cognite/neat#name   \n",
       "1           1          http://purl.org/cognite/neat#external_id   \n",
       "2           1         http://purl.org/cognite/neat#created_time   \n",
       "3           1    http://purl.org/cognite/neat#last_updated_time   \n",
       "4           1               http://purl.org/cognite/neat#parent   \n",
       "5           1                 http://purl.org/cognite/neat#root   \n",
       "6           1              http://purl.org/cognite/neat#dataset   \n",
       "7           1          http://purl.org/cognite/neat#description   \n",
       "8           1   http://purl.org/cognite/neat#DesignPointFlowGPM   \n",
       "9           1    http://purl.org/cognite/neat#DesignPointHeadFT   \n",
       "10          1              http://purl.org/cognite/neat#Enabled   \n",
       "11          1           http://purl.org/cognite/neat#FacilityID   \n",
       "12          1      http://purl.org/cognite/neat#HighHeadShutOff   \n",
       "13          1          http://purl.org/cognite/neat#InstallDate   \n",
       "14          1      http://purl.org/cognite/neat#LifeCycleStatus   \n",
       "15          1        http://purl.org/cognite/neat#LiftStationID   \n",
       "16          1  http://purl.org/cognite/neat#LocationDescription   \n",
       "17          1            http://purl.org/cognite/neat#LowHeadFT   \n",
       "18          1       http://purl.org/cognite/neat#LowHeadFlowGPM   \n",
       "19          1             http://purl.org/cognite/neat#Position   \n",
       "20          1               http://purl.org/cognite/neat#PumpHP   \n",
       "21          1            http://purl.org/cognite/neat#PumpModel   \n",
       "22          1              http://purl.org/cognite/neat#PumpOff   \n",
       "23          1               http://purl.org/cognite/neat#PumpOn   \n",
       "24          1        http://purl.org/cognite/neat#Shape__Length   \n",
       "25          1                  http://purl.org/cognite/neat#VFD   \n",
       "\n",
       "                                  transformation  \\\n",
       "0                  inferred:Asset(inferred:name)   \n",
       "1           inferred:Asset(inferred:external_id)   \n",
       "2          inferred:Asset(inferred:created_time)   \n",
       "3     inferred:Asset(inferred:last_updated_time)   \n",
       "4                inferred:Asset(inferred:parent)   \n",
       "5                  inferred:Asset(inferred:root)   \n",
       "6               inferred:Asset(inferred:dataset)   \n",
       "7           inferred:Asset(inferred:description)   \n",
       "8    inferred:Asset(inferred:DesignPointFlowGPM)   \n",
       "9     inferred:Asset(inferred:DesignPointHeadFT)   \n",
       "10              inferred:Asset(inferred:Enabled)   \n",
       "11           inferred:Asset(inferred:FacilityID)   \n",
       "12      inferred:Asset(inferred:HighHeadShutOff)   \n",
       "13          inferred:Asset(inferred:InstallDate)   \n",
       "14      inferred:Asset(inferred:LifeCycleStatus)   \n",
       "15        inferred:Asset(inferred:LiftStationID)   \n",
       "16  inferred:Asset(inferred:LocationDescription)   \n",
       "17            inferred:Asset(inferred:LowHeadFT)   \n",
       "18       inferred:Asset(inferred:LowHeadFlowGPM)   \n",
       "19             inferred:Asset(inferred:Position)   \n",
       "20               inferred:Asset(inferred:PumpHP)   \n",
       "21            inferred:Asset(inferred:PumpModel)   \n",
       "22              inferred:Asset(inferred:PumpOff)   \n",
       "23               inferred:Asset(inferred:PumpOn)   \n",
       "24        inferred:Asset(inferred:Shape__Length)   \n",
       "25                  inferred:Asset(inferred:VFD)   \n",
       "\n",
       "                                              comment  \n",
       "0   Class <Asset> has property <name> with value t...  \n",
       "1   Class <Asset> has property <external_id> with ...  \n",
       "2   Class <Asset> has property <created_time> with...  \n",
       "3   Class <Asset> has property <last_updated_time>...  \n",
       "4   Class <Asset> has property <parent> with value...  \n",
       "5   Class <Asset> has property <root> with value t...  \n",
       "6   Class <Asset> has property <dataset> with valu...  \n",
       "7   Class <Asset> has property <description> with ...  \n",
       "8   Class <Asset> has property <DesignPointFlowGPM...  \n",
       "9   Class <Asset> has property <DesignPointHeadFT>...  \n",
       "10  Class <Asset> has property <Enabled> with valu...  \n",
       "11  Class <Asset> has property <FacilityID> with v...  \n",
       "12  Class <Asset> has property <HighHeadShutOff> w...  \n",
       "13  Class <Asset> has property <InstallDate> with ...  \n",
       "14  Class <Asset> has property <LifeCycleStatus> w...  \n",
       "15  Class <Asset> has property <LiftStationID> wit...  \n",
       "16  Class <Asset> has property <LocationDescriptio...  \n",
       "17  Class <Asset> has property <LowHeadFT> with va...  \n",
       "18  Class <Asset> has property <LowHeadFlowGPM> wi...  \n",
       "19  Class <Asset> has property <Position> with val...  \n",
       "20  Class <Asset> has property <PumpHP> with value...  \n",
       "21  Class <Asset> has property <PumpModel> with va...  \n",
       "22  Class <Asset> has property <PumpOff> with valu...  \n",
       "23  Class <Asset> has property <PumpOn> with value...  \n",
       "24  Class <Asset> has property <Shape__Length> wit...  \n",
       "25  Class <Asset> has property <VFD> with value ty...  "
      ]
     },
     "execution_count": 9,
     "metadata": {},
     "output_type": "execute_result"
    }
   ],
   "source": [
    "neat.inspect.properties"
   ]
  },
  {
   "cell_type": "markdown",
   "id": "caf0044a-4fc5-4590-af61-700d360961d1",
   "metadata": {},
   "source": [
    "We notice that for example the `PumpModel` is both an integer and a string, as the `Inference` found data of both types."
   ]
  },
  {
   "cell_type": "markdown",
   "id": "7bf193ef-d0bc-4d7c-93a7-fed157127700",
   "metadata": {},
   "source": [
    "We can inspect the comment from the `Inference` type:"
   ]
  },
  {
   "cell_type": "code",
   "execution_count": 11,
   "id": "91515d15-b28a-4b6c-83fc-092f56d1532c",
   "metadata": {},
   "outputs": [
    {
     "data": {
      "text/plain": [
       "'Class <Asset> has property <PumpModel> with value types <string> which occurs <140> times and <integer> which occurs <6> times in the graph'"
      ]
     },
     "execution_count": 11,
     "metadata": {},
     "output_type": "execute_result"
    }
   ],
   "source": [
    "neat.inspect.properties.loc[21, \"comment\"]"
   ]
  },
  {
   "cell_type": "markdown",
   "id": "771d808e-74a2-469f-a7cd-8d64182fd8d1",
   "metadata": {},
   "source": [
    "And we see that this is most likely a string as that occured much more for this field in the graph than the integer."
   ]
  },
  {
   "cell_type": "markdown",
   "id": "80b97340-90b2-4c79-9a97-326113721ee8",
   "metadata": {},
   "source": [
    "## Exporting Data Model"
   ]
  },
  {
   "cell_type": "markdown",
   "id": "9ca8d5c2-333d-4ff3-8ee6-e27058c730fb",
   "metadata": {},
   "source": [
    "Lets export our newly created data model to CDF. First, we need to convert it to an phsycial format."
   ]
  },
  {
   "cell_type": "code",
   "execution_count": 12,
   "id": "01031b7f-0707-4818-90de-c406132dd56c",
   "metadata": {},
   "outputs": [
    {
     "name": "stdout",
     "output_type": "stream",
     "text": [
      "Rules converted to dms\n"
     ]
    },
    {
     "name": "stderr",
     "output_type": "stream",
     "text": [
      "C:\\Users\\AndersAlbert\\AppData\\Local\\pypoetry\\Cache\\virtualenvs\\cognite-neat-WszCo0Uu-py3.12\\Lib\\site-packages\\pydantic\\main.py:212: RegexViolationWarning: ('Shape__Length', '(?!^(property|space|externalId|createdTime|lastUpdatedTime|deletedTime|edge_id|node_id|project_id|property_group|seq|tg_table_name|extensions)$)(^[a-zA-Z][a-zA-Z0-9_]{0,253}[a-zA-Z0-9]?$)', 'property', 'MoreThanOneNonAlphanumeric')\n",
      "  validated_self = self.__pydantic_validator__.validate_python(data, self_instance=self)\n",
      "C:\\Users\\AndersAlbert\\AppData\\Local\\pypoetry\\Cache\\virtualenvs\\cognite-neat-WszCo0Uu-py3.12\\Lib\\site-packages\\pydantic\\main.py:212: RegexViolationWarning: ('Shape__Length', '^(\\\\*)|(?!^(Property|property)$)(^[a-zA-Z][a-zA-Z0-9._-]{0,253}[a-zA-Z0-9]?$)', 'property', 'MoreThanOneNonAlphanumeric')\n",
      "  validated_self = self.__pydantic_validator__.validate_python(data, self_instance=self)\n"
     ]
    }
   ],
   "source": [
    "neat.convert(\"dms\")"
   ]
  },
  {
   "cell_type": "code",
   "execution_count": 13,
   "id": "eabc33ff-b178-48be-b1f1-6569c1fdd860",
   "metadata": {},
   "outputs": [
    {
     "data": {
      "text/html": [
       "<H2>Data Model</H2><br /><div>\n",
       "<style scoped>\n",
       "    .dataframe tbody tr th:only-of-type {\n",
       "        vertical-align: middle;\n",
       "    }\n",
       "\n",
       "    .dataframe tbody tr th {\n",
       "        vertical-align: top;\n",
       "    }\n",
       "\n",
       "    .dataframe thead th {\n",
       "        text-align: right;\n",
       "    }\n",
       "</style>\n",
       "<table border=\"1\" class=\"dataframe\">\n",
       "  <thead>\n",
       "    <tr style=\"text-align: right;\">\n",
       "      <th></th>\n",
       "      <th></th>\n",
       "    </tr>\n",
       "  </thead>\n",
       "  <tbody>\n",
       "    <tr>\n",
       "      <th>type</th>\n",
       "      <td>Physical Data Model</td>\n",
       "    </tr>\n",
       "    <tr>\n",
       "      <th>intended for</th>\n",
       "      <td>DMS Architect</td>\n",
       "    </tr>\n",
       "    <tr>\n",
       "      <th>name</th>\n",
       "      <td>InferredDataModel</td>\n",
       "    </tr>\n",
       "    <tr>\n",
       "      <th>space</th>\n",
       "      <td>inference_space</td>\n",
       "    </tr>\n",
       "    <tr>\n",
       "      <th>external_id</th>\n",
       "      <td>inferreddatamodel</td>\n",
       "    </tr>\n",
       "    <tr>\n",
       "      <th>version</th>\n",
       "      <td>v1</td>\n",
       "    </tr>\n",
       "    <tr>\n",
       "      <th>views</th>\n",
       "      <td>1</td>\n",
       "    </tr>\n",
       "    <tr>\n",
       "      <th>containers</th>\n",
       "      <td>1</td>\n",
       "    </tr>\n",
       "    <tr>\n",
       "      <th>properties</th>\n",
       "      <td>26</td>\n",
       "    </tr>\n",
       "  </tbody>\n",
       "</table>\n",
       "</div><br /><H2>Instances</H2> <br /><strong>Overview</strong>:<ul><li>1 types</strong></li><li>245 instances</strong></li></ul><div>\n",
       "<style scoped>\n",
       "    .dataframe tbody tr th:only-of-type {\n",
       "        vertical-align: middle;\n",
       "    }\n",
       "\n",
       "    .dataframe tbody tr th {\n",
       "        vertical-align: top;\n",
       "    }\n",
       "\n",
       "    .dataframe thead th {\n",
       "        text-align: right;\n",
       "    }\n",
       "</style>\n",
       "<table border=\"1\" class=\"dataframe\">\n",
       "  <thead>\n",
       "    <tr style=\"text-align: right;\">\n",
       "      <th></th>\n",
       "      <th>Type</th>\n",
       "      <th>Occurrence</th>\n",
       "    </tr>\n",
       "  </thead>\n",
       "  <tbody>\n",
       "    <tr>\n",
       "      <th>0</th>\n",
       "      <td>Asset</td>\n",
       "      <td>245</td>\n",
       "    </tr>\n",
       "  </tbody>\n",
       "</table>\n",
       "</div><br /><strong>Provenance</strong>:<ul><li>Initialize graph store as Memory</li><li>Extracted triples to graph store using AssetsExtractor</li><li>Added rules to graph store as InformationRules</li><li>Upsert prefixes to graph store</li></ul>"
      ],
      "text/plain": [
       "<cognite.neat._session._base.NeatSession at 0x1a276127bc0>"
      ]
     },
     "execution_count": 13,
     "metadata": {},
     "output_type": "execute_result"
    }
   ],
   "source": [
    "neat"
   ]
  },
  {
   "cell_type": "code",
   "execution_count": 12,
   "id": "7b8a9743-796b-4537-8b71-89c8f1b3a5fc",
   "metadata": {},
   "outputs": [
    {
     "data": {
      "text/html": [
       "<div>\n",
       "<style scoped>\n",
       "    .dataframe tbody tr th:only-of-type {\n",
       "        vertical-align: middle;\n",
       "    }\n",
       "\n",
       "    .dataframe tbody tr th {\n",
       "        vertical-align: top;\n",
       "    }\n",
       "\n",
       "    .dataframe thead th {\n",
       "        text-align: right;\n",
       "    }\n",
       "</style>\n",
       "<table border=\"1\" class=\"dataframe\">\n",
       "  <thead>\n",
       "    <tr style=\"text-align: right;\">\n",
       "      <th></th>\n",
       "      <th>name</th>\n",
       "      <th>created</th>\n",
       "    </tr>\n",
       "  </thead>\n",
       "  <tbody>\n",
       "    <tr>\n",
       "      <th>0</th>\n",
       "      <td>spaces</td>\n",
       "      <td>1</td>\n",
       "    </tr>\n",
       "    <tr>\n",
       "      <th>1</th>\n",
       "      <td>containers</td>\n",
       "      <td>1</td>\n",
       "    </tr>\n",
       "    <tr>\n",
       "      <th>2</th>\n",
       "      <td>views</td>\n",
       "      <td>1</td>\n",
       "    </tr>\n",
       "    <tr>\n",
       "      <th>3</th>\n",
       "      <td>data_models</td>\n",
       "      <td>1</td>\n",
       "    </tr>\n",
       "  </tbody>\n",
       "</table>\n",
       "</div>"
      ],
      "text/plain": [
       "[UploadResult(name='spaces', error_messages=[], issues=[], created={'inference_space'}, upserted=set(), deleted=set(), changed=set(), unchanged=set(), skipped=set(), failed_created=set(), failed_upserted=set(), failed_changed=set(), failed_deleted=set()),\n",
       " UploadResult(name='containers', error_messages=[], issues=[], created={ContainerId(space='inference_space', external_id='Asset')}, upserted=set(), deleted=set(), changed=set(), unchanged=set(), skipped=set(), failed_created=set(), failed_upserted=set(), failed_changed=set(), failed_deleted=set()),\n",
       " UploadResult(name='views', error_messages=[], issues=[], created={ViewId(space='inference_space', external_id='Asset', version='v1')}, upserted=set(), deleted=set(), changed=set(), unchanged=set(), skipped=set(), failed_created=set(), failed_upserted=set(), failed_changed=set(), failed_deleted=set()),\n",
       " UploadResult(name='data_models', error_messages=[], issues=[], created={DataModelId(space='inference_space', external_id='inferreddatamodel', version='v1')}, upserted=set(), deleted=set(), changed=set(), unchanged=set(), skipped=set(), failed_created=set(), failed_upserted=set(), failed_changed=set(), failed_deleted=set())]"
      ]
     },
     "execution_count": 12,
     "metadata": {},
     "output_type": "execute_result"
    }
   ],
   "source": [
    "neat.to.cdf.data_model()"
   ]
  },
  {
   "cell_type": "markdown",
   "id": "bd2035ef-0245-4d81-bced-ad1cc5cd6146",
   "metadata": {},
   "source": [
    "We see the data model was succesfully created."
   ]
  },
  {
   "cell_type": "markdown",
   "id": "13f75cfa-d61c-42c1-8c8e-dff153b95a50",
   "metadata": {},
   "source": [
    "## Populating Data Model"
   ]
  },
  {
   "cell_type": "markdown",
   "id": "13f6ebad-367e-4f3f-907f-d51c4f233091",
   "metadata": {},
   "source": [
    "As the data model is ready, we can move the instances to CDF "
   ]
  },
  {
   "cell_type": "markdown",
   "id": "0f8d5ce7-e79d-418c-b7a3-89a7a9337143",
   "metadata": {},
   "source": [
    "First, we ensure the instance space exists."
   ]
  },
  {
   "cell_type": "code",
   "execution_count": 14,
   "id": "8ebacc8b-11c6-458b-ad72-3dd582aefbdf",
   "metadata": {},
   "outputs": [],
   "source": [
    "from cognite.client import data_modeling as dm"
   ]
  },
  {
   "cell_type": "code",
   "execution_count": 15,
   "id": "23c53e60-98e3-4de2-8874-83b8c618c2fc",
   "metadata": {},
   "outputs": [
    {
     "data": {
      "text/html": [
       "<div>\n",
       "<style scoped>\n",
       "    .dataframe tbody tr th:only-of-type {\n",
       "        vertical-align: middle;\n",
       "    }\n",
       "\n",
       "    .dataframe tbody tr th {\n",
       "        vertical-align: top;\n",
       "    }\n",
       "\n",
       "    .dataframe thead th {\n",
       "        text-align: right;\n",
       "    }\n",
       "</style>\n",
       "<table border=\"1\" class=\"dataframe\">\n",
       "  <thead>\n",
       "    <tr style=\"text-align: right;\">\n",
       "      <th></th>\n",
       "      <th>value</th>\n",
       "    </tr>\n",
       "  </thead>\n",
       "  <tbody>\n",
       "    <tr>\n",
       "      <th>space</th>\n",
       "      <td>sp_pump_station</td>\n",
       "    </tr>\n",
       "    <tr>\n",
       "      <th>is_global</th>\n",
       "      <td>False</td>\n",
       "    </tr>\n",
       "    <tr>\n",
       "      <th>last_updated_time</th>\n",
       "      <td>2024-07-09 05:31:00.944000</td>\n",
       "    </tr>\n",
       "    <tr>\n",
       "      <th>created_time</th>\n",
       "      <td>2024-07-09 05:31:00.944000</td>\n",
       "    </tr>\n",
       "  </tbody>\n",
       "</table>\n",
       "</div>"
      ],
      "text/plain": [
       "<Space(space='sp_pump_station') at 0x1a27b982540>"
      ]
     },
     "execution_count": 15,
     "metadata": {},
     "output_type": "execute_result"
    }
   ],
   "source": [
    "created = client.data_modeling.spaces.apply(dm.SpaceApply(\"sp_pump_station\"))\n",
    "created"
   ]
  },
  {
   "cell_type": "markdown",
   "id": "75b0669d-f5ee-49f6-a8b4-d4b1061b0e7f",
   "metadata": {},
   "source": [
    "We can now use the loader to populate the data model in CDF."
   ]
  },
  {
   "cell_type": "code",
   "execution_count": 16,
   "id": "824790ec-205d-4905-a746-9076b22401c6",
   "metadata": {},
   "outputs": [
    {
     "data": {
      "text/html": [
       "<div>\n",
       "<style scoped>\n",
       "    .dataframe tbody tr th:only-of-type {\n",
       "        vertical-align: middle;\n",
       "    }\n",
       "\n",
       "    .dataframe tbody tr th {\n",
       "        vertical-align: top;\n",
       "    }\n",
       "\n",
       "    .dataframe thead th {\n",
       "        text-align: right;\n",
       "    }\n",
       "</style>\n",
       "<table border=\"1\" class=\"dataframe\">\n",
       "  <thead>\n",
       "    <tr style=\"text-align: right;\">\n",
       "      <th></th>\n",
       "      <th>name</th>\n",
       "      <th>changed</th>\n",
       "    </tr>\n",
       "  </thead>\n",
       "  <tbody>\n",
       "    <tr>\n",
       "      <th>0</th>\n",
       "      <td>Nodes</td>\n",
       "      <td>245.0</td>\n",
       "    </tr>\n",
       "    <tr>\n",
       "      <th>1</th>\n",
       "      <td>Edges</td>\n",
       "      <td>NaN</td>\n",
       "    </tr>\n",
       "  </tbody>\n",
       "</table>\n",
       "</div>"
      ],
      "text/plain": [
       "[UploadResult(name='Nodes', error_messages=[], issues=[], created=set(), upserted=set(), deleted=set(), changed={NodeId(space='sp_pump_station', external_id='Asset_4552624840004426'), NodeId(space='sp_pump_station', external_id='Asset_6416891387482527'), NodeId(space='sp_pump_station', external_id='Asset_1249607927059004'), NodeId(space='sp_pump_station', external_id='Asset_3280739856601792'), NodeId(space='sp_pump_station', external_id='Asset_7478847799313763'), NodeId(space='sp_pump_station', external_id='Asset_7412273070008116'), NodeId(space='sp_pump_station', external_id='Asset_8146710551744753'), NodeId(space='sp_pump_station', external_id='Asset_1357508377455386'), NodeId(space='sp_pump_station', external_id='Asset_7203345045002373'), NodeId(space='sp_pump_station', external_id='Asset_690992856868092'), NodeId(space='sp_pump_station', external_id='Asset_782919551178381'), NodeId(space='sp_pump_station', external_id='Asset_8149656736332002'), NodeId(space='sp_pump_station', external_id='Asset_7892354435770575'), NodeId(space='sp_pump_station', external_id='Asset_409408085016912'), NodeId(space='sp_pump_station', external_id='Asset_5007277578782055'), NodeId(space='sp_pump_station', external_id='Asset_520686293117320'), NodeId(space='sp_pump_station', external_id='Asset_7478288481786780'), NodeId(space='sp_pump_station', external_id='Asset_6451825071660398'), NodeId(space='sp_pump_station', external_id='Asset_3790466002578495'), NodeId(space='sp_pump_station', external_id='Asset_663950299702707'), NodeId(space='sp_pump_station', external_id='Asset_1432498771938483'), NodeId(space='sp_pump_station', external_id='Asset_777675583540505'), NodeId(space='sp_pump_station', external_id='Asset_8628246215971298'), NodeId(space='sp_pump_station', external_id='Asset_4982518105700769'), NodeId(space='sp_pump_station', external_id='Asset_3167103698462272'), NodeId(space='sp_pump_station', external_id='Asset_4827422846791984'), NodeId(space='sp_pump_station', external_id='Asset_2332136792376110'), NodeId(space='sp_pump_station', external_id='Asset_3586569534260203'), NodeId(space='sp_pump_station', external_id='Asset_4198593876687587'), NodeId(space='sp_pump_station', external_id='Asset_1575285876968678'), NodeId(space='sp_pump_station', external_id='Asset_4356678455013717'), NodeId(space='sp_pump_station', external_id='Asset_323324050354647'), NodeId(space='sp_pump_station', external_id='Asset_7858499984800024'), NodeId(space='sp_pump_station', external_id='Asset_5991677408633367'), NodeId(space='sp_pump_station', external_id='Asset_1869006072570857'), NodeId(space='sp_pump_station', external_id='Asset_8843530297877179'), NodeId(space='sp_pump_station', external_id='Asset_3309648858394308'), NodeId(space='sp_pump_station', external_id='Asset_7894177745270490'), NodeId(space='sp_pump_station', external_id='Asset_8858634333103219'), NodeId(space='sp_pump_station', external_id='Asset_1648354084107813'), NodeId(space='sp_pump_station', external_id='Asset_3659337637509008'), NodeId(space='sp_pump_station', external_id='Asset_2798673936255507'), NodeId(space='sp_pump_station', external_id='Asset_4822096456178490'), NodeId(space='sp_pump_station', external_id='Asset_5087293594250586'), NodeId(space='sp_pump_station', external_id='Asset_6664824877870138'), NodeId(space='sp_pump_station', external_id='Asset_5428549865274207'), NodeId(space='sp_pump_station', external_id='Asset_1324043696796177'), NodeId(space='sp_pump_station', external_id='Asset_5130211688970126'), NodeId(space='sp_pump_station', external_id='Asset_962578142683188'), NodeId(space='sp_pump_station', external_id='Asset_5131927739646770'), NodeId(space='sp_pump_station', external_id='Asset_7850022972804616'), NodeId(space='sp_pump_station', external_id='Asset_8210406762466554'), NodeId(space='sp_pump_station', external_id='Asset_3253702221176761'), NodeId(space='sp_pump_station', external_id='Asset_8319154213336032'), NodeId(space='sp_pump_station', external_id='Asset_2738034707487198'), NodeId(space='sp_pump_station', external_id='Asset_1599542126336595'), NodeId(space='sp_pump_station', external_id='Asset_597713956124653'), NodeId(space='sp_pump_station', external_id='Asset_3009457875737229'), NodeId(space='sp_pump_station', external_id='Asset_6841838289417335'), NodeId(space='sp_pump_station', external_id='Asset_4226675102638478'), NodeId(space='sp_pump_station', external_id='Asset_4582156459236482'), NodeId(space='sp_pump_station', external_id='Asset_3555954990835329'), NodeId(space='sp_pump_station', external_id='Asset_2383890056251078'), NodeId(space='sp_pump_station', external_id='Asset_6700162977207830'), NodeId(space='sp_pump_station', external_id='Asset_3718586005996830'), NodeId(space='sp_pump_station', external_id='Asset_7136850922305786'), NodeId(space='sp_pump_station', external_id='Asset_3202643099427992'), NodeId(space='sp_pump_station', external_id='Asset_7098679359189829'), NodeId(space='sp_pump_station', external_id='Asset_6717164076357170'), NodeId(space='sp_pump_station', external_id='Asset_5168608124271064'), NodeId(space='sp_pump_station', external_id='Asset_4712097420257305'), NodeId(space='sp_pump_station', external_id='Asset_449616738664544'), NodeId(space='sp_pump_station', external_id='Asset_6264128498357271'), NodeId(space='sp_pump_station', external_id='Asset_7946696422000355'), NodeId(space='sp_pump_station', external_id='Asset_1036635642295968'), NodeId(space='sp_pump_station', external_id='Asset_2648639705661733'), NodeId(space='sp_pump_station', external_id='Asset_862846106956486'), NodeId(space='sp_pump_station', external_id='Asset_522426732998405'), NodeId(space='sp_pump_station', external_id='Asset_8523137874354911'), NodeId(space='sp_pump_station', external_id='Asset_1194729803680100'), NodeId(space='sp_pump_station', external_id='Asset_5547362797792188'), NodeId(space='sp_pump_station', external_id='Asset_6410548171595891'), NodeId(space='sp_pump_station', external_id='Asset_6643904356520272'), NodeId(space='sp_pump_station', external_id='Asset_5687470951999200'), NodeId(space='sp_pump_station', external_id='Asset_2534347363555646'), NodeId(space='sp_pump_station', external_id='Asset_4611308323382841'), NodeId(space='sp_pump_station', external_id='Asset_5155311610956039'), NodeId(space='sp_pump_station', external_id='Asset_1038381373070659'), NodeId(space='sp_pump_station', external_id='Asset_8796025392183616'), NodeId(space='sp_pump_station', external_id='Asset_1251681124138604'), NodeId(space='sp_pump_station', external_id='Asset_2252447920800496'), NodeId(space='sp_pump_station', external_id='Asset_4282637232083446'), NodeId(space='sp_pump_station', external_id='Asset_3927731196795261'), NodeId(space='sp_pump_station', external_id='Asset_7528927086455056'), NodeId(space='sp_pump_station', external_id='Asset_5413774089595059'), NodeId(space='sp_pump_station', external_id='Asset_3282403756294926'), NodeId(space='sp_pump_station', external_id='Asset_7245358762439012'), NodeId(space='sp_pump_station', external_id='Asset_3947736878768533'), NodeId(space='sp_pump_station', external_id='Asset_23921452012034'), NodeId(space='sp_pump_station', external_id='Asset_2094973082337502'), NodeId(space='sp_pump_station', external_id='Asset_3742073732470345'), NodeId(space='sp_pump_station', external_id='Asset_3281981391093912'), NodeId(space='sp_pump_station', external_id='Asset_5135123609065026'), NodeId(space='sp_pump_station', external_id='Asset_7806404385295025'), NodeId(space='sp_pump_station', external_id='Asset_2879000772727558'), NodeId(space='sp_pump_station', external_id='Asset_5328233515028106'), NodeId(space='sp_pump_station', external_id='Asset_3183377929919962'), NodeId(space='sp_pump_station', external_id='Asset_2041897821048926'), NodeId(space='sp_pump_station', external_id='Asset_791284880355712'), NodeId(space='sp_pump_station', external_id='Asset_8855980446983123'), NodeId(space='sp_pump_station', external_id='Asset_2086072639670581'), NodeId(space='sp_pump_station', external_id='Asset_8222636825254386'), NodeId(space='sp_pump_station', external_id='Asset_127734001123260'), NodeId(space='sp_pump_station', external_id='Asset_8058069339001352'), NodeId(space='sp_pump_station', external_id='Asset_4891974892606772'), NodeId(space='sp_pump_station', external_id='Asset_6564758760526211'), NodeId(space='sp_pump_station', external_id='Asset_2508670135160060'), NodeId(space='sp_pump_station', external_id='Asset_6819169398550305'), NodeId(space='sp_pump_station', external_id='Asset_4161802645953289'), NodeId(space='sp_pump_station', external_id='Asset_771688114151184'), NodeId(space='sp_pump_station', external_id='Asset_1328367249298685'), NodeId(space='sp_pump_station', external_id='Asset_673071391885663'), NodeId(space='sp_pump_station', external_id='Asset_3192880850822919'), NodeId(space='sp_pump_station', external_id='Asset_2990577136288617'), NodeId(space='sp_pump_station', external_id='Asset_7267922459333514'), NodeId(space='sp_pump_station', external_id='Asset_1225335557735852'), NodeId(space='sp_pump_station', external_id='Asset_2109398666822135'), NodeId(space='sp_pump_station', external_id='Asset_2460227122870007'), NodeId(space='sp_pump_station', external_id='Asset_8724043116543799'), NodeId(space='sp_pump_station', external_id='Asset_5333316208400622'), NodeId(space='sp_pump_station', external_id='Asset_4072884896428048'), NodeId(space='sp_pump_station', external_id='Asset_1304177008138755'), NodeId(space='sp_pump_station', external_id='Asset_765927258989033'), NodeId(space='sp_pump_station', external_id='Asset_5715782298837748'), NodeId(space='sp_pump_station', external_id='Asset_227176319156396'), NodeId(space='sp_pump_station', external_id='Asset_7004541113243114'), NodeId(space='sp_pump_station', external_id='Asset_3322086940842206'), NodeId(space='sp_pump_station', external_id='Asset_3515282769165525'), NodeId(space='sp_pump_station', external_id='Asset_6276047304545772'), NodeId(space='sp_pump_station', external_id='Asset_8553994241961892'), NodeId(space='sp_pump_station', external_id='Asset_2511536057605256'), NodeId(space='sp_pump_station', external_id='Asset_3814858014848944'), NodeId(space='sp_pump_station', external_id='Asset_8504798483669198'), NodeId(space='sp_pump_station', external_id='Asset_8526018147369023'), NodeId(space='sp_pump_station', external_id='Asset_996835369435603'), NodeId(space='sp_pump_station', external_id='Asset_3912512319616642'), NodeId(space='sp_pump_station', external_id='Asset_8236357046250336'), NodeId(space='sp_pump_station', external_id='Asset_8786745865150192'), NodeId(space='sp_pump_station', external_id='Asset_5019118534073978'), NodeId(space='sp_pump_station', external_id='Asset_8349112794292547'), NodeId(space='sp_pump_station', external_id='Asset_7062323820650437'), NodeId(space='sp_pump_station', external_id='Asset_1350559385255241'), NodeId(space='sp_pump_station', external_id='Asset_4776644471418856'), NodeId(space='sp_pump_station', external_id='Asset_4139420867004251'), NodeId(space='sp_pump_station', external_id='Asset_8786769086021865'), NodeId(space='sp_pump_station', external_id='Asset_813431221291430'), NodeId(space='sp_pump_station', external_id='Asset_8393774212294989'), NodeId(space='sp_pump_station', external_id='Asset_720243198469901'), NodeId(space='sp_pump_station', external_id='Asset_6037474207471867'), NodeId(space='sp_pump_station', external_id='Asset_1864313623913141'), NodeId(space='sp_pump_station', external_id='Asset_8056653045323204'), NodeId(space='sp_pump_station', external_id='Asset_8706147153757321'), NodeId(space='sp_pump_station', external_id='Asset_8068837493233743'), NodeId(space='sp_pump_station', external_id='Asset_1062857167709404'), NodeId(space='sp_pump_station', external_id='Asset_3543366413287754'), NodeId(space='sp_pump_station', external_id='Asset_1717136324291166'), NodeId(space='sp_pump_station', external_id='Asset_5076110772903317'), NodeId(space='sp_pump_station', external_id='Asset_6499093917037259'), NodeId(space='sp_pump_station', external_id='Asset_8677060254799529'), NodeId(space='sp_pump_station', external_id='Asset_4232408171704947'), NodeId(space='sp_pump_station', external_id='Asset_1336187237481974'), NodeId(space='sp_pump_station', external_id='Asset_7266418315229309'), NodeId(space='sp_pump_station', external_id='Asset_3543745228672494'), NodeId(space='sp_pump_station', external_id='Asset_5773835011768211'), NodeId(space='sp_pump_station', external_id='Asset_4093409240484544'), NodeId(space='sp_pump_station', external_id='Asset_2084401469825731'), NodeId(space='sp_pump_station', external_id='Asset_111670655968193'), NodeId(space='sp_pump_station', external_id='Asset_2622548696369535'), NodeId(space='sp_pump_station', external_id='Asset_1994529305403431'), NodeId(space='sp_pump_station', external_id='Asset_8233413405577277'), NodeId(space='sp_pump_station', external_id='Asset_3452092217821423'), NodeId(space='sp_pump_station', external_id='Asset_3925087570184060'), NodeId(space='sp_pump_station', external_id='Asset_165156832820784'), NodeId(space='sp_pump_station', external_id='Asset_836522380797694'), NodeId(space='sp_pump_station', external_id='Asset_682395660264665'), NodeId(space='sp_pump_station', external_id='Asset_2023737592746820'), NodeId(space='sp_pump_station', external_id='Asset_6495798019337129'), NodeId(space='sp_pump_station', external_id='Asset_413299123404753'), NodeId(space='sp_pump_station', external_id='Asset_385619558573894'), NodeId(space='sp_pump_station', external_id='Asset_6779172796182945'), NodeId(space='sp_pump_station', external_id='Asset_2479470568519150'), NodeId(space='sp_pump_station', external_id='Asset_8536226378041620'), NodeId(space='sp_pump_station', external_id='Asset_6641759103584656'), NodeId(space='sp_pump_station', external_id='Asset_6614542201323700'), NodeId(space='sp_pump_station', external_id='Asset_8279593367922084'), NodeId(space='sp_pump_station', external_id='Asset_2395276745188968'), NodeId(space='sp_pump_station', external_id='Asset_465559698381891'), NodeId(space='sp_pump_station', external_id='Asset_8878199396116383'), NodeId(space='sp_pump_station', external_id='Asset_5545507452452289'), NodeId(space='sp_pump_station', external_id='Asset_7047173837936574'), NodeId(space='sp_pump_station', external_id='Asset_8925755907669641'), NodeId(space='sp_pump_station', external_id='Asset_3015520698705176'), NodeId(space='sp_pump_station', external_id='Asset_1424210982323954'), NodeId(space='sp_pump_station', external_id='Asset_2011390888860506'), NodeId(space='sp_pump_station', external_id='Asset_6391337840888778'), NodeId(space='sp_pump_station', external_id='Asset_8465364910017703'), NodeId(space='sp_pump_station', external_id='Asset_1179620013510534'), NodeId(space='sp_pump_station', external_id='Asset_4030282795820257'), NodeId(space='sp_pump_station', external_id='Asset_4752540074534822'), NodeId(space='sp_pump_station', external_id='Asset_3886073802761259'), NodeId(space='sp_pump_station', external_id='Asset_2046186730180729'), NodeId(space='sp_pump_station', external_id='Asset_8064479308748326'), NodeId(space='sp_pump_station', external_id='Asset_1774832114371582'), NodeId(space='sp_pump_station', external_id='Asset_7434639041955664'), NodeId(space='sp_pump_station', external_id='Asset_4261713708156963'), NodeId(space='sp_pump_station', external_id='Asset_8906381697072008'), NodeId(space='sp_pump_station', external_id='Asset_2336737113812249'), NodeId(space='sp_pump_station', external_id='Asset_6480569031884264'), NodeId(space='sp_pump_station', external_id='Asset_8890997887425292'), NodeId(space='sp_pump_station', external_id='Asset_5041263389346470'), NodeId(space='sp_pump_station', external_id='Asset_2614391887415841'), NodeId(space='sp_pump_station', external_id='Asset_756443337825960'), NodeId(space='sp_pump_station', external_id='Asset_1037825783121772'), NodeId(space='sp_pump_station', external_id='Asset_6781772664404616'), NodeId(space='sp_pump_station', external_id='Asset_7523396261491280'), NodeId(space='sp_pump_station', external_id='Asset_2736664555336384'), NodeId(space='sp_pump_station', external_id='Asset_779363703909879'), NodeId(space='sp_pump_station', external_id='Asset_8808794232286601'), NodeId(space='sp_pump_station', external_id='Asset_2659669230977122'), NodeId(space='sp_pump_station', external_id='Asset_6996457070033380'), NodeId(space='sp_pump_station', external_id='Asset_7836353321625289'), NodeId(space='sp_pump_station', external_id='Asset_5281038386138027'), NodeId(space='sp_pump_station', external_id='Asset_1602743241841442'), NodeId(space='sp_pump_station', external_id='Asset_1496076023751088'), NodeId(space='sp_pump_station', external_id='Asset_6004900365929538'), NodeId(space='sp_pump_station', external_id='Asset_4487513710880340'), NodeId(space='sp_pump_station', external_id='Asset_7516256968258946'), NodeId(space='sp_pump_station', external_id='Asset_8174955310442028'), NodeId(space='sp_pump_station', external_id='Asset_8481426694002548'), NodeId(space='sp_pump_station', external_id='Asset_8770242167137269'), NodeId(space='sp_pump_station', external_id='Asset_285703678588887'), NodeId(space='sp_pump_station', external_id='Asset_3966852611906380'), NodeId(space='sp_pump_station', external_id='Asset_81467243787762'), NodeId(space='sp_pump_station', external_id='Asset_269634716915797'), NodeId(space='sp_pump_station', external_id='Asset_2849528494272170')}, unchanged=set(), skipped=set(), failed_created=set(), failed_upserted=set(), failed_changed=set(), failed_deleted=set()),\n",
       " UploadResult(name='Edges', error_messages=[], issues=[], created=set(), upserted=set(), deleted=set(), changed=set(), unchanged=set(), skipped=set(), failed_created=set(), failed_upserted=set(), failed_changed=set(), failed_deleted=set())]"
      ]
     },
     "execution_count": 16,
     "metadata": {},
     "output_type": "execute_result"
    }
   ],
   "source": [
    "neat.to.cdf.instances(created.space)"
   ]
  },
  {
   "cell_type": "markdown",
   "id": "1b67f189-17b9-44e7-b43f-286f95708dea",
   "metadata": {},
   "source": [
    "As we see from the result above, Neat has created 245 Nodes in the new data model."
   ]
  },
  {
   "cell_type": "markdown",
   "id": "e9cf8808-f940-4ffc-91d0-4bfdcc36524f",
   "metadata": {},
   "source": [
    "## Results"
   ]
  },
  {
   "cell_type": "markdown",
   "id": "ff361f69-e916-493c-ab73-3c3c2777084b",
   "metadata": {},
   "source": [
    "We can now go into CDF and inspect the results. Looking at the data model we created, we can see the schema for\n",
    "the inferred Asset\n",
    "\n",
    "<img src=\"../../artifacts/figs/asset_hierarchy_lift_pump_stations_dms.png\" width=\"400\">"
   ]
  },
  {
   "cell_type": "markdown",
   "id": "65e9ed2b-bfc6-4dc9-b259-54a820762c67",
   "metadata": {},
   "source": [
    "Furthermore, we can inspect the populated nodes in this Asset schema\n",
    "\n",
    "<img src=\"../../artifacts/figs/asset_hierarchy_lift_pump_stations_populated.png\" width=\"1000\">"
   ]
  },
  {
   "cell_type": "markdown",
   "id": "9e5a73f8-9c61-4ad0-8e83-c0e7cad82b2d",
   "metadata": {},
   "source": [
    "## Final Remarks"
   ]
  },
  {
   "cell_type": "markdown",
   "id": "a9ad07d2-86fd-46cf-89bf-d7827577f5bf",
   "metadata": {},
   "source": [
    "* In this tutorial, we used the in-memory version of the Neat store. This works well for small examples, like the toy example here, but for larger asset hierarchies we likely need to use a faster triple store such as `GraphDB` or `Oxigraph`. These are also available in Neat, but require extra dependencies.\n",
    "* This can be considered the first step of a full migration. At least two related problems may remain\n",
    "    1. First, we might want to infer a more specific type than `Asset`, for example, `Pump` and `LiftStation`. This means adding information that is not explicitly set in the existing Asset Hierarchy. The type might be implicitly defined from the level in the hierarchy, or for example, the external ID of the asset. See [part 2](asset_hierarchy_migration_with_type.html) for an example of how to add type in the migration process.\n",
    "    2. We might want to map the inferred model onto an existing data model. It this case the existing model would be an `EnterpriseModel` and the inferred model we obtained here would be a `Source` model. \n"
   ]
  },
  {
   "cell_type": "code",
   "execution_count": null,
   "id": "5218d828-b642-4a55-a8b3-fdc7d73fb790",
   "metadata": {},
   "outputs": [],
   "source": []
  }
 ],
 "metadata": {
  "kernelspec": {
   "display_name": "Python 3 (ipykernel)",
   "language": "python",
   "name": "python3"
  },
  "language_info": {
   "codemirror_mode": {
    "name": "ipython",
    "version": 3
   },
   "file_extension": ".py",
   "mimetype": "text/x-python",
   "name": "python",
   "nbconvert_exporter": "python",
   "pygments_lexer": "ipython3",
   "version": "3.12.1"
  }
 },
 "nbformat": 4,
 "nbformat_minor": 5
}
