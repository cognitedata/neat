{
 "cells": [
  {
   "cell_type": "markdown",
   "id": "d8dd9ed4",
   "metadata": {},
   "source": [
    "# Asset Hierarchy Migration\n",
    "\n",
    "**Prerequisite**:\n",
    "\n",
    "- Access to a CDF Project.\n",
    "- Know how to install and setup Python.\n",
    "- Launch a Python notebook.\n",
    "\n",
    "\n",
    "\n",
    "In this tutorial, we will show you how to migrate an asset hierarchy to a data model representing the same hierarchy in CDF.\n",
    "\n",
    "This tutorial is also a good demonstration of the width of capabilities for neat, going from extracting data,\n",
    "creating a data model, export the data model, and load the data."
   ]
  },
  {
   "cell_type": "markdown",
   "id": "3df29838-9d86-4099-a07d-530a454b2a94",
   "metadata": {},
   "source": [
    "## Extract Data from Asset Hierarchy\n",
    "\n",
    "We will start by extracting the data from an existing asset hierarchy. \n",
    "\n",
    "The example we will use in this tutorial is an asset hierarchy for pumps, shown below in CDF's classic Data Exploration\n",
    "\n",
    "<img src=\"../artifacts/figs/asset_hierarchy_lift_pump_stations.png\" width=\"400\">"
   ]
  },
  {
   "cell_type": "code",
   "execution_count": 1,
   "id": "b07c82e3-2940-4c31-8252-8fe96183c4ba",
   "metadata": {},
   "outputs": [],
   "source": [
    "from cognite.neat import get_cognite_client\n",
    "from cognite.neat.graph import extractors, NeatGraphStore"
   ]
  },
  {
   "cell_type": "markdown",
   "id": "ecb953ac-5bd4-4de9-9efa-17319d9f2eba",
   "metadata": {},
   "source": [
    "We start by importing the neat extractors, NeatGraphStore, and a utility method for getting a neat client."
   ]
  },
  {
   "cell_type": "code",
   "execution_count": 2,
   "id": "f63c5b57-5402-42e9-af1e-3afd909a345c",
   "metadata": {},
   "outputs": [],
   "source": [
    "store = NeatGraphStore.from_memory_store()"
   ]
  },
  {
   "cell_type": "markdown",
   "id": "cb9dec6f-051c-4b32-a190-80d5db8fe168",
   "metadata": {},
   "source": [
    "The NeatGraphStore is a triple store that can store both data as well as schemas/data-models.\n",
    "\n",
    "This store we can populate by extracting from one of the supported sources for neat. \n",
    "\n",
    "To see which extractors are available we print the `extractors` module."
   ]
  },
  {
   "cell_type": "code",
   "execution_count": 3,
   "id": "bd94dac9-856e-45ca-b384-191b85df72ce",
   "metadata": {},
   "outputs": [
    {
     "data": {
      "text/html": [
       "<strong>Extractor</strong> An extractor is used to read data from a source into Neat's internal triple storage. <br /><div>\n",
       "<style scoped>\n",
       "    .dataframe tbody tr th:only-of-type {\n",
       "        vertical-align: middle;\n",
       "    }\n",
       "\n",
       "    .dataframe tbody tr th {\n",
       "        vertical-align: top;\n",
       "    }\n",
       "\n",
       "    .dataframe thead th {\n",
       "        text-align: right;\n",
       "    }\n",
       "</style>\n",
       "<table border=\"1\" class=\"dataframe\">\n",
       "  <thead>\n",
       "    <tr style=\"text-align: right;\">\n",
       "      <th></th>\n",
       "      <th>Extractor</th>\n",
       "      <th>Description</th>\n",
       "    </tr>\n",
       "  </thead>\n",
       "  <tbody>\n",
       "    <tr>\n",
       "      <th>0</th>\n",
       "      <td>AssetsExtractor</td>\n",
       "      <td>Extract data from Cognite Data Fusions Assets ...</td>\n",
       "    </tr>\n",
       "    <tr>\n",
       "      <th>1</th>\n",
       "      <td>MockGraphGenerator</td>\n",
       "      <td>Class used to generate mock graph data for pur...</td>\n",
       "    </tr>\n",
       "    <tr>\n",
       "      <th>2</th>\n",
       "      <td>RelationshipsExtractor</td>\n",
       "      <td>Extract data from Cognite Data Fusions Relatio...</td>\n",
       "    </tr>\n",
       "    <tr>\n",
       "      <th>3</th>\n",
       "      <td>TimeSeriesExtractor</td>\n",
       "      <td>Extract data from Cognite Data Fusions TimeSer...</td>\n",
       "    </tr>\n",
       "    <tr>\n",
       "      <th>4</th>\n",
       "      <td>SequencesExtractor</td>\n",
       "      <td>Extract data from Cognite Data Fusions Sequenc...</td>\n",
       "    </tr>\n",
       "    <tr>\n",
       "      <th>5</th>\n",
       "      <td>EventsExtractor</td>\n",
       "      <td>Extract data from Cognite Data Fusions Events ...</td>\n",
       "    </tr>\n",
       "    <tr>\n",
       "      <th>6</th>\n",
       "      <td>FilesExtractor</td>\n",
       "      <td>Extract data from Cognite Data Fusions files m...</td>\n",
       "    </tr>\n",
       "    <tr>\n",
       "      <th>7</th>\n",
       "      <td>LabelsExtractor</td>\n",
       "      <td>Extract data from Cognite Data Fusions Labels ...</td>\n",
       "    </tr>\n",
       "    <tr>\n",
       "      <th>8</th>\n",
       "      <td>RdfFileExtractor</td>\n",
       "      <td>Extract data from RDF files into Neat.</td>\n",
       "    </tr>\n",
       "    <tr>\n",
       "      <th>9</th>\n",
       "      <td>DexpiExtractor</td>\n",
       "      <td>DEXPI-XML extractor of RDF triples</td>\n",
       "    </tr>\n",
       "  </tbody>\n",
       "</table>\n",
       "</div>"
      ],
      "text/plain": [
       "<module 'cognite.neat.graph.extractors' from 'C:\\\\Users\\\\AndersAlbert\\\\Projects\\\\internal\\\\neat\\\\cognite\\\\neat\\\\graph\\\\extractors\\\\__init__.py'>"
      ]
     },
     "execution_count": 3,
     "metadata": {},
     "output_type": "execute_result"
    }
   ],
   "source": [
    "extractors"
   ]
  },
  {
   "cell_type": "markdown",
   "id": "2f39d8f7-e3a0-461d-ba1f-039b824f31d1",
   "metadata": {},
   "source": [
    "At the top of the list we see the AssetsExtractor which is what we are looking for"
   ]
  },
  {
   "cell_type": "code",
   "execution_count": 4,
   "id": "aa7cef10-2f11-4182-a910-2bfc70d2ed2d",
   "metadata": {},
   "outputs": [
    {
     "data": {
      "text/html": [
       "<h3>AssetsExtractor</h3><p>Extract data from Cognite Data Fusions Assets into Neat.<br /><strong>Available factory methods:</strong><br /><ul style=\"list-style-type:circle;\"><li><em>.from_dataset</em></li><li><em>.from_file</em></li><li><em>.from_hierarchy</em></li></ul></p>"
      ],
      "text/plain": [
       "cognite.neat.graph.extractors._classic_cdf._assets.AssetsExtractor"
      ]
     },
     "execution_count": 4,
     "metadata": {},
     "output_type": "execute_result"
    }
   ],
   "source": [
    "extractors.AssetsExtractor"
   ]
  },
  {
   "cell_type": "markdown",
   "id": "925f0523-fcea-4e75-a16b-6ed9d2cbaf50",
   "metadata": {},
   "source": [
    "We see that there is a `.from_hierarchy` fatory method that fits well with what we want to do"
   ]
  },
  {
   "cell_type": "code",
   "execution_count": 5,
   "id": "196b5d39-ea23-4ff3-a6f4-5899bda7d6ad",
   "metadata": {},
   "outputs": [
    {
     "name": "stdout",
     "output_type": "stream",
     "text": [
      "Found .env file in repository root. Loaded variables from .env file.\n"
     ]
    }
   ],
   "source": [
    "client = get_cognite_client()"
   ]
  },
  {
   "cell_type": "markdown",
   "id": "422ba872-a6a9-42e2-99c2-949ab2b35620",
   "metadata": {},
   "source": [
    "Note that the utility function `get_cognite_client` will prompt us for credentials if it doesn't find a `.env` file in the repo root."
   ]
  },
  {
   "cell_type": "code",
   "execution_count": 6,
   "id": "fbe6658c-4c8c-434a-b862-80c0aa89754a",
   "metadata": {},
   "outputs": [],
   "source": [
    "asset_extractor = extractors.AssetsExtractor.from_hierarchy(client, root_asset_external_id=\"lift_pump_stations:root\")"
   ]
  },
  {
   "cell_type": "markdown",
   "id": "97bbba75-74fb-4bf3-b6ec-fcb0e3c40e06",
   "metadata": {},
   "source": [
    "The asset extractor is now ready and can be written to the store."
   ]
  },
  {
   "cell_type": "code",
   "execution_count": 7,
   "id": "aae9e76d-ad13-4a04-84cb-e0f89515d37c",
   "metadata": {},
   "outputs": [],
   "source": [
    "store.write(asset_extractor)"
   ]
  },
  {
   "cell_type": "markdown",
   "id": "20e47b2a-2c3f-4741-9101-f85798090ee2",
   "metadata": {},
   "source": [
    "We can inspect the store to see what changes have been applied to it:"
   ]
  },
  {
   "cell_type": "code",
   "execution_count": 8,
   "id": "cd28f619-3de5-4a84-8ba6-2d6eaa3df1b0",
   "metadata": {},
   "outputs": [
    {
     "data": {
      "text/html": [
       "<strong>NeatGraphStore</strong> A graph store is a container for storing triples. It can be queried and transformed to extract information.<br /><strong>Provenance</strong> Provenance is a record of changes that have occurred in the graph store.<br /><div>\n",
       "<style scoped>\n",
       "    .dataframe tbody tr th:only-of-type {\n",
       "        vertical-align: middle;\n",
       "    }\n",
       "\n",
       "    .dataframe tbody tr th {\n",
       "        vertical-align: top;\n",
       "    }\n",
       "\n",
       "    .dataframe thead th {\n",
       "        text-align: right;\n",
       "    }\n",
       "</style>\n",
       "<table border=\"1\" class=\"dataframe\">\n",
       "  <thead>\n",
       "    <tr style=\"text-align: right;\">\n",
       "      <th></th>\n",
       "      <th>Agent</th>\n",
       "      <th>Activity</th>\n",
       "      <th>Entity</th>\n",
       "      <th>Description</th>\n",
       "    </tr>\n",
       "  </thead>\n",
       "  <tbody>\n",
       "    <tr>\n",
       "      <th>0</th>\n",
       "      <td>http://purl.org/cognite/neat#agent</td>\n",
       "      <td>http://purl.org/cognite/neat#activity-b2c2ee23...</td>\n",
       "      <td>http://purl.org/cognite/neat#graph-store</td>\n",
       "      <td>Initialize graph store as Memory</td>\n",
       "    </tr>\n",
       "    <tr>\n",
       "      <th>1</th>\n",
       "      <td>http://purl.org/cognite/neat#agent</td>\n",
       "      <td>http://purl.org/cognite/neat#activity-b2c2ee23...</td>\n",
       "      <td>http://purl.org/cognite/neat#graph-store</td>\n",
       "      <td>Extracted triples to graph store using AssetsE...</td>\n",
       "    </tr>\n",
       "  </tbody>\n",
       "</table>\n",
       "</div>"
      ],
      "text/plain": [
       "<cognite.neat.graph.stores._base.NeatGraphStore at 0x246c0130590>"
      ]
     },
     "execution_count": 8,
     "metadata": {},
     "output_type": "execute_result"
    }
   ],
   "source": [
    "store"
   ]
  },
  {
   "cell_type": "markdown",
   "id": "92516916-f408-4ab3-9850-24308b1a3ea3",
   "metadata": {},
   "source": [
    "## Infering Data Model from Data"
   ]
  },
  {
   "cell_type": "markdown",
   "id": "2134c28e-3c7c-430e-92af-21758f3fb03f",
   "metadata": {},
   "source": [
    "To infer a data model from the data we will use an importer"
   ]
  },
  {
   "cell_type": "code",
   "execution_count": 9,
   "id": "871e3c87-7447-4adc-9de1-5bedfa5901ad",
   "metadata": {},
   "outputs": [],
   "source": [
    "from cognite.neat.rules import importers"
   ]
  },
  {
   "cell_type": "code",
   "execution_count": 10,
   "id": "eed889b8-9449-4c61-b5b1-45c8bb227fb3",
   "metadata": {},
   "outputs": [
    {
     "data": {
      "text/html": [
       "<strong>Importer</strong> An importer reads data/schema/data model from a source and converts it into Neat's representation of a data model called <em>Rules</em>.<br /><div>\n",
       "<style scoped>\n",
       "    .dataframe tbody tr th:only-of-type {\n",
       "        vertical-align: middle;\n",
       "    }\n",
       "\n",
       "    .dataframe tbody tr th {\n",
       "        vertical-align: top;\n",
       "    }\n",
       "\n",
       "    .dataframe thead th {\n",
       "        text-align: right;\n",
       "    }\n",
       "</style>\n",
       "<table border=\"1\" class=\"dataframe\">\n",
       "  <thead>\n",
       "    <tr style=\"text-align: right;\">\n",
       "      <th></th>\n",
       "      <th>Importer</th>\n",
       "      <th>Description</th>\n",
       "    </tr>\n",
       "  </thead>\n",
       "  <tbody>\n",
       "    <tr>\n",
       "      <th>0</th>\n",
       "      <td>OWLImporter</td>\n",
       "      <td>Convert OWL ontology to tables/ transformation...</td>\n",
       "    </tr>\n",
       "    <tr>\n",
       "      <th>1</th>\n",
       "      <td>DMSImporter</td>\n",
       "      <td>Imports a Data Model from Cognite Data Fusion.</td>\n",
       "    </tr>\n",
       "    <tr>\n",
       "      <th>2</th>\n",
       "      <td>ExcelImporter</td>\n",
       "      <td>Import rules from an Excel file.</td>\n",
       "    </tr>\n",
       "    <tr>\n",
       "      <th>3</th>\n",
       "      <td>GoogleSheetImporter</td>\n",
       "      <td>Import rules from a Google Sheet.</td>\n",
       "    </tr>\n",
       "    <tr>\n",
       "      <th>4</th>\n",
       "      <td>DTDLImporter</td>\n",
       "      <td>Importer from Azure Digital Twin - DTDL (Digit...</td>\n",
       "    </tr>\n",
       "    <tr>\n",
       "      <th>5</th>\n",
       "      <td>YAMLImporter</td>\n",
       "      <td>Imports the rules from a YAML file.</td>\n",
       "    </tr>\n",
       "    <tr>\n",
       "      <th>6</th>\n",
       "      <td>InferenceImporter</td>\n",
       "      <td>Infers rules from a triple store.</td>\n",
       "    </tr>\n",
       "  </tbody>\n",
       "</table>\n",
       "</div>"
      ],
      "text/plain": [
       "<module 'cognite.neat.rules.importers' from 'C:\\\\Users\\\\AndersAlbert\\\\Projects\\\\internal\\\\neat\\\\cognite\\\\neat\\\\rules\\\\importers\\\\__init__.py'>"
      ]
     },
     "execution_count": 10,
     "metadata": {},
     "output_type": "execute_result"
    }
   ],
   "source": [
    "importers"
   ]
  },
  {
   "cell_type": "markdown",
   "id": "3808a99b-ffbd-4a96-b656-aaae1d9ebcae",
   "metadata": {},
   "source": [
    "We see that there are multiple importers availabe, but we will use the `InferenceImporter`"
   ]
  },
  {
   "cell_type": "code",
   "execution_count": 11,
   "id": "4fcab172-c8d0-478b-95c6-dcc2aa1ff1fa",
   "metadata": {},
   "outputs": [
    {
     "data": {
      "text/html": [
       "<h3>InferenceImporter</h3><p>Infers rules from a triple store.<br /><br />    Rules inference through analysis of knowledge graph provided in various formats.<br />    Use the factory methods to create an triples store from sources such as<br />    RDF files, JSON files, YAML files, XML files, or directly from a graph store.<br /><strong>Available factory methods:</strong><br /><ul style=\"list-style-type:circle;\"><li><em>.from_graph_store</em></li><li><em>.from_json_file</em></li><li><em>.from_rdf_file</em></li><li><em>.from_xml_file</em></li><li><em>.from_yaml_file</em></li></ul></p>"
      ],
      "text/plain": [
       "cognite.neat.rules.importers._inference2rules.InferenceImporter"
      ]
     },
     "execution_count": 11,
     "metadata": {},
     "output_type": "execute_result"
    }
   ],
   "source": [
    "importers.InferenceImporter"
   ]
  },
  {
   "cell_type": "code",
   "execution_count": 12,
   "id": "fc3eff2a-bd19-4336-b321-38a989d7cda8",
   "metadata": {},
   "outputs": [],
   "source": [
    "importer = importers.InferenceImporter.from_graph_store(store)"
   ]
  },
  {
   "cell_type": "markdown",
   "id": "32893008-e984-49f1-8e04-a94f40400a94",
   "metadata": {},
   "source": [
    "Then we use the `.to_rules` method to convert the data into `Rules` which is `Neat`'s format for data models."
   ]
  },
  {
   "cell_type": "code",
   "execution_count": 13,
   "id": "130be0d2-72c9-4f9c-9374-d71c3d9a361e",
   "metadata": {},
   "outputs": [],
   "source": [
    "rules, issues = importer.to_rules()"
   ]
  },
  {
   "cell_type": "markdown",
   "id": "4bd0aaea-6c5b-455b-8d93-f374544a3168",
   "metadata": {},
   "source": [
    "First we check if there were any issues with creating the rules, and we find one warning. This warning \n",
    "is that there is a property, `Shape__Length`, with a double underscore which is not recommended. However,\n",
    "wecan continue."
   ]
  },
  {
   "cell_type": "code",
   "execution_count": 14,
   "id": "cfbebeaa-f297-4110-8fb5-8fc6ed46aa78",
   "metadata": {},
   "outputs": [
    {
     "data": {
      "text/html": [
       "<div>\n",
       "<style scoped>\n",
       "    .dataframe tbody tr th:only-of-type {\n",
       "        vertical-align: middle;\n",
       "    }\n",
       "\n",
       "    .dataframe tbody tr th {\n",
       "        vertical-align: top;\n",
       "    }\n",
       "\n",
       "    .dataframe thead th {\n",
       "        text-align: right;\n",
       "    }\n",
       "</style>\n",
       "<table border=\"1\" class=\"dataframe\">\n",
       "  <thead>\n",
       "    <tr style=\"text-align: right;\">\n",
       "      <th></th>\n",
       "      <th>field_name</th>\n",
       "      <th>value</th>\n",
       "    </tr>\n",
       "  </thead>\n",
       "  <tbody>\n",
       "    <tr>\n",
       "      <th>0</th>\n",
       "      <td>property</td>\n",
       "      <td>Shape__Length</td>\n",
       "    </tr>\n",
       "  </tbody>\n",
       "</table>\n",
       "</div>"
      ],
      "text/plain": [
       "IssueList([MoreThanOneNonAlphanumericCharacterWarning(field_name='property', value='Shape__Length')])"
      ]
     },
     "execution_count": 14,
     "metadata": {},
     "output_type": "execute_result"
    }
   ],
   "source": [
    "issues"
   ]
  },
  {
   "cell_type": "markdown",
   "id": "4ab723c5-b67f-40d5-9ce0-085c89137a1e",
   "metadata": {},
   "source": [
    "Then, we inspect the classes found along with the properties"
   ]
  },
  {
   "cell_type": "code",
   "execution_count": 15,
   "id": "78c8a0f3-64c4-4c6c-8924-888d36aad6ce",
   "metadata": {},
   "outputs": [
    {
     "data": {
      "text/html": [
       "<div>\n",
       "<style scoped>\n",
       "    .dataframe tbody tr th:only-of-type {\n",
       "        vertical-align: middle;\n",
       "    }\n",
       "\n",
       "    .dataframe tbody tr th {\n",
       "        vertical-align: top;\n",
       "    }\n",
       "\n",
       "    .dataframe thead th {\n",
       "        text-align: right;\n",
       "    }\n",
       "</style>\n",
       "<table border=\"1\" class=\"dataframe\">\n",
       "  <thead>\n",
       "    <tr style=\"text-align: right;\">\n",
       "      <th></th>\n",
       "      <th>class_</th>\n",
       "      <th>reference</th>\n",
       "      <th>match_type</th>\n",
       "      <th>comment</th>\n",
       "    </tr>\n",
       "  </thead>\n",
       "  <tbody>\n",
       "    <tr>\n",
       "      <th>0</th>\n",
       "      <td>inferred:Asset</td>\n",
       "      <td>http://purl.org/cognite/neat#Asset</td>\n",
       "      <td>exact</td>\n",
       "      <td>Inferred from knowledge graph, where this clas...</td>\n",
       "    </tr>\n",
       "  </tbody>\n",
       "</table>\n",
       "</div>"
      ],
      "text/plain": [
       "SheetList[InformationClass](data=[InformationClass(validators_to_skip=set(), class_=class(prefix=inferred,suffix=Asset), name=None, description=None, parent=None, reference=Url('http://purl.org/cognite/neat#Asset'), match_type='exact', comment='Inferred from knowledge graph, where this class has <245> instances')])"
      ]
     },
     "execution_count": 15,
     "metadata": {},
     "output_type": "execute_result"
    }
   ],
   "source": [
    "rules.classes"
   ]
  },
  {
   "cell_type": "code",
   "execution_count": 16,
   "id": "7a07e396-b1f5-4f21-b03a-02febf639ee9",
   "metadata": {},
   "outputs": [
    {
     "data": {
      "text/html": [
       "<div>\n",
       "<style scoped>\n",
       "    .dataframe tbody tr th:only-of-type {\n",
       "        vertical-align: middle;\n",
       "    }\n",
       "\n",
       "    .dataframe tbody tr th {\n",
       "        vertical-align: top;\n",
       "    }\n",
       "\n",
       "    .dataframe thead th {\n",
       "        text-align: right;\n",
       "    }\n",
       "</style>\n",
       "<table border=\"1\" class=\"dataframe\">\n",
       "  <thead>\n",
       "    <tr style=\"text-align: right;\">\n",
       "      <th></th>\n",
       "      <th>class_</th>\n",
       "      <th>property_</th>\n",
       "      <th>value_type</th>\n",
       "      <th>max_count</th>\n",
       "      <th>reference</th>\n",
       "      <th>transformation</th>\n",
       "      <th>comment</th>\n",
       "      <th>inherited</th>\n",
       "    </tr>\n",
       "  </thead>\n",
       "  <tbody>\n",
       "    <tr>\n",
       "      <th>0</th>\n",
       "      <td>inferred:Asset</td>\n",
       "      <td>name</td>\n",
       "      <td>string</td>\n",
       "      <td>1</td>\n",
       "      <td>http://purl.org/cognite/neat#name</td>\n",
       "      <td>inferred:Asset(inferred:name)</td>\n",
       "      <td>Class &lt;Asset&gt; has property &lt;name&gt; with value t...</td>\n",
       "      <td>False</td>\n",
       "    </tr>\n",
       "    <tr>\n",
       "      <th>1</th>\n",
       "      <td>inferred:Asset</td>\n",
       "      <td>external_id</td>\n",
       "      <td>string</td>\n",
       "      <td>1</td>\n",
       "      <td>http://purl.org/cognite/neat#external_id</td>\n",
       "      <td>inferred:Asset(inferred:external_id)</td>\n",
       "      <td>Class &lt;Asset&gt; has property &lt;external_id&gt; with ...</td>\n",
       "      <td>False</td>\n",
       "    </tr>\n",
       "    <tr>\n",
       "      <th>2</th>\n",
       "      <td>inferred:Asset</td>\n",
       "      <td>created_time</td>\n",
       "      <td>dateTime</td>\n",
       "      <td>1</td>\n",
       "      <td>http://purl.org/cognite/neat#created_time</td>\n",
       "      <td>inferred:Asset(inferred:created_time)</td>\n",
       "      <td>Class &lt;Asset&gt; has property &lt;created_time&gt; with...</td>\n",
       "      <td>False</td>\n",
       "    </tr>\n",
       "    <tr>\n",
       "      <th>3</th>\n",
       "      <td>inferred:Asset</td>\n",
       "      <td>last_updated_time</td>\n",
       "      <td>dateTime</td>\n",
       "      <td>1</td>\n",
       "      <td>http://purl.org/cognite/neat#last_updated_time</td>\n",
       "      <td>inferred:Asset(inferred:last_updated_time)</td>\n",
       "      <td>Class &lt;Asset&gt; has property &lt;last_updated_time&gt;...</td>\n",
       "      <td>False</td>\n",
       "    </tr>\n",
       "    <tr>\n",
       "      <th>4</th>\n",
       "      <td>inferred:Asset</td>\n",
       "      <td>DesignPointFlowGPM</td>\n",
       "      <td>double</td>\n",
       "      <td>1</td>\n",
       "      <td>http://purl.org/cognite/neat#DesignPointFlowGPM</td>\n",
       "      <td>inferred:Asset(inferred:DesignPointFlowGPM)</td>\n",
       "      <td>Class &lt;Asset&gt; has property &lt;DesignPointFlowGPM...</td>\n",
       "      <td>False</td>\n",
       "    </tr>\n",
       "    <tr>\n",
       "      <th>5</th>\n",
       "      <td>inferred:Asset</td>\n",
       "      <td>DesignPointHeadFT</td>\n",
       "      <td>double</td>\n",
       "      <td>1</td>\n",
       "      <td>http://purl.org/cognite/neat#DesignPointHeadFT</td>\n",
       "      <td>inferred:Asset(inferred:DesignPointHeadFT)</td>\n",
       "      <td>Class &lt;Asset&gt; has property &lt;DesignPointHeadFT&gt;...</td>\n",
       "      <td>False</td>\n",
       "    </tr>\n",
       "    <tr>\n",
       "      <th>6</th>\n",
       "      <td>inferred:Asset</td>\n",
       "      <td>Enabled</td>\n",
       "      <td>double</td>\n",
       "      <td>1</td>\n",
       "      <td>http://purl.org/cognite/neat#Enabled</td>\n",
       "      <td>inferred:Asset(inferred:Enabled)</td>\n",
       "      <td>Class &lt;Asset&gt; has property &lt;Enabled&gt; with valu...</td>\n",
       "      <td>False</td>\n",
       "    </tr>\n",
       "    <tr>\n",
       "      <th>7</th>\n",
       "      <td>inferred:Asset</td>\n",
       "      <td>HighHeadShutOff</td>\n",
       "      <td>double</td>\n",
       "      <td>1</td>\n",
       "      <td>http://purl.org/cognite/neat#HighHeadShutOff</td>\n",
       "      <td>inferred:Asset(inferred:HighHeadShutOff)</td>\n",
       "      <td>Class &lt;Asset&gt; has property &lt;HighHeadShutOff&gt; w...</td>\n",
       "      <td>False</td>\n",
       "    </tr>\n",
       "    <tr>\n",
       "      <th>8</th>\n",
       "      <td>inferred:Asset</td>\n",
       "      <td>LowHeadFT</td>\n",
       "      <td>double</td>\n",
       "      <td>1</td>\n",
       "      <td>http://purl.org/cognite/neat#LowHeadFT</td>\n",
       "      <td>inferred:Asset(inferred:LowHeadFT)</td>\n",
       "      <td>Class &lt;Asset&gt; has property &lt;LowHeadFT&gt; with va...</td>\n",
       "      <td>False</td>\n",
       "    </tr>\n",
       "    <tr>\n",
       "      <th>9</th>\n",
       "      <td>inferred:Asset</td>\n",
       "      <td>LowHeadFlowGPM</td>\n",
       "      <td>double</td>\n",
       "      <td>1</td>\n",
       "      <td>http://purl.org/cognite/neat#LowHeadFlowGPM</td>\n",
       "      <td>inferred:Asset(inferred:LowHeadFlowGPM)</td>\n",
       "      <td>Class &lt;Asset&gt; has property &lt;LowHeadFlowGPM&gt; wi...</td>\n",
       "      <td>False</td>\n",
       "    </tr>\n",
       "    <tr>\n",
       "      <th>10</th>\n",
       "      <td>inferred:Asset</td>\n",
       "      <td>PumpHP</td>\n",
       "      <td>double</td>\n",
       "      <td>1</td>\n",
       "      <td>http://purl.org/cognite/neat#PumpHP</td>\n",
       "      <td>inferred:Asset(inferred:PumpHP)</td>\n",
       "      <td>Class &lt;Asset&gt; has property &lt;PumpHP&gt; with value...</td>\n",
       "      <td>False</td>\n",
       "    </tr>\n",
       "    <tr>\n",
       "      <th>11</th>\n",
       "      <td>inferred:Asset</td>\n",
       "      <td>PumpOff</td>\n",
       "      <td>double</td>\n",
       "      <td>1</td>\n",
       "      <td>http://purl.org/cognite/neat#PumpOff</td>\n",
       "      <td>inferred:Asset(inferred:PumpOff)</td>\n",
       "      <td>Class &lt;Asset&gt; has property &lt;PumpOff&gt; with valu...</td>\n",
       "      <td>False</td>\n",
       "    </tr>\n",
       "    <tr>\n",
       "      <th>12</th>\n",
       "      <td>inferred:Asset</td>\n",
       "      <td>PumpOn</td>\n",
       "      <td>double</td>\n",
       "      <td>1</td>\n",
       "      <td>http://purl.org/cognite/neat#PumpOn</td>\n",
       "      <td>inferred:Asset(inferred:PumpOn)</td>\n",
       "      <td>Class &lt;Asset&gt; has property &lt;PumpOn&gt; with value...</td>\n",
       "      <td>False</td>\n",
       "    </tr>\n",
       "    <tr>\n",
       "      <th>13</th>\n",
       "      <td>inferred:Asset</td>\n",
       "      <td>Shape__Length</td>\n",
       "      <td>double</td>\n",
       "      <td>1</td>\n",
       "      <td>http://purl.org/cognite/neat#Shape__Length</td>\n",
       "      <td>inferred:Asset(inferred:Shape__Length)</td>\n",
       "      <td>Class &lt;Asset&gt; has property &lt;Shape__Length&gt; wit...</td>\n",
       "      <td>False</td>\n",
       "    </tr>\n",
       "    <tr>\n",
       "      <th>14</th>\n",
       "      <td>inferred:Asset</td>\n",
       "      <td>VFDSetting</td>\n",
       "      <td>double</td>\n",
       "      <td>1</td>\n",
       "      <td>http://purl.org/cognite/neat#VFDSetting</td>\n",
       "      <td>inferred:Asset(inferred:VFDSetting)</td>\n",
       "      <td>Class &lt;Asset&gt; has property &lt;VFDSetting&gt; with v...</td>\n",
       "      <td>False</td>\n",
       "    </tr>\n",
       "    <tr>\n",
       "      <th>15</th>\n",
       "      <td>inferred:Asset</td>\n",
       "      <td>parent</td>\n",
       "      <td>inferred:Asset</td>\n",
       "      <td>1</td>\n",
       "      <td>http://purl.org/cognite/neat#parent</td>\n",
       "      <td>inferred:Asset(inferred:parent)</td>\n",
       "      <td>Class &lt;Asset&gt; has property &lt;parent&gt; with value...</td>\n",
       "      <td>False</td>\n",
       "    </tr>\n",
       "    <tr>\n",
       "      <th>16</th>\n",
       "      <td>inferred:Asset</td>\n",
       "      <td>root</td>\n",
       "      <td>inferred:Asset</td>\n",
       "      <td>1</td>\n",
       "      <td>http://purl.org/cognite/neat#root</td>\n",
       "      <td>inferred:Asset(inferred:root)</td>\n",
       "      <td>Class &lt;Asset&gt; has property &lt;root&gt; with value t...</td>\n",
       "      <td>False</td>\n",
       "    </tr>\n",
       "    <tr>\n",
       "      <th>17</th>\n",
       "      <td>inferred:Asset</td>\n",
       "      <td>description</td>\n",
       "      <td>string</td>\n",
       "      <td>1</td>\n",
       "      <td>http://purl.org/cognite/neat#description</td>\n",
       "      <td>inferred:Asset(inferred:description)</td>\n",
       "      <td>Class &lt;Asset&gt; has property &lt;description&gt; with ...</td>\n",
       "      <td>False</td>\n",
       "    </tr>\n",
       "    <tr>\n",
       "      <th>18</th>\n",
       "      <td>inferred:Asset</td>\n",
       "      <td>FacilityID</td>\n",
       "      <td>string</td>\n",
       "      <td>1</td>\n",
       "      <td>http://purl.org/cognite/neat#FacilityID</td>\n",
       "      <td>inferred:Asset(inferred:FacilityID)</td>\n",
       "      <td>Class &lt;Asset&gt; has property &lt;FacilityID&gt; with v...</td>\n",
       "      <td>False</td>\n",
       "    </tr>\n",
       "    <tr>\n",
       "      <th>19</th>\n",
       "      <td>inferred:Asset</td>\n",
       "      <td>InstallDate</td>\n",
       "      <td>string</td>\n",
       "      <td>1</td>\n",
       "      <td>http://purl.org/cognite/neat#InstallDate</td>\n",
       "      <td>inferred:Asset(inferred:InstallDate)</td>\n",
       "      <td>Class &lt;Asset&gt; has property &lt;InstallDate&gt; with ...</td>\n",
       "      <td>False</td>\n",
       "    </tr>\n",
       "    <tr>\n",
       "      <th>20</th>\n",
       "      <td>inferred:Asset</td>\n",
       "      <td>LifeCycleStatus</td>\n",
       "      <td>string</td>\n",
       "      <td>1</td>\n",
       "      <td>http://purl.org/cognite/neat#LifeCycleStatus</td>\n",
       "      <td>inferred:Asset(inferred:LifeCycleStatus)</td>\n",
       "      <td>Class &lt;Asset&gt; has property &lt;LifeCycleStatus&gt; w...</td>\n",
       "      <td>False</td>\n",
       "    </tr>\n",
       "    <tr>\n",
       "      <th>21</th>\n",
       "      <td>inferred:Asset</td>\n",
       "      <td>LiftStationID</td>\n",
       "      <td>string</td>\n",
       "      <td>1</td>\n",
       "      <td>http://purl.org/cognite/neat#LiftStationID</td>\n",
       "      <td>inferred:Asset(inferred:LiftStationID)</td>\n",
       "      <td>Class &lt;Asset&gt; has property &lt;LiftStationID&gt; wit...</td>\n",
       "      <td>False</td>\n",
       "    </tr>\n",
       "    <tr>\n",
       "      <th>22</th>\n",
       "      <td>inferred:Asset</td>\n",
       "      <td>LocationDescription</td>\n",
       "      <td>string</td>\n",
       "      <td>1</td>\n",
       "      <td>http://purl.org/cognite/neat#LocationDescription</td>\n",
       "      <td>inferred:Asset(inferred:LocationDescription)</td>\n",
       "      <td>Class &lt;Asset&gt; has property &lt;LocationDescriptio...</td>\n",
       "      <td>False</td>\n",
       "    </tr>\n",
       "    <tr>\n",
       "      <th>23</th>\n",
       "      <td>inferred:Asset</td>\n",
       "      <td>Position</td>\n",
       "      <td>string</td>\n",
       "      <td>1</td>\n",
       "      <td>http://purl.org/cognite/neat#Position</td>\n",
       "      <td>inferred:Asset(inferred:Position)</td>\n",
       "      <td>Class &lt;Asset&gt; has property &lt;Position&gt; with val...</td>\n",
       "      <td>False</td>\n",
       "    </tr>\n",
       "    <tr>\n",
       "      <th>24</th>\n",
       "      <td>inferred:Asset</td>\n",
       "      <td>PumpModel</td>\n",
       "      <td>integer | string</td>\n",
       "      <td>1</td>\n",
       "      <td>http://purl.org/cognite/neat#PumpModel</td>\n",
       "      <td>inferred:Asset(inferred:PumpModel)</td>\n",
       "      <td>Class &lt;Asset&gt; has property &lt;PumpModel&gt; with va...</td>\n",
       "      <td>False</td>\n",
       "    </tr>\n",
       "    <tr>\n",
       "      <th>25</th>\n",
       "      <td>inferred:Asset</td>\n",
       "      <td>VFD</td>\n",
       "      <td>string</td>\n",
       "      <td>1</td>\n",
       "      <td>http://purl.org/cognite/neat#VFD</td>\n",
       "      <td>inferred:Asset(inferred:VFD)</td>\n",
       "      <td>Class &lt;Asset&gt; has property &lt;VFD&gt; with value ty...</td>\n",
       "      <td>False</td>\n",
       "    </tr>\n",
       "  </tbody>\n",
       "</table>\n",
       "</div>"
      ],
      "text/plain": [
       "SheetList[InformationProperty](data=[InformationProperty(validators_to_skip=set(), class_=class(prefix=inferred,suffix=Asset), property_='name', name=None, description=None, value_type=String(), min_count=None, max_count=1, default=None, reference=Url('http://purl.org/cognite/neat#name'), match_type=None, transformation=inferred:Asset(inferred:name), comment='Class <Asset> has property <name> with value type <string> which occurs <245> times in the graph', inherited=False), InformationProperty(validators_to_skip=set(), class_=class(prefix=inferred,suffix=Asset), property_='external_id', name=None, description=None, value_type=String(), min_count=None, max_count=1, default=None, reference=Url('http://purl.org/cognite/neat#external_id'), match_type=None, transformation=inferred:Asset(inferred:external_id), comment='Class <Asset> has property <external_id> with value type <string> which occurs <245> times in the graph', inherited=False), InformationProperty(validators_to_skip=set(), class_=class(prefix=inferred,suffix=Asset), property_='created_time', name=None, description=None, value_type=DateTime(), min_count=None, max_count=1, default=None, reference=Url('http://purl.org/cognite/neat#created_time'), match_type=None, transformation=inferred:Asset(inferred:created_time), comment='Class <Asset> has property <created_time> with value type <dateTime> which occurs <245> times in the graph', inherited=False), InformationProperty(validators_to_skip=set(), class_=class(prefix=inferred,suffix=Asset), property_='last_updated_time', name=None, description=None, value_type=DateTime(), min_count=None, max_count=1, default=None, reference=Url('http://purl.org/cognite/neat#last_updated_time'), match_type=None, transformation=inferred:Asset(inferred:last_updated_time), comment='Class <Asset> has property <last_updated_time> with value type <dateTime> which occurs <245> times in the graph', inherited=False), InformationProperty(validators_to_skip=set(), class_=class(prefix=inferred,suffix=Asset), property_='DesignPointFlowGPM', name=None, description=None, value_type=Double(), min_count=None, max_count=1, default=None, reference=Url('http://purl.org/cognite/neat#DesignPointFlowGPM'), match_type=None, transformation=inferred:Asset(inferred:DesignPointFlowGPM), comment='Class <Asset> has property <DesignPointFlowGPM> with value type <double> which occurs <245> times in the graph', inherited=False), InformationProperty(validators_to_skip=set(), class_=class(prefix=inferred,suffix=Asset), property_='DesignPointHeadFT', name=None, description=None, value_type=Double(), min_count=None, max_count=1, default=None, reference=Url('http://purl.org/cognite/neat#DesignPointHeadFT'), match_type=None, transformation=inferred:Asset(inferred:DesignPointHeadFT), comment='Class <Asset> has property <DesignPointHeadFT> with value type <double> which occurs <245> times in the graph', inherited=False), InformationProperty(validators_to_skip=set(), class_=class(prefix=inferred,suffix=Asset), property_='Enabled', name=None, description=None, value_type=Double(), min_count=None, max_count=1, default=None, reference=Url('http://purl.org/cognite/neat#Enabled'), match_type=None, transformation=inferred:Asset(inferred:Enabled), comment='Class <Asset> has property <Enabled> with value type <double> which occurs <245> times in the graph', inherited=False), InformationProperty(validators_to_skip=set(), class_=class(prefix=inferred,suffix=Asset), property_='HighHeadShutOff', name=None, description=None, value_type=Double(), min_count=None, max_count=1, default=None, reference=Url('http://purl.org/cognite/neat#HighHeadShutOff'), match_type=None, transformation=inferred:Asset(inferred:HighHeadShutOff), comment='Class <Asset> has property <HighHeadShutOff> with value type <double> which occurs <245> times in the graph', inherited=False), InformationProperty(validators_to_skip=set(), class_=class(prefix=inferred,suffix=Asset), property_='LowHeadFT', name=None, description=None, value_type=Double(), min_count=None, max_count=1, default=None, reference=Url('http://purl.org/cognite/neat#LowHeadFT'), match_type=None, transformation=inferred:Asset(inferred:LowHeadFT), comment='Class <Asset> has property <LowHeadFT> with value type <double> which occurs <245> times in the graph', inherited=False), InformationProperty(validators_to_skip=set(), class_=class(prefix=inferred,suffix=Asset), property_='LowHeadFlowGPM', name=None, description=None, value_type=Double(), min_count=None, max_count=1, default=None, reference=Url('http://purl.org/cognite/neat#LowHeadFlowGPM'), match_type=None, transformation=inferred:Asset(inferred:LowHeadFlowGPM), comment='Class <Asset> has property <LowHeadFlowGPM> with value type <double> which occurs <245> times in the graph', inherited=False), InformationProperty(validators_to_skip=set(), class_=class(prefix=inferred,suffix=Asset), property_='PumpHP', name=None, description=None, value_type=Double(), min_count=None, max_count=1, default=None, reference=Url('http://purl.org/cognite/neat#PumpHP'), match_type=None, transformation=inferred:Asset(inferred:PumpHP), comment='Class <Asset> has property <PumpHP> with value type <double> which occurs <245> times in the graph', inherited=False), InformationProperty(validators_to_skip=set(), class_=class(prefix=inferred,suffix=Asset), property_='PumpOff', name=None, description=None, value_type=Double(), min_count=None, max_count=1, default=None, reference=Url('http://purl.org/cognite/neat#PumpOff'), match_type=None, transformation=inferred:Asset(inferred:PumpOff), comment='Class <Asset> has property <PumpOff> with value type <double> which occurs <245> times in the graph', inherited=False), InformationProperty(validators_to_skip=set(), class_=class(prefix=inferred,suffix=Asset), property_='PumpOn', name=None, description=None, value_type=Double(), min_count=None, max_count=1, default=None, reference=Url('http://purl.org/cognite/neat#PumpOn'), match_type=None, transformation=inferred:Asset(inferred:PumpOn), comment='Class <Asset> has property <PumpOn> with value type <double> which occurs <245> times in the graph', inherited=False), InformationProperty(validators_to_skip=set(), class_=class(prefix=inferred,suffix=Asset), property_='Shape__Length', name=None, description=None, value_type=Double(), min_count=None, max_count=1, default=None, reference=Url('http://purl.org/cognite/neat#Shape__Length'), match_type=None, transformation=inferred:Asset(inferred:Shape__Length), comment='Class <Asset> has property <Shape__Length> with value type <double> which occurs <245> times in the graph', inherited=False), InformationProperty(validators_to_skip=set(), class_=class(prefix=inferred,suffix=Asset), property_='VFDSetting', name=None, description=None, value_type=Double(), min_count=None, max_count=1, default=None, reference=Url('http://purl.org/cognite/neat#VFDSetting'), match_type=None, transformation=inferred:Asset(inferred:VFDSetting), comment='Class <Asset> has property <VFDSetting> with value type <double> which occurs <245> times in the graph', inherited=False), InformationProperty(validators_to_skip=set(), class_=class(prefix=inferred,suffix=Asset), property_='parent', name=None, description=None, value_type=class(prefix=inferred,suffix=Asset), min_count=None, max_count=1, default=None, reference=Url('http://purl.org/cognite/neat#parent'), match_type=None, transformation=inferred:Asset(inferred:parent), comment='Class <Asset> has property <parent> with value type <Asset> which occurs <244> times in the graph', inherited=False), InformationProperty(validators_to_skip=set(), class_=class(prefix=inferred,suffix=Asset), property_='root', name=None, description=None, value_type=class(prefix=inferred,suffix=Asset), min_count=None, max_count=1, default=None, reference=Url('http://purl.org/cognite/neat#root'), match_type=None, transformation=inferred:Asset(inferred:root), comment='Class <Asset> has property <root> with value type <Asset> which occurs <245> times in the graph', inherited=False), InformationProperty(validators_to_skip=set(), class_=class(prefix=inferred,suffix=Asset), property_='description', name=None, description=None, value_type=String(), min_count=None, max_count=1, default=None, reference=Url('http://purl.org/cognite/neat#description'), match_type=None, transformation=inferred:Asset(inferred:description), comment='Class <Asset> has property <description> with value type <string> which occurs <152> times in the graph', inherited=False), InformationProperty(validators_to_skip=set(), class_=class(prefix=inferred,suffix=Asset), property_='FacilityID', name=None, description=None, value_type=String(), min_count=None, max_count=1, default=None, reference=Url('http://purl.org/cognite/neat#FacilityID'), match_type=None, transformation=inferred:Asset(inferred:FacilityID), comment='Class <Asset> has property <FacilityID> with value type <string> which occurs <162> times in the graph', inherited=False), InformationProperty(validators_to_skip=set(), class_=class(prefix=inferred,suffix=Asset), property_='InstallDate', name=None, description=None, value_type=String(), min_count=None, max_count=1, default=None, reference=Url('http://purl.org/cognite/neat#InstallDate'), match_type=None, transformation=inferred:Asset(inferred:InstallDate), comment='Class <Asset> has property <InstallDate> with value type <string> which occurs <160> times in the graph', inherited=False), InformationProperty(validators_to_skip=set(), class_=class(prefix=inferred,suffix=Asset), property_='LifeCycleStatus', name=None, description=None, value_type=String(), min_count=None, max_count=1, default=None, reference=Url('http://purl.org/cognite/neat#LifeCycleStatus'), match_type=None, transformation=inferred:Asset(inferred:LifeCycleStatus), comment='Class <Asset> has property <LifeCycleStatus> with value type <string> which occurs <160> times in the graph', inherited=False), InformationProperty(validators_to_skip=set(), class_=class(prefix=inferred,suffix=Asset), property_='LiftStationID', name=None, description=None, value_type=String(), min_count=None, max_count=1, default=None, reference=Url('http://purl.org/cognite/neat#LiftStationID'), match_type=None, transformation=inferred:Asset(inferred:LiftStationID), comment='Class <Asset> has property <LiftStationID> with value type <string> which occurs <160> times in the graph', inherited=False), InformationProperty(validators_to_skip=set(), class_=class(prefix=inferred,suffix=Asset), property_='LocationDescription', name=None, description=None, value_type=String(), min_count=None, max_count=1, default=None, reference=Url('http://purl.org/cognite/neat#LocationDescription'), match_type=None, transformation=inferred:Asset(inferred:LocationDescription), comment='Class <Asset> has property <LocationDescription> with value type <string> which occurs <160> times in the graph', inherited=False), InformationProperty(validators_to_skip=set(), class_=class(prefix=inferred,suffix=Asset), property_='Position', name=None, description=None, value_type=String(), min_count=None, max_count=1, default=None, reference=Url('http://purl.org/cognite/neat#Position'), match_type=None, transformation=inferred:Asset(inferred:Position), comment='Class <Asset> has property <Position> with value type <string> which occurs <147> times in the graph', inherited=False), InformationProperty(validators_to_skip=set(), class_=class(prefix=inferred,suffix=Asset), property_='PumpModel', name=None, description=None, value_type=MultiValueTypeInfo(types=[Integer(), String()]), min_count=None, max_count=1, default=None, reference=Url('http://purl.org/cognite/neat#PumpModel'), match_type=None, transformation=inferred:Asset(inferred:PumpModel), comment='Class <Asset> has property <PumpModel> with value type <integer> which occurs <6> times in the graph, with value type <string> which occurs <140> times in the graph', inherited=False), InformationProperty(validators_to_skip=set(), class_=class(prefix=inferred,suffix=Asset), property_='VFD', name=None, description=None, value_type=String(), min_count=None, max_count=1, default=None, reference=Url('http://purl.org/cognite/neat#VFD'), match_type=None, transformation=inferred:Asset(inferred:VFD), comment='Class <Asset> has property <VFD> with value type <string> which occurs <41> times in the graph', inherited=False)])"
      ]
     },
     "execution_count": 16,
     "metadata": {},
     "output_type": "execute_result"
    }
   ],
   "source": [
    "rules.properties"
   ]
  },
  {
   "cell_type": "markdown",
   "id": "caf0044a-4fc5-4590-af61-700d360961d1",
   "metadata": {},
   "source": [
    "We notice that for example the `PumpModel` is both an integer and a string, as the `Inference` found data of both types."
   ]
  },
  {
   "cell_type": "markdown",
   "id": "7bf193ef-d0bc-4d7c-93a7-fed157127700",
   "metadata": {},
   "source": [
    "We can inspect the comment from the `Inference` type:"
   ]
  },
  {
   "cell_type": "code",
   "execution_count": 17,
   "id": "91515d15-b28a-4b6c-83fc-092f56d1532c",
   "metadata": {},
   "outputs": [
    {
     "data": {
      "text/plain": [
       "'Class <Asset> has property <PumpModel> with value type <integer> which occurs <6> times in the graph, with value type <string> which occurs <140> times in the graph'"
      ]
     },
     "execution_count": 17,
     "metadata": {},
     "output_type": "execute_result"
    }
   ],
   "source": [
    "rules.properties.data[24].comment"
   ]
  },
  {
   "cell_type": "markdown",
   "id": "771d808e-74a2-469f-a7cd-8d64182fd8d1",
   "metadata": {},
   "source": [
    "And we see that this is most likely a string as that occured much more for this field in the graph than the integer."
   ]
  },
  {
   "cell_type": "markdown",
   "id": "80b97340-90b2-4c79-9a97-326113721ee8",
   "metadata": {},
   "source": [
    "## Exporting Data Model"
   ]
  },
  {
   "cell_type": "markdown",
   "id": "9ca8d5c2-333d-4ff3-8ee6-e27058c730fb",
   "metadata": {},
   "source": [
    "Lets export our newly created data model to CDF"
   ]
  },
  {
   "cell_type": "code",
   "execution_count": 18,
   "id": "5a7b83b4-2046-4954-b249-dbc9da57ad5e",
   "metadata": {},
   "outputs": [],
   "source": [
    "from cognite.neat.rules import exporters"
   ]
  },
  {
   "cell_type": "code",
   "execution_count": 19,
   "id": "18281755-5ccc-408c-ba69-eedfacc0ff27",
   "metadata": {},
   "outputs": [
    {
     "data": {
      "text/html": [
       "<strong>Exporter</strong> An exporter converts Neat's representation of a data model called <em>Rules</em> into a schema/data model for a target format.<br /><div>\n",
       "<style scoped>\n",
       "    .dataframe tbody tr th:only-of-type {\n",
       "        vertical-align: middle;\n",
       "    }\n",
       "\n",
       "    .dataframe tbody tr th {\n",
       "        vertical-align: top;\n",
       "    }\n",
       "\n",
       "    .dataframe thead th {\n",
       "        text-align: right;\n",
       "    }\n",
       "</style>\n",
       "<table border=\"1\" class=\"dataframe\">\n",
       "  <thead>\n",
       "    <tr style=\"text-align: right;\">\n",
       "      <th></th>\n",
       "      <th>Exporter</th>\n",
       "      <th>Description</th>\n",
       "    </tr>\n",
       "  </thead>\n",
       "  <tbody>\n",
       "    <tr>\n",
       "      <th>0</th>\n",
       "      <td>DMSExporter</td>\n",
       "      <td>Export rules to Cognite Data Fusion's Data Mod...</td>\n",
       "    </tr>\n",
       "    <tr>\n",
       "      <th>1</th>\n",
       "      <td>SemanticDataModelExporter</td>\n",
       "      <td>Exports rules to a semantic data model.</td>\n",
       "    </tr>\n",
       "    <tr>\n",
       "      <th>2</th>\n",
       "      <td>OWLExporter</td>\n",
       "      <td>Exports rules to an OWL ontology.</td>\n",
       "    </tr>\n",
       "    <tr>\n",
       "      <th>3</th>\n",
       "      <td>SHACLExporter</td>\n",
       "      <td>Exports rules to a SHACL graph.</td>\n",
       "    </tr>\n",
       "    <tr>\n",
       "      <th>4</th>\n",
       "      <td>ExcelExporter</td>\n",
       "      <td>Export rules to Excel.</td>\n",
       "    </tr>\n",
       "    <tr>\n",
       "      <th>5</th>\n",
       "      <td>YAMLExporter</td>\n",
       "      <td>Export rules to YAML.</td>\n",
       "    </tr>\n",
       "  </tbody>\n",
       "</table>\n",
       "</div>"
      ],
      "text/plain": [
       "<module 'cognite.neat.rules.exporters' from 'C:\\\\Users\\\\AndersAlbert\\\\Projects\\\\internal\\\\neat\\\\cognite\\\\neat\\\\rules\\\\exporters\\\\__init__.py'>"
      ]
     },
     "execution_count": 19,
     "metadata": {},
     "output_type": "execute_result"
    }
   ],
   "source": [
    "exporters"
   ]
  },
  {
   "cell_type": "markdown",
   "id": "4fff34f4-7bc3-459f-bdd8-f13b4d401cd7",
   "metadata": {},
   "source": [
    "To export the data model we use the `DMSExporter`."
   ]
  },
  {
   "cell_type": "code",
   "execution_count": 20,
   "id": "f12fa605-90d7-4794-95ee-8d2cad1b0531",
   "metadata": {},
   "outputs": [
    {
     "data": {
      "text/html": [
       "<h3>DMSExporter</h3><p>Export rules to Cognite Data Fusion's Data Model Storage (DMS) service.</p>"
      ],
      "text/plain": [
       "cognite.neat.rules.exporters._rules2dms.DMSExporter"
      ]
     },
     "execution_count": 20,
     "metadata": {},
     "output_type": "execute_result"
    }
   ],
   "source": [
    "exporters.DMSExporter"
   ]
  },
  {
   "cell_type": "markdown",
   "id": "03c04ae9-48b1-4eee-96d5-7e409d6b6b0a",
   "metadata": {},
   "source": [
    "To export the rules, we need them in the DMS format, however, the `rules` we have are in Information format."
   ]
  },
  {
   "cell_type": "code",
   "execution_count": 21,
   "id": "83250eaf-035f-4d35-94dd-48755196c745",
   "metadata": {},
   "outputs": [
    {
     "data": {
      "text/plain": [
       "cognite.neat.rules.models.information._rules.InformationRules"
      ]
     },
     "execution_count": 21,
     "metadata": {},
     "output_type": "execute_result"
    }
   ],
   "source": [
    "type(rules)"
   ]
  },
  {
   "cell_type": "markdown",
   "id": "e7c2c698-9c72-4d60-8ec7-3cf9a35f839b",
   "metadata": {},
   "source": [
    "The information rules is used to model the information, while the DMS format is one of the implementation formats that Neat supports.\n",
    "\n",
    "Neat has an out-of-the box conversion from Information to DMS formats, however, it does not, for example, set indexes."
   ]
  },
  {
   "cell_type": "code",
   "execution_count": 22,
   "id": "2c3c1934-a9f0-4107-b8ad-7ed59bf311bc",
   "metadata": {},
   "outputs": [
    {
     "name": "stderr",
     "output_type": "stream",
     "text": [
      "C:\\Users\\AndersAlbert\\AppData\\Local\\pypoetry\\Cache\\virtualenvs\\cognite-neat-WszCo0Uu-py3.12\\Lib\\site-packages\\pydantic\\main.py:176: MoreThanOneNonAlphanumericCharacterWarning: ('property', 'Shape__Length')\n",
      "  self.__pydantic_validator__.validate_python(data, self_instance=self)\n"
     ]
    }
   ],
   "source": [
    "dms_rules = rules.as_dms_architect_rules()"
   ]
  },
  {
   "cell_type": "code",
   "execution_count": 23,
   "id": "323c12ce-7d07-454a-af0f-54b11233d884",
   "metadata": {},
   "outputs": [
    {
     "data": {
      "text/html": [
       "<div>\n",
       "<style scoped>\n",
       "    .dataframe tbody tr th:only-of-type {\n",
       "        vertical-align: middle;\n",
       "    }\n",
       "\n",
       "    .dataframe tbody tr th {\n",
       "        vertical-align: top;\n",
       "    }\n",
       "\n",
       "    .dataframe thead th {\n",
       "        text-align: right;\n",
       "    }\n",
       "</style>\n",
       "<table border=\"1\" class=\"dataframe\">\n",
       "  <thead>\n",
       "    <tr style=\"text-align: right;\">\n",
       "      <th></th>\n",
       "      <th>value</th>\n",
       "    </tr>\n",
       "  </thead>\n",
       "  <tbody>\n",
       "    <tr>\n",
       "      <th>role</th>\n",
       "      <td>DMS Architect</td>\n",
       "    </tr>\n",
       "    <tr>\n",
       "      <th>data_model_type</th>\n",
       "      <td>enterprise</td>\n",
       "    </tr>\n",
       "    <tr>\n",
       "      <th>schema_</th>\n",
       "      <td>partial</td>\n",
       "    </tr>\n",
       "    <tr>\n",
       "      <th>extension</th>\n",
       "      <td>addition</td>\n",
       "    </tr>\n",
       "    <tr>\n",
       "      <th>space</th>\n",
       "      <td>inferred</td>\n",
       "    </tr>\n",
       "    <tr>\n",
       "      <th>name</th>\n",
       "      <td>Inferred Model</td>\n",
       "    </tr>\n",
       "    <tr>\n",
       "      <th>description</th>\n",
       "      <td>None</td>\n",
       "    </tr>\n",
       "    <tr>\n",
       "      <th>external_id</th>\n",
       "      <td>inferred_model</td>\n",
       "    </tr>\n",
       "    <tr>\n",
       "      <th>version</th>\n",
       "      <td>inferred</td>\n",
       "    </tr>\n",
       "    <tr>\n",
       "      <th>creator</th>\n",
       "      <td>NEAT</td>\n",
       "    </tr>\n",
       "    <tr>\n",
       "      <th>created</th>\n",
       "      <td>2024-07-09 07:30:24.429571</td>\n",
       "    </tr>\n",
       "    <tr>\n",
       "      <th>updated</th>\n",
       "      <td>2024-07-09 07:30:24.429571</td>\n",
       "    </tr>\n",
       "  </tbody>\n",
       "</table>\n",
       "</div>"
      ],
      "text/plain": [
       "DMSMetadata(validators_to_skip=set(), data_model_type=<DataModelType.enterprise: 'enterprise'>, schema_=<SchemaCompleteness.partial: 'partial'>, extension=<ExtensionCategory.addition: 'addition'>, space='inferred', name='Inferred Model', description=None, external_id='inferred_model', version='inferred', creator=['NEAT'], created=datetime.datetime(2024, 7, 9, 7, 30, 24, 429571), updated=datetime.datetime(2024, 7, 9, 7, 30, 24, 429571))"
      ]
     },
     "execution_count": 23,
     "metadata": {},
     "output_type": "execute_result"
    }
   ],
   "source": [
    "dms_rules.metadata"
   ]
  },
  {
   "cell_type": "code",
   "execution_count": 24,
   "id": "88c2de5f-3a01-49ad-acf3-9b4a63259b28",
   "metadata": {},
   "outputs": [
    {
     "data": {
      "text/html": [
       "<div>\n",
       "<style scoped>\n",
       "    .dataframe tbody tr th:only-of-type {\n",
       "        vertical-align: middle;\n",
       "    }\n",
       "\n",
       "    .dataframe tbody tr th {\n",
       "        vertical-align: top;\n",
       "    }\n",
       "\n",
       "    .dataframe thead th {\n",
       "        text-align: right;\n",
       "    }\n",
       "</style>\n",
       "<table border=\"1\" class=\"dataframe\">\n",
       "  <thead>\n",
       "    <tr style=\"text-align: right;\">\n",
       "      <th></th>\n",
       "      <th>view</th>\n",
       "      <th>reference</th>\n",
       "      <th>in_model</th>\n",
       "      <th>class_</th>\n",
       "    </tr>\n",
       "  </thead>\n",
       "  <tbody>\n",
       "    <tr>\n",
       "      <th>0</th>\n",
       "      <td>inferred:Asset(version=inferred)</td>\n",
       "      <td>http://purl.org/cognite/neat#Asset</td>\n",
       "      <td>True</td>\n",
       "      <td>inferred:Asset</td>\n",
       "    </tr>\n",
       "  </tbody>\n",
       "</table>\n",
       "</div>"
      ],
      "text/plain": [
       "SheetList[DMSView](data=[DMSView(validators_to_skip=set(), view=view(prefix=inferred,suffix=Asset,version=inferred), name=None, description=None, implements=[], reference=Url('http://purl.org/cognite/neat#Asset'), filter_=None, in_model=True, class_=class(prefix=inferred,suffix=Asset))])"
      ]
     },
     "execution_count": 24,
     "metadata": {},
     "output_type": "execute_result"
    }
   ],
   "source": [
    "dms_rules.views"
   ]
  },
  {
   "cell_type": "code",
   "execution_count": 25,
   "id": "977b4058-4c85-46a6-914e-4cb7713fe276",
   "metadata": {},
   "outputs": [
    {
     "data": {
      "text/html": [
       "<div>\n",
       "<style scoped>\n",
       "    .dataframe tbody tr th:only-of-type {\n",
       "        vertical-align: middle;\n",
       "    }\n",
       "\n",
       "    .dataframe tbody tr th {\n",
       "        vertical-align: top;\n",
       "    }\n",
       "\n",
       "    .dataframe thead th {\n",
       "        text-align: right;\n",
       "    }\n",
       "</style>\n",
       "<table border=\"1\" class=\"dataframe\">\n",
       "  <thead>\n",
       "    <tr style=\"text-align: right;\">\n",
       "      <th></th>\n",
       "      <th>container</th>\n",
       "      <th>class_</th>\n",
       "    </tr>\n",
       "  </thead>\n",
       "  <tbody>\n",
       "    <tr>\n",
       "      <th>0</th>\n",
       "      <td>inferred:Asset</td>\n",
       "      <td>inferred:Asset</td>\n",
       "    </tr>\n",
       "  </tbody>\n",
       "</table>\n",
       "</div>"
      ],
      "text/plain": [
       "SheetList[DMSContainer](data=[DMSContainer(validators_to_skip=set(), container=container(prefix=inferred,suffix=Asset), name=None, description=None, reference=None, constraint=None, class_=class(prefix=inferred,suffix=Asset))])"
      ]
     },
     "execution_count": 25,
     "metadata": {},
     "output_type": "execute_result"
    }
   ],
   "source": [
    "dms_rules.containers"
   ]
  },
  {
   "cell_type": "markdown",
   "id": "00ff8604-ba68-4bd7-a9f7-86cc4e9aab06",
   "metadata": {},
   "source": [
    "If you want to modify the DMS rules it is recommented that you export them using the `ExcelExporter`, modify the resulting spreadsheet\n",
    "and import it using the `ExcelImporter`. For this tutorial, we are happy with the out-of-the-box DMS rules, so we just pass\n",
    "the `InformationRules` into the DMS exporter which will automatically do the conversion."
   ]
  },
  {
   "cell_type": "code",
   "execution_count": 26,
   "id": "5730c4c9-1244-4c7d-aa92-6ae8eb776921",
   "metadata": {},
   "outputs": [],
   "source": [
    "exporter = exporters.DMSExporter()"
   ]
  },
  {
   "cell_type": "code",
   "execution_count": 27,
   "id": "3b80bf89-bb8e-4b2b-923f-dd15fc003278",
   "metadata": {},
   "outputs": [
    {
     "name": "stderr",
     "output_type": "stream",
     "text": [
      "C:\\Users\\AndersAlbert\\AppData\\Local\\pypoetry\\Cache\\virtualenvs\\cognite-neat-WszCo0Uu-py3.12\\Lib\\site-packages\\pydantic\\main.py:176: MoreThanOneNonAlphanumericCharacterWarning: ('property', 'Shape__Length')\n",
      "  self.__pydantic_validator__.validate_python(data, self_instance=self)\n"
     ]
    }
   ],
   "source": [
    "result = exporter.export_to_cdf(rules, client)"
   ]
  },
  {
   "cell_type": "code",
   "execution_count": 28,
   "id": "2942f2bf-a5d8-49e4-bc44-9b77109ebdbb",
   "metadata": {},
   "outputs": [
    {
     "data": {
      "text/html": [
       "<div>\n",
       "<style scoped>\n",
       "    .dataframe tbody tr th:only-of-type {\n",
       "        vertical-align: middle;\n",
       "    }\n",
       "\n",
       "    .dataframe tbody tr th {\n",
       "        vertical-align: top;\n",
       "    }\n",
       "\n",
       "    .dataframe thead th {\n",
       "        text-align: right;\n",
       "    }\n",
       "</style>\n",
       "<table border=\"1\" class=\"dataframe\">\n",
       "  <thead>\n",
       "    <tr style=\"text-align: right;\">\n",
       "      <th></th>\n",
       "      <th>name</th>\n",
       "      <th>created</th>\n",
       "    </tr>\n",
       "  </thead>\n",
       "  <tbody>\n",
       "    <tr>\n",
       "      <th>0</th>\n",
       "      <td>spaces</td>\n",
       "      <td>1</td>\n",
       "    </tr>\n",
       "    <tr>\n",
       "      <th>1</th>\n",
       "      <td>containers</td>\n",
       "      <td>1</td>\n",
       "    </tr>\n",
       "    <tr>\n",
       "      <th>2</th>\n",
       "      <td>views</td>\n",
       "      <td>1</td>\n",
       "    </tr>\n",
       "    <tr>\n",
       "      <th>3</th>\n",
       "      <td>data_models</td>\n",
       "      <td>1</td>\n",
       "    </tr>\n",
       "  </tbody>\n",
       "</table>\n",
       "</div>"
      ],
      "text/plain": [
       "[UploadResult(name='spaces', error_messages=[], issues=[], created={'inferred'}, deleted=set(), changed=set(), unchanged=set(), skipped=set(), failed_created=set(), failed_upserted=set(), failed_changed=set(), failed_deleted=set()),\n",
       " UploadResult(name='containers', error_messages=[], issues=[], created={ContainerId(space='inferred', external_id='Asset')}, deleted=set(), changed=set(), unchanged=set(), skipped=set(), failed_created=set(), failed_upserted=set(), failed_changed=set(), failed_deleted=set()),\n",
       " UploadResult(name='views', error_messages=[], issues=[], created={ViewId(space='inferred', external_id='Asset', version='inferred')}, deleted=set(), changed=set(), unchanged=set(), skipped=set(), failed_created=set(), failed_upserted=set(), failed_changed=set(), failed_deleted=set()),\n",
       " UploadResult(name='data_models', error_messages=[], issues=[], created={DataModelId(space='inferred', external_id='inferred_model', version='inferred')}, deleted=set(), changed=set(), unchanged=set(), skipped=set(), failed_created=set(), failed_upserted=set(), failed_changed=set(), failed_deleted=set())]"
      ]
     },
     "execution_count": 28,
     "metadata": {},
     "output_type": "execute_result"
    }
   ],
   "source": [
    "result"
   ]
  },
  {
   "cell_type": "markdown",
   "id": "bd2035ef-0245-4d81-bced-ad1cc5cd6146",
   "metadata": {},
   "source": [
    "We see the data model was succesfully created."
   ]
  },
  {
   "cell_type": "markdown",
   "id": "13f75cfa-d61c-42c1-8c8e-dff153b95a50",
   "metadata": {},
   "source": [
    "## Populating Data Model"
   ]
  },
  {
   "cell_type": "markdown",
   "id": "13f6ebad-367e-4f3f-907f-d51c4f233091",
   "metadata": {},
   "source": [
    "To populate the data model in CDF, we use a loader."
   ]
  },
  {
   "cell_type": "code",
   "execution_count": 29,
   "id": "9a067f7c-7c4a-4520-99ff-a962111b85b2",
   "metadata": {},
   "outputs": [],
   "source": [
    "from cognite.neat.graph import loaders"
   ]
  },
  {
   "cell_type": "code",
   "execution_count": 30,
   "id": "f6bffb1a-43c5-450c-bdd3-beef9640c3a9",
   "metadata": {},
   "outputs": [
    {
     "data": {
      "text/html": [
       "<strong>Loader</strong> A loader writes data from Neat's triple storage into a target system<br /><div>\n",
       "<style scoped>\n",
       "    .dataframe tbody tr th:only-of-type {\n",
       "        vertical-align: middle;\n",
       "    }\n",
       "\n",
       "    .dataframe tbody tr th {\n",
       "        vertical-align: top;\n",
       "    }\n",
       "\n",
       "    .dataframe thead th {\n",
       "        text-align: right;\n",
       "    }\n",
       "</style>\n",
       "<table border=\"1\" class=\"dataframe\">\n",
       "  <thead>\n",
       "    <tr style=\"text-align: right;\">\n",
       "      <th></th>\n",
       "      <th>Loader</th>\n",
       "      <th>Description</th>\n",
       "    </tr>\n",
       "  </thead>\n",
       "  <tbody>\n",
       "    <tr>\n",
       "      <th>0</th>\n",
       "      <td>DMSLoader</td>\n",
       "      <td>Load data from Cognite Data Fusions Data Model...</td>\n",
       "    </tr>\n",
       "  </tbody>\n",
       "</table>\n",
       "</div>"
      ],
      "text/plain": [
       "<module 'cognite.neat.graph.loaders' from 'C:\\\\Users\\\\AndersAlbert\\\\Projects\\\\internal\\\\neat\\\\cognite\\\\neat\\\\graph\\\\loaders\\\\__init__.py'>"
      ]
     },
     "execution_count": 30,
     "metadata": {},
     "output_type": "execute_result"
    }
   ],
   "source": [
    "loaders"
   ]
  },
  {
   "cell_type": "code",
   "execution_count": 31,
   "id": "ddeaedf6-8ed6-4a67-84e1-d591798ace56",
   "metadata": {},
   "outputs": [
    {
     "data": {
      "text/html": [
       "<h3>DMSLoader</h3><p>Load data from Cognite Data Fusions Data Modeling Service (DMS) into Neat.<br /><strong>Available factory methods:</strong><br /><ul style=\"list-style-type:circle;\"><li><em>.from_data_model_id</em></li><li><em>.from_rules</em></li></ul></p>"
      ],
      "text/plain": [
       "cognite.neat.graph.loaders._rdf2dms.DMSLoader"
      ]
     },
     "execution_count": 31,
     "metadata": {},
     "output_type": "execute_result"
    }
   ],
   "source": [
    "loaders.DMSLoader"
   ]
  },
  {
   "cell_type": "markdown",
   "id": "bc0badfa-7827-4c0f-af0b-1434302f121e",
   "metadata": {},
   "source": [
    "To load the data from the graph store, we add the rules to the store"
   ]
  },
  {
   "cell_type": "code",
   "execution_count": 32,
   "id": "f325db09-25e1-45bf-86d8-c061c089647e",
   "metadata": {},
   "outputs": [],
   "source": [
    "store.add_rules(rules)"
   ]
  },
  {
   "cell_type": "code",
   "execution_count": 33,
   "id": "5ce26036-0311-4222-bd8d-72a892ec1dee",
   "metadata": {},
   "outputs": [
    {
     "data": {
      "text/html": [
       "<strong>NeatGraphStore</strong> A graph store is a container for storing triples. It can be queried and transformed to extract information.<br /><strong>Provenance</strong> Provenance is a record of changes that have occurred in the graph store.<br /><div>\n",
       "<style scoped>\n",
       "    .dataframe tbody tr th:only-of-type {\n",
       "        vertical-align: middle;\n",
       "    }\n",
       "\n",
       "    .dataframe tbody tr th {\n",
       "        vertical-align: top;\n",
       "    }\n",
       "\n",
       "    .dataframe thead th {\n",
       "        text-align: right;\n",
       "    }\n",
       "</style>\n",
       "<table border=\"1\" class=\"dataframe\">\n",
       "  <thead>\n",
       "    <tr style=\"text-align: right;\">\n",
       "      <th></th>\n",
       "      <th>Agent</th>\n",
       "      <th>Activity</th>\n",
       "      <th>Entity</th>\n",
       "      <th>Description</th>\n",
       "    </tr>\n",
       "  </thead>\n",
       "  <tbody>\n",
       "    <tr>\n",
       "      <th>0</th>\n",
       "      <td>http://purl.org/cognite/neat#agent</td>\n",
       "      <td>http://purl.org/cognite/neat#activity-b2c2ee23...</td>\n",
       "      <td>http://purl.org/cognite/neat#graph-store</td>\n",
       "      <td>Initialize graph store as Memory</td>\n",
       "    </tr>\n",
       "    <tr>\n",
       "      <th>1</th>\n",
       "      <td>http://purl.org/cognite/neat#agent</td>\n",
       "      <td>http://purl.org/cognite/neat#activity-b2c2ee23...</td>\n",
       "      <td>http://purl.org/cognite/neat#graph-store</td>\n",
       "      <td>Extracted triples to graph store using AssetsE...</td>\n",
       "    </tr>\n",
       "    <tr>\n",
       "      <th>2</th>\n",
       "      <td>http://purl.org/cognite/neat#agent</td>\n",
       "      <td>http://purl.org/cognite/neat#activity-b2c2ee23...</td>\n",
       "      <td>http://purl.org/cognite/neat#graph-store</td>\n",
       "      <td>Added rules to graph store as InformationRules</td>\n",
       "    </tr>\n",
       "    <tr>\n",
       "      <th>3</th>\n",
       "      <td>http://purl.org/cognite/neat#agent</td>\n",
       "      <td>http://purl.org/cognite/neat#activity-b2c2ee23...</td>\n",
       "      <td>http://purl.org/cognite/neat#graph-store</td>\n",
       "      <td>Upsert prefixes to graph store</td>\n",
       "    </tr>\n",
       "  </tbody>\n",
       "</table>\n",
       "</div>"
      ],
      "text/plain": [
       "<cognite.neat.graph.stores._base.NeatGraphStore at 0x246c0130590>"
      ]
     },
     "execution_count": 33,
     "metadata": {},
     "output_type": "execute_result"
    }
   ],
   "source": [
    "store"
   ]
  },
  {
   "cell_type": "markdown",
   "id": "6459b0c0-3843-4bcc-9f17-fd675de160f4",
   "metadata": {},
   "source": [
    "This is necessary for the store to be ready to load data to an extrenal system. Note that by adding the `rules` to the store\n",
    "the prefixes has been updated to match the rules object. This is how the loader knows which triples to fetch from the store."
   ]
  },
  {
   "cell_type": "markdown",
   "id": "0f8d5ce7-e79d-418c-b7a3-89a7a9337143",
   "metadata": {},
   "source": [
    "First, we ensure the instance space exists."
   ]
  },
  {
   "cell_type": "code",
   "execution_count": 34,
   "id": "8ebacc8b-11c6-458b-ad72-3dd582aefbdf",
   "metadata": {},
   "outputs": [],
   "source": [
    "from cognite.client import data_modeling as dm"
   ]
  },
  {
   "cell_type": "code",
   "execution_count": 35,
   "id": "23c53e60-98e3-4de2-8874-83b8c618c2fc",
   "metadata": {},
   "outputs": [
    {
     "data": {
      "text/html": [
       "<div>\n",
       "<style scoped>\n",
       "    .dataframe tbody tr th:only-of-type {\n",
       "        vertical-align: middle;\n",
       "    }\n",
       "\n",
       "    .dataframe tbody tr th {\n",
       "        vertical-align: top;\n",
       "    }\n",
       "\n",
       "    .dataframe thead th {\n",
       "        text-align: right;\n",
       "    }\n",
       "</style>\n",
       "<table border=\"1\" class=\"dataframe\">\n",
       "  <thead>\n",
       "    <tr style=\"text-align: right;\">\n",
       "      <th></th>\n",
       "      <th>value</th>\n",
       "    </tr>\n",
       "  </thead>\n",
       "  <tbody>\n",
       "    <tr>\n",
       "      <th>space</th>\n",
       "      <td>sp_pump_station</td>\n",
       "    </tr>\n",
       "    <tr>\n",
       "      <th>is_global</th>\n",
       "      <td>False</td>\n",
       "    </tr>\n",
       "    <tr>\n",
       "      <th>last_updated_time</th>\n",
       "      <td>2024-07-09 05:31:00.944000</td>\n",
       "    </tr>\n",
       "    <tr>\n",
       "      <th>created_time</th>\n",
       "      <td>2024-07-09 05:31:00.944000</td>\n",
       "    </tr>\n",
       "  </tbody>\n",
       "</table>\n",
       "</div>"
      ],
      "text/plain": [
       "<Space(space='sp_pump_station') at 0x246db9a5c10>"
      ]
     },
     "execution_count": 35,
     "metadata": {},
     "output_type": "execute_result"
    }
   ],
   "source": [
    "created = client.data_modeling.spaces.apply(dm.SpaceApply(\"sp_pump_station\"))\n",
    "created"
   ]
  },
  {
   "cell_type": "markdown",
   "id": "75b0669d-f5ee-49f6-a8b4-d4b1061b0e7f",
   "metadata": {},
   "source": [
    "We can now use the loader to populate the data model in CDF."
   ]
  },
  {
   "cell_type": "markdown",
   "id": "8a4b48ff-95d9-4fd5-82e0-69b8686e1c8e",
   "metadata": {},
   "source": [
    "Note that the `DMSLoader` requires that we have the `DMSRules` format, so we pass in the DMS rules we created above.\n",
    "\n",
    "Alternatively, we can create the loader by passing in a data model ID."
   ]
  },
  {
   "cell_type": "code",
   "execution_count": 36,
   "id": "8e171577-e0f0-4f68-941f-261eb77315d7",
   "metadata": {},
   "outputs": [],
   "source": [
    "loader = loaders.DMSLoader.from_rules(dms_rules, store, instance_space=\"sp_pump_station\")"
   ]
  },
  {
   "cell_type": "code",
   "execution_count": 37,
   "id": "9780e893-d6a3-4d4c-bf80-8e145d454bee",
   "metadata": {},
   "outputs": [],
   "source": [
    "result = loader.load_into_cdf(client)"
   ]
  },
  {
   "cell_type": "code",
   "execution_count": 38,
   "id": "da14fb04-b6f2-40aa-b549-d19abfe7247d",
   "metadata": {},
   "outputs": [
    {
     "data": {
      "text/html": [
       "<div>\n",
       "<style scoped>\n",
       "    .dataframe tbody tr th:only-of-type {\n",
       "        vertical-align: middle;\n",
       "    }\n",
       "\n",
       "    .dataframe tbody tr th {\n",
       "        vertical-align: top;\n",
       "    }\n",
       "\n",
       "    .dataframe thead th {\n",
       "        text-align: right;\n",
       "    }\n",
       "</style>\n",
       "<table border=\"1\" class=\"dataframe\">\n",
       "  <thead>\n",
       "    <tr style=\"text-align: right;\">\n",
       "      <th></th>\n",
       "      <th>name</th>\n",
       "      <th>created</th>\n",
       "    </tr>\n",
       "  </thead>\n",
       "  <tbody>\n",
       "    <tr>\n",
       "      <th>0</th>\n",
       "      <td>Nodes</td>\n",
       "      <td>245.0</td>\n",
       "    </tr>\n",
       "    <tr>\n",
       "      <th>1</th>\n",
       "      <td>Edges</td>\n",
       "      <td>NaN</td>\n",
       "    </tr>\n",
       "  </tbody>\n",
       "</table>\n",
       "</div>"
      ],
      "text/plain": [
       "[UploadResult(name='Nodes', error_messages=[], issues=[], created={NodeId(space='sp_pump_station', external_id='Asset_1599542126336595'), NodeId(space='sp_pump_station', external_id='Asset_1328367249298685'), NodeId(space='sp_pump_station', external_id='Asset_8536226378041620'), NodeId(space='sp_pump_station', external_id='Asset_5687470951999200'), NodeId(space='sp_pump_station', external_id='Asset_2738034707487198'), NodeId(space='sp_pump_station', external_id='Asset_2011390888860506'), NodeId(space='sp_pump_station', external_id='Asset_1717136324291166'), NodeId(space='sp_pump_station', external_id='Asset_673071391885663'), NodeId(space='sp_pump_station', external_id='Asset_3009457875737229'), NodeId(space='sp_pump_station', external_id='Asset_3253702221176761'), NodeId(space='sp_pump_station', external_id='Asset_2041897821048926'), NodeId(space='sp_pump_station', external_id='Asset_5773835011768211'), NodeId(space='sp_pump_station', external_id='Asset_791284880355712'), NodeId(space='sp_pump_station', external_id='Asset_720243198469901'), NodeId(space='sp_pump_station', external_id='Asset_6276047304545772'), NodeId(space='sp_pump_station', external_id='Asset_779363703909879'), NodeId(space='sp_pump_station', external_id='Asset_765927258989033'), NodeId(space='sp_pump_station', external_id='Asset_8149656736332002'), NodeId(space='sp_pump_station', external_id='Asset_3912512319616642'), NodeId(space='sp_pump_station', external_id='Asset_2614391887415841'), NodeId(space='sp_pump_station', external_id='Asset_2622548696369535'), NodeId(space='sp_pump_station', external_id='Asset_4030282795820257'), NodeId(space='sp_pump_station', external_id='Asset_597713956124653'), NodeId(space='sp_pump_station', external_id='Asset_1036635642295968'), NodeId(space='sp_pump_station', external_id='Asset_6264128498357271'), NodeId(space='sp_pump_station', external_id='Asset_4487513710880340'), NodeId(space='sp_pump_station', external_id='Asset_690992856868092'), NodeId(space='sp_pump_station', external_id='Asset_4356678455013717'), NodeId(space='sp_pump_station', external_id='Asset_4139420867004251'), NodeId(space='sp_pump_station', external_id='Asset_3718586005996830'), NodeId(space='sp_pump_station', external_id='Asset_7412273070008116'), NodeId(space='sp_pump_station', external_id='Asset_2534347363555646'), NodeId(space='sp_pump_station', external_id='Asset_8906381697072008'), NodeId(space='sp_pump_station', external_id='Asset_2648639705661733'), NodeId(space='sp_pump_station', external_id='Asset_8786769086021865'), NodeId(space='sp_pump_station', external_id='Asset_8855980446983123'), NodeId(space='sp_pump_station', external_id='Asset_6996457070033380'), NodeId(space='sp_pump_station', external_id='Asset_5991677408633367'), NodeId(space='sp_pump_station', external_id='Asset_1424210982323954'), NodeId(space='sp_pump_station', external_id='Asset_1304177008138755'), NodeId(space='sp_pump_station', external_id='Asset_413299123404753'), NodeId(space='sp_pump_station', external_id='Asset_8724043116543799'), NodeId(space='sp_pump_station', external_id='Asset_3543366413287754'), NodeId(space='sp_pump_station', external_id='Asset_2383890056251078'), NodeId(space='sp_pump_station', external_id='Asset_3322086940842206'), NodeId(space='sp_pump_station', external_id='Asset_862846106956486'), NodeId(space='sp_pump_station', external_id='Asset_3282403756294926'), NodeId(space='sp_pump_station', external_id='Asset_1602743241841442'), NodeId(space='sp_pump_station', external_id='Asset_6499093917037259'), NodeId(space='sp_pump_station', external_id='Asset_7062323820650437'), NodeId(space='sp_pump_station', external_id='Asset_2109398666822135'), NodeId(space='sp_pump_station', external_id='Asset_8808794232286601'), NodeId(space='sp_pump_station', external_id='Asset_8628246215971298'), NodeId(space='sp_pump_station', external_id='Asset_6781772664404616'), NodeId(space='sp_pump_station', external_id='Asset_4161802645953289'), NodeId(space='sp_pump_station', external_id='Asset_6643904356520272'), NodeId(space='sp_pump_station', external_id='Asset_5087293594250586'), NodeId(space='sp_pump_station', external_id='Asset_8058069339001352'), NodeId(space='sp_pump_station', external_id='Asset_1324043696796177'), NodeId(space='sp_pump_station', external_id='Asset_2479470568519150'), NodeId(space='sp_pump_station', external_id='Asset_2046186730180729'), NodeId(space='sp_pump_station', external_id='Asset_8222636825254386'), NodeId(space='sp_pump_station', external_id='Asset_8553994241961892'), NodeId(space='sp_pump_station', external_id='Asset_1037825783121772'), NodeId(space='sp_pump_station', external_id='Asset_4611308323382841'), NodeId(space='sp_pump_station', external_id='Asset_8796025392183616'), NodeId(space='sp_pump_station', external_id='Asset_3742073732470345'), NodeId(space='sp_pump_station', external_id='Asset_269634716915797'), NodeId(space='sp_pump_station', external_id='Asset_1864313623913141'), NodeId(space='sp_pump_station', external_id='Asset_4198593876687587'), NodeId(space='sp_pump_station', external_id='Asset_1774832114371582'), NodeId(space='sp_pump_station', external_id='Asset_4891974892606772'), NodeId(space='sp_pump_station', external_id='Asset_127734001123260'), NodeId(space='sp_pump_station', external_id='Asset_8233413405577277'), NodeId(space='sp_pump_station', external_id='Asset_2023737592746820'), NodeId(space='sp_pump_station', external_id='Asset_7894177745270490'), NodeId(space='sp_pump_station', external_id='Asset_8319154213336032'), NodeId(space='sp_pump_station', external_id='Asset_2094973082337502'), NodeId(space='sp_pump_station', external_id='Asset_5547362797792188'), NodeId(space='sp_pump_station', external_id='Asset_7267922459333514'), NodeId(space='sp_pump_station', external_id='Asset_7203345045002373'), NodeId(space='sp_pump_station', external_id='Asset_5135123609065026'), NodeId(space='sp_pump_station', external_id='Asset_285703678588887'), NodeId(space='sp_pump_station', external_id='Asset_6004900365929538'), NodeId(space='sp_pump_station', external_id='Asset_7850022972804616'), NodeId(space='sp_pump_station', external_id='Asset_7528927086455056'), NodeId(space='sp_pump_station', external_id='Asset_5041263389346470'), NodeId(space='sp_pump_station', external_id='Asset_5019118534073978'), NodeId(space='sp_pump_station', external_id='Asset_1251681124138604'), NodeId(space='sp_pump_station', external_id='Asset_2511536057605256'), NodeId(space='sp_pump_station', external_id='Asset_3555954990835329'), NodeId(space='sp_pump_station', external_id='Asset_8504798483669198'), NodeId(space='sp_pump_station', external_id='Asset_6819169398550305'), NodeId(space='sp_pump_station', external_id='Asset_6664824877870138'), NodeId(space='sp_pump_station', external_id='Asset_996835369435603'), NodeId(space='sp_pump_station', external_id='Asset_1575285876968678'), NodeId(space='sp_pump_station', external_id='Asset_1225335557735852'), NodeId(space='sp_pump_station', external_id='Asset_8481426694002548'), NodeId(space='sp_pump_station', external_id='Asset_3280739856601792'), NodeId(space='sp_pump_station', external_id='Asset_5545507452452289'), NodeId(space='sp_pump_station', external_id='Asset_2336737113812249'), NodeId(space='sp_pump_station', external_id='Asset_81467243787762'), NodeId(space='sp_pump_station', external_id='Asset_3659337637509008'), NodeId(space='sp_pump_station', external_id='Asset_8523137874354911'), NodeId(space='sp_pump_station', external_id='Asset_4712097420257305'), NodeId(space='sp_pump_station', external_id='Asset_4827422846791984'), NodeId(space='sp_pump_station', external_id='Asset_4776644471418856'), NodeId(space='sp_pump_station', external_id='Asset_7266418315229309'), NodeId(space='sp_pump_station', external_id='Asset_6641759103584656'), NodeId(space='sp_pump_station', external_id='Asset_1038381373070659'), NodeId(space='sp_pump_station', external_id='Asset_8706147153757321'), NodeId(space='sp_pump_station', external_id='Asset_7892354435770575'), NodeId(space='sp_pump_station', external_id='Asset_1249607927059004'), NodeId(space='sp_pump_station', external_id='Asset_8878199396116383'), NodeId(space='sp_pump_station', external_id='Asset_8064479308748326'), NodeId(space='sp_pump_station', external_id='Asset_5281038386138027'), NodeId(space='sp_pump_station', external_id='Asset_8146710551744753'), NodeId(space='sp_pump_station', external_id='Asset_8786745865150192'), NodeId(space='sp_pump_station', external_id='Asset_7836353321625289'), NodeId(space='sp_pump_station', external_id='Asset_6564758760526211'), NodeId(space='sp_pump_station', external_id='Asset_6779172796182945'), NodeId(space='sp_pump_station', external_id='Asset_227176319156396'), NodeId(space='sp_pump_station', external_id='Asset_8925755907669641'), NodeId(space='sp_pump_station', external_id='Asset_2084401469825731'), NodeId(space='sp_pump_station', external_id='Asset_7047173837936574'), NodeId(space='sp_pump_station', external_id='Asset_6717164076357170'), NodeId(space='sp_pump_station', external_id='Asset_8858634333103219'), NodeId(space='sp_pump_station', external_id='Asset_2990577136288617'), NodeId(space='sp_pump_station', external_id='Asset_4232408171704947'), NodeId(space='sp_pump_station', external_id='Asset_2736664555336384'), NodeId(space='sp_pump_station', external_id='Asset_1194729803680100'), NodeId(space='sp_pump_station', external_id='Asset_4282637232083446'), NodeId(space='sp_pump_station', external_id='Asset_7004541113243114'), NodeId(space='sp_pump_station', external_id='Asset_1432498771938483'), NodeId(space='sp_pump_station', external_id='Asset_8174955310442028'), NodeId(space='sp_pump_station', external_id='Asset_6451825071660398'), NodeId(space='sp_pump_station', external_id='Asset_165156832820784'), NodeId(space='sp_pump_station', external_id='Asset_7478288481786780'), NodeId(space='sp_pump_station', external_id='Asset_2086072639670581'), NodeId(space='sp_pump_station', external_id='Asset_5168608124271064'), NodeId(space='sp_pump_station', external_id='Asset_323324050354647'), NodeId(space='sp_pump_station', external_id='Asset_5130211688970126'), NodeId(space='sp_pump_station', external_id='Asset_3586569534260203'), NodeId(space='sp_pump_station', external_id='Asset_4982518105700769'), NodeId(space='sp_pump_station', external_id='Asset_7516256968258946'), NodeId(space='sp_pump_station', external_id='Asset_3814858014848944'), NodeId(space='sp_pump_station', external_id='Asset_4552624840004426'), NodeId(space='sp_pump_station', external_id='Asset_5007277578782055'), NodeId(space='sp_pump_station', external_id='Asset_5131927739646770'), NodeId(space='sp_pump_station', external_id='Asset_2508670135160060'), NodeId(space='sp_pump_station', external_id='Asset_4752540074534822'), NodeId(space='sp_pump_station', external_id='Asset_4072884896428048'), NodeId(space='sp_pump_station', external_id='Asset_3202643099427992'), NodeId(space='sp_pump_station', external_id='Asset_1994529305403431'), NodeId(space='sp_pump_station', external_id='Asset_5333316208400622'), NodeId(space='sp_pump_station', external_id='Asset_2252447920800496'), NodeId(space='sp_pump_station', external_id='Asset_3790466002578495'), NodeId(space='sp_pump_station', external_id='Asset_836522380797694'), NodeId(space='sp_pump_station', external_id='Asset_2879000772727558'), NodeId(space='sp_pump_station', external_id='Asset_3886073802761259'), NodeId(space='sp_pump_station', external_id='Asset_522426732998405'), NodeId(space='sp_pump_station', external_id='Asset_4822096456178490'), NodeId(space='sp_pump_station', external_id='Asset_8236357046250336'), NodeId(space='sp_pump_station', external_id='Asset_813431221291430'), NodeId(space='sp_pump_station', external_id='Asset_771688114151184'), NodeId(space='sp_pump_station', external_id='Asset_3927731196795261'), NodeId(space='sp_pump_station', external_id='Asset_3281981391093912'), NodeId(space='sp_pump_station', external_id='Asset_520686293117320'), NodeId(space='sp_pump_station', external_id='Asset_1648354084107813'), NodeId(space='sp_pump_station', external_id='Asset_3167103698462272'), NodeId(space='sp_pump_station', external_id='Asset_7946696422000355'), NodeId(space='sp_pump_station', external_id='Asset_6841838289417335'), NodeId(space='sp_pump_station', external_id='Asset_3452092217821423'), NodeId(space='sp_pump_station', external_id='Asset_5715782298837748'), NodeId(space='sp_pump_station', external_id='Asset_3192880850822919'), NodeId(space='sp_pump_station', external_id='Asset_663950299702707'), NodeId(space='sp_pump_station', external_id='Asset_449616738664544'), NodeId(space='sp_pump_station', external_id='Asset_5413774089595059'), NodeId(space='sp_pump_station', external_id='Asset_8210406762466554'), NodeId(space='sp_pump_station', external_id='Asset_3925087570184060'), NodeId(space='sp_pump_station', external_id='Asset_3543745228672494'), NodeId(space='sp_pump_station', external_id='Asset_8056653045323204'), NodeId(space='sp_pump_station', external_id='Asset_5328233515028106'), NodeId(space='sp_pump_station', external_id='Asset_2460227122870007'), NodeId(space='sp_pump_station', external_id='Asset_6495798019337129'), NodeId(space='sp_pump_station', external_id='Asset_7098679359189829'), NodeId(space='sp_pump_station', external_id='Asset_8465364910017703'), NodeId(space='sp_pump_station', external_id='Asset_2395276745188968'), NodeId(space='sp_pump_station', external_id='Asset_6410548171595891'), NodeId(space='sp_pump_station', external_id='Asset_6037474207471867'), NodeId(space='sp_pump_station', external_id='Asset_409408085016912'), NodeId(space='sp_pump_station', external_id='Asset_6391337840888778'), NodeId(space='sp_pump_station', external_id='Asset_8393774212294989'), NodeId(space='sp_pump_station', external_id='Asset_1179620013510534'), NodeId(space='sp_pump_station', external_id='Asset_3947736878768533'), NodeId(space='sp_pump_station', external_id='Asset_962578142683188'), NodeId(space='sp_pump_station', external_id='Asset_8279593367922084'), NodeId(space='sp_pump_station', external_id='Asset_1350559385255241'), NodeId(space='sp_pump_station', external_id='Asset_4582156459236482'), NodeId(space='sp_pump_station', external_id='Asset_6700162977207830'), NodeId(space='sp_pump_station', external_id='Asset_7434639041955664'), NodeId(space='sp_pump_station', external_id='Asset_756443337825960'), NodeId(space='sp_pump_station', external_id='Asset_3966852611906380'), NodeId(space='sp_pump_station', external_id='Asset_8890997887425292'), NodeId(space='sp_pump_station', external_id='Asset_1869006072570857'), NodeId(space='sp_pump_station', external_id='Asset_5155311610956039'), NodeId(space='sp_pump_station', external_id='Asset_7478847799313763'), NodeId(space='sp_pump_station', external_id='Asset_782919551178381'), NodeId(space='sp_pump_station', external_id='Asset_5076110772903317'), NodeId(space='sp_pump_station', external_id='Asset_1496076023751088'), NodeId(space='sp_pump_station', external_id='Asset_23921452012034'), NodeId(space='sp_pump_station', external_id='Asset_385619558573894'), NodeId(space='sp_pump_station', external_id='Asset_7136850922305786'), NodeId(space='sp_pump_station', external_id='Asset_8068837493233743'), NodeId(space='sp_pump_station', external_id='Asset_2659669230977122'), NodeId(space='sp_pump_station', external_id='Asset_3515282769165525'), NodeId(space='sp_pump_station', external_id='Asset_2332136792376110'), NodeId(space='sp_pump_station', external_id='Asset_682395660264665'), NodeId(space='sp_pump_station', external_id='Asset_8770242167137269'), NodeId(space='sp_pump_station', external_id='Asset_2798673936255507'), NodeId(space='sp_pump_station', external_id='Asset_6416891387482527'), NodeId(space='sp_pump_station', external_id='Asset_5428549865274207'), NodeId(space='sp_pump_station', external_id='Asset_8526018147369023'), NodeId(space='sp_pump_station', external_id='Asset_1336187237481974'), NodeId(space='sp_pump_station', external_id='Asset_111670655968193'), NodeId(space='sp_pump_station', external_id='Asset_1357508377455386'), NodeId(space='sp_pump_station', external_id='Asset_7523396261491280'), NodeId(space='sp_pump_station', external_id='Asset_4093409240484544'), NodeId(space='sp_pump_station', external_id='Asset_7245358762439012'), NodeId(space='sp_pump_station', external_id='Asset_8677060254799529'), NodeId(space='sp_pump_station', external_id='Asset_6614542201323700'), NodeId(space='sp_pump_station', external_id='Asset_7858499984800024'), NodeId(space='sp_pump_station', external_id='Asset_1062857167709404'), NodeId(space='sp_pump_station', external_id='Asset_8349112794292547'), NodeId(space='sp_pump_station', external_id='Asset_465559698381891'), NodeId(space='sp_pump_station', external_id='Asset_3309648858394308'), NodeId(space='sp_pump_station', external_id='Asset_2849528494272170'), NodeId(space='sp_pump_station', external_id='Asset_3183377929919962'), NodeId(space='sp_pump_station', external_id='Asset_777675583540505'), NodeId(space='sp_pump_station', external_id='Asset_7806404385295025'), NodeId(space='sp_pump_station', external_id='Asset_8843530297877179'), NodeId(space='sp_pump_station', external_id='Asset_4226675102638478'), NodeId(space='sp_pump_station', external_id='Asset_4261713708156963'), NodeId(space='sp_pump_station', external_id='Asset_6480569031884264'), NodeId(space='sp_pump_station', external_id='Asset_3015520698705176')}, deleted=set(), changed=set(), unchanged=set(), skipped=set(), failed_created=set(), failed_upserted=set(), failed_changed=set(), failed_deleted=set()),\n",
       " UploadResult(name='Edges', error_messages=[], issues=[], created=set(), deleted=set(), changed=set(), unchanged=set(), skipped=set(), failed_created=set(), failed_upserted=set(), failed_changed=set(), failed_deleted=set())]"
      ]
     },
     "execution_count": 38,
     "metadata": {},
     "output_type": "execute_result"
    }
   ],
   "source": [
    "result"
   ]
  },
  {
   "cell_type": "markdown",
   "id": "1b67f189-17b9-44e7-b43f-286f95708dea",
   "metadata": {},
   "source": [
    "As we see from the result above, Neat has created 245 Nodes in the new data model."
   ]
  },
  {
   "cell_type": "markdown",
   "id": "e9cf8808-f940-4ffc-91d0-4bfdcc36524f",
   "metadata": {},
   "source": [
    "## Results"
   ]
  },
  {
   "cell_type": "markdown",
   "id": "ff361f69-e916-493c-ab73-3c3c2777084b",
   "metadata": {},
   "source": [
    "We can now go into CDF and inspect the results. Looking at the data model we created, we can see the schema for\n",
    "the inferred Asset\n",
    "\n",
    "<img src=\"../artifacts/figs/asset_hierarchy_lift_pump_stations_dms.png\" width=\"400\">"
   ]
  },
  {
   "cell_type": "markdown",
   "id": "65e9ed2b-bfc6-4dc9-b259-54a820762c67",
   "metadata": {},
   "source": [
    "Furthermore, we can inspect the populated nodes in this Asset schema\n",
    "\n",
    "<img src=\"../artifacts/figs/asset_hierarchy_lift_pump_stations_populated.png\" width=\"1000\">"
   ]
  },
  {
   "cell_type": "markdown",
   "id": "9e5a73f8-9c61-4ad0-8e83-c0e7cad82b2d",
   "metadata": {},
   "source": [
    "## Final Remarks"
   ]
  },
  {
   "cell_type": "markdown",
   "id": "a9ad07d2-86fd-46cf-89bf-d7827577f5bf",
   "metadata": {},
   "source": [
    "* In this tutorial, we used the in-memory version of the Neat store. This works well for small examples, like the toy example here, but for larger asset hierarchies we need to likely use a faster triple store such as `GraphDB` or `Oxigraph`. These are also available in Neat, but might require extra dependencies.\n",
    "* This can be considered the first step of a full migration. At least two related problems may remain\n",
    "    1. First, we might want to infer a more specific type than `Asset`, for example, `Pump` and `LiftStation`. This means adding information that is not explicitly set in the existing Asset Hierarchy. The type might be implicitly defined from the level in the hierarchy, or for example, the external ID of the asset.\n",
    "    2. We might want to map the inferred model onto an existing data model. It this case the existing model would be an `EnterpriseModel` and the inferred model we obtained here would be a `Source` model. \n"
   ]
  },
  {
   "cell_type": "code",
   "execution_count": null,
   "id": "5218d828-b642-4a55-a8b3-fdc7d73fb790",
   "metadata": {},
   "outputs": [],
   "source": []
  }
 ],
 "metadata": {
  "kernelspec": {
   "display_name": "Python 3 (ipykernel)",
   "language": "python",
   "name": "python3"
  },
  "language_info": {
   "codemirror_mode": {
    "name": "ipython",
    "version": 3
   },
   "file_extension": ".py",
   "mimetype": "text/x-python",
   "name": "python",
   "nbconvert_exporter": "python",
   "pygments_lexer": "ipython3",
   "version": "3.12.1"
  }
 },
 "nbformat": 4,
 "nbformat_minor": 5
}
